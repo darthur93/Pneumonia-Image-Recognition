{
 "cells": [
  {
   "cell_type": "markdown",
   "metadata": {},
   "source": [
    "## Load Packages"
   ]
  },
  {
   "cell_type": "code",
   "execution_count": 1,
   "metadata": {},
   "outputs": [],
   "source": [
    "import pandas as pd\n",
    "import numpy as np\n",
    "import matplotlib.pyplot as plt\n",
    "import os\n",
    "import tensorflow as tf\n",
    "import seaborn as sns\n",
    "\n",
    "from sklearn.model_selection import train_test_split\n",
    "from sklearn.metrics import confusion_matrix\n",
    "\n",
    "from keras.preprocessing.image import ImageDataGenerator, array_to_img, img_to_array, load_img\n",
    "from keras import models, layers, regularizers\n",
    "from keras import layers\n",
    "from keras.callbacks import EarlyStopping, ModelCheckpoint"
   ]
  },
  {
   "cell_type": "markdown",
   "metadata": {},
   "source": [
    "## Load data\n",
    "\n",
    "#### We use grayscale color mode since these are X-ray images. Binary class mode is used to distinguish between normal and pneumonia images."
   ]
  },
  {
   "cell_type": "code",
   "execution_count": 2,
   "metadata": {},
   "outputs": [
    {
     "name": "stdout",
     "output_type": "stream",
     "text": [
      "Found 624 images belonging to 2 classes.\n",
      "Found 5232 images belonging to 2 classes.\n"
     ]
    }
   ],
   "source": [
    "train_data_dir = 'ZhangLabData/CellData/chest_xray/train'\n",
    "test_data_dir = 'ZhangLabData/CellData/chest_xray/test'\n",
    "\n",
    "#Get all the data in the directory data/validation (132 images), and reshape them\n",
    "test_generator = ImageDataGenerator().flow_from_directory(\n",
    "       test_data_dir, \n",
    "       target_size=(64, 64), batch_size=132, color_mode='grayscale', class_mode='binary')\n",
    "\n",
    "#Get all the data in the directory data/train (790 images), and reshape them\n",
    "train_generator = ImageDataGenerator().flow_from_directory(\n",
    "       train_data_dir, \n",
    "       target_size=(64, 64), batch_size=790, color_mode='grayscale', class_mode='binary')\n",
    "\n",
    "#Create the datasets\n",
    "train_images, train_labels = next(train_generator)\n",
    "test_images, test_labels = next(test_generator)"
   ]
  },
  {
   "cell_type": "code",
   "execution_count": 3,
   "metadata": {
    "scrolled": true
   },
   "outputs": [
    {
     "name": "stdout",
     "output_type": "stream",
     "text": [
      "[1. 1. 1. 1. 0. 1. 1. 1. 1. 1.]\n"
     ]
    }
   ],
   "source": [
    "print(train_labels[:10])"
   ]
  },
  {
   "cell_type": "markdown",
   "metadata": {},
   "source": [
    "## PREPROCESSING\n",
    "#### Create validation set from training set"
   ]
  },
  {
   "cell_type": "code",
   "execution_count": 4,
   "metadata": {},
   "outputs": [],
   "source": [
    "X = train_images\n",
    "y = train_labels\n",
    "\n",
    "X_train, X_val, y_train, y_val = train_test_split(X, y, test_size=0.2, random_state=42)\n",
    "\n"
   ]
  },
  {
   "cell_type": "code",
   "execution_count": 5,
   "metadata": {},
   "outputs": [
    {
     "data": {
      "text/plain": [
       "(790, 64, 64, 1)"
      ]
     },
     "execution_count": 5,
     "metadata": {},
     "output_type": "execute_result"
    }
   ],
   "source": [
    "train_images.shape"
   ]
  },
  {
   "cell_type": "markdown",
   "metadata": {},
   "source": [
    "#### Preview images (Normal)"
   ]
  },
  {
   "cell_type": "code",
   "execution_count": 6,
   "metadata": {},
   "outputs": [
    {
     "name": "stdout",
     "output_type": "stream",
     "text": [
      "X_train shape:  (632, 64, 64, 1)\n",
      "y_train shape:  (632,)\n",
      "X_val shape:  (158, 64, 64, 1)\n",
      "y_val shape:  (158,)\n"
     ]
    }
   ],
   "source": [
    "print('X_train shape: ',np.shape(X_train))\n",
    "print('y_train shape: ',np.shape(y_train))\n",
    "print('X_val shape: ',np.shape(X_val))\n",
    "print('y_val shape: ',np.shape(y_val))"
   ]
  },
  {
   "cell_type": "code",
   "execution_count": 7,
   "metadata": {},
   "outputs": [
    {
     "data": {
      "text/plain": [
       "(132, 64, 64, 1)"
      ]
     },
     "execution_count": 7,
     "metadata": {},
     "output_type": "execute_result"
    }
   ],
   "source": [
    "test_images.shape"
   ]
  },
  {
   "cell_type": "markdown",
   "metadata": {},
   "source": [
    "#### Reshape  images"
   ]
  },
  {
   "cell_type": "code",
   "execution_count": 8,
   "metadata": {},
   "outputs": [
    {
     "data": {
      "text/plain": [
       "(632, 4096)"
      ]
     },
     "execution_count": 8,
     "metadata": {},
     "output_type": "execute_result"
    }
   ],
   "source": [
    "#train set\n",
    "X_train_unrow = X_train.reshape(632, -1)\n",
    "X_train_unrow.shape"
   ]
  },
  {
   "cell_type": "code",
   "execution_count": 9,
   "metadata": {},
   "outputs": [
    {
     "data": {
      "text/plain": [
       "(158, 4096)"
      ]
     },
     "execution_count": 9,
     "metadata": {},
     "output_type": "execute_result"
    }
   ],
   "source": [
    "#test set\n",
    "X_val_unrow = X_val.reshape(158, -1)\n",
    "X_val_unrow.shape"
   ]
  },
  {
   "cell_type": "markdown",
   "metadata": {},
   "source": [
    "#### Labels for images"
   ]
  },
  {
   "cell_type": "code",
   "execution_count": 10,
   "metadata": {},
   "outputs": [
    {
     "data": {
      "text/plain": [
       "array([1., 0., 1., 1., 1., 0., 0., 0., 1., 0.], dtype=float32)"
      ]
     },
     "execution_count": 10,
     "metadata": {},
     "output_type": "execute_result"
    }
   ],
   "source": [
    "y_train[:10]"
   ]
  },
  {
   "cell_type": "code",
   "execution_count": 11,
   "metadata": {},
   "outputs": [
    {
     "data": {
      "text/plain": [
       "{'NORMAL': 0, 'PNEUMONIA': 1}"
      ]
     },
     "execution_count": 11,
     "metadata": {},
     "output_type": "execute_result"
    }
   ],
   "source": [
    "train_generator.class_indices"
   ]
  },
  {
   "cell_type": "markdown",
   "metadata": {},
   "source": [
    "#### Scale data and validate shapes"
   ]
  },
  {
   "cell_type": "code",
   "execution_count": 12,
   "metadata": {},
   "outputs": [
    {
     "data": {
      "text/plain": [
       "numpy.ndarray"
      ]
     },
     "execution_count": 12,
     "metadata": {},
     "output_type": "execute_result"
    }
   ],
   "source": [
    "#scaling the data\n",
    "X_train_img_final = X_train_unrow/255\n",
    "X_val_img_final = X_val_unrow/255\n",
    "\n",
    "type(X_val_img_final)"
   ]
  },
  {
   "cell_type": "code",
   "execution_count": 13,
   "metadata": {},
   "outputs": [
    {
     "name": "stdout",
     "output_type": "stream",
     "text": [
      "(632, 4096)\n",
      "(158, 4096)\n"
     ]
    }
   ],
   "source": [
    "print(X_train_img_final.shape)\n",
    "print(X_val_img_final.shape)"
   ]
  },
  {
   "cell_type": "markdown",
   "metadata": {},
   "source": [
    "## Model creation\n",
    "#### We will use recall as our metric, as we're more concerned about false negatives than false positives."
   ]
  },
  {
   "cell_type": "markdown",
   "metadata": {},
   "source": [
    "#### Baseline Model with DummyClassifier"
   ]
  },
  {
   "cell_type": "code",
   "execution_count": 14,
   "metadata": {},
   "outputs": [
    {
     "data": {
      "text/plain": [
       "DummyClassifier(strategy='most_frequent')"
      ]
     },
     "execution_count": 14,
     "metadata": {},
     "output_type": "execute_result"
    }
   ],
   "source": [
    "#dummy classifer/regressor for baseline\n",
    "from sklearn.dummy import DummyClassifier\n",
    "\n",
    "dummy = DummyClassifier(strategy='most_frequent')\n",
    "dummy.fit(X_train_img_final, y_train)"
   ]
  },
  {
   "cell_type": "code",
   "execution_count": 15,
   "metadata": {
    "scrolled": false
   },
   "outputs": [
    {
     "data": {
      "text/plain": [
       "array([1., 1., 1., 1., 1., 1., 1., 1., 1., 1., 1., 1., 1., 1., 1., 1., 1.,\n",
       "       1., 1., 1., 1., 1., 1., 1., 1., 1., 1., 1., 1., 1., 1., 1., 1., 1.,\n",
       "       1., 1., 1., 1., 1., 1., 1., 1., 1., 1., 1., 1., 1., 1., 1., 1., 1.,\n",
       "       1., 1., 1., 1., 1., 1., 1., 1., 1., 1., 1., 1., 1., 1., 1., 1., 1.,\n",
       "       1., 1., 1., 1., 1., 1., 1., 1., 1., 1., 1., 1., 1., 1., 1., 1., 1.,\n",
       "       1., 1., 1., 1., 1., 1., 1., 1., 1., 1., 1., 1., 1., 1., 1., 1., 1.,\n",
       "       1., 1., 1., 1., 1., 1., 1., 1., 1., 1., 1., 1., 1., 1., 1., 1., 1.,\n",
       "       1., 1., 1., 1., 1., 1., 1., 1., 1., 1., 1., 1., 1., 1., 1., 1., 1.,\n",
       "       1., 1., 1., 1., 1., 1., 1., 1., 1., 1., 1., 1., 1., 1., 1., 1., 1.,\n",
       "       1., 1., 1., 1., 1.], dtype=float32)"
      ]
     },
     "execution_count": 15,
     "metadata": {},
     "output_type": "execute_result"
    }
   ],
   "source": [
    "dummy.predict(X_val_img_final)"
   ]
  },
  {
   "cell_type": "code",
   "execution_count": 16,
   "metadata": {},
   "outputs": [
    {
     "data": {
      "text/plain": [
       "0.7848101265822784"
      ]
     },
     "execution_count": 16,
     "metadata": {},
     "output_type": "execute_result"
    }
   ],
   "source": [
    "dummy.score(X_val_img_final, y_val)"
   ]
  },
  {
   "cell_type": "markdown",
   "metadata": {},
   "source": [
    "#### Initial Neural Network Model Creation using tanh activation function"
   ]
  },
  {
   "cell_type": "code",
   "execution_count": 17,
   "metadata": {},
   "outputs": [],
   "source": [
    "np.random.seed(42)\n",
    "model = models.Sequential()\n",
    "model.add(layers.Dense(63, activation='tanh', input_shape=(4096,)))\n",
    "model.add(layers.Dense(42, activation='tanh'))\n",
    "model.add(layers.Dense(21, activation='tanh'))\n",
    "model.add(layers.Dense(1, activation='sigmoid')) #output layer, binary classification"
   ]
  },
  {
   "cell_type": "code",
   "execution_count": 18,
   "metadata": {},
   "outputs": [
    {
     "name": "stdout",
     "output_type": "stream",
     "text": [
      "Epoch 1/50\n",
      "20/20 [==============================] - 0s 18ms/step - loss: 0.5952 - recall: 1.0000 - acc: 0.7263 - val_loss: 0.4820 - val_recall: 1.0000 - val_acc: 0.7848\n",
      "Epoch 2/50\n",
      "20/20 [==============================] - 0s 2ms/step - loss: 0.5088 - recall: 0.9934 - acc: 0.7563 - val_loss: 0.4594 - val_recall: 0.9839 - val_acc: 0.8291\n",
      "Epoch 3/50\n",
      "20/20 [==============================] - 0s 2ms/step - loss: 0.4937 - recall: 0.9476 - acc: 0.7816 - val_loss: 0.4982 - val_recall: 1.0000 - val_acc: 0.7848\n",
      "Epoch 4/50\n",
      "20/20 [==============================] - 0s 2ms/step - loss: 0.4531 - recall: 0.9498 - acc: 0.7911 - val_loss: 0.4761 - val_recall: 0.7903 - val_acc: 0.8165\n",
      "Epoch 5/50\n",
      "20/20 [==============================] - 0s 2ms/step - loss: 0.4302 - recall: 0.9389 - acc: 0.8259 - val_loss: 0.3388 - val_recall: 1.0000 - val_acc: 0.8544\n",
      "Epoch 6/50\n",
      "20/20 [==============================] - 0s 2ms/step - loss: 0.3465 - recall: 0.9585 - acc: 0.8797 - val_loss: 0.3780 - val_recall: 1.0000 - val_acc: 0.8101\n",
      "Epoch 7/50\n",
      "20/20 [==============================] - 0s 2ms/step - loss: 0.3481 - recall: 0.9476 - acc: 0.8623 - val_loss: 0.3398 - val_recall: 1.0000 - val_acc: 0.8291\n",
      "Epoch 8/50\n",
      "20/20 [==============================] - 0s 2ms/step - loss: 0.3288 - recall: 0.9323 - acc: 0.8655 - val_loss: 0.3644 - val_recall: 1.0000 - val_acc: 0.8228\n",
      "Epoch 9/50\n",
      "20/20 [==============================] - 0s 2ms/step - loss: 0.4062 - recall: 0.8952 - acc: 0.8085 - val_loss: 0.2703 - val_recall: 0.9839 - val_acc: 0.9114\n",
      "Epoch 10/50\n",
      "20/20 [==============================] - 0s 2ms/step - loss: 0.3140 - recall: 0.9214 - acc: 0.8623 - val_loss: 0.3389 - val_recall: 0.8468 - val_acc: 0.8671\n",
      "Epoch 11/50\n",
      "20/20 [==============================] - 0s 3ms/step - loss: 0.2669 - recall: 0.9454 - acc: 0.8972 - val_loss: 0.2482 - val_recall: 0.9919 - val_acc: 0.9051\n",
      "Epoch 12/50\n",
      "20/20 [==============================] - 0s 2ms/step - loss: 0.2833 - recall: 0.9454 - acc: 0.8908 - val_loss: 0.6573 - val_recall: 0.5565 - val_acc: 0.6519\n",
      "Epoch 13/50\n",
      "20/20 [==============================] - 0s 2ms/step - loss: 0.2622 - recall: 0.9323 - acc: 0.8987 - val_loss: 0.2331 - val_recall: 0.9274 - val_acc: 0.9114\n",
      "Epoch 14/50\n",
      "20/20 [==============================] - 0s 2ms/step - loss: 0.2684 - recall: 0.9367 - acc: 0.8892 - val_loss: 0.2461 - val_recall: 0.9194 - val_acc: 0.9177\n",
      "Epoch 15/50\n",
      "20/20 [==============================] - 0s 2ms/step - loss: 0.2485 - recall: 0.9454 - acc: 0.9082 - val_loss: 0.2558 - val_recall: 0.9919 - val_acc: 0.8987\n",
      "Epoch 16/50\n",
      "20/20 [==============================] - 0s 2ms/step - loss: 0.2548 - recall: 0.9345 - acc: 0.8892 - val_loss: 0.2061 - val_recall: 0.9839 - val_acc: 0.9241\n",
      "Epoch 17/50\n",
      "20/20 [==============================] - 0s 2ms/step - loss: 0.2220 - recall: 0.9476 - acc: 0.9146 - val_loss: 0.5652 - val_recall: 0.6532 - val_acc: 0.7278\n",
      "Epoch 18/50\n",
      "20/20 [==============================] - 0s 2ms/step - loss: 0.2675 - recall: 0.9214 - acc: 0.8861 - val_loss: 0.1962 - val_recall: 0.9597 - val_acc: 0.9177\n",
      "Epoch 19/50\n",
      "20/20 [==============================] - 0s 2ms/step - loss: 0.2030 - recall: 0.9629 - acc: 0.9351 - val_loss: 0.2190 - val_recall: 0.9113 - val_acc: 0.9177\n",
      "Epoch 20/50\n",
      "20/20 [==============================] - 0s 2ms/step - loss: 0.1883 - recall: 0.9498 - acc: 0.9288 - val_loss: 0.4111 - val_recall: 1.0000 - val_acc: 0.8418\n",
      "Epoch 21/50\n",
      "20/20 [==============================] - 0s 2ms/step - loss: 0.2192 - recall: 0.9498 - acc: 0.9114 - val_loss: 0.2422 - val_recall: 0.9919 - val_acc: 0.8987\n",
      "Epoch 22/50\n",
      "20/20 [==============================] - 0s 2ms/step - loss: 0.1911 - recall: 0.9541 - acc: 0.9335 - val_loss: 0.1741 - val_recall: 0.9758 - val_acc: 0.9177\n",
      "Epoch 23/50\n",
      "20/20 [==============================] - 0s 2ms/step - loss: 0.1775 - recall: 0.9520 - acc: 0.9335 - val_loss: 0.1873 - val_recall: 0.9839 - val_acc: 0.9114\n",
      "Epoch 24/50\n",
      "20/20 [==============================] - 0s 2ms/step - loss: 0.2382 - recall: 0.9367 - acc: 0.8972 - val_loss: 0.1904 - val_recall: 0.9274 - val_acc: 0.9304\n",
      "Epoch 25/50\n",
      "20/20 [==============================] - 0s 2ms/step - loss: 0.2012 - recall: 0.9585 - acc: 0.9241 - val_loss: 0.2537 - val_recall: 0.8629 - val_acc: 0.8924\n",
      "Epoch 26/50\n",
      "20/20 [==============================] - 0s 2ms/step - loss: 0.2427 - recall: 0.9323 - acc: 0.9003 - val_loss: 0.2143 - val_recall: 0.8952 - val_acc: 0.9177\n",
      "Epoch 27/50\n",
      "20/20 [==============================] - 0s 2ms/step - loss: 0.1707 - recall: 0.9607 - acc: 0.9351 - val_loss: 0.1631 - val_recall: 0.9597 - val_acc: 0.9430\n",
      "Epoch 28/50\n",
      "20/20 [==============================] - 0s 2ms/step - loss: 0.1685 - recall: 0.9563 - acc: 0.9351 - val_loss: 0.1890 - val_recall: 0.9194 - val_acc: 0.9367\n",
      "Epoch 29/50\n",
      "20/20 [==============================] - 0s 2ms/step - loss: 0.1797 - recall: 0.9629 - acc: 0.9335 - val_loss: 0.5009 - val_recall: 0.6774 - val_acc: 0.7468\n",
      "Epoch 30/50\n",
      "20/20 [==============================] - 0s 2ms/step - loss: 0.1829 - recall: 0.9476 - acc: 0.9288 - val_loss: 0.1526 - val_recall: 0.9677 - val_acc: 0.9494\n",
      "Epoch 31/50\n",
      "20/20 [==============================] - 0s 2ms/step - loss: 0.1587 - recall: 0.9454 - acc: 0.9335 - val_loss: 0.2220 - val_recall: 0.9919 - val_acc: 0.9114\n",
      "Epoch 32/50\n",
      "20/20 [==============================] - 0s 2ms/step - loss: 0.1499 - recall: 0.9716 - acc: 0.9430 - val_loss: 1.0228 - val_recall: 0.3871 - val_acc: 0.5190\n",
      "Epoch 33/50\n",
      "20/20 [==============================] - 0s 2ms/step - loss: 0.2223 - recall: 0.9345 - acc: 0.9193 - val_loss: 0.2310 - val_recall: 0.8710 - val_acc: 0.8987\n",
      "Epoch 34/50\n",
      "20/20 [==============================] - 0s 2ms/step - loss: 0.2105 - recall: 0.9432 - acc: 0.9177 - val_loss: 0.1949 - val_recall: 0.9194 - val_acc: 0.9367\n",
      "Epoch 35/50\n",
      "20/20 [==============================] - 0s 2ms/step - loss: 0.2184 - recall: 0.9389 - acc: 0.9051 - val_loss: 0.2155 - val_recall: 0.8871 - val_acc: 0.9114\n",
      "Epoch 36/50\n",
      "20/20 [==============================] - 0s 2ms/step - loss: 0.1486 - recall: 0.9672 - acc: 0.9494 - val_loss: 0.1397 - val_recall: 0.9758 - val_acc: 0.9367\n",
      "Epoch 37/50\n",
      "20/20 [==============================] - 0s 2ms/step - loss: 0.1438 - recall: 0.9629 - acc: 0.9446 - val_loss: 0.4151 - val_recall: 0.7661 - val_acc: 0.8165\n",
      "Epoch 38/50\n",
      "20/20 [==============================] - 0s 2ms/step - loss: 0.1673 - recall: 0.9541 - acc: 0.9383 - val_loss: 0.1631 - val_recall: 0.9839 - val_acc: 0.9177\n",
      "Epoch 39/50\n",
      "20/20 [==============================] - 0s 2ms/step - loss: 0.1729 - recall: 0.9607 - acc: 0.9335 - val_loss: 0.1493 - val_recall: 0.9435 - val_acc: 0.9430\n",
      "Epoch 40/50\n",
      "20/20 [==============================] - 0s 2ms/step - loss: 0.1784 - recall: 0.9520 - acc: 0.9320 - val_loss: 0.2379 - val_recall: 0.8629 - val_acc: 0.8924\n",
      "Epoch 41/50\n",
      "20/20 [==============================] - 0s 2ms/step - loss: 0.1476 - recall: 0.9607 - acc: 0.9399 - val_loss: 0.2534 - val_recall: 0.8548 - val_acc: 0.8861\n",
      "Epoch 42/50\n",
      "20/20 [==============================] - 0s 2ms/step - loss: 0.1414 - recall: 0.9563 - acc: 0.9478 - val_loss: 0.3045 - val_recall: 0.9919 - val_acc: 0.8924\n",
      "Epoch 43/50\n",
      "20/20 [==============================] - 0s 2ms/step - loss: 0.1676 - recall: 0.9607 - acc: 0.9335 - val_loss: 0.2402 - val_recall: 0.8629 - val_acc: 0.8924\n",
      "Epoch 44/50\n",
      "20/20 [==============================] - 0s 2ms/step - loss: 0.1792 - recall: 0.9520 - acc: 0.9335 - val_loss: 0.1490 - val_recall: 0.9839 - val_acc: 0.9177\n",
      "Epoch 45/50\n",
      "20/20 [==============================] - 0s 2ms/step - loss: 0.2003 - recall: 0.9323 - acc: 0.9114 - val_loss: 0.2709 - val_recall: 0.8387 - val_acc: 0.8734\n",
      "Epoch 46/50\n",
      "20/20 [==============================] - 0s 2ms/step - loss: 0.1407 - recall: 0.9629 - acc: 0.9494 - val_loss: 0.2657 - val_recall: 0.9919 - val_acc: 0.8987\n",
      "Epoch 47/50\n",
      "20/20 [==============================] - 0s 2ms/step - loss: 0.1426 - recall: 0.9629 - acc: 0.9462 - val_loss: 0.2262 - val_recall: 0.8710 - val_acc: 0.8987\n",
      "Epoch 48/50\n",
      "20/20 [==============================] - 0s 2ms/step - loss: 0.1218 - recall: 0.9694 - acc: 0.9604 - val_loss: 0.3976 - val_recall: 1.0000 - val_acc: 0.8608\n",
      "Epoch 49/50\n"
     ]
    },
    {
     "name": "stdout",
     "output_type": "stream",
     "text": [
      "20/20 [==============================] - 0s 2ms/step - loss: 0.1971 - recall: 0.9520 - acc: 0.9193 - val_loss: 0.1456 - val_recall: 0.9839 - val_acc: 0.9304\n",
      "Epoch 50/50\n",
      "20/20 [==============================] - 0s 2ms/step - loss: 0.1313 - recall: 0.9716 - acc: 0.9525 - val_loss: 0.1359 - val_recall: 0.9516 - val_acc: 0.9494\n"
     ]
    }
   ],
   "source": [
    "model.compile(optimizer='sgd',\n",
    "              loss='binary_crossentropy',\n",
    "              metrics=[tf.keras.metrics.Recall(), 'acc'])\n",
    "\n",
    "results = model.fit(X_train_img_final,\n",
    "                    y_train,\n",
    "                    epochs=50,\n",
    "                    batch_size=32,\n",
    "                    validation_data=(X_val_img_final, y_val))"
   ]
  },
  {
   "cell_type": "markdown",
   "metadata": {},
   "source": [
    "#### Model evaluation"
   ]
  },
  {
   "cell_type": "code",
   "execution_count": 19,
   "metadata": {},
   "outputs": [
    {
     "name": "stdout",
     "output_type": "stream",
     "text": [
      "20/20 [==============================] - 0s 941us/step - loss: 0.1036 - recall: 0.9694 - acc: 0.9652\n"
     ]
    }
   ],
   "source": [
    "results_train = model.evaluate(X_train_img_final, y_train)"
   ]
  },
  {
   "cell_type": "code",
   "execution_count": 20,
   "metadata": {},
   "outputs": [
    {
     "name": "stdout",
     "output_type": "stream",
     "text": [
      "5/5 [==============================] - 0s 1ms/step - loss: 0.1359 - recall: 0.9516 - acc: 0.9494\n"
     ]
    }
   ],
   "source": [
    "results_val = model.evaluate(X_val_img_final, y_val)"
   ]
  },
  {
   "cell_type": "markdown",
   "metadata": {},
   "source": [
    "#### Create visualization function to plot epochs vs loss for training and test sets for each model created."
   ]
  },
  {
   "cell_type": "code",
   "execution_count": 21,
   "metadata": {},
   "outputs": [],
   "source": [
    "#plot epochs vs loss for train and test set\n",
    "def visualize_results(results):\n",
    "    history = results.history\n",
    "    plt.figure()\n",
    "    plt.plot(history['val_loss'])\n",
    "    plt.plot(history['loss'])\n",
    "    plt.legend(['val_loss', 'loss'])\n",
    "    plt.title('Loss v Epochs')\n",
    "    plt.xlabel('Epochs')\n",
    "    plt.ylabel('Loss')\n",
    "    plt.show();\n",
    "    "
   ]
  },
  {
   "cell_type": "code",
   "execution_count": 22,
   "metadata": {},
   "outputs": [
    {
     "data": {
      "image/png": "[encoded data removed]",
      "text/plain": [
       "<Figure size 432x288 with 1 Axes>"
      ]
     },
     "metadata": {
      "needs_background": "light"
     },
     "output_type": "display_data"
    }
   ],
   "source": [
    "visualize_results(results)"
   ]
  },
  {
   "cell_type": "code",
   "execution_count": 23,
   "metadata": {},
   "outputs": [],
   "source": [
    "label_pred = (model.predict(X_val_img_final) > 0.5).astype(int)\n",
    "\n",
    "cf_matrix = confusion_matrix(y_val, label_pred)"
   ]
  },
  {
   "cell_type": "code",
   "execution_count": 24,
   "metadata": {},
   "outputs": [
    {
     "data": {
      "text/plain": [
       "<AxesSubplot:>"
      ]
     },
     "execution_count": 24,
     "metadata": {},
     "output_type": "execute_result"
    },
    {
     "data": {
      "image/png": "[encoded data removed]",
      "text/plain": [
       "<Figure size 432x288 with 2 Axes>"
      ]
     },
     "metadata": {
      "needs_background": "light"
     },
     "output_type": "display_data"
    }
   ],
   "source": [
    "sns.heatmap(cf_matrix, annot=True)"
   ]
  },
  {
   "cell_type": "markdown",
   "metadata": {},
   "source": [
    "#### Insight: according to the Loss plot, there is significant overfitting of the model due to the high variation of the validation curve. Any subsequent models must reduce the variance and overfitting of the first model, as well as have high recall and accuracy scores.\n"
   ]
  },
  {
   "cell_type": "markdown",
   "metadata": {},
   "source": [
    "#### Will adding EarlyStopping improve the model?"
   ]
  },
  {
   "cell_type": "code",
   "execution_count": 25,
   "metadata": {},
   "outputs": [],
   "source": [
    "#create new model with similar parameters\n",
    "np.random.seed(42)\n",
    "model2 = models.Sequential()\n",
    "model2.add(layers.Dense(63, activation='tanh', input_shape=(4096,)))\n",
    "model2.add(layers.Dense(42, activation='tanh'))\n",
    "model2.add(layers.Dense(21, activation='tanh'))\n",
    "model2.add(layers.Dense(1, activation='sigmoid')) #output layer, binary classification"
   ]
  },
  {
   "cell_type": "code",
   "execution_count": 26,
   "metadata": {},
   "outputs": [],
   "source": [
    "#introduce earlystopping and modelcheckpoint \n",
    "early_stopping = [EarlyStopping(monitor='val_loss', patience=10), ModelCheckpoint(filepath='best_model.h5',\n",
    "                                                                                 monitor='val_loss', save_best_only=True)]"
   ]
  },
  {
   "cell_type": "code",
   "execution_count": 27,
   "metadata": {},
   "outputs": [
    {
     "name": "stdout",
     "output_type": "stream",
     "text": [
      "Epoch 1/50\n",
      "20/20 [==============================] - 0s 18ms/step - loss: 0.6109 - recall_1: 0.8974 - acc: 0.6725 - val_loss: 0.5303 - val_recall_1: 1.0000 - val_acc: 0.7848\n",
      "Epoch 2/50\n",
      "20/20 [==============================] - 0s 5ms/step - loss: 0.5260 - recall_1: 1.0000 - acc: 0.7310 - val_loss: 0.4520 - val_recall_1: 1.0000 - val_acc: 0.7848\n",
      "Epoch 3/50\n",
      "20/20 [==============================] - 0s 5ms/step - loss: 0.4973 - recall_1: 0.9410 - acc: 0.7500 - val_loss: 0.3906 - val_recall_1: 1.0000 - val_acc: 0.7848\n",
      "Epoch 4/50\n",
      "20/20 [==============================] - 0s 5ms/step - loss: 0.4284 - recall_1: 0.9454 - acc: 0.8180 - val_loss: 0.3316 - val_recall_1: 1.0000 - val_acc: 0.8418\n",
      "Epoch 5/50\n",
      "20/20 [==============================] - 0s 2ms/step - loss: 0.4314 - recall_1: 0.9127 - acc: 0.7943 - val_loss: 0.5440 - val_recall_1: 0.6129 - val_acc: 0.6962\n",
      "Epoch 6/50\n",
      "20/20 [==============================] - 0s 4ms/step - loss: 0.4544 - recall_1: 0.8886 - acc: 0.7848 - val_loss: 0.3180 - val_recall_1: 1.0000 - val_acc: 0.8418\n",
      "Epoch 7/50\n",
      "20/20 [==============================] - 0s 2ms/step - loss: 0.3458 - recall_1: 0.9345 - acc: 0.8481 - val_loss: 0.4133 - val_recall_1: 0.7500 - val_acc: 0.8038\n",
      "Epoch 8/50\n",
      "20/20 [==============================] - 0s 4ms/step - loss: 0.3460 - recall_1: 0.9214 - acc: 0.8434 - val_loss: 0.3119 - val_recall_1: 0.8548 - val_acc: 0.8734\n",
      "Epoch 9/50\n",
      "20/20 [==============================] - 0s 4ms/step - loss: 0.3248 - recall_1: 0.9301 - acc: 0.8687 - val_loss: 0.2498 - val_recall_1: 0.9355 - val_acc: 0.9051\n",
      "Epoch 10/50\n",
      "20/20 [==============================] - 0s 2ms/step - loss: 0.3224 - recall_1: 0.9301 - acc: 0.8639 - val_loss: 0.2785 - val_recall_1: 0.8952 - val_acc: 0.8924\n",
      "Epoch 11/50\n",
      "20/20 [==============================] - 0s 2ms/step - loss: 0.2957 - recall_1: 0.9301 - acc: 0.8797 - val_loss: 0.3616 - val_recall_1: 1.0000 - val_acc: 0.8354\n",
      "Epoch 12/50\n",
      "20/20 [==============================] - 0s 2ms/step - loss: 0.2603 - recall_1: 0.9498 - acc: 0.8861 - val_loss: 0.3040 - val_recall_1: 1.0000 - val_acc: 0.8608\n",
      "Epoch 13/50\n",
      "20/20 [==============================] - 0s 4ms/step - loss: 0.2961 - recall_1: 0.9367 - acc: 0.8861 - val_loss: 0.2137 - val_recall_1: 0.9435 - val_acc: 0.9051\n",
      "Epoch 14/50\n",
      "20/20 [==============================] - 0s 2ms/step - loss: 0.2466 - recall_1: 0.9389 - acc: 0.9019 - val_loss: 0.2167 - val_recall_1: 0.9355 - val_acc: 0.9114\n",
      "Epoch 15/50\n",
      "20/20 [==============================] - 0s 2ms/step - loss: 0.2889 - recall_1: 0.9236 - acc: 0.8687 - val_loss: 0.3272 - val_recall_1: 0.8065 - val_acc: 0.8481\n",
      "Epoch 16/50\n",
      "20/20 [==============================] - 0s 2ms/step - loss: 0.2447 - recall_1: 0.9236 - acc: 0.8861 - val_loss: 0.3176 - val_recall_1: 1.0000 - val_acc: 0.8608\n",
      "Epoch 17/50\n",
      "20/20 [==============================] - 0s 6ms/step - loss: 0.2303 - recall_1: 0.9541 - acc: 0.9241 - val_loss: 0.1914 - val_recall_1: 0.9516 - val_acc: 0.9114\n",
      "Epoch 18/50\n",
      "20/20 [==============================] - 0s 6ms/step - loss: 0.2357 - recall_1: 0.9389 - acc: 0.9051 - val_loss: 0.1816 - val_recall_1: 0.9597 - val_acc: 0.8987\n",
      "Epoch 19/50\n",
      "20/20 [==============================] - 0s 3ms/step - loss: 0.1984 - recall_1: 0.9520 - acc: 0.9177 - val_loss: 0.1870 - val_recall_1: 0.9355 - val_acc: 0.9367\n",
      "Epoch 20/50\n",
      "20/20 [==============================] - 0s 6ms/step - loss: 0.2183 - recall_1: 0.9498 - acc: 0.9082 - val_loss: 0.1789 - val_recall_1: 0.9435 - val_acc: 0.9241\n",
      "Epoch 21/50\n",
      "20/20 [==============================] - 0s 5ms/step - loss: 0.1809 - recall_1: 0.9541 - acc: 0.9272 - val_loss: 0.1683 - val_recall_1: 0.9758 - val_acc: 0.9114\n",
      "Epoch 22/50\n",
      "20/20 [==============================] - 0s 2ms/step - loss: 0.1867 - recall_1: 0.9498 - acc: 0.9256 - val_loss: 0.1688 - val_recall_1: 0.9839 - val_acc: 0.9114\n",
      "Epoch 23/50\n",
      "20/20 [==============================] - 0s 6ms/step - loss: 0.1525 - recall_1: 0.9694 - acc: 0.9415 - val_loss: 0.1562 - val_recall_1: 0.9597 - val_acc: 0.9114\n",
      "Epoch 24/50\n",
      "20/20 [==============================] - 0s 3ms/step - loss: 0.1604 - recall_1: 0.9694 - acc: 0.9462 - val_loss: 0.1616 - val_recall_1: 0.9839 - val_acc: 0.9114\n",
      "Epoch 25/50\n",
      "20/20 [==============================] - 0s 2ms/step - loss: 0.2969 - recall_1: 0.9279 - acc: 0.8845 - val_loss: 0.1751 - val_recall_1: 0.9516 - val_acc: 0.9304\n",
      "Epoch 26/50\n",
      "20/20 [==============================] - 0s 2ms/step - loss: 0.1793 - recall_1: 0.9585 - acc: 0.9383 - val_loss: 0.3412 - val_recall_1: 1.0000 - val_acc: 0.8608\n",
      "Epoch 27/50\n",
      "20/20 [==============================] - 0s 5ms/step - loss: 0.1668 - recall_1: 0.9563 - acc: 0.9256 - val_loss: 0.1467 - val_recall_1: 0.9677 - val_acc: 0.9367\n",
      "Epoch 28/50\n",
      "20/20 [==============================] - 0s 2ms/step - loss: 0.1954 - recall_1: 0.9476 - acc: 0.9209 - val_loss: 0.1871 - val_recall_1: 0.9113 - val_acc: 0.9304\n",
      "Epoch 29/50\n",
      "20/20 [==============================] - 0s 2ms/step - loss: 0.1616 - recall_1: 0.9651 - acc: 0.9383 - val_loss: 0.2411 - val_recall_1: 0.8710 - val_acc: 0.8987\n",
      "Epoch 30/50\n",
      "20/20 [==============================] - 0s 2ms/step - loss: 0.2735 - recall_1: 0.9258 - acc: 0.8829 - val_loss: 0.1522 - val_recall_1: 0.9839 - val_acc: 0.9304\n",
      "Epoch 31/50\n",
      "20/20 [==============================] - 0s 2ms/step - loss: 0.1448 - recall_1: 0.9629 - acc: 0.9399 - val_loss: 0.2184 - val_recall_1: 0.9919 - val_acc: 0.9114\n",
      "Epoch 32/50\n",
      "20/20 [==============================] - 0s 5ms/step - loss: 0.1636 - recall_1: 0.9607 - acc: 0.9351 - val_loss: 0.1391 - val_recall_1: 0.9677 - val_acc: 0.9430\n",
      "Epoch 33/50\n",
      "20/20 [==============================] - 0s 2ms/step - loss: 0.1516 - recall_1: 0.9629 - acc: 0.9446 - val_loss: 0.1392 - val_recall_1: 0.9758 - val_acc: 0.9367\n",
      "Epoch 34/50\n",
      "20/20 [==============================] - 0s 2ms/step - loss: 0.1501 - recall_1: 0.9716 - acc: 0.9446 - val_loss: 0.1729 - val_recall_1: 0.9194 - val_acc: 0.9367\n",
      "Epoch 35/50\n",
      "20/20 [==============================] - 0s 2ms/step - loss: 0.1423 - recall_1: 0.9629 - acc: 0.9462 - val_loss: 0.2489 - val_recall_1: 0.9919 - val_acc: 0.8987\n",
      "Epoch 36/50\n",
      "20/20 [==============================] - 0s 2ms/step - loss: 0.1858 - recall_1: 0.9520 - acc: 0.9335 - val_loss: 0.1396 - val_recall_1: 0.9597 - val_acc: 0.9430\n",
      "Epoch 37/50\n",
      "20/20 [==============================] - 0s 2ms/step - loss: 0.1374 - recall_1: 0.9651 - acc: 0.9541 - val_loss: 0.1551 - val_recall_1: 0.9839 - val_acc: 0.9114\n",
      "Epoch 38/50\n",
      "20/20 [==============================] - 0s 2ms/step - loss: 0.2255 - recall_1: 0.9389 - acc: 0.9019 - val_loss: 0.1959 - val_recall_1: 0.9919 - val_acc: 0.9177\n",
      "Epoch 39/50\n",
      "20/20 [==============================] - 0s 2ms/step - loss: 0.1625 - recall_1: 0.9629 - acc: 0.9462 - val_loss: 0.1401 - val_recall_1: 0.9435 - val_acc: 0.9494\n",
      "Epoch 40/50\n",
      "20/20 [==============================] - 0s 2ms/step - loss: 0.1384 - recall_1: 0.9651 - acc: 0.9446 - val_loss: 0.1413 - val_recall_1: 0.9435 - val_acc: 0.9494\n",
      "Epoch 41/50\n",
      "20/20 [==============================] - 0s 2ms/step - loss: 0.1560 - recall_1: 0.9629 - acc: 0.9430 - val_loss: 0.2003 - val_recall_1: 0.9919 - val_acc: 0.9177\n",
      "Epoch 42/50\n",
      "20/20 [==============================] - 0s 2ms/step - loss: 0.1717 - recall_1: 0.9432 - acc: 0.9225 - val_loss: 0.2022 - val_recall_1: 0.9919 - val_acc: 0.9177\n"
     ]
    }
   ],
   "source": [
    "model2.compile(optimizer='sgd',\n",
    "              loss='binary_crossentropy',\n",
    "              metrics=[tf.keras.metrics.Recall(), 'acc'])\n",
    "\n",
    "results2 = model2.fit(X_train_img_final,\n",
    "                    y_train,\n",
    "                    callbacks=early_stopping,\n",
    "                    epochs=50,\n",
    "                    batch_size=32,\n",
    "                    validation_data=(X_val_img_final, y_val))"
   ]
  },
  {
   "cell_type": "code",
   "execution_count": 28,
   "metadata": {},
   "outputs": [
    {
     "data": {
      "image/png": "[encoded data removed]",
      "text/plain": [
       "<Figure size 432x288 with 1 Axes>"
      ]
     },
     "metadata": {
      "needs_background": "light"
     },
     "output_type": "display_data"
    }
   ],
   "source": [
    "visualize_results(results2)"
   ]
  },
  {
   "cell_type": "code",
   "execution_count": 29,
   "metadata": {},
   "outputs": [
    {
     "data": {
      "text/plain": [
       "<AxesSubplot:>"
      ]
     },
     "execution_count": 29,
     "metadata": {},
     "output_type": "execute_result"
    },
    {
     "data": {
      "image/png": "[encoded data removed]",
      "text/plain": [
       "<Figure size 432x288 with 2 Axes>"
      ]
     },
     "metadata": {
      "needs_background": "light"
     },
     "output_type": "display_data"
    }
   ],
   "source": [
    "#accuracy is greater than 80%, visualize confusion matrix\n",
    "label_pred = (model2.predict(X_val_img_final) > 0.5).astype(int)\n",
    "\n",
    "cf_matrix = confusion_matrix(y_val, label_pred)\n",
    "\n",
    "sns.heatmap(cf_matrix, annot=True)"
   ]
  },
  {
   "cell_type": "markdown",
   "metadata": {},
   "source": [
    "#### Variation in val_loss is still very high. Additionally, overfitting issue still hasn't been resolved. Will build a CNN, then attempt to control overfitting."
   ]
  },
  {
   "cell_type": "code",
   "execution_count": 30,
   "metadata": {},
   "outputs": [],
   "source": [
    "#CNN model\n",
    "np.random.seed(42)\n",
    "model3 = models.Sequential()\n",
    "model3.add(layers.Conv2D(32, (3,3), activation='tanh',\n",
    "                        input_shape=(64, 64, 1)))\n",
    "\n",
    "model3.add(layers.Flatten())\n",
    "model3.add(layers.Dense(64, activation='tanh'))\n",
    "model3.add(layers.Dense(42, activation='tanh'))\n",
    "model3.add(layers.Dense(21, activation='tanh'))\n",
    "model3.add(layers.Dense(1, activation='sigmoid'))"
   ]
  },
  {
   "cell_type": "code",
   "execution_count": 31,
   "metadata": {},
   "outputs": [
    {
     "name": "stdout",
     "output_type": "stream",
     "text": [
      "Model: \"sequential_2\"\n",
      "_________________________________________________________________\n",
      "Layer (type)                 Output Shape              Param #   \n",
      "=================================================================\n",
      "conv2d (Conv2D)              (None, 62, 62, 32)        320       \n",
      "_________________________________________________________________\n",
      "flatten (Flatten)            (None, 123008)            0         \n",
      "_________________________________________________________________\n",
      "dense_8 (Dense)              (None, 64)                7872576   \n",
      "_________________________________________________________________\n",
      "dense_9 (Dense)              (None, 42)                2730      \n",
      "_________________________________________________________________\n",
      "dense_10 (Dense)             (None, 21)                903       \n",
      "_________________________________________________________________\n",
      "dense_11 (Dense)             (None, 1)                 22        \n",
      "=================================================================\n",
      "Total params: 7,876,551\n",
      "Trainable params: 7,876,551\n",
      "Non-trainable params: 0\n",
      "_________________________________________________________________\n"
     ]
    }
   ],
   "source": [
    "model3.summary()"
   ]
  },
  {
   "cell_type": "code",
   "execution_count": 32,
   "metadata": {
    "scrolled": true
   },
   "outputs": [
    {
     "name": "stdout",
     "output_type": "stream",
     "text": [
      "Epoch 1/50\n",
      "20/20 [==============================] - 1s 59ms/step - loss: 0.6076 - recall_2: 0.9607 - acc: 0.7136 - val_loss: 0.5251 - val_recall_2: 1.0000 - val_acc: 0.7848\n",
      "Epoch 2/50\n",
      "20/20 [==============================] - 1s 43ms/step - loss: 0.5902 - recall_2: 1.0000 - acc: 0.7247 - val_loss: 0.5223 - val_recall_2: 1.0000 - val_acc: 0.7848\n",
      "Epoch 3/50\n",
      "20/20 [==============================] - 1s 44ms/step - loss: 0.5904 - recall_2: 1.0000 - acc: 0.7247 - val_loss: 0.5277 - val_recall_2: 1.0000 - val_acc: 0.7848\n",
      "Epoch 4/50\n",
      "20/20 [==============================] - 1s 43ms/step - loss: 0.5905 - recall_2: 1.0000 - acc: 0.7247 - val_loss: 0.5273 - val_recall_2: 1.0000 - val_acc: 0.7848\n",
      "Epoch 5/50\n",
      "20/20 [==============================] - 1s 43ms/step - loss: 0.5892 - recall_2: 1.0000 - acc: 0.7247 - val_loss: 0.5300 - val_recall_2: 1.0000 - val_acc: 0.7848\n",
      "Epoch 6/50\n",
      "20/20 [==============================] - 1s 44ms/step - loss: 0.5890 - recall_2: 1.0000 - acc: 0.7247 - val_loss: 0.5323 - val_recall_2: 1.0000 - val_acc: 0.7848\n",
      "Epoch 7/50\n",
      "20/20 [==============================] - 1s 43ms/step - loss: 0.5897 - recall_2: 1.0000 - acc: 0.7247 - val_loss: 0.5310 - val_recall_2: 1.0000 - val_acc: 0.7848\n",
      "Epoch 8/50\n",
      "20/20 [==============================] - 1s 42ms/step - loss: 0.5890 - recall_2: 1.0000 - acc: 0.7247 - val_loss: 0.5256 - val_recall_2: 1.0000 - val_acc: 0.7848\n",
      "Epoch 9/50\n",
      "20/20 [==============================] - 1s 43ms/step - loss: 0.5887 - recall_2: 1.0000 - acc: 0.7247 - val_loss: 0.5254 - val_recall_2: 1.0000 - val_acc: 0.7848\n",
      "Epoch 10/50\n",
      "20/20 [==============================] - 1s 43ms/step - loss: 0.5859 - recall_2: 1.0000 - acc: 0.7247 - val_loss: 0.5241 - val_recall_2: 1.0000 - val_acc: 0.7848\n",
      "Epoch 11/50\n",
      "20/20 [==============================] - 1s 46ms/step - loss: 0.5868 - recall_2: 1.0000 - acc: 0.7247 - val_loss: 0.5145 - val_recall_2: 1.0000 - val_acc: 0.7848\n",
      "Epoch 12/50\n",
      "20/20 [==============================] - 1s 48ms/step - loss: 0.5922 - recall_2: 1.0000 - acc: 0.7247 - val_loss: 0.5290 - val_recall_2: 1.0000 - val_acc: 0.7848\n",
      "Epoch 13/50\n",
      "20/20 [==============================] - 1s 46ms/step - loss: 0.5887 - recall_2: 1.0000 - acc: 0.7247 - val_loss: 0.5244 - val_recall_2: 1.0000 - val_acc: 0.7848\n",
      "Epoch 14/50\n",
      "20/20 [==============================] - 1s 43ms/step - loss: 0.5891 - recall_2: 1.0000 - acc: 0.7247 - val_loss: 0.5232 - val_recall_2: 1.0000 - val_acc: 0.7848\n",
      "Epoch 15/50\n",
      "20/20 [==============================] - 1s 44ms/step - loss: 0.5846 - recall_2: 1.0000 - acc: 0.7247 - val_loss: 0.5218 - val_recall_2: 1.0000 - val_acc: 0.7848\n",
      "Epoch 16/50\n",
      "20/20 [==============================] - 1s 44ms/step - loss: 0.5812 - recall_2: 1.0000 - acc: 0.7247 - val_loss: 0.5260 - val_recall_2: 1.0000 - val_acc: 0.7848\n",
      "Epoch 17/50\n",
      "20/20 [==============================] - 1s 44ms/step - loss: 0.5850 - recall_2: 1.0000 - acc: 0.7247 - val_loss: 0.5237 - val_recall_2: 1.0000 - val_acc: 0.7848\n",
      "Epoch 18/50\n",
      "20/20 [==============================] - 1s 47ms/step - loss: 0.5764 - recall_2: 1.0000 - acc: 0.7247 - val_loss: 0.5027 - val_recall_2: 1.0000 - val_acc: 0.7848\n",
      "Epoch 19/50\n",
      "20/20 [==============================] - 1s 53ms/step - loss: 0.5917 - recall_2: 1.0000 - acc: 0.7247 - val_loss: 0.5230 - val_recall_2: 1.0000 - val_acc: 0.7848\n",
      "Epoch 20/50\n",
      "20/20 [==============================] - 1s 58ms/step - loss: 0.5746 - recall_2: 1.0000 - acc: 0.7247 - val_loss: 0.5075 - val_recall_2: 1.0000 - val_acc: 0.7848\n",
      "Epoch 21/50\n",
      "20/20 [==============================] - 1s 48ms/step - loss: 0.5587 - recall_2: 1.0000 - acc: 0.7247 - val_loss: 0.4930 - val_recall_2: 1.0000 - val_acc: 0.7848\n",
      "Epoch 22/50\n",
      "20/20 [==============================] - 1s 44ms/step - loss: 0.5648 - recall_2: 1.0000 - acc: 0.7247 - val_loss: 0.4990 - val_recall_2: 1.0000 - val_acc: 0.7848\n",
      "Epoch 23/50\n",
      "20/20 [==============================] - 1s 44ms/step - loss: 0.5623 - recall_2: 1.0000 - acc: 0.7247 - val_loss: 0.5165 - val_recall_2: 1.0000 - val_acc: 0.7848\n",
      "Epoch 24/50\n",
      "20/20 [==============================] - 1s 43ms/step - loss: 0.5797 - recall_2: 1.0000 - acc: 0.7247 - val_loss: 0.5348 - val_recall_2: 1.0000 - val_acc: 0.7848\n",
      "Epoch 25/50\n",
      "20/20 [==============================] - 1s 44ms/step - loss: 0.5862 - recall_2: 1.0000 - acc: 0.7247 - val_loss: 0.5320 - val_recall_2: 1.0000 - val_acc: 0.7848\n",
      "Epoch 26/50\n",
      "20/20 [==============================] - 1s 44ms/step - loss: 0.5858 - recall_2: 1.0000 - acc: 0.7247 - val_loss: 0.5276 - val_recall_2: 1.0000 - val_acc: 0.7848\n",
      "Epoch 27/50\n",
      "20/20 [==============================] - 1s 43ms/step - loss: 0.5638 - recall_2: 1.0000 - acc: 0.7247 - val_loss: 0.4786 - val_recall_2: 1.0000 - val_acc: 0.7848\n",
      "Epoch 28/50\n",
      "20/20 [==============================] - 1s 43ms/step - loss: 0.5450 - recall_2: 1.0000 - acc: 0.7247 - val_loss: 0.4725 - val_recall_2: 1.0000 - val_acc: 0.7848\n",
      "Epoch 29/50\n",
      "20/20 [==============================] - 1s 45ms/step - loss: 0.5161 - recall_2: 1.0000 - acc: 0.7247 - val_loss: 0.4674 - val_recall_2: 1.0000 - val_acc: 0.7848\n",
      "Epoch 30/50\n",
      "20/20 [==============================] - 1s 45ms/step - loss: 0.5286 - recall_2: 1.0000 - acc: 0.7247 - val_loss: 0.5424 - val_recall_2: 1.0000 - val_acc: 0.7848\n",
      "Epoch 31/50\n",
      "20/20 [==============================] - 1s 43ms/step - loss: 0.5508 - recall_2: 1.0000 - acc: 0.7247 - val_loss: 0.4734 - val_recall_2: 1.0000 - val_acc: 0.7848\n",
      "Epoch 32/50\n",
      "20/20 [==============================] - 1s 43ms/step - loss: 0.5178 - recall_2: 1.0000 - acc: 0.7247 - val_loss: 0.4694 - val_recall_2: 1.0000 - val_acc: 0.7848\n",
      "Epoch 33/50\n",
      "20/20 [==============================] - 1s 43ms/step - loss: 0.4586 - recall_2: 1.0000 - acc: 0.7247 - val_loss: 0.5335 - val_recall_2: 0.6774 - val_acc: 0.7342\n",
      "Epoch 34/50\n",
      "20/20 [==============================] - 1s 42ms/step - loss: 0.4811 - recall_2: 0.9651 - acc: 0.7563 - val_loss: 0.3818 - val_recall_2: 1.0000 - val_acc: 0.7848\n",
      "Epoch 35/50\n",
      "20/20 [==============================] - 1s 48ms/step - loss: 0.5192 - recall_2: 1.0000 - acc: 0.7247 - val_loss: 0.5289 - val_recall_2: 1.0000 - val_acc: 0.7848\n",
      "Epoch 36/50\n",
      "20/20 [==============================] - 1s 46ms/step - loss: 0.4688 - recall_2: 1.0000 - acc: 0.7278 - val_loss: 0.4471 - val_recall_2: 0.9919 - val_acc: 0.8608\n",
      "Epoch 37/50\n",
      "20/20 [==============================] - 1s 43ms/step - loss: 0.5446 - recall_2: 1.0000 - acc: 0.7342 - val_loss: 0.4239 - val_recall_2: 1.0000 - val_acc: 0.7848\n",
      "Epoch 38/50\n",
      "20/20 [==============================] - 1s 45ms/step - loss: 0.4494 - recall_2: 0.9869 - acc: 0.7642 - val_loss: 0.4422 - val_recall_2: 1.0000 - val_acc: 0.7848\n",
      "Epoch 39/50\n",
      "20/20 [==============================] - 1s 43ms/step - loss: 0.4247 - recall_2: 0.9803 - acc: 0.8117 - val_loss: 0.4373 - val_recall_2: 0.9597 - val_acc: 0.8924\n",
      "Epoch 40/50\n",
      "20/20 [==============================] - 1s 43ms/step - loss: 0.3988 - recall_2: 0.9760 - acc: 0.8354 - val_loss: 0.4103 - val_recall_2: 1.0000 - val_acc: 0.7975\n",
      "Epoch 41/50\n",
      "20/20 [==============================] - 1s 43ms/step - loss: 0.4630 - recall_2: 0.9476 - acc: 0.7690 - val_loss: 0.4983 - val_recall_2: 0.7419 - val_acc: 0.7785\n",
      "Epoch 42/50\n",
      "20/20 [==============================] - 1s 45ms/step - loss: 0.5153 - recall_2: 0.9803 - acc: 0.7389 - val_loss: 0.5055 - val_recall_2: 0.7581 - val_acc: 0.7405\n",
      "Epoch 43/50\n",
      "20/20 [==============================] - 1s 43ms/step - loss: 0.4335 - recall_2: 0.8646 - acc: 0.7785 - val_loss: 0.6652 - val_recall_2: 0.4355 - val_acc: 0.5570\n",
      "Epoch 44/50\n",
      "20/20 [==============================] - 1s 43ms/step - loss: 0.4192 - recall_2: 0.8908 - acc: 0.8117 - val_loss: 0.4025 - val_recall_2: 0.9919 - val_acc: 0.8418\n"
     ]
    }
   ],
   "source": [
    "model3.compile(optimizer='sgd',\n",
    "              loss='binary_crossentropy',\n",
    "              metrics=[tf.keras.metrics.Recall(), 'acc'])\n",
    "\n",
    "results3 = model3.fit(X_train, \n",
    "                    y_train,\n",
    "                    callbacks=early_stopping,\n",
    "                    epochs=50,\n",
    "                    batch_size=32,\n",
    "                    validation_data=(X_val, y_val))"
   ]
  },
  {
   "cell_type": "code",
   "execution_count": 33,
   "metadata": {},
   "outputs": [
    {
     "data": {
      "image/png": "[encoded data removed]",
      "text/plain": [
       "<Figure size 432x288 with 1 Axes>"
      ]
     },
     "metadata": {
      "needs_background": "light"
     },
     "output_type": "display_data"
    }
   ],
   "source": [
    "visualize_results(results3)"
   ]
  },
  {
   "cell_type": "markdown",
   "metadata": {},
   "source": [
    "#### The variation has been reduced, but there is still overfitting. From here, we will attempt L2 regularization on the model."
   ]
  },
  {
   "cell_type": "markdown",
   "metadata": {},
   "source": [
    "#### L2 regularization with model3 structure"
   ]
  },
  {
   "cell_type": "code",
   "execution_count": 34,
   "metadata": {},
   "outputs": [],
   "source": [
    "np.random.seed(42)\n",
    "\n",
    "#introducing lambda coefficent for L2 regularization \n",
    "lambda_coeff = 0.005\n",
    "\n",
    "model4 = models.Sequential()\n",
    "model4.add(layers.Conv2D(32, (3,3), activation='tanh',\n",
    "                        input_shape=(64, 64, 1)))\n",
    "\n",
    "model4.add(layers.Flatten())\n",
    "model4.add(layers.Dense(64, activation='tanh', kernel_regularizer=regularizers.l2(lambda_coeff)))\n",
    "model4.add(layers.Dense(42, activation='tanh', kernel_regularizer=regularizers.l2(lambda_coeff)))\n",
    "model4.add(layers.Dense(21, activation='tanh', kernel_regularizer=regularizers.l2(lambda_coeff)))\n",
    "model4.add(layers.Dense(1, activation='sigmoid'))"
   ]
  },
  {
   "cell_type": "code",
   "execution_count": 35,
   "metadata": {},
   "outputs": [
    {
     "name": "stdout",
     "output_type": "stream",
     "text": [
      "Epoch 1/50\n",
      "20/20 [==============================] - 2s 81ms/step - loss: 1.6497 - recall_3: 0.9127 - acc: 0.6835 - val_loss: 1.5545 - val_recall_3: 1.0000 - val_acc: 0.7848\n",
      "Epoch 2/50\n",
      "20/20 [==============================] - 1s 67ms/step - loss: 1.6230 - recall_3: 1.0000 - acc: 0.7247 - val_loss: 1.5678 - val_recall_3: 1.0000 - val_acc: 0.7848\n",
      "Epoch 3/50\n",
      "20/20 [==============================] - 1s 67ms/step - loss: 1.6160 - recall_3: 1.0000 - acc: 0.7247 - val_loss: 1.5533 - val_recall_3: 1.0000 - val_acc: 0.7848\n",
      "Epoch 4/50\n",
      "20/20 [==============================] - 1s 66ms/step - loss: 1.6126 - recall_3: 1.0000 - acc: 0.7247 - val_loss: 1.5469 - val_recall_3: 1.0000 - val_acc: 0.7848\n",
      "Epoch 5/50\n",
      "20/20 [==============================] - 1s 68ms/step - loss: 1.6064 - recall_3: 1.0000 - acc: 0.7247 - val_loss: 1.5428 - val_recall_3: 1.0000 - val_acc: 0.7848\n",
      "Epoch 6/50\n",
      "20/20 [==============================] - 1s 64ms/step - loss: 1.6000 - recall_3: 1.0000 - acc: 0.7247 - val_loss: 1.5534 - val_recall_3: 1.0000 - val_acc: 0.7848\n",
      "Epoch 7/50\n",
      "20/20 [==============================] - 1s 65ms/step - loss: 1.6014 - recall_3: 1.0000 - acc: 0.7247 - val_loss: 1.5455 - val_recall_3: 1.0000 - val_acc: 0.7848\n",
      "Epoch 8/50\n",
      "20/20 [==============================] - 1s 66ms/step - loss: 1.5789 - recall_3: 1.0000 - acc: 0.7247 - val_loss: 1.5320 - val_recall_3: 1.0000 - val_acc: 0.7848\n",
      "Epoch 9/50\n",
      "20/20 [==============================] - 1s 65ms/step - loss: 1.5887 - recall_3: 1.0000 - acc: 0.7247 - val_loss: 1.5212 - val_recall_3: 1.0000 - val_acc: 0.7848\n",
      "Epoch 10/50\n",
      "20/20 [==============================] - 1s 63ms/step - loss: 1.5882 - recall_3: 1.0000 - acc: 0.7247 - val_loss: 1.5109 - val_recall_3: 1.0000 - val_acc: 0.7848\n",
      "Epoch 11/50\n",
      "20/20 [==============================] - 1s 64ms/step - loss: 1.5787 - recall_3: 1.0000 - acc: 0.7247 - val_loss: 1.5139 - val_recall_3: 1.0000 - val_acc: 0.7848\n",
      "Epoch 12/50\n",
      "20/20 [==============================] - 1s 65ms/step - loss: 1.5572 - recall_3: 1.0000 - acc: 0.7247 - val_loss: 1.4953 - val_recall_3: 1.0000 - val_acc: 0.7848\n",
      "Epoch 13/50\n",
      "20/20 [==============================] - 1s 64ms/step - loss: 1.5757 - recall_3: 1.0000 - acc: 0.7247 - val_loss: 1.5170 - val_recall_3: 1.0000 - val_acc: 0.7848\n",
      "Epoch 14/50\n",
      "20/20 [==============================] - 1s 65ms/step - loss: 1.5711 - recall_3: 1.0000 - acc: 0.7247 - val_loss: 1.5023 - val_recall_3: 1.0000 - val_acc: 0.7848\n",
      "Epoch 15/50\n",
      "20/20 [==============================] - 1s 64ms/step - loss: 1.5682 - recall_3: 1.0000 - acc: 0.7247 - val_loss: 1.5007 - val_recall_3: 1.0000 - val_acc: 0.7848\n",
      "Epoch 16/50\n",
      "20/20 [==============================] - 1s 75ms/step - loss: 1.5662 - recall_3: 1.0000 - acc: 0.7247 - val_loss: 1.5100 - val_recall_3: 1.0000 - val_acc: 0.7848\n",
      "Epoch 17/50\n",
      "20/20 [==============================] - 1s 75ms/step - loss: 1.5611 - recall_3: 1.0000 - acc: 0.7247 - val_loss: 1.4920 - val_recall_3: 1.0000 - val_acc: 0.7848\n",
      "Epoch 18/50\n",
      "20/20 [==============================] - 2s 75ms/step - loss: 1.5637 - recall_3: 1.0000 - acc: 0.7247 - val_loss: 1.4916 - val_recall_3: 1.0000 - val_acc: 0.7848\n",
      "Epoch 19/50\n",
      "20/20 [==============================] - 2s 77ms/step - loss: 1.5538 - recall_3: 1.0000 - acc: 0.7247 - val_loss: 1.4957 - val_recall_3: 1.0000 - val_acc: 0.7848\n",
      "Epoch 20/50\n",
      "20/20 [==============================] - 2s 80ms/step - loss: 1.5488 - recall_3: 1.0000 - acc: 0.7247 - val_loss: 1.4981 - val_recall_3: 1.0000 - val_acc: 0.7848\n",
      "Epoch 21/50\n",
      "20/20 [==============================] - 1s 72ms/step - loss: 1.5426 - recall_3: 1.0000 - acc: 0.7247 - val_loss: 1.4747 - val_recall_3: 1.0000 - val_acc: 0.7848\n",
      "Epoch 22/50\n",
      "20/20 [==============================] - 1s 69ms/step - loss: 1.5406 - recall_3: 1.0000 - acc: 0.7247 - val_loss: 1.4678 - val_recall_3: 1.0000 - val_acc: 0.7848\n",
      "Epoch 23/50\n",
      "20/20 [==============================] - 1s 69ms/step - loss: 1.5209 - recall_3: 1.0000 - acc: 0.7247 - val_loss: 1.4430 - val_recall_3: 1.0000 - val_acc: 0.7848\n",
      "Epoch 24/50\n",
      "20/20 [==============================] - 1s 74ms/step - loss: 1.5063 - recall_3: 1.0000 - acc: 0.7247 - val_loss: 1.4275 - val_recall_3: 1.0000 - val_acc: 0.7848\n",
      "Epoch 25/50\n",
      "20/20 [==============================] - 1s 69ms/step - loss: 1.5113 - recall_3: 1.0000 - acc: 0.7247 - val_loss: 1.4637 - val_recall_3: 1.0000 - val_acc: 0.7848\n",
      "Epoch 26/50\n",
      "20/20 [==============================] - 1s 74ms/step - loss: 1.5202 - recall_3: 1.0000 - acc: 0.7247 - val_loss: 1.4582 - val_recall_3: 1.0000 - val_acc: 0.7848\n",
      "Epoch 27/50\n",
      "20/20 [==============================] - 1s 69ms/step - loss: 1.5165 - recall_3: 1.0000 - acc: 0.7247 - val_loss: 1.4727 - val_recall_3: 1.0000 - val_acc: 0.7848\n",
      "Epoch 28/50\n",
      "20/20 [==============================] - 1s 74ms/step - loss: 1.5224 - recall_3: 1.0000 - acc: 0.7247 - val_loss: 1.4652 - val_recall_3: 1.0000 - val_acc: 0.7848\n",
      "Epoch 29/50\n",
      "20/20 [==============================] - 1s 71ms/step - loss: 1.5154 - recall_3: 1.0000 - acc: 0.7247 - val_loss: 1.4501 - val_recall_3: 1.0000 - val_acc: 0.7848\n",
      "Epoch 30/50\n",
      "20/20 [==============================] - 1s 68ms/step - loss: 1.5120 - recall_3: 1.0000 - acc: 0.7247 - val_loss: 1.4487 - val_recall_3: 1.0000 - val_acc: 0.7848\n",
      "Epoch 31/50\n",
      "20/20 [==============================] - 1s 70ms/step - loss: 1.5109 - recall_3: 1.0000 - acc: 0.7247 - val_loss: 1.4540 - val_recall_3: 1.0000 - val_acc: 0.7848\n",
      "Epoch 32/50\n",
      "20/20 [==============================] - 1s 74ms/step - loss: 1.5051 - recall_3: 1.0000 - acc: 0.7247 - val_loss: 1.4496 - val_recall_3: 1.0000 - val_acc: 0.7848\n",
      "Epoch 33/50\n",
      "20/20 [==============================] - 1s 69ms/step - loss: 1.4977 - recall_3: 1.0000 - acc: 0.7247 - val_loss: 1.4485 - val_recall_3: 1.0000 - val_acc: 0.7848\n",
      "Epoch 34/50\n",
      "20/20 [==============================] - 1s 68ms/step - loss: 1.4890 - recall_3: 1.0000 - acc: 0.7247 - val_loss: 1.3899 - val_recall_3: 1.0000 - val_acc: 0.7848\n",
      "Epoch 35/50\n",
      "20/20 [==============================] - 1s 67ms/step - loss: 1.4749 - recall_3: 1.0000 - acc: 0.7247 - val_loss: 1.4215 - val_recall_3: 1.0000 - val_acc: 0.7848\n",
      "Epoch 36/50\n",
      "20/20 [==============================] - 1s 68ms/step - loss: 1.4819 - recall_3: 1.0000 - acc: 0.7247 - val_loss: 1.4259 - val_recall_3: 1.0000 - val_acc: 0.7848\n",
      "Epoch 37/50\n",
      "20/20 [==============================] - 1s 66ms/step - loss: 1.4385 - recall_3: 1.0000 - acc: 0.7247 - val_loss: 1.3717 - val_recall_3: 1.0000 - val_acc: 0.7848\n",
      "Epoch 38/50\n",
      "20/20 [==============================] - 1s 66ms/step - loss: 1.4383 - recall_3: 1.0000 - acc: 0.7247 - val_loss: 1.4011 - val_recall_3: 1.0000 - val_acc: 0.7848\n",
      "Epoch 39/50\n",
      "20/20 [==============================] - 1s 68ms/step - loss: 1.4211 - recall_3: 1.0000 - acc: 0.7247 - val_loss: 1.3517 - val_recall_3: 1.0000 - val_acc: 0.7848\n",
      "Epoch 40/50\n",
      "20/20 [==============================] - 1s 67ms/step - loss: 1.3873 - recall_3: 0.9956 - acc: 0.7358 - val_loss: 1.3711 - val_recall_3: 1.0000 - val_acc: 0.7848\n",
      "Epoch 41/50\n",
      "20/20 [==============================] - 1s 66ms/step - loss: 1.4557 - recall_3: 1.0000 - acc: 0.7278 - val_loss: 1.3457 - val_recall_3: 1.0000 - val_acc: 0.7848\n",
      "Epoch 42/50\n",
      "20/20 [==============================] - 1s 67ms/step - loss: 1.3965 - recall_3: 1.0000 - acc: 0.7247 - val_loss: 1.4003 - val_recall_3: 1.0000 - val_acc: 0.7848\n",
      "Epoch 43/50\n",
      "20/20 [==============================] - 1s 68ms/step - loss: 1.3828 - recall_3: 1.0000 - acc: 0.7247 - val_loss: 1.2977 - val_recall_3: 1.0000 - val_acc: 0.7848\n",
      "Epoch 44/50\n",
      "20/20 [==============================] - 1s 68ms/step - loss: 1.3492 - recall_3: 1.0000 - acc: 0.7247 - val_loss: 1.3538 - val_recall_3: 1.0000 - val_acc: 0.7848\n",
      "Epoch 45/50\n",
      "20/20 [==============================] - 1s 70ms/step - loss: 1.3721 - recall_3: 0.9410 - acc: 0.7516 - val_loss: 1.3101 - val_recall_3: 1.0000 - val_acc: 0.7848\n",
      "Epoch 46/50\n",
      "20/20 [==============================] - 2s 78ms/step - loss: 1.3656 - recall_3: 0.8755 - acc: 0.7310 - val_loss: 1.3758 - val_recall_3: 1.0000 - val_acc: 0.7848\n",
      "Epoch 47/50\n",
      "20/20 [==============================] - 1s 67ms/step - loss: 1.3441 - recall_3: 0.9913 - acc: 0.7816 - val_loss: 1.2510 - val_recall_3: 0.9919 - val_acc: 0.8354\n",
      "Epoch 48/50\n"
     ]
    },
    {
     "name": "stdout",
     "output_type": "stream",
     "text": [
      "20/20 [==============================] - 1s 68ms/step - loss: 1.3424 - recall_3: 0.8996 - acc: 0.7642 - val_loss: 1.2458 - val_recall_3: 1.0000 - val_acc: 0.7848\n",
      "Epoch 49/50\n",
      "20/20 [==============================] - 1s 67ms/step - loss: 1.3402 - recall_3: 0.9825 - acc: 0.7880 - val_loss: 1.2769 - val_recall_3: 0.9677 - val_acc: 0.8291\n",
      "Epoch 50/50\n",
      "20/20 [==============================] - 1s 69ms/step - loss: 1.3936 - recall_3: 0.9716 - acc: 0.7611 - val_loss: 1.2893 - val_recall_3: 1.0000 - val_acc: 0.7848\n"
     ]
    }
   ],
   "source": [
    "model4.compile(optimizer='sgd',\n",
    "              loss='binary_crossentropy',\n",
    "              metrics=[tf.keras.metrics.Recall(), 'acc'])\n",
    "\n",
    "results4 = model4.fit(X_train, \n",
    "                    y_train,\n",
    "                    callbacks=early_stopping,\n",
    "                    epochs=50,\n",
    "                    batch_size=32,\n",
    "                    validation_data=(X_val, y_val))"
   ]
  },
  {
   "cell_type": "code",
   "execution_count": 36,
   "metadata": {},
   "outputs": [
    {
     "data": {
      "image/png": "[encoded data removed]",
      "text/plain": [
       "<Figure size 432x288 with 1 Axes>"
      ]
     },
     "metadata": {
      "needs_background": "light"
     },
     "output_type": "display_data"
    }
   ],
   "source": [
    "visualize_results(results4)"
   ]
  },
  {
   "cell_type": "markdown",
   "metadata": {},
   "source": [
    "### Insight: the curve variablity has slightly improved. Will reduce model complexity to reduce the loss function and train the model against the entire training set."
   ]
  },
  {
   "cell_type": "code",
   "execution_count": 37,
   "metadata": {},
   "outputs": [],
   "source": [
    "#reducing layers and nodes within layers\n",
    "np.random.seed(42)\n",
    "\n",
    "lambda_coeff = 0.005\n",
    "\n",
    "model5 = models.Sequential()\n",
    "model5.add(layers.Conv2D(32, (3,3), activation='tanh',\n",
    "                        input_shape=(64, 64, 1), padding='same'))\n",
    "\n",
    "model5.add(layers.Flatten())\n",
    "model5.add(layers.Dense(16, activation='tanh', kernel_regularizer=regularizers.l2(lambda_coeff)))\n",
    "model5.add(layers.Dense(8, activation='tanh', kernel_regularizer=regularizers.l2(lambda_coeff)))\n",
    "\n",
    "model5.add(layers.Dense(1, activation='sigmoid'))"
   ]
  },
  {
   "cell_type": "code",
   "execution_count": 38,
   "metadata": {
    "scrolled": true
   },
   "outputs": [
    {
     "name": "stdout",
     "output_type": "stream",
     "text": [
      "Epoch 1/50\n",
      "20/20 [==============================] - 1s 47ms/step - loss: 0.9213 - recall_4: 0.9476 - acc: 0.6946 - val_loss: 0.7651 - val_recall_4: 1.0000 - val_acc: 0.7848\n",
      "Epoch 2/50\n",
      "20/20 [==============================] - 1s 33ms/step - loss: 0.8645 - recall_4: 1.0000 - acc: 0.7247 - val_loss: 0.7479 - val_recall_4: 1.0000 - val_acc: 0.7848\n",
      "Epoch 3/50\n",
      "20/20 [==============================] - 1s 35ms/step - loss: 0.8391 - recall_4: 1.0000 - acc: 0.7247 - val_loss: 0.7387 - val_recall_4: 1.0000 - val_acc: 0.7848\n",
      "Epoch 4/50\n",
      "20/20 [==============================] - 1s 35ms/step - loss: 0.8227 - recall_4: 1.0000 - acc: 0.7247 - val_loss: 0.7346 - val_recall_4: 1.0000 - val_acc: 0.7848\n",
      "Epoch 5/50\n",
      "20/20 [==============================] - 1s 34ms/step - loss: 0.8123 - recall_4: 1.0000 - acc: 0.7247 - val_loss: 0.7336 - val_recall_4: 1.0000 - val_acc: 0.7848\n",
      "Epoch 6/50\n",
      "20/20 [==============================] - 1s 34ms/step - loss: 0.8064 - recall_4: 1.0000 - acc: 0.7247 - val_loss: 0.7338 - val_recall_4: 1.0000 - val_acc: 0.7848\n",
      "Epoch 7/50\n",
      "20/20 [==============================] - 1s 34ms/step - loss: 0.8029 - recall_4: 1.0000 - acc: 0.7247 - val_loss: 0.7347 - val_recall_4: 1.0000 - val_acc: 0.7848\n",
      "Epoch 8/50\n",
      "20/20 [==============================] - 1s 34ms/step - loss: 0.8009 - recall_4: 1.0000 - acc: 0.7247 - val_loss: 0.7353 - val_recall_4: 1.0000 - val_acc: 0.7848\n",
      "Epoch 9/50\n",
      "20/20 [==============================] - 1s 34ms/step - loss: 0.7992 - recall_4: 1.0000 - acc: 0.7247 - val_loss: 0.7357 - val_recall_4: 1.0000 - val_acc: 0.7848\n",
      "Epoch 10/50\n",
      "20/20 [==============================] - 1s 36ms/step - loss: 0.7979 - recall_4: 1.0000 - acc: 0.7247 - val_loss: 0.7360 - val_recall_4: 1.0000 - val_acc: 0.7848\n",
      "Epoch 11/50\n",
      "20/20 [==============================] - 1s 38ms/step - loss: 0.7969 - recall_4: 1.0000 - acc: 0.7247 - val_loss: 0.7363 - val_recall_4: 1.0000 - val_acc: 0.7848\n",
      "Epoch 12/50\n",
      "20/20 [==============================] - 1s 33ms/step - loss: 0.7959 - recall_4: 1.0000 - acc: 0.7247 - val_loss: 0.7359 - val_recall_4: 1.0000 - val_acc: 0.7848\n",
      "Epoch 13/50\n",
      "20/20 [==============================] - 1s 33ms/step - loss: 0.7951 - recall_4: 1.0000 - acc: 0.7247 - val_loss: 0.7356 - val_recall_4: 1.0000 - val_acc: 0.7848\n",
      "Epoch 14/50\n",
      "20/20 [==============================] - 1s 33ms/step - loss: 0.7944 - recall_4: 1.0000 - acc: 0.7247 - val_loss: 0.7352 - val_recall_4: 1.0000 - val_acc: 0.7848\n",
      "Epoch 15/50\n",
      "20/20 [==============================] - 1s 34ms/step - loss: 0.7935 - recall_4: 1.0000 - acc: 0.7247 - val_loss: 0.7345 - val_recall_4: 1.0000 - val_acc: 0.7848\n"
     ]
    }
   ],
   "source": [
    "model5.compile(optimizer='sgd',\n",
    "              loss='binary_crossentropy',\n",
    "              metrics=[tf.keras.metrics.Recall(), 'acc'])\n",
    "\n",
    "results5 = model5.fit(X_train, \n",
    "                    y_train,\n",
    "                    callbacks=early_stopping,\n",
    "                    epochs=50,\n",
    "                    batch_size=32,\n",
    "                    validation_data=(X_val, y_val))"
   ]
  },
  {
   "cell_type": "code",
   "execution_count": 39,
   "metadata": {},
   "outputs": [
    {
     "data": {
      "image/png": "[encoded data removed]",
      "text/plain": [
       "<Figure size 432x288 with 1 Axes>"
      ]
     },
     "metadata": {
      "needs_background": "light"
     },
     "output_type": "display_data"
    }
   ],
   "source": [
    "visualize_results(results5)"
   ]
  },
  {
   "cell_type": "code",
   "execution_count": 40,
   "metadata": {},
   "outputs": [
    {
     "name": "stdout",
     "output_type": "stream",
     "text": [
      "Model: \"sequential_4\"\n",
      "_________________________________________________________________\n",
      "Layer (type)                 Output Shape              Param #   \n",
      "=================================================================\n",
      "conv2d_2 (Conv2D)            (None, 64, 64, 32)        320       \n",
      "_________________________________________________________________\n",
      "flatten_2 (Flatten)          (None, 131072)            0         \n",
      "_________________________________________________________________\n",
      "dense_16 (Dense)             (None, 16)                2097168   \n",
      "_________________________________________________________________\n",
      "dense_17 (Dense)             (None, 8)                 136       \n",
      "_________________________________________________________________\n",
      "dense_18 (Dense)             (None, 1)                 9         \n",
      "=================================================================\n",
      "Total params: 2,097,633\n",
      "Trainable params: 2,097,633\n",
      "Non-trainable params: 0\n",
      "_________________________________________________________________\n"
     ]
    }
   ],
   "source": [
    "model5.summary()"
   ]
  },
  {
   "cell_type": "markdown",
   "metadata": {},
   "source": [
    "### Insight: while model 5 has much lower variation, the accuracy is not good. From here, we will attempt to reduce the complexity of the model by implementing dropout regularization as well."
   ]
  },
  {
   "cell_type": "markdown",
   "metadata": {},
   "source": [
    "#### Dropout regularization tests to reduce complexity"
   ]
  },
  {
   "cell_type": "code",
   "execution_count": 41,
   "metadata": {},
   "outputs": [],
   "source": [
    "np.random.seed(42)\n",
    "\n",
    "model6 = models.Sequential()\n",
    "model6.add(layers.Conv2D(32, (3,3), activation='tanh',\n",
    "                        input_shape=(64, 64, 1)))\n",
    "\n",
    "model6.add(layers.Flatten())\n",
    "model6.add(layers.Dense(16, activation='tanh', kernel_regularizer=regularizers.l2(lambda_coeff)))\n",
    "model6.add(layers.Dropout(0.3))\n",
    "model6.add(layers.Dense(8, activation='tanh', kernel_regularizer=regularizers.l2(lambda_coeff)))\n",
    "model6.add(layers.Dropout(0.3))\n",
    "model6.add(layers.Dense(1, activation='sigmoid'))"
   ]
  },
  {
   "cell_type": "code",
   "execution_count": 42,
   "metadata": {
    "scrolled": true
   },
   "outputs": [
    {
     "name": "stdout",
     "output_type": "stream",
     "text": [
      "Epoch 1/50\n",
      "20/20 [==============================] - 1s 43ms/step - loss: 0.9154 - recall_5: 0.8646 - acc: 0.6614 - val_loss: 0.7383 - val_recall_5: 1.0000 - val_acc: 0.7848\n",
      "Epoch 2/50\n",
      "20/20 [==============================] - 1s 31ms/step - loss: 0.9370 - recall_5: 0.8319 - acc: 0.6456 - val_loss: 0.7387 - val_recall_5: 1.0000 - val_acc: 0.7848\n",
      "Epoch 3/50\n",
      "20/20 [==============================] - 1s 30ms/step - loss: 0.8736 - recall_5: 0.8297 - acc: 0.6472 - val_loss: 0.7356 - val_recall_5: 1.0000 - val_acc: 0.7848\n",
      "Epoch 4/50\n",
      "20/20 [==============================] - 1s 30ms/step - loss: 0.8897 - recall_5: 0.8603 - acc: 0.6630 - val_loss: 0.7334 - val_recall_5: 1.0000 - val_acc: 0.7848\n",
      "Epoch 5/50\n",
      "20/20 [==============================] - 1s 31ms/step - loss: 0.9106 - recall_5: 0.8603 - acc: 0.6551 - val_loss: 0.7327 - val_recall_5: 1.0000 - val_acc: 0.7848\n",
      "Epoch 6/50\n",
      "20/20 [==============================] - 1s 31ms/step - loss: 0.8846 - recall_5: 0.8624 - acc: 0.6566 - val_loss: 0.7320 - val_recall_5: 1.0000 - val_acc: 0.7848\n",
      "Epoch 7/50\n",
      "20/20 [==============================] - 1s 31ms/step - loss: 0.8984 - recall_5: 0.8581 - acc: 0.6614 - val_loss: 0.7307 - val_recall_5: 1.0000 - val_acc: 0.7848\n",
      "Epoch 8/50\n",
      "20/20 [==============================] - 1s 31ms/step - loss: 0.8914 - recall_5: 0.8734 - acc: 0.6693 - val_loss: 0.7301 - val_recall_5: 1.0000 - val_acc: 0.7848\n",
      "Epoch 9/50\n",
      "20/20 [==============================] - 1s 31ms/step - loss: 0.8486 - recall_5: 0.8690 - acc: 0.6883 - val_loss: 0.7278 - val_recall_5: 1.0000 - val_acc: 0.7848\n",
      "Epoch 10/50\n",
      "20/20 [==============================] - 1s 31ms/step - loss: 0.9220 - recall_5: 0.8624 - acc: 0.6424 - val_loss: 0.7272 - val_recall_5: 1.0000 - val_acc: 0.7848\n",
      "Epoch 11/50\n",
      "20/20 [==============================] - 1s 31ms/step - loss: 0.8786 - recall_5: 0.8886 - acc: 0.6804 - val_loss: 0.7259 - val_recall_5: 1.0000 - val_acc: 0.7848\n",
      "Epoch 12/50\n",
      "20/20 [==============================] - 1s 31ms/step - loss: 0.8781 - recall_5: 0.8559 - acc: 0.6551 - val_loss: 0.7245 - val_recall_5: 1.0000 - val_acc: 0.7848\n",
      "Epoch 13/50\n",
      "20/20 [==============================] - 1s 31ms/step - loss: 0.9172 - recall_5: 0.8581 - acc: 0.6456 - val_loss: 0.7234 - val_recall_5: 1.0000 - val_acc: 0.7848\n",
      "Epoch 14/50\n",
      "20/20 [==============================] - 1s 31ms/step - loss: 0.8574 - recall_5: 0.9105 - acc: 0.6851 - val_loss: 0.7241 - val_recall_5: 1.0000 - val_acc: 0.7848\n",
      "Epoch 15/50\n",
      "20/20 [==============================] - 1s 30ms/step - loss: 0.8607 - recall_5: 0.8799 - acc: 0.6661 - val_loss: 0.7231 - val_recall_5: 1.0000 - val_acc: 0.7848\n",
      "Epoch 16/50\n",
      "20/20 [==============================] - 1s 32ms/step - loss: 0.8480 - recall_5: 0.9127 - acc: 0.7009 - val_loss: 0.7228 - val_recall_5: 1.0000 - val_acc: 0.7848\n",
      "Epoch 17/50\n",
      "20/20 [==============================] - 1s 31ms/step - loss: 0.8227 - recall_5: 0.9301 - acc: 0.7073 - val_loss: 0.7222 - val_recall_5: 1.0000 - val_acc: 0.7848\n",
      "Epoch 18/50\n",
      "20/20 [==============================] - 1s 30ms/step - loss: 0.8335 - recall_5: 0.8996 - acc: 0.6835 - val_loss: 0.7209 - val_recall_5: 1.0000 - val_acc: 0.7848\n",
      "Epoch 19/50\n",
      "20/20 [==============================] - 1s 31ms/step - loss: 0.8840 - recall_5: 0.8755 - acc: 0.6551 - val_loss: 0.7199 - val_recall_5: 1.0000 - val_acc: 0.7848\n",
      "Epoch 20/50\n",
      "20/20 [==============================] - 1s 31ms/step - loss: 0.8448 - recall_5: 0.8996 - acc: 0.6772 - val_loss: 0.7198 - val_recall_5: 1.0000 - val_acc: 0.7848\n",
      "Epoch 21/50\n",
      "20/20 [==============================] - 1s 31ms/step - loss: 0.8359 - recall_5: 0.8996 - acc: 0.6709 - val_loss: 0.7182 - val_recall_5: 1.0000 - val_acc: 0.7848\n",
      "Epoch 22/50\n",
      "20/20 [==============================] - 1s 30ms/step - loss: 0.8560 - recall_5: 0.8930 - acc: 0.6756 - val_loss: 0.7176 - val_recall_5: 1.0000 - val_acc: 0.7848\n",
      "Epoch 23/50\n",
      "20/20 [==============================] - 1s 31ms/step - loss: 0.8476 - recall_5: 0.9039 - acc: 0.6899 - val_loss: 0.7167 - val_recall_5: 1.0000 - val_acc: 0.7848\n",
      "Epoch 24/50\n",
      "20/20 [==============================] - 1s 31ms/step - loss: 0.8320 - recall_5: 0.9083 - acc: 0.6915 - val_loss: 0.7157 - val_recall_5: 1.0000 - val_acc: 0.7848\n",
      "Epoch 25/50\n",
      "20/20 [==============================] - 1s 31ms/step - loss: 0.8203 - recall_5: 0.9279 - acc: 0.6899 - val_loss: 0.7161 - val_recall_5: 1.0000 - val_acc: 0.7848\n",
      "Epoch 26/50\n",
      "20/20 [==============================] - 1s 31ms/step - loss: 0.8443 - recall_5: 0.9061 - acc: 0.6835 - val_loss: 0.7145 - val_recall_5: 1.0000 - val_acc: 0.7848\n",
      "Epoch 27/50\n",
      "20/20 [==============================] - 1s 31ms/step - loss: 0.8359 - recall_5: 0.9279 - acc: 0.6994 - val_loss: 0.7143 - val_recall_5: 1.0000 - val_acc: 0.7848\n",
      "Epoch 28/50\n",
      "20/20 [==============================] - 1s 32ms/step - loss: 0.8276 - recall_5: 0.9258 - acc: 0.6867 - val_loss: 0.7145 - val_recall_5: 1.0000 - val_acc: 0.7848\n",
      "Epoch 29/50\n",
      "20/20 [==============================] - 1s 31ms/step - loss: 0.8330 - recall_5: 0.9214 - acc: 0.6867 - val_loss: 0.7136 - val_recall_5: 1.0000 - val_acc: 0.7848\n",
      "Epoch 30/50\n",
      "20/20 [==============================] - 1s 31ms/step - loss: 0.8194 - recall_5: 0.9541 - acc: 0.7104 - val_loss: 0.7133 - val_recall_5: 1.0000 - val_acc: 0.7848\n",
      "Epoch 31/50\n",
      "20/20 [==============================] - 1s 31ms/step - loss: 0.8207 - recall_5: 0.9148 - acc: 0.6883 - val_loss: 0.7119 - val_recall_5: 1.0000 - val_acc: 0.7848\n",
      "Epoch 32/50\n",
      "20/20 [==============================] - 1s 32ms/step - loss: 0.8084 - recall_5: 0.9432 - acc: 0.7041 - val_loss: 0.7115 - val_recall_5: 1.0000 - val_acc: 0.7848\n",
      "Epoch 33/50\n",
      "20/20 [==============================] - 1s 31ms/step - loss: 0.8461 - recall_5: 0.9236 - acc: 0.6772 - val_loss: 0.7110 - val_recall_5: 1.0000 - val_acc: 0.7848\n",
      "Epoch 34/50\n",
      "20/20 [==============================] - 1s 31ms/step - loss: 0.8038 - recall_5: 0.9389 - acc: 0.7057 - val_loss: 0.7113 - val_recall_5: 1.0000 - val_acc: 0.7848\n",
      "Epoch 35/50\n",
      "20/20 [==============================] - 1s 32ms/step - loss: 0.8152 - recall_5: 0.9279 - acc: 0.6883 - val_loss: 0.7109 - val_recall_5: 1.0000 - val_acc: 0.7848\n",
      "Epoch 36/50\n",
      "20/20 [==============================] - 1s 32ms/step - loss: 0.7926 - recall_5: 0.9476 - acc: 0.7073 - val_loss: 0.7100 - val_recall_5: 1.0000 - val_acc: 0.7848\n",
      "Epoch 37/50\n",
      "20/20 [==============================] - 1s 32ms/step - loss: 0.8059 - recall_5: 0.9279 - acc: 0.6835 - val_loss: 0.7084 - val_recall_5: 1.0000 - val_acc: 0.7848\n",
      "Epoch 38/50\n",
      "20/20 [==============================] - 1s 32ms/step - loss: 0.8026 - recall_5: 0.9454 - acc: 0.7025 - val_loss: 0.7079 - val_recall_5: 1.0000 - val_acc: 0.7848\n",
      "Epoch 39/50\n",
      "20/20 [==============================] - 1s 32ms/step - loss: 0.8187 - recall_5: 0.9323 - acc: 0.6946 - val_loss: 0.7079 - val_recall_5: 1.0000 - val_acc: 0.7848\n",
      "Epoch 40/50\n",
      "20/20 [==============================] - 1s 33ms/step - loss: 0.7896 - recall_5: 0.9498 - acc: 0.7120 - val_loss: 0.7061 - val_recall_5: 1.0000 - val_acc: 0.7848\n",
      "Epoch 41/50\n",
      "20/20 [==============================] - 1s 33ms/step - loss: 0.8165 - recall_5: 0.9432 - acc: 0.6978 - val_loss: 0.7059 - val_recall_5: 1.0000 - val_acc: 0.7848\n",
      "Epoch 42/50\n",
      "20/20 [==============================] - 1s 35ms/step - loss: 0.8038 - recall_5: 0.9432 - acc: 0.6867 - val_loss: 0.7048 - val_recall_5: 1.0000 - val_acc: 0.7848\n",
      "Epoch 43/50\n",
      "20/20 [==============================] - 1s 33ms/step - loss: 0.7865 - recall_5: 0.9476 - acc: 0.7057 - val_loss: 0.7045 - val_recall_5: 1.0000 - val_acc: 0.7848\n",
      "Epoch 44/50\n",
      "20/20 [==============================] - 1s 32ms/step - loss: 0.7874 - recall_5: 0.9585 - acc: 0.7073 - val_loss: 0.7037 - val_recall_5: 1.0000 - val_acc: 0.7848\n",
      "Epoch 45/50\n",
      "20/20 [==============================] - 1s 32ms/step - loss: 0.8046 - recall_5: 0.9585 - acc: 0.7057 - val_loss: 0.7035 - val_recall_5: 1.0000 - val_acc: 0.7848\n",
      "Epoch 46/50\n",
      "20/20 [==============================] - 1s 31ms/step - loss: 0.7854 - recall_5: 0.9760 - acc: 0.7136 - val_loss: 0.7040 - val_recall_5: 1.0000 - val_acc: 0.7848\n",
      "Epoch 47/50\n",
      "20/20 [==============================] - 1s 32ms/step - loss: 0.8050 - recall_5: 0.9476 - acc: 0.7041 - val_loss: 0.7032 - val_recall_5: 1.0000 - val_acc: 0.7848\n",
      "Epoch 48/50\n"
     ]
    },
    {
     "name": "stdout",
     "output_type": "stream",
     "text": [
      "20/20 [==============================] - 1s 32ms/step - loss: 0.7981 - recall_5: 0.9563 - acc: 0.7025 - val_loss: 0.7025 - val_recall_5: 1.0000 - val_acc: 0.7848\n",
      "Epoch 49/50\n",
      "20/20 [==============================] - 1s 31ms/step - loss: 0.7878 - recall_5: 0.9694 - acc: 0.7231 - val_loss: 0.7011 - val_recall_5: 1.0000 - val_acc: 0.7848\n",
      "Epoch 50/50\n",
      "20/20 [==============================] - 1s 33ms/step - loss: 0.7953 - recall_5: 0.9585 - acc: 0.6994 - val_loss: 0.7013 - val_recall_5: 1.0000 - val_acc: 0.7848\n"
     ]
    }
   ],
   "source": [
    "model6.compile(optimizer='sgd',\n",
    "              loss='binary_crossentropy',\n",
    "              metrics=[tf.keras.metrics.Recall(), 'acc'])\n",
    "\n",
    "results6 = model6.fit(X_train, \n",
    "                    y_train,\n",
    "                    callbacks=early_stopping,\n",
    "                    epochs=50,\n",
    "                    batch_size=32,\n",
    "                    validation_data=(X_val, y_val))"
   ]
  },
  {
   "cell_type": "code",
   "execution_count": 43,
   "metadata": {},
   "outputs": [
    {
     "name": "stdout",
     "output_type": "stream",
     "text": [
      "20/20 [==============================] - 0s 13ms/step - loss: 0.7602 - recall_5: 1.0000 - acc: 0.7247\n"
     ]
    }
   ],
   "source": [
    "results_train6 = model6.evaluate(X_train, y_train)"
   ]
  },
  {
   "cell_type": "code",
   "execution_count": 44,
   "metadata": {},
   "outputs": [
    {
     "name": "stdout",
     "output_type": "stream",
     "text": [
      "5/5 [==============================] - 0s 9ms/step - loss: 0.7013 - recall_5: 1.0000 - acc: 0.7848\n"
     ]
    }
   ],
   "source": [
    "results_val6 = model6.evaluate(X_val, y_val)"
   ]
  },
  {
   "cell_type": "code",
   "execution_count": 45,
   "metadata": {},
   "outputs": [
    {
     "data": {
      "image/png": "[encoded data removed]",
      "text/plain": [
       "<Figure size 432x288 with 1 Axes>"
      ]
     },
     "metadata": {
      "needs_background": "light"
     },
     "output_type": "display_data"
    }
   ],
   "source": [
    "visualize_results(results6)"
   ]
  },
  {
   "cell_type": "markdown",
   "metadata": {},
   "source": [
    "#### dropout drastically reduces variance of the validation set, but the testing set variance is still very high. The recall value of 1 indicates there is still overfitting.  Will introduce padding parameter to improve loss values."
   ]
  },
  {
   "cell_type": "code",
   "execution_count": 46,
   "metadata": {},
   "outputs": [],
   "source": [
    "#introducing padding\n",
    "np.random.seed(42)\n",
    "model7 = models.Sequential()\n",
    "model7.add(layers.Conv2D(32, (3,3), activation='tanh',\n",
    "                        input_shape=(64, 64, 1), padding='same'))\n",
    "\n",
    "model7.add(layers.Flatten())\n",
    "model7.add(layers.Dense(42, activation='tanh'))\n",
    "model7.add(layers.Dropout(0.3))\n",
    "model7.add(layers.Dense(21, activation='tanh'))\n",
    "model7.add(layers.Dropout(0.3))\n",
    "model7.add(layers.Dense(1, activation='sigmoid'))"
   ]
  },
  {
   "cell_type": "code",
   "execution_count": 47,
   "metadata": {
    "scrolled": true
   },
   "outputs": [
    {
     "name": "stdout",
     "output_type": "stream",
     "text": [
      "Epoch 1/50\n",
      "20/20 [==============================] - 1s 58ms/step - loss: 0.7155 - recall_6: 0.9367 - acc: 0.6930 - val_loss: 0.5241 - val_recall_6: 1.0000 - val_acc: 0.7848\n",
      "Epoch 2/50\n",
      "20/20 [==============================] - 1s 41ms/step - loss: 0.6402 - recall_6: 0.9541 - acc: 0.7057 - val_loss: 0.5209 - val_recall_6: 1.0000 - val_acc: 0.7848\n",
      "Epoch 3/50\n",
      "20/20 [==============================] - 1s 41ms/step - loss: 0.6722 - recall_6: 0.9432 - acc: 0.6946 - val_loss: 0.5221 - val_recall_6: 1.0000 - val_acc: 0.7848\n",
      "Epoch 4/50\n",
      "20/20 [==============================] - 1s 41ms/step - loss: 0.6648 - recall_6: 0.9083 - acc: 0.6804 - val_loss: 0.5222 - val_recall_6: 1.0000 - val_acc: 0.7848\n",
      "Epoch 5/50\n",
      "20/20 [==============================] - 1s 39ms/step - loss: 0.6542 - recall_6: 0.9214 - acc: 0.6835 - val_loss: 0.5243 - val_recall_6: 1.0000 - val_acc: 0.7848\n",
      "Epoch 6/50\n",
      "20/20 [==============================] - 1s 41ms/step - loss: 0.6429 - recall_6: 0.9148 - acc: 0.6883 - val_loss: 0.5232 - val_recall_6: 1.0000 - val_acc: 0.7848\n",
      "Epoch 7/50\n",
      "20/20 [==============================] - 1s 39ms/step - loss: 0.6241 - recall_6: 0.9127 - acc: 0.6804 - val_loss: 0.5236 - val_recall_6: 1.0000 - val_acc: 0.7848\n",
      "Epoch 8/50\n",
      "20/20 [==============================] - 1s 43ms/step - loss: 0.6331 - recall_6: 0.9279 - acc: 0.7025 - val_loss: 0.5232 - val_recall_6: 1.0000 - val_acc: 0.7848\n",
      "Epoch 9/50\n",
      "20/20 [==============================] - 1s 44ms/step - loss: 0.6625 - recall_6: 0.9170 - acc: 0.6804 - val_loss: 0.5234 - val_recall_6: 1.0000 - val_acc: 0.7848\n",
      "Epoch 10/50\n",
      "20/20 [==============================] - 1s 45ms/step - loss: 0.6222 - recall_6: 0.9432 - acc: 0.7009 - val_loss: 0.5231 - val_recall_6: 1.0000 - val_acc: 0.7848\n",
      "Epoch 11/50\n",
      "20/20 [==============================] - 1s 44ms/step - loss: 0.6473 - recall_6: 0.9214 - acc: 0.6788 - val_loss: 0.5240 - val_recall_6: 1.0000 - val_acc: 0.7848\n",
      "Epoch 12/50\n",
      "20/20 [==============================] - ETA: 0s - loss: 0.6276 - recall_6: 0.9410 - acc: 0.70 - 1s 48ms/step - loss: 0.6276 - recall_6: 0.9410 - acc: 0.7009 - val_loss: 0.5257 - val_recall_6: 1.0000 - val_acc: 0.7848\n"
     ]
    }
   ],
   "source": [
    "model7.compile(optimizer='sgd',\n",
    "              loss='binary_crossentropy',\n",
    "              metrics=[tf.keras.metrics.Recall(), 'acc'])\n",
    "\n",
    "results7 = model7.fit(X_train, \n",
    "                    y_train,\n",
    "                    callbacks=early_stopping,\n",
    "                    epochs=50,\n",
    "                    batch_size=32,\n",
    "                    validation_data=(X_val, y_val))"
   ]
  },
  {
   "cell_type": "code",
   "execution_count": 48,
   "metadata": {},
   "outputs": [
    {
     "data": {
      "image/png": "[encoded data removed]",
      "text/plain": [
       "<Figure size 432x288 with 1 Axes>"
      ]
     },
     "metadata": {
      "needs_background": "light"
     },
     "output_type": "display_data"
    }
   ],
   "source": [
    "visualize_results(results7)"
   ]
  },
  {
   "cell_type": "markdown",
   "metadata": {},
   "source": [
    "#### Insight: while the variation of the validation set is minimial, the accuracy of the model is still too low. From here, we will generate predictions with the best performing model."
   ]
  },
  {
   "cell_type": "markdown",
   "metadata": {},
   "source": [
    "### Predictions with model 4, which has the highest accuracy and lowest variation in the validation set despite being overfit."
   ]
  },
  {
   "cell_type": "code",
   "execution_count": 49,
   "metadata": {},
   "outputs": [],
   "source": [
    "#generate predictions, evaluate probabilities as 0 or 1\n",
    "label_pred = (model4.predict(X_val) > 0.5).astype(int)\n",
    "\n",
    "cf_matrix = confusion_matrix(y_val, label_pred)"
   ]
  },
  {
   "cell_type": "code",
   "execution_count": 50,
   "metadata": {},
   "outputs": [
    {
     "data": {
      "text/plain": [
       "array([[1],\n",
       "       [1],\n",
       "       [1],\n",
       "       [1],\n",
       "       [1],\n",
       "       [1],\n",
       "       [1],\n",
       "       [1],\n",
       "       [1],\n",
       "       [1],\n",
       "       [1],\n",
       "       [1],\n",
       "       [1],\n",
       "       [1],\n",
       "       [1],\n",
       "       [1],\n",
       "       [1],\n",
       "       [1],\n",
       "       [1],\n",
       "       [1],\n",
       "       [1],\n",
       "       [1],\n",
       "       [1],\n",
       "       [1],\n",
       "       [1],\n",
       "       [1],\n",
       "       [1],\n",
       "       [1],\n",
       "       [1],\n",
       "       [1],\n",
       "       [1],\n",
       "       [1],\n",
       "       [1],\n",
       "       [1],\n",
       "       [1],\n",
       "       [1],\n",
       "       [1],\n",
       "       [1],\n",
       "       [1],\n",
       "       [1],\n",
       "       [1],\n",
       "       [1],\n",
       "       [1],\n",
       "       [1],\n",
       "       [1],\n",
       "       [1],\n",
       "       [1],\n",
       "       [1],\n",
       "       [1],\n",
       "       [1],\n",
       "       [1],\n",
       "       [1],\n",
       "       [1],\n",
       "       [1],\n",
       "       [1],\n",
       "       [1],\n",
       "       [1],\n",
       "       [1],\n",
       "       [1],\n",
       "       [1],\n",
       "       [1],\n",
       "       [1],\n",
       "       [1],\n",
       "       [1],\n",
       "       [1],\n",
       "       [1],\n",
       "       [1],\n",
       "       [1],\n",
       "       [1],\n",
       "       [1],\n",
       "       [1],\n",
       "       [1],\n",
       "       [1],\n",
       "       [1],\n",
       "       [1],\n",
       "       [1],\n",
       "       [1],\n",
       "       [1],\n",
       "       [1],\n",
       "       [1],\n",
       "       [1],\n",
       "       [1],\n",
       "       [1],\n",
       "       [1],\n",
       "       [1],\n",
       "       [1],\n",
       "       [1],\n",
       "       [1],\n",
       "       [1],\n",
       "       [1],\n",
       "       [1],\n",
       "       [1],\n",
       "       [1],\n",
       "       [1],\n",
       "       [1],\n",
       "       [1],\n",
       "       [1],\n",
       "       [1],\n",
       "       [1],\n",
       "       [1],\n",
       "       [1],\n",
       "       [1],\n",
       "       [1],\n",
       "       [1],\n",
       "       [1],\n",
       "       [1],\n",
       "       [1],\n",
       "       [1],\n",
       "       [1],\n",
       "       [1],\n",
       "       [1],\n",
       "       [1],\n",
       "       [1],\n",
       "       [1],\n",
       "       [1],\n",
       "       [1],\n",
       "       [1],\n",
       "       [1],\n",
       "       [1],\n",
       "       [1],\n",
       "       [1],\n",
       "       [1],\n",
       "       [1],\n",
       "       [1],\n",
       "       [1],\n",
       "       [1],\n",
       "       [1],\n",
       "       [1],\n",
       "       [1],\n",
       "       [1],\n",
       "       [1],\n",
       "       [1],\n",
       "       [1],\n",
       "       [1],\n",
       "       [1],\n",
       "       [1],\n",
       "       [1],\n",
       "       [1],\n",
       "       [1],\n",
       "       [1],\n",
       "       [1],\n",
       "       [1],\n",
       "       [1],\n",
       "       [1],\n",
       "       [1],\n",
       "       [1],\n",
       "       [1],\n",
       "       [1],\n",
       "       [1],\n",
       "       [1],\n",
       "       [1],\n",
       "       [1],\n",
       "       [1],\n",
       "       [1],\n",
       "       [1],\n",
       "       [1],\n",
       "       [1],\n",
       "       [1]])"
      ]
     },
     "execution_count": 50,
     "metadata": {},
     "output_type": "execute_result"
    }
   ],
   "source": [
    "label_pred"
   ]
  },
  {
   "cell_type": "code",
   "execution_count": 51,
   "metadata": {},
   "outputs": [
    {
     "data": {
      "image/png": "[encoded data removed]",
      "text/plain": [
       "<Figure size 432x288 with 2 Axes>"
      ]
     },
     "metadata": {
      "needs_background": "light"
     },
     "output_type": "display_data"
    }
   ],
   "source": [
    "#plot confusion matrix\n",
    "\n",
    "sns.heatmap(cf_matrix, annot=True);"
   ]
  },
  {
   "cell_type": "markdown",
   "metadata": {},
   "source": [
    "## Summary \n",
    "\n",
    "#### tanh doesn't seem to be a suitable activation function for image prediction in this model. All the models are prone to overfitting, and the accuracy values, while consistent between the training and validation sets, are consistently low. Accurately predicting pneumonia diagnosis is a high stakes prediction, and low accuracy values have consequences for individuals after deployment. Our final model will use the ReLu activation function, as it is consistently better performing than other activation functions."
   ]
  },
  {
   "cell_type": "code",
   "execution_count": null,
   "metadata": {},
   "outputs": [],
   "source": []
  }
 ],
 "metadata": {
  "kernelspec": {
   "display_name": "Python 3",
   "language": "python",
   "name": "python3"
  },
  "language_info": {
   "codemirror_mode": {
    "name": "ipython",
    "version": 3
   },
   "file_extension": ".py",
   "mimetype": "text/x-python",
   "name": "python",
   "nbconvert_exporter": "python",
   "pygments_lexer": "ipython3",
   "version": "3.8.5"
  }
 },
 "nbformat": 4,
 "nbformat_minor": 4
}
