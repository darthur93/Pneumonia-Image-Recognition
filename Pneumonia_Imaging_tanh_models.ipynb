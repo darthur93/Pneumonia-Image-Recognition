{
 "cells": [
  {
   "cell_type": "markdown",
   "metadata": {},
   "source": [
    "## Load Packages"
   ]
  },
  {
   "cell_type": "code",
   "execution_count": 1,
   "metadata": {},
   "outputs": [],
   "source": [
    "import pandas as pd\n",
    "import numpy as np\n",
    "import matplotlib.pyplot as plt\n",
    "import os\n",
    "import tensorflow as tf\n",
    "import seaborn as sns\n",
    "\n",
    "from sklearn.model_selection import train_test_split\n",
    "from sklearn.metrics import confusion_matrix\n",
    "\n",
    "from keras.preprocessing.image import ImageDataGenerator, array_to_img, img_to_array, load_img\n",
    "from keras import models, layers, regularizers\n",
    "from keras import layers\n",
    "from keras.callbacks import EarlyStopping, ModelCheckpoint"
   ]
  },
  {
   "cell_type": "markdown",
   "metadata": {},
   "source": [
    "## Load data\n",
    "\n",
    "#### We use grayscale color mode since these are X-ray images. Binary class mode is used to distinguish between normal and pneumonia images."
   ]
  },
  {
   "cell_type": "code",
   "execution_count": 2,
   "metadata": {},
   "outputs": [
    {
     "name": "stdout",
     "output_type": "stream",
     "text": [
      "Found 624 images belonging to 2 classes.\n",
      "Found 5232 images belonging to 2 classes.\n"
     ]
    }
   ],
   "source": [
    "train_data_dir = 'ZhangLabData/CellData/chest_xray/train'\n",
    "test_data_dir = 'ZhangLabData/CellData/chest_xray/test'\n",
    "\n",
    "#Get all the data in the directory data/validation (132 images), and reshape them\n",
    "test_generator = ImageDataGenerator().flow_from_directory(\n",
    "       test_data_dir, \n",
    "       target_size=(64, 64), batch_size=132, color_mode='grayscale', class_mode='binary')\n",
    "\n",
    "#Get all the data in the directory data/train (790 images), and reshape them\n",
    "train_generator = ImageDataGenerator().flow_from_directory(\n",
    "       train_data_dir, \n",
    "       target_size=(64, 64), batch_size=790, color_mode='grayscale', class_mode='binary')\n",
    "\n",
    "#Create the datasets\n",
    "train_images, train_labels = next(train_generator)\n",
    "test_images, test_labels = next(test_generator)"
   ]
  },
  {
   "cell_type": "code",
   "execution_count": 3,
   "metadata": {
    "scrolled": true
   },
   "outputs": [
    {
     "name": "stdout",
     "output_type": "stream",
     "text": [
      "[1. 1. 1. 1. 1. 1. 0. 0. 0. 1.]\n"
     ]
    }
   ],
   "source": [
    "print(train_labels[:10])"
   ]
  },
  {
   "cell_type": "markdown",
   "metadata": {},
   "source": [
    "## PREPROCESSING\n",
    "#### Create validation set from training set"
   ]
  },
  {
   "cell_type": "code",
   "execution_count": 4,
   "metadata": {},
   "outputs": [],
   "source": [
    "X = train_images\n",
    "y = train_labels\n",
    "\n",
    "X_train, X_val, y_train, y_val = train_test_split(X, y, test_size=0.2, random_state=42)\n",
    "\n"
   ]
  },
  {
   "cell_type": "code",
   "execution_count": 5,
   "metadata": {},
   "outputs": [
    {
     "data": {
      "text/plain": [
       "(790, 64, 64, 1)"
      ]
     },
     "execution_count": 5,
     "metadata": {},
     "output_type": "execute_result"
    }
   ],
   "source": [
    "train_images.shape"
   ]
  },
  {
   "cell_type": "markdown",
   "metadata": {},
   "source": [
    "#### Preview images (Normal)"
   ]
  },
  {
   "cell_type": "code",
   "execution_count": 6,
   "metadata": {},
   "outputs": [
    {
     "name": "stdout",
     "output_type": "stream",
     "text": [
      "X_train shape:  (632, 64, 64, 1)\n",
      "y_train shape:  (632,)\n",
      "X_val shape:  (158, 64, 64, 1)\n",
      "y_val shape:  (158,)\n"
     ]
    }
   ],
   "source": [
    "print('X_train shape: ',np.shape(X_train))\n",
    "print('y_train shape: ',np.shape(y_train))\n",
    "print('X_val shape: ',np.shape(X_val))\n",
    "print('y_val shape: ',np.shape(y_val))"
   ]
  },
  {
   "cell_type": "code",
   "execution_count": 7,
   "metadata": {},
   "outputs": [
    {
     "data": {
      "text/plain": [
       "(132, 64, 64, 1)"
      ]
     },
     "execution_count": 7,
     "metadata": {},
     "output_type": "execute_result"
    }
   ],
   "source": [
    "test_images.shape"
   ]
  },
  {
   "cell_type": "markdown",
   "metadata": {},
   "source": [
    "#### Reshape  images"
   ]
  },
  {
   "cell_type": "code",
   "execution_count": 8,
   "metadata": {},
   "outputs": [
    {
     "data": {
      "text/plain": [
       "(632, 4096)"
      ]
     },
     "execution_count": 8,
     "metadata": {},
     "output_type": "execute_result"
    }
   ],
   "source": [
    "#train set\n",
    "X_train_unrow = X_train.reshape(632, -1)\n",
    "X_train_unrow.shape"
   ]
  },
  {
   "cell_type": "code",
   "execution_count": 9,
   "metadata": {},
   "outputs": [
    {
     "data": {
      "text/plain": [
       "(158, 4096)"
      ]
     },
     "execution_count": 9,
     "metadata": {},
     "output_type": "execute_result"
    }
   ],
   "source": [
    "#test set\n",
    "X_val_unrow = X_val.reshape(158, -1)\n",
    "X_val_unrow.shape"
   ]
  },
  {
   "cell_type": "markdown",
   "metadata": {},
   "source": [
    "#### Labels for images"
   ]
  },
  {
   "cell_type": "code",
   "execution_count": 10,
   "metadata": {},
   "outputs": [
    {
     "data": {
      "text/plain": [
       "array([1., 1., 1., 1., 1., 0., 1., 1., 1., 1.], dtype=float32)"
      ]
     },
     "execution_count": 10,
     "metadata": {},
     "output_type": "execute_result"
    }
   ],
   "source": [
    "y_train[:10]"
   ]
  },
  {
   "cell_type": "code",
   "execution_count": 11,
   "metadata": {},
   "outputs": [
    {
     "data": {
      "text/plain": [
       "{'NORMAL': 0, 'PNEUMONIA': 1}"
      ]
     },
     "execution_count": 11,
     "metadata": {},
     "output_type": "execute_result"
    }
   ],
   "source": [
    "train_generator.class_indices"
   ]
  },
  {
   "cell_type": "markdown",
   "metadata": {},
   "source": [
    "#### Scale data and validate shapes"
   ]
  },
  {
   "cell_type": "code",
   "execution_count": 12,
   "metadata": {},
   "outputs": [
    {
     "data": {
      "text/plain": [
       "numpy.ndarray"
      ]
     },
     "execution_count": 12,
     "metadata": {},
     "output_type": "execute_result"
    }
   ],
   "source": [
    "#scaling the data\n",
    "X_train_img_final = X_train_unrow/255\n",
    "X_val_img_final = X_val_unrow/255\n",
    "\n",
    "type(X_val_img_final)"
   ]
  },
  {
   "cell_type": "code",
   "execution_count": 13,
   "metadata": {},
   "outputs": [
    {
     "name": "stdout",
     "output_type": "stream",
     "text": [
      "(632, 4096)\n",
      "(158, 4096)\n"
     ]
    }
   ],
   "source": [
    "print(X_train_img_final.shape)\n",
    "print(X_val_img_final.shape)"
   ]
  },
  {
   "cell_type": "markdown",
   "metadata": {},
   "source": [
    "## Model creation\n",
    "#### We will use recall as our metric, as we're more concerned about false negatives than false positives."
   ]
  },
  {
   "cell_type": "markdown",
   "metadata": {},
   "source": [
    "#### Baseline Model with DummyClassifier"
   ]
  },
  {
   "cell_type": "code",
   "execution_count": 14,
   "metadata": {},
   "outputs": [
    {
     "data": {
      "text/plain": [
       "DummyClassifier(strategy='most_frequent')"
      ]
     },
     "execution_count": 14,
     "metadata": {},
     "output_type": "execute_result"
    }
   ],
   "source": [
    "#dummy classifer/regressor for baseline\n",
    "from sklearn.dummy import DummyClassifier\n",
    "\n",
    "dummy = DummyClassifier(strategy='most_frequent')\n",
    "dummy.fit(X_train_img_final, y_train)"
   ]
  },
  {
   "cell_type": "code",
   "execution_count": 15,
   "metadata": {
    "scrolled": false
   },
   "outputs": [
    {
     "data": {
      "text/plain": [
       "array([1., 1., 1., 1., 1., 1., 1., 1., 1., 1., 1., 1., 1., 1., 1., 1., 1.,\n",
       "       1., 1., 1., 1., 1., 1., 1., 1., 1., 1., 1., 1., 1., 1., 1., 1., 1.,\n",
       "       1., 1., 1., 1., 1., 1., 1., 1., 1., 1., 1., 1., 1., 1., 1., 1., 1.,\n",
       "       1., 1., 1., 1., 1., 1., 1., 1., 1., 1., 1., 1., 1., 1., 1., 1., 1.,\n",
       "       1., 1., 1., 1., 1., 1., 1., 1., 1., 1., 1., 1., 1., 1., 1., 1., 1.,\n",
       "       1., 1., 1., 1., 1., 1., 1., 1., 1., 1., 1., 1., 1., 1., 1., 1., 1.,\n",
       "       1., 1., 1., 1., 1., 1., 1., 1., 1., 1., 1., 1., 1., 1., 1., 1., 1.,\n",
       "       1., 1., 1., 1., 1., 1., 1., 1., 1., 1., 1., 1., 1., 1., 1., 1., 1.,\n",
       "       1., 1., 1., 1., 1., 1., 1., 1., 1., 1., 1., 1., 1., 1., 1., 1., 1.,\n",
       "       1., 1., 1., 1., 1.], dtype=float32)"
      ]
     },
     "execution_count": 15,
     "metadata": {},
     "output_type": "execute_result"
    }
   ],
   "source": [
    "dummy.predict(X_val_img_final)"
   ]
  },
  {
   "cell_type": "code",
   "execution_count": 16,
   "metadata": {},
   "outputs": [
    {
     "data": {
      "text/plain": [
       "0.810126582278481"
      ]
     },
     "execution_count": 16,
     "metadata": {},
     "output_type": "execute_result"
    }
   ],
   "source": [
    "dummy.score(X_val_img_final, y_val)"
   ]
  },
  {
   "cell_type": "markdown",
   "metadata": {},
   "source": [
    "#### Initial Neural Network Model Creation using tanh activation function"
   ]
  },
  {
   "cell_type": "code",
   "execution_count": 17,
   "metadata": {},
   "outputs": [],
   "source": [
    "np.random.seed(42)\n",
    "model = models.Sequential()\n",
    "model.add(layers.Dense(63, activation='tanh', input_shape=(4096,)))\n",
    "model.add(layers.Dense(42, activation='tanh'))\n",
    "model.add(layers.Dense(21, activation='tanh'))\n",
    "model.add(layers.Dense(1, activation='sigmoid')) #output layer, binary classification"
   ]
  },
  {
   "cell_type": "code",
   "execution_count": 18,
   "metadata": {
    "collapsed": true
   },
   "outputs": [
    {
     "name": "stdout",
     "output_type": "stream",
     "text": [
      "Epoch 1/50\n",
      "20/20 [==============================] - 0s 15ms/step - loss: 0.5747 - recall: 0.9462 - acc: 0.7326 - val_loss: 0.4545 - val_recall: 1.0000 - val_acc: 0.8101\n",
      "Epoch 2/50\n",
      "20/20 [==============================] - 0s 2ms/step - loss: 0.5071 - recall: 0.9979 - acc: 0.7642 - val_loss: 0.4235 - val_recall: 1.0000 - val_acc: 0.8101\n",
      "Epoch 3/50\n",
      "20/20 [==============================] - 0s 2ms/step - loss: 0.4835 - recall: 0.9524 - acc: 0.7658 - val_loss: 0.3781 - val_recall: 1.0000 - val_acc: 0.8101\n",
      "Epoch 4/50\n",
      "20/20 [==============================] - 0s 2ms/step - loss: 0.4234 - recall: 0.9793 - acc: 0.7959 - val_loss: 0.6092 - val_recall: 0.6016 - val_acc: 0.6772\n",
      "Epoch 5/50\n",
      "20/20 [==============================] - 0s 2ms/step - loss: 0.4315 - recall: 0.9441 - acc: 0.8085 - val_loss: 0.4779 - val_recall: 1.0000 - val_acc: 0.8101\n",
      "Epoch 6/50\n",
      "20/20 [==============================] - 0s 2ms/step - loss: 0.3821 - recall: 0.9503 - acc: 0.8307 - val_loss: 0.2780 - val_recall: 0.9688 - val_acc: 0.9177\n",
      "Epoch 7/50\n",
      "20/20 [==============================] - 0s 2ms/step - loss: 0.3701 - recall: 0.9337 - acc: 0.8323 - val_loss: 0.2607 - val_recall: 0.9688 - val_acc: 0.9304\n",
      "Epoch 8/50\n",
      "20/20 [==============================] - 0s 2ms/step - loss: 0.2949 - recall: 0.9545 - acc: 0.8972 - val_loss: 0.2369 - val_recall: 1.0000 - val_acc: 0.9051\n",
      "Epoch 9/50\n",
      "20/20 [==============================] - 0s 2ms/step - loss: 0.3573 - recall: 0.9400 - acc: 0.8513 - val_loss: 0.2173 - val_recall: 0.9688 - val_acc: 0.9304\n",
      "Epoch 10/50\n",
      "20/20 [==============================] - 0s 2ms/step - loss: 0.3116 - recall: 0.9400 - acc: 0.8718 - val_loss: 0.3818 - val_recall: 1.0000 - val_acc: 0.8228\n",
      "Epoch 11/50\n",
      "20/20 [==============================] - 0s 2ms/step - loss: 0.2935 - recall: 0.9441 - acc: 0.8750 - val_loss: 0.2606 - val_recall: 1.0000 - val_acc: 0.8861\n",
      "Epoch 12/50\n",
      "20/20 [==============================] - 0s 2ms/step - loss: 0.2785 - recall: 0.9586 - acc: 0.8908 - val_loss: 0.1836 - val_recall: 0.9844 - val_acc: 0.9304\n",
      "Epoch 13/50\n",
      "20/20 [==============================] - 0s 2ms/step - loss: 0.2767 - recall: 0.9482 - acc: 0.8987 - val_loss: 0.2431 - val_recall: 1.0000 - val_acc: 0.8987\n",
      "Epoch 14/50\n",
      "20/20 [==============================] - 0s 2ms/step - loss: 0.2435 - recall: 0.9565 - acc: 0.9051 - val_loss: 0.2207 - val_recall: 0.9141 - val_acc: 0.9177\n",
      "Epoch 15/50\n",
      "20/20 [==============================] - 0s 2ms/step - loss: 0.2276 - recall: 0.9586 - acc: 0.9161 - val_loss: 0.2223 - val_recall: 1.0000 - val_acc: 0.9114\n",
      "Epoch 16/50\n",
      "20/20 [==============================] - 0s 2ms/step - loss: 0.2430 - recall: 0.9524 - acc: 0.8987 - val_loss: 0.2833 - val_recall: 0.8750 - val_acc: 0.8987\n",
      "Epoch 17/50\n",
      "20/20 [==============================] - 0s 2ms/step - loss: 0.3160 - recall: 0.9213 - acc: 0.8544 - val_loss: 0.1699 - val_recall: 0.9844 - val_acc: 0.9430\n",
      "Epoch 18/50\n",
      "20/20 [==============================] - 0s 2ms/step - loss: 0.2175 - recall: 0.9607 - acc: 0.9193 - val_loss: 0.1589 - val_recall: 0.9609 - val_acc: 0.9430\n",
      "Epoch 19/50\n",
      "20/20 [==============================] - 0s 2ms/step - loss: 0.1996 - recall: 0.9669 - acc: 0.9241 - val_loss: 0.1918 - val_recall: 1.0000 - val_acc: 0.9114\n",
      "Epoch 20/50\n",
      "20/20 [==============================] - 0s 2ms/step - loss: 0.2506 - recall: 0.9524 - acc: 0.8987 - val_loss: 0.1625 - val_recall: 0.9609 - val_acc: 0.9430\n",
      "Epoch 21/50\n",
      "20/20 [==============================] - 0s 2ms/step - loss: 0.2493 - recall: 0.9420 - acc: 0.8940 - val_loss: 0.1619 - val_recall: 1.0000 - val_acc: 0.9430\n",
      "Epoch 22/50\n",
      "20/20 [==============================] - 0s 2ms/step - loss: 0.1910 - recall: 0.9648 - acc: 0.9320 - val_loss: 0.1608 - val_recall: 1.0000 - val_acc: 0.9430\n",
      "Epoch 23/50\n",
      "20/20 [==============================] - 0s 2ms/step - loss: 0.2266 - recall: 0.9400 - acc: 0.9066 - val_loss: 0.4590 - val_recall: 1.0000 - val_acc: 0.8165\n",
      "Epoch 24/50\n",
      "20/20 [==============================] - 0s 2ms/step - loss: 0.2101 - recall: 0.9607 - acc: 0.9130 - val_loss: 0.2600 - val_recall: 0.8984 - val_acc: 0.9177\n",
      "Epoch 25/50\n",
      "20/20 [==============================] - 0s 2ms/step - loss: 0.1941 - recall: 0.9586 - acc: 0.9288 - val_loss: 0.6349 - val_recall: 1.0000 - val_acc: 0.8101\n",
      "Epoch 26/50\n",
      "20/20 [==============================] - 0s 3ms/step - loss: 0.2067 - recall: 0.9586 - acc: 0.9114 - val_loss: 0.1336 - val_recall: 0.9766 - val_acc: 0.9557\n",
      "Epoch 27/50\n",
      "20/20 [==============================] - 0s 3ms/step - loss: 0.1426 - recall: 0.9793 - acc: 0.9557 - val_loss: 0.1907 - val_recall: 0.9219 - val_acc: 0.9241\n",
      "Epoch 28/50\n",
      "20/20 [==============================] - 0s 3ms/step - loss: 0.1766 - recall: 0.9586 - acc: 0.9351 - val_loss: 0.1442 - val_recall: 1.0000 - val_acc: 0.9494\n",
      "Epoch 29/50\n",
      "20/20 [==============================] - 0s 3ms/step - loss: 0.1369 - recall: 0.9752 - acc: 0.9557 - val_loss: 0.2056 - val_recall: 1.0000 - val_acc: 0.9177\n",
      "Epoch 30/50\n",
      "20/20 [==============================] - 0s 2ms/step - loss: 0.1613 - recall: 0.9586 - acc: 0.9320 - val_loss: 0.5254 - val_recall: 1.0000 - val_acc: 0.8228\n",
      "Epoch 31/50\n",
      "20/20 [==============================] - 0s 2ms/step - loss: 0.2013 - recall: 0.9669 - acc: 0.9241 - val_loss: 0.1259 - val_recall: 0.9609 - val_acc: 0.9494\n",
      "Epoch 32/50\n",
      "20/20 [==============================] - 0s 2ms/step - loss: 0.1782 - recall: 0.9586 - acc: 0.9304 - val_loss: 0.1408 - val_recall: 1.0000 - val_acc: 0.9494\n",
      "Epoch 33/50\n",
      "20/20 [==============================] - 0s 2ms/step - loss: 0.2236 - recall: 0.9503 - acc: 0.9225 - val_loss: 0.4250 - val_recall: 0.7734 - val_acc: 0.8165\n",
      "Epoch 34/50\n",
      "20/20 [==============================] - 0s 2ms/step - loss: 0.1425 - recall: 0.9710 - acc: 0.9525 - val_loss: 0.1292 - val_recall: 0.9609 - val_acc: 0.9494\n",
      "Epoch 35/50\n",
      "20/20 [==============================] - 0s 3ms/step - loss: 0.1738 - recall: 0.9545 - acc: 0.9272 - val_loss: 0.1350 - val_recall: 1.0000 - val_acc: 0.9494\n",
      "Epoch 36/50\n",
      "20/20 [==============================] - 0s 3ms/step - loss: 0.1773 - recall: 0.9607 - acc: 0.9288 - val_loss: 0.1391 - val_recall: 1.0000 - val_acc: 0.9494\n",
      "Epoch 37/50\n",
      "20/20 [==============================] - 0s 3ms/step - loss: 0.1553 - recall: 0.9731 - acc: 0.9430 - val_loss: 0.1212 - val_recall: 0.9766 - val_acc: 0.9557\n",
      "Epoch 38/50\n",
      "20/20 [==============================] - 0s 3ms/step - loss: 0.1714 - recall: 0.9627 - acc: 0.9351 - val_loss: 0.1345 - val_recall: 0.9609 - val_acc: 0.9494\n",
      "Epoch 39/50\n",
      "20/20 [==============================] - 0s 2ms/step - loss: 0.1656 - recall: 0.9669 - acc: 0.9430 - val_loss: 0.1311 - val_recall: 1.0000 - val_acc: 0.9494\n",
      "Epoch 40/50\n",
      "20/20 [==============================] - 0s 2ms/step - loss: 0.1362 - recall: 0.9710 - acc: 0.9494 - val_loss: 0.1601 - val_recall: 0.9453 - val_acc: 0.9430\n",
      "Epoch 41/50\n",
      "20/20 [==============================] - 0s 2ms/step - loss: 0.1123 - recall: 0.9752 - acc: 0.9620 - val_loss: 0.1207 - val_recall: 0.9609 - val_acc: 0.9494\n",
      "Epoch 42/50\n",
      "20/20 [==============================] - 0s 2ms/step - loss: 0.1072 - recall: 0.9772 - acc: 0.9636 - val_loss: 0.3108 - val_recall: 0.8438 - val_acc: 0.8671\n",
      "Epoch 43/50\n",
      "20/20 [==============================] - 0s 3ms/step - loss: 0.1498 - recall: 0.9586 - acc: 0.9320 - val_loss: 0.1309 - val_recall: 1.0000 - val_acc: 0.9494\n",
      "Epoch 44/50\n",
      "20/20 [==============================] - 0s 3ms/step - loss: 0.1203 - recall: 0.9772 - acc: 0.9525 - val_loss: 0.1485 - val_recall: 1.0000 - val_acc: 0.9430\n",
      "Epoch 45/50\n",
      "20/20 [==============================] - 0s 3ms/step - loss: 0.0966 - recall: 0.9834 - acc: 0.9684 - val_loss: 0.1168 - val_recall: 0.9688 - val_acc: 0.9557\n",
      "Epoch 46/50\n",
      "20/20 [==============================] - 0s 3ms/step - loss: 0.1320 - recall: 0.9710 - acc: 0.9573 - val_loss: 0.1168 - val_recall: 0.9844 - val_acc: 0.9620\n",
      "Epoch 47/50\n",
      "20/20 [==============================] - 0s 2ms/step - loss: 0.1157 - recall: 0.9793 - acc: 0.9589 - val_loss: 0.1590 - val_recall: 0.9453 - val_acc: 0.9430\n",
      "Epoch 48/50\n",
      "20/20 [==============================] - 0s 2ms/step - loss: 0.1098 - recall: 0.9731 - acc: 0.9573 - val_loss: 0.1120 - val_recall: 0.9766 - val_acc: 0.9620\n",
      "Epoch 49/50\n"
     ]
    },
    {
     "name": "stdout",
     "output_type": "stream",
     "text": [
      "20/20 [==============================] - 0s 2ms/step - loss: 0.1006 - recall: 0.9772 - acc: 0.9604 - val_loss: 0.1129 - val_recall: 0.9766 - val_acc: 0.9620\n",
      "Epoch 50/50\n",
      "20/20 [==============================] - 0s 2ms/step - loss: 0.1764 - recall: 0.9648 - acc: 0.9383 - val_loss: 0.1157 - val_recall: 0.9609 - val_acc: 0.9494\n"
     ]
    }
   ],
   "source": [
    "model.compile(optimizer='sgd',\n",
    "              loss='binary_crossentropy',\n",
    "              metrics=[tf.keras.metrics.Recall(), 'acc'])\n",
    "\n",
    "results = model.fit(X_train_img_final,\n",
    "                    y_train,\n",
    "                    epochs=50,\n",
    "                    batch_size=32,\n",
    "                    validation_data=(X_val_img_final, y_val))"
   ]
  },
  {
   "cell_type": "markdown",
   "metadata": {},
   "source": [
    "#### Model evaluation"
   ]
  },
  {
   "cell_type": "code",
   "execution_count": 19,
   "metadata": {},
   "outputs": [
    {
     "name": "stdout",
     "output_type": "stream",
     "text": [
      "20/20 [==============================] - 0s 942us/step - loss: 0.0836 - recall: 0.9814 - acc: 0.9778\n"
     ]
    }
   ],
   "source": [
    "results_train = model.evaluate(X_train_img_final, y_train)"
   ]
  },
  {
   "cell_type": "code",
   "execution_count": 20,
   "metadata": {},
   "outputs": [
    {
     "name": "stdout",
     "output_type": "stream",
     "text": [
      "5/5 [==============================] - 0s 992us/step - loss: 0.1157 - recall: 0.9609 - acc: 0.9494\n"
     ]
    }
   ],
   "source": [
    "results_val = model.evaluate(X_val_img_final, y_val)"
   ]
  },
  {
   "cell_type": "markdown",
   "metadata": {},
   "source": [
    "#### Create visualization function to plot epochs vs loss for training and test sets for each model created."
   ]
  },
  {
   "cell_type": "code",
   "execution_count": 21,
   "metadata": {},
   "outputs": [],
   "source": [
    "#plot epochs vs loss for train and test set\n",
    "def visualize_results(results):\n",
    "    history = results.history\n",
    "    plt.figure()\n",
    "    plt.plot(history['val_loss'])\n",
    "    plt.plot(history['loss'])\n",
    "    plt.legend(['val_loss', 'loss'])\n",
    "    plt.title('Loss v Epochs')\n",
    "    plt.xlabel('Epochs')\n",
    "    plt.ylabel('Loss')\n",
    "    plt.show();\n",
    "    "
   ]
  },
  {
   "cell_type": "code",
   "execution_count": 22,
   "metadata": {},
   "outputs": [
    {
     "data": {
      "image/png": "[encoded data removed]",
      "text/plain": [
       "<Figure size 432x288 with 1 Axes>"
      ]
     },
     "metadata": {
      "needs_background": "light"
     },
     "output_type": "display_data"
    }
   ],
   "source": [
    "visualize_results(results)"
   ]
  },
  {
   "cell_type": "code",
   "execution_count": 23,
   "metadata": {},
   "outputs": [],
   "source": [
    "label_pred = (model.predict(X_val_img_final) > 0.5).astype(int)\n",
    "\n",
    "cf_matrix = confusion_matrix(y_val, label_pred)"
   ]
  },
  {
   "cell_type": "code",
   "execution_count": 24,
   "metadata": {},
   "outputs": [
    {
     "data": {
      "text/plain": [
       "<AxesSubplot:>"
      ]
     },
     "execution_count": 24,
     "metadata": {},
     "output_type": "execute_result"
    },
    {
     "data": {
      "image/png": "[encoded data removed]",
      "text/plain": [
       "<Figure size 432x288 with 2 Axes>"
      ]
     },
     "metadata": {
      "needs_background": "light"
     },
     "output_type": "display_data"
    }
   ],
   "source": [
    "sns.heatmap(cf_matrix, annot=True)"
   ]
  },
  {
   "cell_type": "markdown",
   "metadata": {},
   "source": [
    "#### Insight: according to the Loss plot, there is significant overfitting of the model due to the high variation of the validation curve. Any subsequent models must reduce the variance and overfitting of the first model, as well as have high recall and accuracy scores.\n"
   ]
  },
  {
   "cell_type": "markdown",
   "metadata": {},
   "source": [
    "#### Will adding EarlyStopping improve the model?"
   ]
  },
  {
   "cell_type": "code",
   "execution_count": 25,
   "metadata": {},
   "outputs": [],
   "source": [
    "#create new model with similar parameters\n",
    "np.random.seed(42)\n",
    "model2 = models.Sequential()\n",
    "model2.add(layers.Dense(63, activation='tanh', input_shape=(4096,)))\n",
    "model2.add(layers.Dense(42, activation='tanh'))\n",
    "model2.add(layers.Dense(21, activation='tanh'))\n",
    "model2.add(layers.Dense(1, activation='sigmoid')) #output layer, binary classification"
   ]
  },
  {
   "cell_type": "code",
   "execution_count": 26,
   "metadata": {},
   "outputs": [],
   "source": [
    "#introduce earlystopping and modelcheckpoint \n",
    "early_stopping = [EarlyStopping(monitor='val_loss', patience=10), ModelCheckpoint(filepath='best_model.h5',\n",
    "                                                                                 monitor='val_loss', save_best_only=True)]"
   ]
  },
  {
   "cell_type": "code",
   "execution_count": 27,
   "metadata": {},
   "outputs": [
    {
     "name": "stdout",
     "output_type": "stream",
     "text": [
      "Epoch 1/50\n",
      "20/20 [==============================] - 0s 17ms/step - loss: 0.5508 - recall_1: 0.9524 - acc: 0.7326 - val_loss: 0.4552 - val_recall_1: 1.0000 - val_acc: 0.8101\n",
      "Epoch 2/50\n",
      "20/20 [==============================] - 0s 5ms/step - loss: 0.4886 - recall_1: 1.0000 - acc: 0.7642 - val_loss: 0.4154 - val_recall_1: 1.0000 - val_acc: 0.8101\n",
      "Epoch 3/50\n",
      "20/20 [==============================] - 0s 4ms/step - loss: 0.4664 - recall_1: 1.0000 - acc: 0.7674 - val_loss: 0.3718 - val_recall_1: 1.0000 - val_acc: 0.8101\n",
      "Epoch 4/50\n",
      "20/20 [==============================] - 0s 5ms/step - loss: 0.4080 - recall_1: 0.9959 - acc: 0.7880 - val_loss: 0.3364 - val_recall_1: 1.0000 - val_acc: 0.8291\n",
      "Epoch 5/50\n",
      "20/20 [==============================] - 0s 2ms/step - loss: 0.4158 - recall_1: 0.9524 - acc: 0.7911 - val_loss: 0.3491 - val_recall_1: 1.0000 - val_acc: 0.8101\n",
      "Epoch 6/50\n",
      "20/20 [==============================] - 0s 2ms/step - loss: 0.3425 - recall_1: 0.9834 - acc: 0.8465 - val_loss: 0.3877 - val_recall_1: 0.9141 - val_acc: 0.9114\n",
      "Epoch 7/50\n",
      "20/20 [==============================] - 0s 2ms/step - loss: 0.4063 - recall_1: 0.9234 - acc: 0.8006 - val_loss: 0.3380 - val_recall_1: 1.0000 - val_acc: 0.8165\n",
      "Epoch 8/50\n",
      "20/20 [==============================] - 0s 4ms/step - loss: 0.3057 - recall_1: 0.9710 - acc: 0.8797 - val_loss: 0.3175 - val_recall_1: 1.0000 - val_acc: 0.8354\n",
      "Epoch 9/50\n",
      "20/20 [==============================] - 0s 5ms/step - loss: 0.3211 - recall_1: 0.9462 - acc: 0.8544 - val_loss: 0.2249 - val_recall_1: 0.9844 - val_acc: 0.9241\n",
      "Epoch 10/50\n",
      "20/20 [==============================] - 0s 4ms/step - loss: 0.2866 - recall_1: 0.9607 - acc: 0.8987 - val_loss: 0.2149 - val_recall_1: 0.9766 - val_acc: 0.9304\n",
      "Epoch 11/50\n",
      "20/20 [==============================] - 0s 6ms/step - loss: 0.3099 - recall_1: 0.9400 - acc: 0.8797 - val_loss: 0.2049 - val_recall_1: 0.9922 - val_acc: 0.9304\n",
      "Epoch 12/50\n",
      "20/20 [==============================] - 0s 2ms/step - loss: 0.2396 - recall_1: 0.9669 - acc: 0.9177 - val_loss: 0.2775 - val_recall_1: 1.0000 - val_acc: 0.8797\n",
      "Epoch 13/50\n",
      "20/20 [==============================] - 0s 2ms/step - loss: 0.3042 - recall_1: 0.9441 - acc: 0.8766 - val_loss: 0.2927 - val_recall_1: 1.0000 - val_acc: 0.8797\n",
      "Epoch 14/50\n",
      "20/20 [==============================] - 0s 2ms/step - loss: 0.2710 - recall_1: 0.9441 - acc: 0.8892 - val_loss: 0.3706 - val_recall_1: 1.0000 - val_acc: 0.8418\n",
      "Epoch 15/50\n",
      "20/20 [==============================] - 0s 9ms/step - loss: 0.2829 - recall_1: 0.9317 - acc: 0.8750 - val_loss: 0.1775 - val_recall_1: 0.9688 - val_acc: 0.9430\n",
      "Epoch 16/50\n",
      "20/20 [==============================] - 0s 3ms/step - loss: 0.2199 - recall_1: 0.9607 - acc: 0.9193 - val_loss: 0.2029 - val_recall_1: 0.9375 - val_acc: 0.9304\n",
      "Epoch 17/50\n",
      "20/20 [==============================] - 0s 2ms/step - loss: 0.2543 - recall_1: 0.9586 - acc: 0.9019 - val_loss: 0.4008 - val_recall_1: 0.7422 - val_acc: 0.7911\n",
      "Epoch 18/50\n",
      "20/20 [==============================] - 0s 2ms/step - loss: 0.2618 - recall_1: 0.9379 - acc: 0.8956 - val_loss: 0.1965 - val_recall_1: 1.0000 - val_acc: 0.9177\n",
      "Epoch 19/50\n",
      "20/20 [==============================] - 0s 2ms/step - loss: 0.2028 - recall_1: 0.9607 - acc: 0.9241 - val_loss: 0.2612 - val_recall_1: 1.0000 - val_acc: 0.8924\n",
      "Epoch 20/50\n",
      "20/20 [==============================] - 0s 2ms/step - loss: 0.2155 - recall_1: 0.9565 - acc: 0.9130 - val_loss: 0.1949 - val_recall_1: 0.9375 - val_acc: 0.9304\n",
      "Epoch 21/50\n",
      "20/20 [==============================] - 0s 2ms/step - loss: 0.1856 - recall_1: 0.9607 - acc: 0.9272 - val_loss: 0.3927 - val_recall_1: 0.7500 - val_acc: 0.7975\n",
      "Epoch 22/50\n",
      "20/20 [==============================] - 0s 5ms/step - loss: 0.2001 - recall_1: 0.9503 - acc: 0.9241 - val_loss: 0.1417 - val_recall_1: 0.9766 - val_acc: 0.9494\n",
      "Epoch 23/50\n",
      "20/20 [==============================] - 0s 2ms/step - loss: 0.1796 - recall_1: 0.9648 - acc: 0.9320 - val_loss: 0.2330 - val_recall_1: 0.8984 - val_acc: 0.9051\n",
      "Epoch 24/50\n",
      "20/20 [==============================] - 0s 6ms/step - loss: 0.1803 - recall_1: 0.9565 - acc: 0.9272 - val_loss: 0.1358 - val_recall_1: 0.9766 - val_acc: 0.9620\n",
      "Epoch 25/50\n",
      "20/20 [==============================] - 0s 2ms/step - loss: 0.2009 - recall_1: 0.9545 - acc: 0.9272 - val_loss: 0.3615 - val_recall_1: 1.0000 - val_acc: 0.8797\n",
      "Epoch 26/50\n",
      "20/20 [==============================] - 0s 5ms/step - loss: 0.1853 - recall_1: 0.9669 - acc: 0.9351 - val_loss: 0.1344 - val_recall_1: 0.9766 - val_acc: 0.9620\n",
      "Epoch 27/50\n",
      "20/20 [==============================] - 0s 2ms/step - loss: 0.1806 - recall_1: 0.9648 - acc: 0.9351 - val_loss: 0.1385 - val_recall_1: 0.9609 - val_acc: 0.9494\n",
      "Epoch 28/50\n",
      "20/20 [==============================] - 0s 2ms/step - loss: 0.1633 - recall_1: 0.9648 - acc: 0.9367 - val_loss: 0.1494 - val_recall_1: 0.9453 - val_acc: 0.9367\n",
      "Epoch 29/50\n",
      "20/20 [==============================] - 0s 2ms/step - loss: 0.2029 - recall_1: 0.9420 - acc: 0.9161 - val_loss: 0.2657 - val_recall_1: 1.0000 - val_acc: 0.8987\n",
      "Epoch 30/50\n",
      "20/20 [==============================] - 0s 2ms/step - loss: 0.1323 - recall_1: 0.9752 - acc: 0.9525 - val_loss: 0.1432 - val_recall_1: 0.9609 - val_acc: 0.9494\n",
      "Epoch 31/50\n",
      "20/20 [==============================] - 0s 5ms/step - loss: 0.1776 - recall_1: 0.9648 - acc: 0.9383 - val_loss: 0.1303 - val_recall_1: 0.9766 - val_acc: 0.9494\n",
      "Epoch 32/50\n",
      "20/20 [==============================] - 0s 3ms/step - loss: 0.1797 - recall_1: 0.9565 - acc: 0.9320 - val_loss: 0.1825 - val_recall_1: 1.0000 - val_acc: 0.9304\n",
      "Epoch 33/50\n",
      "20/20 [==============================] - 0s 2ms/step - loss: 0.1630 - recall_1: 0.9689 - acc: 0.9399 - val_loss: 0.1342 - val_recall_1: 1.0000 - val_acc: 0.9494\n",
      "Epoch 34/50\n",
      "20/20 [==============================] - 0s 7ms/step - loss: 0.1308 - recall_1: 0.9731 - acc: 0.9525 - val_loss: 0.1214 - val_recall_1: 0.9766 - val_acc: 0.9620\n",
      "Epoch 35/50\n",
      "20/20 [==============================] - 0s 3ms/step - loss: 0.1713 - recall_1: 0.9648 - acc: 0.9335 - val_loss: 0.1302 - val_recall_1: 0.9609 - val_acc: 0.9494\n",
      "Epoch 36/50\n",
      "20/20 [==============================] - 0s 2ms/step - loss: 0.1460 - recall_1: 0.9689 - acc: 0.9446 - val_loss: 0.1248 - val_recall_1: 0.9609 - val_acc: 0.9494\n",
      "Epoch 37/50\n",
      "20/20 [==============================] - 0s 2ms/step - loss: 0.1521 - recall_1: 0.9669 - acc: 0.9446 - val_loss: 0.1750 - val_recall_1: 0.9297 - val_acc: 0.9304\n",
      "Epoch 38/50\n",
      "20/20 [==============================] - 0s 2ms/step - loss: 0.1479 - recall_1: 0.9607 - acc: 0.9399 - val_loss: 0.1539 - val_recall_1: 0.9453 - val_acc: 0.9430\n",
      "Epoch 39/50\n",
      "20/20 [==============================] - ETA: 0s - loss: 0.2640 - recall_1: 0.9167 - acc: 0.87 - 0s 2ms/step - loss: 0.1252 - recall_1: 0.9752 - acc: 0.9541 - val_loss: 0.1467 - val_recall_1: 0.9531 - val_acc: 0.9430\n",
      "Epoch 40/50\n",
      "20/20 [==============================] - 0s 2ms/step - loss: 0.1966 - recall_1: 0.9482 - acc: 0.9193 - val_loss: 0.1830 - val_recall_1: 1.0000 - val_acc: 0.9304\n",
      "Epoch 41/50\n",
      "20/20 [==============================] - 0s 4ms/step - loss: 0.1214 - recall_1: 0.9793 - acc: 0.9494 - val_loss: 0.1189 - val_recall_1: 0.9766 - val_acc: 0.9620\n",
      "Epoch 42/50\n",
      "20/20 [==============================] - 0s 3ms/step - loss: 0.1663 - recall_1: 0.9669 - acc: 0.9430 - val_loss: 0.1285 - val_recall_1: 0.9922 - val_acc: 0.9494\n",
      "Epoch 43/50\n",
      "20/20 [==============================] - 0s 2ms/step - loss: 0.2057 - recall_1: 0.9400 - acc: 0.9177 - val_loss: 0.1380 - val_recall_1: 0.9922 - val_acc: 0.9367\n",
      "Epoch 44/50\n",
      "20/20 [==============================] - 0s 2ms/step - loss: 0.1222 - recall_1: 0.9731 - acc: 0.9557 - val_loss: 0.1481 - val_recall_1: 0.9531 - val_acc: 0.9430\n",
      "Epoch 45/50\n",
      "20/20 [==============================] - 0s 2ms/step - loss: 0.2004 - recall_1: 0.9503 - acc: 0.9256 - val_loss: 0.7442 - val_recall_1: 0.5781 - val_acc: 0.6582\n",
      "Epoch 46/50\n",
      "20/20 [==============================] - 0s 2ms/step - loss: 0.1581 - recall_1: 0.9586 - acc: 0.9399 - val_loss: 0.2282 - val_recall_1: 0.8906 - val_acc: 0.9051\n",
      "Epoch 47/50\n",
      "20/20 [==============================] - 0s 2ms/step - loss: 0.1330 - recall_1: 0.9627 - acc: 0.9446 - val_loss: 0.1398 - val_recall_1: 0.9922 - val_acc: 0.9367\n",
      "Epoch 48/50\n"
     ]
    },
    {
     "name": "stdout",
     "output_type": "stream",
     "text": [
      "20/20 [==============================] - 0s 4ms/step - loss: 0.1225 - recall_1: 0.9689 - acc: 0.9541 - val_loss: 0.1182 - val_recall_1: 0.9766 - val_acc: 0.9620\n",
      "Epoch 49/50\n",
      "20/20 [==============================] - 0s 2ms/step - loss: 0.1267 - recall_1: 0.9689 - acc: 0.9589 - val_loss: 0.1292 - val_recall_1: 0.9609 - val_acc: 0.9494\n",
      "Epoch 50/50\n",
      "20/20 [==============================] - 0s 2ms/step - loss: 0.0869 - recall_1: 0.9855 - acc: 0.9763 - val_loss: 0.2345 - val_recall_1: 1.0000 - val_acc: 0.9114\n"
     ]
    }
   ],
   "source": [
    "model2.compile(optimizer='sgd',\n",
    "              loss='binary_crossentropy',\n",
    "              metrics=[tf.keras.metrics.Recall(), 'acc'])\n",
    "\n",
    "results2 = model2.fit(X_train_img_final,\n",
    "                    y_train,\n",
    "                    callbacks=early_stopping,\n",
    "                    epochs=50,\n",
    "                    batch_size=32,\n",
    "                    validation_data=(X_val_img_final, y_val))"
   ]
  },
  {
   "cell_type": "code",
   "execution_count": 28,
   "metadata": {},
   "outputs": [
    {
     "data": {
      "image/png": "[encoded data removed]",
      "text/plain": [
       "<Figure size 432x288 with 1 Axes>"
      ]
     },
     "metadata": {
      "needs_background": "light"
     },
     "output_type": "display_data"
    }
   ],
   "source": [
    "visualize_results(results2)"
   ]
  },
  {
   "cell_type": "code",
   "execution_count": 51,
   "metadata": {},
   "outputs": [
    {
     "data": {
      "text/plain": [
       "<AxesSubplot:>"
      ]
     },
     "execution_count": 51,
     "metadata": {},
     "output_type": "execute_result"
    },
    {
     "data": {
      "image/png": "[encoded data removed]",
      "text/plain": [
       "<Figure size 432x288 with 2 Axes>"
      ]
     },
     "metadata": {
      "needs_background": "light"
     },
     "output_type": "display_data"
    }
   ],
   "source": [
    "#accuracy is greater than 80%, visualize confusion matrix\n",
    "label_pred = (model2.predict(X_val_img_final) > 0.5).astype(int)\n",
    "\n",
    "cf_matrix = confusion_matrix(y_val, label_pred)\n",
    "\n",
    "sns.heatmap(cf_matrix, annot=True)"
   ]
  },
  {
   "cell_type": "markdown",
   "metadata": {},
   "source": [
    "#### Variation in val_loss is still very high. Additionally, overfitting issue still hasn't been resolved. Will build a CNN, then attempt to control overfitting."
   ]
  },
  {
   "cell_type": "code",
   "execution_count": 29,
   "metadata": {},
   "outputs": [],
   "source": [
    "#CNN model\n",
    "np.random.seed(42)\n",
    "model3 = models.Sequential()\n",
    "model3.add(layers.Conv2D(32, (3,3), activation='tanh',\n",
    "                        input_shape=(64, 64, 1)))\n",
    "\n",
    "model3.add(layers.Flatten())\n",
    "model3.add(layers.Dense(64, activation='tanh'))\n",
    "model3.add(layers.Dense(42, activation='tanh'))\n",
    "model3.add(layers.Dense(21, activation='tanh'))\n",
    "model3.add(layers.Dense(1, activation='sigmoid'))"
   ]
  },
  {
   "cell_type": "code",
   "execution_count": 30,
   "metadata": {},
   "outputs": [
    {
     "name": "stdout",
     "output_type": "stream",
     "text": [
      "Model: \"sequential_2\"\n",
      "_________________________________________________________________\n",
      "Layer (type)                 Output Shape              Param #   \n",
      "=================================================================\n",
      "conv2d (Conv2D)              (None, 62, 62, 32)        320       \n",
      "_________________________________________________________________\n",
      "flatten (Flatten)            (None, 123008)            0         \n",
      "_________________________________________________________________\n",
      "dense_8 (Dense)              (None, 64)                7872576   \n",
      "_________________________________________________________________\n",
      "dense_9 (Dense)              (None, 42)                2730      \n",
      "_________________________________________________________________\n",
      "dense_10 (Dense)             (None, 21)                903       \n",
      "_________________________________________________________________\n",
      "dense_11 (Dense)             (None, 1)                 22        \n",
      "=================================================================\n",
      "Total params: 7,876,551\n",
      "Trainable params: 7,876,551\n",
      "Non-trainable params: 0\n",
      "_________________________________________________________________\n"
     ]
    }
   ],
   "source": [
    "model3.summary()"
   ]
  },
  {
   "cell_type": "code",
   "execution_count": 31,
   "metadata": {
    "scrolled": true
   },
   "outputs": [
    {
     "name": "stdout",
     "output_type": "stream",
     "text": [
      "Epoch 1/50\n",
      "20/20 [==============================] - 1s 59ms/step - loss: 0.5809 - recall_2: 0.9482 - acc: 0.7358 - val_loss: 0.4928 - val_recall_2: 1.0000 - val_acc: 0.8101\n",
      "Epoch 2/50\n",
      "20/20 [==============================] - 1s 57ms/step - loss: 0.5472 - recall_2: 1.0000 - acc: 0.7642 - val_loss: 0.4898 - val_recall_2: 1.0000 - val_acc: 0.8101\n",
      "Epoch 3/50\n",
      "20/20 [==============================] - 1s 44ms/step - loss: 0.5497 - recall_2: 1.0000 - acc: 0.7642 - val_loss: 0.4890 - val_recall_2: 1.0000 - val_acc: 0.8101\n",
      "Epoch 4/50\n",
      "20/20 [==============================] - 1s 46ms/step - loss: 0.5473 - recall_2: 1.0000 - acc: 0.7642 - val_loss: 0.4925 - val_recall_2: 1.0000 - val_acc: 0.8101\n",
      "Epoch 5/50\n",
      "20/20 [==============================] - 1s 47ms/step - loss: 0.5481 - recall_2: 1.0000 - acc: 0.7642 - val_loss: 0.4935 - val_recall_2: 1.0000 - val_acc: 0.8101\n",
      "Epoch 6/50\n",
      "20/20 [==============================] - 1s 46ms/step - loss: 0.5472 - recall_2: 1.0000 - acc: 0.7642 - val_loss: 0.4886 - val_recall_2: 1.0000 - val_acc: 0.8101\n",
      "Epoch 7/50\n",
      "20/20 [==============================] - 1s 47ms/step - loss: 0.5474 - recall_2: 1.0000 - acc: 0.7642 - val_loss: 0.4938 - val_recall_2: 1.0000 - val_acc: 0.8101\n",
      "Epoch 8/50\n",
      "20/20 [==============================] - 1s 47ms/step - loss: 0.5462 - recall_2: 1.0000 - acc: 0.7642 - val_loss: 0.4979 - val_recall_2: 1.0000 - val_acc: 0.8101\n",
      "Epoch 9/50\n",
      "20/20 [==============================] - 1s 44ms/step - loss: 0.5471 - recall_2: 1.0000 - acc: 0.7642 - val_loss: 0.4882 - val_recall_2: 1.0000 - val_acc: 0.8101\n",
      "Epoch 10/50\n",
      "20/20 [==============================] - 1s 42ms/step - loss: 0.5484 - recall_2: 1.0000 - acc: 0.7642 - val_loss: 0.4958 - val_recall_2: 1.0000 - val_acc: 0.8101\n",
      "Epoch 11/50\n",
      "20/20 [==============================] - 1s 42ms/step - loss: 0.5469 - recall_2: 1.0000 - acc: 0.7642 - val_loss: 0.4809 - val_recall_2: 1.0000 - val_acc: 0.8101\n",
      "Epoch 12/50\n",
      "20/20 [==============================] - 1s 48ms/step - loss: 0.5457 - recall_2: 1.0000 - acc: 0.7642 - val_loss: 0.4873 - val_recall_2: 1.0000 - val_acc: 0.8101\n",
      "Epoch 13/50\n",
      "20/20 [==============================] - 1s 47ms/step - loss: 0.5437 - recall_2: 1.0000 - acc: 0.7642 - val_loss: 0.4875 - val_recall_2: 1.0000 - val_acc: 0.8101\n",
      "Epoch 14/50\n",
      "20/20 [==============================] - 1s 53ms/step - loss: 0.5463 - recall_2: 1.0000 - acc: 0.7642 - val_loss: 0.4842 - val_recall_2: 1.0000 - val_acc: 0.8101\n",
      "Epoch 15/50\n",
      "20/20 [==============================] - 1s 47ms/step - loss: 0.5477 - recall_2: 1.0000 - acc: 0.7642 - val_loss: 0.4923 - val_recall_2: 1.0000 - val_acc: 0.8101\n",
      "Epoch 16/50\n",
      "20/20 [==============================] - 1s 51ms/step - loss: 0.5472 - recall_2: 1.0000 - acc: 0.7642 - val_loss: 0.4899 - val_recall_2: 1.0000 - val_acc: 0.8101\n",
      "Epoch 17/50\n",
      "20/20 [==============================] - 1s 44ms/step - loss: 0.5469 - recall_2: 1.0000 - acc: 0.7642 - val_loss: 0.4924 - val_recall_2: 1.0000 - val_acc: 0.8101\n",
      "Epoch 18/50\n",
      "20/20 [==============================] - 1s 42ms/step - loss: 0.5464 - recall_2: 1.0000 - acc: 0.7642 - val_loss: 0.4910 - val_recall_2: 1.0000 - val_acc: 0.8101\n",
      "Epoch 19/50\n",
      "20/20 [==============================] - 1s 42ms/step - loss: 0.5476 - recall_2: 1.0000 - acc: 0.7642 - val_loss: 0.4954 - val_recall_2: 1.0000 - val_acc: 0.8101\n",
      "Epoch 20/50\n",
      "20/20 [==============================] - 1s 43ms/step - loss: 0.5478 - recall_2: 1.0000 - acc: 0.7642 - val_loss: 0.4916 - val_recall_2: 1.0000 - val_acc: 0.8101\n",
      "Epoch 21/50\n",
      "20/20 [==============================] - 1s 42ms/step - loss: 0.5456 - recall_2: 1.0000 - acc: 0.7642 - val_loss: 0.4965 - val_recall_2: 1.0000 - val_acc: 0.8101\n"
     ]
    }
   ],
   "source": [
    "model3.compile(optimizer='sgd',\n",
    "              loss='binary_crossentropy',\n",
    "              metrics=[tf.keras.metrics.Recall(), 'acc'])\n",
    "\n",
    "results3 = model3.fit(X_train, \n",
    "                    y_train,\n",
    "                    callbacks=early_stopping,\n",
    "                    epochs=50,\n",
    "                    batch_size=32,\n",
    "                    validation_data=(X_val, y_val))"
   ]
  },
  {
   "cell_type": "code",
   "execution_count": 32,
   "metadata": {},
   "outputs": [
    {
     "data": {
      "image/png": "[encoded data removed]",
      "text/plain": [
       "<Figure size 432x288 with 1 Axes>"
      ]
     },
     "metadata": {
      "needs_background": "light"
     },
     "output_type": "display_data"
    }
   ],
   "source": [
    "visualize_results(results3)"
   ]
  },
  {
   "cell_type": "markdown",
   "metadata": {},
   "source": [
    "#### The variation has been reduced, but there is still overfitting. From here, we will attempt L2 regularization on the model."
   ]
  },
  {
   "cell_type": "markdown",
   "metadata": {},
   "source": [
    "#### L2 regularization with model3 structure"
   ]
  },
  {
   "cell_type": "code",
   "execution_count": 33,
   "metadata": {},
   "outputs": [],
   "source": [
    "np.random.seed(42)\n",
    "\n",
    "#introducing lambda coefficent for L2 regularization \n",
    "lambda_coeff = 0.005\n",
    "\n",
    "model4 = models.Sequential()\n",
    "model4.add(layers.Conv2D(32, (3,3), activation='tanh',\n",
    "                        input_shape=(64, 64, 1)))\n",
    "\n",
    "model4.add(layers.Flatten())\n",
    "model4.add(layers.Dense(64, activation='tanh', kernel_regularizer=regularizers.l2(lambda_coeff)))\n",
    "model4.add(layers.Dense(42, activation='tanh', kernel_regularizer=regularizers.l2(lambda_coeff)))\n",
    "model4.add(layers.Dense(21, activation='tanh', kernel_regularizer=regularizers.l2(lambda_coeff)))\n",
    "model4.add(layers.Dense(1, activation='sigmoid'))"
   ]
  },
  {
   "cell_type": "code",
   "execution_count": 34,
   "metadata": {},
   "outputs": [
    {
     "name": "stdout",
     "output_type": "stream",
     "text": [
      "Epoch 1/50\n",
      "20/20 [==============================] - 2s 75ms/step - loss: 1.6346 - recall_3: 0.9462 - acc: 0.7326 - val_loss: 1.5149 - val_recall_3: 1.0000 - val_acc: 0.8101\n",
      "Epoch 2/50\n",
      "20/20 [==============================] - 1s 62ms/step - loss: 1.5742 - recall_3: 1.0000 - acc: 0.7642 - val_loss: 1.5181 - val_recall_3: 1.0000 - val_acc: 0.8101\n",
      "Epoch 3/50\n",
      "20/20 [==============================] - 1s 63ms/step - loss: 1.5703 - recall_3: 1.0000 - acc: 0.7642 - val_loss: 1.5127 - val_recall_3: 1.0000 - val_acc: 0.8101\n",
      "Epoch 4/50\n",
      "20/20 [==============================] - 1s 63ms/step - loss: 1.5669 - recall_3: 1.0000 - acc: 0.7642 - val_loss: 1.5113 - val_recall_3: 1.0000 - val_acc: 0.8101\n",
      "Epoch 5/50\n",
      "20/20 [==============================] - 1s 63ms/step - loss: 1.5627 - recall_3: 1.0000 - acc: 0.7642 - val_loss: 1.5070 - val_recall_3: 1.0000 - val_acc: 0.8101\n",
      "Epoch 6/50\n",
      "20/20 [==============================] - 1s 63ms/step - loss: 1.5587 - recall_3: 1.0000 - acc: 0.7642 - val_loss: 1.5024 - val_recall_3: 1.0000 - val_acc: 0.8101\n",
      "Epoch 7/50\n",
      "20/20 [==============================] - 1s 62ms/step - loss: 1.5545 - recall_3: 1.0000 - acc: 0.7642 - val_loss: 1.4984 - val_recall_3: 1.0000 - val_acc: 0.8101\n",
      "Epoch 8/50\n",
      "20/20 [==============================] - 1s 64ms/step - loss: 1.5495 - recall_3: 1.0000 - acc: 0.7642 - val_loss: 1.4979 - val_recall_3: 1.0000 - val_acc: 0.8101\n",
      "Epoch 9/50\n",
      "20/20 [==============================] - 1s 64ms/step - loss: 1.5458 - recall_3: 1.0000 - acc: 0.7642 - val_loss: 1.4855 - val_recall_3: 1.0000 - val_acc: 0.8101\n",
      "Epoch 10/50\n",
      "20/20 [==============================] - 1s 63ms/step - loss: 1.5421 - recall_3: 1.0000 - acc: 0.7642 - val_loss: 1.4812 - val_recall_3: 1.0000 - val_acc: 0.8101\n",
      "Epoch 11/50\n",
      "20/20 [==============================] - 1s 64ms/step - loss: 1.5348 - recall_3: 1.0000 - acc: 0.7642 - val_loss: 1.4731 - val_recall_3: 1.0000 - val_acc: 0.8101\n",
      "Epoch 12/50\n",
      "20/20 [==============================] - 1s 63ms/step - loss: 1.5323 - recall_3: 1.0000 - acc: 0.7642 - val_loss: 1.4797 - val_recall_3: 1.0000 - val_acc: 0.8101\n",
      "Epoch 13/50\n",
      "20/20 [==============================] - 1s 63ms/step - loss: 1.5315 - recall_3: 1.0000 - acc: 0.7642 - val_loss: 1.4734 - val_recall_3: 1.0000 - val_acc: 0.8101\n",
      "Epoch 14/50\n",
      "20/20 [==============================] - 1s 63ms/step - loss: 1.5264 - recall_3: 1.0000 - acc: 0.7642 - val_loss: 1.4670 - val_recall_3: 1.0000 - val_acc: 0.8101\n",
      "Epoch 15/50\n",
      "20/20 [==============================] - 1s 64ms/step - loss: 1.5221 - recall_3: 1.0000 - acc: 0.7642 - val_loss: 1.4633 - val_recall_3: 1.0000 - val_acc: 0.8101\n",
      "Epoch 16/50\n",
      "20/20 [==============================] - 1s 65ms/step - loss: 1.5176 - recall_3: 1.0000 - acc: 0.7642 - val_loss: 1.4581 - val_recall_3: 1.0000 - val_acc: 0.8101\n",
      "Epoch 17/50\n",
      "20/20 [==============================] - 1s 63ms/step - loss: 1.5105 - recall_3: 1.0000 - acc: 0.7642 - val_loss: 1.4469 - val_recall_3: 1.0000 - val_acc: 0.8101\n",
      "Epoch 18/50\n",
      "20/20 [==============================] - 1s 64ms/step - loss: 1.5057 - recall_3: 1.0000 - acc: 0.7642 - val_loss: 1.4634 - val_recall_3: 1.0000 - val_acc: 0.8101\n",
      "Epoch 19/50\n",
      "20/20 [==============================] - 1s 63ms/step - loss: 1.5078 - recall_3: 1.0000 - acc: 0.7642 - val_loss: 1.4500 - val_recall_3: 1.0000 - val_acc: 0.8101\n",
      "Epoch 20/50\n",
      "20/20 [==============================] - 1s 63ms/step - loss: 1.5031 - recall_3: 1.0000 - acc: 0.7642 - val_loss: 1.4496 - val_recall_3: 1.0000 - val_acc: 0.8101\n",
      "Epoch 21/50\n",
      "20/20 [==============================] - 1s 63ms/step - loss: 1.4994 - recall_3: 1.0000 - acc: 0.7642 - val_loss: 1.4390 - val_recall_3: 1.0000 - val_acc: 0.8101\n",
      "Epoch 22/50\n",
      "20/20 [==============================] - 1s 63ms/step - loss: 1.4958 - recall_3: 1.0000 - acc: 0.7642 - val_loss: 1.4350 - val_recall_3: 1.0000 - val_acc: 0.8101\n",
      "Epoch 23/50\n",
      "20/20 [==============================] - 1s 63ms/step - loss: 1.4898 - recall_3: 1.0000 - acc: 0.7642 - val_loss: 1.4220 - val_recall_3: 1.0000 - val_acc: 0.8101\n",
      "Epoch 24/50\n",
      "20/20 [==============================] - 1s 63ms/step - loss: 1.4794 - recall_3: 1.0000 - acc: 0.7642 - val_loss: 1.4244 - val_recall_3: 1.0000 - val_acc: 0.8101\n",
      "Epoch 25/50\n",
      "20/20 [==============================] - 1s 63ms/step - loss: 1.4800 - recall_3: 1.0000 - acc: 0.7642 - val_loss: 1.4299 - val_recall_3: 1.0000 - val_acc: 0.8101\n",
      "Epoch 26/50\n",
      "20/20 [==============================] - 1s 63ms/step - loss: 1.4807 - recall_3: 1.0000 - acc: 0.7642 - val_loss: 1.4276 - val_recall_3: 1.0000 - val_acc: 0.8101\n",
      "Epoch 27/50\n",
      "20/20 [==============================] - 1s 64ms/step - loss: 1.4760 - recall_3: 1.0000 - acc: 0.7642 - val_loss: 1.4174 - val_recall_3: 1.0000 - val_acc: 0.8101\n",
      "Epoch 28/50\n",
      "20/20 [==============================] - 1s 63ms/step - loss: 1.4725 - recall_3: 1.0000 - acc: 0.7642 - val_loss: 1.4139 - val_recall_3: 1.0000 - val_acc: 0.8101\n",
      "Epoch 29/50\n",
      "20/20 [==============================] - 1s 63ms/step - loss: 1.4677 - recall_3: 1.0000 - acc: 0.7642 - val_loss: 1.4122 - val_recall_3: 1.0000 - val_acc: 0.8101\n",
      "Epoch 30/50\n",
      "20/20 [==============================] - 1s 65ms/step - loss: 1.4613 - recall_3: 1.0000 - acc: 0.7642 - val_loss: 1.4125 - val_recall_3: 1.0000 - val_acc: 0.8101\n",
      "Epoch 31/50\n",
      "20/20 [==============================] - 1s 63ms/step - loss: 1.4598 - recall_3: 1.0000 - acc: 0.7642 - val_loss: 1.4013 - val_recall_3: 1.0000 - val_acc: 0.8101\n",
      "Epoch 32/50\n",
      "20/20 [==============================] - 1s 62ms/step - loss: 1.4567 - recall_3: 1.0000 - acc: 0.7642 - val_loss: 1.4023 - val_recall_3: 1.0000 - val_acc: 0.8101\n",
      "Epoch 33/50\n",
      "20/20 [==============================] - 1s 64ms/step - loss: 1.4481 - recall_3: 1.0000 - acc: 0.7642 - val_loss: 1.3996 - val_recall_3: 1.0000 - val_acc: 0.8101\n",
      "Epoch 34/50\n",
      "20/20 [==============================] - 1s 63ms/step - loss: 1.4519 - recall_3: 1.0000 - acc: 0.7642 - val_loss: 1.3940 - val_recall_3: 1.0000 - val_acc: 0.8101\n",
      "Epoch 35/50\n",
      "20/20 [==============================] - 1s 62ms/step - loss: 1.4461 - recall_3: 1.0000 - acc: 0.7642 - val_loss: 1.3940 - val_recall_3: 1.0000 - val_acc: 0.8101\n",
      "Epoch 36/50\n",
      "20/20 [==============================] - 1s 64ms/step - loss: 1.4431 - recall_3: 1.0000 - acc: 0.7642 - val_loss: 1.3825 - val_recall_3: 1.0000 - val_acc: 0.8101\n",
      "Epoch 37/50\n",
      "20/20 [==============================] - 1s 63ms/step - loss: 1.4373 - recall_3: 1.0000 - acc: 0.7642 - val_loss: 1.3720 - val_recall_3: 1.0000 - val_acc: 0.8101\n",
      "Epoch 38/50\n",
      "20/20 [==============================] - 1s 63ms/step - loss: 1.4313 - recall_3: 1.0000 - acc: 0.7642 - val_loss: 1.3839 - val_recall_3: 1.0000 - val_acc: 0.8101\n",
      "Epoch 39/50\n",
      "20/20 [==============================] - 1s 63ms/step - loss: 1.4281 - recall_3: 1.0000 - acc: 0.7642 - val_loss: 1.3800 - val_recall_3: 1.0000 - val_acc: 0.8101\n",
      "Epoch 40/50\n",
      "20/20 [==============================] - 1s 63ms/step - loss: 1.4276 - recall_3: 1.0000 - acc: 0.7642 - val_loss: 1.3519 - val_recall_3: 1.0000 - val_acc: 0.8101\n",
      "Epoch 41/50\n",
      "20/20 [==============================] - 1s 63ms/step - loss: 1.4107 - recall_3: 1.0000 - acc: 0.7642 - val_loss: 1.3492 - val_recall_3: 1.0000 - val_acc: 0.8101\n",
      "Epoch 42/50\n",
      "20/20 [==============================] - 1s 63ms/step - loss: 1.4078 - recall_3: 1.0000 - acc: 0.7642 - val_loss: 1.3452 - val_recall_3: 1.0000 - val_acc: 0.8101\n",
      "Epoch 43/50\n",
      "20/20 [==============================] - 1s 64ms/step - loss: 1.3928 - recall_3: 1.0000 - acc: 0.7642 - val_loss: 1.3524 - val_recall_3: 1.0000 - val_acc: 0.8101\n",
      "Epoch 44/50\n",
      "20/20 [==============================] - 1s 63ms/step - loss: 1.3930 - recall_3: 1.0000 - acc: 0.7642 - val_loss: 1.3762 - val_recall_3: 1.0000 - val_acc: 0.8101\n",
      "Epoch 45/50\n",
      "20/20 [==============================] - 1s 64ms/step - loss: 1.4124 - recall_3: 1.0000 - acc: 0.7642 - val_loss: 1.3534 - val_recall_3: 1.0000 - val_acc: 0.8101\n",
      "Epoch 46/50\n",
      "20/20 [==============================] - 1s 64ms/step - loss: 1.4058 - recall_3: 1.0000 - acc: 0.7642 - val_loss: 1.3546 - val_recall_3: 1.0000 - val_acc: 0.8101\n",
      "Epoch 47/50\n",
      "20/20 [==============================] - 1s 63ms/step - loss: 1.4046 - recall_3: 1.0000 - acc: 0.7642 - val_loss: 1.3333 - val_recall_3: 1.0000 - val_acc: 0.8101\n",
      "Epoch 48/50\n"
     ]
    },
    {
     "name": "stdout",
     "output_type": "stream",
     "text": [
      "20/20 [==============================] - 1s 62ms/step - loss: 1.3947 - recall_3: 1.0000 - acc: 0.7642 - val_loss: 1.3362 - val_recall_3: 1.0000 - val_acc: 0.8101\n",
      "Epoch 49/50\n",
      "20/20 [==============================] - 1s 64ms/step - loss: 1.3922 - recall_3: 1.0000 - acc: 0.7642 - val_loss: 1.3272 - val_recall_3: 1.0000 - val_acc: 0.8101\n",
      "Epoch 50/50\n",
      "20/20 [==============================] - 1s 63ms/step - loss: 1.3789 - recall_3: 1.0000 - acc: 0.7642 - val_loss: 1.3474 - val_recall_3: 1.0000 - val_acc: 0.8101\n"
     ]
    }
   ],
   "source": [
    "model4.compile(optimizer='sgd',\n",
    "              loss='binary_crossentropy',\n",
    "              metrics=[tf.keras.metrics.Recall(), 'acc'])\n",
    "\n",
    "results4 = model4.fit(X_train, \n",
    "                    y_train,\n",
    "                    callbacks=early_stopping,\n",
    "                    epochs=50,\n",
    "                    batch_size=32,\n",
    "                    validation_data=(X_val, y_val))"
   ]
  },
  {
   "cell_type": "code",
   "execution_count": 35,
   "metadata": {},
   "outputs": [
    {
     "data": {
      "image/png": "[encoded data removed]",
      "text/plain": [
       "<Figure size 432x288 with 1 Axes>"
      ]
     },
     "metadata": {
      "needs_background": "light"
     },
     "output_type": "display_data"
    }
   ],
   "source": [
    "visualize_results(results4)"
   ]
  },
  {
   "cell_type": "markdown",
   "metadata": {},
   "source": [
    "### Insight: the curve variablity has slightly improved. Will reduce model complexity to reduce the loss function and train the model against the entire training set."
   ]
  },
  {
   "cell_type": "code",
   "execution_count": 36,
   "metadata": {},
   "outputs": [],
   "source": [
    "#reducing layers and nodes within layers\n",
    "np.random.seed(42)\n",
    "\n",
    "lambda_coeff = 0.005\n",
    "\n",
    "model5 = models.Sequential()\n",
    "model5.add(layers.Conv2D(32, (3,3), activation='tanh',\n",
    "                        input_shape=(64, 64, 1), padding='same'))\n",
    "\n",
    "model5.add(layers.Flatten())\n",
    "model5.add(layers.Dense(16, activation='tanh', kernel_regularizer=regularizers.l2(lambda_coeff)))\n",
    "model5.add(layers.Dense(8, activation='tanh', kernel_regularizer=regularizers.l2(lambda_coeff)))\n",
    "\n",
    "model5.add(layers.Dense(1, activation='sigmoid'))"
   ]
  },
  {
   "cell_type": "code",
   "execution_count": 37,
   "metadata": {
    "scrolled": true
   },
   "outputs": [
    {
     "name": "stdout",
     "output_type": "stream",
     "text": [
      "Epoch 1/50\n",
      "20/20 [==============================] - 1s 52ms/step - loss: 0.8238 - recall_4: 0.9482 - acc: 0.7342 - val_loss: 0.7023 - val_recall_4: 1.0000 - val_acc: 0.8101\n",
      "Epoch 2/50\n",
      "20/20 [==============================] - 1s 32ms/step - loss: 0.7734 - recall_4: 1.0000 - acc: 0.7642 - val_loss: 0.6981 - val_recall_4: 1.0000 - val_acc: 0.8101\n",
      "Epoch 3/50\n",
      "20/20 [==============================] - 1s 31ms/step - loss: 0.7646 - recall_4: 1.0000 - acc: 0.7642 - val_loss: 0.6971 - val_recall_4: 1.0000 - val_acc: 0.8101\n",
      "Epoch 4/50\n",
      "20/20 [==============================] - 1s 32ms/step - loss: 0.7600 - recall_4: 1.0000 - acc: 0.7642 - val_loss: 0.6972 - val_recall_4: 1.0000 - val_acc: 0.8101\n",
      "Epoch 5/50\n",
      "20/20 [==============================] - 1s 31ms/step - loss: 0.7574 - recall_4: 1.0000 - acc: 0.7642 - val_loss: 0.6975 - val_recall_4: 1.0000 - val_acc: 0.8101\n",
      "Epoch 6/50\n",
      "20/20 [==============================] - 1s 31ms/step - loss: 0.7557 - recall_4: 1.0000 - acc: 0.7642 - val_loss: 0.6979 - val_recall_4: 1.0000 - val_acc: 0.8101\n",
      "Epoch 7/50\n",
      "20/20 [==============================] - 1s 32ms/step - loss: 0.7546 - recall_4: 1.0000 - acc: 0.7642 - val_loss: 0.6978 - val_recall_4: 1.0000 - val_acc: 0.8101\n",
      "Epoch 8/50\n",
      "20/20 [==============================] - 1s 31ms/step - loss: 0.7537 - recall_4: 1.0000 - acc: 0.7642 - val_loss: 0.6975 - val_recall_4: 1.0000 - val_acc: 0.8101\n",
      "Epoch 9/50\n",
      "20/20 [==============================] - 1s 31ms/step - loss: 0.7528 - recall_4: 1.0000 - acc: 0.7642 - val_loss: 0.6971 - val_recall_4: 1.0000 - val_acc: 0.8101\n",
      "Epoch 10/50\n",
      "20/20 [==============================] - 1s 31ms/step - loss: 0.7519 - recall_4: 1.0000 - acc: 0.7642 - val_loss: 0.6969 - val_recall_4: 1.0000 - val_acc: 0.8101\n",
      "Epoch 11/50\n",
      "20/20 [==============================] - 1s 31ms/step - loss: 0.7510 - recall_4: 1.0000 - acc: 0.7642 - val_loss: 0.6959 - val_recall_4: 1.0000 - val_acc: 0.8101\n",
      "Epoch 12/50\n",
      "20/20 [==============================] - 1s 32ms/step - loss: 0.7501 - recall_4: 1.0000 - acc: 0.7642 - val_loss: 0.6954 - val_recall_4: 1.0000 - val_acc: 0.8101\n",
      "Epoch 13/50\n",
      "20/20 [==============================] - 1s 31ms/step - loss: 0.7494 - recall_4: 1.0000 - acc: 0.7642 - val_loss: 0.6947 - val_recall_4: 1.0000 - val_acc: 0.8101\n",
      "Epoch 14/50\n",
      "20/20 [==============================] - 1s 31ms/step - loss: 0.7485 - recall_4: 1.0000 - acc: 0.7642 - val_loss: 0.6939 - val_recall_4: 1.0000 - val_acc: 0.8101\n",
      "Epoch 15/50\n",
      "20/20 [==============================] - 1s 32ms/step - loss: 0.7479 - recall_4: 1.0000 - acc: 0.7642 - val_loss: 0.6930 - val_recall_4: 1.0000 - val_acc: 0.8101\n",
      "Epoch 16/50\n",
      "20/20 [==============================] - 1s 31ms/step - loss: 0.7471 - recall_4: 1.0000 - acc: 0.7642 - val_loss: 0.6920 - val_recall_4: 1.0000 - val_acc: 0.8101\n",
      "Epoch 17/50\n",
      "20/20 [==============================] - 1s 31ms/step - loss: 0.7461 - recall_4: 1.0000 - acc: 0.7642 - val_loss: 0.6916 - val_recall_4: 1.0000 - val_acc: 0.8101\n",
      "Epoch 18/50\n",
      "20/20 [==============================] - 1s 32ms/step - loss: 0.7455 - recall_4: 1.0000 - acc: 0.7642 - val_loss: 0.6911 - val_recall_4: 1.0000 - val_acc: 0.8101\n",
      "Epoch 19/50\n",
      "20/20 [==============================] - 1s 32ms/step - loss: 0.7447 - recall_4: 1.0000 - acc: 0.7642 - val_loss: 0.6902 - val_recall_4: 1.0000 - val_acc: 0.8101\n",
      "Epoch 20/50\n",
      "20/20 [==============================] - 1s 32ms/step - loss: 0.7438 - recall_4: 1.0000 - acc: 0.7642 - val_loss: 0.6891 - val_recall_4: 1.0000 - val_acc: 0.8101\n",
      "Epoch 21/50\n",
      "20/20 [==============================] - 1s 31ms/step - loss: 0.7430 - recall_4: 1.0000 - acc: 0.7642 - val_loss: 0.6883 - val_recall_4: 1.0000 - val_acc: 0.8101\n",
      "Epoch 22/50\n",
      "20/20 [==============================] - 1s 31ms/step - loss: 0.7424 - recall_4: 1.0000 - acc: 0.7642 - val_loss: 0.6876 - val_recall_4: 1.0000 - val_acc: 0.8101\n",
      "Epoch 23/50\n",
      "20/20 [==============================] - 1s 31ms/step - loss: 0.7414 - recall_4: 1.0000 - acc: 0.7642 - val_loss: 0.6866 - val_recall_4: 1.0000 - val_acc: 0.8101\n",
      "Epoch 24/50\n",
      "20/20 [==============================] - 1s 31ms/step - loss: 0.7406 - recall_4: 1.0000 - acc: 0.7642 - val_loss: 0.6859 - val_recall_4: 1.0000 - val_acc: 0.8101\n",
      "Epoch 25/50\n",
      "20/20 [==============================] - 1s 32ms/step - loss: 0.7401 - recall_4: 1.0000 - acc: 0.7642 - val_loss: 0.6853 - val_recall_4: 1.0000 - val_acc: 0.8101\n",
      "Epoch 26/50\n",
      "20/20 [==============================] - 1s 32ms/step - loss: 0.7393 - recall_4: 1.0000 - acc: 0.7642 - val_loss: 0.6847 - val_recall_4: 1.0000 - val_acc: 0.8101\n",
      "Epoch 27/50\n",
      "20/20 [==============================] - 1s 32ms/step - loss: 0.7384 - recall_4: 1.0000 - acc: 0.7642 - val_loss: 0.6838 - val_recall_4: 1.0000 - val_acc: 0.8101\n",
      "Epoch 28/50\n",
      "20/20 [==============================] - 1s 31ms/step - loss: 0.7377 - recall_4: 1.0000 - acc: 0.7642 - val_loss: 0.6833 - val_recall_4: 1.0000 - val_acc: 0.8101\n",
      "Epoch 29/50\n",
      "20/20 [==============================] - 1s 31ms/step - loss: 0.7369 - recall_4: 1.0000 - acc: 0.7642 - val_loss: 0.6825 - val_recall_4: 1.0000 - val_acc: 0.8101\n",
      "Epoch 30/50\n",
      "20/20 [==============================] - 1s 32ms/step - loss: 0.7360 - recall_4: 1.0000 - acc: 0.7642 - val_loss: 0.6814 - val_recall_4: 1.0000 - val_acc: 0.8101\n",
      "Epoch 31/50\n",
      "20/20 [==============================] - 1s 31ms/step - loss: 0.7352 - recall_4: 1.0000 - acc: 0.7642 - val_loss: 0.6807 - val_recall_4: 1.0000 - val_acc: 0.8101\n",
      "Epoch 32/50\n",
      "20/20 [==============================] - 1s 32ms/step - loss: 0.7348 - recall_4: 1.0000 - acc: 0.7642 - val_loss: 0.6804 - val_recall_4: 1.0000 - val_acc: 0.8101\n",
      "Epoch 33/50\n",
      "20/20 [==============================] - 1s 31ms/step - loss: 0.7338 - recall_4: 1.0000 - acc: 0.7642 - val_loss: 0.6783 - val_recall_4: 1.0000 - val_acc: 0.8101\n",
      "Epoch 34/50\n",
      "20/20 [==============================] - 1s 31ms/step - loss: 0.7364 - recall_4: 1.0000 - acc: 0.7642 - val_loss: 0.6792 - val_recall_4: 1.0000 - val_acc: 0.8101\n",
      "Epoch 35/50\n",
      "20/20 [==============================] - 1s 31ms/step - loss: 0.7325 - recall_4: 1.0000 - acc: 0.7642 - val_loss: 0.6783 - val_recall_4: 1.0000 - val_acc: 0.8101\n",
      "Epoch 36/50\n",
      "20/20 [==============================] - 1s 31ms/step - loss: 0.7317 - recall_4: 1.0000 - acc: 0.7642 - val_loss: 0.6772 - val_recall_4: 1.0000 - val_acc: 0.8101\n",
      "Epoch 37/50\n",
      "20/20 [==============================] - 1s 32ms/step - loss: 0.7309 - recall_4: 1.0000 - acc: 0.7642 - val_loss: 0.6764 - val_recall_4: 1.0000 - val_acc: 0.8101\n",
      "Epoch 38/50\n",
      "20/20 [==============================] - 1s 32ms/step - loss: 0.7302 - recall_4: 1.0000 - acc: 0.7642 - val_loss: 0.6752 - val_recall_4: 1.0000 - val_acc: 0.8101\n",
      "Epoch 39/50\n",
      "20/20 [==============================] - 1s 32ms/step - loss: 0.7295 - recall_4: 1.0000 - acc: 0.7642 - val_loss: 0.6748 - val_recall_4: 1.0000 - val_acc: 0.8101\n",
      "Epoch 40/50\n",
      "20/20 [==============================] - 1s 31ms/step - loss: 0.7288 - recall_4: 1.0000 - acc: 0.7642 - val_loss: 0.6746 - val_recall_4: 1.0000 - val_acc: 0.8101\n",
      "Epoch 41/50\n",
      "20/20 [==============================] - 1s 31ms/step - loss: 0.7281 - recall_4: 1.0000 - acc: 0.7642 - val_loss: 0.6740 - val_recall_4: 1.0000 - val_acc: 0.8101\n",
      "Epoch 42/50\n",
      "20/20 [==============================] - 1s 31ms/step - loss: 0.7272 - recall_4: 1.0000 - acc: 0.7642 - val_loss: 0.6731 - val_recall_4: 1.0000 - val_acc: 0.8101\n",
      "Epoch 43/50\n",
      "20/20 [==============================] - 1s 31ms/step - loss: 0.7266 - recall_4: 1.0000 - acc: 0.7642 - val_loss: 0.6722 - val_recall_4: 1.0000 - val_acc: 0.8101\n",
      "Epoch 44/50\n",
      "20/20 [==============================] - 1s 32ms/step - loss: 0.7259 - recall_4: 1.0000 - acc: 0.7642 - val_loss: 0.6712 - val_recall_4: 1.0000 - val_acc: 0.8101\n",
      "Epoch 45/50\n",
      "20/20 [==============================] - 1s 32ms/step - loss: 0.7252 - recall_4: 1.0000 - acc: 0.7642 - val_loss: 0.6705 - val_recall_4: 1.0000 - val_acc: 0.8101\n",
      "Epoch 46/50\n",
      "20/20 [==============================] - 1s 32ms/step - loss: 0.7244 - recall_4: 1.0000 - acc: 0.7642 - val_loss: 0.6684 - val_recall_4: 1.0000 - val_acc: 0.8101\n",
      "Epoch 47/50\n",
      "20/20 [==============================] - 1s 31ms/step - loss: 0.7241 - recall_4: 1.0000 - acc: 0.7642 - val_loss: 0.6702 - val_recall_4: 1.0000 - val_acc: 0.8101\n",
      "Epoch 48/50\n"
     ]
    },
    {
     "name": "stdout",
     "output_type": "stream",
     "text": [
      "20/20 [==============================] - 1s 31ms/step - loss: 0.7229 - recall_4: 1.0000 - acc: 0.7642 - val_loss: 0.6691 - val_recall_4: 1.0000 - val_acc: 0.8101\n",
      "Epoch 49/50\n",
      "20/20 [==============================] - 1s 32ms/step - loss: 0.7223 - recall_4: 1.0000 - acc: 0.7642 - val_loss: 0.6676 - val_recall_4: 1.0000 - val_acc: 0.8101\n",
      "Epoch 50/50\n",
      "20/20 [==============================] - 1s 31ms/step - loss: 0.7216 - recall_4: 1.0000 - acc: 0.7642 - val_loss: 0.6668 - val_recall_4: 1.0000 - val_acc: 0.8101\n"
     ]
    }
   ],
   "source": [
    "model5.compile(optimizer='sgd',\n",
    "              loss='binary_crossentropy',\n",
    "              metrics=[tf.keras.metrics.Recall(), 'acc'])\n",
    "\n",
    "results5 = model5.fit(X_train, \n",
    "                    y_train,\n",
    "                    callbacks=early_stopping,\n",
    "                    epochs=50,\n",
    "                    batch_size=32,\n",
    "                    validation_data=(X_val, y_val))"
   ]
  },
  {
   "cell_type": "code",
   "execution_count": 38,
   "metadata": {},
   "outputs": [
    {
     "data": {
      "image/png": "[encoded data removed]",
      "text/plain": [
       "<Figure size 432x288 with 1 Axes>"
      ]
     },
     "metadata": {
      "needs_background": "light"
     },
     "output_type": "display_data"
    }
   ],
   "source": [
    "visualize_results(results5)"
   ]
  },
  {
   "cell_type": "code",
   "execution_count": 39,
   "metadata": {},
   "outputs": [
    {
     "name": "stdout",
     "output_type": "stream",
     "text": [
      "Model: \"sequential_4\"\n",
      "_________________________________________________________________\n",
      "Layer (type)                 Output Shape              Param #   \n",
      "=================================================================\n",
      "conv2d_2 (Conv2D)            (None, 64, 64, 32)        320       \n",
      "_________________________________________________________________\n",
      "flatten_2 (Flatten)          (None, 131072)            0         \n",
      "_________________________________________________________________\n",
      "dense_16 (Dense)             (None, 16)                2097168   \n",
      "_________________________________________________________________\n",
      "dense_17 (Dense)             (None, 8)                 136       \n",
      "_________________________________________________________________\n",
      "dense_18 (Dense)             (None, 1)                 9         \n",
      "=================================================================\n",
      "Total params: 2,097,633\n",
      "Trainable params: 2,097,633\n",
      "Non-trainable params: 0\n",
      "_________________________________________________________________\n"
     ]
    }
   ],
   "source": [
    "model5.summary()"
   ]
  },
  {
   "cell_type": "markdown",
   "metadata": {},
   "source": [
    "### Insight: while model 5 has much lower variation, the accuracy is not good. From here, we will attempt to reduce the complexity of the model by implementing dropout regularization as well."
   ]
  },
  {
   "cell_type": "markdown",
   "metadata": {},
   "source": [
    "#### Dropout regularization tests to reduce complexity"
   ]
  },
  {
   "cell_type": "code",
   "execution_count": 40,
   "metadata": {},
   "outputs": [],
   "source": [
    "np.random.seed(42)\n",
    "\n",
    "model6 = models.Sequential()\n",
    "model6.add(layers.Conv2D(32, (3,3), activation='tanh',\n",
    "                        input_shape=(64, 64, 1)))\n",
    "\n",
    "model6.add(layers.Flatten())\n",
    "model6.add(layers.Dense(16, activation='tanh', kernel_regularizer=regularizers.l2(lambda_coeff)))\n",
    "model6.add(layers.Dropout(0.3))\n",
    "model6.add(layers.Dense(8, activation='tanh', kernel_regularizer=regularizers.l2(lambda_coeff)))\n",
    "model6.add(layers.Dropout(0.3))\n",
    "model6.add(layers.Dense(1, activation='sigmoid'))"
   ]
  },
  {
   "cell_type": "code",
   "execution_count": 41,
   "metadata": {
    "scrolled": true
   },
   "outputs": [
    {
     "name": "stdout",
     "output_type": "stream",
     "text": [
      "Epoch 1/50\n",
      "20/20 [==============================] - 1s 42ms/step - loss: 0.8373 - recall_5: 0.8468 - acc: 0.6930 - val_loss: 0.7060 - val_recall_5: 1.0000 - val_acc: 0.8101\n",
      "Epoch 2/50\n",
      "20/20 [==============================] - 1s 29ms/step - loss: 0.8588 - recall_5: 0.8923 - acc: 0.7009 - val_loss: 0.7027 - val_recall_5: 1.0000 - val_acc: 0.8101\n",
      "Epoch 3/50\n",
      "20/20 [==============================] - 1s 29ms/step - loss: 0.8439 - recall_5: 0.8861 - acc: 0.7057 - val_loss: 0.7018 - val_recall_5: 1.0000 - val_acc: 0.8101\n",
      "Epoch 4/50\n",
      "20/20 [==============================] - 1s 30ms/step - loss: 0.8358 - recall_5: 0.8944 - acc: 0.6978 - val_loss: 0.6992 - val_recall_5: 1.0000 - val_acc: 0.8101\n",
      "Epoch 5/50\n",
      "20/20 [==============================] - 1s 30ms/step - loss: 0.8158 - recall_5: 0.9006 - acc: 0.7184 - val_loss: 0.6980 - val_recall_5: 1.0000 - val_acc: 0.8101\n",
      "Epoch 6/50\n",
      "20/20 [==============================] - 1s 29ms/step - loss: 0.8169 - recall_5: 0.9172 - acc: 0.7199 - val_loss: 0.6974 - val_recall_5: 1.0000 - val_acc: 0.8101\n",
      "Epoch 7/50\n",
      "20/20 [==============================] - 1s 29ms/step - loss: 0.8290 - recall_5: 0.9130 - acc: 0.7136 - val_loss: 0.6966 - val_recall_5: 1.0000 - val_acc: 0.8101\n",
      "Epoch 8/50\n",
      "20/20 [==============================] - 1s 29ms/step - loss: 0.8295 - recall_5: 0.9275 - acc: 0.7231 - val_loss: 0.6957 - val_recall_5: 1.0000 - val_acc: 0.8101\n",
      "Epoch 9/50\n",
      "20/20 [==============================] - 1s 29ms/step - loss: 0.8287 - recall_5: 0.9317 - acc: 0.7278 - val_loss: 0.6943 - val_recall_5: 1.0000 - val_acc: 0.8101\n",
      "Epoch 10/50\n",
      "20/20 [==============================] - 1s 29ms/step - loss: 0.8197 - recall_5: 0.9213 - acc: 0.7215 - val_loss: 0.6932 - val_recall_5: 1.0000 - val_acc: 0.8101\n",
      "Epoch 11/50\n",
      "20/20 [==============================] - 1s 29ms/step - loss: 0.8124 - recall_5: 0.9234 - acc: 0.7184 - val_loss: 0.6923 - val_recall_5: 1.0000 - val_acc: 0.8101\n",
      "Epoch 12/50\n",
      "20/20 [==============================] - 1s 29ms/step - loss: 0.8165 - recall_5: 0.9441 - acc: 0.7405 - val_loss: 0.6910 - val_recall_5: 1.0000 - val_acc: 0.8101\n",
      "Epoch 13/50\n",
      "20/20 [==============================] - 1s 29ms/step - loss: 0.8467 - recall_5: 0.9151 - acc: 0.7168 - val_loss: 0.6940 - val_recall_5: 1.0000 - val_acc: 0.8101\n",
      "Epoch 14/50\n",
      "20/20 [==============================] - 1s 28ms/step - loss: 0.8131 - recall_5: 0.8965 - acc: 0.7089 - val_loss: 0.6921 - val_recall_5: 1.0000 - val_acc: 0.8101\n",
      "Epoch 15/50\n",
      "20/20 [==============================] - 1s 29ms/step - loss: 0.8107 - recall_5: 0.9006 - acc: 0.7089 - val_loss: 0.6905 - val_recall_5: 1.0000 - val_acc: 0.8101\n",
      "Epoch 16/50\n",
      "20/20 [==============================] - 1s 29ms/step - loss: 0.8070 - recall_5: 0.9130 - acc: 0.7184 - val_loss: 0.6888 - val_recall_5: 1.0000 - val_acc: 0.8101\n",
      "Epoch 17/50\n",
      "20/20 [==============================] - 1s 29ms/step - loss: 0.7647 - recall_5: 0.9400 - acc: 0.7405 - val_loss: 0.6879 - val_recall_5: 1.0000 - val_acc: 0.8101\n",
      "Epoch 18/50\n",
      "20/20 [==============================] - 1s 29ms/step - loss: 0.7864 - recall_5: 0.9296 - acc: 0.7326 - val_loss: 0.6868 - val_recall_5: 1.0000 - val_acc: 0.8101\n",
      "Epoch 19/50\n",
      "20/20 [==============================] - 1s 29ms/step - loss: 0.8144 - recall_5: 0.9358 - acc: 0.7358 - val_loss: 0.6861 - val_recall_5: 1.0000 - val_acc: 0.8101\n",
      "Epoch 20/50\n",
      "20/20 [==============================] - 1s 29ms/step - loss: 0.7912 - recall_5: 0.9193 - acc: 0.7215 - val_loss: 0.6848 - val_recall_5: 1.0000 - val_acc: 0.8101\n",
      "Epoch 21/50\n",
      "20/20 [==============================] - 1s 29ms/step - loss: 0.7825 - recall_5: 0.9337 - acc: 0.7342 - val_loss: 0.6834 - val_recall_5: 1.0000 - val_acc: 0.8101\n",
      "Epoch 22/50\n",
      "20/20 [==============================] - 1s 29ms/step - loss: 0.7898 - recall_5: 0.9358 - acc: 0.7294 - val_loss: 0.6826 - val_recall_5: 1.0000 - val_acc: 0.8101\n",
      "Epoch 23/50\n",
      "20/20 [==============================] - 1s 29ms/step - loss: 0.7835 - recall_5: 0.9358 - acc: 0.7310 - val_loss: 0.6816 - val_recall_5: 1.0000 - val_acc: 0.8101\n",
      "Epoch 24/50\n",
      "20/20 [==============================] - 1s 29ms/step - loss: 0.7992 - recall_5: 0.9627 - acc: 0.7516 - val_loss: 0.6811 - val_recall_5: 1.0000 - val_acc: 0.8101\n",
      "Epoch 25/50\n",
      "20/20 [==============================] - 1s 29ms/step - loss: 0.8018 - recall_5: 0.9275 - acc: 0.7215 - val_loss: 0.6805 - val_recall_5: 1.0000 - val_acc: 0.8101\n",
      "Epoch 26/50\n",
      "20/20 [==============================] - 1s 29ms/step - loss: 0.8089 - recall_5: 0.9379 - acc: 0.7358 - val_loss: 0.6797 - val_recall_5: 1.0000 - val_acc: 0.8101\n",
      "Epoch 27/50\n",
      "20/20 [==============================] - 1s 29ms/step - loss: 0.7869 - recall_5: 0.9503 - acc: 0.7373 - val_loss: 0.6789 - val_recall_5: 1.0000 - val_acc: 0.8101\n",
      "Epoch 28/50\n",
      "20/20 [==============================] - 1s 29ms/step - loss: 0.7933 - recall_5: 0.9524 - acc: 0.7342 - val_loss: 0.6787 - val_recall_5: 1.0000 - val_acc: 0.8101\n",
      "Epoch 29/50\n",
      "20/20 [==============================] - 1s 30ms/step - loss: 0.8114 - recall_5: 0.9400 - acc: 0.7247 - val_loss: 0.6779 - val_recall_5: 1.0000 - val_acc: 0.8101\n",
      "Epoch 30/50\n",
      "20/20 [==============================] - 1s 29ms/step - loss: 0.7940 - recall_5: 0.9317 - acc: 0.7199 - val_loss: 0.6777 - val_recall_5: 1.0000 - val_acc: 0.8101\n",
      "Epoch 31/50\n",
      "20/20 [==============================] - 1s 30ms/step - loss: 0.7838 - recall_5: 0.9379 - acc: 0.7263 - val_loss: 0.6771 - val_recall_5: 1.0000 - val_acc: 0.8101\n",
      "Epoch 32/50\n",
      "20/20 [==============================] - 1s 30ms/step - loss: 0.7695 - recall_5: 0.9462 - acc: 0.7326 - val_loss: 0.6762 - val_recall_5: 1.0000 - val_acc: 0.8101\n",
      "Epoch 33/50\n",
      "20/20 [==============================] - 1s 29ms/step - loss: 0.7879 - recall_5: 0.9545 - acc: 0.7421 - val_loss: 0.6752 - val_recall_5: 1.0000 - val_acc: 0.8101\n",
      "Epoch 34/50\n",
      "20/20 [==============================] - 1s 29ms/step - loss: 0.7744 - recall_5: 0.9462 - acc: 0.7326 - val_loss: 0.6738 - val_recall_5: 1.0000 - val_acc: 0.8101\n",
      "Epoch 35/50\n",
      "20/20 [==============================] - 1s 29ms/step - loss: 0.7594 - recall_5: 0.9648 - acc: 0.7500 - val_loss: 0.6730 - val_recall_5: 1.0000 - val_acc: 0.8101\n",
      "Epoch 36/50\n",
      "20/20 [==============================] - 1s 29ms/step - loss: 0.7650 - recall_5: 0.9607 - acc: 0.7468 - val_loss: 0.6723 - val_recall_5: 1.0000 - val_acc: 0.8101\n",
      "Epoch 37/50\n",
      "20/20 [==============================] - 1s 29ms/step - loss: 0.7730 - recall_5: 0.9545 - acc: 0.7373 - val_loss: 0.6716 - val_recall_5: 1.0000 - val_acc: 0.8101\n",
      "Epoch 38/50\n",
      "20/20 [==============================] - 1s 31ms/step - loss: 0.7590 - recall_5: 0.9648 - acc: 0.7484 - val_loss: 0.6712 - val_recall_5: 1.0000 - val_acc: 0.8101\n",
      "Epoch 39/50\n",
      "20/20 [==============================] - 1s 30ms/step - loss: 0.7488 - recall_5: 0.9834 - acc: 0.7674 - val_loss: 0.6705 - val_recall_5: 1.0000 - val_acc: 0.8101\n",
      "Epoch 40/50\n",
      "20/20 [==============================] - 1s 29ms/step - loss: 0.7638 - recall_5: 0.9752 - acc: 0.7516 - val_loss: 0.6697 - val_recall_5: 1.0000 - val_acc: 0.8101\n",
      "Epoch 41/50\n",
      "20/20 [==============================] - 1s 30ms/step - loss: 0.7684 - recall_5: 0.9669 - acc: 0.7484 - val_loss: 0.6690 - val_recall_5: 1.0000 - val_acc: 0.8101\n",
      "Epoch 42/50\n",
      "20/20 [==============================] - 1s 29ms/step - loss: 0.7837 - recall_5: 0.9607 - acc: 0.7389 - val_loss: 0.6684 - val_recall_5: 1.0000 - val_acc: 0.8101\n",
      "Epoch 43/50\n",
      "20/20 [==============================] - 1s 29ms/step - loss: 0.7573 - recall_5: 0.9565 - acc: 0.7405 - val_loss: 0.6675 - val_recall_5: 1.0000 - val_acc: 0.8101\n",
      "Epoch 44/50\n",
      "20/20 [==============================] - 1s 29ms/step - loss: 0.7465 - recall_5: 0.9710 - acc: 0.7437 - val_loss: 0.6667 - val_recall_5: 1.0000 - val_acc: 0.8101\n",
      "Epoch 45/50\n",
      "20/20 [==============================] - 1s 30ms/step - loss: 0.7679 - recall_5: 0.9793 - acc: 0.7532 - val_loss: 0.6661 - val_recall_5: 1.0000 - val_acc: 0.8101\n",
      "Epoch 46/50\n",
      "20/20 [==============================] - 1s 29ms/step - loss: 0.7661 - recall_5: 0.9731 - acc: 0.7468 - val_loss: 0.6652 - val_recall_5: 1.0000 - val_acc: 0.8101\n",
      "Epoch 47/50\n",
      "20/20 [==============================] - 1s 28ms/step - loss: 0.7637 - recall_5: 0.9814 - acc: 0.7532 - val_loss: 0.6644 - val_recall_5: 1.0000 - val_acc: 0.8101\n",
      "Epoch 48/50\n"
     ]
    },
    {
     "name": "stdout",
     "output_type": "stream",
     "text": [
      "20/20 [==============================] - 1s 29ms/step - loss: 0.7662 - recall_5: 0.9814 - acc: 0.7563 - val_loss: 0.6616 - val_recall_5: 1.0000 - val_acc: 0.8101\n",
      "Epoch 49/50\n",
      "20/20 [==============================] - 1s 28ms/step - loss: 0.7501 - recall_5: 0.9917 - acc: 0.7642 - val_loss: 0.6610 - val_recall_5: 1.0000 - val_acc: 0.8101\n",
      "Epoch 50/50\n",
      "20/20 [==============================] - 1s 29ms/step - loss: 0.7497 - recall_5: 0.9814 - acc: 0.7532 - val_loss: 0.6604 - val_recall_5: 1.0000 - val_acc: 0.8101\n"
     ]
    }
   ],
   "source": [
    "model6.compile(optimizer='sgd',\n",
    "              loss='binary_crossentropy',\n",
    "              metrics=[tf.keras.metrics.Recall(), 'acc'])\n",
    "\n",
    "results6 = model6.fit(X_train, \n",
    "                    y_train,\n",
    "                    callbacks=early_stopping,\n",
    "                    epochs=50,\n",
    "                    batch_size=32,\n",
    "                    validation_data=(X_val, y_val))"
   ]
  },
  {
   "cell_type": "code",
   "execution_count": 42,
   "metadata": {},
   "outputs": [
    {
     "name": "stdout",
     "output_type": "stream",
     "text": [
      "20/20 [==============================] - 0s 11ms/step - loss: 0.7239 - recall_5: 1.0000 - acc: 0.7642\n"
     ]
    }
   ],
   "source": [
    "results_train6 = model6.evaluate(X_train, y_train)"
   ]
  },
  {
   "cell_type": "code",
   "execution_count": 43,
   "metadata": {},
   "outputs": [
    {
     "name": "stdout",
     "output_type": "stream",
     "text": [
      "5/5 [==============================] - 0s 8ms/step - loss: 0.6604 - recall_5: 1.0000 - acc: 0.8101\n"
     ]
    }
   ],
   "source": [
    "results_val6 = model6.evaluate(X_val, y_val)"
   ]
  },
  {
   "cell_type": "code",
   "execution_count": 44,
   "metadata": {},
   "outputs": [
    {
     "data": {
      "image/png": "[encoded data removed]",
      "text/plain": [
       "<Figure size 432x288 with 1 Axes>"
      ]
     },
     "metadata": {
      "needs_background": "light"
     },
     "output_type": "display_data"
    }
   ],
   "source": [
    "visualize_results(results6)"
   ]
  },
  {
   "cell_type": "markdown",
   "metadata": {},
   "source": [
    "#### dropout drastically reduces variance of the validation set, but the testing set variance is still very high. The recall value of 1 indicates there is still overfitting.  Will introduce padding parameter to improve loss values."
   ]
  },
  {
   "cell_type": "code",
   "execution_count": 45,
   "metadata": {},
   "outputs": [],
   "source": [
    "#introducing padding\n",
    "np.random.seed(42)\n",
    "model7 = models.Sequential()\n",
    "model7.add(layers.Conv2D(32, (3,3), activation='tanh',\n",
    "                        input_shape=(64, 64, 1), padding='same'))\n",
    "\n",
    "model7.add(layers.Flatten())\n",
    "model7.add(layers.Dense(42, activation='tanh'))\n",
    "model7.add(layers.Dropout(0.3))\n",
    "model7.add(layers.Dense(21, activation='tanh'))\n",
    "model7.add(layers.Dropout(0.3))\n",
    "model7.add(layers.Dense(1, activation='sigmoid'))"
   ]
  },
  {
   "cell_type": "code",
   "execution_count": 46,
   "metadata": {
    "scrolled": true
   },
   "outputs": [
    {
     "name": "stdout",
     "output_type": "stream",
     "text": [
      "Epoch 1/50\n",
      "20/20 [==============================] - 1s 48ms/step - loss: 0.7083 - recall_6: 0.6874 - acc: 0.5918 - val_loss: 0.4929 - val_recall_6: 1.0000 - val_acc: 0.8101\n",
      "Epoch 2/50\n",
      "20/20 [==============================] - 1s 37ms/step - loss: 0.6175 - recall_6: 0.9151 - acc: 0.7215 - val_loss: 0.4882 - val_recall_6: 1.0000 - val_acc: 0.8101\n",
      "Epoch 3/50\n",
      "20/20 [==============================] - 1s 36ms/step - loss: 0.6281 - recall_6: 0.8986 - acc: 0.7041 - val_loss: 0.4862 - val_recall_6: 1.0000 - val_acc: 0.8101\n",
      "Epoch 4/50\n",
      "20/20 [==============================] - 1s 37ms/step - loss: 0.5961 - recall_6: 0.9296 - acc: 0.7294 - val_loss: 0.4860 - val_recall_6: 1.0000 - val_acc: 0.8101\n",
      "Epoch 5/50\n",
      "20/20 [==============================] - 1s 37ms/step - loss: 0.6090 - recall_6: 0.9130 - acc: 0.7120 - val_loss: 0.4860 - val_recall_6: 1.0000 - val_acc: 0.8101\n",
      "Epoch 6/50\n",
      "20/20 [==============================] - 1s 37ms/step - loss: 0.5775 - recall_6: 0.9482 - acc: 0.7310 - val_loss: 0.4862 - val_recall_6: 1.0000 - val_acc: 0.8101\n",
      "Epoch 7/50\n",
      "20/20 [==============================] - 1s 36ms/step - loss: 0.5839 - recall_6: 0.9545 - acc: 0.7453 - val_loss: 0.4863 - val_recall_6: 1.0000 - val_acc: 0.8101\n",
      "Epoch 8/50\n",
      "20/20 [==============================] - 1s 36ms/step - loss: 0.5972 - recall_6: 0.9607 - acc: 0.7405 - val_loss: 0.4877 - val_recall_6: 1.0000 - val_acc: 0.8101\n",
      "Epoch 9/50\n",
      "20/20 [==============================] - 1s 37ms/step - loss: 0.5868 - recall_6: 0.9586 - acc: 0.7421 - val_loss: 0.4862 - val_recall_6: 1.0000 - val_acc: 0.8101\n",
      "Epoch 10/50\n",
      "20/20 [==============================] - 1s 38ms/step - loss: 0.6034 - recall_6: 0.9441 - acc: 0.7310 - val_loss: 0.5800 - val_recall_6: 1.0000 - val_acc: 0.8101\n",
      "Epoch 11/50\n",
      "20/20 [==============================] - 1s 37ms/step - loss: 0.6245 - recall_6: 0.8178 - acc: 0.6630 - val_loss: 0.4967 - val_recall_6: 1.0000 - val_acc: 0.8101\n",
      "Epoch 12/50\n",
      "20/20 [==============================] - 1s 37ms/step - loss: 0.5950 - recall_6: 0.9172 - acc: 0.7231 - val_loss: 0.4869 - val_recall_6: 1.0000 - val_acc: 0.8101\n",
      "Epoch 13/50\n",
      "20/20 [==============================] - 1s 36ms/step - loss: 0.5873 - recall_6: 0.9669 - acc: 0.7547 - val_loss: 0.4863 - val_recall_6: 1.0000 - val_acc: 0.8101\n",
      "Epoch 14/50\n",
      "20/20 [==============================] - 1s 37ms/step - loss: 0.5967 - recall_6: 0.9545 - acc: 0.7389 - val_loss: 0.4867 - val_recall_6: 1.0000 - val_acc: 0.8101\n"
     ]
    }
   ],
   "source": [
    "model7.compile(optimizer='sgd',\n",
    "              loss='binary_crossentropy',\n",
    "              metrics=[tf.keras.metrics.Recall(), 'acc'])\n",
    "\n",
    "results7 = model7.fit(X_train, \n",
    "                    y_train,\n",
    "                    callbacks=early_stopping,\n",
    "                    epochs=50,\n",
    "                    batch_size=32,\n",
    "                    validation_data=(X_val, y_val))"
   ]
  },
  {
   "cell_type": "code",
   "execution_count": 47,
   "metadata": {},
   "outputs": [
    {
     "data": {
      "image/png": "[encoded data removed]",
      "text/plain": [
       "<Figure size 432x288 with 1 Axes>"
      ]
     },
     "metadata": {
      "needs_background": "light"
     },
     "output_type": "display_data"
    }
   ],
   "source": [
    "visualize_results(results7)"
   ]
  },
  {
   "cell_type": "markdown",
   "metadata": {},
   "source": [
    "#### Insight: while the variation of the validation set is minimial, the accuracy of the model is still too low. From here, we will generate predictions with the best performing model."
   ]
  },
  {
   "cell_type": "markdown",
   "metadata": {},
   "source": [
    "### Predictions with model 4, which has the highest accuracy and lowest variation in the validation set despite being overfit."
   ]
  },
  {
   "cell_type": "code",
   "execution_count": 48,
   "metadata": {},
   "outputs": [],
   "source": [
    "#generate predictions, evaluate probabilities as 0 or 1\n",
    "label_pred = (model4.predict(X_val) > 0.5).astype(int)\n",
    "\n",
    "cf_matrix = confusion_matrix(y_val, label_pred)"
   ]
  },
  {
   "cell_type": "code",
   "execution_count": 49,
   "metadata": {
    "collapsed": true
   },
   "outputs": [
    {
     "data": {
      "text/plain": [
       "array([[1],\n",
       "       [1],\n",
       "       [1],\n",
       "       [1],\n",
       "       [1],\n",
       "       [1],\n",
       "       [1],\n",
       "       [1],\n",
       "       [1],\n",
       "       [1],\n",
       "       [1],\n",
       "       [1],\n",
       "       [1],\n",
       "       [1],\n",
       "       [1],\n",
       "       [1],\n",
       "       [1],\n",
       "       [1],\n",
       "       [1],\n",
       "       [1],\n",
       "       [1],\n",
       "       [1],\n",
       "       [1],\n",
       "       [1],\n",
       "       [1],\n",
       "       [1],\n",
       "       [1],\n",
       "       [1],\n",
       "       [1],\n",
       "       [1],\n",
       "       [1],\n",
       "       [1],\n",
       "       [1],\n",
       "       [1],\n",
       "       [1],\n",
       "       [1],\n",
       "       [1],\n",
       "       [1],\n",
       "       [1],\n",
       "       [1],\n",
       "       [1],\n",
       "       [1],\n",
       "       [1],\n",
       "       [1],\n",
       "       [1],\n",
       "       [1],\n",
       "       [1],\n",
       "       [1],\n",
       "       [1],\n",
       "       [1],\n",
       "       [1],\n",
       "       [1],\n",
       "       [1],\n",
       "       [1],\n",
       "       [1],\n",
       "       [1],\n",
       "       [1],\n",
       "       [1],\n",
       "       [1],\n",
       "       [1],\n",
       "       [1],\n",
       "       [1],\n",
       "       [1],\n",
       "       [1],\n",
       "       [1],\n",
       "       [1],\n",
       "       [1],\n",
       "       [1],\n",
       "       [1],\n",
       "       [1],\n",
       "       [1],\n",
       "       [1],\n",
       "       [1],\n",
       "       [1],\n",
       "       [1],\n",
       "       [1],\n",
       "       [1],\n",
       "       [1],\n",
       "       [1],\n",
       "       [1],\n",
       "       [1],\n",
       "       [1],\n",
       "       [1],\n",
       "       [1],\n",
       "       [1],\n",
       "       [1],\n",
       "       [1],\n",
       "       [1],\n",
       "       [1],\n",
       "       [1],\n",
       "       [1],\n",
       "       [1],\n",
       "       [1],\n",
       "       [1],\n",
       "       [1],\n",
       "       [1],\n",
       "       [1],\n",
       "       [1],\n",
       "       [1],\n",
       "       [1],\n",
       "       [1],\n",
       "       [1],\n",
       "       [1],\n",
       "       [1],\n",
       "       [1],\n",
       "       [1],\n",
       "       [1],\n",
       "       [1],\n",
       "       [1],\n",
       "       [1],\n",
       "       [1],\n",
       "       [1],\n",
       "       [1],\n",
       "       [1],\n",
       "       [1],\n",
       "       [1],\n",
       "       [1],\n",
       "       [1],\n",
       "       [1],\n",
       "       [1],\n",
       "       [1],\n",
       "       [1],\n",
       "       [1],\n",
       "       [1],\n",
       "       [1],\n",
       "       [1],\n",
       "       [1],\n",
       "       [1],\n",
       "       [1],\n",
       "       [1],\n",
       "       [1],\n",
       "       [1],\n",
       "       [1],\n",
       "       [1],\n",
       "       [1],\n",
       "       [1],\n",
       "       [1],\n",
       "       [1],\n",
       "       [1],\n",
       "       [1],\n",
       "       [1],\n",
       "       [1],\n",
       "       [1],\n",
       "       [1],\n",
       "       [1],\n",
       "       [1],\n",
       "       [1],\n",
       "       [1],\n",
       "       [1],\n",
       "       [1],\n",
       "       [1],\n",
       "       [1],\n",
       "       [1],\n",
       "       [1],\n",
       "       [1],\n",
       "       [1],\n",
       "       [1],\n",
       "       [1]])"
      ]
     },
     "execution_count": 49,
     "metadata": {},
     "output_type": "execute_result"
    }
   ],
   "source": [
    "label_pred"
   ]
  },
  {
   "cell_type": "code",
   "execution_count": 50,
   "metadata": {},
   "outputs": [
    {
     "data": {
      "image/png": "[encoded data removed]",
      "text/plain": [
       "<Figure size 432x288 with 2 Axes>"
      ]
     },
     "metadata": {
      "needs_background": "light"
     },
     "output_type": "display_data"
    }
   ],
   "source": [
    "#plot confusion matrix\n",
    "\n",
    "sns.heatmap(cf_matrix, annot=True);"
   ]
  },
  {
   "cell_type": "markdown",
   "metadata": {},
   "source": [
    "## Summary \n",
    "\n",
    "#### tanh doesn't seem to be a suitable activation function for image prediction in this model. All the models are prone to overfitting, and the accuracy values, while consistent between the training and validation sets, are consistently low. Accurately predicting pneumonia diagnosis is a high stakes prediction, and low accuracy values have consequences for individuals after deployment. Our final model will use the ReLu activation function, as it is consistently better performing than other activation functions."
   ]
  },
  {
   "cell_type": "code",
   "execution_count": null,
   "metadata": {},
   "outputs": [],
   "source": []
  }
 ],
 "metadata": {
  "kernelspec": {
   "display_name": "Python 3",
   "language": "python",
   "name": "python3"
  },
  "language_info": {
   "codemirror_mode": {
    "name": "ipython",
    "version": 3
   },
   "file_extension": ".py",
   "mimetype": "text/x-python",
   "name": "python",
   "nbconvert_exporter": "python",
   "pygments_lexer": "ipython3",
   "version": "3.8.5"
  }
 },
 "nbformat": 4,
 "nbformat_minor": 4
}
