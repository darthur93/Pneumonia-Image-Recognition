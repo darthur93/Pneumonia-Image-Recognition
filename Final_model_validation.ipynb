{
 "cells": [
  {
   "cell_type": "markdown",
   "metadata": {},
   "source": [
    "# Final Model Validation\n",
    "\n",
    "### This notebook contains our final model trained against the entirety of the training set and validated against the testing set. To find our model testing and iterations, please consult the following links where we attempt various activation functions:\n",
    "\n",
    "#### tanh:\n",
    "#### softmax:\n",
    "#### relu:"
   ]
  },
  {
   "cell_type": "code",
   "execution_count": 1,
   "metadata": {},
   "outputs": [],
   "source": [
    "import pandas as pd\n",
    "import numpy as np\n",
    "import matplotlib.pyplot as plt\n",
    "import os\n",
    "import tensorflow as tf\n",
    "import seaborn as sns\n",
    "import keras\n",
    "\n",
    "from sklearn.model_selection import train_test_split\n",
    "from sklearn.metrics import confusion_matrix\n",
    "\n",
    "from keras.preprocessing.image import ImageDataGenerator, array_to_img, img_to_array, load_img\n",
    "from keras import models, layers, regularizers\n",
    "from keras import layers\n",
    "from keras.callbacks import EarlyStopping, ModelCheckpoint"
   ]
  },
  {
   "cell_type": "code",
   "execution_count": 2,
   "metadata": {},
   "outputs": [
    {
     "name": "stdout",
     "output_type": "stream",
     "text": [
      "Found 624 images belonging to 2 classes.\n",
      "Found 5232 images belonging to 2 classes.\n"
     ]
    }
   ],
   "source": [
    "train_data_dir = 'ZhangLabData/CellData/chest_xray/train'\n",
    "test_data_dir = 'ZhangLabData/CellData/chest_xray/test'\n",
    "\n",
    "#Get all the data in the directory data/validation (132 images), and reshape them\n",
    "test_generator = ImageDataGenerator().flow_from_directory(\n",
    "       test_data_dir, \n",
    "       target_size=(64, 64), batch_size=624, color_mode='grayscale', class_mode='binary', seed=42)\n",
    "\n",
    "#Get all the data in the directory data/train (790 images), and reshape them\n",
    "train_generator = ImageDataGenerator().flow_from_directory(\n",
    "       train_data_dir, \n",
    "       target_size=(64, 64), batch_size=5232, color_mode='grayscale', class_mode='binary', seed=42)\n",
    "\n",
    "#Create the datasets\n",
    "train_images, train_labels = next(train_generator)\n",
    "test_images, test_labels = next(test_generator)"
   ]
  },
  {
   "cell_type": "markdown",
   "metadata": {},
   "source": [
    "#### Reshape  images"
   ]
  },
  {
   "cell_type": "code",
   "execution_count": 3,
   "metadata": {},
   "outputs": [
    {
     "data": {
      "text/plain": [
       "(5232, 4096)"
      ]
     },
     "execution_count": 3,
     "metadata": {},
     "output_type": "execute_result"
    }
   ],
   "source": [
    "#train set\n",
    "train_unrow = train_images.reshape(5232, -1)\n",
    "train_unrow.shape"
   ]
  },
  {
   "cell_type": "code",
   "execution_count": 4,
   "metadata": {},
   "outputs": [
    {
     "data": {
      "text/plain": [
       "(624, 4096)"
      ]
     },
     "execution_count": 4,
     "metadata": {},
     "output_type": "execute_result"
    }
   ],
   "source": [
    "#test set\n",
    "test_unrow = test_images.reshape(624, -1)\n",
    "test_unrow.shape"
   ]
  },
  {
   "cell_type": "markdown",
   "metadata": {},
   "source": [
    "#### Labels for images"
   ]
  },
  {
   "cell_type": "code",
   "execution_count": 5,
   "metadata": {},
   "outputs": [
    {
     "data": {
      "text/plain": [
       "array([0., 0., 1., 1., 1., 0., 1., 0., 1., 0.], dtype=float32)"
      ]
     },
     "execution_count": 5,
     "metadata": {},
     "output_type": "execute_result"
    }
   ],
   "source": [
    "train_labels[:10]"
   ]
  },
  {
   "cell_type": "code",
   "execution_count": 6,
   "metadata": {},
   "outputs": [
    {
     "data": {
      "text/plain": [
       "{'NORMAL': 0, 'PNEUMONIA': 1}"
      ]
     },
     "execution_count": 6,
     "metadata": {},
     "output_type": "execute_result"
    }
   ],
   "source": [
    "train_generator.class_indices"
   ]
  },
  {
   "cell_type": "code",
   "execution_count": 7,
   "metadata": {},
   "outputs": [
    {
     "data": {
      "text/plain": [
       "array([[ 51.,  62.,  62., ...,   0.,   0.,   0.],\n",
       "       [ 61.,  69.,  73., ...,   0.,   0.,   1.],\n",
       "       [ 84.,  96., 102., ...,  96.,  86.,  70.],\n",
       "       ...,\n",
       "       [ 17.,  31.,  29., ...,   0.,  11.,   0.],\n",
       "       [  8.,  17.,  33., ...,   0.,   0.,   0.],\n",
       "       [ 37.,  61.,  76., ...,   0.,   0.,  11.]], dtype=float32)"
      ]
     },
     "execution_count": 7,
     "metadata": {},
     "output_type": "execute_result"
    }
   ],
   "source": [
    "train_unrow"
   ]
  },
  {
   "cell_type": "code",
   "execution_count": 8,
   "metadata": {},
   "outputs": [
    {
     "data": {
      "text/plain": [
       "numpy.ndarray"
      ]
     },
     "execution_count": 8,
     "metadata": {},
     "output_type": "execute_result"
    }
   ],
   "source": [
    "#scaling the data\n",
    "train_img_final = train_unrow/255\n",
    "test_img_final = test_unrow/255\n",
    "\n",
    "type(train_img_final)"
   ]
  },
  {
   "cell_type": "code",
   "execution_count": 9,
   "metadata": {},
   "outputs": [
    {
     "data": {
      "text/plain": [
       "array([1., 1., 0., 0., 1., 1., 0., 0., 1., 0.], dtype=float32)"
      ]
     },
     "execution_count": 9,
     "metadata": {},
     "output_type": "execute_result"
    }
   ],
   "source": [
    "test_labels[:10]"
   ]
  },
  {
   "cell_type": "code",
   "execution_count": 10,
   "metadata": {},
   "outputs": [
    {
     "name": "stdout",
     "output_type": "stream",
     "text": [
      "(5232, 4096)\n",
      "(624, 4096)\n"
     ]
    }
   ],
   "source": [
    "print(train_img_final.shape)\n",
    "print(test_img_final.shape)"
   ]
  },
  {
   "cell_type": "code",
   "execution_count": 11,
   "metadata": {},
   "outputs": [],
   "source": [
    "\n",
    "\n",
    "early_stopping = [EarlyStopping(monitor='val_loss', patience=10), ModelCheckpoint(filepath='best_model.h5',\n",
    "                                                                                 monitor='val_loss', save_best_only=True)]"
   ]
  },
  {
   "cell_type": "code",
   "execution_count": 12,
   "metadata": {},
   "outputs": [],
   "source": [
    "#plot epochs vs loss for train and test set\n",
    "def visualize_results(results):\n",
    "    history = results.history\n",
    "    plt.figure()\n",
    "    plt.plot(history['val_loss'])\n",
    "    plt.plot(history['loss'])\n",
    "    plt.legend(['val_loss', 'loss'])\n",
    "    plt.title('Loss v Epochs')\n",
    "    plt.xlabel('Epochs')\n",
    "    plt.ylabel('Loss')\n",
    "    plt.show();\n",
    "    \n",
    "    plt.figure()\n",
    "    plt.plot(history['val_recall'])\n",
    "    plt.plot(history['recall'])\n",
    "    plt.legend(['val_recall', 'recall'])\n",
    "    plt.title('Epochs v Recall')\n",
    "    plt.xlabel('Epochs')\n",
    "    plt.ylabel('Recall')\n",
    "    plt.show();"
   ]
  },
  {
   "cell_type": "code",
   "execution_count": 13,
   "metadata": {},
   "outputs": [],
   "source": [
    "#CNN model\n",
    "np.random.seed(42)\n",
    "model3 = models.Sequential()\n",
    "model3.add(layers.Conv2D(32, (3,3), activation='relu',\n",
    "                        input_shape=(64, 64, 1)))\n",
    "\n",
    "model3.add(layers.Flatten())\n",
    "model3.add(layers.Dense(64, activation='relu'))\n",
    "model3.add(layers.Dense(1, activation='sigmoid'))"
   ]
  },
  {
   "cell_type": "code",
   "execution_count": 14,
   "metadata": {},
   "outputs": [
    {
     "name": "stdout",
     "output_type": "stream",
     "text": [
      "Model: \"sequential\"\n",
      "_________________________________________________________________\n",
      "Layer (type)                 Output Shape              Param #   \n",
      "=================================================================\n",
      "conv2d (Conv2D)              (None, 62, 62, 32)        320       \n",
      "_________________________________________________________________\n",
      "flatten (Flatten)            (None, 123008)            0         \n",
      "_________________________________________________________________\n",
      "dense (Dense)                (None, 64)                7872576   \n",
      "_________________________________________________________________\n",
      "dense_1 (Dense)              (None, 1)                 65        \n",
      "=================================================================\n",
      "Total params: 7,872,961\n",
      "Trainable params: 7,872,961\n",
      "Non-trainable params: 0\n",
      "_________________________________________________________________\n"
     ]
    }
   ],
   "source": [
    "model3.summary()"
   ]
  },
  {
   "cell_type": "code",
   "execution_count": 15,
   "metadata": {
    "scrolled": true
   },
   "outputs": [
    {
     "name": "stdout",
     "output_type": "stream",
     "text": [
      "Epoch 1/10\n",
      "41/41 [==============================] - 5s 130ms/step - loss: 10.9351 - recall: 0.8640 - val_loss: 0.4479 - val_recall: 0.8872\n",
      "Epoch 2/10\n",
      "41/41 [==============================] - 5s 118ms/step - loss: 0.2743 - recall: 0.9428 - val_loss: 0.3705 - val_recall: 0.9205\n",
      "Epoch 3/10\n",
      "41/41 [==============================] - 4s 108ms/step - loss: 0.2136 - recall: 0.9536 - val_loss: 0.3706 - val_recall: 0.9667\n",
      "Epoch 4/10\n",
      "41/41 [==============================] - 5s 132ms/step - loss: 0.1767 - recall: 0.9609 - val_loss: 0.3830 - val_recall: 0.9769\n",
      "Epoch 5/10\n",
      "41/41 [==============================] - 5s 120ms/step - loss: 0.1531 - recall: 0.9660 - val_loss: 0.4060 - val_recall: 0.9846\n",
      "Epoch 6/10\n",
      "41/41 [==============================] - 4s 110ms/step - loss: 0.1376 - recall: 0.9701 - val_loss: 0.4373 - val_recall: 0.9872\n",
      "Epoch 7/10\n",
      "41/41 [==============================] - 4s 105ms/step - loss: 0.1259 - recall: 0.9730 - val_loss: 0.4468 - val_recall: 0.9872\n",
      "Epoch 8/10\n",
      "41/41 [==============================] - 4s 105ms/step - loss: 0.1168 - recall: 0.9748 - val_loss: 0.4553 - val_recall: 0.9897\n",
      "Epoch 9/10\n",
      "41/41 [==============================] - 4s 105ms/step - loss: 0.1094 - recall: 0.9755 - val_loss: 0.4576 - val_recall: 0.9897\n",
      "Epoch 10/10\n",
      "41/41 [==============================] - 5s 116ms/step - loss: 0.1033 - recall: 0.9776 - val_loss: 0.4686 - val_recall: 0.9897\n"
     ]
    }
   ],
   "source": [
    "\n",
    "optimizer = keras.optimizers.SGD(lr=0.0001)\n",
    "model3.compile(optimizer=optimizer,\n",
    "              loss='binary_crossentropy',\n",
    "              metrics=[tf.keras.metrics.Recall()])\n",
    "\n",
    "results3 = model3.fit(train_images,\n",
    "                    train_labels,\n",
    "                    callbacks=early_stopping,\n",
    "                    epochs=10,\n",
    "                    batch_size=128,\n",
    "                    validation_data=(test_images, test_labels), shuffle=False)"
   ]
  },
  {
   "cell_type": "code",
   "execution_count": 16,
   "metadata": {},
   "outputs": [
    {
     "name": "stdout",
     "output_type": "stream",
     "text": [
      "dict_keys(['loss', 'recall', 'val_loss', 'val_recall'])\n"
     ]
    }
   ],
   "source": [
    "history = results3.history\n",
    "print(history.keys())"
   ]
  },
  {
   "cell_type": "code",
   "execution_count": 17,
   "metadata": {},
   "outputs": [
    {
     "name": "stdout",
     "output_type": "stream",
     "text": [
      "164/164 [==============================] - 2s 12ms/step - loss: 0.0947 - recall: 0.9789\n"
     ]
    }
   ],
   "source": [
    "results_train3 = model3.evaluate(train_images, train_labels)"
   ]
  },
  {
   "cell_type": "code",
   "execution_count": 18,
   "metadata": {},
   "outputs": [
    {
     "name": "stdout",
     "output_type": "stream",
     "text": [
      "20/20 [==============================] - 0s 11ms/step - loss: 0.4686 - recall: 0.9897\n"
     ]
    }
   ],
   "source": [
    "results_test3 = model3.evaluate(test_images, test_labels)"
   ]
  },
  {
   "cell_type": "code",
   "execution_count": 19,
   "metadata": {
    "scrolled": false
   },
   "outputs": [
    {
     "data": {
      "image/png": "[encoded data removed]",
      "text/plain": [
       "<Figure size 432x288 with 1 Axes>"
      ]
     },
     "metadata": {
      "needs_background": "light"
     },
     "output_type": "display_data"
    },
    {
     "data": {
      "image/png": "[encoded data removed]",
      "text/plain": [
       "<Figure size 432x288 with 1 Axes>"
      ]
     },
     "metadata": {
      "needs_background": "light"
     },
     "output_type": "display_data"
    }
   ],
   "source": [
    "visualize_results(results3)"
   ]
  },
  {
   "cell_type": "code",
   "execution_count": 20,
   "metadata": {},
   "outputs": [],
   "source": [
    "\n",
    "label_pred = (model3.predict(test_images) > 0.5).astype(int)\n",
    "\n",
    "cf_matrix = confusion_matrix(test_labels, label_pred)"
   ]
  },
  {
   "cell_type": "code",
   "execution_count": 21,
   "metadata": {},
   "outputs": [
    {
     "data": {
      "image/png": "[encoded data removed]",
      "text/plain": [
       "<Figure size 432x288 with 2 Axes>"
      ]
     },
     "metadata": {
      "needs_background": "light"
     },
     "output_type": "display_data"
    }
   ],
   "source": [
    "\n",
    "sns.heatmap(cf_matrix, annot=True);"
   ]
  },
  {
   "cell_type": "code",
   "execution_count": null,
   "metadata": {},
   "outputs": [],
   "source": []
  },
  {
   "cell_type": "code",
   "execution_count": null,
   "metadata": {},
   "outputs": [],
   "source": []
  },
  {
   "cell_type": "code",
   "execution_count": null,
   "metadata": {},
   "outputs": [],
   "source": []
  }
 ],
 "metadata": {
  "kernelspec": {
   "display_name": "Python 3",
   "language": "python",
   "name": "python3"
  },
  "language_info": {
   "codemirror_mode": {
    "name": "ipython",
    "version": 3
   },
   "file_extension": ".py",
   "mimetype": "text/x-python",
   "name": "python",
   "nbconvert_exporter": "python",
   "pygments_lexer": "ipython3",
   "version": "3.8.5"
  }
 },
 "nbformat": 4,
 "nbformat_minor": 4
}
