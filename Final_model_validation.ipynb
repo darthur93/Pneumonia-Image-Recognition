{
 "cells": [
  {
   "cell_type": "markdown",
   "metadata": {},
   "source": [
    "# Final Model Validation\n",
    "\n",
    "### This notebook contains our final model trained against the entirety of the training set and validated against the testing set. To find our model testing and iterations, please consult the following links where we attempt various activation functions:\n",
    "\n",
    "#### tanh:\n",
    "#### softmax:\n",
    "#### relu:"
   ]
  },
  {
   "cell_type": "code",
   "execution_count": 1,
   "metadata": {},
   "outputs": [],
   "source": [
    "import pandas as pd\n",
    "import numpy as np\n",
    "import matplotlib.pyplot as plt\n",
    "import os\n",
    "import tensorflow as tf\n",
    "import seaborn as sns\n",
    "import keras\n",
    "\n",
    "from sklearn.model_selection import train_test_split\n",
    "from sklearn.metrics import confusion_matrix\n",
    "\n",
    "from keras.preprocessing.image import ImageDataGenerator, array_to_img, img_to_array, load_img\n",
    "from keras import models, layers, regularizers\n",
    "from keras.callbacks import EarlyStopping, ModelCheckpoint"
   ]
  },
  {
   "cell_type": "markdown",
   "metadata": {},
   "source": [
    "## Data Loading\n",
    "\n",
    "#### Here we load the training and testing image sets from mendely. Since we have our final model from previous iterations, we will train the model against the entirety of the training set and validate it against the testing set."
   ]
  },
  {
   "cell_type": "code",
   "execution_count": 2,
   "metadata": {},
   "outputs": [
    {
     "name": "stdout",
     "output_type": "stream",
     "text": [
      "Found 624 images belonging to 2 classes.\n",
      "Found 5232 images belonging to 2 classes.\n"
     ]
    }
   ],
   "source": [
    "train_data_dir = 'ZhangLabData/CellData/chest_xray/train'\n",
    "test_data_dir = 'ZhangLabData/CellData/chest_xray/test'\n",
    "\n",
    "#Get all the data in the directory data/validation (624 images), and reshape them\n",
    "test_generator = ImageDataGenerator().flow_from_directory(\n",
    "       test_data_dir, \n",
    "       target_size=(64, 64), batch_size=624, color_mode='grayscale', class_mode='binary')\n",
    "\n",
    "#Get all the data in the directory data/train (5232 images), and reshape them\n",
    "train_generator = ImageDataGenerator().flow_from_directory(\n",
    "       train_data_dir, \n",
    "       target_size=(64, 64), batch_size=5232, color_mode='grayscale', class_mode='binary')\n",
    "\n",
    "#Create the datasets\n",
    "train_images, train_labels = next(train_generator)\n",
    "test_images, test_labels = next(test_generator)"
   ]
  },
  {
   "cell_type": "markdown",
   "metadata": {},
   "source": [
    "#### Labels for images"
   ]
  },
  {
   "cell_type": "code",
   "execution_count": 3,
   "metadata": {},
   "outputs": [
    {
     "data": {
      "text/plain": [
       "array([0., 0., 1., 1., 1., 1., 0., 0., 0., 1.], dtype=float32)"
      ]
     },
     "execution_count": 3,
     "metadata": {},
     "output_type": "execute_result"
    }
   ],
   "source": [
    "train_labels[:10]"
   ]
  },
  {
   "cell_type": "code",
   "execution_count": 4,
   "metadata": {},
   "outputs": [
    {
     "data": {
      "text/plain": [
       "array([0., 1., 1., 1., 0., 0., 1., 0., 1., 0.], dtype=float32)"
      ]
     },
     "execution_count": 4,
     "metadata": {},
     "output_type": "execute_result"
    }
   ],
   "source": [
    "test_labels[:10]"
   ]
  },
  {
   "cell_type": "code",
   "execution_count": 5,
   "metadata": {},
   "outputs": [
    {
     "data": {
      "text/plain": [
       "{'NORMAL': 0, 'PNEUMONIA': 1}"
      ]
     },
     "execution_count": 5,
     "metadata": {},
     "output_type": "execute_result"
    }
   ],
   "source": [
    "train_generator.class_indices"
   ]
  },
  {
   "cell_type": "markdown",
   "metadata": {},
   "source": [
    "#### To ensure consistency with model iterations, we employed EarlyStoppping and ModelCheckpoint methods in the final model"
   ]
  },
  {
   "cell_type": "code",
   "execution_count": 6,
   "metadata": {},
   "outputs": [],
   "source": [
    "#Earlystopping and Modelcheckpoint methods\n",
    "\n",
    "early_stopping = [EarlyStopping(monitor='val_loss', patience=10), ModelCheckpoint(filepath='best_model.h5',\n",
    "                                                                                 monitor='val_loss', save_best_only=True)]"
   ]
  },
  {
   "cell_type": "markdown",
   "metadata": {},
   "source": [
    "#### Visualization function for loss function in model"
   ]
  },
  {
   "cell_type": "code",
   "execution_count": 7,
   "metadata": {},
   "outputs": [],
   "source": [
    "#plot epochs vs loss and recall for train and test set\n",
    "def visualize_results(results):\n",
    "    history = results.history\n",
    "    plt.figure()\n",
    "    plt.plot(history['val_loss'])\n",
    "    plt.plot(history['loss'])\n",
    "    plt.legend(['test_loss', 'train_loss'])\n",
    "    plt.title('Epochs vs Loss')\n",
    "    plt.xlabel('Epochs')\n",
    "    plt.ylabel('Loss')\n",
    "    plt.show();\n",
    "    \n",
    "    plt.figure()\n",
    "    plt.plot(history['val_recall'])\n",
    "    plt.plot(history['recall'])\n",
    "    plt.legend(['test_recall', 'train_recall'])\n",
    "    plt.title('Epochs vs Recall')\n",
    "    plt.xlabel('Epochs')\n",
    "    plt.ylabel('Recall')\n",
    "    plt.show();\n",
    "    \n",
    "    plt.figure()\n",
    "    plt.plot(history['val_acc'])\n",
    "    plt.plot(history['acc'])\n",
    "    plt.legend(['test_acc', 'train_acc'])\n",
    "    plt.title('Epochs vs Accuracy')\n",
    "    plt.xlabel('Epochs')\n",
    "    plt.ylabel('Accuracy')\n",
    "    plt.show();"
   ]
  },
  {
   "cell_type": "markdown",
   "metadata": {},
   "source": [
    "#### Final model creation"
   ]
  },
  {
   "cell_type": "code",
   "execution_count": 8,
   "metadata": {},
   "outputs": [],
   "source": [
    "#CNN model\n",
    "np.random.seed(42)\n",
    "model3 = models.Sequential()\n",
    "model3.add(layers.Conv2D(32, (3,3), activation='relu',\n",
    "                        input_shape=(64, 64, 1)))\n",
    "\n",
    "model3.add(layers.Flatten())\n",
    "model3.add(layers.Dense(64, activation='relu'))\n",
    "model3.add(layers.Dense(1, activation='sigmoid'))"
   ]
  },
  {
   "cell_type": "code",
   "execution_count": 9,
   "metadata": {},
   "outputs": [
    {
     "name": "stdout",
     "output_type": "stream",
     "text": [
      "Model: \"sequential\"\n",
      "_________________________________________________________________\n",
      "Layer (type)                 Output Shape              Param #   \n",
      "=================================================================\n",
      "conv2d (Conv2D)              (None, 62, 62, 32)        320       \n",
      "_________________________________________________________________\n",
      "flatten (Flatten)            (None, 123008)            0         \n",
      "_________________________________________________________________\n",
      "dense (Dense)                (None, 64)                7872576   \n",
      "_________________________________________________________________\n",
      "dense_1 (Dense)              (None, 1)                 65        \n",
      "=================================================================\n",
      "Total params: 7,872,961\n",
      "Trainable params: 7,872,961\n",
      "Non-trainable params: 0\n",
      "_________________________________________________________________\n"
     ]
    }
   ],
   "source": [
    "model3.summary()"
   ]
  },
  {
   "cell_type": "markdown",
   "metadata": {},
   "source": [
    "#### For our compile method, we're examining recall and accuracy as our metrics. We are more concerned with false negatives than we are false positives when it comes to diagnosis, which is why recall is going to be our primary metric of evaluation. Accuracy ensures that our model makes the correct diagnosis consistently."
   ]
  },
  {
   "cell_type": "code",
   "execution_count": 10,
   "metadata": {
    "scrolled": true
   },
   "outputs": [
    {
     "name": "stdout",
     "output_type": "stream",
     "text": [
      "Epoch 1/10\n",
      "41/41 [==============================] - 5s 120ms/step - loss: 11.5257 - recall: 0.9490 - acc: 0.7521 - val_loss: 0.5039 - val_recall: 0.9256 - val_acc: 0.8189\n",
      "Epoch 2/10\n",
      "41/41 [==============================] - 5s 117ms/step - loss: 0.4945 - recall: 0.9794 - acc: 0.7576 - val_loss: 0.5852 - val_recall: 0.9974 - val_acc: 0.6506\n",
      "Epoch 3/10\n",
      "41/41 [==============================] - 5s 112ms/step - loss: 0.3987 - recall: 0.9724 - acc: 0.8276 - val_loss: 0.4134 - val_recall: 0.8769 - val_acc: 0.8381\n",
      "Epoch 4/10\n",
      "41/41 [==============================] - 5s 113ms/step - loss: 0.3551 - recall: 0.9531 - acc: 0.8547 - val_loss: 0.3984 - val_recall: 0.9282 - val_acc: 0.8365\n",
      "Epoch 5/10\n",
      "41/41 [==============================] - 5s 113ms/step - loss: 0.3330 - recall: 0.9384 - acc: 0.8641 - val_loss: 0.3562 - val_recall: 0.9103 - val_acc: 0.8622\n",
      "Epoch 6/10\n",
      "41/41 [==============================] - 5s 114ms/step - loss: 0.2969 - recall: 0.9395 - acc: 0.8765 - val_loss: 0.3335 - val_recall: 0.9359 - val_acc: 0.8654\n",
      "Epoch 7/10\n",
      "41/41 [==============================] - 5s 112ms/step - loss: 0.2712 - recall: 0.9428 - acc: 0.8874 - val_loss: 0.3255 - val_recall: 0.9410 - val_acc: 0.8654\n",
      "Epoch 8/10\n",
      "41/41 [==============================] - 5s 111ms/step - loss: 0.2548 - recall: 0.9446 - acc: 0.8947 - val_loss: 0.3243 - val_recall: 0.9462 - val_acc: 0.8622\n",
      "Epoch 9/10\n",
      "41/41 [==============================] - 5s 111ms/step - loss: 0.2388 - recall: 0.9462 - acc: 0.9019 - val_loss: 0.3188 - val_recall: 0.9513 - val_acc: 0.8638\n",
      "Epoch 10/10\n",
      "41/41 [==============================] - 5s 115ms/step - loss: 0.2210 - recall: 0.9498 - acc: 0.9088 - val_loss: 0.3130 - val_recall: 0.9462 - val_acc: 0.8718\n"
     ]
    }
   ],
   "source": [
    "#Define optimizer with modified learning rate, compile, and fit to training data\n",
    "\n",
    "optimizer = keras.optimizers.SGD(lr=0.0001)\n",
    "model3.compile(optimizer=optimizer,\n",
    "              loss='binary_crossentropy',\n",
    "              metrics=[tf.keras.metrics.Recall(), 'acc'])\n",
    "\n",
    "results3 = model3.fit(train_images,\n",
    "                    train_labels,\n",
    "                    callbacks=early_stopping,\n",
    "                    epochs=10,\n",
    "                    batch_size=128,\n",
    "                    validation_data=(test_images, test_labels), shuffle=False)"
   ]
  },
  {
   "cell_type": "markdown",
   "metadata": {},
   "source": [
    "#### Model evaluation"
   ]
  },
  {
   "cell_type": "code",
   "execution_count": 11,
   "metadata": {},
   "outputs": [
    {
     "name": "stdout",
     "output_type": "stream",
     "text": [
      "164/164 [==============================] - 2s 12ms/step - loss: 0.1840 - recall: 0.9400 - acc: 0.9306\n"
     ]
    }
   ],
   "source": [
    "results_train3 = model3.evaluate(train_images, train_labels)"
   ]
  },
  {
   "cell_type": "code",
   "execution_count": 12,
   "metadata": {},
   "outputs": [
    {
     "name": "stdout",
     "output_type": "stream",
     "text": [
      "20/20 [==============================] - 0s 10ms/step - loss: 0.3130 - recall: 0.9462 - acc: 0.8718\n"
     ]
    }
   ],
   "source": [
    "results_test3 = model3.evaluate(test_images, test_labels)"
   ]
  },
  {
   "cell_type": "markdown",
   "metadata": {},
   "source": [
    "#### Visualization of loss for training and test sets"
   ]
  },
  {
   "cell_type": "code",
   "execution_count": 13,
   "metadata": {
    "scrolled": false
   },
   "outputs": [
    {
     "data": {
      "image/png": "[encoded data removed]",
      "text/plain": [
       "<Figure size 432x288 with 1 Axes>"
      ]
     },
     "metadata": {
      "needs_background": "light"
     },
     "output_type": "display_data"
    },
    {
     "data": {
      "image/png": "[encoded data removed]",
      "text/plain": [
       "<Figure size 432x288 with 1 Axes>"
      ]
     },
     "metadata": {
      "needs_background": "light"
     },
     "output_type": "display_data"
    },
    {
     "data": {
      "image/png": "[encoded data removed]",
      "text/plain": [
       "<Figure size 432x288 with 1 Axes>"
      ]
     },
     "metadata": {
      "needs_background": "light"
     },
     "output_type": "display_data"
    }
   ],
   "source": [
    "visualize_results(results3)"
   ]
  },
  {
   "cell_type": "markdown",
   "metadata": {},
   "source": [
    "#### Insight: The variation in the curves is minimal, and the training and testing sets recall and loss curves between the  converge, indicating there is minimal overfitting. Therefore, we believe this is a good model for our prediction purposes."
   ]
  },
  {
   "cell_type": "markdown",
   "metadata": {},
   "source": [
    "#### Model predictions"
   ]
  },
  {
   "cell_type": "code",
   "execution_count": 14,
   "metadata": {},
   "outputs": [],
   "source": [
    "#generating prediction variables, converting probabilities to 0 or 1 for confusion matrix\n",
    "\n",
    "label_pred = (model3.predict(test_images) > 0.5).astype(int)\n",
    "\n",
    "cf_matrix = confusion_matrix(test_labels, label_pred)"
   ]
  },
  {
   "cell_type": "code",
   "execution_count": 15,
   "metadata": {},
   "outputs": [
    {
     "data": {
      "image/png": "[encoded data removed]",
      "text/plain": [
       "<Figure size 432x288 with 2 Axes>"
      ]
     },
     "metadata": {
      "needs_background": "light"
     },
     "output_type": "display_data"
    }
   ],
   "source": [
    "#heatmap of confusion matrix\n",
    "\n",
    "sns.heatmap(cf_matrix, annot=True);"
   ]
  },
  {
   "cell_type": "markdown",
   "metadata": {},
   "source": [
    "## SUMMARY\n",
    "\n",
    "#### Here we display a model where the loss function between the train and testing sets are minimized, and makes predictions against unseen data with 87.2% accuracy. While these results are consistent, the data scientists working on this project are limited by their PC's computing power. Future work would increase the image sizes for greater resolution and therefore more accurate predictions. Additionally, having a larger data set would also benefit the model to perform with greater accuracy."
   ]
  },
  {
   "cell_type": "code",
   "execution_count": null,
   "metadata": {},
   "outputs": [],
   "source": []
  },
  {
   "cell_type": "code",
   "execution_count": null,
   "metadata": {},
   "outputs": [],
   "source": []
  }
 ],
 "metadata": {
  "kernelspec": {
   "display_name": "Python 3",
   "language": "python",
   "name": "python3"
  },
  "language_info": {
   "codemirror_mode": {
    "name": "ipython",
    "version": 3
   },
   "file_extension": ".py",
   "mimetype": "text/x-python",
   "name": "python",
   "nbconvert_exporter": "python",
   "pygments_lexer": "ipython3",
   "version": "3.8.5"
  }
 },
 "nbformat": 4,
 "nbformat_minor": 4
}
