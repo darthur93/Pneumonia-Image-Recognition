{
 "cells": [
  {
   "cell_type": "code",
   "execution_count": 1,
   "metadata": {},
   "outputs": [],
   "source": [
    "import pandas as pd\n",
    "import numpy as np\n",
    "import matplotlib.pyplot as plt\n",
    "import os\n",
    "import tensorflow as tf\n",
    "\n",
    "from sklearn.model_selection import train_test_split\n",
    "\n",
    "from keras.preprocessing.image import ImageDataGenerator, array_to_img, img_to_array, load_img\n",
    "from keras import models, layers, regularizers\n",
    "from keras import layers\n",
    "from keras.callbacks import EarlyStopping, ModelCheckpoint"
   ]
  },
  {
   "cell_type": "code",
   "execution_count": 2,
   "metadata": {},
   "outputs": [
    {
     "name": "stdout",
     "output_type": "stream",
     "text": [
      "Found 624 images belonging to 2 classes.\n",
      "Found 5232 images belonging to 2 classes.\n"
     ]
    }
   ],
   "source": [
    "train_data_dir = 'ZhangLabData/CellData/chest_xray/train'\n",
    "test_data_dir = 'ZhangLabData/CellData/chest_xray/test'\n",
    "\n",
    "#Get all the data in the directory data/validation (132 images), and reshape them\n",
    "test_generator = ImageDataGenerator().flow_from_directory(\n",
    "       test_data_dir, \n",
    "       target_size=(64, 64), batch_size=624, color_mode='grayscale', class_mode='binary')\n",
    "\n",
    "#Get all the data in the directory data/train (790 images), and reshape them\n",
    "train_generator = ImageDataGenerator().flow_from_directory(\n",
    "       train_data_dir, \n",
    "       target_size=(64, 64), batch_size=5232, color_mode='grayscale', class_mode='binary')\n",
    "\n",
    "#Create the datasets\n",
    "train_images, train_labels = next(train_generator)\n",
    "test_images, test_labels = next(test_generator)"
   ]
  },
  {
   "cell_type": "markdown",
   "metadata": {},
   "source": [
    "#### Reshape  images"
   ]
  },
  {
   "cell_type": "code",
   "execution_count": 3,
   "metadata": {},
   "outputs": [
    {
     "data": {
      "text/plain": [
       "(5232, 4096)"
      ]
     },
     "execution_count": 3,
     "metadata": {},
     "output_type": "execute_result"
    }
   ],
   "source": [
    "#train set\n",
    "train_unrow = train_images.reshape(5232, -1)\n",
    "train_unrow.shape"
   ]
  },
  {
   "cell_type": "code",
   "execution_count": 4,
   "metadata": {},
   "outputs": [
    {
     "data": {
      "text/plain": [
       "(624, 4096)"
      ]
     },
     "execution_count": 4,
     "metadata": {},
     "output_type": "execute_result"
    }
   ],
   "source": [
    "#test set\n",
    "test_unrow = test_images.reshape(624, -1)\n",
    "test_unrow.shape"
   ]
  },
  {
   "cell_type": "markdown",
   "metadata": {},
   "source": [
    "#### Labels for images"
   ]
  },
  {
   "cell_type": "code",
   "execution_count": 6,
   "metadata": {},
   "outputs": [
    {
     "data": {
      "text/plain": [
       "array([1., 0., 1., 1., 0., 1., 1., 1., 0., 1.], dtype=float32)"
      ]
     },
     "execution_count": 6,
     "metadata": {},
     "output_type": "execute_result"
    }
   ],
   "source": [
    "train_labels[:10]"
   ]
  },
  {
   "cell_type": "code",
   "execution_count": 7,
   "metadata": {},
   "outputs": [
    {
     "data": {
      "text/plain": [
       "{'NORMAL': 0, 'PNEUMONIA': 1}"
      ]
     },
     "execution_count": 7,
     "metadata": {},
     "output_type": "execute_result"
    }
   ],
   "source": [
    "train_generator.class_indices"
   ]
  },
  {
   "cell_type": "code",
   "execution_count": 112,
   "metadata": {},
   "outputs": [
    {
     "data": {
      "text/plain": [
       "array([[20., 27., 31., ...,  0.,  0.,  0.],\n",
       "       [51., 50., 49., ...,  0.,  0.,  0.],\n",
       "       [19., 26., 23., ...,  0.,  0.,  0.],\n",
       "       ...,\n",
       "       [18., 16., 37., ..., 25., 36., 53.],\n",
       "       [31., 24., 16., ..., 11., 18., 17.],\n",
       "       [ 1., 30., 38., ..., 19., 20., 20.]], dtype=float32)"
      ]
     },
     "execution_count": 112,
     "metadata": {},
     "output_type": "execute_result"
    }
   ],
   "source": [
    "train_unrow"
   ]
  },
  {
   "cell_type": "code",
   "execution_count": 8,
   "metadata": {},
   "outputs": [
    {
     "data": {
      "text/plain": [
       "numpy.ndarray"
      ]
     },
     "execution_count": 8,
     "metadata": {},
     "output_type": "execute_result"
    }
   ],
   "source": [
    "#scaling the data\n",
    "train_img_final = train_unrow/255\n",
    "test_img_final = test_unrow/255\n",
    "\n",
    "type(train_img_final)"
   ]
  },
  {
   "cell_type": "code",
   "execution_count": 63,
   "metadata": {},
   "outputs": [
    {
     "data": {
      "text/plain": [
       "array([1., 1., 1., 0., 1., 1., 0., 1., 1., 1.], dtype=float32)"
      ]
     },
     "execution_count": 63,
     "metadata": {},
     "output_type": "execute_result"
    }
   ],
   "source": [
    "test_labels[:10]"
   ]
  },
  {
   "cell_type": "code",
   "execution_count": 9,
   "metadata": {},
   "outputs": [
    {
     "name": "stdout",
     "output_type": "stream",
     "text": [
      "(5232, 4096)\n",
      "(624, 4096)\n"
     ]
    }
   ],
   "source": [
    "print(train_img_final.shape)\n",
    "print(test_img_final.shape)"
   ]
  },
  {
   "cell_type": "code",
   "execution_count": 22,
   "metadata": {},
   "outputs": [],
   "source": [
    "\n",
    "\n",
    "early_stopping = [EarlyStopping(monitor='val_loss', patience=10), ModelCheckpoint(filepath='best_model.h5',\n",
    "                                                                                 monitor='val_loss', save_best_only=True)]"
   ]
  },
  {
   "cell_type": "code",
   "execution_count": 75,
   "metadata": {},
   "outputs": [],
   "source": [
    "#plot epochs vs loss for train and test set\n",
    "def visualize_results(results):\n",
    "    history = results.history\n",
    "    plt.figure()\n",
    "    plt.plot(history['val_loss'])\n",
    "    plt.plot(history['loss'])\n",
    "    plt.legend(['val_loss', 'loss'])\n",
    "    plt.title('Loss v Epochs')\n",
    "    plt.xlabel('Epochs')\n",
    "    plt.ylabel('Loss')\n",
    "    plt.show();\n",
    "    \n",
    "#     plt.figure()\n",
    "#     plt.plot(history['val_recall'])\n",
    "#     plt.plot(history['recall'])\n",
    "#     plt.legend(['val_recall', 'recall'])\n",
    "#     plt.title('Epochs v Recall')\n",
    "#     plt.xlabel('Epochs')\n",
    "#     plt.ylabel('Recall')\n",
    "#     plt.show();"
   ]
  },
  {
   "cell_type": "code",
   "execution_count": 74,
   "metadata": {},
   "outputs": [
    {
     "name": "stdout",
     "output_type": "stream",
     "text": [
      "dict_keys(['loss', 'recall_8', 'val_loss', 'val_recall_8'])\n"
     ]
    }
   ],
   "source": [
    "history = results3.history\n",
    "print(history.keys())"
   ]
  },
  {
   "cell_type": "code",
   "execution_count": 146,
   "metadata": {},
   "outputs": [],
   "source": [
    "#CNN model\n",
    "np.random.seed(42)\n",
    "model3 = models.Sequential()\n",
    "model3.add(layers.Conv2D(2, (3,3), activation='relu',\n",
    "                        input_shape=(64, 64, 1)))\n",
    "\n",
    "model3.add(layers.Flatten())\n",
    "# model3.add(layers.Dense(64, activation='selu'))\n",
    "# model3.add(layers.Dense(42, activation='selu'))\n",
    "model3.add(layers.Dense(2, activation='relu'))\n",
    "model3.add(layers.Dense(1, activation='sigmoid'))"
   ]
  },
  {
   "cell_type": "code",
   "execution_count": 147,
   "metadata": {},
   "outputs": [
    {
     "name": "stdout",
     "output_type": "stream",
     "text": [
      "Model: \"sequential_9\"\n",
      "_________________________________________________________________\n",
      "Layer (type)                 Output Shape              Param #   \n",
      "=================================================================\n",
      "conv2d_9 (Conv2D)            (None, 62, 62, 2)         20        \n",
      "_________________________________________________________________\n",
      "flatten_9 (Flatten)          (None, 7688)              0         \n",
      "_________________________________________________________________\n",
      "dense_26 (Dense)             (None, 2)                 15378     \n",
      "_________________________________________________________________\n",
      "dense_27 (Dense)             (None, 1)                 3         \n",
      "=================================================================\n",
      "Total params: 15,401\n",
      "Trainable params: 15,401\n",
      "Non-trainable params: 0\n",
      "_________________________________________________________________\n"
     ]
    }
   ],
   "source": [
    "model3.summary()"
   ]
  },
  {
   "cell_type": "code",
   "execution_count": 148,
   "metadata": {
    "scrolled": true
   },
   "outputs": [
    {
     "name": "stdout",
     "output_type": "stream",
     "text": [
      "Epoch 1/10\n",
      "41/41 [==============================] - 2s 45ms/step - loss: 2.0830 - recall_21: 0.7404 - val_loss: 1.4027 - val_recall_21: 0.7795\n",
      "Epoch 2/10\n",
      "41/41 [==============================] - 2s 40ms/step - loss: 1.1846 - recall_21: 0.8112 - val_loss: 1.1171 - val_recall_21: 0.8077\n",
      "Epoch 3/10\n",
      "41/41 [==============================] - 2s 40ms/step - loss: 0.9447 - recall_21: 0.8298 - val_loss: 1.3704 - val_recall_21: 0.9615\n",
      "Epoch 4/10\n",
      "41/41 [==============================] - 2s 39ms/step - loss: 0.7779 - recall_21: 0.8612 - val_loss: 0.8131 - val_recall_21: 0.8205\n",
      "Epoch 5/10\n",
      "41/41 [==============================] - 2s 40ms/step - loss: 0.6764 - recall_21: 0.8681 - val_loss: 0.8637 - val_recall_21: 0.9333\n",
      "Epoch 6/10\n",
      "41/41 [==============================] - 2s 39ms/step - loss: 0.5954 - recall_21: 0.8823 - val_loss: 0.7751 - val_recall_21: 0.9359\n",
      "Epoch 7/10\n",
      "41/41 [==============================] - 2s 42ms/step - loss: 0.5379 - recall_21: 0.8905 - val_loss: 0.7170 - val_recall_21: 0.9308\n",
      "Epoch 8/10\n",
      "41/41 [==============================] - 2s 41ms/step - loss: 0.5037 - recall_21: 0.8980 - val_loss: 0.7551 - val_recall_21: 0.9462\n",
      "Epoch 9/10\n",
      "41/41 [==============================] - 2s 42ms/step - loss: 0.4741 - recall_21: 0.9019 - val_loss: 0.7430 - val_recall_21: 0.9513\n",
      "Epoch 10/10\n",
      "41/41 [==============================] - 2s 38ms/step - loss: 0.4384 - recall_21: 0.9078 - val_loss: 0.6529 - val_recall_21: 0.9410\n"
     ]
    }
   ],
   "source": [
    "import keras\n",
    "\n",
    "optimizer = keras.optimizers.SGD(lr=0.00001)\n",
    "model3.compile(optimizer=optimizer,\n",
    "              loss='binary_crossentropy',\n",
    "              metrics=[tf.keras.metrics.Recall()])\n",
    "\n",
    "results3 = model3.fit(train_images,\n",
    "                    train_labels,\n",
    "                    callbacks=early_stopping,\n",
    "                    epochs=10,\n",
    "                    batch_size=128,\n",
    "                    validation_data=(test_images, test_labels))"
   ]
  },
  {
   "cell_type": "code",
   "execution_count": 149,
   "metadata": {},
   "outputs": [
    {
     "name": "stdout",
     "output_type": "stream",
     "text": [
      "164/164 [==============================] - 1s 6ms/step - loss: 0.4275 - recall_21: 0.8918\n"
     ]
    }
   ],
   "source": [
    "results_train3 = model3.evaluate(train_images, train_labels)"
   ]
  },
  {
   "cell_type": "code",
   "execution_count": 150,
   "metadata": {},
   "outputs": [
    {
     "name": "stdout",
     "output_type": "stream",
     "text": [
      "20/20 [==============================] - 0s 5ms/step - loss: 0.6529 - recall_21: 0.9410\n"
     ]
    }
   ],
   "source": [
    "results_test3 = model3.evaluate(test_images, test_labels)"
   ]
  },
  {
   "cell_type": "code",
   "execution_count": 151,
   "metadata": {
    "scrolled": false
   },
   "outputs": [
    {
     "data": {
      "image/png": "[encoded data removed]",
      "text/plain": [
       "<Figure size 432x288 with 1 Axes>"
      ]
     },
     "metadata": {
      "needs_background": "light"
     },
     "output_type": "display_data"
    }
   ],
   "source": [
    "visualize_results(results3)"
   ]
  },
  {
   "cell_type": "code",
   "execution_count": 152,
   "metadata": {},
   "outputs": [],
   "source": [
    "label_pred = (model3.predict(test_images) > 0.5).astype(int)\n",
    "\n",
    "cf_matrix = confusion_matrix(test_labels, label_pred)"
   ]
  },
  {
   "cell_type": "code",
   "execution_count": 44,
   "metadata": {},
   "outputs": [
    {
     "data": {
      "text/plain": [
       "numpy.ndarray"
      ]
     },
     "execution_count": 44,
     "metadata": {},
     "output_type": "execute_result"
    }
   ],
   "source": [
    "type(label_pred[0])"
   ]
  },
  {
   "cell_type": "code",
   "execution_count": 121,
   "metadata": {},
   "outputs": [],
   "source": [
    "F = model3.predict(test_images)"
   ]
  },
  {
   "cell_type": "code",
   "execution_count": 122,
   "metadata": {},
   "outputs": [
    {
     "data": {
      "text/plain": [
       "array([[7.81106114e-01],\n",
       "       [9.95914936e-01],\n",
       "       [9.98605013e-01],\n",
       "       [7.64084160e-02],\n",
       "       [9.99852180e-01],\n",
       "       [9.85922575e-01],\n",
       "       [6.64964259e-01],\n",
       "       [9.99990582e-01],\n",
       "       [9.94268835e-01],\n",
       "       [9.99781311e-01],\n",
       "       [9.95977223e-01],\n",
       "       [9.15678263e-01],\n",
       "       [6.22864962e-02],\n",
       "       [6.65930510e-01],\n",
       "       [1.55667156e-01],\n",
       "       [5.25220394e-01],\n",
       "       [9.98842001e-01],\n",
       "       [9.96062994e-01],\n",
       "       [9.99226213e-01],\n",
       "       [9.99875784e-01],\n",
       "       [3.14722955e-02],\n",
       "       [9.95431602e-01],\n",
       "       [9.99990940e-01],\n",
       "       [9.98722672e-01],\n",
       "       [9.65809882e-01],\n",
       "       [7.61114657e-01],\n",
       "       [9.98334289e-01],\n",
       "       [8.70939612e-01],\n",
       "       [2.24770337e-01],\n",
       "       [9.98162746e-01],\n",
       "       [2.26087272e-02],\n",
       "       [9.69037533e-01],\n",
       "       [3.61112773e-01],\n",
       "       [9.97234225e-01],\n",
       "       [6.63600981e-01],\n",
       "       [9.97486591e-01],\n",
       "       [8.68250608e-01],\n",
       "       [9.99993443e-01],\n",
       "       [9.99537885e-01],\n",
       "       [5.21340489e-01],\n",
       "       [6.56700432e-02],\n",
       "       [9.96591926e-01],\n",
       "       [9.99917746e-01],\n",
       "       [9.87293363e-01],\n",
       "       [9.96244669e-01],\n",
       "       [9.94144380e-01],\n",
       "       [9.97968912e-01],\n",
       "       [9.99849498e-01],\n",
       "       [9.49357688e-01],\n",
       "       [9.99909997e-01],\n",
       "       [2.81005204e-02],\n",
       "       [8.34796190e-01],\n",
       "       [5.45161545e-01],\n",
       "       [4.35086548e-01],\n",
       "       [9.99682784e-01],\n",
       "       [9.99921918e-01],\n",
       "       [7.45848536e-01],\n",
       "       [9.53346491e-01],\n",
       "       [9.81369257e-01],\n",
       "       [9.99861896e-01],\n",
       "       [7.77453184e-04],\n",
       "       [9.42663074e-01],\n",
       "       [1.09872222e-02],\n",
       "       [6.93826497e-01],\n",
       "       [2.31328696e-01],\n",
       "       [9.99504685e-01],\n",
       "       [9.99980807e-01],\n",
       "       [4.58716631e-01],\n",
       "       [9.99182701e-01],\n",
       "       [8.52583885e-01],\n",
       "       [7.51260161e-01],\n",
       "       [2.38448381e-04],\n",
       "       [1.00605488e-02],\n",
       "       [3.24542284e-01],\n",
       "       [8.02227736e-01],\n",
       "       [9.99737978e-01],\n",
       "       [1.75038964e-01],\n",
       "       [9.99838233e-01],\n",
       "       [8.17872286e-01],\n",
       "       [3.87699813e-01],\n",
       "       [4.00851727e-01],\n",
       "       [7.33298948e-05],\n",
       "       [9.76931214e-01],\n",
       "       [9.56104040e-01],\n",
       "       [9.95051026e-01],\n",
       "       [9.99970436e-01],\n",
       "       [3.19755971e-02],\n",
       "       [9.96568084e-01],\n",
       "       [2.18179166e-01],\n",
       "       [9.15146828e-01],\n",
       "       [9.94989038e-01],\n",
       "       [9.99700665e-01],\n",
       "       [4.80157048e-01],\n",
       "       [9.99915183e-01],\n",
       "       [3.70520473e-01],\n",
       "       [9.99964952e-01],\n",
       "       [9.99871373e-01],\n",
       "       [9.29231346e-02],\n",
       "       [9.99943256e-01],\n",
       "       [4.94466245e-01],\n",
       "       [9.99993205e-01],\n",
       "       [1.01831853e-02],\n",
       "       [7.35176921e-01],\n",
       "       [9.94527578e-01],\n",
       "       [9.96644974e-01],\n",
       "       [9.92673874e-01],\n",
       "       [9.94653225e-01],\n",
       "       [7.48833835e-01],\n",
       "       [9.95825529e-02],\n",
       "       [2.29450488e-05],\n",
       "       [9.92378712e-01],\n",
       "       [9.99545097e-01],\n",
       "       [9.77854669e-01],\n",
       "       [9.98236775e-01],\n",
       "       [9.01420712e-02],\n",
       "       [9.99971271e-01],\n",
       "       [9.99969006e-01],\n",
       "       [9.98604894e-01],\n",
       "       [9.89040673e-01],\n",
       "       [9.93830919e-01],\n",
       "       [9.99613166e-01],\n",
       "       [7.43257523e-01],\n",
       "       [9.98143792e-01],\n",
       "       [5.55719137e-02],\n",
       "       [2.74375856e-01],\n",
       "       [7.54744887e-01],\n",
       "       [1.20607197e-01],\n",
       "       [7.06127048e-01],\n",
       "       [9.71298397e-01],\n",
       "       [9.41116571e-01],\n",
       "       [5.01689613e-01],\n",
       "       [9.98138070e-01],\n",
       "       [8.67446363e-02],\n",
       "       [9.99999285e-01],\n",
       "       [5.67231297e-01],\n",
       "       [9.76101756e-01],\n",
       "       [9.99240875e-01],\n",
       "       [9.99665737e-01],\n",
       "       [9.99890685e-01],\n",
       "       [9.98848259e-01],\n",
       "       [3.15786242e-01],\n",
       "       [8.73731256e-01],\n",
       "       [9.99978662e-01],\n",
       "       [9.99632776e-01],\n",
       "       [5.25487900e-01],\n",
       "       [9.73282754e-01],\n",
       "       [5.31658828e-02],\n",
       "       [8.61130238e-01],\n",
       "       [3.20870101e-01],\n",
       "       [9.99995470e-01],\n",
       "       [9.99502897e-01],\n",
       "       [9.98776376e-01],\n",
       "       [9.98578310e-01],\n",
       "       [6.49794936e-01],\n",
       "       [9.99679923e-01],\n",
       "       [8.87136459e-01],\n",
       "       [9.53234911e-01],\n",
       "       [9.99216676e-01],\n",
       "       [7.62253881e-01],\n",
       "       [4.37292457e-03],\n",
       "       [2.57338345e-01],\n",
       "       [5.84692061e-02],\n",
       "       [9.82114971e-01],\n",
       "       [1.64914787e-01],\n",
       "       [7.48461783e-01],\n",
       "       [9.96760607e-01],\n",
       "       [9.95407939e-01],\n",
       "       [9.95833516e-01],\n",
       "       [9.98180270e-01],\n",
       "       [9.92544293e-01],\n",
       "       [9.98533726e-01],\n",
       "       [6.58534467e-02],\n",
       "       [9.82345164e-01],\n",
       "       [9.99281585e-01],\n",
       "       [9.95772481e-01],\n",
       "       [9.97176886e-01],\n",
       "       [7.08002806e-01],\n",
       "       [9.99992728e-01],\n",
       "       [9.39854085e-02],\n",
       "       [9.94450867e-01],\n",
       "       [9.99983668e-01],\n",
       "       [1.31756067e-04],\n",
       "       [9.98736858e-01],\n",
       "       [9.81845975e-01],\n",
       "       [9.94129539e-01],\n",
       "       [9.98909533e-01],\n",
       "       [9.94806707e-01],\n",
       "       [7.76795566e-01],\n",
       "       [8.03019211e-05],\n",
       "       [3.67890328e-01],\n",
       "       [9.97529387e-01],\n",
       "       [9.99947906e-01],\n",
       "       [9.80884910e-01],\n",
       "       [9.74269867e-01],\n",
       "       [9.41477060e-01],\n",
       "       [7.22584128e-03],\n",
       "       [9.99897957e-01],\n",
       "       [9.94527578e-01],\n",
       "       [9.99950767e-01],\n",
       "       [9.96645093e-01],\n",
       "       [9.99978900e-01],\n",
       "       [9.89185691e-01],\n",
       "       [9.99800444e-01],\n",
       "       [9.99564648e-01],\n",
       "       [9.99999642e-01],\n",
       "       [9.12156701e-01],\n",
       "       [9.94469285e-01],\n",
       "       [9.99871016e-01],\n",
       "       [9.99993205e-01],\n",
       "       [9.86883759e-01],\n",
       "       [6.05987549e-01],\n",
       "       [9.99668419e-01],\n",
       "       [9.99706030e-01],\n",
       "       [9.72407818e-01],\n",
       "       [9.68435407e-03],\n",
       "       [1.21045381e-01],\n",
       "       [7.19672084e-01],\n",
       "       [9.99978006e-01],\n",
       "       [9.99212027e-01],\n",
       "       [9.95649338e-01],\n",
       "       [1.49574250e-01],\n",
       "       [9.99942839e-01],\n",
       "       [5.49522936e-02],\n",
       "       [9.81873631e-01],\n",
       "       [9.90384817e-01],\n",
       "       [6.13653719e-01],\n",
       "       [9.98105884e-01],\n",
       "       [6.91119552e-01],\n",
       "       [9.99997139e-01],\n",
       "       [9.99775887e-01],\n",
       "       [9.64981794e-01],\n",
       "       [9.74872708e-01],\n",
       "       [9.95167434e-01],\n",
       "       [8.74072611e-02],\n",
       "       [9.66987312e-01],\n",
       "       [9.57416117e-01],\n",
       "       [9.86650586e-01],\n",
       "       [9.26288486e-01],\n",
       "       [9.99919415e-01],\n",
       "       [8.02113116e-01],\n",
       "       [9.94915724e-01],\n",
       "       [9.32793677e-01],\n",
       "       [9.97001767e-01],\n",
       "       [9.76235509e-01],\n",
       "       [9.99999881e-01],\n",
       "       [5.76460361e-03],\n",
       "       [9.99960303e-01],\n",
       "       [9.98252332e-01],\n",
       "       [9.99353528e-01],\n",
       "       [9.98538613e-01],\n",
       "       [4.80992377e-01],\n",
       "       [5.69516718e-02],\n",
       "       [9.07527864e-01],\n",
       "       [9.98296976e-01],\n",
       "       [9.99848008e-01],\n",
       "       [6.22289598e-01],\n",
       "       [9.88170028e-01],\n",
       "       [9.72018361e-01],\n",
       "       [9.99892831e-01],\n",
       "       [3.29859257e-02],\n",
       "       [9.99260902e-01],\n",
       "       [5.58386147e-02],\n",
       "       [9.22580123e-01],\n",
       "       [9.99621034e-01],\n",
       "       [9.99982834e-01],\n",
       "       [4.57571715e-01],\n",
       "       [8.80203366e-01],\n",
       "       [3.23823094e-03],\n",
       "       [9.61510181e-01],\n",
       "       [9.91702914e-01],\n",
       "       [2.45372742e-01],\n",
       "       [9.99507904e-01],\n",
       "       [9.98737633e-01],\n",
       "       [9.77734447e-01],\n",
       "       [2.77209282e-03],\n",
       "       [9.99999285e-01],\n",
       "       [9.31674838e-01],\n",
       "       [9.99689758e-01],\n",
       "       [9.99262929e-01],\n",
       "       [9.50986624e-01],\n",
       "       [9.99948561e-01],\n",
       "       [8.22283745e-01],\n",
       "       [6.16480410e-01],\n",
       "       [9.51665998e-01],\n",
       "       [9.99418497e-01],\n",
       "       [9.99934137e-01],\n",
       "       [9.45786059e-01],\n",
       "       [9.99918103e-01],\n",
       "       [9.92834926e-01],\n",
       "       [9.99293089e-01],\n",
       "       [6.95893109e-01],\n",
       "       [9.92974579e-01],\n",
       "       [8.82648230e-01],\n",
       "       [9.99812603e-01],\n",
       "       [9.99907136e-01],\n",
       "       [9.96662259e-01],\n",
       "       [9.97125447e-01],\n",
       "       [7.52404928e-02],\n",
       "       [9.68646288e-01],\n",
       "       [9.76844847e-01],\n",
       "       [9.90199983e-01],\n",
       "       [9.98174667e-01],\n",
       "       [9.99974489e-01],\n",
       "       [9.99709368e-01],\n",
       "       [8.77426505e-01],\n",
       "       [9.04813886e-01],\n",
       "       [9.93516982e-01],\n",
       "       [1.25414312e-01],\n",
       "       [9.97354031e-01],\n",
       "       [9.91435111e-01],\n",
       "       [4.66248155e-01],\n",
       "       [9.99299765e-01],\n",
       "       [9.98691320e-01],\n",
       "       [9.99959350e-01],\n",
       "       [3.34274828e-01],\n",
       "       [4.34360504e-01],\n",
       "       [6.37199759e-01],\n",
       "       [9.73922908e-01],\n",
       "       [9.94483113e-01],\n",
       "       [3.59558880e-01],\n",
       "       [9.99859691e-01],\n",
       "       [9.99946713e-01],\n",
       "       [6.65568590e-01],\n",
       "       [1.39234424e-01],\n",
       "       [9.58212852e-01],\n",
       "       [9.02107000e-01],\n",
       "       [9.82796311e-01],\n",
       "       [9.99989152e-01],\n",
       "       [9.97648835e-01],\n",
       "       [9.93493795e-01],\n",
       "       [4.38930064e-01],\n",
       "       [9.75263715e-01],\n",
       "       [1.12896055e-01],\n",
       "       [1.92303240e-01],\n",
       "       [6.12259682e-05],\n",
       "       [9.99402642e-01],\n",
       "       [9.98297215e-01],\n",
       "       [9.97920513e-01],\n",
       "       [9.98714566e-01],\n",
       "       [9.93939579e-01],\n",
       "       [9.99989152e-01],\n",
       "       [9.71601486e-01],\n",
       "       [9.99470115e-01],\n",
       "       [9.99928474e-01],\n",
       "       [3.64958107e-01],\n",
       "       [9.98176992e-01],\n",
       "       [9.95047092e-01],\n",
       "       [3.68618965e-02],\n",
       "       [6.24221683e-01],\n",
       "       [7.83032775e-01],\n",
       "       [9.99387205e-01],\n",
       "       [7.92887211e-01],\n",
       "       [9.80633259e-01],\n",
       "       [8.37584496e-01],\n",
       "       [9.99994159e-01],\n",
       "       [9.95664716e-01],\n",
       "       [9.97605681e-01],\n",
       "       [9.97840524e-01],\n",
       "       [9.95716214e-01],\n",
       "       [9.97515798e-01],\n",
       "       [9.86843348e-01],\n",
       "       [9.98202980e-01],\n",
       "       [9.72249329e-01],\n",
       "       [1.11058086e-01],\n",
       "       [3.88113260e-01],\n",
       "       [9.89191651e-01],\n",
       "       [9.99877036e-01],\n",
       "       [9.94919837e-01],\n",
       "       [9.99486864e-01],\n",
       "       [9.88071620e-01],\n",
       "       [9.99888599e-01],\n",
       "       [9.38276529e-01],\n",
       "       [9.28683579e-01],\n",
       "       [9.99966741e-01],\n",
       "       [9.99977529e-01],\n",
       "       [9.90180016e-01],\n",
       "       [2.56715715e-02],\n",
       "       [8.72927904e-02],\n",
       "       [9.96716559e-01],\n",
       "       [9.73809123e-01],\n",
       "       [9.98003900e-01],\n",
       "       [9.57867026e-01],\n",
       "       [6.65949166e-01],\n",
       "       [9.71868992e-01],\n",
       "       [6.79154336e-01],\n",
       "       [9.94916856e-01],\n",
       "       [9.98536348e-01],\n",
       "       [9.99773264e-01],\n",
       "       [1.58750087e-01],\n",
       "       [9.96544421e-01],\n",
       "       [9.97371912e-01],\n",
       "       [9.99618828e-01],\n",
       "       [9.98180270e-01],\n",
       "       [9.99802828e-01],\n",
       "       [9.98739004e-01],\n",
       "       [9.97372627e-01],\n",
       "       [9.86544073e-01],\n",
       "       [9.98365104e-01],\n",
       "       [8.68502259e-03],\n",
       "       [2.33433366e-01],\n",
       "       [7.71397650e-02],\n",
       "       [4.54923540e-01],\n",
       "       [9.96253312e-01],\n",
       "       [9.84123468e-01],\n",
       "       [9.96463656e-01],\n",
       "       [9.29802775e-01],\n",
       "       [8.52642298e-01],\n",
       "       [9.77747202e-01],\n",
       "       [9.97117937e-01],\n",
       "       [9.99514580e-01],\n",
       "       [9.93492305e-01],\n",
       "       [2.50406027e-01],\n",
       "       [9.92532969e-01],\n",
       "       [9.98413324e-01],\n",
       "       [6.29247546e-01],\n",
       "       [9.77097750e-01],\n",
       "       [7.20921755e-02],\n",
       "       [9.82794821e-01],\n",
       "       [9.99882221e-01],\n",
       "       [9.71614718e-01],\n",
       "       [6.45039082e-01],\n",
       "       [3.27092230e-01],\n",
       "       [1.33192539e-03],\n",
       "       [9.94360387e-01],\n",
       "       [9.85030532e-01],\n",
       "       [9.98094976e-01],\n",
       "       [9.99873281e-01],\n",
       "       [9.99451637e-01],\n",
       "       [2.49261767e-01],\n",
       "       [9.95673895e-01],\n",
       "       [4.33434278e-01],\n",
       "       [9.90598738e-01],\n",
       "       [9.77083802e-01],\n",
       "       [9.82244611e-01],\n",
       "       [9.99625444e-01],\n",
       "       [9.29648876e-01],\n",
       "       [9.74498332e-01],\n",
       "       [2.15697378e-01],\n",
       "       [9.99829888e-01],\n",
       "       [9.99998987e-01],\n",
       "       [9.89736617e-01],\n",
       "       [9.99165356e-01],\n",
       "       [9.99998510e-01],\n",
       "       [1.83085978e-01],\n",
       "       [9.82376754e-01],\n",
       "       [9.98260736e-01],\n",
       "       [3.86524141e-01],\n",
       "       [9.92660046e-01],\n",
       "       [2.43714660e-01],\n",
       "       [9.45065975e-01],\n",
       "       [9.96884227e-01],\n",
       "       [9.99790192e-01],\n",
       "       [9.94638562e-01],\n",
       "       [8.53248239e-01],\n",
       "       [7.03998566e-01],\n",
       "       [9.94842649e-01],\n",
       "       [9.90628719e-01],\n",
       "       [9.94573772e-01],\n",
       "       [9.89426792e-01],\n",
       "       [9.70288694e-01],\n",
       "       [1.87160969e-02],\n",
       "       [9.99994576e-01],\n",
       "       [9.99944091e-01],\n",
       "       [9.99358058e-01],\n",
       "       [9.99865353e-01],\n",
       "       [5.16021669e-01],\n",
       "       [9.99985695e-01],\n",
       "       [9.72836196e-01],\n",
       "       [9.99718547e-01],\n",
       "       [5.73988795e-01],\n",
       "       [9.67109203e-02],\n",
       "       [9.36459303e-01],\n",
       "       [2.56300628e-01],\n",
       "       [1.24458671e-02],\n",
       "       [9.99607563e-01],\n",
       "       [9.50709224e-01],\n",
       "       [9.99437928e-01],\n",
       "       [9.29702997e-01],\n",
       "       [9.99966383e-01],\n",
       "       [9.99402642e-01],\n",
       "       [9.86955762e-01],\n",
       "       [8.56847644e-01],\n",
       "       [9.99825060e-01],\n",
       "       [9.86018658e-01],\n",
       "       [9.99975860e-01],\n",
       "       [9.99981642e-01],\n",
       "       [8.90946031e-01],\n",
       "       [8.72211099e-01],\n",
       "       [3.16324830e-02],\n",
       "       [9.98988152e-01],\n",
       "       [9.99731779e-01],\n",
       "       [9.63287592e-01],\n",
       "       [9.95453954e-01],\n",
       "       [9.99940217e-01],\n",
       "       [8.68295550e-01],\n",
       "       [9.97473240e-01],\n",
       "       [5.30097723e-01],\n",
       "       [9.99835968e-01],\n",
       "       [3.29121947e-03],\n",
       "       [5.28739393e-01],\n",
       "       [9.80460286e-01],\n",
       "       [9.99770880e-01],\n",
       "       [8.70877504e-01],\n",
       "       [9.98020351e-01],\n",
       "       [9.95566845e-01],\n",
       "       [6.66913569e-01],\n",
       "       [9.99997854e-01],\n",
       "       [9.99862134e-01],\n",
       "       [9.98889446e-01],\n",
       "       [2.37339824e-01],\n",
       "       [9.99818981e-01],\n",
       "       [9.99814034e-01],\n",
       "       [9.99995470e-01],\n",
       "       [9.99629259e-01],\n",
       "       [9.87399995e-01],\n",
       "       [9.93882895e-01],\n",
       "       [9.65818763e-01],\n",
       "       [1.75441712e-01],\n",
       "       [9.99953628e-01],\n",
       "       [9.99870658e-01],\n",
       "       [9.93316352e-01],\n",
       "       [6.51719093e-01],\n",
       "       [9.96905327e-01],\n",
       "       [9.96227503e-01],\n",
       "       [2.05324352e-01],\n",
       "       [9.99923825e-01],\n",
       "       [9.99994874e-01],\n",
       "       [9.99865353e-01],\n",
       "       [4.62603152e-01],\n",
       "       [9.99772251e-01],\n",
       "       [9.96085346e-01],\n",
       "       [9.39032316e-01],\n",
       "       [1.57912523e-01],\n",
       "       [9.96312499e-01],\n",
       "       [8.40937912e-01],\n",
       "       [1.65845543e-01],\n",
       "       [4.19231772e-01],\n",
       "       [9.58859205e-01],\n",
       "       [9.93477166e-01],\n",
       "       [9.99648690e-01],\n",
       "       [9.95993376e-01],\n",
       "       [9.43162858e-01],\n",
       "       [5.70959866e-01],\n",
       "       [3.44488859e-01],\n",
       "       [9.97269988e-01],\n",
       "       [9.08152699e-01],\n",
       "       [9.99932170e-01],\n",
       "       [7.60456622e-01],\n",
       "       [9.99042988e-01],\n",
       "       [9.99938846e-01],\n",
       "       [9.99756813e-01],\n",
       "       [9.99534547e-01],\n",
       "       [9.99999285e-01],\n",
       "       [9.99799967e-01],\n",
       "       [3.78757924e-01],\n",
       "       [9.99689102e-01],\n",
       "       [3.74168158e-03],\n",
       "       [6.29810393e-02],\n",
       "       [9.23155546e-01],\n",
       "       [9.98879015e-01],\n",
       "       [9.99213576e-01],\n",
       "       [3.01232934e-03],\n",
       "       [7.03562737e-01],\n",
       "       [9.98774290e-01],\n",
       "       [6.83740377e-01],\n",
       "       [9.95814800e-01],\n",
       "       [9.12772715e-02],\n",
       "       [3.38462532e-01],\n",
       "       [9.95118380e-01],\n",
       "       [9.78286028e-01],\n",
       "       [8.18058729e-01],\n",
       "       [3.71947378e-01],\n",
       "       [9.98482704e-01],\n",
       "       [9.89027739e-01],\n",
       "       [9.99198079e-01],\n",
       "       [9.99851584e-01],\n",
       "       [9.01793897e-01],\n",
       "       [7.89020896e-01],\n",
       "       [9.91352439e-01],\n",
       "       [9.99758124e-01],\n",
       "       [9.99552846e-01],\n",
       "       [9.97615218e-01],\n",
       "       [9.99893606e-01],\n",
       "       [3.36015224e-03],\n",
       "       [9.98649240e-01],\n",
       "       [9.86030579e-01],\n",
       "       [9.87312198e-01],\n",
       "       [8.75675976e-01],\n",
       "       [9.99754310e-01],\n",
       "       [8.96563649e-01],\n",
       "       [7.70093858e-01],\n",
       "       [1.00000000e+00],\n",
       "       [9.98658180e-01],\n",
       "       [9.99252617e-01],\n",
       "       [9.34844613e-01],\n",
       "       [3.51062894e-01],\n",
       "       [1.00844353e-01],\n",
       "       [1.50682032e-02],\n",
       "       [9.98568058e-01],\n",
       "       [8.77375543e-01],\n",
       "       [9.99878764e-01],\n",
       "       [9.88664269e-01],\n",
       "       [9.90094244e-01],\n",
       "       [9.99615252e-01],\n",
       "       [6.12568378e-01],\n",
       "       [9.92383063e-01],\n",
       "       [9.96994972e-01],\n",
       "       [9.99051392e-01],\n",
       "       [8.07912588e-01],\n",
       "       [9.98305440e-01],\n",
       "       [9.98975575e-01],\n",
       "       [9.99361753e-01],\n",
       "       [9.19746399e-01],\n",
       "       [5.27948141e-04],\n",
       "       [9.79549170e-01],\n",
       "       [8.19608390e-01],\n",
       "       [9.92791295e-01],\n",
       "       [9.49113369e-01],\n",
       "       [9.78920937e-01],\n",
       "       [9.99212027e-01],\n",
       "       [9.99978483e-01],\n",
       "       [9.97780204e-01],\n",
       "       [9.59905386e-01],\n",
       "       [9.79554892e-01]], dtype=float32)"
      ]
     },
     "execution_count": 122,
     "metadata": {},
     "output_type": "execute_result"
    }
   ],
   "source": [
    "F"
   ]
  },
  {
   "cell_type": "code",
   "execution_count": 153,
   "metadata": {},
   "outputs": [
    {
     "data": {
      "image/png": "[encoded data removed]",
      "text/plain": [
       "<Figure size 432x288 with 2 Axes>"
      ]
     },
     "metadata": {
      "needs_background": "light"
     },
     "output_type": "display_data"
    }
   ],
   "source": [
    "import seaborn as sns\n",
    "\n",
    "sns.heatmap(cf_matrix, annot=True);"
   ]
  },
  {
   "cell_type": "code",
   "execution_count": null,
   "metadata": {},
   "outputs": [],
   "source": []
  },
  {
   "cell_type": "code",
   "execution_count": null,
   "metadata": {},
   "outputs": [],
   "source": []
  },
  {
   "cell_type": "code",
   "execution_count": null,
   "metadata": {},
   "outputs": [],
   "source": []
  }
 ],
 "metadata": {
  "kernelspec": {
   "display_name": "Python 3",
   "language": "python",
   "name": "python3"
  },
  "language_info": {
   "codemirror_mode": {
    "name": "ipython",
    "version": 3
   },
   "file_extension": ".py",
   "mimetype": "text/x-python",
   "name": "python",
   "nbconvert_exporter": "python",
   "pygments_lexer": "ipython3",
   "version": "3.8.5"
  }
 },
 "nbformat": 4,
 "nbformat_minor": 4
}
