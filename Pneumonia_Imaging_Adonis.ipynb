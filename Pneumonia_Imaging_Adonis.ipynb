{
 "cells": [
  {
   "cell_type": "code",
   "execution_count": 1,
   "metadata": {},
   "outputs": [],
   "source": [
    "#!pip install pillow"
   ]
  },
  {
   "cell_type": "markdown",
   "metadata": {},
   "source": [
    "## Load Packages"
   ]
  },
  {
   "cell_type": "code",
   "execution_count": 2,
   "metadata": {},
   "outputs": [],
   "source": [
    "import pandas as pd\n",
    "import numpy as np\n",
    "import matplotlib.pyplot as plt\n",
    "import os\n",
    "import tensorflow as tf\n",
    "\n",
    "from sklearn.model_selection import train_test_split\n",
    "\n",
    "from keras.preprocessing.image import ImageDataGenerator, array_to_img, img_to_array, load_img\n",
    "from keras import models\n",
    "from keras import layers\n",
    "from keras.callbacks import EarlyStopping, ModelCheckpoint"
   ]
  },
  {
   "cell_type": "markdown",
   "metadata": {},
   "source": [
    "## Load data"
   ]
  },
  {
   "cell_type": "code",
   "execution_count": 39,
   "metadata": {},
   "outputs": [
    {
     "name": "stdout",
     "output_type": "stream",
     "text": [
      "Found 624 images belonging to 2 classes.\n",
      "Found 5232 images belonging to 2 classes.\n"
     ]
    }
   ],
   "source": [
    "train_data_dir = 'ZhangLabData/CellData/chest_xray/train'\n",
    "test_data_dir = 'ZhangLabData/CellData/chest_xray/test'\n",
    "\n",
    "#Get all the data in the directory data/validation (132 images), and reshape them\n",
    "test_generator = ImageDataGenerator().flow_from_directory(\n",
    "       test_data_dir, \n",
    "       target_size=(64, 64), batch_size=132, color_mode='grayscale', class_mode='binary')\n",
    "\n",
    "#Get all the data in the directory data/train (790 images), and reshape them\n",
    "train_generator = ImageDataGenerator().flow_from_directory(\n",
    "       train_data_dir, \n",
    "       target_size=(64, 64), batch_size=790, color_mode='grayscale', class_mode='binary')\n",
    "\n",
    "#Create the datasets\n",
    "train_images, train_labels = next(train_generator)\n",
    "test_images, test_labels = next(test_generator)"
   ]
  },
  {
   "cell_type": "code",
   "execution_count": 40,
   "metadata": {
    "scrolled": true
   },
   "outputs": [
    {
     "name": "stdout",
     "output_type": "stream",
     "text": [
      "[0. 0. 1. 1. 1. 0. 1. 0. 1. 0.]\n"
     ]
    }
   ],
   "source": [
    "print(train_labels[:10])"
   ]
  },
  {
   "cell_type": "markdown",
   "metadata": {},
   "source": [
    "## PREPROCESSING\n",
    "#### Create validation set from training set"
   ]
  },
  {
   "cell_type": "code",
   "execution_count": 41,
   "metadata": {},
   "outputs": [],
   "source": [
    "X = train_images\n",
    "y = train_labels\n",
    "\n",
    "X_train, X_val, y_train, y_val = train_test_split(X, y, test_size=0.2, random_state=42)\n",
    "\n"
   ]
  },
  {
   "cell_type": "code",
   "execution_count": 43,
   "metadata": {},
   "outputs": [
    {
     "data": {
      "text/plain": [
       "(790, 64, 64, 1)"
      ]
     },
     "execution_count": 43,
     "metadata": {},
     "output_type": "execute_result"
    }
   ],
   "source": [
    "train_images.shape"
   ]
  },
  {
   "cell_type": "markdown",
   "metadata": {},
   "source": [
    "#### Preview images (Normal)"
   ]
  },
  {
   "cell_type": "code",
   "execution_count": 42,
   "metadata": {},
   "outputs": [
    {
     "name": "stdout",
     "output_type": "stream",
     "text": [
      "X_train shape:  (632, 64, 64, 1)\n",
      "y_train shape:  (632,)\n",
      "X_val shape:  (158, 64, 64, 1)\n",
      "y_val shape:  (158,)\n"
     ]
    }
   ],
   "source": [
    "print('X_train shape: ',np.shape(X_train))\n",
    "print('y_train shape: ',np.shape(y_train))\n",
    "print('X_val shape: ',np.shape(X_val))\n",
    "print('y_val shape: ',np.shape(y_val))"
   ]
  },
  {
   "cell_type": "code",
   "execution_count": 46,
   "metadata": {},
   "outputs": [
    {
     "data": {
      "text/plain": [
       "(132, 64, 64, 1)"
      ]
     },
     "execution_count": 46,
     "metadata": {},
     "output_type": "execute_result"
    }
   ],
   "source": [
    "test_images.shape"
   ]
  },
  {
   "cell_type": "markdown",
   "metadata": {},
   "source": [
    "#### Reshape  images"
   ]
  },
  {
   "cell_type": "code",
   "execution_count": 47,
   "metadata": {},
   "outputs": [
    {
     "data": {
      "text/plain": [
       "(632, 4096)"
      ]
     },
     "execution_count": 47,
     "metadata": {},
     "output_type": "execute_result"
    }
   ],
   "source": [
    "#train set\n",
    "X_train_unrow = X_train.reshape(632, -1)\n",
    "X_train_unrow.shape"
   ]
  },
  {
   "cell_type": "code",
   "execution_count": 48,
   "metadata": {},
   "outputs": [
    {
     "data": {
      "text/plain": [
       "(158, 4096)"
      ]
     },
     "execution_count": 48,
     "metadata": {},
     "output_type": "execute_result"
    }
   ],
   "source": [
    "#test set\n",
    "X_val_unrow = X_val.reshape(158, -1)\n",
    "X_val_unrow.shape"
   ]
  },
  {
   "cell_type": "markdown",
   "metadata": {},
   "source": [
    "#### Labels for images"
   ]
  },
  {
   "cell_type": "code",
   "execution_count": 50,
   "metadata": {},
   "outputs": [
    {
     "data": {
      "text/plain": [
       "array([1., 1., 0., 1., 0., 1., 1., 1., 1., 0.], dtype=float32)"
      ]
     },
     "execution_count": 50,
     "metadata": {},
     "output_type": "execute_result"
    }
   ],
   "source": [
    "y_train[:10]"
   ]
  },
  {
   "cell_type": "code",
   "execution_count": 51,
   "metadata": {},
   "outputs": [
    {
     "data": {
      "text/plain": [
       "{'NORMAL': 0, 'PNEUMONIA': 1}"
      ]
     },
     "execution_count": 51,
     "metadata": {},
     "output_type": "execute_result"
    }
   ],
   "source": [
    "train_generator.class_indices"
   ]
  },
  {
   "cell_type": "markdown",
   "metadata": {},
   "source": [
    "#### Reshape Labels "
   ]
  },
  {
   "cell_type": "code",
   "execution_count": 11,
   "metadata": {},
   "outputs": [],
   "source": [
    "# #training set\n",
    "# y_train_labels_final = np.reshape(y_train[:,0], (632,1))"
   ]
  },
  {
   "cell_type": "code",
   "execution_count": 12,
   "metadata": {},
   "outputs": [
    {
     "data": {
      "text/plain": [
       "(632, 1)"
      ]
     },
     "execution_count": 12,
     "metadata": {},
     "output_type": "execute_result"
    }
   ],
   "source": [
    "# np.shape(y_train_labels_final)"
   ]
  },
  {
   "cell_type": "code",
   "execution_count": 13,
   "metadata": {},
   "outputs": [],
   "source": [
    "#test set\n",
    "# y_val_labels_final = np.reshape(y_val[:,0], (158,1))"
   ]
  },
  {
   "cell_type": "code",
   "execution_count": 14,
   "metadata": {},
   "outputs": [
    {
     "data": {
      "text/plain": [
       "(158, 1)"
      ]
     },
     "execution_count": 14,
     "metadata": {},
     "output_type": "execute_result"
    }
   ],
   "source": [
    "# np.shape(y_val_labels_final) "
   ]
  },
  {
   "cell_type": "code",
   "execution_count": 52,
   "metadata": {},
   "outputs": [
    {
     "data": {
      "text/plain": [
       "numpy.ndarray"
      ]
     },
     "execution_count": 52,
     "metadata": {},
     "output_type": "execute_result"
    }
   ],
   "source": [
    "#scaling the data\n",
    "X_train_img_final = X_train_unrow/255\n",
    "X_val_img_final = X_val_unrow/255\n",
    "\n",
    "type(X_val_img_final)"
   ]
  },
  {
   "cell_type": "code",
   "execution_count": 53,
   "metadata": {},
   "outputs": [
    {
     "name": "stdout",
     "output_type": "stream",
     "text": [
      "(632, 4096)\n",
      "(158, 4096)\n"
     ]
    }
   ],
   "source": [
    "print(X_train_img_final.shape)\n",
    "print(X_val_img_final.shape)"
   ]
  },
  {
   "cell_type": "markdown",
   "metadata": {},
   "source": [
    "## Baseline model creation\n",
    "#### We will use recall as our metric, as we're more concerned about false negatives than false positives."
   ]
  },
  {
   "cell_type": "code",
   "execution_count": null,
   "metadata": {},
   "outputs": [],
   "source": [
    "#dummy classifer/regressor for baseline"
   ]
  },
  {
   "cell_type": "code",
   "execution_count": null,
   "metadata": {},
   "outputs": [],
   "source": []
  },
  {
   "cell_type": "code",
   "execution_count": null,
   "metadata": {},
   "outputs": [],
   "source": []
  },
  {
   "cell_type": "code",
   "execution_count": 54,
   "metadata": {},
   "outputs": [],
   "source": [
    "np.random.seed(42)\n",
    "model = models.Sequential()\n",
    "model.add(layers.Dense(63, activation='tanh', input_shape=(4096,)))\n",
    "model.add(layers.Dense(42, activation='tanh'))\n",
    "model.add(layers.Dense(21, activation='tanh'))\n",
    "model.add(layers.Dense(1, activation='sigmoid')) #output layer, binary classification"
   ]
  },
  {
   "cell_type": "code",
   "execution_count": 56,
   "metadata": {},
   "outputs": [
    {
     "name": "stdout",
     "output_type": "stream",
     "text": [
      "Epoch 1/50\n",
      "20/20 [==============================] - 0s 13ms/step - loss: 0.6049 - recall_6: 0.9461 - val_loss: 0.5696 - val_recall_6: 1.0000\n",
      "Epoch 2/50\n",
      "20/20 [==============================] - 0s 3ms/step - loss: 0.5525 - recall_6: 1.0000 - val_loss: 0.5252 - val_recall_6: 1.0000\n",
      "Epoch 3/50\n",
      "20/20 [==============================] - 0s 3ms/step - loss: 0.5144 - recall_6: 0.9914 - val_loss: 0.7334 - val_recall_6: 0.0957\n",
      "Epoch 4/50\n",
      "20/20 [==============================] - 0s 2ms/step - loss: 0.4676 - recall_6: 0.9461 - val_loss: 0.4137 - val_recall_6: 1.0000\n",
      "Epoch 5/50\n",
      "20/20 [==============================] - 0s 2ms/step - loss: 0.4393 - recall_6: 0.9310 - val_loss: 0.4892 - val_recall_6: 1.0000\n",
      "Epoch 6/50\n",
      "20/20 [==============================] - 0s 3ms/step - loss: 0.4295 - recall_6: 0.9418 - val_loss: 0.5706 - val_recall_6: 1.0000\n",
      "Epoch 7/50\n",
      "20/20 [==============================] - 0s 2ms/step - loss: 0.4072 - recall_6: 0.9418 - val_loss: 0.4431 - val_recall_6: 1.0000\n",
      "Epoch 8/50\n",
      "20/20 [==============================] - 0s 2ms/step - loss: 0.3313 - recall_6: 0.9569 - val_loss: 0.2704 - val_recall_6: 0.9913\n",
      "Epoch 9/50\n",
      "20/20 [==============================] - 0s 3ms/step - loss: 0.4133 - recall_6: 0.9159 - val_loss: 0.2885 - val_recall_6: 0.9391\n",
      "Epoch 10/50\n",
      "20/20 [==============================] - 0s 2ms/step - loss: 0.3071 - recall_6: 0.9461 - val_loss: 0.2365 - val_recall_6: 0.9739\n",
      "Epoch 11/50\n",
      "20/20 [==============================] - 0s 2ms/step - loss: 0.2915 - recall_6: 0.9547 - val_loss: 0.2281 - val_recall_6: 0.9826\n",
      "Epoch 12/50\n",
      "20/20 [==============================] - 0s 2ms/step - loss: 0.2607 - recall_6: 0.9483 - val_loss: 0.2768 - val_recall_6: 0.9913\n",
      "Epoch 13/50\n",
      "20/20 [==============================] - 0s 2ms/step - loss: 0.3270 - recall_6: 0.9418 - val_loss: 0.3438 - val_recall_6: 1.0000\n",
      "Epoch 14/50\n",
      "20/20 [==============================] - 0s 3ms/step - loss: 0.2867 - recall_6: 0.9289 - val_loss: 0.1978 - val_recall_6: 0.9739\n",
      "Epoch 15/50\n",
      "20/20 [==============================] - 0s 2ms/step - loss: 0.2658 - recall_6: 0.9418 - val_loss: 0.2318 - val_recall_6: 0.9913\n",
      "Epoch 16/50\n",
      "20/20 [==============================] - 0s 2ms/step - loss: 0.2702 - recall_6: 0.9375 - val_loss: 0.1873 - val_recall_6: 0.9739\n",
      "Epoch 17/50\n",
      "20/20 [==============================] - 0s 2ms/step - loss: 0.2371 - recall_6: 0.9440 - val_loss: 0.4678 - val_recall_6: 1.0000\n",
      "Epoch 18/50\n",
      "20/20 [==============================] - 0s 3ms/step - loss: 0.2501 - recall_6: 0.9375 - val_loss: 0.1805 - val_recall_6: 0.9565\n",
      "Epoch 19/50\n",
      "20/20 [==============================] - 0s 2ms/step - loss: 0.2388 - recall_6: 0.9375 - val_loss: 0.2208 - val_recall_6: 0.9913\n",
      "Epoch 20/50\n",
      "20/20 [==============================] - 0s 3ms/step - loss: 0.2363 - recall_6: 0.9461 - val_loss: 0.1863 - val_recall_6: 0.9826\n",
      "Epoch 21/50\n",
      "20/20 [==============================] - 0s 2ms/step - loss: 0.2127 - recall_6: 0.9504 - val_loss: 0.1756 - val_recall_6: 0.9739\n",
      "Epoch 22/50\n",
      "20/20 [==============================] - 0s 2ms/step - loss: 0.2326 - recall_6: 0.9332 - val_loss: 0.1658 - val_recall_6: 0.9652\n",
      "Epoch 23/50\n",
      "20/20 [==============================] - 0s 3ms/step - loss: 0.2152 - recall_6: 0.9569 - val_loss: 0.2120 - val_recall_6: 1.0000\n",
      "Epoch 24/50\n",
      "20/20 [==============================] - 0s 3ms/step - loss: 0.2230 - recall_6: 0.9504 - val_loss: 0.1675 - val_recall_6: 0.9217\n",
      "Epoch 25/50\n",
      "20/20 [==============================] - 0s 3ms/step - loss: 0.2024 - recall_6: 0.9418 - val_loss: 0.1490 - val_recall_6: 0.9652\n",
      "Epoch 26/50\n",
      "20/20 [==============================] - 0s 4ms/step - loss: 0.1944 - recall_6: 0.9504 - val_loss: 0.1784 - val_recall_6: 0.9130\n",
      "Epoch 27/50\n",
      "20/20 [==============================] - 0s 4ms/step - loss: 0.2034 - recall_6: 0.9504 - val_loss: 0.2669 - val_recall_6: 1.0000\n",
      "Epoch 28/50\n",
      "20/20 [==============================] - 0s 3ms/step - loss: 0.1627 - recall_6: 0.9634 - val_loss: 0.1497 - val_recall_6: 0.9478\n",
      "Epoch 29/50\n",
      "20/20 [==============================] - 0s 3ms/step - loss: 0.1854 - recall_6: 0.9526 - val_loss: 0.1342 - val_recall_6: 0.9739\n",
      "Epoch 30/50\n",
      "20/20 [==============================] - 0s 2ms/step - loss: 0.1893 - recall_6: 0.9483 - val_loss: 0.1555 - val_recall_6: 0.9826\n",
      "Epoch 31/50\n",
      "20/20 [==============================] - 0s 2ms/step - loss: 0.2197 - recall_6: 0.9418 - val_loss: 0.1465 - val_recall_6: 0.9391\n",
      "Epoch 32/50\n",
      "20/20 [==============================] - 0s 2ms/step - loss: 0.1511 - recall_6: 0.9677 - val_loss: 0.1419 - val_recall_6: 0.9739\n",
      "Epoch 33/50\n",
      "20/20 [==============================] - 0s 2ms/step - loss: 0.1522 - recall_6: 0.9634 - val_loss: 0.1412 - val_recall_6: 0.9391\n",
      "Epoch 34/50\n",
      "20/20 [==============================] - 0s 2ms/step - loss: 0.1520 - recall_6: 0.9612 - val_loss: 0.1472 - val_recall_6: 0.9826\n",
      "Epoch 35/50\n",
      "20/20 [==============================] - ETA: 0s - loss: 0.2128 - recall_6: 0.96 - 0s 3ms/step - loss: 0.2040 - recall_6: 0.9461 - val_loss: 0.2876 - val_recall_6: 1.0000\n",
      "Epoch 36/50\n",
      "20/20 [==============================] - 0s 3ms/step - loss: 0.1898 - recall_6: 0.9461 - val_loss: 0.1503 - val_recall_6: 0.9217\n",
      "Epoch 37/50\n",
      "20/20 [==============================] - 0s 3ms/step - loss: 0.1754 - recall_6: 0.9677 - val_loss: 0.1242 - val_recall_6: 0.9739\n",
      "Epoch 38/50\n",
      "20/20 [==============================] - 0s 3ms/step - loss: 0.1988 - recall_6: 0.9418 - val_loss: 0.2404 - val_recall_6: 0.8522\n",
      "Epoch 39/50\n",
      "20/20 [==============================] - 0s 3ms/step - loss: 0.1181 - recall_6: 0.9806 - val_loss: 0.2285 - val_recall_6: 1.0000\n",
      "Epoch 40/50\n",
      "20/20 [==============================] - 0s 3ms/step - loss: 0.1976 - recall_6: 0.9504 - val_loss: 0.1940 - val_recall_6: 0.9913\n",
      "Epoch 41/50\n",
      "20/20 [==============================] - 0s 3ms/step - loss: 0.1300 - recall_6: 0.9612 - val_loss: 0.1199 - val_recall_6: 0.9739\n",
      "Epoch 42/50\n",
      "20/20 [==============================] - 0s 2ms/step - loss: 0.1132 - recall_6: 0.9720 - val_loss: 0.1723 - val_recall_6: 0.9913\n",
      "Epoch 43/50\n",
      "20/20 [==============================] - 0s 2ms/step - loss: 0.1412 - recall_6: 0.9698 - val_loss: 0.2355 - val_recall_6: 0.8696\n",
      "Epoch 44/50\n",
      "20/20 [==============================] - 0s 3ms/step - loss: 0.1583 - recall_6: 0.9504 - val_loss: 0.2068 - val_recall_6: 0.9913\n",
      "Epoch 45/50\n",
      "20/20 [==============================] - 0s 2ms/step - loss: 0.1348 - recall_6: 0.9655 - val_loss: 0.1158 - val_recall_6: 0.9652\n",
      "Epoch 46/50\n",
      "20/20 [==============================] - 0s 3ms/step - loss: 0.1073 - recall_6: 0.9784 - val_loss: 0.1730 - val_recall_6: 0.9043\n",
      "Epoch 47/50\n",
      "20/20 [==============================] - 0s 2ms/step - loss: 0.1499 - recall_6: 0.9612 - val_loss: 0.2021 - val_recall_6: 0.9913\n",
      "Epoch 48/50\n",
      "20/20 [==============================] - 0s 2ms/step - loss: 0.1175 - recall_6: 0.9720 - val_loss: 0.1172 - val_recall_6: 0.9565\n",
      "Epoch 49/50\n",
      "20/20 [==============================] - 0s 2ms/step - loss: 0.1132 - recall_6: 0.9763 - val_loss: 0.1243 - val_recall_6: 0.9826\n",
      "Epoch 50/50\n",
      "20/20 [==============================] - 0s 2ms/step - loss: 0.1148 - recall_6: 0.9698 - val_loss: 0.2492 - val_recall_6: 1.0000\n"
     ]
    }
   ],
   "source": [
    "# import tensorflow as tf\n",
    "\n",
    "model.compile(optimizer='sgd',\n",
    "              loss='binary_crossentropy',\n",
    "              metrics=[tf.keras.metrics.Recall()])\n",
    "\n",
    "results = model.fit(X_train_img_final,\n",
    "                    y_train,\n",
    "                    epochs=50,\n",
    "                    batch_size=32,\n",
    "                    validation_data=(X_val_img_final, y_val))"
   ]
  },
  {
   "cell_type": "code",
   "execution_count": 57,
   "metadata": {},
   "outputs": [
    {
     "name": "stdout",
     "output_type": "stream",
     "text": [
      "20/20 [==============================] - 0s 1ms/step - loss: 0.2067 - recall_6: 0.9892\n"
     ]
    }
   ],
   "source": [
    "results_train = model.evaluate(X_train_img_final, y_train)"
   ]
  },
  {
   "cell_type": "code",
   "execution_count": 58,
   "metadata": {},
   "outputs": [
    {
     "name": "stdout",
     "output_type": "stream",
     "text": [
      "5/5 [==============================] - 0s 992us/step - loss: 0.2492 - recall_6: 1.0000\n"
     ]
    }
   ],
   "source": [
    "results_val = model.evaluate(X_val_img_final, y_val)"
   ]
  },
  {
   "cell_type": "markdown",
   "metadata": {},
   "source": [
    "#### Training Recall= 0.7529. Validation recall = 0.7568. Subsequent models must improve these thresholds."
   ]
  },
  {
   "cell_type": "code",
   "execution_count": 59,
   "metadata": {},
   "outputs": [],
   "source": [
    "#plot acc vs loss for train and test set\n",
    "def visualize_results(results):\n",
    "    history = results.history\n",
    "    plt.figure()\n",
    "    plt.plot(history['val_loss'])\n",
    "    plt.plot(history['loss'])\n",
    "    plt.legend(['val_loss', 'loss'])\n",
    "    plt.title('Loss')\n",
    "    plt.xlabel('Epochs')\n",
    "    plt.ylabel('Loss')\n",
    "    plt.show();"
   ]
  },
  {
   "cell_type": "code",
   "execution_count": 60,
   "metadata": {},
   "outputs": [
    {
     "data": {
      "image/png": "[encoded data removed]",
      "text/plain": [
       "<Figure size 432x288 with 1 Axes>"
      ]
     },
     "metadata": {
      "needs_background": "light"
     },
     "output_type": "display_data"
    }
   ],
   "source": [
    "visualize_results(results)"
   ]
  },
  {
   "cell_type": "markdown",
   "metadata": {},
   "source": [
    "#### Insight: according to the Loss plot, there is significant overfitting of the model due to the high variation of the validation curve. Any subsequent models must reduce the variance and overfitting of the baseline model.\n"
   ]
  },
  {
   "cell_type": "code",
   "execution_count": 23,
   "metadata": {},
   "outputs": [],
   "source": [
    "# For Tuesday: Resolve overfitting(EarlyStopping), Attempt L1, L2 or dropout regularization, determine if normalization is \n",
    "# necessary, create convolution filter. After that, look at weight initializers (Lecun and He), optmizers(RMSProp, Adam)"
   ]
  },
  {
   "cell_type": "markdown",
   "metadata": {},
   "source": [
    "#### Will adding EarlyStopping improve the model?"
   ]
  },
  {
   "cell_type": "code",
   "execution_count": 63,
   "metadata": {},
   "outputs": [],
   "source": [
    "np.random.seed(42)\n",
    "model2 = models.Sequential()\n",
    "model2.add(layers.Dense(63, activation='tanh', input_shape=(4096,)))\n",
    "model2.add(layers.Dense(42, activation='tanh'))\n",
    "model2.add(layers.Dense(21, activation='tanh'))\n",
    "model2.add(layers.Dense(1, activation='sigmoid')) #output layer, binary classification"
   ]
  },
  {
   "cell_type": "code",
   "execution_count": 64,
   "metadata": {},
   "outputs": [],
   "source": [
    "# from keras.callbacks import EarlyStopping, ModelCheckpoint\n",
    "\n",
    "early_stopping = [EarlyStopping(monitor='val_loss', patience=10), ModelCheckpoint(filepath='best_model.h5',\n",
    "                                                                                 monitor='val_loss', save_best_only=True)]"
   ]
  },
  {
   "cell_type": "code",
   "execution_count": 65,
   "metadata": {},
   "outputs": [
    {
     "name": "stdout",
     "output_type": "stream",
     "text": [
      "Epoch 1/50\n",
      "20/20 [==============================] - 0s 18ms/step - loss: 0.5640 - recall_7: 0.9978 - val_loss: 0.5308 - val_recall_7: 1.0000\n",
      "Epoch 2/50\n",
      "20/20 [==============================] - 0s 6ms/step - loss: 0.5267 - recall_7: 0.9849 - val_loss: 0.4628 - val_recall_7: 1.0000\n",
      "Epoch 3/50\n",
      "20/20 [==============================] - 0s 7ms/step - loss: 0.5058 - recall_7: 0.9698 - val_loss: 0.4382 - val_recall_7: 1.0000\n",
      "Epoch 4/50\n",
      "20/20 [==============================] - 0s 3ms/step - loss: 0.4809 - recall_7: 0.9353 - val_loss: 0.4626 - val_recall_7: 1.0000\n",
      "Epoch 5/50\n",
      "20/20 [==============================] - 0s 6ms/step - loss: 0.4016 - recall_7: 0.9741 - val_loss: 0.3351 - val_recall_7: 0.9913\n",
      "Epoch 6/50\n",
      "20/20 [==============================] - 0s 5ms/step - loss: 0.3826 - recall_7: 0.9397 - val_loss: 0.3218 - val_recall_7: 0.9913\n",
      "Epoch 7/50\n",
      "20/20 [==============================] - 0s 3ms/step - loss: 0.3698 - recall_7: 0.9418 - val_loss: 0.5107 - val_recall_7: 0.6174\n",
      "Epoch 8/50\n",
      "20/20 [==============================] - 0s 2ms/step - loss: 0.3644 - recall_7: 0.9224 - val_loss: 0.6191 - val_recall_7: 1.0000\n",
      "Epoch 9/50\n",
      "20/20 [==============================] - 0s 2ms/step - loss: 0.4017 - recall_7: 0.9289 - val_loss: 0.4586 - val_recall_7: 1.0000\n",
      "Epoch 10/50\n",
      "20/20 [==============================] - 0s 6ms/step - loss: 0.3035 - recall_7: 0.9547 - val_loss: 0.2384 - val_recall_7: 0.9826\n",
      "Epoch 11/50\n",
      "20/20 [==============================] - 0s 4ms/step - loss: 0.3327 - recall_7: 0.9418 - val_loss: 0.4069 - val_recall_7: 1.0000\n",
      "Epoch 12/50\n",
      "20/20 [==============================] - 0s 2ms/step - loss: 0.2526 - recall_7: 0.9612 - val_loss: 0.3991 - val_recall_7: 1.0000\n",
      "Epoch 13/50\n",
      "20/20 [==============================] - 0s 2ms/step - loss: 0.2931 - recall_7: 0.9504 - val_loss: 0.4746 - val_recall_7: 0.7043\n",
      "Epoch 14/50\n",
      "20/20 [==============================] - 0s 3ms/step - loss: 0.2540 - recall_7: 0.9440 - val_loss: 0.2759 - val_recall_7: 0.8609\n",
      "Epoch 15/50\n",
      "20/20 [==============================] - 0s 5ms/step - loss: 0.2717 - recall_7: 0.9332 - val_loss: 0.1920 - val_recall_7: 0.9652\n",
      "Epoch 16/50\n",
      "20/20 [==============================] - 0s 8ms/step - loss: 0.2302 - recall_7: 0.9504 - val_loss: 0.1832 - val_recall_7: 0.9826\n",
      "Epoch 17/50\n",
      "20/20 [==============================] - 0s 4ms/step - loss: 0.2209 - recall_7: 0.9461 - val_loss: 0.3659 - val_recall_7: 0.7565\n",
      "Epoch 18/50\n",
      "20/20 [==============================] - 0s 2ms/step - loss: 0.2913 - recall_7: 0.9203 - val_loss: 0.2101 - val_recall_7: 0.9826\n",
      "Epoch 19/50\n",
      "20/20 [==============================] - 0s 5ms/step - loss: 0.2116 - recall_7: 0.9569 - val_loss: 0.1674 - val_recall_7: 0.9739\n",
      "Epoch 20/50\n",
      "20/20 [==============================] - 0s 3ms/step - loss: 0.2392 - recall_7: 0.9353 - val_loss: 0.1727 - val_recall_7: 0.9826\n",
      "Epoch 21/50\n",
      "20/20 [==============================] - 0s 3ms/step - loss: 0.1849 - recall_7: 0.9655 - val_loss: 0.1889 - val_recall_7: 0.9217\n",
      "Epoch 22/50\n",
      "20/20 [==============================] - 0s 5ms/step - loss: 0.2836 - recall_7: 0.9246 - val_loss: 0.1659 - val_recall_7: 0.9739\n",
      "Epoch 23/50\n",
      "20/20 [==============================] - 0s 6ms/step - loss: 0.1845 - recall_7: 0.9591 - val_loss: 0.1560 - val_recall_7: 0.9652\n",
      "Epoch 24/50\n",
      "20/20 [==============================] - 0s 2ms/step - loss: 0.1942 - recall_7: 0.9440 - val_loss: 0.2906 - val_recall_7: 0.8261\n",
      "Epoch 25/50\n",
      "20/20 [==============================] - 0s 2ms/step - loss: 0.2004 - recall_7: 0.9634 - val_loss: 0.1565 - val_recall_7: 0.9565\n",
      "Epoch 26/50\n",
      "20/20 [==============================] - 0s 2ms/step - loss: 0.2439 - recall_7: 0.9310 - val_loss: 0.1598 - val_recall_7: 0.9826\n",
      "Epoch 27/50\n",
      "20/20 [==============================] - 0s 7ms/step - loss: 0.2114 - recall_7: 0.9504 - val_loss: 0.1547 - val_recall_7: 0.9478\n",
      "Epoch 28/50\n",
      "20/20 [==============================] - 0s 3ms/step - loss: 0.2543 - recall_7: 0.9353 - val_loss: 0.1593 - val_recall_7: 0.9652\n",
      "Epoch 29/50\n",
      "20/20 [==============================] - 0s 5ms/step - loss: 0.1437 - recall_7: 0.9741 - val_loss: 0.1366 - val_recall_7: 0.9652\n",
      "Epoch 30/50\n",
      "20/20 [==============================] - 0s 3ms/step - loss: 0.1855 - recall_7: 0.9418 - val_loss: 0.2628 - val_recall_7: 1.0000\n",
      "Epoch 31/50\n",
      "20/20 [==============================] - 0s 2ms/step - loss: 0.1876 - recall_7: 0.9612 - val_loss: 0.1544 - val_recall_7: 0.9826\n",
      "Epoch 32/50\n",
      "20/20 [==============================] - 0s 2ms/step - loss: 0.1662 - recall_7: 0.9634 - val_loss: 0.4383 - val_recall_7: 0.7043\n",
      "Epoch 33/50\n",
      "20/20 [==============================] - 0s 6ms/step - loss: 0.1772 - recall_7: 0.9418 - val_loss: 0.1330 - val_recall_7: 0.9826\n",
      "Epoch 34/50\n",
      "20/20 [==============================] - 0s 4ms/step - loss: 0.1292 - recall_7: 0.9806 - val_loss: 0.1702 - val_recall_7: 0.9130\n",
      "Epoch 35/50\n",
      "20/20 [==============================] - 0s 3ms/step - loss: 0.2055 - recall_7: 0.9547 - val_loss: 0.5277 - val_recall_7: 1.0000\n",
      "Epoch 36/50\n",
      "20/20 [==============================] - 0s 3ms/step - loss: 0.1754 - recall_7: 0.9677 - val_loss: 0.2050 - val_recall_7: 0.9913\n",
      "Epoch 37/50\n",
      "20/20 [==============================] - 0s 5ms/step - loss: 0.1264 - recall_7: 0.9741 - val_loss: 0.1270 - val_recall_7: 0.9565\n",
      "Epoch 38/50\n",
      "20/20 [==============================] - 0s 3ms/step - loss: 0.1489 - recall_7: 0.9655 - val_loss: 0.1298 - val_recall_7: 0.9565\n",
      "Epoch 39/50\n",
      "20/20 [==============================] - 0s 2ms/step - loss: 0.1501 - recall_7: 0.9720 - val_loss: 0.2916 - val_recall_7: 0.8435\n",
      "Epoch 40/50\n",
      "20/20 [==============================] - 0s 2ms/step - loss: 0.1651 - recall_7: 0.9526 - val_loss: 0.1383 - val_recall_7: 0.9913\n",
      "Epoch 41/50\n",
      "20/20 [==============================] - 0s 6ms/step - loss: 0.1121 - recall_7: 0.9763 - val_loss: 0.1200 - val_recall_7: 0.9565\n",
      "Epoch 42/50\n",
      "20/20 [==============================] - ETA: 0s - loss: 0.0697 - recall_7: 0.96 - 0s 2ms/step - loss: 0.2716 - recall_7: 0.9289 - val_loss: 0.1456 - val_recall_7: 0.9913\n",
      "Epoch 43/50\n",
      "20/20 [==============================] - 0s 2ms/step - loss: 0.1685 - recall_7: 0.9655 - val_loss: 0.1376 - val_recall_7: 0.9913\n",
      "Epoch 44/50\n",
      "20/20 [==============================] - 0s 3ms/step - loss: 0.1254 - recall_7: 0.9677 - val_loss: 0.1229 - val_recall_7: 0.9565\n",
      "Epoch 45/50\n",
      "20/20 [==============================] - 0s 2ms/step - loss: 0.1145 - recall_7: 0.9741 - val_loss: 0.2751 - val_recall_7: 1.0000\n",
      "Epoch 46/50\n",
      "20/20 [==============================] - 0s 2ms/step - loss: 0.1187 - recall_7: 0.9741 - val_loss: 0.1275 - val_recall_7: 0.9565\n",
      "Epoch 47/50\n",
      "20/20 [==============================] - 0s 2ms/step - loss: 0.1287 - recall_7: 0.9677 - val_loss: 0.1723 - val_recall_7: 0.9913\n",
      "Epoch 48/50\n",
      "20/20 [==============================] - 0s 7ms/step - loss: 0.1257 - recall_7: 0.9741 - val_loss: 0.1160 - val_recall_7: 0.9826\n",
      "Epoch 49/50\n",
      "20/20 [==============================] - 0s 3ms/step - loss: 0.2232 - recall_7: 0.9375 - val_loss: 0.1210 - val_recall_7: 0.9565\n",
      "Epoch 50/50\n",
      "20/20 [==============================] - 0s 3ms/step - loss: 0.1148 - recall_7: 0.9677 - val_loss: 0.1141 - val_recall_7: 0.9565\n"
     ]
    }
   ],
   "source": [
    "model2.compile(optimizer='sgd',\n",
    "              loss='binary_crossentropy',\n",
    "              metrics=[tf.keras.metrics.Recall()])\n",
    "\n",
    "results2 = model2.fit(X_train_img_final,\n",
    "                    y_train,\n",
    "                    callbacks=early_stopping,\n",
    "                    epochs=50,\n",
    "                    batch_size=32,\n",
    "                    validation_data=(X_val_img_final, y_val))"
   ]
  },
  {
   "cell_type": "code",
   "execution_count": 66,
   "metadata": {},
   "outputs": [
    {
     "data": {
      "image/png": "[encoded data removed]",
      "text/plain": [
       "<Figure size 432x288 with 1 Axes>"
      ]
     },
     "metadata": {
      "needs_background": "light"
     },
     "output_type": "display_data"
    }
   ],
   "source": [
    "visualize_results(results2)"
   ]
  },
  {
   "cell_type": "code",
   "execution_count": null,
   "metadata": {},
   "outputs": [],
   "source": []
  },
  {
   "cell_type": "code",
   "execution_count": null,
   "metadata": {},
   "outputs": [],
   "source": []
  },
  {
   "cell_type": "code",
   "execution_count": null,
   "metadata": {},
   "outputs": [],
   "source": []
  },
  {
   "cell_type": "markdown",
   "metadata": {},
   "source": [
    "#### Variation in val_loss is still very high. Additionally, overfitting issue still hasn't been resolved. Will build a CNN, then attempt to control overfitting."
   ]
  },
  {
   "cell_type": "code",
   "execution_count": 85,
   "metadata": {},
   "outputs": [],
   "source": [
    "#CNN model\n",
    "model3 = models.Sequential()\n",
    "model3.add(layers.Conv2D(32, (3,3), activation='tanh',\n",
    "                        input_shape=(64, 64, 1)))\n",
    "\n",
    "model3.add(layers.Flatten())\n",
    "model3.add(layers.Dense(64, activation='tanh'))\n",
    "model3.add(layers.Dense(42, activation='tanh'))\n",
    "model3.add(layers.Dense(21, activation='tanh'))\n",
    "model3.add(layers.Dense(1, activation='sigmoid'))"
   ]
  },
  {
   "cell_type": "code",
   "execution_count": 86,
   "metadata": {},
   "outputs": [
    {
     "name": "stdout",
     "output_type": "stream",
     "text": [
      "Model: \"sequential_14\"\n",
      "_________________________________________________________________\n",
      "Layer (type)                 Output Shape              Param #   \n",
      "=================================================================\n",
      "conv2d_9 (Conv2D)            (None, 62, 62, 32)        320       \n",
      "_________________________________________________________________\n",
      "flatten_9 (Flatten)          (None, 123008)            0         \n",
      "_________________________________________________________________\n",
      "dense_39 (Dense)             (None, 64)                7872576   \n",
      "_________________________________________________________________\n",
      "dense_40 (Dense)             (None, 42)                2730      \n",
      "_________________________________________________________________\n",
      "dense_41 (Dense)             (None, 21)                903       \n",
      "_________________________________________________________________\n",
      "dense_42 (Dense)             (None, 1)                 22        \n",
      "=================================================================\n",
      "Total params: 7,876,551\n",
      "Trainable params: 7,876,551\n",
      "Non-trainable params: 0\n",
      "_________________________________________________________________\n"
     ]
    }
   ],
   "source": [
    "model3.summary()"
   ]
  },
  {
   "cell_type": "code",
   "execution_count": 87,
   "metadata": {},
   "outputs": [
    {
     "data": {
      "text/plain": [
       "(632, 4096)"
      ]
     },
     "execution_count": 87,
     "metadata": {},
     "output_type": "execute_result"
    }
   ],
   "source": [
    "X_train_img_final.shape"
   ]
  },
  {
   "cell_type": "code",
   "execution_count": 88,
   "metadata": {},
   "outputs": [
    {
     "name": "stdout",
     "output_type": "stream",
     "text": [
      "Epoch 1/50\n",
      "20/20 [==============================] - 1s 57ms/step - loss: 0.6904 - recall_13: 0.9418 - val_loss: 0.5910 - val_recall_13: 1.0000\n",
      "Epoch 2/50\n",
      "20/20 [==============================] - 1s 52ms/step - loss: 0.5817 - recall_13: 1.0000 - val_loss: 0.5857 - val_recall_13: 1.0000\n",
      "Epoch 3/50\n",
      "20/20 [==============================] - 1s 45ms/step - loss: 0.5782 - recall_13: 1.0000 - val_loss: 0.5810 - val_recall_13: 1.0000\n",
      "Epoch 4/50\n",
      "20/20 [==============================] - 1s 46ms/step - loss: 0.5791 - recall_13: 1.0000 - val_loss: 0.5886 - val_recall_13: 1.0000\n",
      "Epoch 5/50\n",
      "20/20 [==============================] - 1s 45ms/step - loss: 0.5798 - recall_13: 1.0000 - val_loss: 0.5847 - val_recall_13: 1.0000\n",
      "Epoch 6/50\n",
      "20/20 [==============================] - 1s 46ms/step - loss: 0.5778 - recall_13: 1.0000 - val_loss: 0.5759 - val_recall_13: 1.0000\n",
      "Epoch 7/50\n",
      "20/20 [==============================] - 1s 46ms/step - loss: 0.5765 - recall_13: 1.0000 - val_loss: 0.5701 - val_recall_13: 1.0000\n",
      "Epoch 8/50\n",
      "20/20 [==============================] - 1s 48ms/step - loss: 0.5708 - recall_13: 1.0000 - val_loss: 0.5801 - val_recall_13: 1.0000\n",
      "Epoch 9/50\n",
      "20/20 [==============================] - 1s 50ms/step - loss: 0.5711 - recall_13: 1.0000 - val_loss: 0.5604 - val_recall_13: 1.0000\n",
      "Epoch 10/50\n",
      "20/20 [==============================] - 1s 46ms/step - loss: 0.5716 - recall_13: 1.0000 - val_loss: 0.5746 - val_recall_13: 1.0000\n",
      "Epoch 11/50\n",
      "20/20 [==============================] - 1s 45ms/step - loss: 0.5766 - recall_13: 1.0000 - val_loss: 0.5859 - val_recall_13: 1.0000\n",
      "Epoch 12/50\n",
      "20/20 [==============================] - 1s 46ms/step - loss: 0.5776 - recall_13: 1.0000 - val_loss: 0.5695 - val_recall_13: 1.0000\n",
      "Epoch 13/50\n",
      "20/20 [==============================] - 1s 47ms/step - loss: 0.5823 - recall_13: 1.0000 - val_loss: 0.5854 - val_recall_13: 1.0000\n",
      "Epoch 14/50\n",
      "20/20 [==============================] - 1s 44ms/step - loss: 0.5805 - recall_13: 1.0000 - val_loss: 0.5854 - val_recall_13: 1.0000\n",
      "Epoch 15/50\n",
      "20/20 [==============================] - 1s 48ms/step - loss: 0.5804 - recall_13: 1.0000 - val_loss: 0.5854 - val_recall_13: 1.0000\n",
      "Epoch 16/50\n",
      "20/20 [==============================] - 1s 49ms/step - loss: 0.5800 - recall_13: 1.0000 - val_loss: 0.5854 - val_recall_13: 1.0000\n",
      "Epoch 17/50\n",
      "20/20 [==============================] - 1s 45ms/step - loss: 0.5804 - recall_13: 1.0000 - val_loss: 0.5858 - val_recall_13: 1.0000\n",
      "Epoch 18/50\n",
      "20/20 [==============================] - 1s 47ms/step - loss: 0.5808 - recall_13: 1.0000 - val_loss: 0.5856 - val_recall_13: 1.0000\n",
      "Epoch 19/50\n",
      "20/20 [==============================] - 1s 44ms/step - loss: 0.5798 - recall_13: 1.0000 - val_loss: 0.5839 - val_recall_13: 1.0000\n"
     ]
    }
   ],
   "source": [
    "model3.compile(optimizer='sgd',\n",
    "              loss='binary_crossentropy',\n",
    "              metrics=[tf.keras.metrics.Recall()])\n",
    "\n",
    "results3 = model3.fit(X_train, \n",
    "                    y_train,\n",
    "                    callbacks=early_stopping,\n",
    "                    epochs=50,\n",
    "                    batch_size=32,\n",
    "                    validation_data=(X_val, y_val))"
   ]
  },
  {
   "cell_type": "code",
   "execution_count": 89,
   "metadata": {},
   "outputs": [
    {
     "data": {
      "image/png": "[encoded data removed]",
      "text/plain": [
       "<Figure size 432x288 with 1 Axes>"
      ]
     },
     "metadata": {
      "needs_background": "light"
     },
     "output_type": "display_data"
    }
   ],
   "source": [
    "visualize_results(results3)"
   ]
  },
  {
   "cell_type": "markdown",
   "metadata": {},
   "source": [
    "#### The variation has been reduced and the curves are beginning to converge, but there is still overfitting. From here, we will attempt L1 and L2 regularization"
   ]
  },
  {
   "cell_type": "code",
   "execution_count": null,
   "metadata": {},
   "outputs": [],
   "source": []
  }
 ],
 "metadata": {
  "kernelspec": {
   "display_name": "Python 3",
   "language": "python",
   "name": "python3"
  },
  "language_info": {
   "codemirror_mode": {
    "name": "ipython",
    "version": 3
   },
   "file_extension": ".py",
   "mimetype": "text/x-python",
   "name": "python",
   "nbconvert_exporter": "python",
   "pygments_lexer": "ipython3",
   "version": "3.8.5"
  }
 },
 "nbformat": 4,
 "nbformat_minor": 4
}
