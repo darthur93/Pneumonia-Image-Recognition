{
 "cells": [
  {
   "cell_type": "code",
   "execution_count": 1,
   "metadata": {},
   "outputs": [],
   "source": [
    "#!pip install pillow"
   ]
  },
  {
   "cell_type": "markdown",
   "metadata": {},
   "source": [
    "## Load Packages"
   ]
  },
  {
   "cell_type": "code",
   "execution_count": 2,
   "metadata": {},
   "outputs": [],
   "source": [
    "import pandas as pd\n",
    "import numpy as np\n",
    "import matplotlib.pyplot as plt\n",
    "import os\n",
    "import tensorflow as tf\n",
    "\n",
    "from sklearn.model_selection import train_test_split\n",
    "\n",
    "from keras.preprocessing.image import ImageDataGenerator, array_to_img, img_to_array, load_img\n",
    "from keras import models, layers, regularizers\n",
    "from keras import layers\n",
    "from keras.callbacks import EarlyStopping, ModelCheckpoint"
   ]
  },
  {
   "cell_type": "markdown",
   "metadata": {},
   "source": [
    "## Load data\n",
    "\n",
    "#### We use grayscale color mode since these are X-ray images. Binary class mode is used to distinguish between normal and pneumonia images."
   ]
  },
  {
   "cell_type": "code",
   "execution_count": 3,
   "metadata": {},
   "outputs": [
    {
     "name": "stdout",
     "output_type": "stream",
     "text": [
      "Found 624 images belonging to 2 classes.\n",
      "Found 5232 images belonging to 2 classes.\n"
     ]
    }
   ],
   "source": [
    "train_data_dir = 'ZhangLabData/CellData/chest_xray/train'\n",
    "test_data_dir = 'ZhangLabData/CellData/chest_xray/test'\n",
    "\n",
    "#Get all the data in the directory data/validation (132 images), and reshape them\n",
    "test_generator = ImageDataGenerator().flow_from_directory(\n",
    "       test_data_dir, \n",
    "       target_size=(64, 64), batch_size=132, color_mode='grayscale', class_mode='binary')\n",
    "\n",
    "#Get all the data in the directory data/train (790 images), and reshape them\n",
    "train_generator = ImageDataGenerator().flow_from_directory(\n",
    "       train_data_dir, \n",
    "       target_size=(64, 64), batch_size=790, color_mode='grayscale', class_mode='binary')\n",
    "\n",
    "#Create the datasets\n",
    "train_images, train_labels = next(train_generator)\n",
    "test_images, test_labels = next(test_generator)"
   ]
  },
  {
   "cell_type": "code",
   "execution_count": 4,
   "metadata": {
    "scrolled": true
   },
   "outputs": [
    {
     "name": "stdout",
     "output_type": "stream",
     "text": [
      "[1. 1. 1. 1. 0. 1. 1. 1. 1. 0.]\n"
     ]
    }
   ],
   "source": [
    "print(train_labels[:10])"
   ]
  },
  {
   "cell_type": "markdown",
   "metadata": {},
   "source": [
    "## PREPROCESSING\n",
    "#### Create validation set from training set"
   ]
  },
  {
   "cell_type": "code",
   "execution_count": 5,
   "metadata": {},
   "outputs": [],
   "source": [
    "X = train_images\n",
    "y = train_labels\n",
    "\n",
    "X_train, X_val, y_train, y_val = train_test_split(X, y, test_size=0.2, random_state=42)\n",
    "\n"
   ]
  },
  {
   "cell_type": "code",
   "execution_count": 6,
   "metadata": {},
   "outputs": [
    {
     "data": {
      "text/plain": [
       "(790, 64, 64, 1)"
      ]
     },
     "execution_count": 6,
     "metadata": {},
     "output_type": "execute_result"
    }
   ],
   "source": [
    "train_images.shape"
   ]
  },
  {
   "cell_type": "markdown",
   "metadata": {},
   "source": [
    "#### Preview images (Normal)"
   ]
  },
  {
   "cell_type": "code",
   "execution_count": 7,
   "metadata": {},
   "outputs": [
    {
     "name": "stdout",
     "output_type": "stream",
     "text": [
      "X_train shape:  (632, 64, 64, 1)\n",
      "y_train shape:  (632,)\n",
      "X_val shape:  (158, 64, 64, 1)\n",
      "y_val shape:  (158,)\n"
     ]
    }
   ],
   "source": [
    "print('X_train shape: ',np.shape(X_train))\n",
    "print('y_train shape: ',np.shape(y_train))\n",
    "print('X_val shape: ',np.shape(X_val))\n",
    "print('y_val shape: ',np.shape(y_val))"
   ]
  },
  {
   "cell_type": "code",
   "execution_count": 8,
   "metadata": {},
   "outputs": [
    {
     "data": {
      "text/plain": [
       "(132, 64, 64, 1)"
      ]
     },
     "execution_count": 8,
     "metadata": {},
     "output_type": "execute_result"
    }
   ],
   "source": [
    "test_images.shape"
   ]
  },
  {
   "cell_type": "markdown",
   "metadata": {},
   "source": [
    "#### Reshape  images"
   ]
  },
  {
   "cell_type": "code",
   "execution_count": 9,
   "metadata": {},
   "outputs": [
    {
     "data": {
      "text/plain": [
       "(632, 4096)"
      ]
     },
     "execution_count": 9,
     "metadata": {},
     "output_type": "execute_result"
    }
   ],
   "source": [
    "#train set\n",
    "X_train_unrow = X_train.reshape(632, -1)\n",
    "X_train_unrow.shape"
   ]
  },
  {
   "cell_type": "code",
   "execution_count": 10,
   "metadata": {},
   "outputs": [
    {
     "data": {
      "text/plain": [
       "(158, 4096)"
      ]
     },
     "execution_count": 10,
     "metadata": {},
     "output_type": "execute_result"
    }
   ],
   "source": [
    "#test set\n",
    "X_val_unrow = X_val.reshape(158, -1)\n",
    "X_val_unrow.shape"
   ]
  },
  {
   "cell_type": "markdown",
   "metadata": {},
   "source": [
    "#### Labels for images"
   ]
  },
  {
   "cell_type": "code",
   "execution_count": 11,
   "metadata": {},
   "outputs": [
    {
     "data": {
      "text/plain": [
       "array([1., 1., 1., 0., 1., 0., 1., 1., 1., 1.], dtype=float32)"
      ]
     },
     "execution_count": 11,
     "metadata": {},
     "output_type": "execute_result"
    }
   ],
   "source": [
    "y_train[:10]"
   ]
  },
  {
   "cell_type": "code",
   "execution_count": 12,
   "metadata": {},
   "outputs": [
    {
     "data": {
      "text/plain": [
       "{'NORMAL': 0, 'PNEUMONIA': 1}"
      ]
     },
     "execution_count": 12,
     "metadata": {},
     "output_type": "execute_result"
    }
   ],
   "source": [
    "train_generator.class_indices"
   ]
  },
  {
   "cell_type": "markdown",
   "metadata": {},
   "source": [
    "#### Reshape Labels "
   ]
  },
  {
   "cell_type": "code",
   "execution_count": 13,
   "metadata": {},
   "outputs": [],
   "source": [
    "# #training set\n",
    "# y_train_labels_final = np.reshape(y_train[:,0], (632,1))"
   ]
  },
  {
   "cell_type": "code",
   "execution_count": 14,
   "metadata": {},
   "outputs": [],
   "source": [
    "# np.shape(y_train_labels_final)"
   ]
  },
  {
   "cell_type": "code",
   "execution_count": 15,
   "metadata": {},
   "outputs": [],
   "source": [
    "#test set\n",
    "# y_val_labels_final = np.reshape(y_val[:,0], (158,1))"
   ]
  },
  {
   "cell_type": "code",
   "execution_count": 16,
   "metadata": {},
   "outputs": [],
   "source": [
    "# np.shape(y_val_labels_final) "
   ]
  },
  {
   "cell_type": "code",
   "execution_count": 17,
   "metadata": {},
   "outputs": [
    {
     "data": {
      "text/plain": [
       "numpy.ndarray"
      ]
     },
     "execution_count": 17,
     "metadata": {},
     "output_type": "execute_result"
    }
   ],
   "source": [
    "#scaling the data\n",
    "X_train_img_final = X_train_unrow/255\n",
    "X_val_img_final = X_val_unrow/255\n",
    "\n",
    "type(X_val_img_final)"
   ]
  },
  {
   "cell_type": "code",
   "execution_count": 18,
   "metadata": {},
   "outputs": [
    {
     "name": "stdout",
     "output_type": "stream",
     "text": [
      "(632, 4096)\n",
      "(158, 4096)\n"
     ]
    }
   ],
   "source": [
    "print(X_train_img_final.shape)\n",
    "print(X_val_img_final.shape)"
   ]
  },
  {
   "cell_type": "markdown",
   "metadata": {},
   "source": [
    "## Model creation\n",
    "#### We will use recall as our metric, as we're more concerned about false negatives than false positives."
   ]
  },
  {
   "cell_type": "markdown",
   "metadata": {},
   "source": [
    "#### Baseline Model with DummyClassifier"
   ]
  },
  {
   "cell_type": "code",
   "execution_count": 19,
   "metadata": {},
   "outputs": [
    {
     "data": {
      "text/plain": [
       "DummyClassifier(strategy='most_frequent')"
      ]
     },
     "execution_count": 19,
     "metadata": {},
     "output_type": "execute_result"
    }
   ],
   "source": [
    "#dummy classifer/regressor for baseline\n",
    "from sklearn.dummy import DummyClassifier\n",
    "\n",
    "dummy = DummyClassifier(strategy='most_frequent')\n",
    "dummy.fit(X_train_img_final, y_train)"
   ]
  },
  {
   "cell_type": "code",
   "execution_count": 20,
   "metadata": {},
   "outputs": [
    {
     "data": {
      "text/plain": [
       "array([1., 1., 1., 1., 1., 1., 1., 1., 1., 1., 1., 1., 1., 1., 1., 1., 1.,\n",
       "       1., 1., 1., 1., 1., 1., 1., 1., 1., 1., 1., 1., 1., 1., 1., 1., 1.,\n",
       "       1., 1., 1., 1., 1., 1., 1., 1., 1., 1., 1., 1., 1., 1., 1., 1., 1.,\n",
       "       1., 1., 1., 1., 1., 1., 1., 1., 1., 1., 1., 1., 1., 1., 1., 1., 1.,\n",
       "       1., 1., 1., 1., 1., 1., 1., 1., 1., 1., 1., 1., 1., 1., 1., 1., 1.,\n",
       "       1., 1., 1., 1., 1., 1., 1., 1., 1., 1., 1., 1., 1., 1., 1., 1., 1.,\n",
       "       1., 1., 1., 1., 1., 1., 1., 1., 1., 1., 1., 1., 1., 1., 1., 1., 1.,\n",
       "       1., 1., 1., 1., 1., 1., 1., 1., 1., 1., 1., 1., 1., 1., 1., 1., 1.,\n",
       "       1., 1., 1., 1., 1., 1., 1., 1., 1., 1., 1., 1., 1., 1., 1., 1., 1.,\n",
       "       1., 1., 1., 1., 1.], dtype=float32)"
      ]
     },
     "execution_count": 20,
     "metadata": {},
     "output_type": "execute_result"
    }
   ],
   "source": [
    "dummy.predict(X_val_img_final)"
   ]
  },
  {
   "cell_type": "code",
   "execution_count": 21,
   "metadata": {},
   "outputs": [
    {
     "data": {
      "text/plain": [
       "0.740506329113924"
      ]
     },
     "execution_count": 21,
     "metadata": {},
     "output_type": "execute_result"
    }
   ],
   "source": [
    "dummy.score(X_val_img_final, y_val)"
   ]
  },
  {
   "cell_type": "markdown",
   "metadata": {},
   "source": [
    "#### Initial Neural Network Model Creation"
   ]
  },
  {
   "cell_type": "code",
   "execution_count": 22,
   "metadata": {},
   "outputs": [],
   "source": [
    "np.random.seed(42)\n",
    "model = models.Sequential()\n",
    "model.add(layers.Dense(63, activation='tanh', input_shape=(4096,)))\n",
    "model.add(layers.Dense(42, activation='tanh'))\n",
    "model.add(layers.Dense(21, activation='tanh'))\n",
    "model.add(layers.Dense(1, activation='sigmoid')) #output layer, binary classification"
   ]
  },
  {
   "cell_type": "code",
   "execution_count": 23,
   "metadata": {},
   "outputs": [
    {
     "name": "stdout",
     "output_type": "stream",
     "text": [
      "Epoch 1/50\n",
      "20/20 [==============================] - 0s 19ms/step - loss: 0.5657 - recall: 0.9506 - val_loss: 0.5543 - val_recall: 1.0000\n",
      "Epoch 2/50\n",
      "20/20 [==============================] - 0s 2ms/step - loss: 0.5221 - recall: 0.9700 - val_loss: 0.4655 - val_recall: 1.0000\n",
      "Epoch 3/50\n",
      "20/20 [==============================] - 0s 2ms/step - loss: 0.4260 - recall: 0.9742 - val_loss: 0.4915 - val_recall: 1.0000\n",
      "Epoch 4/50\n",
      "20/20 [==============================] - 0s 2ms/step - loss: 0.4418 - recall: 0.9335 - val_loss: 0.5103 - val_recall: 1.0000\n",
      "Epoch 5/50\n",
      "20/20 [==============================] - 0s 2ms/step - loss: 0.3664 - recall: 0.9442 - val_loss: 0.6067 - val_recall: 1.0000\n",
      "Epoch 6/50\n",
      "20/20 [==============================] - 0s 2ms/step - loss: 0.3773 - recall: 0.9399 - val_loss: 0.3888 - val_recall: 1.0000\n",
      "Epoch 7/50\n",
      "20/20 [==============================] - 0s 2ms/step - loss: 0.3589 - recall: 0.8991 - val_loss: 0.5683 - val_recall: 1.0000\n",
      "Epoch 8/50\n",
      "20/20 [==============================] - 0s 2ms/step - loss: 0.3851 - recall: 0.8970 - val_loss: 0.2994 - val_recall: 0.9744\n",
      "Epoch 9/50\n",
      "20/20 [==============================] - 0s 2ms/step - loss: 0.2877 - recall: 0.9313 - val_loss: 0.3689 - val_recall: 0.7863\n",
      "Epoch 10/50\n",
      "20/20 [==============================] - 0s 2ms/step - loss: 0.3292 - recall: 0.9034 - val_loss: 0.2744 - val_recall: 0.9744\n",
      "Epoch 11/50\n",
      "20/20 [==============================] - 0s 2ms/step - loss: 0.2815 - recall: 0.9270 - val_loss: 0.2938 - val_recall: 0.9915\n",
      "Epoch 12/50\n",
      "20/20 [==============================] - 0s 2ms/step - loss: 0.2396 - recall: 0.9549 - val_loss: 0.2584 - val_recall: 0.9744\n",
      "Epoch 13/50\n",
      "20/20 [==============================] - 0s 2ms/step - loss: 0.2530 - recall: 0.9356 - val_loss: 0.2487 - val_recall: 0.9145\n",
      "Epoch 14/50\n",
      "20/20 [==============================] - 0s 2ms/step - loss: 0.2466 - recall: 0.9313 - val_loss: 0.3698 - val_recall: 1.0000\n",
      "Epoch 15/50\n",
      "20/20 [==============================] - 0s 2ms/step - loss: 0.2233 - recall: 0.9528 - val_loss: 0.2335 - val_recall: 0.9658\n",
      "Epoch 16/50\n",
      "20/20 [==============================] - 0s 2ms/step - loss: 0.2183 - recall: 0.9421 - val_loss: 0.2875 - val_recall: 0.8376\n",
      "Epoch 17/50\n",
      "20/20 [==============================] - 0s 2ms/step - loss: 0.2906 - recall: 0.9034 - val_loss: 0.2247 - val_recall: 0.9487\n",
      "Epoch 18/50\n",
      "20/20 [==============================] - 0s 2ms/step - loss: 0.1978 - recall: 0.9614 - val_loss: 0.2129 - val_recall: 0.9487\n",
      "Epoch 19/50\n",
      "20/20 [==============================] - 0s 2ms/step - loss: 0.2051 - recall: 0.9464 - val_loss: 0.2078 - val_recall: 0.9402\n",
      "Epoch 20/50\n",
      "20/20 [==============================] - 0s 2ms/step - loss: 0.2179 - recall: 0.9506 - val_loss: 0.2101 - val_recall: 0.9573\n",
      "Epoch 21/50\n",
      "20/20 [==============================] - 0s 2ms/step - loss: 0.1872 - recall: 0.9442 - val_loss: 0.2144 - val_recall: 0.9744\n",
      "Epoch 22/50\n",
      "20/20 [==============================] - 0s 2ms/step - loss: 0.2408 - recall: 0.9356 - val_loss: 0.1972 - val_recall: 0.9402\n",
      "Epoch 23/50\n",
      "20/20 [==============================] - 0s 2ms/step - loss: 0.1722 - recall: 0.9528 - val_loss: 0.2482 - val_recall: 0.8718\n",
      "Epoch 24/50\n",
      "20/20 [==============================] - 0s 2ms/step - loss: 0.2423 - recall: 0.9313 - val_loss: 0.2517 - val_recall: 1.0000\n",
      "Epoch 25/50\n",
      "20/20 [==============================] - 0s 2ms/step - loss: 0.2173 - recall: 0.9378 - val_loss: 0.3543 - val_recall: 1.0000\n",
      "Epoch 26/50\n",
      "20/20 [==============================] - 0s 2ms/step - loss: 0.1957 - recall: 0.9506 - val_loss: 0.1855 - val_recall: 0.9316\n",
      "Epoch 27/50\n",
      "20/20 [==============================] - 0s 2ms/step - loss: 0.1440 - recall: 0.9614 - val_loss: 0.1827 - val_recall: 0.9658\n",
      "Epoch 28/50\n",
      "20/20 [==============================] - 0s 2ms/step - loss: 0.1698 - recall: 0.9421 - val_loss: 0.1808 - val_recall: 0.9658\n",
      "Epoch 29/50\n",
      "20/20 [==============================] - 0s 2ms/step - loss: 0.2736 - recall: 0.9142 - val_loss: 0.4021 - val_recall: 1.0000\n",
      "Epoch 30/50\n",
      "20/20 [==============================] - 0s 2ms/step - loss: 0.2560 - recall: 0.9163 - val_loss: 0.1844 - val_recall: 0.9658\n",
      "Epoch 31/50\n",
      "20/20 [==============================] - 0s 2ms/step - loss: 0.1957 - recall: 0.9356 - val_loss: 0.1799 - val_recall: 0.9573\n",
      "Epoch 32/50\n",
      "20/20 [==============================] - 0s 2ms/step - loss: 0.1789 - recall: 0.9571 - val_loss: 0.1821 - val_recall: 0.9744\n",
      "Epoch 33/50\n",
      "20/20 [==============================] - 0s 2ms/step - loss: 0.1251 - recall: 0.9742 - val_loss: 0.2161 - val_recall: 0.9915\n",
      "Epoch 34/50\n",
      "20/20 [==============================] - 0s 2ms/step - loss: 0.2058 - recall: 0.9356 - val_loss: 0.2055 - val_recall: 0.9915\n",
      "Epoch 35/50\n",
      "20/20 [==============================] - 0s 2ms/step - loss: 0.1257 - recall: 0.9721 - val_loss: 0.1658 - val_recall: 0.9658\n",
      "Epoch 36/50\n",
      "20/20 [==============================] - 0s 2ms/step - loss: 0.1554 - recall: 0.9528 - val_loss: 0.1774 - val_recall: 0.9829\n",
      "Epoch 37/50\n",
      "20/20 [==============================] - 0s 2ms/step - loss: 0.1340 - recall: 0.9700 - val_loss: 0.1596 - val_recall: 0.9573\n",
      "Epoch 38/50\n",
      "20/20 [==============================] - 0s 2ms/step - loss: 0.1241 - recall: 0.9764 - val_loss: 0.1622 - val_recall: 0.9231\n",
      "Epoch 39/50\n",
      "20/20 [==============================] - 0s 3ms/step - loss: 0.1470 - recall: 0.9571 - val_loss: 0.1675 - val_recall: 0.9744\n",
      "Epoch 40/50\n",
      "20/20 [==============================] - 0s 2ms/step - loss: 0.1205 - recall: 0.9721 - val_loss: 0.1491 - val_recall: 0.9402\n",
      "Epoch 41/50\n",
      "20/20 [==============================] - 0s 3ms/step - loss: 0.1231 - recall: 0.9721 - val_loss: 0.2011 - val_recall: 0.9915\n",
      "Epoch 42/50\n",
      "20/20 [==============================] - 0s 3ms/step - loss: 0.1505 - recall: 0.9614 - val_loss: 0.2740 - val_recall: 1.0000\n",
      "Epoch 43/50\n",
      "20/20 [==============================] - 0s 3ms/step - loss: 0.1684 - recall: 0.9528 - val_loss: 0.2589 - val_recall: 1.0000\n",
      "Epoch 44/50\n",
      "20/20 [==============================] - 0s 3ms/step - loss: 0.1538 - recall: 0.9528 - val_loss: 0.1491 - val_recall: 0.9573\n",
      "Epoch 45/50\n",
      "20/20 [==============================] - 0s 3ms/step - loss: 0.1298 - recall: 0.9571 - val_loss: 0.3456 - val_recall: 1.0000\n",
      "Epoch 46/50\n",
      "20/20 [==============================] - 0s 3ms/step - loss: 0.1716 - recall: 0.9485 - val_loss: 0.4526 - val_recall: 1.0000\n",
      "Epoch 47/50\n",
      "20/20 [==============================] - 0s 3ms/step - loss: 0.1272 - recall: 0.9657 - val_loss: 0.2087 - val_recall: 0.9915\n",
      "Epoch 48/50\n",
      "20/20 [==============================] - 0s 3ms/step - loss: 0.1344 - recall: 0.9657 - val_loss: 0.2079 - val_recall: 0.8974\n",
      "Epoch 49/50\n",
      "20/20 [==============================] - 0s 3ms/step - loss: 0.1065 - recall: 0.9700 - val_loss: 0.2529 - val_recall: 0.8632\n",
      "Epoch 50/50\n",
      "20/20 [==============================] - 0s 3ms/step - loss: 0.1545 - recall: 0.9506 - val_loss: 0.1468 - val_recall: 0.9316\n"
     ]
    }
   ],
   "source": [
    "# import tensorflow as tf\n",
    "\n",
    "model.compile(optimizer='sgd',\n",
    "              loss='binary_crossentropy',\n",
    "              metrics=[tf.keras.metrics.Recall()])\n",
    "\n",
    "results = model.fit(X_train_img_final,\n",
    "                    y_train,\n",
    "                    epochs=50,\n",
    "                    batch_size=32,\n",
    "                    validation_data=(X_val_img_final, y_val))"
   ]
  },
  {
   "cell_type": "code",
   "execution_count": 24,
   "metadata": {},
   "outputs": [
    {
     "name": "stdout",
     "output_type": "stream",
     "text": [
      "20/20 [==============================] - 0s 1ms/step - loss: 0.0958 - recall: 0.9592\n"
     ]
    }
   ],
   "source": [
    "results_train = model.evaluate(X_train_img_final, y_train)"
   ]
  },
  {
   "cell_type": "code",
   "execution_count": 25,
   "metadata": {},
   "outputs": [
    {
     "name": "stdout",
     "output_type": "stream",
     "text": [
      "5/5 [==============================] - 0s 1ms/step - loss: 0.1468 - recall: 0.9316\n"
     ]
    }
   ],
   "source": [
    "results_val = model.evaluate(X_val_img_final, y_val)"
   ]
  },
  {
   "cell_type": "markdown",
   "metadata": {},
   "source": [
    "#### Training Recall= 0.7529. Validation recall = 0.7568. Subsequent models must improve these thresholds."
   ]
  },
  {
   "cell_type": "code",
   "execution_count": 26,
   "metadata": {},
   "outputs": [],
   "source": [
    "#plot epochs vs loss for train and test set\n",
    "def visualize_results(results):\n",
    "    history = results.history\n",
    "    plt.figure()\n",
    "    plt.plot(history['val_loss'])\n",
    "    plt.plot(history['loss'])\n",
    "    plt.legend(['val_loss', 'loss'])\n",
    "    plt.title('Loss')\n",
    "    plt.xlabel('Epochs')\n",
    "    plt.ylabel('Loss')\n",
    "    plt.show();"
   ]
  },
  {
   "cell_type": "code",
   "execution_count": 27,
   "metadata": {},
   "outputs": [
    {
     "data": {
      "image/png": "[encoded data removed]",
      "text/plain": [
       "<Figure size 432x288 with 1 Axes>"
      ]
     },
     "metadata": {
      "needs_background": "light"
     },
     "output_type": "display_data"
    }
   ],
   "source": [
    "visualize_results(results)"
   ]
  },
  {
   "cell_type": "markdown",
   "metadata": {},
   "source": [
    "#### Insight: according to the Loss plot, there is significant overfitting of the model due to the high variation of the validation curve. Any subsequent models must reduce the variance and overfitting of the baseline model.\n"
   ]
  },
  {
   "cell_type": "code",
   "execution_count": 28,
   "metadata": {},
   "outputs": [],
   "source": [
    "# For Tuesday: Resolve overfitting(EarlyStopping), Attempt L1, L2 or dropout regularization, determine if normalization is \n",
    "# necessary, create convolution filter. After that, look at weight initializers (Lecun and He), optmizers(RMSProp, Adam)"
   ]
  },
  {
   "cell_type": "markdown",
   "metadata": {},
   "source": [
    "#### Will adding EarlyStopping improve the model?"
   ]
  },
  {
   "cell_type": "code",
   "execution_count": 29,
   "metadata": {},
   "outputs": [],
   "source": [
    "#create new model with similar parameters\n",
    "np.random.seed(42)\n",
    "model2 = models.Sequential()\n",
    "model2.add(layers.Dense(63, activation='tanh', input_shape=(4096,)))\n",
    "model2.add(layers.Dense(42, activation='tanh'))\n",
    "model2.add(layers.Dense(21, activation='tanh'))\n",
    "model2.add(layers.Dense(1, activation='sigmoid')) #output layer, binary classification"
   ]
  },
  {
   "cell_type": "code",
   "execution_count": 30,
   "metadata": {},
   "outputs": [],
   "source": [
    "# from keras.callbacks import EarlyStopping, ModelCheckpoint\n",
    "\n",
    "early_stopping = [EarlyStopping(monitor='val_loss', patience=10), ModelCheckpoint(filepath='best_model.h5',\n",
    "                                                                                 monitor='val_loss', save_best_only=True)]"
   ]
  },
  {
   "cell_type": "code",
   "execution_count": 31,
   "metadata": {},
   "outputs": [
    {
     "name": "stdout",
     "output_type": "stream",
     "text": [
      "Epoch 1/50\n",
      "20/20 [==============================] - 0s 16ms/step - loss: 0.5610 - recall_1: 1.0000 - val_loss: 0.5406 - val_recall_1: 1.0000\n",
      "Epoch 2/50\n",
      "20/20 [==============================] - 0s 6ms/step - loss: 0.4935 - recall_1: 0.9871 - val_loss: 0.4486 - val_recall_1: 1.0000\n",
      "Epoch 3/50\n",
      "20/20 [==============================] - 0s 6ms/step - loss: 0.4420 - recall_1: 0.9764 - val_loss: 0.4041 - val_recall_1: 1.0000\n",
      "Epoch 4/50\n",
      "20/20 [==============================] - 0s 5ms/step - loss: 0.4006 - recall_1: 0.9442 - val_loss: 0.3811 - val_recall_1: 1.0000\n",
      "Epoch 5/50\n",
      "20/20 [==============================] - 0s 3ms/step - loss: 0.3990 - recall_1: 0.9485 - val_loss: 0.4234 - val_recall_1: 1.0000\n",
      "Epoch 6/50\n",
      "20/20 [==============================] - 0s 5ms/step - loss: 0.3409 - recall_1: 0.9657 - val_loss: 0.3513 - val_recall_1: 1.0000\n",
      "Epoch 7/50\n",
      "20/20 [==============================] - 0s 3ms/step - loss: 0.3539 - recall_1: 0.9313 - val_loss: 0.3631 - val_recall_1: 1.0000\n",
      "Epoch 8/50\n",
      "20/20 [==============================] - 0s 7ms/step - loss: 0.2947 - recall_1: 0.9485 - val_loss: 0.3344 - val_recall_1: 1.0000\n",
      "Epoch 9/50\n",
      "20/20 [==============================] - 0s 7ms/step - loss: 0.3496 - recall_1: 0.9227 - val_loss: 0.3171 - val_recall_1: 0.9915\n",
      "Epoch 10/50\n",
      "20/20 [==============================] - 0s 6ms/step - loss: 0.3166 - recall_1: 0.9270 - val_loss: 0.3102 - val_recall_1: 0.9915\n",
      "Epoch 11/50\n",
      "20/20 [==============================] - 0s 6ms/step - loss: 0.3071 - recall_1: 0.9378 - val_loss: 0.2954 - val_recall_1: 0.8889\n",
      "Epoch 12/50\n",
      "20/20 [==============================] - 0s 4ms/step - loss: 0.2463 - recall_1: 0.9442 - val_loss: 0.3864 - val_recall_1: 1.0000\n",
      "Epoch 13/50\n",
      "20/20 [==============================] - 0s 4ms/step - loss: 0.2805 - recall_1: 0.9356 - val_loss: 0.2499 - val_recall_1: 0.9316\n",
      "Epoch 14/50\n",
      "20/20 [==============================] - 0s 3ms/step - loss: 0.2639 - recall_1: 0.9485 - val_loss: 0.2529 - val_recall_1: 0.9744\n",
      "Epoch 15/50\n",
      "20/20 [==============================] - 0s 6ms/step - loss: 0.2222 - recall_1: 0.9528 - val_loss: 0.2375 - val_recall_1: 0.9231\n",
      "Epoch 16/50\n",
      "20/20 [==============================] - 0s 6ms/step - loss: 0.2693 - recall_1: 0.9249 - val_loss: 0.2280 - val_recall_1: 0.9487\n",
      "Epoch 17/50\n",
      "20/20 [==============================] - 0s 3ms/step - loss: 0.2289 - recall_1: 0.9464 - val_loss: 0.2605 - val_recall_1: 0.8889\n",
      "Epoch 18/50\n",
      "20/20 [==============================] - 0s 6ms/step - loss: 0.2051 - recall_1: 0.9506 - val_loss: 0.2149 - val_recall_1: 0.9487\n",
      "Epoch 19/50\n",
      "20/20 [==============================] - 0s 3ms/step - loss: 0.2468 - recall_1: 0.9421 - val_loss: 0.2258 - val_recall_1: 0.9658\n",
      "Epoch 20/50\n",
      "20/20 [==============================] - 0s 3ms/step - loss: 0.2366 - recall_1: 0.9399 - val_loss: 0.2894 - val_recall_1: 0.8547\n",
      "Epoch 21/50\n",
      "20/20 [==============================] - 0s 5ms/step - loss: 0.2050 - recall_1: 0.9506 - val_loss: 0.2032 - val_recall_1: 0.9402\n",
      "Epoch 22/50\n",
      "20/20 [==============================] - 0s 2ms/step - loss: 0.1983 - recall_1: 0.9399 - val_loss: 0.2189 - val_recall_1: 0.9658\n",
      "Epoch 23/50\n",
      "20/20 [==============================] - 0s 5ms/step - loss: 0.1941 - recall_1: 0.9506 - val_loss: 0.2022 - val_recall_1: 0.9658\n",
      "Epoch 24/50\n",
      "20/20 [==============================] - 0s 2ms/step - loss: 0.1881 - recall_1: 0.9485 - val_loss: 0.3711 - val_recall_1: 1.0000\n",
      "Epoch 25/50\n",
      "20/20 [==============================] - 0s 2ms/step - loss: 0.1993 - recall_1: 0.9485 - val_loss: 0.3767 - val_recall_1: 0.7436\n",
      "Epoch 26/50\n",
      "20/20 [==============================] - 0s 3ms/step - loss: 0.1604 - recall_1: 0.9614 - val_loss: 0.2156 - val_recall_1: 0.9829\n",
      "Epoch 27/50\n",
      "20/20 [==============================] - 0s 3ms/step - loss: 0.2237 - recall_1: 0.9335 - val_loss: 0.2454 - val_recall_1: 0.9915\n",
      "Epoch 28/50\n",
      "20/20 [==============================] - 0s 2ms/step - loss: 0.1833 - recall_1: 0.9549 - val_loss: 0.5364 - val_recall_1: 1.0000\n",
      "Epoch 29/50\n",
      "20/20 [==============================] - 0s 7ms/step - loss: 0.2011 - recall_1: 0.9506 - val_loss: 0.1912 - val_recall_1: 0.9744\n",
      "Epoch 30/50\n",
      "20/20 [==============================] - 0s 3ms/step - loss: 0.1597 - recall_1: 0.9528 - val_loss: 0.3561 - val_recall_1: 1.0000\n",
      "Epoch 31/50\n",
      "20/20 [==============================] - 0s 6ms/step - loss: 0.1376 - recall_1: 0.9742 - val_loss: 0.1734 - val_recall_1: 0.9573\n",
      "Epoch 32/50\n",
      "20/20 [==============================] - 0s 2ms/step - loss: 0.1944 - recall_1: 0.9571 - val_loss: 0.1775 - val_recall_1: 0.9658\n",
      "Epoch 33/50\n",
      "20/20 [==============================] - 0s 2ms/step - loss: 0.1483 - recall_1: 0.9635 - val_loss: 0.1849 - val_recall_1: 0.9829\n",
      "Epoch 34/50\n",
      "20/20 [==============================] - 0s 3ms/step - loss: 0.1759 - recall_1: 0.9485 - val_loss: 0.2784 - val_recall_1: 1.0000\n",
      "Epoch 35/50\n",
      "20/20 [==============================] - 0s 2ms/step - loss: 0.1907 - recall_1: 0.9635 - val_loss: 0.1750 - val_recall_1: 0.9231\n",
      "Epoch 36/50\n",
      "20/20 [==============================] - 0s 3ms/step - loss: 0.1966 - recall_1: 0.9528 - val_loss: 0.1790 - val_recall_1: 0.9231\n",
      "Epoch 37/50\n",
      "20/20 [==============================] - 0s 3ms/step - loss: 0.1307 - recall_1: 0.9678 - val_loss: 0.2755 - val_recall_1: 0.8376\n",
      "Epoch 38/50\n",
      "20/20 [==============================] - 0s 3ms/step - loss: 0.2029 - recall_1: 0.9442 - val_loss: 0.4979 - val_recall_1: 0.6752\n",
      "Epoch 39/50\n",
      "20/20 [==============================] - 0s 2ms/step - loss: 0.1645 - recall_1: 0.9485 - val_loss: 0.2277 - val_recall_1: 1.0000\n",
      "Epoch 40/50\n",
      "20/20 [==============================] - 0s 2ms/step - loss: 0.1212 - recall_1: 0.9678 - val_loss: 0.2198 - val_recall_1: 0.9915\n",
      "Epoch 41/50\n",
      "20/20 [==============================] - 0s 2ms/step - loss: 0.1400 - recall_1: 0.9635 - val_loss: 0.2095 - val_recall_1: 0.9915\n"
     ]
    }
   ],
   "source": [
    "model2.compile(optimizer='sgd',\n",
    "              loss='binary_crossentropy',\n",
    "              metrics=[tf.keras.metrics.Recall()])\n",
    "\n",
    "results2 = model2.fit(X_train_img_final,\n",
    "                    y_train,\n",
    "                    callbacks=early_stopping,\n",
    "                    epochs=50,\n",
    "                    batch_size=32,\n",
    "                    validation_data=(X_val_img_final, y_val))"
   ]
  },
  {
   "cell_type": "code",
   "execution_count": 32,
   "metadata": {},
   "outputs": [
    {
     "data": {
      "image/png": "[encoded data removed]",
      "text/plain": [
       "<Figure size 432x288 with 1 Axes>"
      ]
     },
     "metadata": {
      "needs_background": "light"
     },
     "output_type": "display_data"
    }
   ],
   "source": [
    "visualize_results(results2)"
   ]
  },
  {
   "cell_type": "markdown",
   "metadata": {},
   "source": [
    "#### Variation in val_loss is still very high. Additionally, overfitting issue still hasn't been resolved. Will build a CNN, then attempt to control overfitting."
   ]
  },
  {
   "cell_type": "code",
   "execution_count": 33,
   "metadata": {},
   "outputs": [],
   "source": [
    "#CNN model\n",
    "np.random.seed(42)\n",
    "model3 = models.Sequential()\n",
    "model3.add(layers.Conv2D(32, (3,3), activation='tanh',\n",
    "                        input_shape=(64, 64, 1)))\n",
    "\n",
    "model3.add(layers.Flatten())\n",
    "model3.add(layers.Dense(64, activation='tanh'))\n",
    "model3.add(layers.Dense(42, activation='tanh'))\n",
    "model3.add(layers.Dense(21, activation='tanh'))\n",
    "model3.add(layers.Dense(1, activation='sigmoid'))"
   ]
  },
  {
   "cell_type": "code",
   "execution_count": 34,
   "metadata": {},
   "outputs": [
    {
     "name": "stdout",
     "output_type": "stream",
     "text": [
      "Model: \"sequential_2\"\n",
      "_________________________________________________________________\n",
      "Layer (type)                 Output Shape              Param #   \n",
      "=================================================================\n",
      "conv2d (Conv2D)              (None, 62, 62, 32)        320       \n",
      "_________________________________________________________________\n",
      "flatten (Flatten)            (None, 123008)            0         \n",
      "_________________________________________________________________\n",
      "dense_8 (Dense)              (None, 64)                7872576   \n",
      "_________________________________________________________________\n",
      "dense_9 (Dense)              (None, 42)                2730      \n",
      "_________________________________________________________________\n",
      "dense_10 (Dense)             (None, 21)                903       \n",
      "_________________________________________________________________\n",
      "dense_11 (Dense)             (None, 1)                 22        \n",
      "=================================================================\n",
      "Total params: 7,876,551\n",
      "Trainable params: 7,876,551\n",
      "Non-trainable params: 0\n",
      "_________________________________________________________________\n"
     ]
    }
   ],
   "source": [
    "model3.summary()"
   ]
  },
  {
   "cell_type": "code",
   "execution_count": 35,
   "metadata": {},
   "outputs": [
    {
     "name": "stdout",
     "output_type": "stream",
     "text": [
      "Epoch 1/50\n",
      "20/20 [==============================] - 1s 63ms/step - loss: 0.5803 - recall_2: 0.9742 - val_loss: 0.5703 - val_recall_2: 1.0000\n",
      "Epoch 2/50\n",
      "20/20 [==============================] - 1s 46ms/step - loss: 0.5735 - recall_2: 1.0000 - val_loss: 0.5671 - val_recall_2: 1.0000\n",
      "Epoch 3/50\n",
      "20/20 [==============================] - 1s 49ms/step - loss: 0.5666 - recall_2: 1.0000 - val_loss: 0.5510 - val_recall_2: 1.0000\n",
      "Epoch 4/50\n",
      "20/20 [==============================] - 1s 48ms/step - loss: 0.5629 - recall_2: 1.0000 - val_loss: 0.5565 - val_recall_2: 1.0000\n",
      "Epoch 5/50\n",
      "20/20 [==============================] - 1s 47ms/step - loss: 0.5644 - recall_2: 1.0000 - val_loss: 0.5604 - val_recall_2: 1.0000\n",
      "Epoch 6/50\n",
      "20/20 [==============================] - 1s 47ms/step - loss: 0.5682 - recall_2: 1.0000 - val_loss: 0.5608 - val_recall_2: 1.0000\n",
      "Epoch 7/50\n",
      "20/20 [==============================] - 1s 47ms/step - loss: 0.5590 - recall_2: 1.0000 - val_loss: 0.5470 - val_recall_2: 1.0000\n",
      "Epoch 8/50\n",
      "20/20 [==============================] - 1s 46ms/step - loss: 0.5558 - recall_2: 1.0000 - val_loss: 0.5671 - val_recall_2: 1.0000\n",
      "Epoch 9/50\n",
      "20/20 [==============================] - 1s 54ms/step - loss: 0.5602 - recall_2: 1.0000 - val_loss: 0.5419 - val_recall_2: 1.0000\n",
      "Epoch 10/50\n",
      "20/20 [==============================] - 1s 47ms/step - loss: 0.5425 - recall_2: 1.0000 - val_loss: 0.5294 - val_recall_2: 1.0000\n",
      "Epoch 11/50\n",
      "20/20 [==============================] - 1s 47ms/step - loss: 0.5269 - recall_2: 1.0000 - val_loss: 0.5356 - val_recall_2: 1.0000\n",
      "Epoch 12/50\n",
      "20/20 [==============================] - 1s 42ms/step - loss: 0.5310 - recall_2: 1.0000 - val_loss: 0.5266 - val_recall_2: 1.0000\n",
      "Epoch 13/50\n",
      "20/20 [==============================] - 1s 48ms/step - loss: 0.4822 - recall_2: 1.0000 - val_loss: 0.4720 - val_recall_2: 1.0000\n",
      "Epoch 14/50\n",
      "20/20 [==============================] - 1s 46ms/step - loss: 0.4746 - recall_2: 1.0000 - val_loss: 0.4947 - val_recall_2: 1.0000\n",
      "Epoch 15/50\n",
      "20/20 [==============================] - 1s 49ms/step - loss: 0.4900 - recall_2: 1.0000 - val_loss: 0.5397 - val_recall_2: 1.0000\n",
      "Epoch 16/50\n",
      "20/20 [==============================] - 1s 49ms/step - loss: 0.5024 - recall_2: 1.0000 - val_loss: 0.5031 - val_recall_2: 1.0000\n",
      "Epoch 17/50\n",
      "20/20 [==============================] - 1s 53ms/step - loss: 0.4743 - recall_2: 1.0000 - val_loss: 0.4493 - val_recall_2: 1.0000\n",
      "Epoch 18/50\n",
      "20/20 [==============================] - 1s 52ms/step - loss: 0.4132 - recall_2: 0.9828 - val_loss: 0.4340 - val_recall_2: 0.9915\n",
      "Epoch 19/50\n",
      "20/20 [==============================] - 1s 56ms/step - loss: 0.4461 - recall_2: 0.9528 - val_loss: 0.4796 - val_recall_2: 1.0000\n",
      "Epoch 20/50\n",
      "20/20 [==============================] - 1s 43ms/step - loss: 0.4972 - recall_2: 1.0000 - val_loss: 0.4614 - val_recall_2: 1.0000\n",
      "Epoch 21/50\n",
      "20/20 [==============================] - 1s 43ms/step - loss: 0.4376 - recall_2: 0.9506 - val_loss: 0.4532 - val_recall_2: 0.9915\n",
      "Epoch 22/50\n",
      "20/20 [==============================] - 1s 44ms/step - loss: 0.4157 - recall_2: 0.9678 - val_loss: 0.4843 - val_recall_2: 1.0000\n",
      "Epoch 23/50\n",
      "20/20 [==============================] - 1s 46ms/step - loss: 0.3978 - recall_2: 0.9528 - val_loss: 0.4384 - val_recall_2: 0.7692\n",
      "Epoch 24/50\n",
      "20/20 [==============================] - 1s 45ms/step - loss: 0.3177 - recall_2: 0.9464 - val_loss: 0.3480 - val_recall_2: 0.9744\n",
      "Epoch 25/50\n",
      "20/20 [==============================] - 1s 57ms/step - loss: 0.4072 - recall_2: 0.9399 - val_loss: 0.4605 - val_recall_2: 1.0000\n",
      "Epoch 26/50\n",
      "20/20 [==============================] - 1s 69ms/step - loss: 0.5187 - recall_2: 0.9914 - val_loss: 0.5266 - val_recall_2: 1.0000\n",
      "Epoch 27/50\n",
      "20/20 [==============================] - 1s 51ms/step - loss: 0.4664 - recall_2: 0.9871 - val_loss: 0.4543 - val_recall_2: 1.0000\n",
      "Epoch 28/50\n",
      "20/20 [==============================] - 1s 46ms/step - loss: 0.3919 - recall_2: 0.9378 - val_loss: 0.4513 - val_recall_2: 0.7521\n",
      "Epoch 29/50\n",
      "20/20 [==============================] - 1s 44ms/step - loss: 0.3505 - recall_2: 0.9399 - val_loss: 0.6523 - val_recall_2: 1.0000\n",
      "Epoch 30/50\n",
      "20/20 [==============================] - 1s 46ms/step - loss: 0.4730 - recall_2: 0.9764 - val_loss: 0.4200 - val_recall_2: 0.8547\n",
      "Epoch 31/50\n",
      "20/20 [==============================] - 1s 43ms/step - loss: 0.3888 - recall_2: 0.9356 - val_loss: 0.4485 - val_recall_2: 1.0000\n",
      "Epoch 32/50\n",
      "20/20 [==============================] - 1s 43ms/step - loss: 0.3670 - recall_2: 0.9549 - val_loss: 0.3542 - val_recall_2: 0.8803\n",
      "Epoch 33/50\n",
      "20/20 [==============================] - 1s 45ms/step - loss: 0.2977 - recall_2: 0.9678 - val_loss: 0.3328 - val_recall_2: 0.9573\n",
      "Epoch 34/50\n",
      "20/20 [==============================] - 1s 46ms/step - loss: 0.3500 - recall_2: 0.9099 - val_loss: 0.4869 - val_recall_2: 1.0000\n",
      "Epoch 35/50\n",
      "20/20 [==============================] - 1s 42ms/step - loss: 0.3810 - recall_2: 0.9399 - val_loss: 0.4837 - val_recall_2: 1.0000\n",
      "Epoch 36/50\n",
      "20/20 [==============================] - 1s 44ms/step - loss: 0.4168 - recall_2: 0.9099 - val_loss: 0.3812 - val_recall_2: 0.9915\n",
      "Epoch 37/50\n",
      "20/20 [==============================] - 1s 42ms/step - loss: 0.3713 - recall_2: 0.9421 - val_loss: 0.4961 - val_recall_2: 1.0000\n",
      "Epoch 38/50\n",
      "20/20 [==============================] - 1s 42ms/step - loss: 0.4276 - recall_2: 0.9270 - val_loss: 0.4283 - val_recall_2: 0.8889\n",
      "Epoch 39/50\n",
      "20/20 [==============================] - 1s 42ms/step - loss: 0.3698 - recall_2: 0.9206 - val_loss: 0.3800 - val_recall_2: 0.8291\n",
      "Epoch 40/50\n",
      "20/20 [==============================] - 1s 43ms/step - loss: 0.2963 - recall_2: 0.9442 - val_loss: 0.4159 - val_recall_2: 0.9744\n",
      "Epoch 41/50\n",
      "20/20 [==============================] - 1s 41ms/step - loss: 0.3391 - recall_2: 0.9549 - val_loss: 0.3528 - val_recall_2: 0.9231\n",
      "Epoch 42/50\n",
      "20/20 [==============================] - 1s 41ms/step - loss: 0.3680 - recall_2: 0.9378 - val_loss: 0.4129 - val_recall_2: 0.9573\n",
      "Epoch 43/50\n",
      "20/20 [==============================] - 1s 42ms/step - loss: 0.2713 - recall_2: 0.9742 - val_loss: 0.3679 - val_recall_2: 1.0000\n"
     ]
    }
   ],
   "source": [
    "model3.compile(optimizer='sgd',\n",
    "              loss='binary_crossentropy',\n",
    "              metrics=[tf.keras.metrics.Recall()])\n",
    "\n",
    "results3 = model3.fit(X_train, \n",
    "                    y_train,\n",
    "                    callbacks=early_stopping,\n",
    "                    epochs=50,\n",
    "                    batch_size=32,\n",
    "                    validation_data=(X_val, y_val))"
   ]
  },
  {
   "cell_type": "code",
   "execution_count": 36,
   "metadata": {},
   "outputs": [
    {
     "data": {
      "image/png": "[encoded data removed]",
      "text/plain": [
       "<Figure size 432x288 with 1 Axes>"
      ]
     },
     "metadata": {
      "needs_background": "light"
     },
     "output_type": "display_data"
    }
   ],
   "source": [
    "visualize_results(results3)"
   ]
  },
  {
   "cell_type": "markdown",
   "metadata": {},
   "source": [
    "#### The variation has been reduced, but there is still overfitting. From here, we will attempt L1 and L2 regularization"
   ]
  },
  {
   "cell_type": "markdown",
   "metadata": {},
   "source": [
    "#### L2 regularization with model3 structure"
   ]
  },
  {
   "cell_type": "code",
   "execution_count": 37,
   "metadata": {},
   "outputs": [],
   "source": [
    "np.random.seed(42)\n",
    "\n",
    "\n",
    "lambda_coeff = 0.005\n",
    "\n",
    "model4 = models.Sequential()\n",
    "model4.add(layers.Conv2D(32, (3,3), activation='tanh',\n",
    "                        input_shape=(64, 64, 1)))\n",
    "\n",
    "model4.add(layers.Flatten())\n",
    "model4.add(layers.Dense(64, activation='tanh', kernel_regularizer=regularizers.l2(lambda_coeff)))\n",
    "model4.add(layers.Dense(42, activation='tanh', kernel_regularizer=regularizers.l2(lambda_coeff)))\n",
    "model4.add(layers.Dense(21, activation='tanh', kernel_regularizer=regularizers.l2(lambda_coeff)))\n",
    "model4.add(layers.Dense(1, activation='sigmoid'))"
   ]
  },
  {
   "cell_type": "code",
   "execution_count": 38,
   "metadata": {},
   "outputs": [
    {
     "name": "stdout",
     "output_type": "stream",
     "text": [
      "Epoch 1/50\n",
      "20/20 [==============================] - 2s 94ms/step - loss: 1.6100 - recall_3: 0.8970 - val_loss: 1.5743 - val_recall_3: 1.0000\n",
      "Epoch 2/50\n",
      "20/20 [==============================] - 1s 63ms/step - loss: 1.5851 - recall_3: 1.0000 - val_loss: 1.5787 - val_recall_3: 1.0000\n",
      "Epoch 3/50\n",
      "20/20 [==============================] - 1s 69ms/step - loss: 1.5812 - recall_3: 1.0000 - val_loss: 1.5592 - val_recall_3: 1.0000\n",
      "Epoch 4/50\n",
      "20/20 [==============================] - 1s 65ms/step - loss: 1.5750 - recall_3: 1.0000 - val_loss: 1.5824 - val_recall_3: 1.0000\n",
      "Epoch 5/50\n",
      "20/20 [==============================] - 1s 63ms/step - loss: 1.5642 - recall_3: 1.0000 - val_loss: 1.5656 - val_recall_3: 1.0000\n",
      "Epoch 6/50\n",
      "20/20 [==============================] - 2s 80ms/step - loss: 1.5560 - recall_3: 1.0000 - val_loss: 1.5569 - val_recall_3: 1.0000\n",
      "Epoch 7/50\n",
      "20/20 [==============================] - 2s 82ms/step - loss: 1.5369 - recall_3: 1.0000 - val_loss: 1.5121 - val_recall_3: 1.0000\n",
      "Epoch 8/50\n",
      "20/20 [==============================] - 2s 76ms/step - loss: 1.5275 - recall_3: 1.0000 - val_loss: 1.5475 - val_recall_3: 1.0000\n",
      "Epoch 9/50\n",
      "20/20 [==============================] - 1s 61ms/step - loss: 1.5311 - recall_3: 1.0000 - val_loss: 1.5178 - val_recall_3: 1.0000\n",
      "Epoch 10/50\n",
      "20/20 [==============================] - 1s 61ms/step - loss: 1.5181 - recall_3: 1.0000 - val_loss: 1.5498 - val_recall_3: 1.0000\n",
      "Epoch 11/50\n",
      "20/20 [==============================] - 1s 63ms/step - loss: 1.5287 - recall_3: 1.0000 - val_loss: 1.5360 - val_recall_3: 1.0000\n",
      "Epoch 12/50\n",
      "20/20 [==============================] - 1s 72ms/step - loss: 1.5081 - recall_3: 1.0000 - val_loss: 1.4832 - val_recall_3: 1.0000\n",
      "Epoch 13/50\n",
      "20/20 [==============================] - 1s 67ms/step - loss: 1.4572 - recall_3: 1.0000 - val_loss: 1.4962 - val_recall_3: 1.0000\n",
      "Epoch 14/50\n",
      "20/20 [==============================] - 1s 63ms/step - loss: 1.4769 - recall_3: 1.0000 - val_loss: 1.4967 - val_recall_3: 1.0000\n",
      "Epoch 15/50\n",
      "20/20 [==============================] - 1s 63ms/step - loss: 1.4720 - recall_3: 1.0000 - val_loss: 1.4432 - val_recall_3: 1.0000\n",
      "Epoch 16/50\n",
      "20/20 [==============================] - 2s 77ms/step - loss: 1.4265 - recall_3: 1.0000 - val_loss: 1.4639 - val_recall_3: 1.0000\n",
      "Epoch 17/50\n",
      "20/20 [==============================] - 1s 68ms/step - loss: 1.4554 - recall_3: 1.0000 - val_loss: 1.5112 - val_recall_3: 1.0000\n",
      "Epoch 18/50\n",
      "20/20 [==============================] - 1s 68ms/step - loss: 1.4549 - recall_3: 0.9614 - val_loss: 1.3922 - val_recall_3: 0.9573\n",
      "Epoch 19/50\n",
      "20/20 [==============================] - 1s 64ms/step - loss: 1.3849 - recall_3: 0.9635 - val_loss: 1.4176 - val_recall_3: 1.0000\n",
      "Epoch 20/50\n",
      "20/20 [==============================] - 2s 76ms/step - loss: 1.4145 - recall_3: 1.0000 - val_loss: 1.5247 - val_recall_3: 1.0000\n",
      "Epoch 21/50\n",
      "20/20 [==============================] - 1s 63ms/step - loss: 1.4776 - recall_3: 0.9871 - val_loss: 1.4104 - val_recall_3: 1.0000\n",
      "Epoch 22/50\n",
      "20/20 [==============================] - 1s 65ms/step - loss: 1.3957 - recall_3: 0.9742 - val_loss: 1.3804 - val_recall_3: 0.9573\n",
      "Epoch 23/50\n",
      "20/20 [==============================] - 1s 61ms/step - loss: 1.4256 - recall_3: 0.9957 - val_loss: 1.4569 - val_recall_3: 1.0000\n",
      "Epoch 24/50\n",
      "20/20 [==============================] - 1s 61ms/step - loss: 1.4280 - recall_3: 0.9979 - val_loss: 1.4582 - val_recall_3: 1.0000\n",
      "Epoch 25/50\n",
      "20/20 [==============================] - 1s 60ms/step - loss: 1.4164 - recall_3: 0.9485 - val_loss: 1.4684 - val_recall_3: 1.0000\n",
      "Epoch 26/50\n",
      "20/20 [==============================] - 1s 61ms/step - loss: 1.3584 - recall_3: 0.9592 - val_loss: 1.3911 - val_recall_3: 1.0000\n",
      "Epoch 27/50\n",
      "20/20 [==============================] - 1s 62ms/step - loss: 1.2989 - recall_3: 0.9185 - val_loss: 1.4753 - val_recall_3: 1.0000\n",
      "Epoch 28/50\n",
      "20/20 [==============================] - 1s 66ms/step - loss: 1.2930 - recall_3: 0.9442 - val_loss: 1.3713 - val_recall_3: 1.0000\n",
      "Epoch 29/50\n",
      "20/20 [==============================] - 1s 66ms/step - loss: 1.2772 - recall_3: 0.9142 - val_loss: 1.3406 - val_recall_3: 1.0000\n",
      "Epoch 30/50\n",
      "20/20 [==============================] - 1s 63ms/step - loss: 1.2424 - recall_3: 0.9313 - val_loss: 1.3064 - val_recall_3: 0.9060\n",
      "Epoch 31/50\n",
      "20/20 [==============================] - 1s 62ms/step - loss: 1.2494 - recall_3: 0.9464 - val_loss: 1.3331 - val_recall_3: 1.0000\n",
      "Epoch 32/50\n",
      "20/20 [==============================] - 1s 63ms/step - loss: 1.2539 - recall_3: 0.9378 - val_loss: 1.2485 - val_recall_3: 0.9658\n",
      "Epoch 33/50\n",
      "20/20 [==============================] - 1s 64ms/step - loss: 1.3450 - recall_3: 0.9442 - val_loss: 1.3163 - val_recall_3: 0.9744\n",
      "Epoch 34/50\n",
      "20/20 [==============================] - 1s 64ms/step - loss: 1.3510 - recall_3: 0.9013 - val_loss: 1.2524 - val_recall_3: 0.9658\n",
      "Epoch 35/50\n",
      "20/20 [==============================] - 1s 74ms/step - loss: 1.2388 - recall_3: 0.9442 - val_loss: 1.5992 - val_recall_3: 0.4359\n",
      "Epoch 36/50\n",
      "20/20 [==============================] - 1s 67ms/step - loss: 1.1849 - recall_3: 0.9270 - val_loss: 1.2655 - val_recall_3: 0.8376\n",
      "Epoch 37/50\n",
      "20/20 [==============================] - 1s 61ms/step - loss: 1.2362 - recall_3: 0.9657 - val_loss: 1.2667 - val_recall_3: 0.9573\n",
      "Epoch 38/50\n",
      "20/20 [==============================] - 1s 61ms/step - loss: 1.2493 - recall_3: 0.8884 - val_loss: 1.2709 - val_recall_3: 1.0000\n",
      "Epoch 39/50\n",
      "20/20 [==============================] - 1s 61ms/step - loss: 1.3177 - recall_3: 0.8884 - val_loss: 1.4035 - val_recall_3: 1.0000\n",
      "Epoch 40/50\n",
      "20/20 [==============================] - 1s 60ms/step - loss: 1.3943 - recall_3: 0.9549 - val_loss: 1.4856 - val_recall_3: 1.0000\n",
      "Epoch 41/50\n",
      "20/20 [==============================] - 1s 67ms/step - loss: 1.3276 - recall_3: 0.9592 - val_loss: 1.5397 - val_recall_3: 0.4957\n",
      "Epoch 42/50\n",
      "20/20 [==============================] - 1s 69ms/step - loss: 1.3919 - recall_3: 0.8820 - val_loss: 1.3843 - val_recall_3: 1.0000\n"
     ]
    }
   ],
   "source": [
    "model4.compile(optimizer='sgd',\n",
    "              loss='binary_crossentropy',\n",
    "              metrics=[tf.keras.metrics.Recall()])\n",
    "\n",
    "results4 = model4.fit(X_train, \n",
    "                    y_train,\n",
    "                    callbacks=early_stopping,\n",
    "                    epochs=50,\n",
    "                    batch_size=32,\n",
    "                    validation_data=(X_val, y_val))"
   ]
  },
  {
   "cell_type": "code",
   "execution_count": 39,
   "metadata": {},
   "outputs": [
    {
     "data": {
      "image/png": "[encoded data removed]",
      "text/plain": [
       "<Figure size 432x288 with 1 Axes>"
      ]
     },
     "metadata": {
      "needs_background": "light"
     },
     "output_type": "display_data"
    }
   ],
   "source": [
    "visualize_results(results4)"
   ]
  },
  {
   "cell_type": "markdown",
   "metadata": {},
   "source": [
    "#### Insight: the curve variablity has improved! Will reduce model complexity to reduce the loss function and train the model against the entire training set"
   ]
  },
  {
   "cell_type": "code",
   "execution_count": null,
   "metadata": {},
   "outputs": [],
   "source": []
  }
 ],
 "metadata": {
  "kernelspec": {
   "display_name": "Python 3",
   "language": "python",
   "name": "python3"
  },
  "language_info": {
   "codemirror_mode": {
    "name": "ipython",
    "version": 3
   },
   "file_extension": ".py",
   "mimetype": "text/x-python",
   "name": "python",
   "nbconvert_exporter": "python",
   "pygments_lexer": "ipython3",
   "version": "3.8.5"
  }
 },
 "nbformat": 4,
 "nbformat_minor": 4
}
