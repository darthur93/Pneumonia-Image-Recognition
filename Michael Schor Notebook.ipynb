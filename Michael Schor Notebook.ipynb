{
 "cells": [
  {
   "cell_type": "markdown",
   "metadata": {},
   "source": [
    "# Michael Schor Notebook"
   ]
  },
  {
   "cell_type": "markdown",
   "metadata": {},
   "source": [
    "## Dependencies"
   ]
  },
  {
   "cell_type": "code",
   "execution_count": 1,
   "metadata": {},
   "outputs": [
    {
     "name": "stdout",
     "output_type": "stream",
     "text": [
      "Requirement already satisfied: pillow in c:\\users\\micha\\anaconda3\\envs\\learn-env\\lib\\site-packages (8.0.0)\n"
     ]
    }
   ],
   "source": [
    "!pip install pillow"
   ]
  },
  {
   "cell_type": "code",
   "execution_count": 1,
   "metadata": {},
   "outputs": [],
   "source": [
    "import pandas as pd\n",
    "import numpy as np\n",
    "import matplotlib.pyplot as plt\n",
    "import os\n",
    "\n",
    "from sklearn.model_selection import train_test_split\n",
    "\n",
    "from keras.preprocessing.image import ImageDataGenerator, array_to_img, img_to_array, load_img\n",
    "from keras import models\n",
    "from keras import layers\n",
    "from keras.callbacks import EarlyStopping, ModelCheckpoint"
   ]
  },
  {
   "cell_type": "code",
   "execution_count": 2,
   "metadata": {},
   "outputs": [
    {
     "name": "stdout",
     "output_type": "stream",
     "text": [
      "Found 624 images belonging to 2 classes.\n",
      "Found 5232 images belonging to 2 classes.\n"
     ]
    }
   ],
   "source": [
    "train_data_dir = 'ZhangLabData/CellData/chest_xray/train'\n",
    "test_data_dir = 'ZhangLabData/CellData/chest_xray/test'\n",
    "\n",
    "#Get all the data in the directory data/validation (132 images), and reshape them\n",
    "test_generator = ImageDataGenerator().flow_from_directory(\n",
    "       test_data_dir, \n",
    "       target_size=(64, 64), batch_size=132)\n",
    "\n",
    "#Get all the data in the directory data/train (790 images), and reshape them\n",
    "train_generator = ImageDataGenerator().flow_from_directory(\n",
    "       train_data_dir, \n",
    "       target_size=(64, 64), batch_size=790)\n",
    "\n",
    "#Create the datasets\n",
    "train_images, train_labels = next(train_generator)\n",
    "test_images, test_labels = next(test_generator)"
   ]
  },
  {
   "cell_type": "markdown",
   "metadata": {},
   "source": [
    "## Create validation set from training set"
   ]
  },
  {
   "cell_type": "code",
   "execution_count": 3,
   "metadata": {},
   "outputs": [],
   "source": [
    "X = train_images\n",
    "y = train_labels\n",
    "\n",
    "X_train, X_val, y_train, y_val = train_test_split(X, y, test_size=0.2, random_state=42)"
   ]
  },
  {
   "cell_type": "code",
   "execution_count": 4,
   "metadata": {},
   "outputs": [
    {
     "data": {
      "image/png": "[encoded data removed]",
      "text/plain": [
       "<PIL.Image.Image image mode=RGB size=64x64 at 0x276F4022DF0>"
      ]
     },
     "execution_count": 4,
     "metadata": {},
     "output_type": "execute_result"
    }
   ],
   "source": [
    "array_to_img(train_images[0])"
   ]
  },
  {
   "cell_type": "code",
   "execution_count": 5,
   "metadata": {},
   "outputs": [
    {
     "name": "stdout",
     "output_type": "stream",
     "text": [
      "[1. 0.]\n"
     ]
    }
   ],
   "source": [
    "print(train_labels[0])"
   ]
  },
  {
   "cell_type": "code",
   "execution_count": 6,
   "metadata": {},
   "outputs": [
    {
     "data": {
      "image/png": "[encoded data removed]",
      "text/plain": [
       "<PIL.Image.Image image mode=RGB size=64x64 at 0x276EE35B3A0>"
      ]
     },
     "execution_count": 6,
     "metadata": {},
     "output_type": "execute_result"
    }
   ],
   "source": [
    "array_to_img(train_images[90])"
   ]
  },
  {
   "cell_type": "code",
   "execution_count": 7,
   "metadata": {},
   "outputs": [
    {
     "name": "stdout",
     "output_type": "stream",
     "text": [
      "[1. 0.]\n"
     ]
    }
   ],
   "source": [
    "print(train_labels[90])"
   ]
  },
  {
   "cell_type": "code",
   "execution_count": 9,
   "metadata": {},
   "outputs": [
    {
     "name": "stdout",
     "output_type": "stream",
     "text": [
      "train images shape:  (632, 64, 64, 3)\n",
      "train labels shape:  (632, 2)\n",
      "test images shape:  (158, 64, 64, 3)\n",
      "test labels shape:  (158, 2)\n"
     ]
    }
   ],
   "source": [
    "print('train images shape: ',np.shape(X_train))\n",
    "print('train labels shape: ',np.shape(y_train))\n",
    "print('test images shape: ',np.shape(X_val))\n",
    "print('test labels shape: ',np.shape(y_val))"
   ]
  },
  {
   "cell_type": "code",
   "execution_count": 10,
   "metadata": {},
   "outputs": [
    {
     "data": {
      "text/plain": [
       "(632, 12288)"
      ]
     },
     "execution_count": 10,
     "metadata": {},
     "output_type": "execute_result"
    }
   ],
   "source": [
    "#train set\n",
    "X_train_unrow = X_train.reshape(632, -1)\n",
    "X_train_unrow.shape"
   ]
  },
  {
   "cell_type": "code",
   "execution_count": 11,
   "metadata": {},
   "outputs": [
    {
     "data": {
      "text/plain": [
       "(158, 12288)"
      ]
     },
     "execution_count": 11,
     "metadata": {},
     "output_type": "execute_result"
    }
   ],
   "source": [
    "#test set\n",
    "X_val_unrow = X_val.reshape(158, -1)\n",
    "X_val_unrow.shape"
   ]
  },
  {
   "cell_type": "code",
   "execution_count": 12,
   "metadata": {},
   "outputs": [
    {
     "data": {
      "text/plain": [
       "array([[1., 0.],\n",
       "       [0., 1.],\n",
       "       [1., 0.],\n",
       "       ...,\n",
       "       [0., 1.],\n",
       "       [1., 0.],\n",
       "       [0., 1.]], dtype=float32)"
      ]
     },
     "execution_count": 12,
     "metadata": {},
     "output_type": "execute_result"
    }
   ],
   "source": [
    "y_train"
   ]
  },
  {
   "cell_type": "code",
   "execution_count": 13,
   "metadata": {},
   "outputs": [
    {
     "data": {
      "text/plain": [
       "{'NORMAL': 0, 'PNEUMONIA': 1}"
      ]
     },
     "execution_count": 13,
     "metadata": {},
     "output_type": "execute_result"
    }
   ],
   "source": [
    "train_generator.class_indices"
   ]
  },
  {
   "cell_type": "code",
   "execution_count": 14,
   "metadata": {},
   "outputs": [],
   "source": [
    "#training set\n",
    "y_train_labels_final = np.reshape(y_train[:,0], (632,1))"
   ]
  },
  {
   "cell_type": "code",
   "execution_count": 15,
   "metadata": {},
   "outputs": [
    {
     "data": {
      "text/plain": [
       "(632, 1)"
      ]
     },
     "execution_count": 15,
     "metadata": {},
     "output_type": "execute_result"
    }
   ],
   "source": [
    "np.shape(y_train_labels_final)"
   ]
  },
  {
   "cell_type": "code",
   "execution_count": 16,
   "metadata": {},
   "outputs": [],
   "source": [
    "y_val_labels_final = np.reshape(y_val[:,0], (158,1))"
   ]
  },
  {
   "cell_type": "code",
   "execution_count": 18,
   "metadata": {},
   "outputs": [
    {
     "data": {
      "text/plain": [
       "(158, 1)"
      ]
     },
     "execution_count": 18,
     "metadata": {},
     "output_type": "execute_result"
    }
   ],
   "source": [
    "np.shape(y_val_labels_final) "
   ]
  },
  {
   "cell_type": "code",
   "execution_count": 19,
   "metadata": {},
   "outputs": [
    {
     "data": {
      "text/plain": [
       "numpy.ndarray"
      ]
     },
     "execution_count": 19,
     "metadata": {},
     "output_type": "execute_result"
    }
   ],
   "source": [
    "#scaling the data\n",
    "X_train_img_final = X_train_unrow/255\n",
    "X_val_img_final = X_val_unrow/255\n",
    "\n",
    "type(X_val_img_final)"
   ]
  },
  {
   "cell_type": "code",
   "execution_count": 20,
   "metadata": {},
   "outputs": [
    {
     "name": "stdout",
     "output_type": "stream",
     "text": [
      "(632, 12288)\n",
      "(158, 12288)\n"
     ]
    }
   ],
   "source": [
    "print(X_train_img_final.shape)\n",
    "print(X_val_img_final.shape)"
   ]
  },
  {
   "cell_type": "markdown",
   "metadata": {},
   "source": [
    "## Baseline Model"
   ]
  },
  {
   "cell_type": "code",
   "execution_count": 21,
   "metadata": {},
   "outputs": [],
   "source": [
    "np.random.seed(42)\n",
    "model = models.Sequential()\n",
    "model.add(layers.Dense(63, activation='tanh', input_shape=(12288,)))\n",
    "model.add(layers.Dense(42, activation='tanh'))\n",
    "model.add(layers.Dense(21, activation='tanh'))\n",
    "model.add(layers.Dense(1, activation='sigmoid')) #output layer, binary classification"
   ]
  },
  {
   "cell_type": "code",
   "execution_count": 22,
   "metadata": {},
   "outputs": [
    {
     "name": "stdout",
     "output_type": "stream",
     "text": [
      "Epoch 1/50\n",
      "20/20 [==============================] - 0s 10ms/step - loss: 0.5969 - accuracy: 0.7168 - val_loss: 0.4976 - val_accuracy: 0.7848\n",
      "Epoch 2/50\n",
      "20/20 [==============================] - 0s 3ms/step - loss: 0.5305 - accuracy: 0.7326 - val_loss: 0.5064 - val_accuracy: 0.7848\n",
      "Epoch 3/50\n",
      "20/20 [==============================] - 0s 3ms/step - loss: 0.5117 - accuracy: 0.7500 - val_loss: 0.4582 - val_accuracy: 0.7848\n",
      "Epoch 4/50\n",
      "20/20 [==============================] - 0s 3ms/step - loss: 0.5000 - accuracy: 0.7453 - val_loss: 0.4186 - val_accuracy: 0.7848\n",
      "Epoch 5/50\n",
      "20/20 [==============================] - 0s 3ms/step - loss: 0.4775 - accuracy: 0.7785 - val_loss: 0.3934 - val_accuracy: 0.9304\n",
      "Epoch 6/50\n",
      "20/20 [==============================] - 0s 4ms/step - loss: 0.4169 - accuracy: 0.8244 - val_loss: 0.4584 - val_accuracy: 0.7848\n",
      "Epoch 7/50\n",
      "20/20 [==============================] - 0s 3ms/step - loss: 0.4515 - accuracy: 0.8212 - val_loss: 0.3199 - val_accuracy: 0.9304\n",
      "Epoch 8/50\n",
      "20/20 [==============================] - 0s 3ms/step - loss: 0.3950 - accuracy: 0.8402 - val_loss: 0.3554 - val_accuracy: 0.8291\n",
      "Epoch 9/50\n",
      "20/20 [==============================] - 0s 3ms/step - loss: 0.3983 - accuracy: 0.8165 - val_loss: 0.2494 - val_accuracy: 0.9430\n",
      "Epoch 10/50\n",
      "20/20 [==============================] - 0s 3ms/step - loss: 0.3686 - accuracy: 0.8528 - val_loss: 0.2321 - val_accuracy: 0.9430\n",
      "Epoch 11/50\n",
      "20/20 [==============================] - 0s 3ms/step - loss: 0.3143 - accuracy: 0.8782 - val_loss: 0.2843 - val_accuracy: 0.8924\n",
      "Epoch 12/50\n",
      "20/20 [==============================] - 0s 3ms/step - loss: 0.3067 - accuracy: 0.8829 - val_loss: 0.1905 - val_accuracy: 0.9557\n",
      "Epoch 13/50\n",
      "20/20 [==============================] - 0s 3ms/step - loss: 0.3238 - accuracy: 0.8703 - val_loss: 0.2134 - val_accuracy: 0.9241\n",
      "Epoch 14/50\n",
      "20/20 [==============================] - 0s 3ms/step - loss: 0.2893 - accuracy: 0.8972 - val_loss: 0.2014 - val_accuracy: 0.9430\n",
      "Epoch 15/50\n",
      "20/20 [==============================] - 0s 3ms/step - loss: 0.2901 - accuracy: 0.8861 - val_loss: 0.3163 - val_accuracy: 0.8544\n",
      "Epoch 16/50\n",
      "20/20 [==============================] - 0s 3ms/step - loss: 0.3051 - accuracy: 0.8797 - val_loss: 0.1621 - val_accuracy: 0.9620\n",
      "Epoch 17/50\n",
      "20/20 [==============================] - 0s 3ms/step - loss: 0.3330 - accuracy: 0.8718 - val_loss: 0.1891 - val_accuracy: 0.9304\n",
      "Epoch 18/50\n",
      "20/20 [==============================] - 0s 3ms/step - loss: 0.2811 - accuracy: 0.8813 - val_loss: 0.1758 - val_accuracy: 0.9494\n",
      "Epoch 19/50\n",
      "20/20 [==============================] - 0s 3ms/step - loss: 0.1858 - accuracy: 0.9446 - val_loss: 0.1695 - val_accuracy: 0.9430\n",
      "Epoch 20/50\n",
      "20/20 [==============================] - 0s 3ms/step - loss: 0.2050 - accuracy: 0.9177 - val_loss: 0.1402 - val_accuracy: 0.9620\n",
      "Epoch 21/50\n",
      "20/20 [==============================] - 0s 3ms/step - loss: 0.2936 - accuracy: 0.8671 - val_loss: 0.1393 - val_accuracy: 0.9620\n",
      "Epoch 22/50\n",
      "20/20 [==============================] - 0s 3ms/step - loss: 0.1707 - accuracy: 0.9399 - val_loss: 0.1454 - val_accuracy: 0.9494\n",
      "Epoch 23/50\n",
      "20/20 [==============================] - 0s 3ms/step - loss: 0.2469 - accuracy: 0.8956 - val_loss: 0.1642 - val_accuracy: 0.9494\n",
      "Epoch 24/50\n",
      "20/20 [==============================] - 0s 3ms/step - loss: 0.1868 - accuracy: 0.9304 - val_loss: 0.2636 - val_accuracy: 0.8861\n",
      "Epoch 25/50\n",
      "20/20 [==============================] - 0s 3ms/step - loss: 0.2036 - accuracy: 0.9193 - val_loss: 0.1588 - val_accuracy: 0.9494\n",
      "Epoch 26/50\n",
      "20/20 [==============================] - 0s 3ms/step - loss: 0.2245 - accuracy: 0.9130 - val_loss: 0.1491 - val_accuracy: 0.9557\n",
      "Epoch 27/50\n",
      "20/20 [==============================] - 0s 3ms/step - loss: 0.2571 - accuracy: 0.8987 - val_loss: 0.4291 - val_accuracy: 0.8291\n",
      "Epoch 28/50\n",
      "20/20 [==============================] - 0s 3ms/step - loss: 0.1894 - accuracy: 0.9209 - val_loss: 0.7324 - val_accuracy: 0.6013\n",
      "Epoch 29/50\n",
      "20/20 [==============================] - 0s 3ms/step - loss: 0.2781 - accuracy: 0.8813 - val_loss: 0.3535 - val_accuracy: 0.8228\n",
      "Epoch 30/50\n",
      "20/20 [==============================] - 0s 3ms/step - loss: 0.2429 - accuracy: 0.9082 - val_loss: 0.1606 - val_accuracy: 0.9367\n",
      "Epoch 31/50\n",
      "20/20 [==============================] - 0s 3ms/step - loss: 0.1772 - accuracy: 0.9415 - val_loss: 0.1902 - val_accuracy: 0.9304\n",
      "Epoch 32/50\n",
      "20/20 [==============================] - 0s 3ms/step - loss: 0.2219 - accuracy: 0.9051 - val_loss: 0.3253 - val_accuracy: 0.8544\n",
      "Epoch 33/50\n",
      "20/20 [==============================] - 0s 3ms/step - loss: 0.1763 - accuracy: 0.9399 - val_loss: 0.1238 - val_accuracy: 0.9557\n",
      "Epoch 34/50\n",
      "20/20 [==============================] - 0s 3ms/step - loss: 0.1986 - accuracy: 0.9177 - val_loss: 0.1713 - val_accuracy: 0.9304\n",
      "Epoch 35/50\n",
      "20/20 [==============================] - 0s 3ms/step - loss: 0.2030 - accuracy: 0.9256 - val_loss: 0.1323 - val_accuracy: 0.9494\n",
      "Epoch 36/50\n",
      "20/20 [==============================] - 0s 3ms/step - loss: 0.1555 - accuracy: 0.9446 - val_loss: 0.1187 - val_accuracy: 0.9620\n",
      "Epoch 37/50\n",
      "20/20 [==============================] - 0s 3ms/step - loss: 0.1551 - accuracy: 0.9446 - val_loss: 0.1231 - val_accuracy: 0.9557\n",
      "Epoch 38/50\n",
      "20/20 [==============================] - 0s 3ms/step - loss: 0.1810 - accuracy: 0.9399 - val_loss: 0.1321 - val_accuracy: 0.9494\n",
      "Epoch 39/50\n",
      "20/20 [==============================] - 0s 3ms/step - loss: 0.1959 - accuracy: 0.9114 - val_loss: 0.2944 - val_accuracy: 0.8608\n",
      "Epoch 40/50\n",
      "20/20 [==============================] - 0s 3ms/step - loss: 0.1797 - accuracy: 0.9288 - val_loss: 0.1637 - val_accuracy: 0.9494\n",
      "Epoch 41/50\n",
      "20/20 [==============================] - 0s 3ms/step - loss: 0.1651 - accuracy: 0.9383 - val_loss: 0.1550 - val_accuracy: 0.9367\n",
      "Epoch 42/50\n",
      "20/20 [==============================] - 0s 3ms/step - loss: 0.1722 - accuracy: 0.9320 - val_loss: 0.6907 - val_accuracy: 0.6835\n",
      "Epoch 43/50\n",
      "20/20 [==============================] - 0s 3ms/step - loss: 0.1879 - accuracy: 0.9177 - val_loss: 0.1158 - val_accuracy: 0.9620\n",
      "Epoch 44/50\n",
      "20/20 [==============================] - 0s 4ms/step - loss: 0.1853 - accuracy: 0.9335 - val_loss: 0.1654 - val_accuracy: 0.9430\n",
      "Epoch 45/50\n",
      "20/20 [==============================] - 0s 3ms/step - loss: 0.1301 - accuracy: 0.9541 - val_loss: 0.2412 - val_accuracy: 0.9114\n",
      "Epoch 46/50\n",
      "20/20 [==============================] - 0s 3ms/step - loss: 0.1265 - accuracy: 0.9573 - val_loss: 0.1164 - val_accuracy: 0.9620\n",
      "Epoch 47/50\n",
      "20/20 [==============================] - 0s 3ms/step - loss: 0.1736 - accuracy: 0.9367 - val_loss: 0.1208 - val_accuracy: 0.9557\n",
      "Epoch 48/50\n",
      "20/20 [==============================] - 0s 3ms/step - loss: 0.1175 - accuracy: 0.9589 - val_loss: 0.1522 - val_accuracy: 0.9494\n",
      "Epoch 49/50\n",
      "20/20 [==============================] - 0s 3ms/step - loss: 0.1472 - accuracy: 0.9494 - val_loss: 0.1192 - val_accuracy: 0.9557\n",
      "Epoch 50/50\n",
      "20/20 [==============================] - 0s 3ms/step - loss: 0.1433 - accuracy: 0.9494 - val_loss: 0.1169 - val_accuracy: 0.9620\n"
     ]
    }
   ],
   "source": [
    "model.compile(optimizer='sgd',\n",
    "              loss='binary_crossentropy',\n",
    "              metrics=['accuracy'])\n",
    "\n",
    "results = model.fit(X_train_img_final,\n",
    "                    y_train_labels_final,\n",
    "                    epochs=50,\n",
    "                    batch_size=32,\n",
    "                    validation_data=(X_val_img_final, y_val_labels_final))"
   ]
  },
  {
   "cell_type": "code",
   "execution_count": 23,
   "metadata": {},
   "outputs": [
    {
     "name": "stdout",
     "output_type": "stream",
     "text": [
      "20/20 [==============================] - 0s 1ms/step - loss: 0.1011 - accuracy: 0.9684\n"
     ]
    }
   ],
   "source": [
    "results_train = model.evaluate(X_train_img_final, y_train_labels_final)"
   ]
  },
  {
   "cell_type": "code",
   "execution_count": 24,
   "metadata": {},
   "outputs": [
    {
     "name": "stdout",
     "output_type": "stream",
     "text": [
      "5/5 [==============================] - 0s 1ms/step - loss: 0.1169 - accuracy: 0.9620\n"
     ]
    }
   ],
   "source": [
    "results_val = model.evaluate(X_val_img_final, y_val_labels_final)"
   ]
  },
  {
   "cell_type": "markdown",
   "metadata": {},
   "source": [
    "#### Training accuracy = 0.9797. Test acc = 0.8030. Subsequent models must improve these thresholds."
   ]
  },
  {
   "cell_type": "code",
   "execution_count": 25,
   "metadata": {},
   "outputs": [],
   "source": [
    "#plot acc vs loss for train and test set\n",
    "def visualize_results(results):\n",
    "    history = results.history\n",
    "    plt.figure()\n",
    "    plt.plot(history['val_loss'])\n",
    "    plt.plot(history['loss'])\n",
    "    plt.legend(['val_loss', 'loss'])\n",
    "    plt.title('Loss')\n",
    "    plt.xlabel('Epochs')\n",
    "    plt.ylabel('Loss')\n",
    "    plt.show();"
   ]
  },
  {
   "cell_type": "code",
   "execution_count": 26,
   "metadata": {},
   "outputs": [
    {
     "data": {
      "image/png": "[encoded data removed]",
      "text/plain": [
       "<Figure size 432x288 with 1 Axes>"
      ]
     },
     "metadata": {
      "needs_background": "light"
     },
     "output_type": "display_data"
    }
   ],
   "source": [
    "visualize_results(results)"
   ]
  },
  {
   "cell_type": "markdown",
   "metadata": {},
   "source": [
    "Insight: according to the Loss plot, there is significant overfitting of the model due to the high variation of the validation curve, as well as the divergence of the two curves themselves. Any subsequent models must reduce the variance and overfitting of the baseline model.\n",
    "\n",
    "For CNN: create convolution filter, padding (and maybe striding?) and pooling layer (if there are too many features)"
   ]
  },
  {
   "cell_type": "code",
   "execution_count": 27,
   "metadata": {},
   "outputs": [],
   "source": [
    "np.random.seed(42)\n",
    "model2 = models.Sequential()\n",
    "model2.add(layers.Dense(63, activation='softmax', input_shape=(12288,)))\n",
    "model2.add(layers.Dense(42, activation='softmax'))\n",
    "model2.add(layers.Dense(21, activation='softmax'))\n",
    "model2.add(layers.Dense(1, activation='sigmoid')) #output layer, binary classification"
   ]
  },
  {
   "cell_type": "code",
   "execution_count": 28,
   "metadata": {},
   "outputs": [
    {
     "name": "stdout",
     "output_type": "stream",
     "text": [
      "Epoch 1/50\n",
      "20/20 [==============================] - 0s 7ms/step - loss: 0.6868 - accuracy: 0.7358 - val_loss: 0.6785 - val_accuracy: 0.7848\n",
      "Epoch 2/50\n",
      "20/20 [==============================] - 0s 3ms/step - loss: 0.6763 - accuracy: 0.7358 - val_loss: 0.6662 - val_accuracy: 0.7848\n",
      "Epoch 3/50\n",
      "20/20 [==============================] - 0s 3ms/step - loss: 0.6668 - accuracy: 0.7358 - val_loss: 0.6552 - val_accuracy: 0.7848\n",
      "Epoch 4/50\n",
      "20/20 [==============================] - 0s 3ms/step - loss: 0.6583 - accuracy: 0.7358 - val_loss: 0.6451 - val_accuracy: 0.7848\n",
      "Epoch 5/50\n",
      "20/20 [==============================] - 0s 3ms/step - loss: 0.6507 - accuracy: 0.7358 - val_loss: 0.6359 - val_accuracy: 0.7848\n",
      "Epoch 6/50\n",
      "20/20 [==============================] - 0s 3ms/step - loss: 0.6437 - accuracy: 0.7358 - val_loss: 0.6276 - val_accuracy: 0.7848\n",
      "Epoch 7/50\n",
      "20/20 [==============================] - 0s 3ms/step - loss: 0.6375 - accuracy: 0.7358 - val_loss: 0.6199 - val_accuracy: 0.7848\n",
      "Epoch 8/50\n",
      "20/20 [==============================] - 0s 3ms/step - loss: 0.6319 - accuracy: 0.7358 - val_loss: 0.6130 - val_accuracy: 0.7848\n",
      "Epoch 9/50\n",
      "20/20 [==============================] - 0s 3ms/step - loss: 0.6269 - accuracy: 0.7358 - val_loss: 0.6066 - val_accuracy: 0.7848\n",
      "Epoch 10/50\n",
      "20/20 [==============================] - 0s 3ms/step - loss: 0.6223 - accuracy: 0.7358 - val_loss: 0.6009 - val_accuracy: 0.7848\n",
      "Epoch 11/50\n",
      "20/20 [==============================] - 0s 3ms/step - loss: 0.6182 - accuracy: 0.7358 - val_loss: 0.5956 - val_accuracy: 0.7848\n",
      "Epoch 12/50\n",
      "20/20 [==============================] - 0s 3ms/step - loss: 0.6145 - accuracy: 0.7358 - val_loss: 0.5907 - val_accuracy: 0.7848\n",
      "Epoch 13/50\n",
      "20/20 [==============================] - 0s 4ms/step - loss: 0.6111 - accuracy: 0.7358 - val_loss: 0.5862 - val_accuracy: 0.7848\n",
      "Epoch 14/50\n",
      "20/20 [==============================] - 0s 4ms/step - loss: 0.6080 - accuracy: 0.7358 - val_loss: 0.5821 - val_accuracy: 0.7848\n",
      "Epoch 15/50\n",
      "20/20 [==============================] - 0s 4ms/step - loss: 0.6053 - accuracy: 0.7358 - val_loss: 0.5784 - val_accuracy: 0.7848\n",
      "Epoch 16/50\n",
      "20/20 [==============================] - 0s 3ms/step - loss: 0.6028 - accuracy: 0.7358 - val_loss: 0.5749 - val_accuracy: 0.7848\n",
      "Epoch 17/50\n",
      "20/20 [==============================] - 0s 3ms/step - loss: 0.6006 - accuracy: 0.7358 - val_loss: 0.5717 - val_accuracy: 0.7848\n",
      "Epoch 18/50\n",
      "20/20 [==============================] - 0s 3ms/step - loss: 0.5985 - accuracy: 0.7358 - val_loss: 0.5688 - val_accuracy: 0.7848\n",
      "Epoch 19/50\n",
      "20/20 [==============================] - 0s 3ms/step - loss: 0.5967 - accuracy: 0.7358 - val_loss: 0.5661 - val_accuracy: 0.7848\n",
      "Epoch 20/50\n",
      "20/20 [==============================] - 0s 3ms/step - loss: 0.5949 - accuracy: 0.7358 - val_loss: 0.5636 - val_accuracy: 0.7848\n",
      "Epoch 21/50\n",
      "20/20 [==============================] - 0s 4ms/step - loss: 0.5934 - accuracy: 0.7358 - val_loss: 0.5613 - val_accuracy: 0.7848\n",
      "Epoch 22/50\n",
      "20/20 [==============================] - 0s 3ms/step - loss: 0.5921 - accuracy: 0.7358 - val_loss: 0.5591 - val_accuracy: 0.7848\n",
      "Epoch 23/50\n",
      "20/20 [==============================] - 0s 3ms/step - loss: 0.5908 - accuracy: 0.7358 - val_loss: 0.5572 - val_accuracy: 0.7848\n",
      "Epoch 24/50\n",
      "20/20 [==============================] - 0s 3ms/step - loss: 0.5896 - accuracy: 0.7358 - val_loss: 0.5553 - val_accuracy: 0.7848\n",
      "Epoch 25/50\n",
      "20/20 [==============================] - 0s 3ms/step - loss: 0.5886 - accuracy: 0.7358 - val_loss: 0.5536 - val_accuracy: 0.7848\n",
      "Epoch 26/50\n",
      "20/20 [==============================] - 0s 3ms/step - loss: 0.5876 - accuracy: 0.7358 - val_loss: 0.5520 - val_accuracy: 0.7848\n",
      "Epoch 27/50\n",
      "20/20 [==============================] - 0s 3ms/step - loss: 0.5868 - accuracy: 0.7358 - val_loss: 0.5506 - val_accuracy: 0.7848\n",
      "Epoch 28/50\n",
      "20/20 [==============================] - 0s 3ms/step - loss: 0.5860 - accuracy: 0.7358 - val_loss: 0.5491 - val_accuracy: 0.7848\n",
      "Epoch 29/50\n",
      "20/20 [==============================] - 0s 3ms/step - loss: 0.5852 - accuracy: 0.7358 - val_loss: 0.5478 - val_accuracy: 0.7848\n",
      "Epoch 30/50\n",
      "20/20 [==============================] - 0s 3ms/step - loss: 0.5846 - accuracy: 0.7358 - val_loss: 0.5466 - val_accuracy: 0.7848\n",
      "Epoch 31/50\n",
      "20/20 [==============================] - 0s 3ms/step - loss: 0.5840 - accuracy: 0.7358 - val_loss: 0.5456 - val_accuracy: 0.7848\n",
      "Epoch 32/50\n",
      "20/20 [==============================] - 0s 3ms/step - loss: 0.5834 - accuracy: 0.7358 - val_loss: 0.5445 - val_accuracy: 0.7848\n",
      "Epoch 33/50\n",
      "20/20 [==============================] - 0s 3ms/step - loss: 0.5829 - accuracy: 0.7358 - val_loss: 0.5436 - val_accuracy: 0.7848\n",
      "Epoch 34/50\n",
      "20/20 [==============================] - 0s 3ms/step - loss: 0.5825 - accuracy: 0.7358 - val_loss: 0.5426 - val_accuracy: 0.7848\n",
      "Epoch 35/50\n",
      "20/20 [==============================] - 0s 3ms/step - loss: 0.5820 - accuracy: 0.7358 - val_loss: 0.5418 - val_accuracy: 0.7848\n",
      "Epoch 36/50\n",
      "20/20 [==============================] - 0s 4ms/step - loss: 0.5817 - accuracy: 0.7358 - val_loss: 0.5410 - val_accuracy: 0.7848\n",
      "Epoch 37/50\n",
      "20/20 [==============================] - 0s 3ms/step - loss: 0.5813 - accuracy: 0.7358 - val_loss: 0.5403 - val_accuracy: 0.7848\n",
      "Epoch 38/50\n",
      "20/20 [==============================] - 0s 3ms/step - loss: 0.5810 - accuracy: 0.7358 - val_loss: 0.5396 - val_accuracy: 0.7848\n",
      "Epoch 39/50\n",
      "20/20 [==============================] - 0s 3ms/step - loss: 0.5807 - accuracy: 0.7358 - val_loss: 0.5389 - val_accuracy: 0.7848\n",
      "Epoch 40/50\n",
      "20/20 [==============================] - 0s 3ms/step - loss: 0.5804 - accuracy: 0.7358 - val_loss: 0.5383 - val_accuracy: 0.7848\n",
      "Epoch 41/50\n",
      "20/20 [==============================] - 0s 3ms/step - loss: 0.5802 - accuracy: 0.7358 - val_loss: 0.5377 - val_accuracy: 0.7848\n",
      "Epoch 42/50\n",
      "20/20 [==============================] - 0s 3ms/step - loss: 0.5799 - accuracy: 0.7358 - val_loss: 0.5371 - val_accuracy: 0.7848\n",
      "Epoch 43/50\n",
      "20/20 [==============================] - 0s 3ms/step - loss: 0.5797 - accuracy: 0.7358 - val_loss: 0.5366 - val_accuracy: 0.7848\n",
      "Epoch 44/50\n",
      "20/20 [==============================] - 0s 3ms/step - loss: 0.5796 - accuracy: 0.7358 - val_loss: 0.5362 - val_accuracy: 0.7848\n",
      "Epoch 45/50\n",
      "20/20 [==============================] - 0s 3ms/step - loss: 0.5794 - accuracy: 0.7358 - val_loss: 0.5357 - val_accuracy: 0.7848\n",
      "Epoch 46/50\n",
      "20/20 [==============================] - 0s 3ms/step - loss: 0.5793 - accuracy: 0.7358 - val_loss: 0.5353 - val_accuracy: 0.7848\n",
      "Epoch 47/50\n",
      "20/20 [==============================] - 0s 3ms/step - loss: 0.5791 - accuracy: 0.7358 - val_loss: 0.5349 - val_accuracy: 0.7848\n",
      "Epoch 48/50\n",
      "20/20 [==============================] - 0s 3ms/step - loss: 0.5790 - accuracy: 0.7358 - val_loss: 0.5345 - val_accuracy: 0.7848\n",
      "Epoch 49/50\n",
      "20/20 [==============================] - 0s 3ms/step - loss: 0.5788 - accuracy: 0.7358 - val_loss: 0.5342 - val_accuracy: 0.7848\n",
      "Epoch 50/50\n",
      "20/20 [==============================] - 0s 3ms/step - loss: 0.5787 - accuracy: 0.7358 - val_loss: 0.5338 - val_accuracy: 0.7848\n"
     ]
    }
   ],
   "source": [
    "model2.compile(optimizer='sgd',\n",
    "              loss='binary_crossentropy',\n",
    "              metrics=['accuracy'])\n",
    "\n",
    "results2 = model2.fit(X_train_img_final,\n",
    "                    y_train_labels_final,\n",
    "                    epochs=50,\n",
    "                    batch_size=32,\n",
    "                    validation_data=(X_val_img_final, y_val_labels_final))"
   ]
  },
  {
   "cell_type": "code",
   "execution_count": 29,
   "metadata": {},
   "outputs": [
    {
     "name": "stdout",
     "output_type": "stream",
     "text": [
      "20/20 [==============================] - 0s 1ms/step - loss: 0.5787 - accuracy: 0.7358\n"
     ]
    }
   ],
   "source": [
    "results_train2 = model2.evaluate(X_train_img_final, y_train_labels_final)"
   ]
  },
  {
   "cell_type": "code",
   "execution_count": 30,
   "metadata": {},
   "outputs": [
    {
     "name": "stdout",
     "output_type": "stream",
     "text": [
      "5/5 [==============================] - 0s 819us/step - loss: 0.5338 - accuracy: 0.7848\n"
     ]
    }
   ],
   "source": [
    "results_val2 = model2.evaluate(X_val_img_final, y_val_labels_final)"
   ]
  },
  {
   "cell_type": "code",
   "execution_count": 31,
   "metadata": {},
   "outputs": [
    {
     "data": {
      "image/png": "[encoded data removed]",
      "text/plain": [
       "<Figure size 432x288 with 1 Axes>"
      ]
     },
     "metadata": {
      "needs_background": "light"
     },
     "output_type": "display_data"
    }
   ],
   "source": [
    "visualize_results(results2)"
   ]
  },
  {
   "cell_type": "code",
   "execution_count": null,
   "metadata": {},
   "outputs": [],
   "source": []
  }
 ],
 "metadata": {
  "kernelspec": {
   "display_name": "Python 3",
   "language": "python",
   "name": "python3"
  },
  "language_info": {
   "codemirror_mode": {
    "name": "ipython",
    "version": 3
   },
   "file_extension": ".py",
   "mimetype": "text/x-python",
   "name": "python",
   "nbconvert_exporter": "python",
   "pygments_lexer": "ipython3",
   "version": "3.8.5"
  }
 },
 "nbformat": 4,
 "nbformat_minor": 4
}
