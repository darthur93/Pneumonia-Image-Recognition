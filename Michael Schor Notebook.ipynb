{
 "cells": [
  {
   "cell_type": "markdown",
   "metadata": {},
   "source": [
    "# Michael Schor Notebook"
   ]
  },
  {
   "cell_type": "markdown",
   "metadata": {},
   "source": [
    "## Dependencies"
   ]
  },
  {
   "cell_type": "code",
   "execution_count": 1,
   "metadata": {},
   "outputs": [
    {
     "name": "stdout",
     "output_type": "stream",
     "text": [
      "Requirement already satisfied: pillow in c:\\users\\micha\\anaconda3\\envs\\learn-env\\lib\\site-packages (8.0.0)\n"
     ]
    }
   ],
   "source": [
    "!pip install pillow"
   ]
  },
  {
   "cell_type": "code",
   "execution_count": 5,
   "metadata": {},
   "outputs": [],
   "source": [
    "import pandas as pd\n",
    "import numpy as np\n",
    "import matplotlib.pyplot as plt\n",
    "import os\n",
    "\n",
    "from sklearn.model_selection import train_test_split\n",
    "\n",
    "from keras.preprocessing.image import ImageDataGenerator, array_to_img, img_to_array, load_img\n",
    "from keras import models\n",
    "from keras import layers\n",
    "from keras.callbacks import EarlyStopping, ModelCheckpoint"
   ]
  },
  {
   "cell_type": "code",
   "execution_count": 6,
   "metadata": {},
   "outputs": [
    {
     "name": "stdout",
     "output_type": "stream",
     "text": [
      "Found 624 images belonging to 2 classes.\n",
      "Found 5232 images belonging to 2 classes.\n"
     ]
    }
   ],
   "source": [
    "train_data_dir = 'ZhangLabData/CellData/chest_xray/train'\n",
    "test_data_dir = 'ZhangLabData/CellData/chest_xray/test'\n",
    "\n",
    "#Get all the data in the directory data/validation (132 images), and reshape them\n",
    "test_generator = ImageDataGenerator().flow_from_directory(\n",
    "       test_data_dir, \n",
    "       target_size=(64, 64), batch_size=132, color_mode='grayscale', class_mode='binary')\n",
    "\n",
    "#Get all the data in the directory data/train (790 images), and reshape them\n",
    "train_generator = ImageDataGenerator().flow_from_directory(\n",
    "       train_data_dir, \n",
    "       target_size=(64, 64), batch_size=790, color_mode='grayscale', class_mode='binary')\n",
    "\n",
    "#Create the datasets\n",
    "train_images, train_labels = next(train_generator)\n",
    "test_images, test_labels = next(test_generator)"
   ]
  },
  {
   "cell_type": "markdown",
   "metadata": {},
   "source": [
    "## Create validation set from training set"
   ]
  },
  {
   "cell_type": "code",
   "execution_count": 7,
   "metadata": {},
   "outputs": [],
   "source": [
    "X = train_images\n",
    "y = train_labels\n",
    "\n",
    "X_train, X_val, y_train, y_val = train_test_split(X, y, test_size=0.2, random_state=42)"
   ]
  },
  {
   "cell_type": "code",
   "execution_count": 8,
   "metadata": {},
   "outputs": [
    {
     "data": {
      "image/png": "[encoded data removed]",
      "text/plain": [
       "<PIL.Image.Image image mode=L size=64x64 at 0x219A6B9BA00>"
      ]
     },
     "execution_count": 8,
     "metadata": {},
     "output_type": "execute_result"
    }
   ],
   "source": [
    "array_to_img(train_images[0])"
   ]
  },
  {
   "cell_type": "code",
   "execution_count": 9,
   "metadata": {},
   "outputs": [
    {
     "name": "stdout",
     "output_type": "stream",
     "text": [
      "1.0\n"
     ]
    }
   ],
   "source": [
    "print(train_labels[0])"
   ]
  },
  {
   "cell_type": "code",
   "execution_count": 10,
   "metadata": {},
   "outputs": [
    {
     "data": {
      "image/png": "[encoded data removed]",
      "text/plain": [
       "<PIL.Image.Image image mode=L size=64x64 at 0x2198DF69100>"
      ]
     },
     "execution_count": 10,
     "metadata": {},
     "output_type": "execute_result"
    }
   ],
   "source": [
    "array_to_img(train_images[90])"
   ]
  },
  {
   "cell_type": "code",
   "execution_count": 11,
   "metadata": {},
   "outputs": [
    {
     "name": "stdout",
     "output_type": "stream",
     "text": [
      "1.0\n"
     ]
    }
   ],
   "source": [
    "print(train_labels[90])"
   ]
  },
  {
   "cell_type": "code",
   "execution_count": 12,
   "metadata": {},
   "outputs": [
    {
     "name": "stdout",
     "output_type": "stream",
     "text": [
      "train images shape:  (632, 64, 64, 1)\n",
      "train labels shape:  (632,)\n",
      "test images shape:  (158, 64, 64, 1)\n",
      "test labels shape:  (158,)\n"
     ]
    }
   ],
   "source": [
    "print('train images shape: ',np.shape(X_train))\n",
    "print('train labels shape: ',np.shape(y_train))\n",
    "print('test images shape: ',np.shape(X_val))\n",
    "print('test labels shape: ',np.shape(y_val))"
   ]
  },
  {
   "cell_type": "code",
   "execution_count": 13,
   "metadata": {},
   "outputs": [
    {
     "data": {
      "text/plain": [
       "(632, 4096)"
      ]
     },
     "execution_count": 13,
     "metadata": {},
     "output_type": "execute_result"
    }
   ],
   "source": [
    "#train set\n",
    "X_train_unrow = X_train.reshape(632, -1)\n",
    "X_train_unrow.shape"
   ]
  },
  {
   "cell_type": "code",
   "execution_count": 14,
   "metadata": {},
   "outputs": [
    {
     "data": {
      "text/plain": [
       "(158, 4096)"
      ]
     },
     "execution_count": 14,
     "metadata": {},
     "output_type": "execute_result"
    }
   ],
   "source": [
    "#test set\n",
    "X_val_unrow = X_val.reshape(158, -1)\n",
    "X_val_unrow.shape"
   ]
  },
  {
   "cell_type": "code",
   "execution_count": 16,
   "metadata": {},
   "outputs": [
    {
     "data": {
      "text/plain": [
       "array([0., 1., 0., 0., 0., 0., 0., 1., 0., 1.], dtype=float32)"
      ]
     },
     "execution_count": 16,
     "metadata": {},
     "output_type": "execute_result"
    }
   ],
   "source": [
    "y_train[:10]"
   ]
  },
  {
   "cell_type": "code",
   "execution_count": 17,
   "metadata": {},
   "outputs": [
    {
     "data": {
      "text/plain": [
       "{'NORMAL': 0, 'PNEUMONIA': 1}"
      ]
     },
     "execution_count": 17,
     "metadata": {},
     "output_type": "execute_result"
    }
   ],
   "source": [
    "train_generator.class_indices"
   ]
  },
  {
   "cell_type": "code",
   "execution_count": 14,
   "metadata": {},
   "outputs": [],
   "source": [
    "#training set\n",
    "#y_train_labels_final = np.reshape(y_train[:,0], (632,1))"
   ]
  },
  {
   "cell_type": "code",
   "execution_count": 15,
   "metadata": {},
   "outputs": [
    {
     "data": {
      "text/plain": [
       "(632, 1)"
      ]
     },
     "execution_count": 15,
     "metadata": {},
     "output_type": "execute_result"
    }
   ],
   "source": [
    "#np.shape(y_train_labels_final)"
   ]
  },
  {
   "cell_type": "code",
   "execution_count": 16,
   "metadata": {},
   "outputs": [],
   "source": [
    "#y_val_labels_final = np.reshape(y_val[:,0], (158,1))"
   ]
  },
  {
   "cell_type": "code",
   "execution_count": 18,
   "metadata": {},
   "outputs": [
    {
     "data": {
      "text/plain": [
       "(158, 1)"
      ]
     },
     "execution_count": 18,
     "metadata": {},
     "output_type": "execute_result"
    }
   ],
   "source": [
    "#np.shape(y_val_labels_final) "
   ]
  },
  {
   "cell_type": "code",
   "execution_count": 18,
   "metadata": {},
   "outputs": [
    {
     "data": {
      "text/plain": [
       "numpy.ndarray"
      ]
     },
     "execution_count": 18,
     "metadata": {},
     "output_type": "execute_result"
    }
   ],
   "source": [
    "#scaling the data\n",
    "X_train_img_final = X_train_unrow/255\n",
    "X_val_img_final = X_val_unrow/255\n",
    "\n",
    "type(X_val_img_final)"
   ]
  },
  {
   "cell_type": "code",
   "execution_count": 19,
   "metadata": {},
   "outputs": [
    {
     "name": "stdout",
     "output_type": "stream",
     "text": [
      "(632, 4096)\n",
      "(158, 4096)\n"
     ]
    }
   ],
   "source": [
    "print(X_train_img_final.shape)\n",
    "print(X_val_img_final.shape)"
   ]
  },
  {
   "cell_type": "markdown",
   "metadata": {},
   "source": [
    "## Baseline Model"
   ]
  },
  {
   "cell_type": "code",
   "execution_count": 24,
   "metadata": {},
   "outputs": [],
   "source": [
    "np.random.seed(42)\n",
    "model = models.Sequential()\n",
    "model.add(layers.Dense(63, activation='tanh', input_shape=(4096,)))\n",
    "model.add(layers.Dense(42, activation='tanh'))\n",
    "model.add(layers.Dense(21, activation='tanh'))\n",
    "model.add(layers.Dense(1, activation='sigmoid')) #output layer, binary classification"
   ]
  },
  {
   "cell_type": "code",
   "execution_count": 25,
   "metadata": {},
   "outputs": [
    {
     "name": "stdout",
     "output_type": "stream",
     "text": [
      "Epoch 1/50\n",
      "20/20 [==============================] - 0s 7ms/step - loss: 0.5655 - accuracy: 0.7468 - val_loss: 0.5029 - val_accuracy: 0.7532\n",
      "Epoch 2/50\n",
      "20/20 [==============================] - 0s 1ms/step - loss: 0.4805 - accuracy: 0.7627 - val_loss: 0.4140 - val_accuracy: 0.7658\n",
      "Epoch 3/50\n",
      "20/20 [==============================] - 0s 2ms/step - loss: 0.4661 - accuracy: 0.7753 - val_loss: 0.3909 - val_accuracy: 0.9051\n",
      "Epoch 4/50\n",
      "20/20 [==============================] - 0s 2ms/step - loss: 0.4375 - accuracy: 0.7927 - val_loss: 0.3284 - val_accuracy: 0.8987\n",
      "Epoch 5/50\n",
      "20/20 [==============================] - 0s 2ms/step - loss: 0.4130 - accuracy: 0.8180 - val_loss: 0.3288 - val_accuracy: 0.8481\n",
      "Epoch 6/50\n",
      "20/20 [==============================] - 0s 1ms/step - loss: 0.3778 - accuracy: 0.8244 - val_loss: 0.3054 - val_accuracy: 0.9051\n",
      "Epoch 7/50\n",
      "20/20 [==============================] - 0s 2ms/step - loss: 0.3599 - accuracy: 0.8434 - val_loss: 0.2800 - val_accuracy: 0.9177\n",
      "Epoch 8/50\n",
      "20/20 [==============================] - 0s 1ms/step - loss: 0.3164 - accuracy: 0.8813 - val_loss: 0.3901 - val_accuracy: 0.7975\n",
      "Epoch 9/50\n",
      "20/20 [==============================] - 0s 2ms/step - loss: 0.3572 - accuracy: 0.8291 - val_loss: 0.3590 - val_accuracy: 0.8481\n",
      "Epoch 10/50\n",
      "20/20 [==============================] - 0s 1ms/step - loss: 0.3367 - accuracy: 0.8449 - val_loss: 0.2470 - val_accuracy: 0.9241\n",
      "Epoch 11/50\n",
      "20/20 [==============================] - 0s 2ms/step - loss: 0.2684 - accuracy: 0.9035 - val_loss: 0.2337 - val_accuracy: 0.9177\n",
      "Epoch 12/50\n",
      "20/20 [==============================] - 0s 2ms/step - loss: 0.3108 - accuracy: 0.8639 - val_loss: 0.3945 - val_accuracy: 0.8038\n",
      "Epoch 13/50\n",
      "20/20 [==============================] - 0s 2ms/step - loss: 0.2574 - accuracy: 0.9003 - val_loss: 0.2246 - val_accuracy: 0.9304\n",
      "Epoch 14/50\n",
      "20/20 [==============================] - 0s 2ms/step - loss: 0.2997 - accuracy: 0.8829 - val_loss: 0.2150 - val_accuracy: 0.9304\n",
      "Epoch 15/50\n",
      "20/20 [==============================] - 0s 2ms/step - loss: 0.2621 - accuracy: 0.8861 - val_loss: 0.2681 - val_accuracy: 0.8924\n",
      "Epoch 16/50\n",
      "20/20 [==============================] - 0s 1ms/step - loss: 0.2666 - accuracy: 0.8845 - val_loss: 0.3082 - val_accuracy: 0.8734\n",
      "Epoch 17/50\n",
      "20/20 [==============================] - 0s 1ms/step - loss: 0.2668 - accuracy: 0.8718 - val_loss: 0.2050 - val_accuracy: 0.9304\n",
      "Epoch 18/50\n",
      "20/20 [==============================] - 0s 2ms/step - loss: 0.2079 - accuracy: 0.9146 - val_loss: 0.2443 - val_accuracy: 0.9051\n",
      "Epoch 19/50\n",
      "20/20 [==============================] - 0s 2ms/step - loss: 0.2679 - accuracy: 0.8845 - val_loss: 0.2488 - val_accuracy: 0.8924\n",
      "Epoch 20/50\n",
      "20/20 [==============================] - 0s 2ms/step - loss: 0.2153 - accuracy: 0.9161 - val_loss: 0.1932 - val_accuracy: 0.9430\n",
      "Epoch 21/50\n",
      "20/20 [==============================] - 0s 2ms/step - loss: 0.1789 - accuracy: 0.9320 - val_loss: 0.4222 - val_accuracy: 0.7975\n",
      "Epoch 22/50\n",
      "20/20 [==============================] - 0s 2ms/step - loss: 0.2298 - accuracy: 0.9003 - val_loss: 0.4192 - val_accuracy: 0.8165\n",
      "Epoch 23/50\n",
      "20/20 [==============================] - 0s 2ms/step - loss: 0.2242 - accuracy: 0.9051 - val_loss: 0.2186 - val_accuracy: 0.9051\n",
      "Epoch 24/50\n",
      "20/20 [==============================] - 0s 2ms/step - loss: 0.2136 - accuracy: 0.9114 - val_loss: 0.2236 - val_accuracy: 0.9051\n",
      "Epoch 25/50\n",
      "20/20 [==============================] - 0s 2ms/step - loss: 0.2151 - accuracy: 0.9051 - val_loss: 0.1825 - val_accuracy: 0.9494\n",
      "Epoch 26/50\n",
      "20/20 [==============================] - 0s 2ms/step - loss: 0.2499 - accuracy: 0.8908 - val_loss: 0.2750 - val_accuracy: 0.8797\n",
      "Epoch 27/50\n",
      "20/20 [==============================] - 0s 1ms/step - loss: 0.1834 - accuracy: 0.9351 - val_loss: 0.1802 - val_accuracy: 0.9430\n",
      "Epoch 28/50\n",
      "20/20 [==============================] - 0s 2ms/step - loss: 0.2115 - accuracy: 0.9082 - val_loss: 0.2701 - val_accuracy: 0.8861\n",
      "Epoch 29/50\n",
      "20/20 [==============================] - 0s 2ms/step - loss: 0.1986 - accuracy: 0.9161 - val_loss: 0.2215 - val_accuracy: 0.9114\n",
      "Epoch 30/50\n",
      "20/20 [==============================] - 0s 2ms/step - loss: 0.1717 - accuracy: 0.9367 - val_loss: 0.2104 - val_accuracy: 0.9114\n",
      "Epoch 31/50\n",
      "20/20 [==============================] - 0s 2ms/step - loss: 0.1749 - accuracy: 0.9335 - val_loss: 0.1984 - val_accuracy: 0.9177\n",
      "Epoch 32/50\n",
      "20/20 [==============================] - 0s 2ms/step - loss: 0.1703 - accuracy: 0.9304 - val_loss: 0.1998 - val_accuracy: 0.9177\n",
      "Epoch 33/50\n",
      "20/20 [==============================] - 0s 2ms/step - loss: 0.1706 - accuracy: 0.9367 - val_loss: 0.2092 - val_accuracy: 0.9051\n",
      "Epoch 34/50\n",
      "20/20 [==============================] - 0s 2ms/step - loss: 0.2277 - accuracy: 0.9098 - val_loss: 0.2218 - val_accuracy: 0.8987\n",
      "Epoch 35/50\n",
      "20/20 [==============================] - 0s 2ms/step - loss: 0.1636 - accuracy: 0.9367 - val_loss: 0.1751 - val_accuracy: 0.9430\n",
      "Epoch 36/50\n",
      "20/20 [==============================] - 0s 2ms/step - loss: 0.1474 - accuracy: 0.9509 - val_loss: 0.1768 - val_accuracy: 0.9494\n",
      "Epoch 37/50\n",
      "20/20 [==============================] - 0s 2ms/step - loss: 0.1821 - accuracy: 0.9335 - val_loss: 0.1804 - val_accuracy: 0.9494\n",
      "Epoch 38/50\n",
      "20/20 [==============================] - 0s 2ms/step - loss: 0.1900 - accuracy: 0.9256 - val_loss: 0.1713 - val_accuracy: 0.9367\n",
      "Epoch 39/50\n",
      "20/20 [==============================] - 0s 2ms/step - loss: 0.1298 - accuracy: 0.9557 - val_loss: 0.1832 - val_accuracy: 0.9430\n",
      "Epoch 40/50\n",
      "20/20 [==============================] - 0s 2ms/step - loss: 0.1360 - accuracy: 0.9509 - val_loss: 0.1810 - val_accuracy: 0.9494\n",
      "Epoch 41/50\n",
      "20/20 [==============================] - 0s 2ms/step - loss: 0.1982 - accuracy: 0.9304 - val_loss: 0.2090 - val_accuracy: 0.9114\n",
      "Epoch 42/50\n",
      "20/20 [==============================] - 0s 2ms/step - loss: 0.1448 - accuracy: 0.9541 - val_loss: 0.2123 - val_accuracy: 0.8987\n",
      "Epoch 43/50\n",
      "20/20 [==============================] - 0s 2ms/step - loss: 0.1305 - accuracy: 0.9509 - val_loss: 0.2065 - val_accuracy: 0.9114\n",
      "Epoch 44/50\n",
      "20/20 [==============================] - 0s 2ms/step - loss: 0.1695 - accuracy: 0.9335 - val_loss: 0.2408 - val_accuracy: 0.9114\n",
      "Epoch 45/50\n",
      "20/20 [==============================] - 0s 2ms/step - loss: 0.1749 - accuracy: 0.9320 - val_loss: 0.1774 - val_accuracy: 0.9430\n",
      "Epoch 46/50\n",
      "20/20 [==============================] - 0s 2ms/step - loss: 0.1343 - accuracy: 0.9541 - val_loss: 0.2512 - val_accuracy: 0.9051\n",
      "Epoch 47/50\n",
      "20/20 [==============================] - 0s 2ms/step - loss: 0.1592 - accuracy: 0.9288 - val_loss: 0.1735 - val_accuracy: 0.9430\n",
      "Epoch 48/50\n",
      "20/20 [==============================] - 0s 1ms/step - loss: 0.1073 - accuracy: 0.9589 - val_loss: 0.1708 - val_accuracy: 0.9430\n",
      "Epoch 49/50\n",
      "20/20 [==============================] - 0s 2ms/step - loss: 0.1082 - accuracy: 0.9573 - val_loss: 0.2368 - val_accuracy: 0.9114\n",
      "Epoch 50/50\n",
      "20/20 [==============================] - 0s 2ms/step - loss: 0.1389 - accuracy: 0.9541 - val_loss: 0.3055 - val_accuracy: 0.8734\n"
     ]
    }
   ],
   "source": [
    "model.compile(optimizer='sgd',\n",
    "              loss='binary_crossentropy',\n",
    "              metrics=['accuracy'])\n",
    "\n",
    "results = model.fit(X_train_img_final,\n",
    "                    y_train,\n",
    "                    epochs=50,\n",
    "                    batch_size=32,\n",
    "                    validation_data=(X_val_img_final, y_val))"
   ]
  },
  {
   "cell_type": "code",
   "execution_count": 26,
   "metadata": {},
   "outputs": [
    {
     "name": "stdout",
     "output_type": "stream",
     "text": [
      "20/20 [==============================] - 0s 587us/step - loss: 0.3090 - accuracy: 0.8766\n"
     ]
    }
   ],
   "source": [
    "results_train = model.evaluate(X_train_img_final, y_train)"
   ]
  },
  {
   "cell_type": "code",
   "execution_count": 27,
   "metadata": {},
   "outputs": [
    {
     "name": "stdout",
     "output_type": "stream",
     "text": [
      "5/5 [==============================] - 0s 830us/step - loss: 0.3055 - accuracy: 0.8734\n"
     ]
    }
   ],
   "source": [
    "results_val = model.evaluate(X_val_img_final, y_val)"
   ]
  },
  {
   "cell_type": "markdown",
   "metadata": {},
   "source": [
    "#### Training accuracy = 0.9797. Test acc = 0.8030. Subsequent models must improve these thresholds."
   ]
  },
  {
   "cell_type": "code",
   "execution_count": 28,
   "metadata": {},
   "outputs": [],
   "source": [
    "#plot acc vs loss for train and test set\n",
    "def visualize_results(results):\n",
    "    history = results.history\n",
    "    plt.figure()\n",
    "    plt.plot(history['val_loss'])\n",
    "    plt.plot(history['loss'])\n",
    "    plt.legend(['val_loss', 'loss'])\n",
    "    plt.title('Loss')\n",
    "    plt.xlabel('Epochs')\n",
    "    plt.ylabel('Loss')\n",
    "    plt.show();"
   ]
  },
  {
   "cell_type": "code",
   "execution_count": 29,
   "metadata": {},
   "outputs": [
    {
     "data": {
      "image/png": "[encoded data removed]",
      "text/plain": [
       "<Figure size 432x288 with 1 Axes>"
      ]
     },
     "metadata": {
      "needs_background": "light"
     },
     "output_type": "display_data"
    }
   ],
   "source": [
    "visualize_results(results)"
   ]
  },
  {
   "cell_type": "markdown",
   "metadata": {},
   "source": [
    "Insight: according to the Loss plot, there is significant overfitting of the model due to the high variation of the validation curve, as well as the divergence of the two curves themselves. Any subsequent models must reduce the variance and overfitting of the baseline model.\n",
    "\n",
    "For CNN: create convolution filter, padding (and maybe striding?) and pooling layer (if there are too many features)"
   ]
  },
  {
   "cell_type": "code",
   "execution_count": 30,
   "metadata": {},
   "outputs": [],
   "source": [
    "np.random.seed(42)\n",
    "model2 = models.Sequential()\n",
    "model2.add(layers.Dense(63, activation='softmax', input_shape=(4096,)))\n",
    "model2.add(layers.Dense(42, activation='softmax'))\n",
    "model2.add(layers.Dense(21, activation='softmax'))\n",
    "model2.add(layers.Dense(1, activation='sigmoid')) #output layer, binary classification"
   ]
  },
  {
   "cell_type": "code",
   "execution_count": 31,
   "metadata": {},
   "outputs": [
    {
     "name": "stdout",
     "output_type": "stream",
     "text": [
      "Epoch 1/50\n",
      "20/20 [==============================] - 0s 7ms/step - loss: 0.6722 - accuracy: 0.7405 - val_loss: 0.6654 - val_accuracy: 0.7532\n",
      "Epoch 2/50\n",
      "20/20 [==============================] - 0s 2ms/step - loss: 0.6626 - accuracy: 0.7405 - val_loss: 0.6559 - val_accuracy: 0.7532\n",
      "Epoch 3/50\n",
      "20/20 [==============================] - 0s 2ms/step - loss: 0.6541 - accuracy: 0.7405 - val_loss: 0.6473 - val_accuracy: 0.7532\n",
      "Epoch 4/50\n",
      "20/20 [==============================] - 0s 2ms/step - loss: 0.6464 - accuracy: 0.7405 - val_loss: 0.6396 - val_accuracy: 0.7532\n",
      "Epoch 5/50\n",
      "20/20 [==============================] - 0s 2ms/step - loss: 0.6395 - accuracy: 0.7405 - val_loss: 0.6327 - val_accuracy: 0.7532\n",
      "Epoch 6/50\n",
      "20/20 [==============================] - 0s 2ms/step - loss: 0.6334 - accuracy: 0.7405 - val_loss: 0.6263 - val_accuracy: 0.7532\n",
      "Epoch 7/50\n",
      "20/20 [==============================] - 0s 2ms/step - loss: 0.6278 - accuracy: 0.7405 - val_loss: 0.6206 - val_accuracy: 0.7532\n",
      "Epoch 8/50\n",
      "20/20 [==============================] - 0s 2ms/step - loss: 0.6226 - accuracy: 0.7405 - val_loss: 0.6153 - val_accuracy: 0.7532\n",
      "Epoch 9/50\n",
      "20/20 [==============================] - 0s 2ms/step - loss: 0.6180 - accuracy: 0.7405 - val_loss: 0.6106 - val_accuracy: 0.7532\n",
      "Epoch 10/50\n",
      "20/20 [==============================] - 0s 2ms/step - loss: 0.6139 - accuracy: 0.7405 - val_loss: 0.6063 - val_accuracy: 0.7532\n",
      "Epoch 11/50\n",
      "20/20 [==============================] - 0s 2ms/step - loss: 0.6101 - accuracy: 0.7405 - val_loss: 0.6024 - val_accuracy: 0.7532\n",
      "Epoch 12/50\n",
      "20/20 [==============================] - 0s 2ms/step - loss: 0.6067 - accuracy: 0.7405 - val_loss: 0.5989 - val_accuracy: 0.7532\n",
      "Epoch 13/50\n",
      "20/20 [==============================] - 0s 2ms/step - loss: 0.6037 - accuracy: 0.7405 - val_loss: 0.5956 - val_accuracy: 0.7532\n",
      "Epoch 14/50\n",
      "20/20 [==============================] - 0s 2ms/step - loss: 0.6009 - accuracy: 0.7405 - val_loss: 0.5927 - val_accuracy: 0.7532\n",
      "Epoch 15/50\n",
      "20/20 [==============================] - 0s 2ms/step - loss: 0.5984 - accuracy: 0.7405 - val_loss: 0.5900 - val_accuracy: 0.7532\n",
      "Epoch 16/50\n",
      "20/20 [==============================] - 0s 2ms/step - loss: 0.5961 - accuracy: 0.7405 - val_loss: 0.5876 - val_accuracy: 0.7532\n",
      "Epoch 17/50\n",
      "20/20 [==============================] - 0s 2ms/step - loss: 0.5940 - accuracy: 0.7405 - val_loss: 0.5853 - val_accuracy: 0.7532\n",
      "Epoch 18/50\n",
      "20/20 [==============================] - 0s 2ms/step - loss: 0.5921 - accuracy: 0.7405 - val_loss: 0.5833 - val_accuracy: 0.7532\n",
      "Epoch 19/50\n",
      "20/20 [==============================] - 0s 2ms/step - loss: 0.5904 - accuracy: 0.7405 - val_loss: 0.5814 - val_accuracy: 0.7532\n",
      "Epoch 20/50\n",
      "20/20 [==============================] - 0s 2ms/step - loss: 0.5888 - accuracy: 0.7405 - val_loss: 0.5797 - val_accuracy: 0.7532\n",
      "Epoch 21/50\n",
      "20/20 [==============================] - 0s 2ms/step - loss: 0.5874 - accuracy: 0.7405 - val_loss: 0.5781 - val_accuracy: 0.7532\n",
      "Epoch 22/50\n",
      "20/20 [==============================] - 0s 2ms/step - loss: 0.5862 - accuracy: 0.7405 - val_loss: 0.5768 - val_accuracy: 0.7532\n",
      "Epoch 23/50\n",
      "20/20 [==============================] - 0s 2ms/step - loss: 0.5850 - accuracy: 0.7405 - val_loss: 0.5755 - val_accuracy: 0.7532\n",
      "Epoch 24/50\n",
      "20/20 [==============================] - 0s 1ms/step - loss: 0.5840 - accuracy: 0.7405 - val_loss: 0.5743 - val_accuracy: 0.7532\n",
      "Epoch 25/50\n",
      "20/20 [==============================] - 0s 2ms/step - loss: 0.5830 - accuracy: 0.7405 - val_loss: 0.5732 - val_accuracy: 0.7532\n",
      "Epoch 26/50\n",
      "20/20 [==============================] - 0s 2ms/step - loss: 0.5821 - accuracy: 0.7405 - val_loss: 0.5722 - val_accuracy: 0.7532\n",
      "Epoch 27/50\n",
      "20/20 [==============================] - 0s 2ms/step - loss: 0.5814 - accuracy: 0.7405 - val_loss: 0.5713 - val_accuracy: 0.7532\n",
      "Epoch 28/50\n",
      "20/20 [==============================] - 0s 2ms/step - loss: 0.5806 - accuracy: 0.7405 - val_loss: 0.5704 - val_accuracy: 0.7532\n",
      "Epoch 29/50\n",
      "20/20 [==============================] - 0s 2ms/step - loss: 0.5799 - accuracy: 0.7405 - val_loss: 0.5696 - val_accuracy: 0.7532\n",
      "Epoch 30/50\n",
      "20/20 [==============================] - 0s 2ms/step - loss: 0.5793 - accuracy: 0.7405 - val_loss: 0.5689 - val_accuracy: 0.7532\n",
      "Epoch 31/50\n",
      "20/20 [==============================] - 0s 2ms/step - loss: 0.5787 - accuracy: 0.7405 - val_loss: 0.5682 - val_accuracy: 0.7532\n",
      "Epoch 32/50\n",
      "20/20 [==============================] - 0s 2ms/step - loss: 0.5782 - accuracy: 0.7405 - val_loss: 0.5676 - val_accuracy: 0.7532\n",
      "Epoch 33/50\n",
      "20/20 [==============================] - 0s 2ms/step - loss: 0.5777 - accuracy: 0.7405 - val_loss: 0.5670 - val_accuracy: 0.7532\n",
      "Epoch 34/50\n",
      "20/20 [==============================] - 0s 2ms/step - loss: 0.5773 - accuracy: 0.7405 - val_loss: 0.5665 - val_accuracy: 0.7532\n",
      "Epoch 35/50\n",
      "20/20 [==============================] - 0s 2ms/step - loss: 0.5769 - accuracy: 0.7405 - val_loss: 0.5660 - val_accuracy: 0.7532\n",
      "Epoch 36/50\n",
      "20/20 [==============================] - 0s 2ms/step - loss: 0.5766 - accuracy: 0.7405 - val_loss: 0.5656 - val_accuracy: 0.7532\n",
      "Epoch 37/50\n",
      "20/20 [==============================] - 0s 1ms/step - loss: 0.5762 - accuracy: 0.7405 - val_loss: 0.5652 - val_accuracy: 0.7532\n",
      "Epoch 38/50\n",
      "20/20 [==============================] - 0s 2ms/step - loss: 0.5759 - accuracy: 0.7405 - val_loss: 0.5648 - val_accuracy: 0.7532\n",
      "Epoch 39/50\n",
      "20/20 [==============================] - 0s 1ms/step - loss: 0.5757 - accuracy: 0.7405 - val_loss: 0.5644 - val_accuracy: 0.7532\n",
      "Epoch 40/50\n",
      "20/20 [==============================] - 0s 1ms/step - loss: 0.5754 - accuracy: 0.7405 - val_loss: 0.5641 - val_accuracy: 0.7532\n",
      "Epoch 41/50\n",
      "20/20 [==============================] - 0s 1ms/step - loss: 0.5752 - accuracy: 0.7405 - val_loss: 0.5638 - val_accuracy: 0.7532\n",
      "Epoch 42/50\n",
      "20/20 [==============================] - 0s 2ms/step - loss: 0.5749 - accuracy: 0.7405 - val_loss: 0.5635 - val_accuracy: 0.7532\n",
      "Epoch 43/50\n",
      "20/20 [==============================] - 0s 1ms/step - loss: 0.5748 - accuracy: 0.7405 - val_loss: 0.5632 - val_accuracy: 0.7532\n",
      "Epoch 44/50\n",
      "20/20 [==============================] - 0s 2ms/step - loss: 0.5746 - accuracy: 0.7405 - val_loss: 0.5630 - val_accuracy: 0.7532\n",
      "Epoch 45/50\n",
      "20/20 [==============================] - 0s 1ms/step - loss: 0.5744 - accuracy: 0.7405 - val_loss: 0.5627 - val_accuracy: 0.7532\n",
      "Epoch 46/50\n",
      "20/20 [==============================] - 0s 2ms/step - loss: 0.5743 - accuracy: 0.7405 - val_loss: 0.5625 - val_accuracy: 0.7532\n",
      "Epoch 47/50\n",
      "20/20 [==============================] - 0s 1ms/step - loss: 0.5742 - accuracy: 0.7405 - val_loss: 0.5623 - val_accuracy: 0.7532\n",
      "Epoch 48/50\n",
      "20/20 [==============================] - 0s 1ms/step - loss: 0.5740 - accuracy: 0.7405 - val_loss: 0.5621 - val_accuracy: 0.7532\n",
      "Epoch 49/50\n",
      "20/20 [==============================] - 0s 2ms/step - loss: 0.5739 - accuracy: 0.7405 - val_loss: 0.5620 - val_accuracy: 0.7532\n",
      "Epoch 50/50\n",
      "20/20 [==============================] - 0s 2ms/step - loss: 0.5738 - accuracy: 0.7405 - val_loss: 0.5618 - val_accuracy: 0.7532\n"
     ]
    }
   ],
   "source": [
    "model2.compile(optimizer='sgd',\n",
    "              loss='binary_crossentropy',\n",
    "              metrics=['accuracy'])\n",
    "\n",
    "results2 = model2.fit(X_train_img_final,\n",
    "                    y_train,\n",
    "                    epochs=50,\n",
    "                    batch_size=32,\n",
    "                    validation_data=(X_val_img_final, y_val))"
   ]
  },
  {
   "cell_type": "code",
   "execution_count": 32,
   "metadata": {},
   "outputs": [
    {
     "name": "stdout",
     "output_type": "stream",
     "text": [
      "20/20 [==============================] - 0s 803us/step - loss: 0.5737 - accuracy: 0.7405\n"
     ]
    }
   ],
   "source": [
    "results_train2 = model2.evaluate(X_train_img_final, y_train)"
   ]
  },
  {
   "cell_type": "code",
   "execution_count": 33,
   "metadata": {},
   "outputs": [
    {
     "name": "stdout",
     "output_type": "stream",
     "text": [
      "5/5 [==============================] - 0s 720us/step - loss: 0.5618 - accuracy: 0.7532\n"
     ]
    }
   ],
   "source": [
    "results_val2 = model2.evaluate(X_val_img_final, y_val)"
   ]
  },
  {
   "cell_type": "code",
   "execution_count": 34,
   "metadata": {},
   "outputs": [
    {
     "data": {
      "image/png": "[encoded data removed]",
      "text/plain": [
       "<Figure size 432x288 with 1 Axes>"
      ]
     },
     "metadata": {
      "needs_background": "light"
     },
     "output_type": "display_data"
    }
   ],
   "source": [
    "visualize_results(results2)"
   ]
  },
  {
   "cell_type": "code",
   "execution_count": null,
   "metadata": {},
   "outputs": [],
   "source": []
  }
 ],
 "metadata": {
  "kernelspec": {
   "display_name": "Python 3",
   "language": "python",
   "name": "python3"
  },
  "language_info": {
   "codemirror_mode": {
    "name": "ipython",
    "version": 3
   },
   "file_extension": ".py",
   "mimetype": "text/x-python",
   "name": "python",
   "nbconvert_exporter": "python",
   "pygments_lexer": "ipython3",
   "version": "3.8.5"
  }
 },
 "nbformat": 4,
 "nbformat_minor": 4
}
