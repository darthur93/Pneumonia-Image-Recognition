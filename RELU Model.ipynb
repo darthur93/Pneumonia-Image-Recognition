{
 "cells": [
  {
   "cell_type": "markdown",
   "metadata": {},
   "source": [
    "Pneumonia Image Recognitionognition"
   ]
  },
  {
   "cell_type": "markdown",
   "metadata": {},
   "source": [
    "Introduction/ Buisness Understanding"
   ]
  },
  {
   "cell_type": "markdown",
   "metadata": {},
   "source": [
    "Pneumonia is an infection of one or both of the lungs caused by bacteria, viruses, or fungi. It is a serious infection in which the air sacs fill with pus and other liquid. Lobar pneumonia affects one or more sections (lobes) of the lungs. Pneumonia accounts for 14% of all deaths of children under 5 years old, killing 740 180 children in 2019 The cost of antibiotic treatment for all children with pneumonia in 66 of the countdown to 2015 countries for maternal, newborn and child survival is estimated at around US$ 109 million per year. The price includes the antibiotics and diagnostics for pneumonia management. treat pneumonia focusing on making sure that every sick child has access to the right kind of care -- either from a community-based health worker, or in a health facility if the disease is severe -- and can get the antibiotics and oxygen they need to get well; Pneumonia is the world’s biggest infectious killer of adults and children – claiming 2.5 million lives, including 672,000 children under five, in 2019. That’s one person dying every 13 seconds"
   ]
  },
  {
   "cell_type": "markdown",
   "metadata": {},
   "source": [
    "Import Libraries"
   ]
  },
  {
   "cell_type": "code",
   "execution_count": 1,
   "metadata": {},
   "outputs": [],
   "source": [
    "#!pip install tensorflow"
   ]
  },
  {
   "cell_type": "code",
   "execution_count": 36,
   "metadata": {},
   "outputs": [],
   "source": [
    "# Necessary libraries and classes\n",
    "import numpy as np\n",
    "import pandas as pd\n",
    "from sklearn.model_selection import train_test_split\n",
    "from sklearn.preprocessing import StandardScaler, OneHotEncoder\n",
    "from sklearn.impute import SimpleImputer\n",
    "from sklearn.metrics import mean_squared_error\n",
    "from sklearn.model_selection import cross_val_predict\n",
    "from keras import models\n",
    "from keras import layers\n",
    "from keras import regularizers\n",
    "from keras.wrappers.scikit_learn import KerasRegressor\n",
    "\n",
    "\n",
    "import matplotlib.pyplot as plt\n",
    "%matplotlib inline\n",
    "import keras\n",
    "from keras.models import Sequential\n",
    "from keras.layers import Dense\n",
    "from keras.datasets import mnist\n",
    "import os\n",
    "os.environ['KMP_DUPLICATE_LIB_OK']='True' #This prevents kernel shut down due to xgboost conflict\n",
    "\n",
    "import tensorflow as tf\n",
    "from matplotlib import pyplot as plt\n",
    "from tensorflow.keras import datasets, layers, models\n",
    "import seaborn as sns\n",
    "from keras.preprocessing.image import ImageDataGenerator, array_to_img, img_to_array, load_img\n",
    "from keras import models\n",
    "from keras import layers\n",
    "from keras.callbacks import EarlyStopping, ModelCheckpoint\n",
    "from sklearn.metrics import confusion_matrix"
   ]
  },
  {
   "cell_type": "markdown",
   "metadata": {},
   "source": [
    "Functions"
   ]
  },
  {
   "cell_type": "markdown",
   "metadata": {},
   "source": [
    "Data Understanding"
   ]
  },
  {
   "cell_type": "markdown",
   "metadata": {},
   "source": [
    "The data contains more than 5000 images of pneumonia of viral and bacterial pneumonia of and children 1-5 in Guangzhou Women and Children’s Medical Center, Guangzhou. The dataset is organized into 3 folders (train, test, val) and contains subfolders for each image category (Pneumonia/Normal). There are 5,863 X-Ray images (JPEG) and 2 categories (Pneumonia/Normal).\n",
    "\n",
    "Chest X-ray images (anterior-posterior) were selected from retrospective cohorts of pediatric patients of one to five years old from Guangzhou Women and Children’s Medical Center, Guangzhou. All chest X-ray imaging was performed as part of patients’ routine clinical care.\n",
    "\n",
    "For the analysis of chest x-ray images, all chest radiographs were initially screened for quality control by removing all low quality or unreadable scans. The diagnoses for the images were then graded by two expert physicians before being cleared for training the AI system. In order to account for any grading errors, the evaluation set was also checked by a third expert."
   ]
  },
  {
   "cell_type": "markdown",
   "metadata": {},
   "source": [
    "Data Cleaning"
   ]
  },
  {
   "cell_type": "code",
   "execution_count": 3,
   "metadata": {
    "scrolled": false
   },
   "outputs": [
    {
     "name": "stdout",
     "output_type": "stream",
     "text": [
      "Found 624 images belonging to 2 classes.\n",
      "Found 5232 images belonging to 2 classes.\n"
     ]
    }
   ],
   "source": [
    "train_data_dir = 'train'\n",
    "test_data_dir = 'test'\n",
    "\n",
    "#Get all the data in the directory data/validation (132 images), and reshape them\n",
    "test_generator = ImageDataGenerator().flow_from_directory(\n",
    "       test_data_dir, \n",
    "       target_size=(64, 64), batch_size=132)\n",
    "\n",
    "#Get all the data in the directory data/train (790 images), and reshape them\n",
    "train_generator = ImageDataGenerator().flow_from_directory(\n",
    "       train_data_dir, \n",
    "       target_size=(64, 64), batch_size=790)\n",
    "\n",
    "#Create the datasets\n",
    "train_images, train_labels = next(train_generator)\n",
    "test_images, test_labels = next(test_generator)"
   ]
  },
  {
   "cell_type": "markdown",
   "metadata": {},
   "source": [
    "Create validation set from training set"
   ]
  },
  {
   "cell_type": "code",
   "execution_count": 4,
   "metadata": {},
   "outputs": [],
   "source": [
    "X = train_images\n",
    "y = train_labels\n",
    "\n",
    "X_train, X_val, y_train, y_val = train_test_split(X, y, test_size=0.2, random_state=42)"
   ]
  },
  {
   "cell_type": "markdown",
   "metadata": {},
   "source": [
    "Preview images (Normal)"
   ]
  },
  {
   "cell_type": "code",
   "execution_count": 5,
   "metadata": {},
   "outputs": [
    {
     "data": {
      "image/png": "[encoded data removed]",
      "text/plain": [
       "<PIL.Image.Image image mode=RGB size=64x64 at 0x1593878AF10>"
      ]
     },
     "execution_count": 5,
     "metadata": {},
     "output_type": "execute_result"
    }
   ],
   "source": [
    "array_to_img(train_images[0])"
   ]
  },
  {
   "cell_type": "code",
   "execution_count": 6,
   "metadata": {},
   "outputs": [
    {
     "name": "stdout",
     "output_type": "stream",
     "text": [
      "[0. 1.]\n"
     ]
    }
   ],
   "source": [
    "print(train_labels[0])"
   ]
  },
  {
   "cell_type": "markdown",
   "metadata": {},
   "source": [
    "Preview Images (Pneumonia)"
   ]
  },
  {
   "cell_type": "code",
   "execution_count": 7,
   "metadata": {},
   "outputs": [
    {
     "data": {
      "image/png": "[encoded data removed]",
      "text/plain": [
       "<PIL.Image.Image image mode=RGB size=64x64 at 0x159387AA820>"
      ]
     },
     "execution_count": 7,
     "metadata": {},
     "output_type": "execute_result"
    }
   ],
   "source": [
    "array_to_img(train_images[90])"
   ]
  },
  {
   "cell_type": "code",
   "execution_count": 8,
   "metadata": {},
   "outputs": [
    {
     "name": "stdout",
     "output_type": "stream",
     "text": [
      "[0. 1.]\n"
     ]
    }
   ],
   "source": [
    "print(train_labels[90])"
   ]
  },
  {
   "cell_type": "code",
   "execution_count": 9,
   "metadata": {},
   "outputs": [
    {
     "name": "stdout",
     "output_type": "stream",
     "text": [
      "X_train shape:  (632, 64, 64, 3)\n",
      "y_train shape:  (632, 2)\n",
      "X_val shape:  (158, 64, 64, 3)\n",
      "y_val shape:  (158, 2)\n"
     ]
    }
   ],
   "source": [
    "print('X_train shape: ',np.shape(X_train))\n",
    "print('y_train shape: ',np.shape(y_train))\n",
    "print('X_val shape: ',np.shape(X_val))\n",
    "print('y_val shape: ',np.shape(y_val))"
   ]
  },
  {
   "cell_type": "markdown",
   "metadata": {},
   "source": [
    "Reshape images"
   ]
  },
  {
   "cell_type": "code",
   "execution_count": 10,
   "metadata": {},
   "outputs": [
    {
     "data": {
      "text/plain": [
       "(632, 12288)"
      ]
     },
     "execution_count": 10,
     "metadata": {},
     "output_type": "execute_result"
    }
   ],
   "source": [
    "#train set\n",
    "X_train_unrow = X_train.reshape(632, -1)\n",
    "X_train_unrow.shape"
   ]
  },
  {
   "cell_type": "code",
   "execution_count": 11,
   "metadata": {},
   "outputs": [
    {
     "data": {
      "text/plain": [
       "(158, 12288)"
      ]
     },
     "execution_count": 11,
     "metadata": {},
     "output_type": "execute_result"
    }
   ],
   "source": [
    "#test set\n",
    "X_val_unrow = X_val.reshape(158, -1)\n",
    "X_val_unrow.shape"
   ]
  },
  {
   "cell_type": "markdown",
   "metadata": {},
   "source": [
    "Labels for images"
   ]
  },
  {
   "cell_type": "code",
   "execution_count": 12,
   "metadata": {},
   "outputs": [
    {
     "data": {
      "text/plain": [
       "array([[0., 1.],\n",
       "       [0., 1.],\n",
       "       [1., 0.],\n",
       "       ...,\n",
       "       [1., 0.],\n",
       "       [0., 1.],\n",
       "       [0., 1.]], dtype=float32)"
      ]
     },
     "execution_count": 12,
     "metadata": {},
     "output_type": "execute_result"
    }
   ],
   "source": [
    "y_train"
   ]
  },
  {
   "cell_type": "code",
   "execution_count": 13,
   "metadata": {},
   "outputs": [
    {
     "data": {
      "text/plain": [
       "{'NORMAL': 0, 'PNEUMONIA': 1}"
      ]
     },
     "execution_count": 13,
     "metadata": {},
     "output_type": "execute_result"
    }
   ],
   "source": [
    "train_generator.class_indices"
   ]
  },
  {
   "cell_type": "markdown",
   "metadata": {},
   "source": [
    "Transpose and resize train and test sets"
   ]
  },
  {
   "cell_type": "code",
   "execution_count": 14,
   "metadata": {},
   "outputs": [],
   "source": [
    "#training set\n",
    "y_train_labels_final = np.reshape(y_train[:,0], (632,1))"
   ]
  },
  {
   "cell_type": "code",
   "execution_count": 15,
   "metadata": {},
   "outputs": [
    {
     "data": {
      "text/plain": [
       "(632, 1)"
      ]
     },
     "execution_count": 15,
     "metadata": {},
     "output_type": "execute_result"
    }
   ],
   "source": [
    "np.shape(y_train_labels_final)"
   ]
  },
  {
   "cell_type": "code",
   "execution_count": 16,
   "metadata": {},
   "outputs": [],
   "source": [
    "#test set\n",
    "y_val_labels_final = np.reshape(y_val[:,0], (158,1))"
   ]
  },
  {
   "cell_type": "code",
   "execution_count": 17,
   "metadata": {},
   "outputs": [
    {
     "data": {
      "text/plain": [
       "(158, 1)"
      ]
     },
     "execution_count": 17,
     "metadata": {},
     "output_type": "execute_result"
    }
   ],
   "source": [
    "np.shape(y_val_labels_final) "
   ]
  },
  {
   "cell_type": "code",
   "execution_count": 18,
   "metadata": {},
   "outputs": [
    {
     "data": {
      "text/plain": [
       "numpy.ndarray"
      ]
     },
     "execution_count": 18,
     "metadata": {},
     "output_type": "execute_result"
    }
   ],
   "source": [
    "#scaling the data\n",
    "X_train_img_final = X_train_unrow/255\n",
    "X_val_img_final = X_val_unrow/255\n",
    "\n",
    "type(X_val_img_final)"
   ]
  },
  {
   "cell_type": "code",
   "execution_count": 19,
   "metadata": {},
   "outputs": [
    {
     "name": "stdout",
     "output_type": "stream",
     "text": [
      "(632, 12288)\n",
      "(158, 12288)\n"
     ]
    }
   ],
   "source": [
    "print(X_train_img_final.shape)\n",
    "print(X_val_img_final.shape)"
   ]
  },
  {
   "cell_type": "markdown",
   "metadata": {},
   "source": [
    "TANH model creation"
   ]
  },
  {
   "cell_type": "code",
   "execution_count": 20,
   "metadata": {},
   "outputs": [],
   "source": [
    "np.random.seed(42)\n",
    "model_tanh = models.Sequential()\n",
    "model_tanh.add(layers.Dense(63, activation='tanh', input_shape=(12288,)))\n",
    "model_tanh.add(layers.Dense(42, activation='tanh'))\n",
    "model_tanh.add(layers.Dense(21, activation='tanh'))\n",
    "model_tanh.add(layers.Dense(1, activation='sigmoid')) #output layer, binary classification"
   ]
  },
  {
   "cell_type": "code",
   "execution_count": 21,
   "metadata": {},
   "outputs": [
    {
     "name": "stdout",
     "output_type": "stream",
     "text": [
      "Epoch 1/50\n",
      "20/20 [==============================] - 0s 25ms/step - loss: 0.5944 - recall: 0.0520 - val_loss: 0.5315 - val_recall: 0.0000e+00\n",
      "Epoch 2/50\n",
      "20/20 [==============================] - 0s 7ms/step - loss: 0.5514 - recall: 0.0000e+00 - val_loss: 0.4946 - val_recall: 0.0000e+00\n",
      "Epoch 3/50\n",
      "20/20 [==============================] - 0s 7ms/step - loss: 0.5219 - recall: 0.1618 - val_loss: 0.4341 - val_recall: 0.0263\n",
      "Epoch 4/50\n",
      "20/20 [==============================] - 0s 6ms/step - loss: 0.4930 - recall: 0.3295 - val_loss: 0.4579 - val_recall: 0.0263\n",
      "Epoch 5/50\n",
      "20/20 [==============================] - 0s 6ms/step - loss: 0.4518 - recall: 0.4971 - val_loss: 0.3765 - val_recall: 0.1579\n",
      "Epoch 6/50\n",
      "20/20 [==============================] - 0s 6ms/step - loss: 0.4905 - recall: 0.4624 - val_loss: 0.4426 - val_recall: 0.0000e+00\n",
      "Epoch 7/50\n",
      "20/20 [==============================] - 0s 6ms/step - loss: 0.4495 - recall: 0.4220 - val_loss: 0.6272 - val_recall: 1.0000\n",
      "Epoch 8/50\n",
      "20/20 [==============================] - 0s 6ms/step - loss: 0.4225 - recall: 0.5491 - val_loss: 0.3317 - val_recall: 0.8421\n",
      "Epoch 9/50\n",
      "20/20 [==============================] - 0s 5ms/step - loss: 0.3579 - recall: 0.6532 - val_loss: 0.3102 - val_recall: 0.4737\n",
      "Epoch 10/50\n",
      "20/20 [==============================] - 0s 5ms/step - loss: 0.4072 - recall: 0.6301 - val_loss: 0.3263 - val_recall: 0.3158\n",
      "Epoch 11/50\n",
      "20/20 [==============================] - 0s 6ms/step - loss: 0.3616 - recall: 0.6532 - val_loss: 0.3227 - val_recall: 0.3947\n",
      "Epoch 12/50\n",
      "20/20 [==============================] - 0s 6ms/step - loss: 0.3391 - recall: 0.7168 - val_loss: 0.2880 - val_recall: 0.5526\n",
      "Epoch 13/50\n",
      "20/20 [==============================] - 0s 6ms/step - loss: 0.3473 - recall: 0.6705 - val_loss: 0.2393 - val_recall: 0.8421\n",
      "Epoch 14/50\n",
      "20/20 [==============================] - 0s 5ms/step - loss: 0.3294 - recall: 0.7052 - val_loss: 0.4589 - val_recall: 1.0000\n",
      "Epoch 15/50\n",
      "20/20 [==============================] - 0s 6ms/step - loss: 0.3104 - recall: 0.7572 - val_loss: 0.2534 - val_recall: 0.6316\n",
      "Epoch 16/50\n",
      "20/20 [==============================] - 0s 5ms/step - loss: 0.2911 - recall: 0.7630 - val_loss: 0.3183 - val_recall: 0.3421\n",
      "Epoch 17/50\n",
      "20/20 [==============================] - 0s 6ms/step - loss: 0.2678 - recall: 0.7572 - val_loss: 0.2747 - val_recall: 0.4737\n",
      "Epoch 18/50\n",
      "20/20 [==============================] - 0s 6ms/step - loss: 0.2409 - recall: 0.7861 - val_loss: 0.3105 - val_recall: 0.3947\n",
      "Epoch 19/50\n",
      "20/20 [==============================] - 0s 6ms/step - loss: 0.3304 - recall: 0.6879 - val_loss: 0.3147 - val_recall: 0.3947\n",
      "Epoch 20/50\n",
      "20/20 [==============================] - 0s 6ms/step - loss: 0.2758 - recall: 0.7861 - val_loss: 0.3139 - val_recall: 0.2632\n",
      "Epoch 21/50\n",
      "20/20 [==============================] - 0s 5ms/step - loss: 0.3081 - recall: 0.7283 - val_loss: 0.2140 - val_recall: 0.7368\n",
      "Epoch 22/50\n",
      "20/20 [==============================] - 0s 5ms/step - loss: 0.2662 - recall: 0.7572 - val_loss: 0.2501 - val_recall: 0.9737\n",
      "Epoch 23/50\n",
      "20/20 [==============================] - 0s 6ms/step - loss: 0.2069 - recall: 0.8555 - val_loss: 0.1785 - val_recall: 0.8684\n",
      "Epoch 24/50\n",
      "20/20 [==============================] - 0s 5ms/step - loss: 0.2146 - recall: 0.8439 - val_loss: 0.2014 - val_recall: 0.7105\n",
      "Epoch 25/50\n",
      "20/20 [==============================] - 0s 5ms/step - loss: 0.2345 - recall: 0.8208 - val_loss: 0.1683 - val_recall: 0.8947\n",
      "Epoch 26/50\n",
      "20/20 [==============================] - 0s 5ms/step - loss: 0.2328 - recall: 0.8439 - val_loss: 0.1629 - val_recall: 0.8684\n",
      "Epoch 27/50\n",
      "20/20 [==============================] - 0s 5ms/step - loss: 0.2349 - recall: 0.8092 - val_loss: 0.1934 - val_recall: 0.9737\n",
      "Epoch 28/50\n",
      "20/20 [==============================] - 0s 5ms/step - loss: 0.2508 - recall: 0.8208 - val_loss: 0.1919 - val_recall: 0.9474\n",
      "Epoch 29/50\n",
      "20/20 [==============================] - 0s 5ms/step - loss: 0.2594 - recall: 0.8092 - val_loss: 0.3340 - val_recall: 0.3947\n",
      "Epoch 30/50\n",
      "20/20 [==============================] - 0s 5ms/step - loss: 0.1718 - recall: 0.8844 - val_loss: 0.2300 - val_recall: 0.6579\n",
      "Epoch 31/50\n",
      "20/20 [==============================] - 0s 5ms/step - loss: 0.1670 - recall: 0.8960 - val_loss: 0.1524 - val_recall: 0.9211\n",
      "Epoch 32/50\n",
      "20/20 [==============================] - 0s 6ms/step - loss: 0.2108 - recall: 0.8382 - val_loss: 0.1687 - val_recall: 0.9474\n",
      "Epoch 33/50\n",
      "20/20 [==============================] - 0s 5ms/step - loss: 0.1782 - recall: 0.8902 - val_loss: 0.1666 - val_recall: 0.7632\n",
      "Epoch 34/50\n",
      "20/20 [==============================] - 0s 5ms/step - loss: 0.2057 - recall: 0.8786 - val_loss: 0.4902 - val_recall: 0.2368\n",
      "Epoch 35/50\n",
      "20/20 [==============================] - 0s 6ms/step - loss: 0.2364 - recall: 0.8092 - val_loss: 0.1508 - val_recall: 0.8947\n",
      "Epoch 36/50\n",
      "20/20 [==============================] - 0s 6ms/step - loss: 0.1762 - recall: 0.8266 - val_loss: 0.4437 - val_recall: 1.0000\n",
      "Epoch 37/50\n",
      "20/20 [==============================] - 0s 6ms/step - loss: 0.2436 - recall: 0.8092 - val_loss: 0.1820 - val_recall: 0.9737\n",
      "Epoch 38/50\n",
      "20/20 [==============================] - 0s 5ms/step - loss: 0.1603 - recall: 0.8960 - val_loss: 0.1509 - val_recall: 0.9474\n",
      "Epoch 39/50\n",
      "20/20 [==============================] - 0s 6ms/step - loss: 0.1410 - recall: 0.9133 - val_loss: 0.1762 - val_recall: 0.9737\n",
      "Epoch 40/50\n",
      "20/20 [==============================] - 0s 6ms/step - loss: 0.1683 - recall: 0.8671 - val_loss: 0.1778 - val_recall: 0.9737\n",
      "Epoch 41/50\n",
      "20/20 [==============================] - 0s 5ms/step - loss: 0.1537 - recall: 0.8960 - val_loss: 0.1721 - val_recall: 0.7368\n",
      "Epoch 42/50\n",
      "20/20 [==============================] - 0s 5ms/step - loss: 0.2250 - recall: 0.8208 - val_loss: 0.1316 - val_recall: 0.9211\n",
      "Epoch 43/50\n",
      "20/20 [==============================] - 0s 6ms/step - loss: 0.1804 - recall: 0.8555 - val_loss: 0.1883 - val_recall: 0.6316\n",
      "Epoch 44/50\n",
      "20/20 [==============================] - 0s 6ms/step - loss: 0.1934 - recall: 0.8555 - val_loss: 0.1279 - val_recall: 0.8684\n",
      "Epoch 45/50\n",
      "20/20 [==============================] - 0s 7ms/step - loss: 0.1709 - recall: 0.8902 - val_loss: 0.1396 - val_recall: 0.8158\n",
      "Epoch 46/50\n",
      "20/20 [==============================] - 0s 6ms/step - loss: 0.1577 - recall: 0.8786 - val_loss: 0.1228 - val_recall: 0.9474\n",
      "Epoch 47/50\n",
      "20/20 [==============================] - 0s 6ms/step - loss: 0.1643 - recall: 0.8844 - val_loss: 0.2262 - val_recall: 0.5526\n",
      "Epoch 48/50\n",
      "20/20 [==============================] - 0s 6ms/step - loss: 0.1398 - recall: 0.8844 - val_loss: 0.3406 - val_recall: 1.0000\n",
      "Epoch 49/50\n",
      "20/20 [==============================] - 0s 6ms/step - loss: 0.1134 - recall: 0.9306 - val_loss: 0.7625 - val_recall: 1.0000\n",
      "Epoch 50/50\n",
      "20/20 [==============================] - 0s 6ms/step - loss: 0.2799 - recall: 0.7861 - val_loss: 0.1824 - val_recall: 0.7105\n"
     ]
    }
   ],
   "source": [
    "model_tanh.compile(optimizer='sgd',\n",
    "              loss='binary_crossentropy',\n",
    "              metrics=[tf.keras.metrics.Recall()])\n",
    "\n",
    "results_tanh = model_tanh.fit(X_train_img_final,\n",
    "                    y_train_labels_final,\n",
    "                    epochs=50,\n",
    "                    batch_size=32,\n",
    "                    validation_data=(X_val_img_final, y_val_labels_final))"
   ]
  },
  {
   "cell_type": "code",
   "execution_count": 22,
   "metadata": {},
   "outputs": [
    {
     "name": "stdout",
     "output_type": "stream",
     "text": [
      "20/20 [==============================] - 0s 2ms/step - loss: 0.1771 - recall: 0.7746\n"
     ]
    }
   ],
   "source": [
    "results_train = model_tanh.evaluate(X_train_img_final, y_train_labels_final)"
   ]
  },
  {
   "cell_type": "code",
   "execution_count": 23,
   "metadata": {},
   "outputs": [
    {
     "name": "stdout",
     "output_type": "stream",
     "text": [
      "5/5 [==============================] - 0s 2ms/step - loss: 0.1824 - recall: 0.7105\n"
     ]
    }
   ],
   "source": [
    "results_val = model_tanh.evaluate(X_val_img_final, y_val_labels_final)"
   ]
  },
  {
   "cell_type": "code",
   "execution_count": 24,
   "metadata": {},
   "outputs": [],
   "source": [
    "#plot acc vs loss for train and test set\n",
    "def visualize_results(results3):\n",
    "    history = results3.history\n",
    "    plt.figure()\n",
    "    plt.plot(history['val_loss'])\n",
    "    plt.plot(history['loss'])\n",
    "    plt.legend(['val_loss', 'loss'])\n",
    "    plt.title('Loss')\n",
    "    plt.xlabel('Epochs')\n",
    "    plt.ylabel('Loss')\n",
    "    plt.show();"
   ]
  },
  {
   "cell_type": "code",
   "execution_count": 25,
   "metadata": {},
   "outputs": [
    {
     "data": {
      "image/png": "[encoded data removed]",
      "text/plain": [
       "<Figure size 432x288 with 1 Axes>"
      ]
     },
     "metadata": {
      "needs_background": "light"
     },
     "output_type": "display_data"
    }
   ],
   "source": [
    "visualize_results(results_tanh)"
   ]
  },
  {
   "cell_type": "markdown",
   "metadata": {},
   "source": [
    "RELU Model"
   ]
  },
  {
   "cell_type": "code",
   "execution_count": 26,
   "metadata": {},
   "outputs": [],
   "source": [
    "np.random.seed(42)\n",
    "model_relu = models.Sequential()\n",
    "model_relu.add(layers.Dense(63, activation='relu', input_shape=(12288,)))\n",
    "model_relu.add(layers.Dense(42, activation='relu'))\n",
    "model_relu.add(layers.Dense(21, activation='relu'))\n",
    "model_relu.add(layers.Dense(1, activation='sigmoid')) #output layer, binary classification"
   ]
  },
  {
   "cell_type": "code",
   "execution_count": 27,
   "metadata": {},
   "outputs": [
    {
     "name": "stdout",
     "output_type": "stream",
     "text": [
      "Epoch 1/50\n",
      "20/20 [==============================] - 0s 17ms/step - loss: 0.5932 - recall_1: 0.0520 - acc: 0.7041 - val_loss: 0.5254 - val_recall_1: 0.0000e+00 - val_acc: 0.7595\n",
      "Epoch 2/50\n",
      "20/20 [==============================] - 0s 6ms/step - loss: 0.5447 - recall_1: 0.0000e+00 - acc: 0.7263 - val_loss: 0.4765 - val_recall_1: 0.0000e+00 - val_acc: 0.7595\n",
      "Epoch 3/50\n",
      "20/20 [==============================] - 0s 5ms/step - loss: 0.5280 - recall_1: 0.0751 - acc: 0.7421 - val_loss: 0.4719 - val_recall_1: 0.0000e+00 - val_acc: 0.7595\n",
      "Epoch 4/50\n",
      "20/20 [==============================] - 0s 6ms/step - loss: 0.4902 - recall_1: 0.2486 - acc: 0.7801 - val_loss: 0.8743 - val_recall_1: 1.0000 - val_acc: 0.2975\n",
      "Epoch 5/50\n",
      "20/20 [==============================] - 0s 7ms/step - loss: 0.4904 - recall_1: 0.3526 - acc: 0.7611 - val_loss: 0.3647 - val_recall_1: 0.5000 - val_acc: 0.8608\n",
      "Epoch 6/50\n",
      "20/20 [==============================] - 0s 6ms/step - loss: 0.3884 - recall_1: 0.5376 - acc: 0.8449 - val_loss: 0.3059 - val_recall_1: 0.4474 - val_acc: 0.8481\n",
      "Epoch 7/50\n",
      "20/20 [==============================] - 0s 5ms/step - loss: 0.4665 - recall_1: 0.4624 - acc: 0.8054 - val_loss: 0.3063 - val_recall_1: 0.6053 - val_acc: 0.8861\n",
      "Epoch 8/50\n",
      "20/20 [==============================] - 0s 6ms/step - loss: 0.3995 - recall_1: 0.5087 - acc: 0.8165 - val_loss: 0.2939 - val_recall_1: 0.8947 - val_acc: 0.9241\n",
      "Epoch 9/50\n",
      "20/20 [==============================] - 0s 6ms/step - loss: 0.3965 - recall_1: 0.5607 - acc: 0.8386 - val_loss: 0.3245 - val_recall_1: 0.9211 - val_acc: 0.8861\n",
      "Epoch 10/50\n",
      "20/20 [==============================] - 0s 6ms/step - loss: 0.3337 - recall_1: 0.6301 - acc: 0.8560 - val_loss: 0.2462 - val_recall_1: 0.6579 - val_acc: 0.8924\n",
      "Epoch 11/50\n",
      "20/20 [==============================] - 0s 9ms/step - loss: 0.3634 - recall_1: 0.6301 - acc: 0.8544 - val_loss: 0.2808 - val_recall_1: 0.6316 - val_acc: 0.8924\n",
      "Epoch 12/50\n",
      "20/20 [==============================] - 0s 7ms/step - loss: 0.3594 - recall_1: 0.6590 - acc: 0.8608 - val_loss: 0.3927 - val_recall_1: 1.0000 - val_acc: 0.8418\n",
      "Epoch 13/50\n",
      "20/20 [==============================] - 0s 7ms/step - loss: 0.2854 - recall_1: 0.7052 - acc: 0.8782 - val_loss: 0.2312 - val_recall_1: 0.8947 - val_acc: 0.9241\n",
      "Epoch 14/50\n",
      "20/20 [==============================] - 0s 7ms/step - loss: 0.4699 - recall_1: 0.4451 - acc: 0.8038 - val_loss: 0.3005 - val_recall_1: 0.3684 - val_acc: 0.8354\n",
      "Epoch 15/50\n",
      "20/20 [==============================] - 0s 6ms/step - loss: 0.3594 - recall_1: 0.6185 - acc: 0.8513 - val_loss: 0.2558 - val_recall_1: 0.8947 - val_acc: 0.9367\n",
      "Epoch 16/50\n",
      "20/20 [==============================] - 0s 7ms/step - loss: 0.3144 - recall_1: 0.6821 - acc: 0.8718 - val_loss: 0.2375 - val_recall_1: 0.6316 - val_acc: 0.8924\n",
      "Epoch 17/50\n",
      "20/20 [==============================] - 0s 6ms/step - loss: 0.2967 - recall_1: 0.6936 - acc: 0.8718 - val_loss: 0.2086 - val_recall_1: 0.7368 - val_acc: 0.9177\n",
      "Epoch 18/50\n",
      "20/20 [==============================] - 0s 6ms/step - loss: 0.2369 - recall_1: 0.7457 - acc: 0.9066 - val_loss: 0.2834 - val_recall_1: 0.9737 - val_acc: 0.8924\n",
      "Epoch 19/50\n",
      "20/20 [==============================] - 0s 6ms/step - loss: 0.3577 - recall_1: 0.6879 - acc: 0.8513 - val_loss: 0.4992 - val_recall_1: 0.0000e+00 - val_acc: 0.7595\n",
      "Epoch 20/50\n",
      "20/20 [==============================] - 0s 6ms/step - loss: 0.2787 - recall_1: 0.6879 - acc: 0.8877 - val_loss: 0.1915 - val_recall_1: 0.8947 - val_acc: 0.9430\n",
      "Epoch 21/50\n",
      "20/20 [==============================] - 0s 6ms/step - loss: 0.1992 - recall_1: 0.7919 - acc: 0.9161 - val_loss: 0.2092 - val_recall_1: 0.9474 - val_acc: 0.9241\n",
      "Epoch 22/50\n",
      "20/20 [==============================] - 0s 7ms/step - loss: 0.2821 - recall_1: 0.7803 - acc: 0.8908 - val_loss: 0.1767 - val_recall_1: 0.8947 - val_acc: 0.9430\n",
      "Epoch 23/50\n",
      "20/20 [==============================] - 0s 7ms/step - loss: 0.1937 - recall_1: 0.8382 - acc: 0.9272 - val_loss: 0.3138 - val_recall_1: 0.9737 - val_acc: 0.8608\n",
      "Epoch 24/50\n",
      "20/20 [==============================] - 0s 6ms/step - loss: 0.3076 - recall_1: 0.7919 - acc: 0.8813 - val_loss: 0.3928 - val_recall_1: 0.1842 - val_acc: 0.8038\n",
      "Epoch 25/50\n",
      "20/20 [==============================] - 0s 6ms/step - loss: 0.2137 - recall_1: 0.7861 - acc: 0.9209 - val_loss: 0.1771 - val_recall_1: 0.9474 - val_acc: 0.9367\n",
      "Epoch 26/50\n",
      "20/20 [==============================] - 0s 6ms/step - loss: 0.1801 - recall_1: 0.8497 - acc: 0.9256 - val_loss: 0.5848 - val_recall_1: 0.2105 - val_acc: 0.8101\n",
      "Epoch 27/50\n",
      "20/20 [==============================] - 0s 6ms/step - loss: 0.2226 - recall_1: 0.8092 - acc: 0.9066 - val_loss: 0.3072 - val_recall_1: 0.3684 - val_acc: 0.8481\n",
      "Epoch 28/50\n",
      "20/20 [==============================] - 0s 7ms/step - loss: 0.3024 - recall_1: 0.7572 - acc: 0.8813 - val_loss: 0.1612 - val_recall_1: 0.8684 - val_acc: 0.9494\n",
      "Epoch 29/50\n",
      "20/20 [==============================] - 0s 7ms/step - loss: 0.2499 - recall_1: 0.7803 - acc: 0.9019 - val_loss: 0.1612 - val_recall_1: 0.9211 - val_acc: 0.9620\n",
      "Epoch 30/50\n",
      "20/20 [==============================] - 0s 6ms/step - loss: 0.2089 - recall_1: 0.8208 - acc: 0.9193 - val_loss: 0.4443 - val_recall_1: 1.0000 - val_acc: 0.7911\n",
      "Epoch 31/50\n",
      "20/20 [==============================] - 0s 6ms/step - loss: 0.2079 - recall_1: 0.8439 - acc: 0.9256 - val_loss: 0.1644 - val_recall_1: 0.7105 - val_acc: 0.9114\n",
      "Epoch 32/50\n",
      "20/20 [==============================] - 0s 6ms/step - loss: 0.2721 - recall_1: 0.7514 - acc: 0.8845 - val_loss: 0.1729 - val_recall_1: 0.7105 - val_acc: 0.9114\n",
      "Epoch 33/50\n",
      "20/20 [==============================] - 0s 7ms/step - loss: 0.1491 - recall_1: 0.8902 - acc: 0.9478 - val_loss: 0.1587 - val_recall_1: 0.7105 - val_acc: 0.9114\n",
      "Epoch 34/50\n",
      "20/20 [==============================] - 0s 6ms/step - loss: 0.1905 - recall_1: 0.8035 - acc: 0.9177 - val_loss: 0.1550 - val_recall_1: 0.7368 - val_acc: 0.9177\n",
      "Epoch 35/50\n",
      "20/20 [==============================] - 0s 7ms/step - loss: 0.2413 - recall_1: 0.7919 - acc: 0.9066 - val_loss: 0.1554 - val_recall_1: 0.8684 - val_acc: 0.9494\n",
      "Epoch 36/50\n",
      "20/20 [==============================] - 0s 7ms/step - loss: 0.1790 - recall_1: 0.8613 - acc: 0.9399 - val_loss: 0.1512 - val_recall_1: 0.9211 - val_acc: 0.9494\n",
      "Epoch 37/50\n",
      "20/20 [==============================] - 0s 6ms/step - loss: 0.1536 - recall_1: 0.8439 - acc: 0.9288 - val_loss: 0.1410 - val_recall_1: 0.9211 - val_acc: 0.9620\n",
      "Epoch 38/50\n",
      "20/20 [==============================] - 0s 6ms/step - loss: 0.1632 - recall_1: 0.8439 - acc: 0.9288 - val_loss: 0.6721 - val_recall_1: 1.0000 - val_acc: 0.7278\n",
      "Epoch 39/50\n",
      "20/20 [==============================] - 0s 6ms/step - loss: 0.2260 - recall_1: 0.8150 - acc: 0.9098 - val_loss: 0.1672 - val_recall_1: 0.9737 - val_acc: 0.9430\n",
      "Epoch 40/50\n",
      "20/20 [==============================] - 0s 6ms/step - loss: 0.1895 - recall_1: 0.8324 - acc: 0.9225 - val_loss: 0.1379 - val_recall_1: 0.9211 - val_acc: 0.9620\n",
      "Epoch 41/50\n",
      "20/20 [==============================] - 0s 6ms/step - loss: 0.1386 - recall_1: 0.8786 - acc: 0.9462 - val_loss: 0.1470 - val_recall_1: 0.9474 - val_acc: 0.9557\n",
      "Epoch 42/50\n",
      "20/20 [==============================] - 0s 6ms/step - loss: 0.1505 - recall_1: 0.8844 - acc: 0.9399 - val_loss: 0.1634 - val_recall_1: 0.7105 - val_acc: 0.9177\n",
      "Epoch 43/50\n",
      "20/20 [==============================] - 0s 6ms/step - loss: 0.1682 - recall_1: 0.8497 - acc: 0.9320 - val_loss: 0.1901 - val_recall_1: 0.6316 - val_acc: 0.9051\n",
      "Epoch 44/50\n",
      "20/20 [==============================] - 0s 6ms/step - loss: 0.1387 - recall_1: 0.8786 - acc: 0.9462 - val_loss: 0.1278 - val_recall_1: 0.9211 - val_acc: 0.9620\n",
      "Epoch 45/50\n",
      "20/20 [==============================] - 0s 6ms/step - loss: 0.2544 - recall_1: 0.8035 - acc: 0.9019 - val_loss: 0.1327 - val_recall_1: 0.9211 - val_acc: 0.9620\n",
      "Epoch 46/50\n",
      "20/20 [==============================] - 0s 6ms/step - loss: 0.1651 - recall_1: 0.8728 - acc: 0.9335 - val_loss: 0.2220 - val_recall_1: 0.5789 - val_acc: 0.8924\n",
      "Epoch 47/50\n",
      "20/20 [==============================] - 0s 7ms/step - loss: 0.1929 - recall_1: 0.8266 - acc: 0.9161 - val_loss: 0.1317 - val_recall_1: 0.9211 - val_acc: 0.9620\n",
      "Epoch 48/50\n"
     ]
    },
    {
     "name": "stdout",
     "output_type": "stream",
     "text": [
      "20/20 [==============================] - 0s 7ms/step - loss: 0.1086 - recall_1: 0.9017 - acc: 0.9557 - val_loss: 0.1540 - val_recall_1: 0.9737 - val_acc: 0.9494\n",
      "Epoch 49/50\n",
      "20/20 [==============================] - 0s 6ms/step - loss: 0.1232 - recall_1: 0.9133 - acc: 0.9525 - val_loss: 0.5343 - val_recall_1: 1.0000 - val_acc: 0.7595\n",
      "Epoch 50/50\n",
      "20/20 [==============================] - 0s 6ms/step - loss: 0.2239 - recall_1: 0.8613 - acc: 0.9304 - val_loss: 0.1325 - val_recall_1: 0.9474 - val_acc: 0.9557\n"
     ]
    }
   ],
   "source": [
    "model_relu.compile(optimizer='sgd',\n",
    "              loss='binary_crossentropy',\n",
    "              metrics=[tf.keras.metrics.Recall(), 'acc'])\n",
    "\n",
    "results = model_relu.fit(X_train_img_final,\n",
    "                    y_train_labels_final,\n",
    "                    epochs=50,\n",
    "                    batch_size=32,\n",
    "                    validation_data=(X_val_img_final, y_val_labels_final))"
   ]
  },
  {
   "cell_type": "code",
   "execution_count": 28,
   "metadata": {},
   "outputs": [
    {
     "name": "stdout",
     "output_type": "stream",
     "text": [
      "20/20 [==============================] - 0s 2ms/step - loss: 0.1040 - recall_1: 0.9480 - acc: 0.9652\n"
     ]
    }
   ],
   "source": [
    "results_train = model_relu.evaluate(X_train_img_final, y_train_labels_final)"
   ]
  },
  {
   "cell_type": "code",
   "execution_count": 29,
   "metadata": {
    "scrolled": false
   },
   "outputs": [
    {
     "name": "stdout",
     "output_type": "stream",
     "text": [
      "5/5 [==============================] - 0s 2ms/step - loss: 0.1325 - recall_1: 0.9474 - acc: 0.9557\n"
     ]
    }
   ],
   "source": [
    "results_val = model_relu.evaluate(X_val_img_final, y_val_labels_final)"
   ]
  },
  {
   "cell_type": "code",
   "execution_count": 37,
   "metadata": {},
   "outputs": [
    {
     "data": {
      "text/plain": [
       "<AxesSubplot:>"
      ]
     },
     "execution_count": 37,
     "metadata": {},
     "output_type": "execute_result"
    },
    {
     "data": {
      "image/png": "[encoded data removed]",
      "text/plain": [
       "<Figure size 432x288 with 2 Axes>"
      ]
     },
     "metadata": {
      "needs_background": "light"
     },
     "output_type": "display_data"
    }
   ],
   "source": [
    "label_pred = (model_relu.predict(X_val_img_final) > 0.5).astype(int)\n",
    "\n",
    "cf_matrix = confusion_matrix(y_val_labels_final, label_pred)\n",
    "\n",
    "sns.heatmap(cf_matrix, annot=True)"
   ]
  },
  {
   "cell_type": "code",
   "execution_count": 38,
   "metadata": {},
   "outputs": [
    {
     "data": {
      "image/png": "[encoded data removed]",
      "text/plain": [
       "<Figure size 432x288 with 1 Axes>"
      ]
     },
     "metadata": {
      "needs_background": "light"
     },
     "output_type": "display_data"
    }
   ],
   "source": [
    "visualize_results(results)"
   ]
  },
  {
   "cell_type": "code",
   "execution_count": null,
   "metadata": {},
   "outputs": [],
   "source": []
  }
 ],
 "metadata": {
  "kernelspec": {
   "display_name": "Python 3",
   "language": "python",
   "name": "python3"
  },
  "language_info": {
   "codemirror_mode": {
    "name": "ipython",
    "version": 3
   },
   "file_extension": ".py",
   "mimetype": "text/x-python",
   "name": "python",
   "nbconvert_exporter": "python",
   "pygments_lexer": "ipython3",
   "version": "3.8.5"
  }
 },
 "nbformat": 4,
 "nbformat_minor": 4
}
