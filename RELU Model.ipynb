{
 "cells": [
  {
   "cell_type": "markdown",
   "metadata": {},
   "source": [
    "Pneumonia Image Recognitionognition"
   ]
  },
  {
   "cell_type": "markdown",
   "metadata": {},
   "source": [
    "Introduction/ Buisness Understanding"
   ]
  },
  {
   "cell_type": "markdown",
   "metadata": {},
   "source": [
    "Pneumonia is an infection of one or both of the lungs caused by bacteria, viruses, or fungi. It is a serious infection in which the air sacs fill with pus and other liquid. Lobar pneumonia affects one or more sections (lobes) of the lungs. Pneumonia accounts for 14% of all deaths of children under 5 years old, killing 740 180 children in 2019 The cost of antibiotic treatment for all children with pneumonia in 66 of the countdown to 2015 countries for maternal, newborn and child survival is estimated at around US$ 109 million per year. The price includes the antibiotics and diagnostics for pneumonia management. treat pneumonia focusing on making sure that every sick child has access to the right kind of care -- either from a community-based health worker, or in a health facility if the disease is severe -- and can get the antibiotics and oxygen they need to get well; Pneumonia is the world’s biggest infectious killer of adults and children – claiming 2.5 million lives, including 672,000 children under five, in 2019. That’s one person dying every 13 seconds"
   ]
  },
  {
   "cell_type": "markdown",
   "metadata": {},
   "source": [
    "Import Libraries"
   ]
  },
  {
   "cell_type": "code",
   "execution_count": 2,
   "metadata": {},
   "outputs": [],
   "source": [
    "#!pip install tensorflow"
   ]
  },
  {
   "cell_type": "code",
   "execution_count": 3,
   "metadata": {},
   "outputs": [],
   "source": [
    "# Necessary libraries and classes\n",
    "import numpy as np\n",
    "import pandas as pd\n",
    "from sklearn.model_selection import train_test_split\n",
    "from sklearn.preprocessing import StandardScaler, OneHotEncoder\n",
    "from sklearn.impute import SimpleImputer\n",
    "from sklearn.metrics import mean_squared_error\n",
    "from sklearn.model_selection import cross_val_predict\n",
    "from keras import models\n",
    "from keras import layers\n",
    "from keras import regularizers\n",
    "from keras.wrappers.scikit_learn import KerasRegressor\n",
    "\n",
    "\n",
    "import matplotlib.pyplot as plt\n",
    "%matplotlib inline\n",
    "import keras\n",
    "from keras.models import Sequential\n",
    "from keras.layers import Dense\n",
    "from keras.datasets import mnist\n",
    "import os\n",
    "os.environ['KMP_DUPLICATE_LIB_OK']='True' #This prevents kernel shut down due to xgboost conflict\n",
    "\n",
    "import tensorflow as tf\n",
    "from matplotlib import pyplot as plt\n",
    "from tensorflow.keras import datasets, layers, models\n",
    "\n",
    "from keras.preprocessing.image import ImageDataGenerator, array_to_img, img_to_array, load_img\n",
    "from keras import models\n",
    "from keras import layers\n",
    "from keras.callbacks import EarlyStopping, ModelCheckpoint\n"
   ]
  },
  {
   "cell_type": "markdown",
   "metadata": {},
   "source": [
    "Functions"
   ]
  },
  {
   "cell_type": "markdown",
   "metadata": {},
   "source": [
    "Data Understanding"
   ]
  },
  {
   "cell_type": "markdown",
   "metadata": {},
   "source": [
    "The data contains more than 5000 images of pneumonia of viral and bacterial pneumonia of and children 1-5 in Guangzhou Women and Children’s Medical Center, Guangzhou. The dataset is organized into 3 folders (train, test, val) and contains subfolders for each image category (Pneumonia/Normal). There are 5,863 X-Ray images (JPEG) and 2 categories (Pneumonia/Normal).\n",
    "\n",
    "Chest X-ray images (anterior-posterior) were selected from retrospective cohorts of pediatric patients of one to five years old from Guangzhou Women and Children’s Medical Center, Guangzhou. All chest X-ray imaging was performed as part of patients’ routine clinical care.\n",
    "\n",
    "For the analysis of chest x-ray images, all chest radiographs were initially screened for quality control by removing all low quality or unreadable scans. The diagnoses for the images were then graded by two expert physicians before being cleared for training the AI system. In order to account for any grading errors, the evaluation set was also checked by a third expert."
   ]
  },
  {
   "cell_type": "markdown",
   "metadata": {},
   "source": [
    "Data Cleaning"
   ]
  },
  {
   "cell_type": "code",
   "execution_count": 4,
   "metadata": {
    "scrolled": false
   },
   "outputs": [
    {
     "name": "stdout",
     "output_type": "stream",
     "text": [
      "Found 624 images belonging to 2 classes.\n",
      "Found 5232 images belonging to 2 classes.\n"
     ]
    }
   ],
   "source": [
    "train_data_dir = 'train'\n",
    "test_data_dir = 'test'\n",
    "\n",
    "#Get all the data in the directory data/validation (132 images), and reshape them\n",
    "test_generator = ImageDataGenerator().flow_from_directory(\n",
    "       test_data_dir, \n",
    "       target_size=(64, 64), batch_size=132)\n",
    "\n",
    "#Get all the data in the directory data/train (790 images), and reshape them\n",
    "train_generator = ImageDataGenerator().flow_from_directory(\n",
    "       train_data_dir, \n",
    "       target_size=(64, 64), batch_size=790)\n",
    "\n",
    "#Create the datasets\n",
    "train_images, train_labels = next(train_generator)\n",
    "test_images, test_labels = next(test_generator)"
   ]
  },
  {
   "cell_type": "markdown",
   "metadata": {},
   "source": [
    "Create validation set from training set"
   ]
  },
  {
   "cell_type": "code",
   "execution_count": 5,
   "metadata": {},
   "outputs": [],
   "source": [
    "X = train_images\n",
    "y = train_labels\n",
    "\n",
    "X_train, X_val, y_train, y_val = train_test_split(X, y, test_size=0.2, random_state=42)"
   ]
  },
  {
   "cell_type": "markdown",
   "metadata": {},
   "source": [
    "Preview images (Normal)"
   ]
  },
  {
   "cell_type": "code",
   "execution_count": 6,
   "metadata": {},
   "outputs": [
    {
     "data": {
      "image/png": "[encoded data removed]",
      "text/plain": [
       "<PIL.Image.Image image mode=RGB size=64x64 at 0x1842EF4C3D0>"
      ]
     },
     "execution_count": 6,
     "metadata": {},
     "output_type": "execute_result"
    }
   ],
   "source": [
    "array_to_img(train_images[0])"
   ]
  },
  {
   "cell_type": "code",
   "execution_count": 7,
   "metadata": {},
   "outputs": [
    {
     "name": "stdout",
     "output_type": "stream",
     "text": [
      "[1. 0.]\n"
     ]
    }
   ],
   "source": [
    "print(train_labels[0])"
   ]
  },
  {
   "cell_type": "markdown",
   "metadata": {},
   "source": [
    "Preview Images (Pneumonia)"
   ]
  },
  {
   "cell_type": "code",
   "execution_count": 8,
   "metadata": {},
   "outputs": [
    {
     "data": {
      "image/png": "[encoded data removed]",
      "text/plain": [
       "<PIL.Image.Image image mode=RGB size=64x64 at 0x1842EF5ECD0>"
      ]
     },
     "execution_count": 8,
     "metadata": {},
     "output_type": "execute_result"
    }
   ],
   "source": [
    "array_to_img(train_images[90])"
   ]
  },
  {
   "cell_type": "code",
   "execution_count": 9,
   "metadata": {},
   "outputs": [
    {
     "name": "stdout",
     "output_type": "stream",
     "text": [
      "[0. 1.]\n"
     ]
    }
   ],
   "source": [
    "print(train_labels[90])"
   ]
  },
  {
   "cell_type": "code",
   "execution_count": 10,
   "metadata": {},
   "outputs": [
    {
     "name": "stdout",
     "output_type": "stream",
     "text": [
      "X_train shape:  (632, 64, 64, 3)\n",
      "y_train shape:  (632, 2)\n",
      "X_val shape:  (158, 64, 64, 3)\n",
      "y_val shape:  (158, 2)\n"
     ]
    }
   ],
   "source": [
    "print('X_train shape: ',np.shape(X_train))\n",
    "print('y_train shape: ',np.shape(y_train))\n",
    "print('X_val shape: ',np.shape(X_val))\n",
    "print('y_val shape: ',np.shape(y_val))"
   ]
  },
  {
   "cell_type": "markdown",
   "metadata": {},
   "source": [
    "Reshape images"
   ]
  },
  {
   "cell_type": "code",
   "execution_count": 11,
   "metadata": {},
   "outputs": [
    {
     "data": {
      "text/plain": [
       "(632, 12288)"
      ]
     },
     "execution_count": 11,
     "metadata": {},
     "output_type": "execute_result"
    }
   ],
   "source": [
    "#train set\n",
    "X_train_unrow = X_train.reshape(632, -1)\n",
    "X_train_unrow.shape"
   ]
  },
  {
   "cell_type": "code",
   "execution_count": 12,
   "metadata": {},
   "outputs": [
    {
     "data": {
      "text/plain": [
       "(158, 12288)"
      ]
     },
     "execution_count": 12,
     "metadata": {},
     "output_type": "execute_result"
    }
   ],
   "source": [
    "#test set\n",
    "X_val_unrow = X_val.reshape(158, -1)\n",
    "X_val_unrow.shape"
   ]
  },
  {
   "cell_type": "markdown",
   "metadata": {},
   "source": [
    "Labels for images"
   ]
  },
  {
   "cell_type": "code",
   "execution_count": 13,
   "metadata": {},
   "outputs": [
    {
     "data": {
      "text/plain": [
       "array([[0., 1.],\n",
       "       [1., 0.],\n",
       "       [0., 1.],\n",
       "       ...,\n",
       "       [0., 1.],\n",
       "       [0., 1.],\n",
       "       [0., 1.]], dtype=float32)"
      ]
     },
     "execution_count": 13,
     "metadata": {},
     "output_type": "execute_result"
    }
   ],
   "source": [
    "y_train"
   ]
  },
  {
   "cell_type": "code",
   "execution_count": 14,
   "metadata": {},
   "outputs": [
    {
     "data": {
      "text/plain": [
       "{'NORMAL': 0, 'PNEUMONIA': 1}"
      ]
     },
     "execution_count": 14,
     "metadata": {},
     "output_type": "execute_result"
    }
   ],
   "source": [
    "train_generator.class_indices"
   ]
  },
  {
   "cell_type": "markdown",
   "metadata": {},
   "source": [
    "Transpose and resize train and test sets"
   ]
  },
  {
   "cell_type": "code",
   "execution_count": 15,
   "metadata": {},
   "outputs": [],
   "source": [
    "#training set\n",
    "y_train_labels_final = np.reshape(y_train[:,0], (632,1))"
   ]
  },
  {
   "cell_type": "code",
   "execution_count": 16,
   "metadata": {},
   "outputs": [
    {
     "data": {
      "text/plain": [
       "(632, 1)"
      ]
     },
     "execution_count": 16,
     "metadata": {},
     "output_type": "execute_result"
    }
   ],
   "source": [
    "np.shape(y_train_labels_final)"
   ]
  },
  {
   "cell_type": "code",
   "execution_count": 17,
   "metadata": {},
   "outputs": [],
   "source": [
    "#test set\n",
    "y_val_labels_final = np.reshape(y_val[:,0], (158,1))"
   ]
  },
  {
   "cell_type": "code",
   "execution_count": 18,
   "metadata": {},
   "outputs": [
    {
     "data": {
      "text/plain": [
       "(158, 1)"
      ]
     },
     "execution_count": 18,
     "metadata": {},
     "output_type": "execute_result"
    }
   ],
   "source": [
    "np.shape(y_val_labels_final) "
   ]
  },
  {
   "cell_type": "code",
   "execution_count": 19,
   "metadata": {},
   "outputs": [
    {
     "data": {
      "text/plain": [
       "numpy.ndarray"
      ]
     },
     "execution_count": 19,
     "metadata": {},
     "output_type": "execute_result"
    }
   ],
   "source": [
    "#scaling the data\n",
    "X_train_img_final = X_train_unrow/255\n",
    "X_val_img_final = X_val_unrow/255\n",
    "\n",
    "type(X_val_img_final)"
   ]
  },
  {
   "cell_type": "code",
   "execution_count": 20,
   "metadata": {},
   "outputs": [
    {
     "name": "stdout",
     "output_type": "stream",
     "text": [
      "(632, 12288)\n",
      "(158, 12288)\n"
     ]
    }
   ],
   "source": [
    "print(X_train_img_final.shape)\n",
    "print(X_val_img_final.shape)"
   ]
  },
  {
   "cell_type": "markdown",
   "metadata": {},
   "source": [
    "TANH model creation"
   ]
  },
  {
   "cell_type": "code",
   "execution_count": 21,
   "metadata": {},
   "outputs": [],
   "source": [
    "np.random.seed(42)\n",
    "model_tanh = models.Sequential()\n",
    "model_tanh.add(layers.Dense(63, activation='tanh', input_shape=(12288,)))\n",
    "model_tanh.add(layers.Dense(42, activation='tanh'))\n",
    "model_tanh.add(layers.Dense(21, activation='tanh'))\n",
    "model_tanh.add(layers.Dense(1, activation='sigmoid')) #output layer, binary classification"
   ]
  },
  {
   "cell_type": "code",
   "execution_count": 22,
   "metadata": {},
   "outputs": [
    {
     "name": "stdout",
     "output_type": "stream",
     "text": [
      "Epoch 1/50\n",
      "20/20 [==============================] - 1s 26ms/step - loss: 0.5901 - recall: 0.0000e+00 - val_loss: 0.5376 - val_recall: 0.0000e+00\n",
      "Epoch 2/50\n",
      "20/20 [==============================] - 0s 6ms/step - loss: 0.5581 - recall: 0.0599 - val_loss: 0.5083 - val_recall: 0.0000e+00\n",
      "Epoch 3/50\n",
      "20/20 [==============================] - 0s 6ms/step - loss: 0.5420 - recall: 0.0958 - val_loss: 0.4743 - val_recall: 0.0000e+00\n",
      "Epoch 4/50\n",
      "20/20 [==============================] - 0s 6ms/step - loss: 0.5006 - recall: 0.2096 - val_loss: 0.4496 - val_recall: 0.0000e+00\n",
      "Epoch 5/50\n",
      "20/20 [==============================] - 0s 6ms/step - loss: 0.4514 - recall: 0.3473 - val_loss: 0.5371 - val_recall: 0.0000e+00\n",
      "Epoch 6/50\n",
      "20/20 [==============================] - 0s 6ms/step - loss: 0.4532 - recall: 0.4072 - val_loss: 0.3755 - val_recall: 0.2439\n",
      "Epoch 7/50\n",
      "20/20 [==============================] - 0s 6ms/step - loss: 0.4364 - recall: 0.4311 - val_loss: 0.3550 - val_recall: 0.2927\n",
      "Epoch 8/50\n",
      "20/20 [==============================] - 0s 6ms/step - loss: 0.3665 - recall: 0.5749 - val_loss: 0.4241 - val_recall: 0.2195\n",
      "Epoch 9/50\n",
      "20/20 [==============================] - 0s 6ms/step - loss: 0.3732 - recall: 0.5928 - val_loss: 0.2735 - val_recall: 0.7073\n",
      "Epoch 10/50\n",
      "20/20 [==============================] - 0s 5ms/step - loss: 0.3625 - recall: 0.6527 - val_loss: 0.5382 - val_recall: 0.0000e+00\n",
      "Epoch 11/50\n",
      "20/20 [==============================] - 0s 6ms/step - loss: 0.3445 - recall: 0.6048 - val_loss: 0.2363 - val_recall: 0.7561\n",
      "Epoch 12/50\n",
      "20/20 [==============================] - 0s 6ms/step - loss: 0.3349 - recall: 0.6228 - val_loss: 0.3035 - val_recall: 0.8780\n",
      "Epoch 13/50\n",
      "20/20 [==============================] - 0s 6ms/step - loss: 0.3600 - recall: 0.6527 - val_loss: 0.2815 - val_recall: 0.5366\n",
      "Epoch 14/50\n",
      "20/20 [==============================] - 0s 6ms/step - loss: 0.3037 - recall: 0.6826 - val_loss: 0.2131 - val_recall: 0.8537\n",
      "Epoch 15/50\n",
      "20/20 [==============================] - 0s 6ms/step - loss: 0.3197 - recall: 0.6946 - val_loss: 0.2406 - val_recall: 0.9024\n",
      "Epoch 16/50\n",
      "20/20 [==============================] - 0s 6ms/step - loss: 0.2890 - recall: 0.7485 - val_loss: 0.4464 - val_recall: 0.2439\n",
      "Epoch 17/50\n",
      "20/20 [==============================] - 0s 6ms/step - loss: 0.2956 - recall: 0.7066 - val_loss: 0.2966 - val_recall: 0.4878\n",
      "Epoch 18/50\n",
      "20/20 [==============================] - 0s 6ms/step - loss: 0.3503 - recall: 0.6766 - val_loss: 0.1893 - val_recall: 0.8049\n",
      "Epoch 19/50\n",
      "20/20 [==============================] - 0s 6ms/step - loss: 0.2574 - recall: 0.7725 - val_loss: 0.2033 - val_recall: 0.8049\n",
      "Epoch 20/50\n",
      "20/20 [==============================] - 0s 6ms/step - loss: 0.1970 - recall: 0.8263 - val_loss: 0.1758 - val_recall: 0.8780\n",
      "Epoch 21/50\n",
      "20/20 [==============================] - 0s 6ms/step - loss: 0.2462 - recall: 0.7964 - val_loss: 0.2242 - val_recall: 0.6585\n",
      "Epoch 22/50\n",
      "20/20 [==============================] - 0s 6ms/step - loss: 0.2130 - recall: 0.8144 - val_loss: 0.1641 - val_recall: 0.8780\n",
      "Epoch 23/50\n",
      "20/20 [==============================] - 0s 6ms/step - loss: 0.2603 - recall: 0.7665 - val_loss: 0.2162 - val_recall: 0.8780\n",
      "Epoch 24/50\n",
      "20/20 [==============================] - 0s 6ms/step - loss: 0.2520 - recall: 0.7844 - val_loss: 0.1802 - val_recall: 0.7805\n",
      "Epoch 25/50\n",
      "20/20 [==============================] - 0s 6ms/step - loss: 0.2388 - recall: 0.7665 - val_loss: 0.3429 - val_recall: 0.9512\n",
      "Epoch 26/50\n",
      "20/20 [==============================] - 0s 6ms/step - loss: 0.2150 - recall: 0.8563 - val_loss: 0.3776 - val_recall: 1.0000\n",
      "Epoch 27/50\n",
      "20/20 [==============================] - 0s 6ms/step - loss: 0.1878 - recall: 0.8563 - val_loss: 0.4135 - val_recall: 0.2927\n",
      "Epoch 28/50\n",
      "20/20 [==============================] - 0s 6ms/step - loss: 0.2495 - recall: 0.7725 - val_loss: 0.1456 - val_recall: 0.8780\n",
      "Epoch 29/50\n",
      "20/20 [==============================] - 0s 6ms/step - loss: 0.2088 - recall: 0.8024 - val_loss: 0.3468 - val_recall: 1.0000\n",
      "Epoch 30/50\n",
      "20/20 [==============================] - 0s 5ms/step - loss: 0.1711 - recall: 0.8743 - val_loss: 0.1335 - val_recall: 0.8780\n",
      "Epoch 31/50\n",
      "20/20 [==============================] - 0s 6ms/step - loss: 0.2154 - recall: 0.7844 - val_loss: 0.3966 - val_recall: 1.0000\n",
      "Epoch 32/50\n",
      "20/20 [==============================] - 0s 6ms/step - loss: 0.1816 - recall: 0.8563 - val_loss: 0.1269 - val_recall: 0.8780\n",
      "Epoch 33/50\n",
      "20/20 [==============================] - 0s 6ms/step - loss: 0.1444 - recall: 0.8802 - val_loss: 0.1216 - val_recall: 0.9024\n",
      "Epoch 34/50\n",
      "20/20 [==============================] - 0s 6ms/step - loss: 0.2064 - recall: 0.8383 - val_loss: 0.1398 - val_recall: 0.8780\n",
      "Epoch 35/50\n",
      "20/20 [==============================] - 0s 6ms/step - loss: 0.2096 - recall: 0.8144 - val_loss: 0.1426 - val_recall: 0.8293\n",
      "Epoch 36/50\n",
      "20/20 [==============================] - 0s 6ms/step - loss: 0.1938 - recall: 0.8084 - val_loss: 0.1782 - val_recall: 0.9756\n",
      "Epoch 37/50\n",
      "20/20 [==============================] - 0s 6ms/step - loss: 0.1445 - recall: 0.8982 - val_loss: 0.1253 - val_recall: 0.8780\n",
      "Epoch 38/50\n",
      "20/20 [==============================] - 0s 7ms/step - loss: 0.1439 - recall: 0.8862 - val_loss: 0.1314 - val_recall: 0.8293\n",
      "Epoch 39/50\n",
      "20/20 [==============================] - 0s 7ms/step - loss: 0.2374 - recall: 0.7964 - val_loss: 0.1248 - val_recall: 0.9512\n",
      "Epoch 40/50\n",
      "20/20 [==============================] - 0s 7ms/step - loss: 0.1798 - recall: 0.8323 - val_loss: 0.1634 - val_recall: 0.7805\n",
      "Epoch 41/50\n",
      "20/20 [==============================] - 0s 6ms/step - loss: 0.1286 - recall: 0.8982 - val_loss: 0.5513 - val_recall: 0.2927\n",
      "Epoch 42/50\n",
      "20/20 [==============================] - 0s 6ms/step - loss: 0.2463 - recall: 0.7665 - val_loss: 0.1138 - val_recall: 0.9512\n",
      "Epoch 43/50\n",
      "20/20 [==============================] - 0s 6ms/step - loss: 0.1529 - recall: 0.8623 - val_loss: 0.2959 - val_recall: 0.9756\n",
      "Epoch 44/50\n",
      "20/20 [==============================] - 0s 7ms/step - loss: 0.1478 - recall: 0.8862 - val_loss: 0.1927 - val_recall: 0.9756\n",
      "Epoch 45/50\n",
      "20/20 [==============================] - 0s 7ms/step - loss: 0.1655 - recall: 0.8862 - val_loss: 0.1079 - val_recall: 0.9024\n",
      "Epoch 46/50\n",
      "20/20 [==============================] - 0s 7ms/step - loss: 0.1408 - recall: 0.8862 - val_loss: 0.2614 - val_recall: 0.5366\n",
      "Epoch 47/50\n",
      "20/20 [==============================] - 0s 6ms/step - loss: 0.1917 - recall: 0.8144 - val_loss: 0.1048 - val_recall: 0.9024\n",
      "Epoch 48/50\n",
      "20/20 [==============================] - 0s 6ms/step - loss: 0.1503 - recall: 0.8982 - val_loss: 0.1024 - val_recall: 0.9024\n",
      "Epoch 49/50\n",
      "20/20 [==============================] - 0s 6ms/step - loss: 0.1117 - recall: 0.9162 - val_loss: 0.6210 - val_recall: 0.2439\n",
      "Epoch 50/50\n",
      "20/20 [==============================] - 0s 7ms/step - loss: 0.1189 - recall: 0.8862 - val_loss: 0.1282 - val_recall: 0.9756\n"
     ]
    }
   ],
   "source": [
    "model_tanh.compile(optimizer='sgd',\n",
    "              loss='binary_crossentropy',\n",
    "              metrics=[tf.keras.metrics.Recall()])\n",
    "\n",
    "results_tanh = model_tanh.fit(X_train_img_final,\n",
    "                    y_train_labels_final,\n",
    "                    epochs=50,\n",
    "                    batch_size=32,\n",
    "                    validation_data=(X_val_img_final, y_val_labels_final))"
   ]
  },
  {
   "cell_type": "code",
   "execution_count": 23,
   "metadata": {},
   "outputs": [
    {
     "name": "stdout",
     "output_type": "stream",
     "text": [
      "20/20 [==============================] - 0s 2ms/step - loss: 0.1228 - recall: 0.9940\n"
     ]
    }
   ],
   "source": [
    "results_train = model_tanh.evaluate(X_train_img_final, y_train_labels_final)"
   ]
  },
  {
   "cell_type": "code",
   "execution_count": 24,
   "metadata": {},
   "outputs": [
    {
     "name": "stdout",
     "output_type": "stream",
     "text": [
      "5/5 [==============================] - 0s 2ms/step - loss: 0.1282 - recall: 0.9756\n"
     ]
    }
   ],
   "source": [
    "results_val = model_tanh.evaluate(X_val_img_final, y_val_labels_final)"
   ]
  },
  {
   "cell_type": "code",
   "execution_count": 25,
   "metadata": {},
   "outputs": [],
   "source": [
    "#plot acc vs loss for train and test set\n",
    "def visualize_results(results3):\n",
    "    history = results3.history\n",
    "    plt.figure()\n",
    "    plt.plot(history['val_loss'])\n",
    "    plt.plot(history['loss'])\n",
    "    plt.legend(['val_loss', 'loss'])\n",
    "    plt.title('Loss')\n",
    "    plt.xlabel('Epochs')\n",
    "    plt.ylabel('Loss')\n",
    "    plt.show();"
   ]
  },
  {
   "cell_type": "code",
   "execution_count": 26,
   "metadata": {},
   "outputs": [
    {
     "data": {
      "image/png": "[encoded data removed]",
      "text/plain": [
       "<Figure size 432x288 with 1 Axes>"
      ]
     },
     "metadata": {
      "needs_background": "light"
     },
     "output_type": "display_data"
    }
   ],
   "source": [
    "visualize_results(results_tanh)"
   ]
  },
  {
   "cell_type": "markdown",
   "metadata": {},
   "source": [
    "RELU Model"
   ]
  },
  {
   "cell_type": "code",
   "execution_count": 27,
   "metadata": {},
   "outputs": [],
   "source": [
    "np.random.seed(42)\n",
    "model_relu = models.Sequential()\n",
    "model_relu.add(layers.Dense(63, activation='relu', input_shape=(12288,)))\n",
    "model_relu.add(layers.Dense(42, activation='relu'))\n",
    "model_relu.add(layers.Dense(21, activation='relu'))\n",
    "model_relu.add(layers.Dense(1, activation='sigmoid')) #output layer, binary classification"
   ]
  },
  {
   "cell_type": "code",
   "execution_count": 29,
   "metadata": {},
   "outputs": [
    {
     "name": "stdout",
     "output_type": "stream",
     "text": [
      "Epoch 1/50\n",
      "20/20 [==============================] - 0s 20ms/step - loss: 0.6016 - recall_2: 0.0060 - acc: 0.7089 - val_loss: 0.5513 - val_recall_2: 0.0000e+00 - val_acc: 0.7405\n",
      "Epoch 2/50\n",
      "20/20 [==============================] - 0s 8ms/step - loss: 0.5462 - recall_2: 0.0000e+00 - acc: 0.7358 - val_loss: 0.5011 - val_recall_2: 0.0000e+00 - val_acc: 0.7405\n",
      "Epoch 3/50\n",
      "20/20 [==============================] - 0s 8ms/step - loss: 0.5417 - recall_2: 0.1198 - acc: 0.7611 - val_loss: 0.4664 - val_recall_2: 0.0000e+00 - val_acc: 0.7405\n",
      "Epoch 4/50\n",
      "20/20 [==============================] - 0s 8ms/step - loss: 0.4904 - recall_2: 0.2335 - acc: 0.7785 - val_loss: 0.4530 - val_recall_2: 0.0244 - val_acc: 0.7468\n",
      "Epoch 5/50\n",
      "20/20 [==============================] - 0s 8ms/step - loss: 0.4781 - recall_2: 0.2814 - acc: 0.7658 - val_loss: 0.3836 - val_recall_2: 0.4878 - val_acc: 0.8671\n",
      "Epoch 6/50\n",
      "20/20 [==============================] - 0s 9ms/step - loss: 0.4705 - recall_2: 0.3772 - acc: 0.7864 - val_loss: 0.4497 - val_recall_2: 0.8537 - val_acc: 0.8354\n",
      "Epoch 7/50\n",
      "20/20 [==============================] - 0s 8ms/step - loss: 0.4181 - recall_2: 0.4671 - acc: 0.8117 - val_loss: 0.5049 - val_recall_2: 0.0976 - val_acc: 0.7658\n",
      "Epoch 8/50\n",
      "20/20 [==============================] - 0s 8ms/step - loss: 0.3861 - recall_2: 0.5090 - acc: 0.8244 - val_loss: 0.3709 - val_recall_2: 0.8780 - val_acc: 0.8481\n",
      "Epoch 9/50\n",
      "20/20 [==============================] - 0s 8ms/step - loss: 0.3668 - recall_2: 0.6168 - acc: 0.8434 - val_loss: 0.2918 - val_recall_2: 0.8049 - val_acc: 0.9177\n",
      "Epoch 10/50\n",
      "20/20 [==============================] - 0s 8ms/step - loss: 0.3331 - recall_2: 0.6826 - acc: 0.8687 - val_loss: 0.2713 - val_recall_2: 0.5854 - val_acc: 0.8861\n",
      "Epoch 11/50\n",
      "20/20 [==============================] - 0s 11ms/step - loss: 0.3804 - recall_2: 0.6527 - acc: 0.8608 - val_loss: 0.4308 - val_recall_2: 0.1707 - val_acc: 0.7848\n",
      "Epoch 12/50\n",
      "20/20 [==============================] - 0s 11ms/step - loss: 0.3714 - recall_2: 0.6168 - acc: 0.8481 - val_loss: 0.2674 - val_recall_2: 0.5610 - val_acc: 0.8861\n",
      "Epoch 13/50\n",
      "20/20 [==============================] - 0s 11ms/step - loss: 0.2999 - recall_2: 0.7246 - acc: 0.8956 - val_loss: 0.2372 - val_recall_2: 0.6341 - val_acc: 0.8987\n",
      "Epoch 14/50\n",
      "20/20 [==============================] - 0s 10ms/step - loss: 0.3254 - recall_2: 0.6886 - acc: 0.8703 - val_loss: 0.2635 - val_recall_2: 0.5610 - val_acc: 0.8861\n",
      "Epoch 15/50\n",
      "20/20 [==============================] - 0s 10ms/step - loss: 0.2808 - recall_2: 0.7066 - acc: 0.8734 - val_loss: 0.2001 - val_recall_2: 0.8049 - val_acc: 0.9304\n",
      "Epoch 16/50\n",
      "20/20 [==============================] - 0s 9ms/step - loss: 0.2867 - recall_2: 0.7006 - acc: 0.8671 - val_loss: 0.2587 - val_recall_2: 0.5610 - val_acc: 0.8861\n",
      "Epoch 17/50\n",
      "20/20 [==============================] - 0s 9ms/step - loss: 0.2627 - recall_2: 0.7485 - acc: 0.8940 - val_loss: 0.2063 - val_recall_2: 0.7317 - val_acc: 0.9241\n",
      "Epoch 18/50\n",
      "20/20 [==============================] - 0s 8ms/step - loss: 0.2402 - recall_2: 0.7485 - acc: 0.9066 - val_loss: 0.1740 - val_recall_2: 0.8049 - val_acc: 0.9367\n",
      "Epoch 19/50\n",
      "20/20 [==============================] - 0s 10ms/step - loss: 0.2383 - recall_2: 0.7365 - acc: 0.8908 - val_loss: 0.1866 - val_recall_2: 0.8780 - val_acc: 0.9304\n",
      "Epoch 20/50\n",
      "20/20 [==============================] - 0s 9ms/step - loss: 0.3384 - recall_2: 0.6766 - acc: 0.8671 - val_loss: 0.1712 - val_recall_2: 0.8049 - val_acc: 0.9367\n",
      "Epoch 21/50\n",
      "20/20 [==============================] - 0s 7ms/step - loss: 0.2362 - recall_2: 0.7725 - acc: 0.9066 - val_loss: 0.2532 - val_recall_2: 0.5610 - val_acc: 0.8861\n",
      "Epoch 22/50\n",
      "20/20 [==============================] - 0s 7ms/step - loss: 0.2537 - recall_2: 0.7545 - acc: 0.9035 - val_loss: 0.1650 - val_recall_2: 0.8293 - val_acc: 0.9430\n",
      "Epoch 23/50\n",
      "20/20 [==============================] - 0s 7ms/step - loss: 0.1833 - recall_2: 0.8263 - acc: 0.9209 - val_loss: 0.1627 - val_recall_2: 0.7805 - val_acc: 0.9430\n",
      "Epoch 24/50\n",
      "20/20 [==============================] - 0s 7ms/step - loss: 0.2581 - recall_2: 0.7545 - acc: 0.8797 - val_loss: 0.1580 - val_recall_2: 0.8293 - val_acc: 0.9430\n",
      "Epoch 25/50\n",
      "20/20 [==============================] - 0s 7ms/step - loss: 0.2253 - recall_2: 0.7784 - acc: 0.9051 - val_loss: 0.1534 - val_recall_2: 0.8780 - val_acc: 0.9557\n",
      "Epoch 26/50\n",
      "20/20 [==============================] - 0s 8ms/step - loss: 0.1494 - recall_2: 0.8503 - acc: 0.9351 - val_loss: 0.1334 - val_recall_2: 0.8780 - val_acc: 0.9557\n",
      "Epoch 27/50\n",
      "20/20 [==============================] - 0s 7ms/step - loss: 0.1902 - recall_2: 0.8204 - acc: 0.9256 - val_loss: 0.1599 - val_recall_2: 0.9512 - val_acc: 0.9494\n",
      "Epoch 28/50\n",
      "20/20 [==============================] - 0s 7ms/step - loss: 0.1642 - recall_2: 0.8204 - acc: 0.9304 - val_loss: 0.1612 - val_recall_2: 0.7561 - val_acc: 0.9367\n",
      "Epoch 29/50\n",
      "20/20 [==============================] - 0s 7ms/step - loss: 0.2178 - recall_2: 0.7904 - acc: 0.9177 - val_loss: 0.8733 - val_recall_2: 1.0000 - val_acc: 0.6329\n",
      "Epoch 30/50\n",
      "20/20 [==============================] - 0s 6ms/step - loss: 0.2362 - recall_2: 0.8263 - acc: 0.9177 - val_loss: 0.1395 - val_recall_2: 0.8293 - val_acc: 0.9494\n",
      "Epoch 31/50\n",
      "20/20 [==============================] - 0s 6ms/step - loss: 0.1371 - recall_2: 0.8623 - acc: 0.9415 - val_loss: 0.1358 - val_recall_2: 0.9268 - val_acc: 0.9620\n",
      "Epoch 32/50\n",
      "20/20 [==============================] - 0s 6ms/step - loss: 0.2973 - recall_2: 0.7425 - acc: 0.8813 - val_loss: 0.1841 - val_recall_2: 0.7317 - val_acc: 0.9304\n",
      "Epoch 33/50\n",
      "20/20 [==============================] - 0s 6ms/step - loss: 0.1494 - recall_2: 0.8743 - acc: 0.9478 - val_loss: 0.1477 - val_recall_2: 0.9512 - val_acc: 0.9557\n",
      "Epoch 34/50\n",
      "20/20 [==============================] - 0s 6ms/step - loss: 0.1294 - recall_2: 0.9042 - acc: 0.9494 - val_loss: 0.1652 - val_recall_2: 0.9512 - val_acc: 0.9367\n",
      "Epoch 35/50\n",
      "20/20 [==============================] - 0s 6ms/step - loss: 0.2451 - recall_2: 0.7964 - acc: 0.9177 - val_loss: 0.1262 - val_recall_2: 0.8537 - val_acc: 0.9557\n",
      "Epoch 36/50\n",
      "20/20 [==============================] - 0s 6ms/step - loss: 0.1625 - recall_2: 0.8802 - acc: 0.9446 - val_loss: 0.3911 - val_recall_2: 0.3415 - val_acc: 0.8291\n",
      "Epoch 37/50\n",
      "20/20 [==============================] - 0s 6ms/step - loss: 0.1379 - recall_2: 0.8623 - acc: 0.9430 - val_loss: 0.1267 - val_recall_2: 0.9268 - val_acc: 0.9620\n",
      "Epoch 38/50\n",
      "20/20 [==============================] - 0s 6ms/step - loss: 0.1763 - recall_2: 0.8503 - acc: 0.9335 - val_loss: 0.1269 - val_recall_2: 0.8293 - val_acc: 0.9494\n",
      "Epoch 39/50\n",
      "20/20 [==============================] - 0s 6ms/step - loss: 0.1271 - recall_2: 0.8802 - acc: 0.9494 - val_loss: 0.1061 - val_recall_2: 0.9024 - val_acc: 0.9620\n",
      "Epoch 40/50\n",
      "20/20 [==============================] - 0s 6ms/step - loss: 0.1416 - recall_2: 0.8623 - acc: 0.9335 - val_loss: 0.2230 - val_recall_2: 0.6098 - val_acc: 0.8987\n",
      "Epoch 41/50\n",
      "20/20 [==============================] - 0s 5ms/step - loss: 0.1321 - recall_2: 0.8623 - acc: 0.9446 - val_loss: 0.1013 - val_recall_2: 0.9024 - val_acc: 0.9620\n",
      "Epoch 42/50\n",
      "20/20 [==============================] - 0s 5ms/step - loss: 0.1932 - recall_2: 0.8144 - acc: 0.9241 - val_loss: 0.4194 - val_recall_2: 1.0000 - val_acc: 0.8101\n",
      "Epoch 43/50\n",
      "20/20 [==============================] - 0s 5ms/step - loss: 0.1751 - recall_2: 0.8683 - acc: 0.9335 - val_loss: 0.1049 - val_recall_2: 0.9024 - val_acc: 0.9620\n",
      "Epoch 44/50\n",
      "20/20 [==============================] - 0s 5ms/step - loss: 0.1986 - recall_2: 0.8084 - acc: 0.9161 - val_loss: 0.1196 - val_recall_2: 0.8537 - val_acc: 0.9557\n",
      "Epoch 45/50\n",
      "20/20 [==============================] - 0s 5ms/step - loss: 0.1841 - recall_2: 0.8383 - acc: 0.9241 - val_loss: 0.1865 - val_recall_2: 0.7073 - val_acc: 0.9241\n",
      "Epoch 46/50\n",
      "20/20 [==============================] - 0s 5ms/step - loss: 0.1154 - recall_2: 0.8862 - acc: 0.9557 - val_loss: 0.1659 - val_recall_2: 0.9756 - val_acc: 0.9304\n",
      "Epoch 47/50\n",
      "20/20 [==============================] - 0s 5ms/step - loss: 0.1211 - recall_2: 0.8862 - acc: 0.9525 - val_loss: 0.1097 - val_recall_2: 0.9268 - val_acc: 0.9684\n",
      "Epoch 48/50\n"
     ]
    },
    {
     "name": "stdout",
     "output_type": "stream",
     "text": [
      "20/20 [==============================] - 0s 6ms/step - loss: 0.1844 - recall_2: 0.8443 - acc: 0.9335 - val_loss: 0.1568 - val_recall_2: 0.7805 - val_acc: 0.9430\n",
      "Epoch 49/50\n",
      "20/20 [==============================] - 0s 5ms/step - loss: 0.1560 - recall_2: 0.8623 - acc: 0.9446 - val_loss: 0.1208 - val_recall_2: 0.9512 - val_acc: 0.9747\n",
      "Epoch 50/50\n",
      "20/20 [==============================] - 0s 5ms/step - loss: 0.0894 - recall_2: 0.9162 - acc: 0.9636 - val_loss: 0.0982 - val_recall_2: 0.9024 - val_acc: 0.9620\n"
     ]
    }
   ],
   "source": [
    "model_relu.compile(optimizer='sgd',\n",
    "              loss='binary_crossentropy',\n",
    "              metrics=[tf.keras.metrics.Recall(), 'acc'])\n",
    "\n",
    "results = model_relu.fit(X_train_img_final,\n",
    "                    y_train_labels_final,\n",
    "                    epochs=50,\n",
    "                    batch_size=32,\n",
    "                    validation_data=(X_val_img_final, y_val_labels_final))"
   ]
  },
  {
   "cell_type": "code",
   "execution_count": 30,
   "metadata": {},
   "outputs": [
    {
     "name": "stdout",
     "output_type": "stream",
     "text": [
      "20/20 [==============================] - 0s 2ms/step - loss: 0.0810 - recall_2: 0.9521 - acc: 0.9715\n"
     ]
    }
   ],
   "source": [
    "results_train = model_relu.evaluate(X_train_img_final, y_train_labels_final)"
   ]
  },
  {
   "cell_type": "code",
   "execution_count": 31,
   "metadata": {
    "scrolled": true
   },
   "outputs": [
    {
     "name": "stdout",
     "output_type": "stream",
     "text": [
      "5/5 [==============================] - 0s 2ms/step - loss: 0.0982 - recall_2: 0.9024 - acc: 0.9620\n"
     ]
    }
   ],
   "source": [
    "results_val = model_relu.evaluate(X_val_img_final, y_val_labels_final)"
   ]
  },
  {
   "cell_type": "code",
   "execution_count": 32,
   "metadata": {},
   "outputs": [
    {
     "data": {
      "image/png": "[encoded data removed]",
      "text/plain": [
       "<Figure size 432x288 with 1 Axes>"
      ]
     },
     "metadata": {
      "needs_background": "light"
     },
     "output_type": "display_data"
    }
   ],
   "source": [
    "visualize_results(results)"
   ]
  },
  {
   "cell_type": "code",
   "execution_count": null,
   "metadata": {},
   "outputs": [],
   "source": []
  }
 ],
 "metadata": {
  "kernelspec": {
   "display_name": "Python 3",
   "language": "python",
   "name": "python3"
  },
  "language_info": {
   "codemirror_mode": {
    "name": "ipython",
    "version": 3
   },
   "file_extension": ".py",
   "mimetype": "text/x-python",
   "name": "python",
   "nbconvert_exporter": "python",
   "pygments_lexer": "ipython3",
   "version": "3.8.5"
  }
 },
 "nbformat": 4,
 "nbformat_minor": 4
}
