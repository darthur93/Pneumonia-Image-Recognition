{
 "cells": [
  {
   "cell_type": "markdown",
   "metadata": {},
   "source": [
    "Pneumonia Image Recognitionognition"
   ]
  },
  {
   "cell_type": "markdown",
   "metadata": {},
   "source": [
    "Introduction/ Buisness Understanding"
   ]
  },
  {
   "cell_type": "markdown",
   "metadata": {},
   "source": [
    "Pneumonia is an infection of one or both of the lungs caused by bacteria, viruses, or fungi. It is a serious infection in which the air sacs fill with pus and other liquid. Lobar pneumonia affects one or more sections (lobes) of the lungs. Pneumonia accounts for 14% of all deaths of children under 5 years old, killing 740 180 children in 2019 The cost of antibiotic treatment for all children with pneumonia in 66 of the countdown to 2015 countries for maternal, newborn and child survival is estimated at around US$ 109 million per year. The price includes the antibiotics and diagnostics for pneumonia management. treat pneumonia focusing on making sure that every sick child has access to the right kind of care -- either from a community-based health worker, or in a health facility if the disease is severe -- and can get the antibiotics and oxygen they need to get well; Pneumonia is the world’s biggest infectious killer of adults and children – claiming 2.5 million lives, including 672,000 children under five, in 2019. That’s one person dying every 13 seconds"
   ]
  },
  {
   "cell_type": "markdown",
   "metadata": {},
   "source": [
    "Import Libraries"
   ]
  },
  {
   "cell_type": "code",
   "execution_count": 3,
   "metadata": {},
   "outputs": [
    {
     "name": "stdout",
     "output_type": "stream",
     "text": [
      "Requirement already satisfied: tensorflow in c:\\users\\danie\\anaconda3\\envs\\learn-env\\lib\\site-packages (2.3.1)\n",
      "Requirement already satisfied: gast==0.3.3 in c:\\users\\danie\\anaconda3\\envs\\learn-env\\lib\\site-packages (from tensorflow) (0.3.3)\n",
      "Requirement already satisfied: astunparse==1.6.3 in c:\\users\\danie\\anaconda3\\envs\\learn-env\\lib\\site-packages (from tensorflow) (1.6.3)\n",
      "Requirement already satisfied: opt-einsum>=2.3.2 in c:\\users\\danie\\anaconda3\\envs\\learn-env\\lib\\site-packages (from tensorflow) (3.3.0)\n",
      "Requirement already satisfied: grpcio>=1.8.6 in c:\\users\\danie\\anaconda3\\envs\\learn-env\\lib\\site-packages (from tensorflow) (1.31.0)\n",
      "Requirement already satisfied: wrapt>=1.11.1 in c:\\users\\danie\\anaconda3\\envs\\learn-env\\lib\\site-packages (from tensorflow) (1.12.1)\n",
      "Requirement already satisfied: h5py<2.11.0,>=2.10.0 in c:\\users\\danie\\anaconda3\\envs\\learn-env\\lib\\site-packages (from tensorflow) (2.10.0)\n",
      "Requirement already satisfied: protobuf>=3.9.2 in c:\\users\\danie\\anaconda3\\envs\\learn-env\\lib\\site-packages (from tensorflow) (3.11.2)\n",
      "Requirement already satisfied: wheel>=0.26 in c:\\users\\danie\\anaconda3\\envs\\learn-env\\lib\\site-packages (from tensorflow) (0.35.1)\n",
      "Requirement already satisfied: termcolor>=1.1.0 in c:\\users\\danie\\anaconda3\\envs\\learn-env\\lib\\site-packages (from tensorflow) (1.1.0)\n",
      "Requirement already satisfied: absl-py>=0.7.0 in c:\\users\\danie\\anaconda3\\envs\\learn-env\\lib\\site-packages (from tensorflow) (0.10.0)\n",
      "Requirement already satisfied: tensorboard<3,>=2.3.0 in c:\\users\\danie\\anaconda3\\envs\\learn-env\\lib\\site-packages (from tensorflow) (2.3.0)\n",
      "Requirement already satisfied: keras-preprocessing<1.2,>=1.1.1 in c:\\users\\danie\\anaconda3\\envs\\learn-env\\lib\\site-packages (from tensorflow) (1.1.2)\n",
      "Requirement already satisfied: six>=1.12.0 in c:\\users\\danie\\anaconda3\\envs\\learn-env\\lib\\site-packages (from tensorflow) (1.15.0)\n",
      "Requirement already satisfied: numpy<1.19.0,>=1.16.0 in c:\\users\\danie\\anaconda3\\envs\\learn-env\\lib\\site-packages (from tensorflow) (1.18.5)\n",
      "Requirement already satisfied: tensorflow-estimator<2.4.0,>=2.3.0 in c:\\users\\danie\\anaconda3\\envs\\learn-env\\lib\\site-packages (from tensorflow) (2.3.0)\n",
      "Requirement already satisfied: google-pasta>=0.1.8 in c:\\users\\danie\\anaconda3\\envs\\learn-env\\lib\\site-packages (from tensorflow) (0.2.0)\n",
      "Requirement already satisfied: setuptools in c:\\users\\danie\\anaconda3\\envs\\learn-env\\lib\\site-packages (from protobuf>=3.9.2->tensorflow) (50.3.0.post20201103)\n",
      "Requirement already satisfied: google-auth<2,>=1.6.3 in c:\\users\\danie\\anaconda3\\envs\\learn-env\\lib\\site-packages (from tensorboard<3,>=2.3.0->tensorflow) (1.22.0)\n",
      "Requirement already satisfied: tensorboard-plugin-wit>=1.6.0 in c:\\users\\danie\\anaconda3\\envs\\learn-env\\lib\\site-packages (from tensorboard<3,>=2.3.0->tensorflow) (1.7.0)\n",
      "Requirement already satisfied: google-auth-oauthlib<0.5,>=0.4.1 in c:\\users\\danie\\anaconda3\\envs\\learn-env\\lib\\site-packages (from tensorboard<3,>=2.3.0->tensorflow) (0.4.1)\n",
      "Requirement already satisfied: requests<3,>=2.21.0 in c:\\users\\danie\\anaconda3\\envs\\learn-env\\lib\\site-packages (from tensorboard<3,>=2.3.0->tensorflow) (2.24.0)\n",
      "Requirement already satisfied: markdown>=2.6.8 in c:\\users\\danie\\anaconda3\\envs\\learn-env\\lib\\site-packages (from tensorboard<3,>=2.3.0->tensorflow) (3.3.2)\n",
      "Requirement already satisfied: werkzeug>=0.11.15 in c:\\users\\danie\\anaconda3\\envs\\learn-env\\lib\\site-packages (from tensorboard<3,>=2.3.0->tensorflow) (1.0.1)\n",
      "Requirement already satisfied: pyasn1-modules>=0.2.1 in c:\\users\\danie\\anaconda3\\envs\\learn-env\\lib\\site-packages (from google-auth<2,>=1.6.3->tensorboard<3,>=2.3.0->tensorflow) (0.2.7)\n",
      "Requirement already satisfied: aiohttp<4.0.0dev,>=3.6.2; python_version >= \"3.6\" in c:\\users\\danie\\anaconda3\\envs\\learn-env\\lib\\site-packages (from google-auth<2,>=1.6.3->tensorboard<3,>=2.3.0->tensorflow) (3.6.3)\n",
      "Requirement already satisfied: cachetools<5.0,>=2.0.0 in c:\\users\\danie\\anaconda3\\envs\\learn-env\\lib\\site-packages (from google-auth<2,>=1.6.3->tensorboard<3,>=2.3.0->tensorflow) (4.1.1)\n",
      "Requirement already satisfied: rsa<5,>=3.1.4; python_version >= \"3.5\" in c:\\users\\danie\\anaconda3\\envs\\learn-env\\lib\\site-packages (from google-auth<2,>=1.6.3->tensorboard<3,>=2.3.0->tensorflow) (4.6)\n",
      "Requirement already satisfied: requests-oauthlib>=0.7.0 in c:\\users\\danie\\anaconda3\\envs\\learn-env\\lib\\site-packages (from google-auth-oauthlib<0.5,>=0.4.1->tensorboard<3,>=2.3.0->tensorflow) (1.3.0)\n",
      "Requirement already satisfied: certifi>=2017.4.17 in c:\\users\\danie\\anaconda3\\envs\\learn-env\\lib\\site-packages (from requests<3,>=2.21.0->tensorboard<3,>=2.3.0->tensorflow) (2020.6.20)\n",
      "Requirement already satisfied: chardet<4,>=3.0.2 in c:\\users\\danie\\anaconda3\\envs\\learn-env\\lib\\site-packages (from requests<3,>=2.21.0->tensorboard<3,>=2.3.0->tensorflow) (3.0.4)\n",
      "Requirement already satisfied: urllib3!=1.25.0,!=1.25.1,<1.26,>=1.21.1 in c:\\users\\danie\\anaconda3\\envs\\learn-env\\lib\\site-packages (from requests<3,>=2.21.0->tensorboard<3,>=2.3.0->tensorflow) (1.25.10)\n",
      "Requirement already satisfied: idna<3,>=2.5 in c:\\users\\danie\\anaconda3\\envs\\learn-env\\lib\\site-packages (from requests<3,>=2.21.0->tensorboard<3,>=2.3.0->tensorflow) (2.10)\n",
      "Requirement already satisfied: pyasn1<0.5.0,>=0.4.6 in c:\\users\\danie\\anaconda3\\envs\\learn-env\\lib\\site-packages (from pyasn1-modules>=0.2.1->google-auth<2,>=1.6.3->tensorboard<3,>=2.3.0->tensorflow) (0.4.8)\n",
      "Requirement already satisfied: attrs>=17.3.0 in c:\\users\\danie\\anaconda3\\envs\\learn-env\\lib\\site-packages (from aiohttp<4.0.0dev,>=3.6.2; python_version >= \"3.6\"->google-auth<2,>=1.6.3->tensorboard<3,>=2.3.0->tensorflow) (20.2.0)\n",
      "Requirement already satisfied: multidict<5.0,>=4.5 in c:\\users\\danie\\anaconda3\\envs\\learn-env\\lib\\site-packages (from aiohttp<4.0.0dev,>=3.6.2; python_version >= \"3.6\"->google-auth<2,>=1.6.3->tensorboard<3,>=2.3.0->tensorflow) (4.7.5)\n",
      "Requirement already satisfied: yarl<1.6.0,>=1.0 in c:\\users\\danie\\anaconda3\\envs\\learn-env\\lib\\site-packages (from aiohttp<4.0.0dev,>=3.6.2; python_version >= \"3.6\"->google-auth<2,>=1.6.3->tensorboard<3,>=2.3.0->tensorflow) (1.5.1)\n",
      "Requirement already satisfied: async-timeout<4.0,>=3.0 in c:\\users\\danie\\anaconda3\\envs\\learn-env\\lib\\site-packages (from aiohttp<4.0.0dev,>=3.6.2; python_version >= \"3.6\"->google-auth<2,>=1.6.3->tensorboard<3,>=2.3.0->tensorflow) (3.0.1)\n",
      "Requirement already satisfied: oauthlib>=3.0.0 in c:\\users\\danie\\anaconda3\\envs\\learn-env\\lib\\site-packages (from requests-oauthlib>=0.7.0->google-auth-oauthlib<0.5,>=0.4.1->tensorboard<3,>=2.3.0->tensorflow) (3.1.0)\n"
     ]
    }
   ],
   "source": [
    "#!pip install tensorflow"
   ]
  },
  {
   "cell_type": "code",
   "execution_count": 4,
   "metadata": {},
   "outputs": [],
   "source": [
    "# Necessary libraries and classes\n",
    "import numpy as np\n",
    "import pandas as pd\n",
    "from sklearn.model_selection import train_test_split\n",
    "from sklearn.preprocessing import StandardScaler, OneHotEncoder\n",
    "from sklearn.impute import SimpleImputer\n",
    "from sklearn.metrics import mean_squared_error\n",
    "from sklearn.model_selection import cross_val_predict\n",
    "from keras import models\n",
    "from keras import layers\n",
    "from keras import regularizers\n",
    "from keras.wrappers.scikit_learn import KerasRegressor\n",
    "\n",
    "\n",
    "import matplotlib.pyplot as plt\n",
    "%matplotlib inline\n",
    "import keras\n",
    "from keras.models import Sequential\n",
    "from keras.layers import Dense\n",
    "from keras.datasets import mnist\n",
    "import os\n",
    "os.environ['KMP_DUPLICATE_LIB_OK']='True' #This prevents kernel shut down due to xgboost conflict\n",
    "\n",
    "import tensorflow as tf\n",
    "from matplotlib import pyplot as plt\n",
    "from tensorflow.keras import datasets, layers, models\n",
    "\n",
    "from keras.preprocessing.image import ImageDataGenerator, array_to_img, img_to_array, load_img\n",
    "from keras import models\n",
    "from keras import layers\n",
    "from keras.callbacks import EarlyStopping, ModelCheckpoint\n"
   ]
  },
  {
   "cell_type": "markdown",
   "metadata": {},
   "source": [
    "Functions"
   ]
  },
  {
   "cell_type": "markdown",
   "metadata": {},
   "source": [
    "Data Understanding"
   ]
  },
  {
   "cell_type": "markdown",
   "metadata": {},
   "source": [
    "The data contains more than 5000 images of pneumonia of viral and bacterial pneumonia of and children 1-5 in Guangzhou Women and Children’s Medical Center, Guangzhou. The dataset is organized into 3 folders (train, test, val) and contains subfolders for each image category (Pneumonia/Normal). There are 5,863 X-Ray images (JPEG) and 2 categories (Pneumonia/Normal).\n",
    "\n",
    "Chest X-ray images (anterior-posterior) were selected from retrospective cohorts of pediatric patients of one to five years old from Guangzhou Women and Children’s Medical Center, Guangzhou. All chest X-ray imaging was performed as part of patients’ routine clinical care.\n",
    "\n",
    "For the analysis of chest x-ray images, all chest radiographs were initially screened for quality control by removing all low quality or unreadable scans. The diagnoses for the images were then graded by two expert physicians before being cleared for training the AI system. In order to account for any grading errors, the evaluation set was also checked by a third expert."
   ]
  },
  {
   "cell_type": "markdown",
   "metadata": {},
   "source": [
    "Data Cleaning"
   ]
  },
  {
   "cell_type": "code",
   "execution_count": 12,
   "metadata": {
    "scrolled": false
   },
   "outputs": [
    {
     "name": "stdout",
     "output_type": "stream",
     "text": [
      "Found 624 images belonging to 2 classes.\n",
      "Found 5232 images belonging to 2 classes.\n"
     ]
    }
   ],
   "source": [
    "train_data_dir = 'train'\n",
    "test_data_dir = 'test'\n",
    "\n",
    "#Get all the data in the directory data/validation (132 images), and reshape them\n",
    "test_generator = ImageDataGenerator().flow_from_directory(\n",
    "       test_data_dir, \n",
    "       target_size=(64, 64), batch_size=132)\n",
    "\n",
    "#Get all the data in the directory data/train (790 images), and reshape them\n",
    "train_generator = ImageDataGenerator().flow_from_directory(\n",
    "       train_data_dir, \n",
    "       target_size=(64, 64), batch_size=790)\n",
    "\n",
    "#Create the datasets\n",
    "train_images, train_labels = next(train_generator)\n",
    "test_images, test_labels = next(test_generator)"
   ]
  },
  {
   "cell_type": "markdown",
   "metadata": {},
   "source": [
    "Create validation set from training set"
   ]
  },
  {
   "cell_type": "code",
   "execution_count": 13,
   "metadata": {},
   "outputs": [],
   "source": [
    "X = train_images\n",
    "y = train_labels\n",
    "\n",
    "X_train, X_val, y_train, y_val = train_test_split(X, y, test_size=0.2, random_state=42)"
   ]
  },
  {
   "cell_type": "markdown",
   "metadata": {},
   "source": [
    "Preview images (Normal)"
   ]
  },
  {
   "cell_type": "code",
   "execution_count": 16,
   "metadata": {},
   "outputs": [
    {
     "data": {
      "image/png": "[encoded data removed]",
      "text/plain": [
       "<PIL.Image.Image image mode=RGB size=64x64 at 0x207D527FDF0>"
      ]
     },
     "execution_count": 16,
     "metadata": {},
     "output_type": "execute_result"
    }
   ],
   "source": [
    "array_to_img(train_images[0])"
   ]
  },
  {
   "cell_type": "code",
   "execution_count": 17,
   "metadata": {},
   "outputs": [
    {
     "name": "stdout",
     "output_type": "stream",
     "text": [
      "[0. 1.]\n"
     ]
    }
   ],
   "source": [
    "print(train_labels[0])"
   ]
  },
  {
   "cell_type": "markdown",
   "metadata": {},
   "source": [
    "Preview Images (Pneumonia)"
   ]
  },
  {
   "cell_type": "code",
   "execution_count": 18,
   "metadata": {},
   "outputs": [
    {
     "data": {
      "image/png": "[encoded data removed]",
      "text/plain": [
       "<PIL.Image.Image image mode=RGB size=64x64 at 0x207D528EC70>"
      ]
     },
     "execution_count": 18,
     "metadata": {},
     "output_type": "execute_result"
    }
   ],
   "source": [
    "array_to_img(train_images[90])"
   ]
  },
  {
   "cell_type": "code",
   "execution_count": 19,
   "metadata": {},
   "outputs": [
    {
     "name": "stdout",
     "output_type": "stream",
     "text": [
      "[0. 1.]\n"
     ]
    }
   ],
   "source": [
    "print(train_labels[90])"
   ]
  },
  {
   "cell_type": "code",
   "execution_count": 20,
   "metadata": {},
   "outputs": [
    {
     "name": "stdout",
     "output_type": "stream",
     "text": [
      "X_train shape:  (632, 64, 64, 3)\n",
      "y_train shape:  (632, 2)\n",
      "X_val shape:  (158, 64, 64, 3)\n",
      "y_val shape:  (158, 2)\n"
     ]
    }
   ],
   "source": [
    "print('X_train shape: ',np.shape(X_train))\n",
    "print('y_train shape: ',np.shape(y_train))\n",
    "print('X_val shape: ',np.shape(X_val))\n",
    "print('y_val shape: ',np.shape(y_val))"
   ]
  },
  {
   "cell_type": "markdown",
   "metadata": {},
   "source": [
    "Reshape images"
   ]
  },
  {
   "cell_type": "code",
   "execution_count": 21,
   "metadata": {},
   "outputs": [
    {
     "data": {
      "text/plain": [
       "(632, 12288)"
      ]
     },
     "execution_count": 21,
     "metadata": {},
     "output_type": "execute_result"
    }
   ],
   "source": [
    "#train set\n",
    "X_train_unrow = X_train.reshape(632, -1)\n",
    "X_train_unrow.shape"
   ]
  },
  {
   "cell_type": "code",
   "execution_count": 22,
   "metadata": {},
   "outputs": [
    {
     "data": {
      "text/plain": [
       "(158, 12288)"
      ]
     },
     "execution_count": 22,
     "metadata": {},
     "output_type": "execute_result"
    }
   ],
   "source": [
    "#test set\n",
    "X_val_unrow = X_val.reshape(158, -1)\n",
    "X_val_unrow.shape"
   ]
  },
  {
   "cell_type": "markdown",
   "metadata": {},
   "source": [
    "Labels for images"
   ]
  },
  {
   "cell_type": "code",
   "execution_count": 23,
   "metadata": {},
   "outputs": [
    {
     "data": {
      "text/plain": [
       "array([[1., 0.],\n",
       "       [1., 0.],\n",
       "       [0., 1.],\n",
       "       ...,\n",
       "       [0., 1.],\n",
       "       [0., 1.],\n",
       "       [0., 1.]], dtype=float32)"
      ]
     },
     "execution_count": 23,
     "metadata": {},
     "output_type": "execute_result"
    }
   ],
   "source": [
    "y_train"
   ]
  },
  {
   "cell_type": "code",
   "execution_count": 24,
   "metadata": {},
   "outputs": [
    {
     "data": {
      "text/plain": [
       "{'NORMAL': 0, 'PNEUMONIA': 1}"
      ]
     },
     "execution_count": 24,
     "metadata": {},
     "output_type": "execute_result"
    }
   ],
   "source": [
    "train_generator.class_indices"
   ]
  },
  {
   "cell_type": "markdown",
   "metadata": {},
   "source": [
    "Transpose and resize train and test sets"
   ]
  },
  {
   "cell_type": "code",
   "execution_count": 25,
   "metadata": {},
   "outputs": [],
   "source": [
    "#training set\n",
    "y_train_labels_final = np.reshape(y_train[:,0], (632,1))"
   ]
  },
  {
   "cell_type": "code",
   "execution_count": 26,
   "metadata": {},
   "outputs": [
    {
     "data": {
      "text/plain": [
       "(632, 1)"
      ]
     },
     "execution_count": 26,
     "metadata": {},
     "output_type": "execute_result"
    }
   ],
   "source": [
    "np.shape(y_train_labels_final)"
   ]
  },
  {
   "cell_type": "code",
   "execution_count": 27,
   "metadata": {},
   "outputs": [],
   "source": [
    "#test set\n",
    "y_val_labels_final = np.reshape(y_val[:,0], (158,1))"
   ]
  },
  {
   "cell_type": "code",
   "execution_count": 28,
   "metadata": {},
   "outputs": [
    {
     "data": {
      "text/plain": [
       "(158, 1)"
      ]
     },
     "execution_count": 28,
     "metadata": {},
     "output_type": "execute_result"
    }
   ],
   "source": [
    "np.shape(y_val_labels_final) "
   ]
  },
  {
   "cell_type": "code",
   "execution_count": 29,
   "metadata": {},
   "outputs": [
    {
     "data": {
      "text/plain": [
       "numpy.ndarray"
      ]
     },
     "execution_count": 29,
     "metadata": {},
     "output_type": "execute_result"
    }
   ],
   "source": [
    "#scaling the data\n",
    "X_train_img_final = X_train_unrow/255\n",
    "X_val_img_final = X_val_unrow/255\n",
    "\n",
    "type(X_val_img_final)"
   ]
  },
  {
   "cell_type": "code",
   "execution_count": 30,
   "metadata": {},
   "outputs": [
    {
     "name": "stdout",
     "output_type": "stream",
     "text": [
      "(632, 12288)\n",
      "(158, 12288)\n"
     ]
    }
   ],
   "source": [
    "print(X_train_img_final.shape)\n",
    "print(X_val_img_final.shape)"
   ]
  },
  {
   "cell_type": "markdown",
   "metadata": {},
   "source": [
    "TANH model creation"
   ]
  },
  {
   "cell_type": "code",
   "execution_count": 42,
   "metadata": {},
   "outputs": [],
   "source": [
    "np.random.seed(42)\n",
    "model_tanh = models.Sequential()\n",
    "model_tanh.add(layers.Dense(63, activation='tanh', input_shape=(12288,)))\n",
    "model_tanh.add(layers.Dense(42, activation='tanh'))\n",
    "model_tanh.add(layers.Dense(21, activation='tanh'))\n",
    "model_tanh.add(layers.Dense(1, activation='sigmoid')) #output layer, binary classification"
   ]
  },
  {
   "cell_type": "code",
   "execution_count": 47,
   "metadata": {},
   "outputs": [
    {
     "name": "stdout",
     "output_type": "stream",
     "text": [
      "Epoch 1/50\n",
      "20/20 [==============================] - 0s 16ms/step - loss: 0.0911 - recall_2: 0.9578 - val_loss: 0.1794 - val_recall_2: 0.8378\n",
      "Epoch 2/50\n",
      "20/20 [==============================] - 0s 5ms/step - loss: 0.0827 - recall_2: 0.9578 - val_loss: 0.2306 - val_recall_2: 0.7568\n",
      "Epoch 3/50\n",
      "20/20 [==============================] - 0s 5ms/step - loss: 0.2296 - recall_2: 0.8434 - val_loss: 0.2402 - val_recall_2: 0.7297\n",
      "Epoch 4/50\n",
      "20/20 [==============================] - 0s 5ms/step - loss: 0.1045 - recall_2: 0.9277 - val_loss: 0.1807 - val_recall_2: 0.8378\n",
      "Epoch 5/50\n",
      "20/20 [==============================] - 0s 5ms/step - loss: 0.1218 - recall_2: 0.9337 - val_loss: 0.1910 - val_recall_2: 0.8378\n",
      "Epoch 6/50\n",
      "20/20 [==============================] - 0s 5ms/step - loss: 0.0824 - recall_2: 0.9578 - val_loss: 0.1698 - val_recall_2: 0.8649\n",
      "Epoch 7/50\n",
      "20/20 [==============================] - 0s 5ms/step - loss: 0.2004 - recall_2: 0.8735 - val_loss: 0.1678 - val_recall_2: 0.8378\n",
      "Epoch 8/50\n",
      "20/20 [==============================] - 0s 5ms/step - loss: 0.0980 - recall_2: 0.9518 - val_loss: 0.3832 - val_recall_2: 0.5405\n",
      "Epoch 9/50\n",
      "20/20 [==============================] - 0s 5ms/step - loss: 0.0897 - recall_2: 0.9458 - val_loss: 0.2480 - val_recall_2: 0.9730\n",
      "Epoch 10/50\n",
      "20/20 [==============================] - 0s 5ms/step - loss: 0.1711 - recall_2: 0.8855 - val_loss: 0.2304 - val_recall_2: 0.7568\n",
      "Epoch 11/50\n",
      "20/20 [==============================] - 0s 5ms/step - loss: 0.0913 - recall_2: 0.9337 - val_loss: 0.2107 - val_recall_2: 0.8108\n",
      "Epoch 12/50\n",
      "20/20 [==============================] - 0s 5ms/step - loss: 0.0779 - recall_2: 0.9518 - val_loss: 0.1706 - val_recall_2: 0.8649\n",
      "Epoch 13/50\n",
      "20/20 [==============================] - 0s 5ms/step - loss: 0.0747 - recall_2: 0.9578 - val_loss: 0.2211 - val_recall_2: 0.9730\n",
      "Epoch 14/50\n",
      "20/20 [==============================] - 0s 5ms/step - loss: 0.1388 - recall_2: 0.9157 - val_loss: 0.2101 - val_recall_2: 0.7838\n",
      "Epoch 15/50\n",
      "20/20 [==============================] - 0s 5ms/step - loss: 0.1189 - recall_2: 0.9217 - val_loss: 0.1660 - val_recall_2: 0.8649\n",
      "Epoch 16/50\n",
      "20/20 [==============================] - 0s 5ms/step - loss: 0.1913 - recall_2: 0.8675 - val_loss: 0.1769 - val_recall_2: 0.8378\n",
      "Epoch 17/50\n",
      "20/20 [==============================] - 0s 5ms/step - loss: 0.1169 - recall_2: 0.9458 - val_loss: 0.1709 - val_recall_2: 0.8649\n",
      "Epoch 18/50\n",
      "20/20 [==============================] - 0s 5ms/step - loss: 0.0673 - recall_2: 0.9578 - val_loss: 0.1965 - val_recall_2: 0.8378\n",
      "Epoch 19/50\n",
      "20/20 [==============================] - 0s 5ms/step - loss: 0.0805 - recall_2: 0.9458 - val_loss: 0.1791 - val_recall_2: 0.8378\n",
      "Epoch 20/50\n",
      "20/20 [==============================] - 0s 5ms/step - loss: 0.1422 - recall_2: 0.8916 - val_loss: 0.1673 - val_recall_2: 0.8649\n",
      "Epoch 21/50\n",
      "20/20 [==============================] - 0s 5ms/step - loss: 0.1712 - recall_2: 0.8675 - val_loss: 0.1915 - val_recall_2: 0.8378\n",
      "Epoch 22/50\n",
      "20/20 [==============================] - 0s 5ms/step - loss: 0.0995 - recall_2: 0.9398 - val_loss: 0.1901 - val_recall_2: 0.8378\n",
      "Epoch 23/50\n",
      "20/20 [==============================] - 0s 5ms/step - loss: 0.0682 - recall_2: 0.9699 - val_loss: 0.1974 - val_recall_2: 0.8378\n",
      "Epoch 24/50\n",
      "20/20 [==============================] - 0s 5ms/step - loss: 0.1242 - recall_2: 0.9096 - val_loss: 0.1702 - val_recall_2: 0.8649\n",
      "Epoch 25/50\n",
      "20/20 [==============================] - 0s 5ms/step - loss: 0.0848 - recall_2: 0.9458 - val_loss: 0.2004 - val_recall_2: 0.8378\n",
      "Epoch 26/50\n",
      "20/20 [==============================] - 0s 6ms/step - loss: 0.0705 - recall_2: 0.9699 - val_loss: 0.3964 - val_recall_2: 0.5135\n",
      "Epoch 27/50\n",
      "20/20 [==============================] - 0s 5ms/step - loss: 0.1039 - recall_2: 0.9217 - val_loss: 0.2134 - val_recall_2: 0.8378\n",
      "Epoch 28/50\n",
      "20/20 [==============================] - 0s 5ms/step - loss: 0.1168 - recall_2: 0.9277 - val_loss: 0.1831 - val_recall_2: 0.8378\n",
      "Epoch 29/50\n",
      "20/20 [==============================] - 0s 5ms/step - loss: 0.0650 - recall_2: 0.9639 - val_loss: 0.1809 - val_recall_2: 0.8378\n",
      "Epoch 30/50\n",
      "20/20 [==============================] - 0s 5ms/step - loss: 0.1876 - recall_2: 0.8735 - val_loss: 0.2714 - val_recall_2: 0.7027\n",
      "Epoch 31/50\n",
      "20/20 [==============================] - 0s 5ms/step - loss: 0.1616 - recall_2: 0.8735 - val_loss: 0.2406 - val_recall_2: 0.7568\n",
      "Epoch 32/50\n",
      "20/20 [==============================] - 0s 5ms/step - loss: 0.1236 - recall_2: 0.9217 - val_loss: 0.1726 - val_recall_2: 0.8649\n",
      "Epoch 33/50\n",
      "20/20 [==============================] - 0s 5ms/step - loss: 0.0622 - recall_2: 0.9699 - val_loss: 0.4847 - val_recall_2: 0.4595\n",
      "Epoch 34/50\n",
      "20/20 [==============================] - 0s 5ms/step - loss: 0.1930 - recall_2: 0.9096 - val_loss: 0.2103 - val_recall_2: 0.7568\n",
      "Epoch 35/50\n",
      "20/20 [==============================] - 0s 5ms/step - loss: 0.0742 - recall_2: 0.9578 - val_loss: 0.2078 - val_recall_2: 0.8108\n",
      "Epoch 36/50\n",
      "20/20 [==============================] - 0s 5ms/step - loss: 0.0950 - recall_2: 0.9458 - val_loss: 0.2397 - val_recall_2: 0.7568\n",
      "Epoch 37/50\n",
      "20/20 [==============================] - 0s 5ms/step - loss: 0.0726 - recall_2: 0.9518 - val_loss: 0.1956 - val_recall_2: 0.8378\n",
      "Epoch 38/50\n",
      "20/20 [==============================] - 0s 5ms/step - loss: 0.1512 - recall_2: 0.9036 - val_loss: 0.1638 - val_recall_2: 0.8649\n",
      "Epoch 39/50\n",
      "20/20 [==============================] - 0s 5ms/step - loss: 0.0590 - recall_2: 0.9639 - val_loss: 0.1985 - val_recall_2: 0.8378\n",
      "Epoch 40/50\n",
      "20/20 [==============================] - 0s 5ms/step - loss: 0.0506 - recall_2: 0.9759 - val_loss: 0.2542 - val_recall_2: 0.7568\n",
      "Epoch 41/50\n",
      "20/20 [==============================] - 0s 5ms/step - loss: 0.0553 - recall_2: 0.9578 - val_loss: 0.1642 - val_recall_2: 0.8649\n",
      "Epoch 42/50\n",
      "20/20 [==============================] - 0s 5ms/step - loss: 0.0431 - recall_2: 0.9819 - val_loss: 0.1762 - val_recall_2: 0.8649\n",
      "Epoch 43/50\n",
      "20/20 [==============================] - 0s 5ms/step - loss: 0.0561 - recall_2: 0.9759 - val_loss: 0.2366 - val_recall_2: 0.7838\n",
      "Epoch 44/50\n",
      "20/20 [==============================] - 0s 5ms/step - loss: 0.0886 - recall_2: 0.9458 - val_loss: 0.1806 - val_recall_2: 0.8649\n",
      "Epoch 45/50\n",
      "20/20 [==============================] - 0s 5ms/step - loss: 0.0493 - recall_2: 0.9759 - val_loss: 0.1947 - val_recall_2: 0.9730\n",
      "Epoch 46/50\n",
      "20/20 [==============================] - 0s 5ms/step - loss: 0.0739 - recall_2: 0.9578 - val_loss: 0.1743 - val_recall_2: 0.8649\n",
      "Epoch 47/50\n",
      "20/20 [==============================] - 0s 5ms/step - loss: 0.0433 - recall_2: 0.9819 - val_loss: 0.1947 - val_recall_2: 0.8378\n",
      "Epoch 48/50\n",
      "20/20 [==============================] - 0s 5ms/step - loss: 0.0483 - recall_2: 0.9759 - val_loss: 0.2344 - val_recall_2: 0.7838\n",
      "Epoch 49/50\n",
      "20/20 [==============================] - 0s 5ms/step - loss: 0.0452 - recall_2: 0.9759 - val_loss: 0.1934 - val_recall_2: 0.8649\n",
      "Epoch 50/50\n",
      "20/20 [==============================] - 0s 5ms/step - loss: 0.0445 - recall_2: 0.9759 - val_loss: 0.2587 - val_recall_2: 0.7568\n"
     ]
    }
   ],
   "source": [
    "model_tanh.compile(optimizer='sgd',\n",
    "              loss='binary_crossentropy',\n",
    "              metrics=[tf.keras.metrics.Recall()])\n",
    "\n",
    "results_tanh = model_tanh.fit(X_train_img_final,\n",
    "                    y_train_labels_final,\n",
    "                    epochs=50,\n",
    "                    batch_size=32,\n",
    "                    validation_data=(X_val_img_final, y_val_labels_final))"
   ]
  },
  {
   "cell_type": "code",
   "execution_count": 48,
   "metadata": {},
   "outputs": [
    {
     "name": "stdout",
     "output_type": "stream",
     "text": [
      "20/20 [==============================] - 0s 2ms/step - loss: 0.0474 - recall_2: 0.9337\n"
     ]
    }
   ],
   "source": [
    "results_train = model_tanh.evaluate(X_train_img_final, y_train_labels_final)"
   ]
  },
  {
   "cell_type": "code",
   "execution_count": 49,
   "metadata": {},
   "outputs": [
    {
     "name": "stdout",
     "output_type": "stream",
     "text": [
      "5/5 [==============================] - 0s 2ms/step - loss: 0.2587 - recall_2: 0.7568\n"
     ]
    }
   ],
   "source": [
    "results_val = model_tanh.evaluate(X_val_img_final, y_val_labels_final)"
   ]
  },
  {
   "cell_type": "code",
   "execution_count": 25,
   "metadata": {},
   "outputs": [],
   "source": [
    "#plot acc vs loss for train and test set\n",
    "def visualize_results(results3):\n",
    "    history = results3.history\n",
    "    plt.figure()\n",
    "    plt.plot(history['val_loss'])\n",
    "    plt.plot(history['loss'])\n",
    "    plt.legend(['val_loss', 'loss'])\n",
    "    plt.title('Loss')\n",
    "    plt.xlabel('Epochs')\n",
    "    plt.ylabel('Loss')\n",
    "    plt.show();"
   ]
  },
  {
   "cell_type": "code",
   "execution_count": 51,
   "metadata": {},
   "outputs": [
    {
     "data": {
      "image/png": "[encoded data removed]",
      "text/plain": [
       "<Figure size 432x288 with 1 Axes>"
      ]
     },
     "metadata": {
      "needs_background": "light"
     },
     "output_type": "display_data"
    }
   ],
   "source": [
    "visualize_results(results_tanh)"
   ]
  },
  {
   "cell_type": "markdown",
   "metadata": {},
   "source": [
    "RELU Model"
   ]
  },
  {
   "cell_type": "code",
   "execution_count": 31,
   "metadata": {},
   "outputs": [],
   "source": [
    "np.random.seed(42)\n",
    "model_relu = models.Sequential()\n",
    "model_relu.add(layers.Dense(63, activation='relu', input_shape=(12288,)))\n",
    "model_relu.add(layers.Dense(42, activation='relu'))\n",
    "model_relu.add(layers.Dense(21, activation='relu'))\n",
    "model_relu.add(layers.Dense(1, activation='sigmoid')) #output layer, binary classification"
   ]
  },
  {
   "cell_type": "code",
   "execution_count": 39,
   "metadata": {},
   "outputs": [
    {
     "name": "stdout",
     "output_type": "stream",
     "text": [
      "Epoch 1/50\n",
      "20/20 [==============================] - 0s 16ms/step - loss: 0.1063 - recall: 0.9217 - val_loss: 0.1738 - val_recall: 0.8649\n",
      "Epoch 2/50\n",
      "20/20 [==============================] - 0s 6ms/step - loss: 0.1308 - recall: 0.9096 - val_loss: 0.3531 - val_recall: 0.9730\n",
      "Epoch 3/50\n",
      "20/20 [==============================] - 0s 5ms/step - loss: 0.1125 - recall: 0.9217 - val_loss: 0.2541 - val_recall: 0.7027\n",
      "Epoch 4/50\n",
      "20/20 [==============================] - 0s 5ms/step - loss: 0.1091 - recall: 0.9096 - val_loss: 0.1740 - val_recall: 0.8649\n",
      "Epoch 5/50\n",
      "20/20 [==============================] - 0s 5ms/step - loss: 0.1035 - recall: 0.9277 - val_loss: 0.2925 - val_recall: 0.6757\n",
      "Epoch 6/50\n",
      "20/20 [==============================] - 0s 5ms/step - loss: 0.2893 - recall: 0.8012 - val_loss: 0.2529 - val_recall: 0.6757\n",
      "Epoch 7/50\n",
      "20/20 [==============================] - 0s 5ms/step - loss: 0.0912 - recall: 0.9337 - val_loss: 0.1945 - val_recall: 0.8108\n",
      "Epoch 8/50\n",
      "20/20 [==============================] - 0s 5ms/step - loss: 0.1278 - recall: 0.8916 - val_loss: 0.1787 - val_recall: 0.8378\n",
      "Epoch 9/50\n",
      "20/20 [==============================] - 0s 5ms/step - loss: 0.1215 - recall: 0.9096 - val_loss: 0.1805 - val_recall: 0.8378\n",
      "Epoch 10/50\n",
      "20/20 [==============================] - 0s 5ms/step - loss: 0.0891 - recall: 0.9277 - val_loss: 0.1752 - val_recall: 0.8649\n",
      "Epoch 11/50\n",
      "20/20 [==============================] - 0s 5ms/step - loss: 0.0910 - recall: 0.9096 - val_loss: 0.1883 - val_recall: 0.8919\n",
      "Epoch 12/50\n",
      "20/20 [==============================] - 0s 5ms/step - loss: 0.1327 - recall: 0.9217 - val_loss: 0.1761 - val_recall: 0.8378\n",
      "Epoch 13/50\n",
      "20/20 [==============================] - 0s 5ms/step - loss: 0.1038 - recall: 0.9157 - val_loss: 0.2366 - val_recall: 0.7568\n",
      "Epoch 14/50\n",
      "20/20 [==============================] - 0s 5ms/step - loss: 0.0978 - recall: 0.9036 - val_loss: 0.2020 - val_recall: 0.8108\n",
      "Epoch 15/50\n",
      "20/20 [==============================] - 0s 5ms/step - loss: 0.0798 - recall: 0.9217 - val_loss: 0.1923 - val_recall: 0.8378\n",
      "Epoch 16/50\n",
      "20/20 [==============================] - 0s 5ms/step - loss: 0.0693 - recall: 0.9458 - val_loss: 0.2130 - val_recall: 0.8108\n",
      "Epoch 17/50\n",
      "20/20 [==============================] - 0s 5ms/step - loss: 0.0916 - recall: 0.9217 - val_loss: 0.1829 - val_recall: 0.8649\n",
      "Epoch 18/50\n",
      "20/20 [==============================] - 0s 5ms/step - loss: 0.0912 - recall: 0.9096 - val_loss: 0.2527 - val_recall: 0.7568\n",
      "Epoch 19/50\n",
      "20/20 [==============================] - 0s 5ms/step - loss: 0.0939 - recall: 0.9096 - val_loss: 0.1811 - val_recall: 0.8649\n",
      "Epoch 20/50\n",
      "20/20 [==============================] - 0s 5ms/step - loss: 0.2227 - recall: 0.8313 - val_loss: 0.1682 - val_recall: 0.8649\n",
      "Epoch 21/50\n",
      "20/20 [==============================] - 0s 5ms/step - loss: 0.0856 - recall: 0.9458 - val_loss: 0.2427 - val_recall: 0.7027\n",
      "Epoch 22/50\n",
      "20/20 [==============================] - 0s 5ms/step - loss: 0.0739 - recall: 0.9398 - val_loss: 0.2069 - val_recall: 0.8108\n",
      "Epoch 23/50\n",
      "20/20 [==============================] - 0s 5ms/step - loss: 0.1641 - recall: 0.8916 - val_loss: 0.5869 - val_recall: 0.2432\n",
      "Epoch 24/50\n",
      "20/20 [==============================] - 0s 5ms/step - loss: 0.1099 - recall: 0.9036 - val_loss: 0.1753 - val_recall: 0.8649\n",
      "Epoch 25/50\n",
      "20/20 [==============================] - 0s 6ms/step - loss: 0.0705 - recall: 0.9458 - val_loss: 0.1881 - val_recall: 0.8919\n",
      "Epoch 26/50\n",
      "20/20 [==============================] - 0s 6ms/step - loss: 0.0712 - recall: 0.9217 - val_loss: 0.2020 - val_recall: 0.8378\n",
      "Epoch 27/50\n",
      "20/20 [==============================] - 0s 5ms/step - loss: 0.1677 - recall: 0.8554 - val_loss: 0.1675 - val_recall: 0.8649\n",
      "Epoch 28/50\n",
      "20/20 [==============================] - 0s 5ms/step - loss: 0.0728 - recall: 0.9337 - val_loss: 0.1844 - val_recall: 0.8378\n",
      "Epoch 29/50\n",
      "20/20 [==============================] - 0s 5ms/step - loss: 0.1151 - recall: 0.9036 - val_loss: 0.1791 - val_recall: 0.8378\n",
      "Epoch 30/50\n",
      "20/20 [==============================] - 0s 5ms/step - loss: 0.1082 - recall: 0.9157 - val_loss: 0.2349 - val_recall: 0.7568\n",
      "Epoch 31/50\n",
      "20/20 [==============================] - 0s 5ms/step - loss: 0.0764 - recall: 0.9578 - val_loss: 0.1773 - val_recall: 0.8649\n",
      "Epoch 32/50\n",
      "20/20 [==============================] - 0s 5ms/step - loss: 0.0779 - recall: 0.9458 - val_loss: 0.1738 - val_recall: 0.8649\n",
      "Epoch 33/50\n",
      "20/20 [==============================] - 0s 5ms/step - loss: 0.0788 - recall: 0.9518 - val_loss: 0.1861 - val_recall: 0.8378\n",
      "Epoch 34/50\n",
      "20/20 [==============================] - 0s 6ms/step - loss: 0.1061 - recall: 0.9217 - val_loss: 0.2033 - val_recall: 0.8108\n",
      "Epoch 35/50\n",
      "20/20 [==============================] - 0s 6ms/step - loss: 0.0631 - recall: 0.9518 - val_loss: 0.1953 - val_recall: 0.8378\n",
      "Epoch 36/50\n",
      "20/20 [==============================] - 0s 6ms/step - loss: 0.1539 - recall: 0.9096 - val_loss: 0.1711 - val_recall: 0.8649\n",
      "Epoch 37/50\n",
      "20/20 [==============================] - 0s 6ms/step - loss: 0.0799 - recall: 0.9518 - val_loss: 0.5230 - val_recall: 0.3784\n",
      "Epoch 38/50\n",
      "20/20 [==============================] - 0s 6ms/step - loss: 0.0562 - recall: 0.9458 - val_loss: 0.2925 - val_recall: 0.6757\n",
      "Epoch 39/50\n",
      "20/20 [==============================] - 0s 6ms/step - loss: 0.0609 - recall: 0.9639 - val_loss: 0.2658 - val_recall: 0.7297\n",
      "Epoch 40/50\n",
      "20/20 [==============================] - 0s 6ms/step - loss: 0.0476 - recall: 0.9578 - val_loss: 0.2271 - val_recall: 0.8108\n",
      "Epoch 41/50\n",
      "20/20 [==============================] - 0s 6ms/step - loss: 0.1827 - recall: 0.8494 - val_loss: 0.2220 - val_recall: 0.9459\n",
      "Epoch 42/50\n",
      "20/20 [==============================] - 0s 5ms/step - loss: 0.1248 - recall: 0.9217 - val_loss: 0.2260 - val_recall: 0.7838\n",
      "Epoch 43/50\n",
      "20/20 [==============================] - 0s 5ms/step - loss: 0.0720 - recall: 0.9458 - val_loss: 0.2198 - val_recall: 0.8108\n",
      "Epoch 44/50\n",
      "20/20 [==============================] - 0s 5ms/step - loss: 0.0465 - recall: 0.9518 - val_loss: 0.1991 - val_recall: 0.8378\n",
      "Epoch 45/50\n",
      "20/20 [==============================] - 0s 5ms/step - loss: 0.1661 - recall: 0.8855 - val_loss: 0.1713 - val_recall: 0.8649\n",
      "Epoch 46/50\n",
      "20/20 [==============================] - 0s 5ms/step - loss: 0.0746 - recall: 0.9398 - val_loss: 0.2222 - val_recall: 0.9730\n",
      "Epoch 47/50\n",
      "20/20 [==============================] - 0s 5ms/step - loss: 0.1065 - recall: 0.9277 - val_loss: 0.3573 - val_recall: 0.9730\n",
      "Epoch 48/50\n",
      "20/20 [==============================] - 0s 5ms/step - loss: 0.0740 - recall: 0.9398 - val_loss: 0.2630 - val_recall: 0.7297\n",
      "Epoch 49/50\n",
      "20/20 [==============================] - 0s 5ms/step - loss: 0.0443 - recall: 0.9880 - val_loss: 0.1950 - val_recall: 0.8378\n",
      "Epoch 50/50\n",
      "20/20 [==============================] - 0s 5ms/step - loss: 0.0458 - recall: 0.9699 - val_loss: 0.1802 - val_recall: 0.8649\n"
     ]
    }
   ],
   "source": [
    "model_relu.compile(optimizer='sgd',\n",
    "              loss='binary_crossentropy',\n",
    "              metrics=[tf.keras.metrics.Recall()])\n",
    "\n",
    "results = model_relu.fit(X_train_img_final,\n",
    "                    y_train_labels_final,\n",
    "                    epochs=50,\n",
    "                    batch_size=32,\n",
    "                    validation_data=(X_val_img_final, y_val_labels_final))"
   ]
  },
  {
   "cell_type": "code",
   "execution_count": 40,
   "metadata": {},
   "outputs": [
    {
     "name": "stdout",
     "output_type": "stream",
     "text": [
      "20/20 [==============================] - 0s 2ms/step - loss: 0.0576 - recall: 0.9940\n"
     ]
    }
   ],
   "source": [
    "results_train = model_relu.evaluate(X_train_img_final, y_train_labels_final)"
   ]
  },
  {
   "cell_type": "code",
   "execution_count": 41,
   "metadata": {
    "scrolled": true
   },
   "outputs": [
    {
     "name": "stdout",
     "output_type": "stream",
     "text": [
      "5/5 [==============================] - 0s 2ms/step - loss: 0.1802 - recall: 0.8649\n"
     ]
    }
   ],
   "source": [
    "results_val = model_relu.evaluate(X_val_img_final, y_val_labels_final)"
   ]
  },
  {
   "cell_type": "code",
   "execution_count": null,
   "metadata": {},
   "outputs": [],
   "source": [
    "visualize_results(results)"
   ]
  }
 ],
 "metadata": {
  "kernelspec": {
   "display_name": "Python 3",
   "language": "python",
   "name": "python3"
  },
  "language_info": {
   "codemirror_mode": {
    "name": "ipython",
    "version": 3
   },
   "file_extension": ".py",
   "mimetype": "text/x-python",
   "name": "python",
   "nbconvert_exporter": "python",
   "pygments_lexer": "ipython3",
   "version": "3.8.5"
  }
 },
 "nbformat": 4,
 "nbformat_minor": 4
}
