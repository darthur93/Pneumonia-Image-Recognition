{
 "cells": [
  {
   "cell_type": "markdown",
   "metadata": {},
   "source": [
    "# Michael Schor Notebook"
   ]
  },
  {
   "cell_type": "markdown",
   "metadata": {},
   "source": [
    "## Dependencies"
   ]
  },
  {
   "cell_type": "code",
   "execution_count": 1,
   "metadata": {},
   "outputs": [
    {
     "name": "stdout",
     "output_type": "stream",
     "text": [
      "Requirement already satisfied: pillow in c:\\users\\micha\\anaconda3\\envs\\learn-env\\lib\\site-packages (8.0.0)\n"
     ]
    }
   ],
   "source": [
    "!pip install pillow"
   ]
  },
  {
   "cell_type": "code",
   "execution_count": 2,
   "metadata": {},
   "outputs": [],
   "source": [
    "from keras.preprocessing.image import ImageDataGenerator, array_to_img, img_to_array, load_img\n",
    "import numpy as np\n",
    "import os"
   ]
  },
  {
   "cell_type": "code",
   "execution_count": null,
   "metadata": {},
   "outputs": [],
   "source": [
    "#train_data_dir = 'ZhangLabData/CellData/chest_xray/train'\n",
    "#test_data_dir = 'ZhangLabData/CellData/chest_xray/test'\n",
    "\n",
    "# Get all the data in the directory data/validation (132 images), and reshape them\n",
    "#test_generator = ImageDataGenerator().flow_from_directory(\n",
    "#        test_data_dir, \n",
    "#        target_size=(64, 64), batch_size=132)\n",
    "\n",
    "# Get all the data in the directory data/train (790 images), and reshape them\n",
    "#train_generator = ImageDataGenerator().flow_from_directory(\n",
    "#        train_data_dir, \n",
    "#        target_size=(64, 64), batch_size=790)\n",
    "\n",
    "# Create the datasets\n",
    "#train_images, train_labels = next(train_generator)\n",
    "#test_images, test_labels = next(test_generator)"
   ]
  }
 ],
 "metadata": {
  "kernelspec": {
   "display_name": "Python 3",
   "language": "python",
   "name": "python3"
  },
  "language_info": {
   "codemirror_mode": {
    "name": "ipython",
    "version": 3
   },
   "file_extension": ".py",
   "mimetype": "text/x-python",
   "name": "python",
   "nbconvert_exporter": "python",
   "pygments_lexer": "ipython3",
   "version": "3.8.5"
  }
 },
 "nbformat": 4,
 "nbformat_minor": 4
}
