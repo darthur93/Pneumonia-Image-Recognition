{
 "cells": [
  {
   "cell_type": "code",
   "execution_count": 1,
   "metadata": {},
   "outputs": [],
   "source": [
    "#!pip install pillow"
   ]
  },
  {
   "cell_type": "markdown",
   "metadata": {},
   "source": [
    "## Load Packages"
   ]
  },
  {
   "cell_type": "code",
   "execution_count": 2,
   "metadata": {},
   "outputs": [],
   "source": [
    "import pandas as pd\n",
    "import numpy as np\n",
    "import matplotlib.pyplot as plt\n",
    "import os\n",
    "import tensorflow as tf\n",
    "\n",
    "from sklearn.model_selection import train_test_split\n",
    "\n",
    "from keras.preprocessing.image import ImageDataGenerator, array_to_img, img_to_array, load_img\n",
    "from keras import models, layers, regularizers\n",
    "from keras import layers\n",
    "from keras.callbacks import EarlyStopping, ModelCheckpoint"
   ]
  },
  {
   "cell_type": "markdown",
   "metadata": {},
   "source": [
    "## Load data\n",
    "\n",
    "#### We use grayscale color mode since these are X-ray images. Binary class mode is used to distinguish between normal and pneumonia images."
   ]
  },
  {
   "cell_type": "code",
   "execution_count": 3,
   "metadata": {},
   "outputs": [
    {
     "name": "stdout",
     "output_type": "stream",
     "text": [
      "Found 624 images belonging to 2 classes.\n",
      "Found 5232 images belonging to 2 classes.\n"
     ]
    }
   ],
   "source": [
    "train_data_dir = 'ZhangLabData/CellData/chest_xray/train'\n",
    "test_data_dir = 'ZhangLabData/CellData/chest_xray/test'\n",
    "\n",
    "#Get all the data in the directory data/validation (132 images), and reshape them\n",
    "test_generator = ImageDataGenerator().flow_from_directory(\n",
    "       test_data_dir, \n",
    "       target_size=(64, 64), batch_size=132, color_mode='grayscale', class_mode='binary')\n",
    "\n",
    "#Get all the data in the directory data/train (790 images), and reshape them\n",
    "train_generator = ImageDataGenerator().flow_from_directory(\n",
    "       train_data_dir, \n",
    "       target_size=(64, 64), batch_size=790, color_mode='grayscale', class_mode='binary')\n",
    "\n",
    "#Create the datasets\n",
    "train_images, train_labels = next(train_generator)\n",
    "test_images, test_labels = next(test_generator)"
   ]
  },
  {
   "cell_type": "code",
   "execution_count": 4,
   "metadata": {
    "scrolled": true
   },
   "outputs": [
    {
     "name": "stdout",
     "output_type": "stream",
     "text": [
      "[0. 1. 0. 1. 1. 0. 1. 1. 1. 1.]\n"
     ]
    }
   ],
   "source": [
    "print(train_labels[:10])"
   ]
  },
  {
   "cell_type": "markdown",
   "metadata": {},
   "source": [
    "## PREPROCESSING\n",
    "#### Create validation set from training set"
   ]
  },
  {
   "cell_type": "code",
   "execution_count": 5,
   "metadata": {},
   "outputs": [],
   "source": [
    "X = train_images\n",
    "y = train_labels\n",
    "\n",
    "X_train, X_val, y_train, y_val = train_test_split(X, y, test_size=0.2, random_state=42)\n",
    "\n"
   ]
  },
  {
   "cell_type": "code",
   "execution_count": 6,
   "metadata": {},
   "outputs": [
    {
     "data": {
      "text/plain": [
       "(790, 64, 64, 1)"
      ]
     },
     "execution_count": 6,
     "metadata": {},
     "output_type": "execute_result"
    }
   ],
   "source": [
    "train_images.shape"
   ]
  },
  {
   "cell_type": "markdown",
   "metadata": {},
   "source": [
    "#### Preview images (Normal)"
   ]
  },
  {
   "cell_type": "code",
   "execution_count": 7,
   "metadata": {},
   "outputs": [
    {
     "name": "stdout",
     "output_type": "stream",
     "text": [
      "X_train shape:  (632, 64, 64, 1)\n",
      "y_train shape:  (632,)\n",
      "X_val shape:  (158, 64, 64, 1)\n",
      "y_val shape:  (158,)\n"
     ]
    }
   ],
   "source": [
    "print('X_train shape: ',np.shape(X_train))\n",
    "print('y_train shape: ',np.shape(y_train))\n",
    "print('X_val shape: ',np.shape(X_val))\n",
    "print('y_val shape: ',np.shape(y_val))"
   ]
  },
  {
   "cell_type": "code",
   "execution_count": 8,
   "metadata": {},
   "outputs": [
    {
     "data": {
      "text/plain": [
       "(132, 64, 64, 1)"
      ]
     },
     "execution_count": 8,
     "metadata": {},
     "output_type": "execute_result"
    }
   ],
   "source": [
    "test_images.shape"
   ]
  },
  {
   "cell_type": "markdown",
   "metadata": {},
   "source": [
    "#### Reshape  images"
   ]
  },
  {
   "cell_type": "code",
   "execution_count": 9,
   "metadata": {},
   "outputs": [
    {
     "data": {
      "text/plain": [
       "(632, 4096)"
      ]
     },
     "execution_count": 9,
     "metadata": {},
     "output_type": "execute_result"
    }
   ],
   "source": [
    "#train set\n",
    "X_train_unrow = X_train.reshape(632, -1)\n",
    "X_train_unrow.shape"
   ]
  },
  {
   "cell_type": "code",
   "execution_count": 10,
   "metadata": {},
   "outputs": [
    {
     "data": {
      "text/plain": [
       "(158, 4096)"
      ]
     },
     "execution_count": 10,
     "metadata": {},
     "output_type": "execute_result"
    }
   ],
   "source": [
    "#test set\n",
    "X_val_unrow = X_val.reshape(158, -1)\n",
    "X_val_unrow.shape"
   ]
  },
  {
   "cell_type": "markdown",
   "metadata": {},
   "source": [
    "#### Labels for images"
   ]
  },
  {
   "cell_type": "code",
   "execution_count": 11,
   "metadata": {},
   "outputs": [
    {
     "data": {
      "text/plain": [
       "array([1., 1., 0., 1., 1., 1., 1., 1., 1., 1.], dtype=float32)"
      ]
     },
     "execution_count": 11,
     "metadata": {},
     "output_type": "execute_result"
    }
   ],
   "source": [
    "y_train[:10]"
   ]
  },
  {
   "cell_type": "code",
   "execution_count": 12,
   "metadata": {},
   "outputs": [
    {
     "data": {
      "text/plain": [
       "{'NORMAL': 0, 'PNEUMONIA': 1}"
      ]
     },
     "execution_count": 12,
     "metadata": {},
     "output_type": "execute_result"
    }
   ],
   "source": [
    "train_generator.class_indices"
   ]
  },
  {
   "cell_type": "markdown",
   "metadata": {},
   "source": [
    "#### Reshape Labels "
   ]
  },
  {
   "cell_type": "code",
   "execution_count": 13,
   "metadata": {},
   "outputs": [],
   "source": [
    "# #training set\n",
    "# y_train_labels_final = np.reshape(y_train[:,0], (632,1))"
   ]
  },
  {
   "cell_type": "code",
   "execution_count": 14,
   "metadata": {},
   "outputs": [],
   "source": [
    "# np.shape(y_train_labels_final)"
   ]
  },
  {
   "cell_type": "code",
   "execution_count": 15,
   "metadata": {},
   "outputs": [],
   "source": [
    "#test set\n",
    "# y_val_labels_final = np.reshape(y_val[:,0], (158,1))"
   ]
  },
  {
   "cell_type": "code",
   "execution_count": 16,
   "metadata": {},
   "outputs": [],
   "source": [
    "# np.shape(y_val_labels_final) "
   ]
  },
  {
   "cell_type": "code",
   "execution_count": 17,
   "metadata": {},
   "outputs": [
    {
     "data": {
      "text/plain": [
       "numpy.ndarray"
      ]
     },
     "execution_count": 17,
     "metadata": {},
     "output_type": "execute_result"
    }
   ],
   "source": [
    "#scaling the data\n",
    "X_train_img_final = X_train_unrow/255\n",
    "X_val_img_final = X_val_unrow/255\n",
    "\n",
    "type(X_val_img_final)"
   ]
  },
  {
   "cell_type": "code",
   "execution_count": 18,
   "metadata": {},
   "outputs": [
    {
     "name": "stdout",
     "output_type": "stream",
     "text": [
      "(632, 4096)\n",
      "(158, 4096)\n"
     ]
    }
   ],
   "source": [
    "print(X_train_img_final.shape)\n",
    "print(X_val_img_final.shape)"
   ]
  },
  {
   "cell_type": "markdown",
   "metadata": {},
   "source": [
    "## Model creation\n",
    "#### We will use recall as our metric, as we're more concerned about false negatives than false positives."
   ]
  },
  {
   "cell_type": "markdown",
   "metadata": {},
   "source": [
    "#### Baseline Model with DummyClassifier"
   ]
  },
  {
   "cell_type": "code",
   "execution_count": 19,
   "metadata": {},
   "outputs": [
    {
     "data": {
      "text/plain": [
       "DummyClassifier(strategy='most_frequent')"
      ]
     },
     "execution_count": 19,
     "metadata": {},
     "output_type": "execute_result"
    }
   ],
   "source": [
    "#dummy classifer/regressor for baseline\n",
    "from sklearn.dummy import DummyClassifier\n",
    "\n",
    "dummy = DummyClassifier(strategy='most_frequent')\n",
    "dummy.fit(X_train_img_final, y_train)"
   ]
  },
  {
   "cell_type": "code",
   "execution_count": 20,
   "metadata": {},
   "outputs": [
    {
     "data": {
      "text/plain": [
       "array([1., 1., 1., 1., 1., 1., 1., 1., 1., 1., 1., 1., 1., 1., 1., 1., 1.,\n",
       "       1., 1., 1., 1., 1., 1., 1., 1., 1., 1., 1., 1., 1., 1., 1., 1., 1.,\n",
       "       1., 1., 1., 1., 1., 1., 1., 1., 1., 1., 1., 1., 1., 1., 1., 1., 1.,\n",
       "       1., 1., 1., 1., 1., 1., 1., 1., 1., 1., 1., 1., 1., 1., 1., 1., 1.,\n",
       "       1., 1., 1., 1., 1., 1., 1., 1., 1., 1., 1., 1., 1., 1., 1., 1., 1.,\n",
       "       1., 1., 1., 1., 1., 1., 1., 1., 1., 1., 1., 1., 1., 1., 1., 1., 1.,\n",
       "       1., 1., 1., 1., 1., 1., 1., 1., 1., 1., 1., 1., 1., 1., 1., 1., 1.,\n",
       "       1., 1., 1., 1., 1., 1., 1., 1., 1., 1., 1., 1., 1., 1., 1., 1., 1.,\n",
       "       1., 1., 1., 1., 1., 1., 1., 1., 1., 1., 1., 1., 1., 1., 1., 1., 1.,\n",
       "       1., 1., 1., 1., 1.], dtype=float32)"
      ]
     },
     "execution_count": 20,
     "metadata": {},
     "output_type": "execute_result"
    }
   ],
   "source": [
    "dummy.predict(X_val_img_final)"
   ]
  },
  {
   "cell_type": "code",
   "execution_count": 21,
   "metadata": {},
   "outputs": [
    {
     "data": {
      "text/plain": [
       "0.7468354430379747"
      ]
     },
     "execution_count": 21,
     "metadata": {},
     "output_type": "execute_result"
    }
   ],
   "source": [
    "dummy.score(X_val_img_final, y_val)"
   ]
  },
  {
   "cell_type": "markdown",
   "metadata": {},
   "source": [
    "#### Initial Neural Network Model Creation using tanh activation function"
   ]
  },
  {
   "cell_type": "code",
   "execution_count": 22,
   "metadata": {},
   "outputs": [],
   "source": [
    "np.random.seed(42)\n",
    "model = models.Sequential()\n",
    "model.add(layers.Dense(63, activation='softmax', input_shape=(4096,)))\n",
    "model.add(layers.Dense(42, activation='softmax'))\n",
    "model.add(layers.Dense(21, activation='softmax'))\n",
    "model.add(layers.Dense(1, activation='sigmoid')) #output layer, binary classification"
   ]
  },
  {
   "cell_type": "code",
   "execution_count": 23,
   "metadata": {},
   "outputs": [
    {
     "name": "stdout",
     "output_type": "stream",
     "text": [
      "Epoch 1/50\n",
      "20/20 [==============================] - 0s 20ms/step - loss: 0.6671 - recall: 1.0000 - val_loss: 0.6628 - val_recall: 1.0000\n",
      "Epoch 2/50\n",
      "20/20 [==============================] - 0s 3ms/step - loss: 0.6562 - recall: 1.0000 - val_loss: 0.6531 - val_recall: 1.0000\n",
      "Epoch 3/50\n",
      "20/20 [==============================] - 0s 3ms/step - loss: 0.6464 - recall: 1.0000 - val_loss: 0.6443 - val_recall: 1.0000\n",
      "Epoch 4/50\n",
      "20/20 [==============================] - 0s 2ms/step - loss: 0.6376 - recall: 1.0000 - val_loss: 0.6365 - val_recall: 1.0000\n",
      "Epoch 5/50\n",
      "20/20 [==============================] - 0s 2ms/step - loss: 0.6296 - recall: 1.0000 - val_loss: 0.6295 - val_recall: 1.0000\n",
      "Epoch 6/50\n",
      "20/20 [==============================] - 0s 2ms/step - loss: 0.6224 - recall: 1.0000 - val_loss: 0.6232 - val_recall: 1.0000\n",
      "Epoch 7/50\n",
      "20/20 [==============================] - 0s 2ms/step - loss: 0.6160 - recall: 1.0000 - val_loss: 0.6176 - val_recall: 1.0000\n",
      "Epoch 8/50\n",
      "20/20 [==============================] - 0s 2ms/step - loss: 0.6102 - recall: 1.0000 - val_loss: 0.6125 - val_recall: 1.0000\n",
      "Epoch 9/50\n",
      "20/20 [==============================] - 0s 2ms/step - loss: 0.6049 - recall: 1.0000 - val_loss: 0.6079 - val_recall: 1.0000\n",
      "Epoch 10/50\n",
      "20/20 [==============================] - 0s 2ms/step - loss: 0.6002 - recall: 1.0000 - val_loss: 0.6038 - val_recall: 1.0000\n",
      "Epoch 11/50\n",
      "20/20 [==============================] - 0s 2ms/step - loss: 0.5959 - recall: 1.0000 - val_loss: 0.6001 - val_recall: 1.0000\n",
      "Epoch 12/50\n",
      "20/20 [==============================] - 0s 2ms/step - loss: 0.5919 - recall: 1.0000 - val_loss: 0.5968 - val_recall: 1.0000\n",
      "Epoch 13/50\n",
      "20/20 [==============================] - 0s 2ms/step - loss: 0.5884 - recall: 1.0000 - val_loss: 0.5937 - val_recall: 1.0000\n",
      "Epoch 14/50\n",
      "20/20 [==============================] - 0s 2ms/step - loss: 0.5852 - recall: 1.0000 - val_loss: 0.5910 - val_recall: 1.0000\n",
      "Epoch 15/50\n",
      "20/20 [==============================] - 0s 2ms/step - loss: 0.5823 - recall: 1.0000 - val_loss: 0.5885 - val_recall: 1.0000\n",
      "Epoch 16/50\n",
      "20/20 [==============================] - 0s 2ms/step - loss: 0.5796 - recall: 1.0000 - val_loss: 0.5863 - val_recall: 1.0000\n",
      "Epoch 17/50\n",
      "20/20 [==============================] - 0s 2ms/step - loss: 0.5772 - recall: 1.0000 - val_loss: 0.5843 - val_recall: 1.0000\n",
      "Epoch 18/50\n",
      "20/20 [==============================] - 0s 2ms/step - loss: 0.5750 - recall: 1.0000 - val_loss: 0.5824 - val_recall: 1.0000\n",
      "Epoch 19/50\n",
      "20/20 [==============================] - 0s 2ms/step - loss: 0.5730 - recall: 1.0000 - val_loss: 0.5808 - val_recall: 1.0000\n",
      "Epoch 20/50\n",
      "20/20 [==============================] - 0s 2ms/step - loss: 0.5712 - recall: 1.0000 - val_loss: 0.5793 - val_recall: 1.0000\n",
      "Epoch 21/50\n",
      "20/20 [==============================] - 0s 2ms/step - loss: 0.5696 - recall: 1.0000 - val_loss: 0.5780 - val_recall: 1.0000\n",
      "Epoch 22/50\n",
      "20/20 [==============================] - 0s 2ms/step - loss: 0.5681 - recall: 1.0000 - val_loss: 0.5768 - val_recall: 1.0000\n",
      "Epoch 23/50\n",
      "20/20 [==============================] - 0s 2ms/step - loss: 0.5667 - recall: 1.0000 - val_loss: 0.5757 - val_recall: 1.0000\n",
      "Epoch 24/50\n",
      "20/20 [==============================] - 0s 2ms/step - loss: 0.5655 - recall: 1.0000 - val_loss: 0.5747 - val_recall: 1.0000\n",
      "Epoch 25/50\n",
      "20/20 [==============================] - 0s 2ms/step - loss: 0.5643 - recall: 1.0000 - val_loss: 0.5738 - val_recall: 1.0000\n",
      "Epoch 26/50\n",
      "20/20 [==============================] - 0s 2ms/step - loss: 0.5633 - recall: 1.0000 - val_loss: 0.5730 - val_recall: 1.0000\n",
      "Epoch 27/50\n",
      "20/20 [==============================] - 0s 2ms/step - loss: 0.5623 - recall: 1.0000 - val_loss: 0.5723 - val_recall: 1.0000\n",
      "Epoch 28/50\n",
      "20/20 [==============================] - 0s 2ms/step - loss: 0.5615 - recall: 1.0000 - val_loss: 0.5716 - val_recall: 1.0000\n",
      "Epoch 29/50\n",
      "20/20 [==============================] - 0s 2ms/step - loss: 0.5607 - recall: 1.0000 - val_loss: 0.5710 - val_recall: 1.0000\n",
      "Epoch 30/50\n",
      "20/20 [==============================] - 0s 2ms/step - loss: 0.5599 - recall: 1.0000 - val_loss: 0.5705 - val_recall: 1.0000\n",
      "Epoch 31/50\n",
      "20/20 [==============================] - 0s 2ms/step - loss: 0.5593 - recall: 1.0000 - val_loss: 0.5700 - val_recall: 1.0000\n",
      "Epoch 32/50\n",
      "20/20 [==============================] - 0s 2ms/step - loss: 0.5587 - recall: 1.0000 - val_loss: 0.5696 - val_recall: 1.0000\n",
      "Epoch 33/50\n",
      "20/20 [==============================] - 0s 2ms/step - loss: 0.5581 - recall: 1.0000 - val_loss: 0.5691 - val_recall: 1.0000\n",
      "Epoch 34/50\n",
      "20/20 [==============================] - 0s 2ms/step - loss: 0.5576 - recall: 1.0000 - val_loss: 0.5688 - val_recall: 1.0000\n",
      "Epoch 35/50\n",
      "20/20 [==============================] - 0s 2ms/step - loss: 0.5571 - recall: 1.0000 - val_loss: 0.5685 - val_recall: 1.0000\n",
      "Epoch 36/50\n",
      "20/20 [==============================] - 0s 2ms/step - loss: 0.5567 - recall: 1.0000 - val_loss: 0.5682 - val_recall: 1.0000\n",
      "Epoch 37/50\n",
      "20/20 [==============================] - 0s 2ms/step - loss: 0.5563 - recall: 1.0000 - val_loss: 0.5679 - val_recall: 1.0000\n",
      "Epoch 38/50\n",
      "20/20 [==============================] - 0s 2ms/step - loss: 0.5559 - recall: 1.0000 - val_loss: 0.5677 - val_recall: 1.0000\n",
      "Epoch 39/50\n",
      "20/20 [==============================] - 0s 2ms/step - loss: 0.5556 - recall: 1.0000 - val_loss: 0.5674 - val_recall: 1.0000\n",
      "Epoch 40/50\n",
      "20/20 [==============================] - 0s 2ms/step - loss: 0.5553 - recall: 1.0000 - val_loss: 0.5673 - val_recall: 1.0000\n",
      "Epoch 41/50\n",
      "20/20 [==============================] - 0s 2ms/step - loss: 0.5550 - recall: 1.0000 - val_loss: 0.5671 - val_recall: 1.0000\n",
      "Epoch 42/50\n",
      "20/20 [==============================] - 0s 2ms/step - loss: 0.5548 - recall: 1.0000 - val_loss: 0.5669 - val_recall: 1.0000\n",
      "Epoch 43/50\n",
      "20/20 [==============================] - 0s 2ms/step - loss: 0.5545 - recall: 1.0000 - val_loss: 0.5668 - val_recall: 1.0000\n",
      "Epoch 44/50\n",
      "20/20 [==============================] - 0s 2ms/step - loss: 0.5543 - recall: 1.0000 - val_loss: 0.5667 - val_recall: 1.0000\n",
      "Epoch 45/50\n",
      "20/20 [==============================] - 0s 2ms/step - loss: 0.5541 - recall: 1.0000 - val_loss: 0.5665 - val_recall: 1.0000\n",
      "Epoch 46/50\n",
      "20/20 [==============================] - 0s 2ms/step - loss: 0.5539 - recall: 1.0000 - val_loss: 0.5664 - val_recall: 1.0000\n",
      "Epoch 47/50\n",
      "20/20 [==============================] - 0s 2ms/step - loss: 0.5537 - recall: 1.0000 - val_loss: 0.5664 - val_recall: 1.0000\n",
      "Epoch 48/50\n",
      "20/20 [==============================] - 0s 2ms/step - loss: 0.5536 - recall: 1.0000 - val_loss: 0.5663 - val_recall: 1.0000\n",
      "Epoch 49/50\n",
      "20/20 [==============================] - 0s 2ms/step - loss: 0.5535 - recall: 1.0000 - val_loss: 0.5662 - val_recall: 1.0000\n",
      "Epoch 50/50\n",
      "20/20 [==============================] - 0s 2ms/step - loss: 0.5533 - recall: 1.0000 - val_loss: 0.5661 - val_recall: 1.0000\n"
     ]
    }
   ],
   "source": [
    "# import tensorflow as tf\n",
    "\n",
    "model.compile(optimizer='sgd',\n",
    "              loss='binary_crossentropy',\n",
    "              metrics=[tf.keras.metrics.Recall()])\n",
    "\n",
    "results = model.fit(X_train_img_final,\n",
    "                    y_train,\n",
    "                    epochs=50,\n",
    "                    batch_size=32,\n",
    "                    validation_data=(X_val_img_final, y_val))"
   ]
  },
  {
   "cell_type": "code",
   "execution_count": 24,
   "metadata": {},
   "outputs": [
    {
     "name": "stdout",
     "output_type": "stream",
     "text": [
      "20/20 [==============================] - 0s 1ms/step - loss: 0.5532 - recall: 1.0000\n"
     ]
    }
   ],
   "source": [
    "results_train = model.evaluate(X_train_img_final, y_train)"
   ]
  },
  {
   "cell_type": "code",
   "execution_count": 25,
   "metadata": {},
   "outputs": [
    {
     "name": "stdout",
     "output_type": "stream",
     "text": [
      "5/5 [==============================] - 0s 1ms/step - loss: 0.5661 - recall: 1.0000\n"
     ]
    }
   ],
   "source": [
    "results_val = model.evaluate(X_val_img_final, y_val)"
   ]
  },
  {
   "cell_type": "code",
   "execution_count": 26,
   "metadata": {},
   "outputs": [],
   "source": [
    "#plot epochs vs loss for train and test set\n",
    "def visualize_results(results):\n",
    "    history = results.history\n",
    "    plt.figure()\n",
    "    plt.plot(history['val_loss'])\n",
    "    plt.plot(history['loss'])\n",
    "    plt.legend(['val_loss', 'loss'])\n",
    "    plt.title('Loss')\n",
    "    plt.xlabel('Epochs')\n",
    "    plt.ylabel('Loss')\n",
    "    plt.show()\n",
    "    \n",
    "    "
   ]
  },
  {
   "cell_type": "code",
   "execution_count": 27,
   "metadata": {},
   "outputs": [
    {
     "data": {
      "image/png": "[encoded data removed]",
      "text/plain": [
       "<Figure size 432x288 with 1 Axes>"
      ]
     },
     "metadata": {
      "needs_background": "light"
     },
     "output_type": "display_data"
    }
   ],
   "source": [
    "visualize_results(results)"
   ]
  },
  {
   "cell_type": "markdown",
   "metadata": {},
   "source": [
    "#### Insight: according to the Loss plot, there is significant overfitting of the model due to the high variation of the validation curve. Any subsequent models must reduce the variance and overfitting of the baseline model.\n"
   ]
  },
  {
   "cell_type": "code",
   "execution_count": 28,
   "metadata": {},
   "outputs": [],
   "source": [
    "# For Tuesday: Resolve overfitting(EarlyStopping), Attempt L1, L2 or dropout regularization, determine if normalization is \n",
    "# necessary, create convolution filter. After that, look at weight initializers (Lecun and He), optmizers(RMSProp, Adam)"
   ]
  },
  {
   "cell_type": "markdown",
   "metadata": {},
   "source": [
    "#### Will adding EarlyStopping improve the model?"
   ]
  },
  {
   "cell_type": "code",
   "execution_count": 29,
   "metadata": {},
   "outputs": [],
   "source": [
    "#create new model with similar parameters\n",
    "np.random.seed(42)\n",
    "model2 = models.Sequential()\n",
    "model2.add(layers.Dense(63, activation='softmax', input_shape=(4096,)))\n",
    "model2.add(layers.Dense(42, activation='softmax'))\n",
    "model2.add(layers.Dense(21, activation='softmax'))\n",
    "model2.add(layers.Dense(1, activation='sigmoid')) #output layer, binary classification"
   ]
  },
  {
   "cell_type": "code",
   "execution_count": 30,
   "metadata": {},
   "outputs": [],
   "source": [
    "# from keras.callbacks import EarlyStopping, ModelCheckpoint\n",
    "\n",
    "early_stopping = [EarlyStopping(monitor='val_loss', patience=10), ModelCheckpoint(filepath='best_model.h5',\n",
    "                                                                                 monitor='val_loss', save_best_only=True)]"
   ]
  },
  {
   "cell_type": "code",
   "execution_count": 31,
   "metadata": {},
   "outputs": [
    {
     "name": "stdout",
     "output_type": "stream",
     "text": [
      "Epoch 1/50\n",
      "20/20 [==============================] - 0s 16ms/step - loss: 0.6559 - recall_1: 1.0000 - val_loss: 0.6528 - val_recall_1: 1.0000\n",
      "Epoch 2/50\n",
      "20/20 [==============================] - 0s 6ms/step - loss: 0.6462 - recall_1: 1.0000 - val_loss: 0.6441 - val_recall_1: 1.0000\n",
      "Epoch 3/50\n",
      "20/20 [==============================] - 0s 5ms/step - loss: 0.6373 - recall_1: 1.0000 - val_loss: 0.6364 - val_recall_1: 1.0000\n",
      "Epoch 4/50\n",
      "20/20 [==============================] - 0s 6ms/step - loss: 0.6295 - recall_1: 1.0000 - val_loss: 0.6294 - val_recall_1: 1.0000\n",
      "Epoch 5/50\n",
      "20/20 [==============================] - 0s 5ms/step - loss: 0.6224 - recall_1: 1.0000 - val_loss: 0.6232 - val_recall_1: 1.0000\n",
      "Epoch 6/50\n",
      "20/20 [==============================] - 0s 4ms/step - loss: 0.6160 - recall_1: 1.0000 - val_loss: 0.6175 - val_recall_1: 1.0000\n",
      "Epoch 7/50\n",
      "20/20 [==============================] - 0s 5ms/step - loss: 0.6101 - recall_1: 1.0000 - val_loss: 0.6125 - val_recall_1: 1.0000\n",
      "Epoch 8/50\n",
      "20/20 [==============================] - 0s 6ms/step - loss: 0.6049 - recall_1: 1.0000 - val_loss: 0.6079 - val_recall_1: 1.0000\n",
      "Epoch 9/50\n",
      "20/20 [==============================] - 0s 8ms/step - loss: 0.6002 - recall_1: 1.0000 - val_loss: 0.6038 - val_recall_1: 1.0000\n",
      "Epoch 10/50\n",
      "20/20 [==============================] - 0s 5ms/step - loss: 0.5959 - recall_1: 1.0000 - val_loss: 0.6001 - val_recall_1: 1.0000\n",
      "Epoch 11/50\n",
      "20/20 [==============================] - 0s 24ms/step - loss: 0.5920 - recall_1: 1.0000 - val_loss: 0.5967 - val_recall_1: 1.0000\n",
      "Epoch 12/50\n",
      "20/20 [==============================] - 0s 5ms/step - loss: 0.5884 - recall_1: 1.0000 - val_loss: 0.5937 - val_recall_1: 1.0000\n",
      "Epoch 13/50\n",
      "20/20 [==============================] - 0s 7ms/step - loss: 0.5852 - recall_1: 1.0000 - val_loss: 0.5910 - val_recall_1: 1.0000\n",
      "Epoch 14/50\n",
      "20/20 [==============================] - 0s 6ms/step - loss: 0.5823 - recall_1: 1.0000 - val_loss: 0.5886 - val_recall_1: 1.0000\n",
      "Epoch 15/50\n",
      "20/20 [==============================] - 0s 6ms/step - loss: 0.5797 - recall_1: 1.0000 - val_loss: 0.5864 - val_recall_1: 1.0000\n",
      "Epoch 16/50\n",
      "20/20 [==============================] - 0s 7ms/step - loss: 0.5773 - recall_1: 1.0000 - val_loss: 0.5844 - val_recall_1: 1.0000\n",
      "Epoch 17/50\n",
      "20/20 [==============================] - 0s 5ms/step - loss: 0.5751 - recall_1: 1.0000 - val_loss: 0.5825 - val_recall_1: 1.0000\n",
      "Epoch 18/50\n",
      "20/20 [==============================] - 0s 7ms/step - loss: 0.5731 - recall_1: 1.0000 - val_loss: 0.5809 - val_recall_1: 1.0000\n",
      "Epoch 19/50\n",
      "20/20 [==============================] - 0s 5ms/step - loss: 0.5713 - recall_1: 1.0000 - val_loss: 0.5794 - val_recall_1: 1.0000\n",
      "Epoch 20/50\n",
      "20/20 [==============================] - 0s 5ms/step - loss: 0.5697 - recall_1: 1.0000 - val_loss: 0.5781 - val_recall_1: 1.0000\n",
      "Epoch 21/50\n",
      "20/20 [==============================] - 0s 5ms/step - loss: 0.5682 - recall_1: 1.0000 - val_loss: 0.5768 - val_recall_1: 1.0000\n",
      "Epoch 22/50\n",
      "20/20 [==============================] - 0s 7ms/step - loss: 0.5668 - recall_1: 1.0000 - val_loss: 0.5758 - val_recall_1: 1.0000\n",
      "Epoch 23/50\n",
      "20/20 [==============================] - 0s 7ms/step - loss: 0.5655 - recall_1: 1.0000 - val_loss: 0.5747 - val_recall_1: 1.0000\n",
      "Epoch 24/50\n",
      "20/20 [==============================] - 0s 8ms/step - loss: 0.5644 - recall_1: 1.0000 - val_loss: 0.5738 - val_recall_1: 1.0000\n",
      "Epoch 25/50\n",
      "20/20 [==============================] - 0s 7ms/step - loss: 0.5633 - recall_1: 1.0000 - val_loss: 0.5730 - val_recall_1: 1.0000\n",
      "Epoch 26/50\n",
      "20/20 [==============================] - 0s 7ms/step - loss: 0.5624 - recall_1: 1.0000 - val_loss: 0.5723 - val_recall_1: 1.0000\n",
      "Epoch 27/50\n",
      "20/20 [==============================] - 0s 7ms/step - loss: 0.5615 - recall_1: 1.0000 - val_loss: 0.5716 - val_recall_1: 1.0000\n",
      "Epoch 28/50\n",
      "20/20 [==============================] - 0s 6ms/step - loss: 0.5607 - recall_1: 1.0000 - val_loss: 0.5710 - val_recall_1: 1.0000\n",
      "Epoch 29/50\n",
      "20/20 [==============================] - 0s 6ms/step - loss: 0.5599 - recall_1: 1.0000 - val_loss: 0.5705 - val_recall_1: 1.0000\n",
      "Epoch 30/50\n",
      "20/20 [==============================] - 0s 6ms/step - loss: 0.5593 - recall_1: 1.0000 - val_loss: 0.5700 - val_recall_1: 1.0000\n",
      "Epoch 31/50\n",
      "20/20 [==============================] - 0s 6ms/step - loss: 0.5587 - recall_1: 1.0000 - val_loss: 0.5695 - val_recall_1: 1.0000\n",
      "Epoch 32/50\n",
      "20/20 [==============================] - 0s 8ms/step - loss: 0.5581 - recall_1: 1.0000 - val_loss: 0.5691 - val_recall_1: 1.0000\n",
      "Epoch 33/50\n",
      "20/20 [==============================] - 0s 7ms/step - loss: 0.5576 - recall_1: 1.0000 - val_loss: 0.5688 - val_recall_1: 1.0000\n",
      "Epoch 34/50\n",
      "20/20 [==============================] - 0s 7ms/step - loss: 0.5571 - recall_1: 1.0000 - val_loss: 0.5685 - val_recall_1: 1.0000\n",
      "Epoch 35/50\n",
      "20/20 [==============================] - 0s 8ms/step - loss: 0.5567 - recall_1: 1.0000 - val_loss: 0.5682 - val_recall_1: 1.0000\n",
      "Epoch 36/50\n",
      "20/20 [==============================] - 0s 6ms/step - loss: 0.5563 - recall_1: 1.0000 - val_loss: 0.5679 - val_recall_1: 1.0000\n",
      "Epoch 37/50\n",
      "20/20 [==============================] - 0s 6ms/step - loss: 0.5559 - recall_1: 1.0000 - val_loss: 0.5677 - val_recall_1: 1.0000\n",
      "Epoch 38/50\n",
      "20/20 [==============================] - 0s 8ms/step - loss: 0.5556 - recall_1: 1.0000 - val_loss: 0.5674 - val_recall_1: 1.0000\n",
      "Epoch 39/50\n",
      "20/20 [==============================] - 0s 7ms/step - loss: 0.5553 - recall_1: 1.0000 - val_loss: 0.5672 - val_recall_1: 1.0000\n",
      "Epoch 40/50\n",
      "20/20 [==============================] - 0s 7ms/step - loss: 0.5550 - recall_1: 1.0000 - val_loss: 0.5671 - val_recall_1: 1.0000\n",
      "Epoch 41/50\n",
      "20/20 [==============================] - 0s 8ms/step - loss: 0.5547 - recall_1: 1.0000 - val_loss: 0.5669 - val_recall_1: 1.0000\n",
      "Epoch 42/50\n",
      "20/20 [==============================] - 0s 4ms/step - loss: 0.5545 - recall_1: 1.0000 - val_loss: 0.5668 - val_recall_1: 1.0000\n",
      "Epoch 43/50\n",
      "20/20 [==============================] - 0s 7ms/step - loss: 0.5543 - recall_1: 1.0000 - val_loss: 0.5666 - val_recall_1: 1.0000\n",
      "Epoch 44/50\n",
      "20/20 [==============================] - 0s 6ms/step - loss: 0.5541 - recall_1: 1.0000 - val_loss: 0.5665 - val_recall_1: 1.0000\n",
      "Epoch 45/50\n",
      "20/20 [==============================] - 0s 5ms/step - loss: 0.5539 - recall_1: 1.0000 - val_loss: 0.5664 - val_recall_1: 1.0000\n",
      "Epoch 46/50\n",
      "20/20 [==============================] - 0s 8ms/step - loss: 0.5537 - recall_1: 1.0000 - val_loss: 0.5663 - val_recall_1: 1.0000\n",
      "Epoch 47/50\n",
      "20/20 [==============================] - 0s 7ms/step - loss: 0.5536 - recall_1: 1.0000 - val_loss: 0.5663 - val_recall_1: 1.0000\n",
      "Epoch 48/50\n",
      "20/20 [==============================] - 0s 6ms/step - loss: 0.5534 - recall_1: 1.0000 - val_loss: 0.5662 - val_recall_1: 1.0000\n",
      "Epoch 49/50\n",
      "20/20 [==============================] - 0s 5ms/step - loss: 0.5533 - recall_1: 1.0000 - val_loss: 0.5661 - val_recall_1: 1.0000\n",
      "Epoch 50/50\n",
      "20/20 [==============================] - 0s 8ms/step - loss: 0.5532 - recall_1: 1.0000 - val_loss: 0.5661 - val_recall_1: 1.0000\n"
     ]
    }
   ],
   "source": [
    "model2.compile(optimizer='sgd',\n",
    "              loss='binary_crossentropy',\n",
    "              metrics=[tf.keras.metrics.Recall()])\n",
    "\n",
    "results2 = model2.fit(X_train_img_final,\n",
    "                    y_train,\n",
    "                    callbacks=early_stopping,\n",
    "                    epochs=50,\n",
    "                    batch_size=32,\n",
    "                    validation_data=(X_val_img_final, y_val))"
   ]
  },
  {
   "cell_type": "code",
   "execution_count": 32,
   "metadata": {},
   "outputs": [
    {
     "data": {
      "image/png": "[encoded data removed]",
      "text/plain": [
       "<Figure size 432x288 with 1 Axes>"
      ]
     },
     "metadata": {
      "needs_background": "light"
     },
     "output_type": "display_data"
    }
   ],
   "source": [
    "visualize_results(results2)"
   ]
  },
  {
   "cell_type": "markdown",
   "metadata": {},
   "source": [
    "#### Variation in val_loss is still very high. Additionally, overfitting issue still hasn't been resolved. Will build a CNN, then attempt to control overfitting."
   ]
  },
  {
   "cell_type": "code",
   "execution_count": 33,
   "metadata": {},
   "outputs": [],
   "source": [
    "#CNN model\n",
    "np.random.seed(42)\n",
    "model3 = models.Sequential()\n",
    "model3.add(layers.Conv2D(32, (3,3), activation='softmax',\n",
    "                        input_shape=(64, 64, 1)))\n",
    "\n",
    "model3.add(layers.Flatten())\n",
    "model3.add(layers.Dense(64, activation='softmax'))\n",
    "model3.add(layers.Dense(42, activation='softmax'))\n",
    "model3.add(layers.Dense(21, activation='softmax'))\n",
    "model3.add(layers.Dense(1, activation='sigmoid'))"
   ]
  },
  {
   "cell_type": "code",
   "execution_count": 34,
   "metadata": {},
   "outputs": [
    {
     "name": "stdout",
     "output_type": "stream",
     "text": [
      "Model: \"sequential_2\"\n",
      "_________________________________________________________________\n",
      "Layer (type)                 Output Shape              Param #   \n",
      "=================================================================\n",
      "conv2d (Conv2D)              (None, 62, 62, 32)        320       \n",
      "_________________________________________________________________\n",
      "flatten (Flatten)            (None, 123008)            0         \n",
      "_________________________________________________________________\n",
      "dense_8 (Dense)              (None, 64)                7872576   \n",
      "_________________________________________________________________\n",
      "dense_9 (Dense)              (None, 42)                2730      \n",
      "_________________________________________________________________\n",
      "dense_10 (Dense)             (None, 21)                903       \n",
      "_________________________________________________________________\n",
      "dense_11 (Dense)             (None, 1)                 22        \n",
      "=================================================================\n",
      "Total params: 7,876,551\n",
      "Trainable params: 7,876,551\n",
      "Non-trainable params: 0\n",
      "_________________________________________________________________\n"
     ]
    }
   ],
   "source": [
    "model3.summary()"
   ]
  },
  {
   "cell_type": "code",
   "execution_count": 35,
   "metadata": {
    "scrolled": true
   },
   "outputs": [
    {
     "name": "stdout",
     "output_type": "stream",
     "text": [
      "Epoch 1/50\n",
      "20/20 [==============================] - 2s 96ms/step - loss: 0.7033 - recall_2: 0.0000e+00 - val_loss: 0.6952 - val_recall_2: 0.0000e+00\n",
      "Epoch 2/50\n",
      "20/20 [==============================] - 2s 84ms/step - loss: 0.6888 - recall_2: 0.8375 - val_loss: 0.6822 - val_recall_2: 1.0000\n",
      "Epoch 3/50\n",
      "20/20 [==============================] - 2s 83ms/step - loss: 0.6758 - recall_2: 1.0000 - val_loss: 0.6705 - val_recall_2: 1.0000\n",
      "Epoch 4/50\n",
      "20/20 [==============================] - 2s 82ms/step - loss: 0.6640 - recall_2: 1.0000 - val_loss: 0.6601 - val_recall_2: 1.0000\n",
      "Epoch 5/50\n",
      "20/20 [==============================] - 2s 82ms/step - loss: 0.6535 - recall_2: 1.0000 - val_loss: 0.6507 - val_recall_2: 1.0000\n",
      "Epoch 6/50\n",
      "20/20 [==============================] - 2s 85ms/step - loss: 0.6440 - recall_2: 1.0000 - val_loss: 0.6423 - val_recall_2: 1.0000\n",
      "Epoch 7/50\n",
      "20/20 [==============================] - 2s 86ms/step - loss: 0.6355 - recall_2: 1.0000 - val_loss: 0.6346 - val_recall_2: 1.0000\n",
      "Epoch 8/50\n",
      "20/20 [==============================] - 2s 83ms/step - loss: 0.6277 - recall_2: 1.0000 - val_loss: 0.6278 - val_recall_2: 1.0000\n",
      "Epoch 9/50\n",
      "20/20 [==============================] - 2s 82ms/step - loss: 0.6207 - recall_2: 1.0000 - val_loss: 0.6217 - val_recall_2: 1.0000\n",
      "Epoch 10/50\n",
      "20/20 [==============================] - 2s 83ms/step - loss: 0.6144 - recall_2: 1.0000 - val_loss: 0.6162 - val_recall_2: 1.0000\n",
      "Epoch 11/50\n",
      "20/20 [==============================] - 2s 86ms/step - loss: 0.6088 - recall_2: 1.0000 - val_loss: 0.6112 - val_recall_2: 1.0000\n",
      "Epoch 12/50\n",
      "20/20 [==============================] - 2s 83ms/step - loss: 0.6036 - recall_2: 1.0000 - val_loss: 0.6067 - val_recall_2: 1.0000\n",
      "Epoch 13/50\n",
      "20/20 [==============================] - 2s 93ms/step - loss: 0.5989 - recall_2: 1.0000 - val_loss: 0.6027 - val_recall_2: 1.0000\n",
      "Epoch 14/50\n",
      "20/20 [==============================] - 2s 83ms/step - loss: 0.5947 - recall_2: 1.0000 - val_loss: 0.5991 - val_recall_2: 1.0000\n",
      "Epoch 15/50\n",
      "20/20 [==============================] - 2s 84ms/step - loss: 0.5909 - recall_2: 1.0000 - val_loss: 0.5958 - val_recall_2: 1.0000\n",
      "Epoch 16/50\n",
      "20/20 [==============================] - 2s 85ms/step - loss: 0.5874 - recall_2: 1.0000 - val_loss: 0.5928 - val_recall_2: 1.0000\n",
      "Epoch 17/50\n",
      "20/20 [==============================] - 2s 84ms/step - loss: 0.5843 - recall_2: 1.0000 - val_loss: 0.5902 - val_recall_2: 1.0000\n",
      "Epoch 18/50\n",
      "20/20 [==============================] - 2s 82ms/step - loss: 0.5815 - recall_2: 1.0000 - val_loss: 0.5878 - val_recall_2: 1.0000\n",
      "Epoch 19/50\n",
      "20/20 [==============================] - 2s 84ms/step - loss: 0.5789 - recall_2: 1.0000 - val_loss: 0.5857 - val_recall_2: 1.0000\n",
      "Epoch 20/50\n",
      "20/20 [==============================] - 2s 83ms/step - loss: 0.5766 - recall_2: 1.0000 - val_loss: 0.5837 - val_recall_2: 1.0000\n",
      "Epoch 21/50\n",
      "20/20 [==============================] - 2s 84ms/step - loss: 0.5744 - recall_2: 1.0000 - val_loss: 0.5820 - val_recall_2: 1.0000\n",
      "Epoch 22/50\n",
      "20/20 [==============================] - 2s 83ms/step - loss: 0.5725 - recall_2: 1.0000 - val_loss: 0.5804 - val_recall_2: 1.0000\n",
      "Epoch 23/50\n",
      "20/20 [==============================] - 2s 83ms/step - loss: 0.5708 - recall_2: 1.0000 - val_loss: 0.5790 - val_recall_2: 1.0000\n",
      "Epoch 24/50\n",
      "20/20 [==============================] - 2s 82ms/step - loss: 0.5692 - recall_2: 1.0000 - val_loss: 0.5777 - val_recall_2: 1.0000\n",
      "Epoch 25/50\n",
      "20/20 [==============================] - 2s 83ms/step - loss: 0.5677 - recall_2: 1.0000 - val_loss: 0.5765 - val_recall_2: 1.0000\n",
      "Epoch 26/50\n",
      "20/20 [==============================] - 2s 83ms/step - loss: 0.5664 - recall_2: 1.0000 - val_loss: 0.5754 - val_recall_2: 1.0000\n",
      "Epoch 27/50\n",
      "20/20 [==============================] - 2s 83ms/step - loss: 0.5651 - recall_2: 1.0000 - val_loss: 0.5744 - val_recall_2: 1.0000\n",
      "Epoch 28/50\n",
      "20/20 [==============================] - 2s 83ms/step - loss: 0.5640 - recall_2: 1.0000 - val_loss: 0.5735 - val_recall_2: 1.0000\n",
      "Epoch 29/50\n",
      "20/20 [==============================] - 2s 83ms/step - loss: 0.5630 - recall_2: 1.0000 - val_loss: 0.5727 - val_recall_2: 1.0000\n",
      "Epoch 30/50\n",
      "20/20 [==============================] - 2s 84ms/step - loss: 0.5620 - recall_2: 1.0000 - val_loss: 0.5720 - val_recall_2: 1.0000\n",
      "Epoch 31/50\n",
      "20/20 [==============================] - 2s 84ms/step - loss: 0.5612 - recall_2: 1.0000 - val_loss: 0.5714 - val_recall_2: 1.0000\n",
      "Epoch 32/50\n",
      "20/20 [==============================] - 2s 84ms/step - loss: 0.5604 - recall_2: 1.0000 - val_loss: 0.5708 - val_recall_2: 1.0000\n",
      "Epoch 33/50\n",
      "20/20 [==============================] - 2s 84ms/step - loss: 0.5597 - recall_2: 1.0000 - val_loss: 0.5703 - val_recall_2: 1.0000\n",
      "Epoch 34/50\n",
      "20/20 [==============================] - 2s 84ms/step - loss: 0.5591 - recall_2: 1.0000 - val_loss: 0.5698 - val_recall_2: 1.0000\n",
      "Epoch 35/50\n",
      "20/20 [==============================] - 2s 82ms/step - loss: 0.5585 - recall_2: 1.0000 - val_loss: 0.5694 - val_recall_2: 1.0000\n",
      "Epoch 36/50\n",
      "20/20 [==============================] - 2s 84ms/step - loss: 0.5579 - recall_2: 1.0000 - val_loss: 0.5690 - val_recall_2: 1.0000\n",
      "Epoch 37/50\n",
      "20/20 [==============================] - 2s 83ms/step - loss: 0.5575 - recall_2: 1.0000 - val_loss: 0.5687 - val_recall_2: 1.0000\n",
      "Epoch 38/50\n",
      "20/20 [==============================] - 2s 84ms/step - loss: 0.5570 - recall_2: 1.0000 - val_loss: 0.5684 - val_recall_2: 1.0000\n",
      "Epoch 39/50\n",
      "20/20 [==============================] - 2s 84ms/step - loss: 0.5566 - recall_2: 1.0000 - val_loss: 0.5681 - val_recall_2: 1.0000\n",
      "Epoch 40/50\n",
      "20/20 [==============================] - 2s 87ms/step - loss: 0.5562 - recall_2: 1.0000 - val_loss: 0.5678 - val_recall_2: 1.0000\n",
      "Epoch 41/50\n",
      "20/20 [==============================] - 2s 83ms/step - loss: 0.5558 - recall_2: 1.0000 - val_loss: 0.5676 - val_recall_2: 1.0000\n",
      "Epoch 42/50\n",
      "20/20 [==============================] - 2s 84ms/step - loss: 0.5555 - recall_2: 1.0000 - val_loss: 0.5674 - val_recall_2: 1.0000\n",
      "Epoch 43/50\n",
      "20/20 [==============================] - 2s 83ms/step - loss: 0.5552 - recall_2: 1.0000 - val_loss: 0.5672 - val_recall_2: 1.0000\n",
      "Epoch 44/50\n",
      "20/20 [==============================] - 2s 83ms/step - loss: 0.5549 - recall_2: 1.0000 - val_loss: 0.5670 - val_recall_2: 1.0000\n",
      "Epoch 45/50\n",
      "20/20 [==============================] - 2s 83ms/step - loss: 0.5547 - recall_2: 1.0000 - val_loss: 0.5668 - val_recall_2: 1.0000\n",
      "Epoch 46/50\n",
      "20/20 [==============================] - 2s 83ms/step - loss: 0.5544 - recall_2: 1.0000 - val_loss: 0.5667 - val_recall_2: 1.0000\n",
      "Epoch 47/50\n",
      "20/20 [==============================] - 2s 84ms/step - loss: 0.5542 - recall_2: 1.0000 - val_loss: 0.5666 - val_recall_2: 1.0000\n",
      "Epoch 48/50\n",
      "20/20 [==============================] - 2s 83ms/step - loss: 0.5540 - recall_2: 1.0000 - val_loss: 0.5665 - val_recall_2: 1.0000\n",
      "Epoch 49/50\n",
      "20/20 [==============================] - 2s 82ms/step - loss: 0.5538 - recall_2: 1.0000 - val_loss: 0.5664 - val_recall_2: 1.0000\n",
      "Epoch 50/50\n",
      "20/20 [==============================] - 2s 84ms/step - loss: 0.5537 - recall_2: 1.0000 - val_loss: 0.5663 - val_recall_2: 1.0000\n"
     ]
    }
   ],
   "source": [
    "model3.compile(optimizer='sgd',\n",
    "              loss='binary_crossentropy',\n",
    "              metrics=[tf.keras.metrics.Recall()])\n",
    "\n",
    "results3 = model3.fit(X_train,\n",
    "                    y_train,\n",
    "                    callbacks=early_stopping,\n",
    "                    epochs=50,\n",
    "                    batch_size=32,\n",
    "                    validation_data=(X_val, y_val))"
   ]
  },
  {
   "cell_type": "code",
   "execution_count": 54,
   "metadata": {},
   "outputs": [
    {
     "name": "stdout",
     "output_type": "stream",
     "text": [
      "20/20 [==============================] - 0s 18ms/step - loss: 0.5535 - recall_2: 1.0000\n"
     ]
    }
   ],
   "source": [
    "results_train4 = model3.evaluate(X_train, y_train)"
   ]
  },
  {
   "cell_type": "code",
   "execution_count": 55,
   "metadata": {},
   "outputs": [
    {
     "name": "stdout",
     "output_type": "stream",
     "text": [
      "5/5 [==============================] - 0s 15ms/step - loss: 0.5663 - recall_2: 1.0000\n"
     ]
    }
   ],
   "source": [
    "results_val4 = model3.evaluate(X_val, y_val)"
   ]
  },
  {
   "cell_type": "code",
   "execution_count": 36,
   "metadata": {
    "scrolled": false
   },
   "outputs": [
    {
     "data": {
      "image/png": "[encoded data removed]",
      "text/plain": [
       "<Figure size 432x288 with 1 Axes>"
      ]
     },
     "metadata": {
      "needs_background": "light"
     },
     "output_type": "display_data"
    }
   ],
   "source": [
    "visualize_results(results3)"
   ]
  },
  {
   "cell_type": "markdown",
   "metadata": {},
   "source": [
    "#### The variation has been reduced, but there is still overfitting. From here, we will attempt L1 and L2 regularization"
   ]
  },
  {
   "cell_type": "markdown",
   "metadata": {},
   "source": [
    "#### L2 regularization with model3 structure"
   ]
  },
  {
   "cell_type": "code",
   "execution_count": 37,
   "metadata": {},
   "outputs": [],
   "source": [
    "np.random.seed(42)\n",
    "\n",
    "\n",
    "lambda_coeff = 0.005\n",
    "\n",
    "model4 = models.Sequential()\n",
    "model4.add(layers.Conv2D(32, (3,3), activation='softmax',\n",
    "                        input_shape=(64, 64, 1)))\n",
    "\n",
    "model4.add(layers.Flatten())\n",
    "model4.add(layers.Dense(64, activation='softmax', kernel_regularizer=regularizers.l2(lambda_coeff)))\n",
    "model4.add(layers.Dense(42, activation='softmax', kernel_regularizer=regularizers.l2(lambda_coeff)))\n",
    "model4.add(layers.Dense(21, activation='softmax', kernel_regularizer=regularizers.l2(lambda_coeff)))\n",
    "model4.add(layers.Dense(1, activation='sigmoid'))"
   ]
  },
  {
   "cell_type": "code",
   "execution_count": 38,
   "metadata": {
    "scrolled": true
   },
   "outputs": [
    {
     "name": "stdout",
     "output_type": "stream",
     "text": [
      "Epoch 1/50\n",
      "20/20 [==============================] - 2s 119ms/step - loss: 1.7524 - recall_3: 0.0000e+00 - val_loss: 1.7415 - val_recall_3: 0.0000e+00\n",
      "Epoch 2/50\n",
      "20/20 [==============================] - 2s 108ms/step - loss: 1.7332 - recall_3: 0.4333 - val_loss: 1.7238 - val_recall_3: 1.0000\n",
      "Epoch 3/50\n",
      "20/20 [==============================] - 2s 106ms/step - loss: 1.7155 - recall_3: 1.0000 - val_loss: 1.7075 - val_recall_3: 1.0000\n",
      "Epoch 4/50\n",
      "20/20 [==============================] - 2s 108ms/step - loss: 1.6991 - recall_3: 1.0000 - val_loss: 1.6925 - val_recall_3: 1.0000\n",
      "Epoch 5/50\n",
      "20/20 [==============================] - 2s 108ms/step - loss: 1.6840 - recall_3: 1.0000 - val_loss: 1.6785 - val_recall_3: 1.0000\n",
      "Epoch 6/50\n",
      "20/20 [==============================] - 2s 121ms/step - loss: 1.6699 - recall_3: 1.0000 - val_loss: 1.6655 - val_recall_3: 1.0000\n",
      "Epoch 7/50\n",
      "20/20 [==============================] - 3s 133ms/step - loss: 1.6569 - recall_3: 1.0000 - val_loss: 1.6536 - val_recall_3: 1.0000\n",
      "Epoch 8/50\n",
      "20/20 [==============================] - 2s 119ms/step - loss: 1.6448 - recall_3: 1.0000 - val_loss: 1.6424 - val_recall_3: 1.0000\n",
      "Epoch 9/50\n",
      "20/20 [==============================] - 2s 107ms/step - loss: 1.6335 - recall_3: 1.0000 - val_loss: 1.6320 - val_recall_3: 1.0000\n",
      "Epoch 10/50\n",
      "20/20 [==============================] - 2s 107ms/step - loss: 1.6229 - recall_3: 1.0000 - val_loss: 1.6223 - val_recall_3: 1.0000\n",
      "Epoch 11/50\n",
      "20/20 [==============================] - 2s 107ms/step - loss: 1.6130 - recall_3: 1.0000 - val_loss: 1.6131 - val_recall_3: 1.0000\n",
      "Epoch 12/50\n",
      "20/20 [==============================] - 2s 106ms/step - loss: 1.6037 - recall_3: 1.0000 - val_loss: 1.6045 - val_recall_3: 1.0000\n",
      "Epoch 13/50\n",
      "20/20 [==============================] - 2s 107ms/step - loss: 1.5949 - recall_3: 1.0000 - val_loss: 1.5963 - val_recall_3: 1.0000\n",
      "Epoch 14/50\n",
      "20/20 [==============================] - 2s 106ms/step - loss: 1.5866 - recall_3: 1.0000 - val_loss: 1.5886 - val_recall_3: 1.0000\n",
      "Epoch 15/50\n",
      "20/20 [==============================] - 2s 109ms/step - loss: 1.5786 - recall_3: 1.0000 - val_loss: 1.5812 - val_recall_3: 1.0000\n",
      "Epoch 16/50\n",
      "20/20 [==============================] - 2s 110ms/step - loss: 1.5711 - recall_3: 1.0000 - val_loss: 1.5742 - val_recall_3: 1.0000\n",
      "Epoch 17/50\n",
      "20/20 [==============================] - 2s 112ms/step - loss: 1.5639 - recall_3: 1.0000 - val_loss: 1.5676 - val_recall_3: 1.0000\n",
      "Epoch 18/50\n",
      "20/20 [==============================] - 2s 106ms/step - loss: 1.5571 - recall_3: 1.0000 - val_loss: 1.5612 - val_recall_3: 1.0000\n",
      "Epoch 19/50\n",
      "20/20 [==============================] - 2s 106ms/step - loss: 1.5506 - recall_3: 1.0000 - val_loss: 1.5551 - val_recall_3: 1.0000\n",
      "Epoch 20/50\n",
      "20/20 [==============================] - 2s 106ms/step - loss: 1.5442 - recall_3: 1.0000 - val_loss: 1.5492 - val_recall_3: 1.0000\n",
      "Epoch 21/50\n",
      "20/20 [==============================] - 2s 106ms/step - loss: 1.5382 - recall_3: 1.0000 - val_loss: 1.5435 - val_recall_3: 1.0000\n",
      "Epoch 22/50\n",
      "20/20 [==============================] - 2s 105ms/step - loss: 1.5323 - recall_3: 1.0000 - val_loss: 1.5380 - val_recall_3: 1.0000\n",
      "Epoch 23/50\n",
      "20/20 [==============================] - 2s 105ms/step - loss: 1.5267 - recall_3: 1.0000 - val_loss: 1.5327 - val_recall_3: 1.0000\n",
      "Epoch 24/50\n",
      "20/20 [==============================] - 2s 115ms/step - loss: 1.5212 - recall_3: 1.0000 - val_loss: 1.5275 - val_recall_3: 1.0000\n",
      "Epoch 25/50\n",
      "20/20 [==============================] - 2s 118ms/step - loss: 1.5159 - recall_3: 1.0000 - val_loss: 1.5225 - val_recall_3: 1.0000\n",
      "Epoch 26/50\n",
      "20/20 [==============================] - 2s 105ms/step - loss: 1.5107 - recall_3: 1.0000 - val_loss: 1.5177 - val_recall_3: 1.0000\n",
      "Epoch 27/50\n",
      "20/20 [==============================] - 2s 112ms/step - loss: 1.5057 - recall_3: 1.0000 - val_loss: 1.5129 - val_recall_3: 1.0000\n",
      "Epoch 28/50\n",
      "20/20 [==============================] - 2s 114ms/step - loss: 1.5008 - recall_3: 1.0000 - val_loss: 1.5083 - val_recall_3: 1.0000\n",
      "Epoch 29/50\n",
      "20/20 [==============================] - 2s 114ms/step - loss: 1.4960 - recall_3: 1.0000 - val_loss: 1.5037 - val_recall_3: 1.0000\n",
      "Epoch 30/50\n",
      "20/20 [==============================] - 2s 108ms/step - loss: 1.4913 - recall_3: 1.0000 - val_loss: 1.4992 - val_recall_3: 1.0000\n",
      "Epoch 31/50\n",
      "20/20 [==============================] - 2s 108ms/step - loss: 1.4867 - recall_3: 1.0000 - val_loss: 1.4948 - val_recall_3: 1.0000\n",
      "Epoch 32/50\n",
      "20/20 [==============================] - 2s 116ms/step - loss: 1.4822 - recall_3: 1.0000 - val_loss: 1.4906 - val_recall_3: 1.0000\n",
      "Epoch 33/50\n",
      "20/20 [==============================] - 2s 107ms/step - loss: 1.4778 - recall_3: 1.0000 - val_loss: 1.4863 - val_recall_3: 1.0000\n",
      "Epoch 34/50\n",
      "20/20 [==============================] - 2s 112ms/step - loss: 1.4734 - recall_3: 1.0000 - val_loss: 1.4822 - val_recall_3: 1.0000\n",
      "Epoch 35/50\n",
      "20/20 [==============================] - 2s 106ms/step - loss: 1.4692 - recall_3: 1.0000 - val_loss: 1.4781 - val_recall_3: 1.0000\n",
      "Epoch 36/50\n",
      "20/20 [==============================] - 2s 106ms/step - loss: 1.4650 - recall_3: 1.0000 - val_loss: 1.4741 - val_recall_3: 1.0000\n",
      "Epoch 37/50\n",
      "20/20 [==============================] - 2s 105ms/step - loss: 1.4609 - recall_3: 1.0000 - val_loss: 1.4701 - val_recall_3: 1.0000\n",
      "Epoch 38/50\n",
      "20/20 [==============================] - 2s 107ms/step - loss: 1.4568 - recall_3: 1.0000 - val_loss: 1.4661 - val_recall_3: 1.0000\n",
      "Epoch 39/50\n",
      "20/20 [==============================] - 2s 108ms/step - loss: 1.4527 - recall_3: 1.0000 - val_loss: 1.4622 - val_recall_3: 1.0000\n",
      "Epoch 40/50\n",
      "20/20 [==============================] - 2s 105ms/step - loss: 1.4487 - recall_3: 1.0000 - val_loss: 1.4584 - val_recall_3: 1.0000\n",
      "Epoch 41/50\n",
      "20/20 [==============================] - 2s 109ms/step - loss: 1.4448 - recall_3: 1.0000 - val_loss: 1.4546 - val_recall_3: 1.0000\n",
      "Epoch 42/50\n",
      "20/20 [==============================] - 2s 111ms/step - loss: 1.4409 - recall_3: 1.0000 - val_loss: 1.4508 - val_recall_3: 1.0000\n",
      "Epoch 43/50\n",
      "20/20 [==============================] - 2s 107ms/step - loss: 1.4371 - recall_3: 1.0000 - val_loss: 1.4471 - val_recall_3: 1.0000\n",
      "Epoch 44/50\n",
      "20/20 [==============================] - 2s 105ms/step - loss: 1.4333 - recall_3: 1.0000 - val_loss: 1.4434 - val_recall_3: 1.0000\n",
      "Epoch 45/50\n",
      "20/20 [==============================] - 2s 107ms/step - loss: 1.4295 - recall_3: 1.0000 - val_loss: 1.4398 - val_recall_3: 1.0000\n",
      "Epoch 46/50\n",
      "20/20 [==============================] - 2s 108ms/step - loss: 1.4258 - recall_3: 1.0000 - val_loss: 1.4361 - val_recall_3: 1.0000\n",
      "Epoch 47/50\n",
      "20/20 [==============================] - 2s 114ms/step - loss: 1.4221 - recall_3: 1.0000 - val_loss: 1.4325 - val_recall_3: 1.0000\n",
      "Epoch 48/50\n",
      "20/20 [==============================] - 2s 111ms/step - loss: 1.4184 - recall_3: 1.0000 - val_loss: 1.4290 - val_recall_3: 1.0000\n",
      "Epoch 49/50\n",
      "20/20 [==============================] - 2s 106ms/step - loss: 1.4147 - recall_3: 1.0000 - val_loss: 1.4254 - val_recall_3: 1.0000\n",
      "Epoch 50/50\n",
      "20/20 [==============================] - 2s 107ms/step - loss: 1.4111 - recall_3: 1.0000 - val_loss: 1.4219 - val_recall_3: 1.0000\n"
     ]
    }
   ],
   "source": [
    "model4.compile(optimizer='sgd',\n",
    "              loss='binary_crossentropy',\n",
    "              metrics=[tf.keras.metrics.Recall()])\n",
    "\n",
    "results4 = model4.fit(X_train, \n",
    "                    y_train,\n",
    "                    callbacks=early_stopping,\n",
    "                    epochs=50,\n",
    "                    batch_size=32,\n",
    "                    validation_data=(X_val, y_val))"
   ]
  },
  {
   "cell_type": "code",
   "execution_count": 52,
   "metadata": {},
   "outputs": [
    {
     "name": "stdout",
     "output_type": "stream",
     "text": [
      "20/20 [==============================] - 0s 24ms/step - loss: 1.4092 - recall_3: 1.0000\n"
     ]
    }
   ],
   "source": [
    "results_train4 = model4.evaluate(X_train, y_train)"
   ]
  },
  {
   "cell_type": "code",
   "execution_count": 53,
   "metadata": {},
   "outputs": [
    {
     "name": "stdout",
     "output_type": "stream",
     "text": [
      "5/5 [==============================] - 0s 20ms/step - loss: 1.4219 - recall_3: 1.0000\n"
     ]
    }
   ],
   "source": [
    "results_val4 = model4.evaluate(X_val, y_val)"
   ]
  },
  {
   "cell_type": "code",
   "execution_count": 39,
   "metadata": {},
   "outputs": [
    {
     "data": {
      "image/png": "[encoded data removed]",
      "text/plain": [
       "<Figure size 432x288 with 1 Axes>"
      ]
     },
     "metadata": {
      "needs_background": "light"
     },
     "output_type": "display_data"
    }
   ],
   "source": [
    "visualize_results(results4)"
   ]
  },
  {
   "cell_type": "markdown",
   "metadata": {},
   "source": [
    "#### Insight: the curve variablity has improved! Will reduce model complexity to reduce the loss function and train the model against the entire training set"
   ]
  },
  {
   "cell_type": "code",
   "execution_count": 40,
   "metadata": {},
   "outputs": [],
   "source": [
    "#reducing layers and nodes within layers\n",
    "np.random.seed(42)\n",
    "\n",
    "lambda_coeff = 0.005\n",
    "\n",
    "model5 = models.Sequential()\n",
    "model5.add(layers.Conv2D(32, (3,3), activation='softmax',\n",
    "                        input_shape=(64, 64, 1), padding='same'))\n",
    "\n",
    "model5.add(layers.Flatten())\n",
    "model5.add(layers.Dense(16, activation='softmax', kernel_regularizer=regularizers.l2(lambda_coeff)))\n",
    "model5.add(layers.Dense(8, activation='softmax', kernel_regularizer=regularizers.l2(lambda_coeff)))\n",
    "\n",
    "model5.add(layers.Dense(1, activation='sigmoid'))"
   ]
  },
  {
   "cell_type": "code",
   "execution_count": 41,
   "metadata": {
    "scrolled": true
   },
   "outputs": [
    {
     "name": "stdout",
     "output_type": "stream",
     "text": [
      "Epoch 1/50\n",
      "20/20 [==============================] - 2s 90ms/step - loss: 0.9286 - recall_4: 0.0000e+00 - val_loss: 0.9069 - val_recall_4: 0.3305\n",
      "Epoch 2/50\n",
      "20/20 [==============================] - 2s 78ms/step - loss: 0.8916 - recall_4: 0.9625 - val_loss: 0.8820 - val_recall_4: 1.0000\n",
      "Epoch 3/50\n",
      "20/20 [==============================] - 2s 77ms/step - loss: 0.8739 - recall_4: 1.0000 - val_loss: 0.8688 - val_recall_4: 1.0000\n",
      "Epoch 4/50\n",
      "20/20 [==============================] - 2s 78ms/step - loss: 0.8610 - recall_4: 1.0000 - val_loss: 0.8574 - val_recall_4: 1.0000\n",
      "Epoch 5/50\n",
      "20/20 [==============================] - 2s 79ms/step - loss: 0.8497 - recall_4: 1.0000 - val_loss: 0.8474 - val_recall_4: 1.0000\n",
      "Epoch 6/50\n",
      "20/20 [==============================] - 2s 77ms/step - loss: 0.8396 - recall_4: 1.0000 - val_loss: 0.8385 - val_recall_4: 1.0000\n",
      "Epoch 7/50\n",
      "20/20 [==============================] - 2s 77ms/step - loss: 0.8306 - recall_4: 1.0000 - val_loss: 0.8306 - val_recall_4: 1.0000\n",
      "Epoch 8/50\n",
      "20/20 [==============================] - 2s 77ms/step - loss: 0.8225 - recall_4: 1.0000 - val_loss: 0.8235 - val_recall_4: 1.0000\n",
      "Epoch 9/50\n",
      "20/20 [==============================] - 2s 77ms/step - loss: 0.8152 - recall_4: 1.0000 - val_loss: 0.8171 - val_recall_4: 1.0000\n",
      "Epoch 10/50\n",
      "20/20 [==============================] - 2s 77ms/step - loss: 0.8087 - recall_4: 1.0000 - val_loss: 0.8113 - val_recall_4: 1.0000\n",
      "Epoch 11/50\n",
      "20/20 [==============================] - 2s 81ms/step - loss: 0.8028 - recall_4: 1.0000 - val_loss: 0.8062 - val_recall_4: 1.0000\n",
      "Epoch 12/50\n",
      "20/20 [==============================] - 2s 78ms/step - loss: 0.7974 - recall_4: 1.0000 - val_loss: 0.8015 - val_recall_4: 1.0000\n",
      "Epoch 13/50\n",
      "20/20 [==============================] - 2s 78ms/step - loss: 0.7926 - recall_4: 1.0000 - val_loss: 0.7973 - val_recall_4: 1.0000\n",
      "Epoch 14/50\n",
      "20/20 [==============================] - 2s 77ms/step - loss: 0.7882 - recall_4: 1.0000 - val_loss: 0.7934 - val_recall_4: 1.0000\n",
      "Epoch 15/50\n",
      "20/20 [==============================] - 2s 76ms/step - loss: 0.7841 - recall_4: 1.0000 - val_loss: 0.7899 - val_recall_4: 1.0000\n",
      "Epoch 16/50\n",
      "20/20 [==============================] - 2s 76ms/step - loss: 0.7804 - recall_4: 1.0000 - val_loss: 0.7867 - val_recall_4: 1.0000\n",
      "Epoch 17/50\n",
      "20/20 [==============================] - 2s 77ms/step - loss: 0.7770 - recall_4: 1.0000 - val_loss: 0.7838 - val_recall_4: 1.0000\n",
      "Epoch 18/50\n",
      "20/20 [==============================] - 2s 77ms/step - loss: 0.7739 - recall_4: 1.0000 - val_loss: 0.7810 - val_recall_4: 1.0000\n",
      "Epoch 19/50\n",
      "20/20 [==============================] - 2s 94ms/step - loss: 0.7710 - recall_4: 1.0000 - val_loss: 0.7786 - val_recall_4: 1.0000\n",
      "Epoch 20/50\n",
      "20/20 [==============================] - 2s 79ms/step - loss: 0.7683 - recall_4: 1.0000 - val_loss: 0.7763 - val_recall_4: 1.0000\n",
      "Epoch 21/50\n",
      "20/20 [==============================] - 2s 86ms/step - loss: 0.7659 - recall_4: 1.0000 - val_loss: 0.7741 - val_recall_4: 1.0000\n",
      "Epoch 22/50\n",
      "20/20 [==============================] - 2s 78ms/step - loss: 0.7635 - recall_4: 1.0000 - val_loss: 0.7722 - val_recall_4: 1.0000\n",
      "Epoch 23/50\n",
      "20/20 [==============================] - 2s 78ms/step - loss: 0.7614 - recall_4: 1.0000 - val_loss: 0.7704 - val_recall_4: 1.0000\n",
      "Epoch 24/50\n",
      "20/20 [==============================] - 2s 78ms/step - loss: 0.7594 - recall_4: 1.0000 - val_loss: 0.7686 - val_recall_4: 1.0000\n",
      "Epoch 25/50\n",
      "20/20 [==============================] - 2s 83ms/step - loss: 0.7576 - recall_4: 1.0000 - val_loss: 0.7670 - val_recall_4: 1.0000\n",
      "Epoch 26/50\n",
      "20/20 [==============================] - 2s 83ms/step - loss: 0.7558 - recall_4: 1.0000 - val_loss: 0.7655 - val_recall_4: 1.0000\n",
      "Epoch 27/50\n",
      "20/20 [==============================] - 2s 80ms/step - loss: 0.7541 - recall_4: 1.0000 - val_loss: 0.7641 - val_recall_4: 1.0000\n",
      "Epoch 28/50\n",
      "20/20 [==============================] - 2s 80ms/step - loss: 0.7526 - recall_4: 1.0000 - val_loss: 0.7627 - val_recall_4: 1.0000\n",
      "Epoch 29/50\n",
      "20/20 [==============================] - 2s 87ms/step - loss: 0.7511 - recall_4: 1.0000 - val_loss: 0.7614 - val_recall_4: 1.0000\n",
      "Epoch 30/50\n",
      "20/20 [==============================] - 2s 80ms/step - loss: 0.7497 - recall_4: 1.0000 - val_loss: 0.7602 - val_recall_4: 1.0000\n",
      "Epoch 31/50\n",
      "20/20 [==============================] - 2s 81ms/step - loss: 0.7483 - recall_4: 1.0000 - val_loss: 0.7590 - val_recall_4: 1.0000\n",
      "Epoch 32/50\n",
      "20/20 [==============================] - 2s 93ms/step - loss: 0.7470 - recall_4: 1.0000 - val_loss: 0.7579 - val_recall_4: 1.0000\n",
      "Epoch 33/50\n",
      "20/20 [==============================] - 2s 82ms/step - loss: 0.7458 - recall_4: 1.0000 - val_loss: 0.7568 - val_recall_4: 1.0000\n",
      "Epoch 34/50\n",
      "20/20 [==============================] - 2s 89ms/step - loss: 0.7446 - recall_4: 1.0000 - val_loss: 0.7558 - val_recall_4: 1.0000\n",
      "Epoch 35/50\n",
      "20/20 [==============================] - 2s 97ms/step - loss: 0.7434 - recall_4: 1.0000 - val_loss: 0.7547 - val_recall_4: 1.0000\n",
      "Epoch 36/50\n",
      "20/20 [==============================] - 2s 90ms/step - loss: 0.7423 - recall_4: 1.0000 - val_loss: 0.7538 - val_recall_4: 1.0000\n",
      "Epoch 37/50\n",
      "20/20 [==============================] - 2s 81ms/step - loss: 0.7412 - recall_4: 1.0000 - val_loss: 0.7528 - val_recall_4: 1.0000\n",
      "Epoch 38/50\n",
      "20/20 [==============================] - 2s 76ms/step - loss: 0.7401 - recall_4: 1.0000 - val_loss: 0.7518 - val_recall_4: 1.0000\n",
      "Epoch 39/50\n",
      "20/20 [==============================] - 2s 78ms/step - loss: 0.7391 - recall_4: 1.0000 - val_loss: 0.7509 - val_recall_4: 1.0000\n",
      "Epoch 40/50\n",
      "20/20 [==============================] - 2s 83ms/step - loss: 0.7381 - recall_4: 1.0000 - val_loss: 0.7499 - val_recall_4: 1.0000\n",
      "Epoch 41/50\n",
      "20/20 [==============================] - 2s 96ms/step - loss: 0.7370 - recall_4: 1.0000 - val_loss: 0.7489 - val_recall_4: 1.0000\n",
      "Epoch 42/50\n",
      "20/20 [==============================] - 2s 87ms/step - loss: 0.7357 - recall_4: 1.0000 - val_loss: 0.7467 - val_recall_4: 1.0000\n",
      "Epoch 43/50\n",
      "20/20 [==============================] - 2s 92ms/step - loss: 0.7341 - recall_4: 1.0000 - val_loss: 0.7460 - val_recall_4: 1.0000\n",
      "Epoch 44/50\n",
      "20/20 [==============================] - 2s 91ms/step - loss: 0.7321 - recall_4: 1.0000 - val_loss: 0.7438 - val_recall_4: 1.0000\n",
      "Epoch 45/50\n",
      "20/20 [==============================] - 2s 79ms/step - loss: 0.7302 - recall_4: 1.0000 - val_loss: 0.7421 - val_recall_4: 1.0000\n",
      "Epoch 46/50\n",
      "20/20 [==============================] - 2s 91ms/step - loss: 0.7278 - recall_4: 1.0000 - val_loss: 0.7390 - val_recall_4: 1.0000\n",
      "Epoch 47/50\n",
      "20/20 [==============================] - 2s 84ms/step - loss: 0.7259 - recall_4: 1.0000 - val_loss: 0.7376 - val_recall_4: 1.0000\n",
      "Epoch 48/50\n",
      "20/20 [==============================] - 2s 87ms/step - loss: 0.7245 - recall_4: 1.0000 - val_loss: 0.7366 - val_recall_4: 1.0000\n",
      "Epoch 49/50\n",
      "20/20 [==============================] - 2s 88ms/step - loss: 0.7230 - recall_4: 1.0000 - val_loss: 0.7340 - val_recall_4: 1.0000\n",
      "Epoch 50/50\n",
      "20/20 [==============================] - 2s 83ms/step - loss: 0.7207 - recall_4: 1.0000 - val_loss: 0.7332 - val_recall_4: 1.0000\n"
     ]
    }
   ],
   "source": [
    "model5.compile(optimizer='sgd',\n",
    "              loss='binary_crossentropy',\n",
    "              metrics=[tf.keras.metrics.Recall()])\n",
    "\n",
    "results5 = model5.fit(X_train, \n",
    "                    y_train,\n",
    "                    callbacks=early_stopping,\n",
    "                    epochs=50,\n",
    "                    batch_size=32,\n",
    "                    validation_data=(X_val, y_val))"
   ]
  },
  {
   "cell_type": "code",
   "execution_count": 42,
   "metadata": {},
   "outputs": [
    {
     "data": {
      "image/png": "[encoded data removed]",
      "text/plain": [
       "<Figure size 432x288 with 1 Axes>"
      ]
     },
     "metadata": {
      "needs_background": "light"
     },
     "output_type": "display_data"
    }
   ],
   "source": [
    "visualize_results(results5)"
   ]
  },
  {
   "cell_type": "code",
   "execution_count": 43,
   "metadata": {},
   "outputs": [
    {
     "name": "stdout",
     "output_type": "stream",
     "text": [
      "Model: \"sequential_4\"\n",
      "_________________________________________________________________\n",
      "Layer (type)                 Output Shape              Param #   \n",
      "=================================================================\n",
      "conv2d_2 (Conv2D)            (None, 64, 64, 32)        320       \n",
      "_________________________________________________________________\n",
      "flatten_2 (Flatten)          (None, 131072)            0         \n",
      "_________________________________________________________________\n",
      "dense_16 (Dense)             (None, 16)                2097168   \n",
      "_________________________________________________________________\n",
      "dense_17 (Dense)             (None, 8)                 136       \n",
      "_________________________________________________________________\n",
      "dense_18 (Dense)             (None, 1)                 9         \n",
      "=================================================================\n",
      "Total params: 2,097,633\n",
      "Trainable params: 2,097,633\n",
      "Non-trainable params: 0\n",
      "_________________________________________________________________\n"
     ]
    }
   ],
   "source": [
    "model5.summary()"
   ]
  },
  {
   "cell_type": "markdown",
   "metadata": {},
   "source": [
    "#### Dropout regularization tests to reduce complexity"
   ]
  },
  {
   "cell_type": "code",
   "execution_count": 44,
   "metadata": {},
   "outputs": [],
   "source": [
    "np.random.seed(42)\n",
    "\n",
    "model6 = models.Sequential()\n",
    "model6.add(layers.Conv2D(32, (3,3), activation='softmax',\n",
    "                        input_shape=(64, 64, 1)))\n",
    "\n",
    "model6.add(layers.Flatten())\n",
    "model6.add(layers.Dense(16, activation='softmax', kernel_regularizer=regularizers.l2(lambda_coeff)))\n",
    "model6.add(layers.Dropout(0.3))\n",
    "model6.add(layers.Dense(8, activation='softmax', kernel_regularizer=regularizers.l2(lambda_coeff)))\n",
    "model6.add(layers.Dropout(0.3))\n",
    "model6.add(layers.Dense(1, activation='sigmoid'))"
   ]
  },
  {
   "cell_type": "code",
   "execution_count": 45,
   "metadata": {
    "scrolled": true
   },
   "outputs": [
    {
     "name": "stdout",
     "output_type": "stream",
     "text": [
      "Epoch 1/50\n",
      "20/20 [==============================] - 2s 85ms/step - loss: 0.9159 - recall_5: 0.4583 - val_loss: 0.9026 - val_recall_5: 1.0000\n",
      "Epoch 2/50\n",
      "20/20 [==============================] - 2s 87ms/step - loss: 0.8910 - recall_5: 0.7750 - val_loss: 0.8846 - val_recall_5: 1.0000\n",
      "Epoch 3/50\n",
      "20/20 [==============================] - 2s 108ms/step - loss: 0.8772 - recall_5: 0.9271 - val_loss: 0.8709 - val_recall_5: 1.0000\n",
      "Epoch 4/50\n",
      "20/20 [==============================] - 2s 94ms/step - loss: 0.8645 - recall_5: 0.9750 - val_loss: 0.8599 - val_recall_5: 1.0000\n",
      "Epoch 5/50\n",
      "20/20 [==============================] - 2s 86ms/step - loss: 0.8560 - recall_5: 0.9812 - val_loss: 0.8504 - val_recall_5: 1.0000\n",
      "Epoch 6/50\n",
      "20/20 [==============================] - 2s 89ms/step - loss: 0.8457 - recall_5: 0.9979 - val_loss: 0.8420 - val_recall_5: 1.0000\n",
      "Epoch 7/50\n",
      "20/20 [==============================] - 2s 108ms/step - loss: 0.8362 - recall_5: 1.0000 - val_loss: 0.8344 - val_recall_5: 1.0000\n",
      "Epoch 8/50\n",
      "20/20 [==============================] - 2s 102ms/step - loss: 0.8319 - recall_5: 1.0000 - val_loss: 0.8277 - val_recall_5: 1.0000\n",
      "Epoch 9/50\n",
      "20/20 [==============================] - 2s 100ms/step - loss: 0.8202 - recall_5: 1.0000 - val_loss: 0.8216 - val_recall_5: 1.0000\n",
      "Epoch 10/50\n",
      "20/20 [==============================] - 2s 97ms/step - loss: 0.8136 - recall_5: 1.0000 - val_loss: 0.8160 - val_recall_5: 1.0000\n",
      "Epoch 11/50\n",
      "20/20 [==============================] - 2s 86ms/step - loss: 0.8093 - recall_5: 1.0000 - val_loss: 0.8110 - val_recall_5: 1.0000\n",
      "Epoch 12/50\n",
      "20/20 [==============================] - 2s 85ms/step - loss: 0.8042 - recall_5: 1.0000 - val_loss: 0.8065 - val_recall_5: 1.0000\n",
      "Epoch 13/50\n",
      "20/20 [==============================] - 2s 105ms/step - loss: 0.7964 - recall_5: 1.0000 - val_loss: 0.8024 - val_recall_5: 1.0000\n",
      "Epoch 14/50\n",
      "20/20 [==============================] - 2s 92ms/step - loss: 0.7946 - recall_5: 1.0000 - val_loss: 0.7986 - val_recall_5: 1.0000\n",
      "Epoch 15/50\n",
      "20/20 [==============================] - 2s 81ms/step - loss: 0.7890 - recall_5: 1.0000 - val_loss: 0.7952 - val_recall_5: 1.0000\n",
      "Epoch 16/50\n",
      "20/20 [==============================] - 1s 75ms/step - loss: 0.7852 - recall_5: 1.0000 - val_loss: 0.7920 - val_recall_5: 1.0000\n",
      "Epoch 17/50\n",
      "20/20 [==============================] - 2s 81ms/step - loss: 0.7842 - recall_5: 1.0000 - val_loss: 0.7891 - val_recall_5: 1.0000\n",
      "Epoch 18/50\n",
      "20/20 [==============================] - 2s 93ms/step - loss: 0.7813 - recall_5: 1.0000 - val_loss: 0.7864 - val_recall_5: 1.0000\n",
      "Epoch 19/50\n",
      "20/20 [==============================] - 2s 97ms/step - loss: 0.7765 - recall_5: 1.0000 - val_loss: 0.7840 - val_recall_5: 1.0000\n",
      "Epoch 20/50\n",
      "20/20 [==============================] - 2s 108ms/step - loss: 0.7751 - recall_5: 1.0000 - val_loss: 0.7817 - val_recall_5: 1.0000\n",
      "Epoch 21/50\n",
      "20/20 [==============================] - 2s 89ms/step - loss: 0.7688 - recall_5: 1.0000 - val_loss: 0.7795 - val_recall_5: 1.0000\n",
      "Epoch 22/50\n",
      "20/20 [==============================] - 2s 76ms/step - loss: 0.7723 - recall_5: 1.0000 - val_loss: 0.7776 - val_recall_5: 1.0000\n",
      "Epoch 23/50\n",
      "20/20 [==============================] - 1s 73ms/step - loss: 0.7656 - recall_5: 1.0000 - val_loss: 0.7757 - val_recall_5: 1.0000\n",
      "Epoch 24/50\n",
      "20/20 [==============================] - 2s 77ms/step - loss: 0.7669 - recall_5: 1.0000 - val_loss: 0.7739 - val_recall_5: 1.0000\n",
      "Epoch 25/50\n",
      "20/20 [==============================] - 2s 101ms/step - loss: 0.7663 - recall_5: 1.0000 - val_loss: 0.7723 - val_recall_5: 1.0000\n",
      "Epoch 26/50\n",
      "20/20 [==============================] - 2s 90ms/step - loss: 0.7610 - recall_5: 1.0000 - val_loss: 0.7707 - val_recall_5: 1.0000\n",
      "Epoch 27/50\n",
      "20/20 [==============================] - 2s 86ms/step - loss: 0.7619 - recall_5: 1.0000 - val_loss: 0.7693 - val_recall_5: 1.0000\n",
      "Epoch 28/50\n",
      "20/20 [==============================] - 2s 78ms/step - loss: 0.7612 - recall_5: 1.0000 - val_loss: 0.7679 - val_recall_5: 1.0000\n",
      "Epoch 29/50\n",
      "20/20 [==============================] - 2s 76ms/step - loss: 0.7608 - recall_5: 1.0000 - val_loss: 0.7666 - val_recall_5: 1.0000\n",
      "Epoch 30/50\n",
      "20/20 [==============================] - 1s 72ms/step - loss: 0.7566 - recall_5: 1.0000 - val_loss: 0.7653 - val_recall_5: 1.0000\n",
      "Epoch 31/50\n",
      "20/20 [==============================] - 1s 72ms/step - loss: 0.7555 - recall_5: 1.0000 - val_loss: 0.7640 - val_recall_5: 1.0000\n",
      "Epoch 32/50\n",
      "20/20 [==============================] - 1s 71ms/step - loss: 0.7567 - recall_5: 1.0000 - val_loss: 0.7628 - val_recall_5: 1.0000\n",
      "Epoch 33/50\n",
      "20/20 [==============================] - 1s 71ms/step - loss: 0.7551 - recall_5: 1.0000 - val_loss: 0.7616 - val_recall_5: 1.0000\n",
      "Epoch 34/50\n",
      "20/20 [==============================] - 1s 72ms/step - loss: 0.7522 - recall_5: 1.0000 - val_loss: 0.7609 - val_recall_5: 1.0000\n",
      "Epoch 35/50\n",
      "20/20 [==============================] - 1s 71ms/step - loss: 0.7477 - recall_5: 1.0000 - val_loss: 0.7594 - val_recall_5: 1.0000\n",
      "Epoch 36/50\n",
      "20/20 [==============================] - 1s 72ms/step - loss: 0.7475 - recall_5: 1.0000 - val_loss: 0.7583 - val_recall_5: 1.0000\n",
      "Epoch 37/50\n",
      "20/20 [==============================] - 1s 72ms/step - loss: 0.7508 - recall_5: 1.0000 - val_loss: 0.7574 - val_recall_5: 1.0000\n",
      "Epoch 38/50\n",
      "20/20 [==============================] - 1s 74ms/step - loss: 0.7475 - recall_5: 1.0000 - val_loss: 0.7560 - val_recall_5: 1.0000\n",
      "Epoch 39/50\n",
      "20/20 [==============================] - 2s 80ms/step - loss: 0.7458 - recall_5: 1.0000 - val_loss: 0.7548 - val_recall_5: 1.0000\n",
      "Epoch 40/50\n",
      "20/20 [==============================] - 2s 79ms/step - loss: 0.7470 - recall_5: 1.0000 - val_loss: 0.7538 - val_recall_5: 1.0000\n",
      "Epoch 41/50\n",
      "20/20 [==============================] - 1s 74ms/step - loss: 0.7442 - recall_5: 1.0000 - val_loss: 0.7526 - val_recall_5: 1.0000\n",
      "Epoch 42/50\n",
      "20/20 [==============================] - 1s 73ms/step - loss: 0.7466 - recall_5: 1.0000 - val_loss: 0.7515 - val_recall_5: 1.0000\n",
      "Epoch 43/50\n",
      "20/20 [==============================] - 2s 81ms/step - loss: 0.7406 - recall_5: 1.0000 - val_loss: 0.7506 - val_recall_5: 1.0000\n",
      "Epoch 44/50\n",
      "20/20 [==============================] - 2s 83ms/step - loss: 0.7392 - recall_5: 1.0000 - val_loss: 0.7498 - val_recall_5: 1.0000\n",
      "Epoch 45/50\n",
      "20/20 [==============================] - 1s 74ms/step - loss: 0.7399 - recall_5: 1.0000 - val_loss: 0.7487 - val_recall_5: 1.0000\n",
      "Epoch 46/50\n",
      "20/20 [==============================] - 1s 74ms/step - loss: 0.7351 - recall_5: 1.0000 - val_loss: 0.7484 - val_recall_5: 1.0000\n",
      "Epoch 47/50\n",
      "20/20 [==============================] - 1s 73ms/step - loss: 0.7353 - recall_5: 1.0000 - val_loss: 0.7473 - val_recall_5: 1.0000\n",
      "Epoch 48/50\n",
      "20/20 [==============================] - 1s 73ms/step - loss: 0.7358 - recall_5: 1.0000 - val_loss: 0.7456 - val_recall_5: 1.0000\n",
      "Epoch 49/50\n",
      "20/20 [==============================] - 1s 74ms/step - loss: 0.7364 - recall_5: 1.0000 - val_loss: 0.7441 - val_recall_5: 1.0000\n",
      "Epoch 50/50\n",
      "20/20 [==============================] - 1s 74ms/step - loss: 0.7306 - recall_5: 1.0000 - val_loss: 0.7436 - val_recall_5: 1.0000\n"
     ]
    }
   ],
   "source": [
    "model6.compile(optimizer='sgd',\n",
    "              loss='binary_crossentropy',\n",
    "              metrics=[tf.keras.metrics.Recall()])\n",
    "\n",
    "results6 = model6.fit(X_train, \n",
    "                    y_train,\n",
    "                    callbacks=early_stopping,\n",
    "                    epochs=50,\n",
    "                    batch_size=32,\n",
    "                    validation_data=(X_val, y_val))"
   ]
  },
  {
   "cell_type": "code",
   "execution_count": 46,
   "metadata": {},
   "outputs": [
    {
     "name": "stdout",
     "output_type": "stream",
     "text": [
      "20/20 [==============================] - 0s 16ms/step - loss: 0.7305 - recall_5: 1.0000\n"
     ]
    }
   ],
   "source": [
    "results_train6 = model6.evaluate(X_train, y_train)"
   ]
  },
  {
   "cell_type": "code",
   "execution_count": 47,
   "metadata": {},
   "outputs": [
    {
     "name": "stdout",
     "output_type": "stream",
     "text": [
      "5/5 [==============================] - 0s 14ms/step - loss: 0.7436 - recall_5: 1.0000\n"
     ]
    }
   ],
   "source": [
    "results_val6 = model6.evaluate(X_val, y_val)"
   ]
  },
  {
   "cell_type": "code",
   "execution_count": 48,
   "metadata": {},
   "outputs": [
    {
     "data": {
      "image/png": "[encoded data removed]",
      "text/plain": [
       "<Figure size 432x288 with 1 Axes>"
      ]
     },
     "metadata": {
      "needs_background": "light"
     },
     "output_type": "display_data"
    }
   ],
   "source": [
    "visualize_results(results6)"
   ]
  },
  {
   "cell_type": "markdown",
   "metadata": {},
   "source": [
    "#### dropout drastically reduces variance. Will also attempt BatchNormalization"
   ]
  },
  {
   "cell_type": "code",
   "execution_count": 49,
   "metadata": {},
   "outputs": [],
   "source": [
    "#introducing padding\n",
    "np.random.seed(42)\n",
    "model7 = models.Sequential()\n",
    "model7.add(layers.Conv2D(32, (3,3), activation='softmax',\n",
    "                        input_shape=(64, 64, 1), padding='same'))\n",
    "\n",
    "model7.add(layers.Flatten())\n",
    "model7.add(layers.Dense(42, activation='softmax'))\n",
    "model7.add(layers.Dropout(0.3))\n",
    "model7.add(layers.Dense(21, activation='softmax'))\n",
    "model7.add(layers.Dropout(0.3))\n",
    "model7.add(layers.Dense(1, activation='sigmoid'))"
   ]
  },
  {
   "cell_type": "code",
   "execution_count": 50,
   "metadata": {},
   "outputs": [
    {
     "name": "stdout",
     "output_type": "stream",
     "text": [
      "Epoch 1/50\n",
      "20/20 [==============================] - 2s 93ms/step - loss: 0.7046 - recall_6: 0.2292 - val_loss: 0.6951 - val_recall_6: 0.0000e+00\n",
      "Epoch 2/50\n",
      "20/20 [==============================] - 2s 101ms/step - loss: 0.6882 - recall_6: 0.6583 - val_loss: 0.6819 - val_recall_6: 1.0000\n",
      "Epoch 3/50\n",
      "20/20 [==============================] - 2s 104ms/step - loss: 0.6765 - recall_6: 0.9458 - val_loss: 0.6702 - val_recall_6: 1.0000\n",
      "Epoch 4/50\n",
      "20/20 [==============================] - 2s 95ms/step - loss: 0.6657 - recall_6: 0.9958 - val_loss: 0.6596 - val_recall_6: 1.0000\n",
      "Epoch 5/50\n",
      "20/20 [==============================] - 2s 91ms/step - loss: 0.6537 - recall_6: 1.0000 - val_loss: 0.6502 - val_recall_6: 1.0000\n",
      "Epoch 6/50\n",
      "20/20 [==============================] - 2s 96ms/step - loss: 0.6424 - recall_6: 1.0000 - val_loss: 0.6417 - val_recall_6: 1.0000\n",
      "Epoch 7/50\n",
      "20/20 [==============================] - 2s 84ms/step - loss: 0.6341 - recall_6: 1.0000 - val_loss: 0.6341 - val_recall_6: 1.0000\n",
      "Epoch 8/50\n",
      "20/20 [==============================] - 2s 86ms/step - loss: 0.6286 - recall_6: 1.0000 - val_loss: 0.6272 - val_recall_6: 1.0000\n",
      "Epoch 9/50\n",
      "20/20 [==============================] - 2s 86ms/step - loss: 0.6205 - recall_6: 1.0000 - val_loss: 0.6210 - val_recall_6: 1.0000\n",
      "Epoch 10/50\n",
      "20/20 [==============================] - 2s 94ms/step - loss: 0.6154 - recall_6: 1.0000 - val_loss: 0.6155 - val_recall_6: 1.0000\n",
      "Epoch 11/50\n",
      "20/20 [==============================] - 2s 96ms/step - loss: 0.6088 - recall_6: 1.0000 - val_loss: 0.6105 - val_recall_6: 1.0000\n",
      "Epoch 12/50\n",
      "20/20 [==============================] - 2s 97ms/step - loss: 0.6020 - recall_6: 1.0000 - val_loss: 0.6060 - val_recall_6: 1.0000\n",
      "Epoch 13/50\n",
      "20/20 [==============================] - 2s 94ms/step - loss: 0.5979 - recall_6: 1.0000 - val_loss: 0.6020 - val_recall_6: 1.0000\n",
      "Epoch 14/50\n",
      "20/20 [==============================] - 2s 92ms/step - loss: 0.5955 - recall_6: 1.0000 - val_loss: 0.5983 - val_recall_6: 1.0000\n",
      "Epoch 15/50\n",
      "20/20 [==============================] - 2s 83ms/step - loss: 0.5908 - recall_6: 1.0000 - val_loss: 0.5950 - val_recall_6: 1.0000\n",
      "Epoch 16/50\n",
      "20/20 [==============================] - 2s 81ms/step - loss: 0.5858 - recall_6: 1.0000 - val_loss: 0.5920 - val_recall_6: 1.0000\n",
      "Epoch 17/50\n",
      "20/20 [==============================] - 2s 83ms/step - loss: 0.5834 - recall_6: 1.0000 - val_loss: 0.5891 - val_recall_6: 1.0000\n",
      "Epoch 18/50\n",
      "20/20 [==============================] - 2s 83ms/step - loss: 0.5799 - recall_6: 1.0000 - val_loss: 0.5867 - val_recall_6: 1.0000\n",
      "Epoch 19/50\n",
      "20/20 [==============================] - 2s 94ms/step - loss: 0.5774 - recall_6: 1.0000 - val_loss: 0.5844 - val_recall_6: 1.0000\n",
      "Epoch 20/50\n",
      "20/20 [==============================] - 2s 90ms/step - loss: 0.5753 - recall_6: 1.0000 - val_loss: 0.5824 - val_recall_6: 1.0000\n",
      "Epoch 21/50\n",
      "20/20 [==============================] - 2s 85ms/step - loss: 0.5728 - recall_6: 1.0000 - val_loss: 0.5807 - val_recall_6: 1.0000\n",
      "Epoch 22/50\n",
      "20/20 [==============================] - 2s 92ms/step - loss: 0.5710 - recall_6: 1.0000 - val_loss: 0.5791 - val_recall_6: 1.0000\n",
      "Epoch 23/50\n",
      "20/20 [==============================] - 2s 94ms/step - loss: 0.5695 - recall_6: 1.0000 - val_loss: 0.5778 - val_recall_6: 1.0000\n",
      "Epoch 24/50\n",
      "20/20 [==============================] - 2s 106ms/step - loss: 0.5690 - recall_6: 1.0000 - val_loss: 0.5765 - val_recall_6: 1.0000\n",
      "Epoch 25/50\n",
      "20/20 [==============================] - 2s 99ms/step - loss: 0.5673 - recall_6: 1.0000 - val_loss: 0.5754 - val_recall_6: 1.0000\n",
      "Epoch 26/50\n",
      "20/20 [==============================] - 2s 101ms/step - loss: 0.5665 - recall_6: 1.0000 - val_loss: 0.5744 - val_recall_6: 1.0000\n",
      "Epoch 27/50\n",
      "20/20 [==============================] - 2s 83ms/step - loss: 0.5641 - recall_6: 1.0000 - val_loss: 0.5734 - val_recall_6: 1.0000\n",
      "Epoch 28/50\n",
      "20/20 [==============================] - 2s 82ms/step - loss: 0.5637 - recall_6: 1.0000 - val_loss: 0.5726 - val_recall_6: 1.0000\n",
      "Epoch 29/50\n",
      "20/20 [==============================] - 2s 83ms/step - loss: 0.5634 - recall_6: 1.0000 - val_loss: 0.5718 - val_recall_6: 1.0000\n",
      "Epoch 30/50\n",
      "20/20 [==============================] - 2s 82ms/step - loss: 0.5616 - recall_6: 1.0000 - val_loss: 0.5712 - val_recall_6: 1.0000\n",
      "Epoch 31/50\n",
      "20/20 [==============================] - 2s 84ms/step - loss: 0.5594 - recall_6: 1.0000 - val_loss: 0.5705 - val_recall_6: 1.0000\n",
      "Epoch 32/50\n",
      "20/20 [==============================] - 2s 85ms/step - loss: 0.5587 - recall_6: 1.0000 - val_loss: 0.5699 - val_recall_6: 1.0000\n",
      "Epoch 33/50\n",
      "20/20 [==============================] - 2s 90ms/step - loss: 0.5593 - recall_6: 1.0000 - val_loss: 0.5694 - val_recall_6: 1.0000\n",
      "Epoch 34/50\n",
      "20/20 [==============================] - 2s 97ms/step - loss: 0.5592 - recall_6: 1.0000 - val_loss: 0.5688 - val_recall_6: 1.0000\n",
      "Epoch 35/50\n",
      "20/20 [==============================] - 2s 82ms/step - loss: 0.5570 - recall_6: 1.0000 - val_loss: 0.5685 - val_recall_6: 1.0000\n",
      "Epoch 36/50\n",
      "20/20 [==============================] - 2s 83ms/step - loss: 0.5578 - recall_6: 1.0000 - val_loss: 0.5681 - val_recall_6: 1.0000\n",
      "Epoch 37/50\n",
      "20/20 [==============================] - 2s 83ms/step - loss: 0.5562 - recall_6: 1.0000 - val_loss: 0.5678 - val_recall_6: 1.0000\n",
      "Epoch 38/50\n",
      "20/20 [==============================] - 2s 80ms/step - loss: 0.5554 - recall_6: 1.0000 - val_loss: 0.5673 - val_recall_6: 1.0000\n",
      "Epoch 39/50\n",
      "20/20 [==============================] - 2s 81ms/step - loss: 0.5543 - recall_6: 1.0000 - val_loss: 0.5670 - val_recall_6: 1.0000\n",
      "Epoch 40/50\n",
      "20/20 [==============================] - 2s 81ms/step - loss: 0.5555 - recall_6: 1.0000 - val_loss: 0.5668 - val_recall_6: 1.0000\n",
      "Epoch 41/50\n",
      "20/20 [==============================] - 2s 81ms/step - loss: 0.5560 - recall_6: 1.0000 - val_loss: 0.5665 - val_recall_6: 1.0000\n",
      "Epoch 42/50\n",
      "20/20 [==============================] - 2s 82ms/step - loss: 0.5546 - recall_6: 1.0000 - val_loss: 0.5664 - val_recall_6: 1.0000\n",
      "Epoch 43/50\n",
      "20/20 [==============================] - 2s 94ms/step - loss: 0.5554 - recall_6: 1.0000 - val_loss: 0.5660 - val_recall_6: 1.0000\n",
      "Epoch 44/50\n",
      "20/20 [==============================] - 2s 87ms/step - loss: 0.5534 - recall_6: 1.0000 - val_loss: 0.5659 - val_recall_6: 1.0000\n",
      "Epoch 45/50\n",
      "20/20 [==============================] - 2s 87ms/step - loss: 0.5542 - recall_6: 1.0000 - val_loss: 0.5657 - val_recall_6: 1.0000\n",
      "Epoch 46/50\n",
      "20/20 [==============================] - 2s 81ms/step - loss: 0.5524 - recall_6: 1.0000 - val_loss: 0.5658 - val_recall_6: 1.0000\n",
      "Epoch 47/50\n",
      "20/20 [==============================] - 2s 89ms/step - loss: 0.5535 - recall_6: 1.0000 - val_loss: 0.5655 - val_recall_6: 1.0000\n",
      "Epoch 48/50\n",
      "20/20 [==============================] - 2s 87ms/step - loss: 0.5528 - recall_6: 1.0000 - val_loss: 0.5654 - val_recall_6: 1.0000\n",
      "Epoch 49/50\n",
      "20/20 [==============================] - 2s 87ms/step - loss: 0.5531 - recall_6: 1.0000 - val_loss: 0.5652 - val_recall_6: 1.0000\n",
      "Epoch 50/50\n",
      "20/20 [==============================] - 2s 93ms/step - loss: 0.5541 - recall_6: 1.0000 - val_loss: 0.5650 - val_recall_6: 1.0000\n"
     ]
    }
   ],
   "source": [
    "model7.compile(optimizer='sgd',\n",
    "              loss='binary_crossentropy',\n",
    "              metrics=[tf.keras.metrics.Recall()])\n",
    "\n",
    "results7 = model7.fit(X_train, \n",
    "                    y_train,\n",
    "                    callbacks=early_stopping,\n",
    "                    epochs=50,\n",
    "                    batch_size=32,\n",
    "                    validation_data=(X_val, y_val))"
   ]
  },
  {
   "cell_type": "code",
   "execution_count": 51,
   "metadata": {},
   "outputs": [
    {
     "data": {
      "image/png": "[encoded data removed]",
      "text/plain": [
       "<Figure size 432x288 with 1 Axes>"
      ]
     },
     "metadata": {
      "needs_background": "light"
     },
     "output_type": "display_data"
    }
   ],
   "source": [
    "visualize_results(results7)"
   ]
  },
  {
   "cell_type": "markdown",
   "metadata": {},
   "source": [
    "## Insight: After attempting regularization and dropout, model 3 consistently outperforms subsequent models due to have the lowest variance and loss for both train and validation sets. We will retrain the model against the entire training set and validate against the test set."
   ]
  },
  {
   "cell_type": "code",
   "execution_count": null,
   "metadata": {},
   "outputs": [],
   "source": []
  }
 ],
 "metadata": {
  "kernelspec": {
   "display_name": "Python 3",
   "language": "python",
   "name": "python3"
  },
  "language_info": {
   "codemirror_mode": {
    "name": "ipython",
    "version": 3
   },
   "file_extension": ".py",
   "mimetype": "text/x-python",
   "name": "python",
   "nbconvert_exporter": "python",
   "pygments_lexer": "ipython3",
   "version": "3.8.5"
  }
 },
 "nbformat": 4,
 "nbformat_minor": 4
}
