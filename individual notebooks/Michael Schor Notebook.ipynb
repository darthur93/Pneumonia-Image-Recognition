{
 "cells": [
  {
   "cell_type": "markdown",
   "metadata": {},
   "source": [
    "# Michael Schor Notebook"
   ]
  },
  {
   "cell_type": "markdown",
   "metadata": {},
   "source": [
    "## Dependencies"
   ]
  },
  {
   "cell_type": "code",
   "execution_count": 1,
   "metadata": {},
   "outputs": [
    {
     "name": "stdout",
     "output_type": "stream",
     "text": [
      "Requirement already satisfied: pillow in c:\\users\\micha\\anaconda3\\envs\\learn-env\\lib\\site-packages (8.0.0)\n"
     ]
    }
   ],
   "source": [
    "!pip install pillow"
   ]
  },
  {
   "cell_type": "code",
   "execution_count": 41,
   "metadata": {},
   "outputs": [],
   "source": [
    "import pandas as pd\n",
    "import numpy as np\n",
    "import matplotlib.pyplot as plt\n",
    "import os\n",
    "\n",
    "from sklearn.model_selection import train_test_split\n",
    "\n",
    "from keras.preprocessing.image import ImageDataGenerator, array_to_img, img_to_array, load_img\n",
    "from keras import models\n",
    "from keras import layers\n",
    "from keras.callbacks import EarlyStopping, ModelCheckpoint"
   ]
  },
  {
   "cell_type": "code",
   "execution_count": 42,
   "metadata": {},
   "outputs": [
    {
     "name": "stdout",
     "output_type": "stream",
     "text": [
      "Found 624 images belonging to 2 classes.\n",
      "Found 5232 images belonging to 2 classes.\n"
     ]
    }
   ],
   "source": [
    "train_data_dir = 'ZhangLabData/CellData/chest_xray/train'\n",
    "test_data_dir = 'ZhangLabData/CellData/chest_xray/test'\n",
    "\n",
    "#Get all the data in the directory data/validation (132 images), and reshape them\n",
    "test_generator = ImageDataGenerator().flow_from_directory(\n",
    "       test_data_dir, \n",
    "       target_size=(64, 64), batch_size=132, color_mode='grayscale', class_mode='binary')\n",
    "\n",
    "#Get all the data in the directory data/train (790 images), and reshape them\n",
    "train_generator = ImageDataGenerator().flow_from_directory(\n",
    "       train_data_dir, \n",
    "       target_size=(64, 64), batch_size=790, color_mode='grayscale', class_mode='binary')\n",
    "\n",
    "#Create the datasets\n",
    "train_images, train_labels = next(train_generator)\n",
    "test_images, test_labels = next(test_generator)"
   ]
  },
  {
   "cell_type": "markdown",
   "metadata": {},
   "source": [
    "## Create validation set from training set"
   ]
  },
  {
   "cell_type": "code",
   "execution_count": 43,
   "metadata": {},
   "outputs": [],
   "source": [
    "X = train_images\n",
    "y = train_labels\n",
    "\n",
    "X_train, X_val, y_train, y_val = train_test_split(X, y, test_size=0.2, random_state=42)"
   ]
  },
  {
   "cell_type": "code",
   "execution_count": 44,
   "metadata": {},
   "outputs": [
    {
     "data": {
      "image/png": "[encoded data removed]",
      "text/plain": [
       "<PIL.Image.Image image mode=L size=64x64 at 0x2630FA64A60>"
      ]
     },
     "execution_count": 44,
     "metadata": {},
     "output_type": "execute_result"
    }
   ],
   "source": [
    "array_to_img(train_images[0])"
   ]
  },
  {
   "cell_type": "code",
   "execution_count": 45,
   "metadata": {},
   "outputs": [
    {
     "name": "stdout",
     "output_type": "stream",
     "text": [
      "0.0\n"
     ]
    }
   ],
   "source": [
    "print(train_labels[0])"
   ]
  },
  {
   "cell_type": "code",
   "execution_count": 46,
   "metadata": {},
   "outputs": [
    {
     "data": {
      "image/png": "[encoded data removed]",
      "text/plain": [
       "<PIL.Image.Image image mode=L size=64x64 at 0x2630FA4AAF0>"
      ]
     },
     "execution_count": 46,
     "metadata": {},
     "output_type": "execute_result"
    }
   ],
   "source": [
    "array_to_img(train_images[90])"
   ]
  },
  {
   "cell_type": "code",
   "execution_count": 47,
   "metadata": {},
   "outputs": [
    {
     "name": "stdout",
     "output_type": "stream",
     "text": [
      "1.0\n"
     ]
    }
   ],
   "source": [
    "print(train_labels[90])"
   ]
  },
  {
   "cell_type": "code",
   "execution_count": 48,
   "metadata": {},
   "outputs": [
    {
     "name": "stdout",
     "output_type": "stream",
     "text": [
      "train images shape:  (632, 64, 64, 1)\n",
      "train labels shape:  (632,)\n",
      "test images shape:  (158, 64, 64, 1)\n",
      "test labels shape:  (158,)\n"
     ]
    }
   ],
   "source": [
    "print('train images shape: ',np.shape(X_train))\n",
    "print('train labels shape: ',np.shape(y_train))\n",
    "print('test images shape: ',np.shape(X_val))\n",
    "print('test labels shape: ',np.shape(y_val))"
   ]
  },
  {
   "cell_type": "code",
   "execution_count": 49,
   "metadata": {},
   "outputs": [
    {
     "data": {
      "text/plain": [
       "(632, 4096)"
      ]
     },
     "execution_count": 49,
     "metadata": {},
     "output_type": "execute_result"
    }
   ],
   "source": [
    "#train set\n",
    "X_train_unrow = X_train.reshape(632, -1)\n",
    "X_train_unrow.shape"
   ]
  },
  {
   "cell_type": "code",
   "execution_count": 50,
   "metadata": {},
   "outputs": [
    {
     "data": {
      "text/plain": [
       "(158, 4096)"
      ]
     },
     "execution_count": 50,
     "metadata": {},
     "output_type": "execute_result"
    }
   ],
   "source": [
    "#test set\n",
    "X_val_unrow = X_val.reshape(158, -1)\n",
    "X_val_unrow.shape"
   ]
  },
  {
   "cell_type": "code",
   "execution_count": 51,
   "metadata": {},
   "outputs": [
    {
     "data": {
      "text/plain": [
       "array([0., 0., 1., 1., 1., 1., 1., 1., 0., 1.], dtype=float32)"
      ]
     },
     "execution_count": 51,
     "metadata": {},
     "output_type": "execute_result"
    }
   ],
   "source": [
    "y_train[:10]"
   ]
  },
  {
   "cell_type": "code",
   "execution_count": 52,
   "metadata": {},
   "outputs": [
    {
     "data": {
      "text/plain": [
       "{'NORMAL': 0, 'PNEUMONIA': 1}"
      ]
     },
     "execution_count": 52,
     "metadata": {},
     "output_type": "execute_result"
    }
   ],
   "source": [
    "train_generator.class_indices"
   ]
  },
  {
   "cell_type": "code",
   "execution_count": 53,
   "metadata": {},
   "outputs": [],
   "source": [
    "#training set\n",
    "#y_train_labels_final = np.reshape(y_train[:,0], (632,1))"
   ]
  },
  {
   "cell_type": "code",
   "execution_count": 54,
   "metadata": {},
   "outputs": [],
   "source": [
    "#np.shape(y_train_labels_final)"
   ]
  },
  {
   "cell_type": "code",
   "execution_count": 55,
   "metadata": {},
   "outputs": [],
   "source": [
    "#y_val_labels_final = np.reshape(y_val[:,0], (158,1))"
   ]
  },
  {
   "cell_type": "code",
   "execution_count": 56,
   "metadata": {},
   "outputs": [],
   "source": [
    "#np.shape(y_val_labels_final) "
   ]
  },
  {
   "cell_type": "code",
   "execution_count": 57,
   "metadata": {},
   "outputs": [
    {
     "data": {
      "text/plain": [
       "numpy.ndarray"
      ]
     },
     "execution_count": 57,
     "metadata": {},
     "output_type": "execute_result"
    }
   ],
   "source": [
    "#scaling the data\n",
    "X_train_img_final = X_train_unrow/255\n",
    "X_val_img_final = X_val_unrow/255\n",
    "\n",
    "type(X_val_img_final)"
   ]
  },
  {
   "cell_type": "code",
   "execution_count": 58,
   "metadata": {},
   "outputs": [
    {
     "name": "stdout",
     "output_type": "stream",
     "text": [
      "(632, 4096)\n",
      "(158, 4096)\n"
     ]
    }
   ],
   "source": [
    "print(X_train_img_final.shape)\n",
    "print(X_val_img_final.shape)"
   ]
  },
  {
   "cell_type": "markdown",
   "metadata": {},
   "source": [
    "## Baseline Model"
   ]
  },
  {
   "cell_type": "code",
   "execution_count": 59,
   "metadata": {},
   "outputs": [],
   "source": [
    "np.random.seed(42)\n",
    "model = models.Sequential()\n",
    "model.add(layers.Dense(63, activation='tanh', input_shape=(4096,)))\n",
    "model.add(layers.Dense(42, activation='tanh'))\n",
    "model.add(layers.Dense(21, activation='tanh'))\n",
    "model.add(layers.Dense(1, activation='sigmoid')) #output layer, binary classification"
   ]
  },
  {
   "cell_type": "code",
   "execution_count": 60,
   "metadata": {},
   "outputs": [
    {
     "name": "stdout",
     "output_type": "stream",
     "text": [
      "Epoch 1/50\n",
      "20/20 [==============================] - 0s 6ms/step - loss: 0.5710 - accuracy: 0.7136 - val_loss: 0.5499 - val_accuracy: 0.7468\n",
      "Epoch 2/50\n",
      "20/20 [==============================] - 0s 1ms/step - loss: 0.5322 - accuracy: 0.7389 - val_loss: 0.5033 - val_accuracy: 0.7468\n",
      "Epoch 3/50\n",
      "20/20 [==============================] - 0s 2ms/step - loss: 0.5051 - accuracy: 0.7358 - val_loss: 0.4572 - val_accuracy: 0.7468\n",
      "Epoch 4/50\n",
      "20/20 [==============================] - 0s 2ms/step - loss: 0.5003 - accuracy: 0.7484 - val_loss: 0.4790 - val_accuracy: 0.7468\n",
      "Epoch 5/50\n",
      "20/20 [==============================] - 0s 1ms/step - loss: 0.4576 - accuracy: 0.7611 - val_loss: 0.4519 - val_accuracy: 0.7468\n",
      "Epoch 6/50\n",
      "20/20 [==============================] - 0s 2ms/step - loss: 0.4257 - accuracy: 0.7848 - val_loss: 0.3568 - val_accuracy: 0.8228\n",
      "Epoch 7/50\n",
      "20/20 [==============================] - 0s 1ms/step - loss: 0.3989 - accuracy: 0.8212 - val_loss: 0.3182 - val_accuracy: 0.8987\n",
      "Epoch 8/50\n",
      "20/20 [==============================] - 0s 1ms/step - loss: 0.3525 - accuracy: 0.8560 - val_loss: 0.6890 - val_accuracy: 0.7468\n",
      "Epoch 9/50\n",
      "20/20 [==============================] - 0s 2ms/step - loss: 0.3605 - accuracy: 0.8592 - val_loss: 0.5804 - val_accuracy: 0.6962\n",
      "Epoch 10/50\n",
      "20/20 [==============================] - 0s 2ms/step - loss: 0.3990 - accuracy: 0.8386 - val_loss: 0.3026 - val_accuracy: 0.8987\n",
      "Epoch 11/50\n",
      "20/20 [==============================] - 0s 1ms/step - loss: 0.3329 - accuracy: 0.8528 - val_loss: 0.2834 - val_accuracy: 0.8861\n",
      "Epoch 12/50\n",
      "20/20 [==============================] - 0s 2ms/step - loss: 0.3253 - accuracy: 0.8623 - val_loss: 0.4321 - val_accuracy: 0.8101\n",
      "Epoch 13/50\n",
      "20/20 [==============================] - 0s 2ms/step - loss: 0.2792 - accuracy: 0.8845 - val_loss: 0.3106 - val_accuracy: 0.8671\n",
      "Epoch 14/50\n",
      "20/20 [==============================] - 0s 2ms/step - loss: 0.2498 - accuracy: 0.9051 - val_loss: 0.4082 - val_accuracy: 0.8228\n",
      "Epoch 15/50\n",
      "20/20 [==============================] - 0s 3ms/step - loss: 0.2782 - accuracy: 0.8908 - val_loss: 0.3308 - val_accuracy: 0.8481\n",
      "Epoch 16/50\n",
      "20/20 [==============================] - 0s 2ms/step - loss: 0.3114 - accuracy: 0.8703 - val_loss: 0.3778 - val_accuracy: 0.8291\n",
      "Epoch 17/50\n",
      "20/20 [==============================] - 0s 1ms/step - loss: 0.3210 - accuracy: 0.8608 - val_loss: 0.3682 - val_accuracy: 0.8418\n",
      "Epoch 18/50\n",
      "20/20 [==============================] - 0s 2ms/step - loss: 0.2431 - accuracy: 0.9082 - val_loss: 0.2189 - val_accuracy: 0.9241\n",
      "Epoch 19/50\n",
      "20/20 [==============================] - 0s 2ms/step - loss: 0.2672 - accuracy: 0.8845 - val_loss: 0.3497 - val_accuracy: 0.8608\n",
      "Epoch 20/50\n",
      "20/20 [==============================] - 0s 2ms/step - loss: 0.3036 - accuracy: 0.8703 - val_loss: 0.2314 - val_accuracy: 0.8924\n",
      "Epoch 21/50\n",
      "20/20 [==============================] - 0s 2ms/step - loss: 0.2072 - accuracy: 0.9241 - val_loss: 0.2122 - val_accuracy: 0.9304\n",
      "Epoch 22/50\n",
      "20/20 [==============================] - 0s 2ms/step - loss: 0.2237 - accuracy: 0.9177 - val_loss: 0.3173 - val_accuracy: 0.8671\n",
      "Epoch 23/50\n",
      "20/20 [==============================] - 0s 2ms/step - loss: 0.2666 - accuracy: 0.8924 - val_loss: 0.2779 - val_accuracy: 0.8861\n",
      "Epoch 24/50\n",
      "20/20 [==============================] - 0s 2ms/step - loss: 0.2105 - accuracy: 0.9177 - val_loss: 0.2164 - val_accuracy: 0.9177\n",
      "Epoch 25/50\n",
      "20/20 [==============================] - 0s 2ms/step - loss: 0.2376 - accuracy: 0.8940 - val_loss: 0.2008 - val_accuracy: 0.9304\n",
      "Epoch 26/50\n",
      "20/20 [==============================] - 0s 2ms/step - loss: 0.2190 - accuracy: 0.9209 - val_loss: 0.2127 - val_accuracy: 0.8861\n",
      "Epoch 27/50\n",
      "20/20 [==============================] - 0s 2ms/step - loss: 0.2056 - accuracy: 0.9193 - val_loss: 0.4123 - val_accuracy: 0.8165\n",
      "Epoch 28/50\n",
      "20/20 [==============================] - 0s 2ms/step - loss: 0.1822 - accuracy: 0.9320 - val_loss: 0.3280 - val_accuracy: 0.8671\n",
      "Epoch 29/50\n",
      "20/20 [==============================] - 0s 2ms/step - loss: 0.2117 - accuracy: 0.9114 - val_loss: 0.2542 - val_accuracy: 0.8987\n",
      "Epoch 30/50\n",
      "20/20 [==============================] - 0s 2ms/step - loss: 0.2329 - accuracy: 0.9066 - val_loss: 0.1958 - val_accuracy: 0.9051\n",
      "Epoch 31/50\n",
      "20/20 [==============================] - 0s 2ms/step - loss: 0.1778 - accuracy: 0.9335 - val_loss: 0.1944 - val_accuracy: 0.9367\n",
      "Epoch 32/50\n",
      "20/20 [==============================] - 0s 2ms/step - loss: 0.1560 - accuracy: 0.9446 - val_loss: 0.1831 - val_accuracy: 0.9494\n",
      "Epoch 33/50\n",
      "20/20 [==============================] - 0s 2ms/step - loss: 0.1579 - accuracy: 0.9415 - val_loss: 0.2201 - val_accuracy: 0.9051\n",
      "Epoch 34/50\n",
      "20/20 [==============================] - 0s 2ms/step - loss: 0.1588 - accuracy: 0.9399 - val_loss: 0.1857 - val_accuracy: 0.9241\n",
      "Epoch 35/50\n",
      "20/20 [==============================] - 0s 2ms/step - loss: 0.1835 - accuracy: 0.9320 - val_loss: 0.1921 - val_accuracy: 0.9177\n",
      "Epoch 36/50\n",
      "20/20 [==============================] - 0s 2ms/step - loss: 0.2438 - accuracy: 0.9066 - val_loss: 0.1733 - val_accuracy: 0.9367\n",
      "Epoch 37/50\n",
      "20/20 [==============================] - 0s 2ms/step - loss: 0.1805 - accuracy: 0.9272 - val_loss: 0.1702 - val_accuracy: 0.9241\n",
      "Epoch 38/50\n",
      "20/20 [==============================] - 0s 1ms/step - loss: 0.1807 - accuracy: 0.9256 - val_loss: 0.1951 - val_accuracy: 0.9177\n",
      "Epoch 39/50\n",
      "20/20 [==============================] - 0s 2ms/step - loss: 0.1591 - accuracy: 0.9351 - val_loss: 0.2645 - val_accuracy: 0.8861\n",
      "Epoch 40/50\n",
      "20/20 [==============================] - 0s 2ms/step - loss: 0.1654 - accuracy: 0.9430 - val_loss: 0.1636 - val_accuracy: 0.9304\n",
      "Epoch 41/50\n",
      "20/20 [==============================] - 0s 2ms/step - loss: 0.1479 - accuracy: 0.9509 - val_loss: 0.3944 - val_accuracy: 0.8481\n",
      "Epoch 42/50\n",
      "20/20 [==============================] - 0s 2ms/step - loss: 0.1864 - accuracy: 0.9272 - val_loss: 0.2402 - val_accuracy: 0.8987\n",
      "Epoch 43/50\n",
      "20/20 [==============================] - 0s 2ms/step - loss: 0.1417 - accuracy: 0.9478 - val_loss: 0.1612 - val_accuracy: 0.9304\n",
      "Epoch 44/50\n",
      "20/20 [==============================] - 0s 2ms/step - loss: 0.1862 - accuracy: 0.9272 - val_loss: 0.1921 - val_accuracy: 0.9177\n",
      "Epoch 45/50\n",
      "20/20 [==============================] - 0s 2ms/step - loss: 0.1781 - accuracy: 0.9320 - val_loss: 0.1908 - val_accuracy: 0.9494\n",
      "Epoch 46/50\n",
      "20/20 [==============================] - 0s 2ms/step - loss: 0.1534 - accuracy: 0.9383 - val_loss: 0.1606 - val_accuracy: 0.9304\n",
      "Epoch 47/50\n",
      "20/20 [==============================] - 0s 2ms/step - loss: 0.1413 - accuracy: 0.9525 - val_loss: 0.1683 - val_accuracy: 0.9304\n",
      "Epoch 48/50\n",
      "20/20 [==============================] - 0s 2ms/step - loss: 0.1328 - accuracy: 0.9509 - val_loss: 0.3356 - val_accuracy: 0.8544\n",
      "Epoch 49/50\n",
      "20/20 [==============================] - 0s 2ms/step - loss: 0.1515 - accuracy: 0.9478 - val_loss: 0.1553 - val_accuracy: 0.9304\n",
      "Epoch 50/50\n",
      "20/20 [==============================] - 0s 2ms/step - loss: 0.1732 - accuracy: 0.9288 - val_loss: 0.1879 - val_accuracy: 0.9177\n"
     ]
    }
   ],
   "source": [
    "model.compile(optimizer='sgd',\n",
    "              loss='binary_crossentropy',\n",
    "              metrics=['accuracy'])\n",
    "\n",
    "results = model.fit(X_train_img_final,\n",
    "                    y_train,\n",
    "                    epochs=50,\n",
    "                    batch_size=32,\n",
    "                    validation_data=(X_val_img_final, y_val))"
   ]
  },
  {
   "cell_type": "code",
   "execution_count": 61,
   "metadata": {},
   "outputs": [
    {
     "name": "stdout",
     "output_type": "stream",
     "text": [
      "20/20 [==============================] - 0s 637us/step - loss: 0.1393 - accuracy: 0.9462\n"
     ]
    }
   ],
   "source": [
    "results_train = model.evaluate(X_train_img_final, y_train)"
   ]
  },
  {
   "cell_type": "code",
   "execution_count": 62,
   "metadata": {},
   "outputs": [
    {
     "name": "stdout",
     "output_type": "stream",
     "text": [
      "5/5 [==============================] - 0s 818us/step - loss: 0.1879 - accuracy: 0.9177\n"
     ]
    }
   ],
   "source": [
    "results_val = model.evaluate(X_val_img_final, y_val)"
   ]
  },
  {
   "cell_type": "markdown",
   "metadata": {},
   "source": [
    "#### Training accuracy = 0.9797. Test acc = 0.8030. Subsequent models must improve these thresholds."
   ]
  },
  {
   "cell_type": "code",
   "execution_count": 63,
   "metadata": {},
   "outputs": [],
   "source": [
    "#plot acc vs loss for train and test set\n",
    "def visualize_results(results):\n",
    "    history = results.history\n",
    "    plt.figure()\n",
    "    plt.plot(history['val_loss'])\n",
    "    plt.plot(history['loss'])\n",
    "    plt.legend(['val_loss', 'loss'])\n",
    "    plt.title('Loss')\n",
    "    plt.xlabel('Epochs')\n",
    "    plt.ylabel('Loss')\n",
    "    plt.show();"
   ]
  },
  {
   "cell_type": "code",
   "execution_count": 64,
   "metadata": {},
   "outputs": [
    {
     "data": {
      "image/png": "[encoded data removed]",
      "text/plain": [
       "<Figure size 432x288 with 1 Axes>"
      ]
     },
     "metadata": {
      "needs_background": "light"
     },
     "output_type": "display_data"
    }
   ],
   "source": [
    "visualize_results(results)"
   ]
  },
  {
   "cell_type": "markdown",
   "metadata": {},
   "source": [
    "Insight: according to the Loss plot, there is significant overfitting of the model due to the high variation of the validation curve, as well as the divergence of the two curves themselves. Any subsequent models must reduce the variance and overfitting of the baseline model.\n",
    "\n",
    "For CNN: create convolution filter, padding (and maybe striding?) and pooling layer (if there are too many features)"
   ]
  },
  {
   "cell_type": "code",
   "execution_count": 65,
   "metadata": {},
   "outputs": [],
   "source": [
    "np.random.seed(42)\n",
    "model2 = models.Sequential()\n",
    "model2.add(layers.Dense(63, activation='softmax', input_shape=(4096,)))\n",
    "model2.add(layers.Dense(42, activation='softmax'))\n",
    "model2.add(layers.Dense(21, activation='softmax'))\n",
    "model2.add(layers.Dense(1, activation='sigmoid')) #output layer, binary classification"
   ]
  },
  {
   "cell_type": "code",
   "execution_count": 66,
   "metadata": {},
   "outputs": [
    {
     "name": "stdout",
     "output_type": "stream",
     "text": [
      "Epoch 1/50\n",
      "20/20 [==============================] - 0s 7ms/step - loss: 0.6911 - accuracy: 0.5823 - val_loss: 0.6847 - val_accuracy: 0.7468\n",
      "Epoch 2/50\n",
      "20/20 [==============================] - 0s 2ms/step - loss: 0.6804 - accuracy: 0.7342 - val_loss: 0.6740 - val_accuracy: 0.7468\n",
      "Epoch 3/50\n",
      "20/20 [==============================] - 0s 2ms/step - loss: 0.6707 - accuracy: 0.7342 - val_loss: 0.6643 - val_accuracy: 0.7468\n",
      "Epoch 4/50\n",
      "20/20 [==============================] - 0s 2ms/step - loss: 0.6619 - accuracy: 0.7342 - val_loss: 0.6554 - val_accuracy: 0.7468\n",
      "Epoch 5/50\n",
      "20/20 [==============================] - 0s 2ms/step - loss: 0.6540 - accuracy: 0.7342 - val_loss: 0.6474 - val_accuracy: 0.7468\n",
      "Epoch 6/50\n",
      "20/20 [==============================] - 0s 2ms/step - loss: 0.6469 - accuracy: 0.7342 - val_loss: 0.6404 - val_accuracy: 0.7468\n",
      "Epoch 7/50\n",
      "20/20 [==============================] - 0s 2ms/step - loss: 0.6407 - accuracy: 0.7342 - val_loss: 0.6340 - val_accuracy: 0.7468\n",
      "Epoch 8/50\n",
      "20/20 [==============================] - 0s 2ms/step - loss: 0.6350 - accuracy: 0.7342 - val_loss: 0.6281 - val_accuracy: 0.7468\n",
      "Epoch 9/50\n",
      "20/20 [==============================] - 0s 2ms/step - loss: 0.6298 - accuracy: 0.7342 - val_loss: 0.6228 - val_accuracy: 0.7468\n",
      "Epoch 10/50\n",
      "20/20 [==============================] - 0s 2ms/step - loss: 0.6251 - accuracy: 0.7342 - val_loss: 0.6181 - val_accuracy: 0.7468\n",
      "Epoch 11/50\n",
      "20/20 [==============================] - 0s 2ms/step - loss: 0.6209 - accuracy: 0.7342 - val_loss: 0.6137 - val_accuracy: 0.7468\n",
      "Epoch 12/50\n",
      "20/20 [==============================] - 0s 2ms/step - loss: 0.6171 - accuracy: 0.7342 - val_loss: 0.6098 - val_accuracy: 0.7468\n",
      "Epoch 13/50\n",
      "20/20 [==============================] - 0s 2ms/step - loss: 0.6137 - accuracy: 0.7342 - val_loss: 0.6062 - val_accuracy: 0.7468\n",
      "Epoch 14/50\n",
      "20/20 [==============================] - 0s 2ms/step - loss: 0.6106 - accuracy: 0.7342 - val_loss: 0.6029 - val_accuracy: 0.7468\n",
      "Epoch 15/50\n",
      "20/20 [==============================] - 0s 2ms/step - loss: 0.6078 - accuracy: 0.7342 - val_loss: 0.5999 - val_accuracy: 0.7468\n",
      "Epoch 16/50\n",
      "20/20 [==============================] - 0s 2ms/step - loss: 0.6052 - accuracy: 0.7342 - val_loss: 0.5972 - val_accuracy: 0.7468\n",
      "Epoch 17/50\n",
      "20/20 [==============================] - 0s 2ms/step - loss: 0.6029 - accuracy: 0.7342 - val_loss: 0.5947 - val_accuracy: 0.7468\n",
      "Epoch 18/50\n",
      "20/20 [==============================] - 0s 2ms/step - loss: 0.6007 - accuracy: 0.7342 - val_loss: 0.5924 - val_accuracy: 0.7468\n",
      "Epoch 19/50\n",
      "20/20 [==============================] - 0s 2ms/step - loss: 0.5988 - accuracy: 0.7342 - val_loss: 0.5903 - val_accuracy: 0.7468\n",
      "Epoch 20/50\n",
      "20/20 [==============================] - 0s 2ms/step - loss: 0.5970 - accuracy: 0.7342 - val_loss: 0.5885 - val_accuracy: 0.7468\n",
      "Epoch 21/50\n",
      "20/20 [==============================] - 0s 2ms/step - loss: 0.5955 - accuracy: 0.7342 - val_loss: 0.5867 - val_accuracy: 0.7468\n",
      "Epoch 22/50\n",
      "20/20 [==============================] - 0s 2ms/step - loss: 0.5940 - accuracy: 0.7342 - val_loss: 0.5852 - val_accuracy: 0.7468\n",
      "Epoch 23/50\n",
      "20/20 [==============================] - 0s 2ms/step - loss: 0.5927 - accuracy: 0.7342 - val_loss: 0.5837 - val_accuracy: 0.7468\n",
      "Epoch 24/50\n",
      "20/20 [==============================] - 0s 2ms/step - loss: 0.5915 - accuracy: 0.7342 - val_loss: 0.5824 - val_accuracy: 0.7468\n",
      "Epoch 25/50\n",
      "20/20 [==============================] - 0s 2ms/step - loss: 0.5905 - accuracy: 0.7342 - val_loss: 0.5812 - val_accuracy: 0.7468\n",
      "Epoch 26/50\n",
      "20/20 [==============================] - 0s 2ms/step - loss: 0.5895 - accuracy: 0.7342 - val_loss: 0.5801 - val_accuracy: 0.7468\n",
      "Epoch 27/50\n",
      "20/20 [==============================] - 0s 2ms/step - loss: 0.5886 - accuracy: 0.7342 - val_loss: 0.5791 - val_accuracy: 0.7468\n",
      "Epoch 28/50\n",
      "20/20 [==============================] - 0s 2ms/step - loss: 0.5878 - accuracy: 0.7342 - val_loss: 0.5782 - val_accuracy: 0.7468\n",
      "Epoch 29/50\n",
      "20/20 [==============================] - 0s 2ms/step - loss: 0.5871 - accuracy: 0.7342 - val_loss: 0.5773 - val_accuracy: 0.7468\n",
      "Epoch 30/50\n",
      "20/20 [==============================] - 0s 2ms/step - loss: 0.5864 - accuracy: 0.7342 - val_loss: 0.5765 - val_accuracy: 0.7468\n",
      "Epoch 31/50\n",
      "20/20 [==============================] - 0s 2ms/step - loss: 0.5858 - accuracy: 0.7342 - val_loss: 0.5758 - val_accuracy: 0.7468\n",
      "Epoch 32/50\n",
      "20/20 [==============================] - 0s 2ms/step - loss: 0.5852 - accuracy: 0.7342 - val_loss: 0.5751 - val_accuracy: 0.7468\n",
      "Epoch 33/50\n",
      "20/20 [==============================] - 0s 2ms/step - loss: 0.5847 - accuracy: 0.7342 - val_loss: 0.5745 - val_accuracy: 0.7468\n",
      "Epoch 34/50\n",
      "20/20 [==============================] - 0s 2ms/step - loss: 0.5842 - accuracy: 0.7342 - val_loss: 0.5739 - val_accuracy: 0.7468\n",
      "Epoch 35/50\n",
      "20/20 [==============================] - 0s 2ms/step - loss: 0.5838 - accuracy: 0.7342 - val_loss: 0.5734 - val_accuracy: 0.7468\n",
      "Epoch 36/50\n",
      "20/20 [==============================] - 0s 2ms/step - loss: 0.5834 - accuracy: 0.7342 - val_loss: 0.5729 - val_accuracy: 0.7468\n",
      "Epoch 37/50\n",
      "20/20 [==============================] - 0s 2ms/step - loss: 0.5830 - accuracy: 0.7342 - val_loss: 0.5724 - val_accuracy: 0.7468\n",
      "Epoch 38/50\n",
      "20/20 [==============================] - 0s 2ms/step - loss: 0.5827 - accuracy: 0.7342 - val_loss: 0.5720 - val_accuracy: 0.7468\n",
      "Epoch 39/50\n",
      "20/20 [==============================] - 0s 1ms/step - loss: 0.5824 - accuracy: 0.7342 - val_loss: 0.5716 - val_accuracy: 0.7468\n",
      "Epoch 40/50\n",
      "20/20 [==============================] - 0s 2ms/step - loss: 0.5822 - accuracy: 0.7342 - val_loss: 0.5713 - val_accuracy: 0.7468\n",
      "Epoch 41/50\n",
      "20/20 [==============================] - 0s 2ms/step - loss: 0.5819 - accuracy: 0.7342 - val_loss: 0.5710 - val_accuracy: 0.7468\n",
      "Epoch 42/50\n",
      "20/20 [==============================] - 0s 2ms/step - loss: 0.5817 - accuracy: 0.7342 - val_loss: 0.5707 - val_accuracy: 0.7468\n",
      "Epoch 43/50\n",
      "20/20 [==============================] - 0s 2ms/step - loss: 0.5815 - accuracy: 0.7342 - val_loss: 0.5704 - val_accuracy: 0.7468\n",
      "Epoch 44/50\n",
      "20/20 [==============================] - 0s 2ms/step - loss: 0.5813 - accuracy: 0.7342 - val_loss: 0.5701 - val_accuracy: 0.7468\n",
      "Epoch 45/50\n",
      "20/20 [==============================] - 0s 2ms/step - loss: 0.5811 - accuracy: 0.7342 - val_loss: 0.5698 - val_accuracy: 0.7468\n",
      "Epoch 46/50\n",
      "20/20 [==============================] - 0s 2ms/step - loss: 0.5809 - accuracy: 0.7342 - val_loss: 0.5696 - val_accuracy: 0.7468\n",
      "Epoch 47/50\n",
      "20/20 [==============================] - 0s 2ms/step - loss: 0.5808 - accuracy: 0.7342 - val_loss: 0.5694 - val_accuracy: 0.7468\n",
      "Epoch 48/50\n",
      "20/20 [==============================] - 0s 2ms/step - loss: 0.5806 - accuracy: 0.7342 - val_loss: 0.5692 - val_accuracy: 0.7468\n",
      "Epoch 49/50\n",
      "20/20 [==============================] - 0s 2ms/step - loss: 0.5805 - accuracy: 0.7342 - val_loss: 0.5690 - val_accuracy: 0.7468\n",
      "Epoch 50/50\n",
      "20/20 [==============================] - 0s 2ms/step - loss: 0.5804 - accuracy: 0.7342 - val_loss: 0.5689 - val_accuracy: 0.7468\n"
     ]
    }
   ],
   "source": [
    "model2.compile(optimizer='sgd',\n",
    "              loss='binary_crossentropy',\n",
    "              metrics=['accuracy'])\n",
    "\n",
    "results2 = model2.fit(X_train_img_final,\n",
    "                    y_train,\n",
    "                    epochs=50,\n",
    "                    batch_size=32,\n",
    "                    validation_data=(X_val_img_final, y_val))"
   ]
  },
  {
   "cell_type": "code",
   "execution_count": 67,
   "metadata": {},
   "outputs": [
    {
     "name": "stdout",
     "output_type": "stream",
     "text": [
      "20/20 [==============================] - 0s 715us/step - loss: 0.5803 - accuracy: 0.7342\n"
     ]
    }
   ],
   "source": [
    "results_train2 = model2.evaluate(X_train_img_final, y_train)"
   ]
  },
  {
   "cell_type": "code",
   "execution_count": 68,
   "metadata": {},
   "outputs": [
    {
     "name": "stdout",
     "output_type": "stream",
     "text": [
      "5/5 [==============================] - 0s 815us/step - loss: 0.5689 - accuracy: 0.7468\n"
     ]
    }
   ],
   "source": [
    "results_val2 = model2.evaluate(X_val_img_final, y_val)"
   ]
  },
  {
   "cell_type": "code",
   "execution_count": 69,
   "metadata": {},
   "outputs": [
    {
     "data": {
      "image/png": "[encoded data removed]",
      "text/plain": [
       "<Figure size 432x288 with 1 Axes>"
      ]
     },
     "metadata": {
      "needs_background": "light"
     },
     "output_type": "display_data"
    }
   ],
   "source": [
    "visualize_results(results2)"
   ]
  },
  {
   "cell_type": "code",
   "execution_count": 72,
   "metadata": {},
   "outputs": [
    {
     "name": "stdout",
     "output_type": "stream",
     "text": [
      "Found 624 images belonging to 2 classes.\n",
      "Found 5232 images belonging to 2 classes.\n"
     ]
    }
   ],
   "source": [
    "#Get all the data in the directory data/validation (132 images), and reshape them\n",
    "test_generator = ImageDataGenerator().flow_from_directory(\n",
    "       test_data_dir, \n",
    "       target_size=(64, 64), batch_size=624, color_mode='grayscale', class_mode='binary')\n",
    "\n",
    "#Get all the data in the directory data/train (790 images), and reshape them\n",
    "train_generator = ImageDataGenerator().flow_from_directory(\n",
    "       train_data_dir, \n",
    "       target_size=(64, 64), batch_size=5232, color_mode='grayscale', class_mode='binary')\n",
    "\n",
    "#Create the datasets\n",
    "train_images, train_labels = next(train_generator)\n",
    "test_images, test_labels = next(test_generator)"
   ]
  },
  {
   "cell_type": "code",
   "execution_count": 73,
   "metadata": {},
   "outputs": [
    {
     "name": "stdout",
     "output_type": "stream",
     "text": [
      "train images shape:  (5232, 64, 64, 1)\n",
      "train labels shape:  (5232,)\n",
      "test images shape:  (624, 64, 64, 1)\n",
      "test labels shape:  (624,)\n"
     ]
    }
   ],
   "source": [
    "print('train images shape: ',np.shape(train_images))\n",
    "print('train labels shape: ',np.shape(train_labels))\n",
    "print('test images shape: ',np.shape(test_images))\n",
    "print('test labels shape: ',np.shape(test_labels))"
   ]
  },
  {
   "cell_type": "code",
   "execution_count": 74,
   "metadata": {},
   "outputs": [
    {
     "data": {
      "text/plain": [
       "(5232, 4096)"
      ]
     },
     "execution_count": 74,
     "metadata": {},
     "output_type": "execute_result"
    }
   ],
   "source": [
    "train_images_unrow = train_images.reshape(5232, -1)\n",
    "train_images_unrow.shape"
   ]
  },
  {
   "cell_type": "code",
   "execution_count": 75,
   "metadata": {},
   "outputs": [
    {
     "data": {
      "text/plain": [
       "(624, 4096)"
      ]
     },
     "execution_count": 75,
     "metadata": {},
     "output_type": "execute_result"
    }
   ],
   "source": [
    "test_images_unrow = test_images.reshape(624, -1)\n",
    "test_images_unrow.shape"
   ]
  },
  {
   "cell_type": "code",
   "execution_count": 76,
   "metadata": {},
   "outputs": [
    {
     "name": "stdout",
     "output_type": "stream",
     "text": [
      "Epoch 1/50\n",
      "164/164 [==============================] - 0s 1ms/step - loss: 0.5725 - accuracy: 0.7422 - val_loss: 0.6832 - val_accuracy: 0.6250\n",
      "Epoch 2/50\n",
      "164/164 [==============================] - 0s 1ms/step - loss: 0.5716 - accuracy: 0.7422 - val_loss: 0.6862 - val_accuracy: 0.6250\n",
      "Epoch 3/50\n",
      "164/164 [==============================] - 0s 1ms/step - loss: 0.5712 - accuracy: 0.7422 - val_loss: 0.6885 - val_accuracy: 0.6250\n",
      "Epoch 4/50\n",
      "164/164 [==============================] - 0s 1ms/step - loss: 0.5710 - accuracy: 0.7422 - val_loss: 0.6902 - val_accuracy: 0.6250\n",
      "Epoch 5/50\n",
      "164/164 [==============================] - 0s 1ms/step - loss: 0.5709 - accuracy: 0.7422 - val_loss: 0.6914 - val_accuracy: 0.6250\n",
      "Epoch 6/50\n",
      "164/164 [==============================] - 0s 1ms/step - loss: 0.5709 - accuracy: 0.7422 - val_loss: 0.6922 - val_accuracy: 0.6250\n",
      "Epoch 7/50\n",
      "164/164 [==============================] - 0s 1ms/step - loss: 0.5708 - accuracy: 0.7422 - val_loss: 0.6929 - val_accuracy: 0.6250\n",
      "Epoch 8/50\n",
      "164/164 [==============================] - 0s 1ms/step - loss: 0.5708 - accuracy: 0.7422 - val_loss: 0.6932 - val_accuracy: 0.6250\n",
      "Epoch 9/50\n",
      "164/164 [==============================] - 0s 1ms/step - loss: 0.5708 - accuracy: 0.7422 - val_loss: 0.6938 - val_accuracy: 0.6250\n",
      "Epoch 10/50\n",
      "164/164 [==============================] - 0s 1ms/step - loss: 0.5708 - accuracy: 0.7422 - val_loss: 0.6940 - val_accuracy: 0.6250\n",
      "Epoch 11/50\n",
      "164/164 [==============================] - 0s 1ms/step - loss: 0.5708 - accuracy: 0.7422 - val_loss: 0.6942 - val_accuracy: 0.6250\n",
      "Epoch 12/50\n",
      "164/164 [==============================] - 0s 1ms/step - loss: 0.5708 - accuracy: 0.7422 - val_loss: 0.6943 - val_accuracy: 0.6250\n",
      "Epoch 13/50\n",
      "164/164 [==============================] - 0s 1ms/step - loss: 0.5708 - accuracy: 0.7422 - val_loss: 0.6944 - val_accuracy: 0.6250\n",
      "Epoch 14/50\n",
      "164/164 [==============================] - 0s 1ms/step - loss: 0.5708 - accuracy: 0.7422 - val_loss: 0.6944 - val_accuracy: 0.6250\n",
      "Epoch 15/50\n",
      "164/164 [==============================] - 0s 1ms/step - loss: 0.5708 - accuracy: 0.7422 - val_loss: 0.6942 - val_accuracy: 0.6250\n",
      "Epoch 16/50\n",
      "164/164 [==============================] - 0s 1ms/step - loss: 0.5708 - accuracy: 0.7422 - val_loss: 0.6944 - val_accuracy: 0.6250\n",
      "Epoch 17/50\n",
      "164/164 [==============================] - 0s 1ms/step - loss: 0.5708 - accuracy: 0.7422 - val_loss: 0.6943 - val_accuracy: 0.6250\n",
      "Epoch 18/50\n",
      "164/164 [==============================] - 0s 1ms/step - loss: 0.5708 - accuracy: 0.7422 - val_loss: 0.6943 - val_accuracy: 0.6250\n",
      "Epoch 19/50\n",
      "164/164 [==============================] - 0s 1ms/step - loss: 0.5708 - accuracy: 0.7422 - val_loss: 0.6942 - val_accuracy: 0.6250\n",
      "Epoch 20/50\n",
      "164/164 [==============================] - 0s 1ms/step - loss: 0.5708 - accuracy: 0.7422 - val_loss: 0.6944 - val_accuracy: 0.6250\n",
      "Epoch 21/50\n",
      "164/164 [==============================] - 0s 1ms/step - loss: 0.5708 - accuracy: 0.7422 - val_loss: 0.6946 - val_accuracy: 0.6250\n",
      "Epoch 22/50\n",
      "164/164 [==============================] - 0s 1ms/step - loss: 0.5708 - accuracy: 0.7422 - val_loss: 0.6945 - val_accuracy: 0.6250\n",
      "Epoch 23/50\n",
      "164/164 [==============================] - 0s 1ms/step - loss: 0.5708 - accuracy: 0.7422 - val_loss: 0.6947 - val_accuracy: 0.6250\n",
      "Epoch 24/50\n",
      "164/164 [==============================] - 0s 1ms/step - loss: 0.5708 - accuracy: 0.7422 - val_loss: 0.6946 - val_accuracy: 0.6250\n",
      "Epoch 25/50\n",
      "164/164 [==============================] - 0s 994us/step - loss: 0.5708 - accuracy: 0.7422 - val_loss: 0.6946 - val_accuracy: 0.6250\n",
      "Epoch 26/50\n",
      "164/164 [==============================] - 0s 1ms/step - loss: 0.5708 - accuracy: 0.7422 - val_loss: 0.6946 - val_accuracy: 0.6250\n",
      "Epoch 27/50\n",
      "164/164 [==============================] - 0s 1ms/step - loss: 0.5708 - accuracy: 0.7422 - val_loss: 0.6947 - val_accuracy: 0.6250\n",
      "Epoch 28/50\n",
      "164/164 [==============================] - 0s 1ms/step - loss: 0.5708 - accuracy: 0.7422 - val_loss: 0.6947 - val_accuracy: 0.6250\n",
      "Epoch 29/50\n",
      "164/164 [==============================] - 0s 990us/step - loss: 0.5708 - accuracy: 0.7422 - val_loss: 0.6949 - val_accuracy: 0.6250\n",
      "Epoch 30/50\n",
      "164/164 [==============================] - 0s 1ms/step - loss: 0.5708 - accuracy: 0.7422 - val_loss: 0.6946 - val_accuracy: 0.6250\n",
      "Epoch 31/50\n",
      "164/164 [==============================] - 0s 1ms/step - loss: 0.5708 - accuracy: 0.7422 - val_loss: 0.6944 - val_accuracy: 0.6250\n",
      "Epoch 32/50\n",
      "164/164 [==============================] - 0s 1ms/step - loss: 0.5708 - accuracy: 0.7422 - val_loss: 0.6947 - val_accuracy: 0.6250\n",
      "Epoch 33/50\n",
      "164/164 [==============================] - 0s 1ms/step - loss: 0.5708 - accuracy: 0.7422 - val_loss: 0.6946 - val_accuracy: 0.6250\n",
      "Epoch 34/50\n",
      "164/164 [==============================] - 0s 1ms/step - loss: 0.5708 - accuracy: 0.7422 - val_loss: 0.6947 - val_accuracy: 0.6250\n",
      "Epoch 35/50\n",
      "164/164 [==============================] - 0s 1ms/step - loss: 0.5708 - accuracy: 0.7422 - val_loss: 0.6948 - val_accuracy: 0.6250\n",
      "Epoch 36/50\n",
      "164/164 [==============================] - 0s 1ms/step - loss: 0.5708 - accuracy: 0.7422 - val_loss: 0.6946 - val_accuracy: 0.6250\n",
      "Epoch 37/50\n",
      "164/164 [==============================] - 0s 1ms/step - loss: 0.5708 - accuracy: 0.7422 - val_loss: 0.6947 - val_accuracy: 0.6250\n",
      "Epoch 38/50\n",
      "164/164 [==============================] - 0s 1ms/step - loss: 0.5708 - accuracy: 0.7422 - val_loss: 0.6948 - val_accuracy: 0.6250\n",
      "Epoch 39/50\n",
      "164/164 [==============================] - 0s 1ms/step - loss: 0.5708 - accuracy: 0.7422 - val_loss: 0.6948 - val_accuracy: 0.6250\n",
      "Epoch 40/50\n",
      "164/164 [==============================] - 0s 1ms/step - loss: 0.5708 - accuracy: 0.7422 - val_loss: 0.6948 - val_accuracy: 0.6250\n",
      "Epoch 41/50\n",
      "164/164 [==============================] - 0s 1ms/step - loss: 0.5708 - accuracy: 0.7422 - val_loss: 0.6949 - val_accuracy: 0.6250\n",
      "Epoch 42/50\n",
      "164/164 [==============================] - 0s 1ms/step - loss: 0.5708 - accuracy: 0.7422 - val_loss: 0.6950 - val_accuracy: 0.6250\n",
      "Epoch 43/50\n",
      "164/164 [==============================] - 0s 1ms/step - loss: 0.5708 - accuracy: 0.7422 - val_loss: 0.6951 - val_accuracy: 0.6250\n",
      "Epoch 44/50\n",
      "164/164 [==============================] - 0s 1ms/step - loss: 0.5708 - accuracy: 0.7422 - val_loss: 0.6950 - val_accuracy: 0.6250\n",
      "Epoch 45/50\n",
      "164/164 [==============================] - 0s 987us/step - loss: 0.5708 - accuracy: 0.7422 - val_loss: 0.6949 - val_accuracy: 0.6250\n",
      "Epoch 46/50\n",
      "164/164 [==============================] - 0s 1ms/step - loss: 0.5708 - accuracy: 0.7422 - val_loss: 0.6949 - val_accuracy: 0.6250\n",
      "Epoch 47/50\n",
      "164/164 [==============================] - 0s 986us/step - loss: 0.5708 - accuracy: 0.7422 - val_loss: 0.6948 - val_accuracy: 0.6250\n",
      "Epoch 48/50\n",
      "164/164 [==============================] - 0s 1ms/step - loss: 0.5708 - accuracy: 0.7422 - val_loss: 0.6949 - val_accuracy: 0.6250\n",
      "Epoch 49/50\n",
      "164/164 [==============================] - 0s 999us/step - loss: 0.5708 - accuracy: 0.7422 - val_loss: 0.6950 - val_accuracy: 0.6250\n",
      "Epoch 50/50\n",
      "164/164 [==============================] - 0s 1ms/step - loss: 0.5708 - accuracy: 0.7422 - val_loss: 0.6947 - val_accuracy: 0.6250\n"
     ]
    }
   ],
   "source": [
    "results3 = model2.fit(train_images_unrow,\n",
    "                    train_labels,\n",
    "                    epochs=50,\n",
    "                    batch_size=32,\n",
    "                    validation_data=(test_images_unrow, test_labels))"
   ]
  },
  {
   "cell_type": "code",
   "execution_count": 77,
   "metadata": {},
   "outputs": [
    {
     "data": {
      "image/png": "[encoded data removed]",
      "text/plain": [
       "<Figure size 432x288 with 1 Axes>"
      ]
     },
     "metadata": {
      "needs_background": "light"
     },
     "output_type": "display_data"
    }
   ],
   "source": [
    "visualize_results(results3)"
   ]
  },
  {
   "cell_type": "code",
   "execution_count": null,
   "metadata": {},
   "outputs": [],
   "source": []
  }
 ],
 "metadata": {
  "kernelspec": {
   "display_name": "Python 3",
   "language": "python",
   "name": "python3"
  },
  "language_info": {
   "codemirror_mode": {
    "name": "ipython",
    "version": 3
   },
   "file_extension": ".py",
   "mimetype": "text/x-python",
   "name": "python",
   "nbconvert_exporter": "python",
   "pygments_lexer": "ipython3",
   "version": "3.8.5"
  }
 },
 "nbformat": 4,
 "nbformat_minor": 4
}
