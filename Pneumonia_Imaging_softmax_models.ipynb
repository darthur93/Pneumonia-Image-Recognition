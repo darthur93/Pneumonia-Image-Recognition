{
 "cells": [
  {
   "cell_type": "markdown",
   "metadata": {},
   "source": [
    "## Load Packages"
   ]
  },
  {
   "cell_type": "code",
   "execution_count": 1,
   "metadata": {},
   "outputs": [],
   "source": [
    "import pandas as pd\n",
    "import numpy as np\n",
    "import matplotlib.pyplot as plt\n",
    "import os\n",
    "import tensorflow as tf\n",
    "import seaborn as sns\n",
    "\n",
    "from sklearn.model_selection import train_test_split\n",
    "from sklearn.metrics import confusion_matrix\n",
    "\n",
    "from keras.preprocessing.image import ImageDataGenerator, array_to_img, img_to_array, load_img\n",
    "from keras import models, layers, regularizers\n",
    "from keras.callbacks import EarlyStopping, ModelCheckpoint"
   ]
  },
  {
   "cell_type": "markdown",
   "metadata": {},
   "source": [
    "## Load data\n",
    "\n",
    "#### We use grayscale color mode since these are X-ray images. Binary class mode is used to distinguish between normal and pneumonia images."
   ]
  },
  {
   "cell_type": "code",
   "execution_count": 2,
   "metadata": {},
   "outputs": [
    {
     "name": "stdout",
     "output_type": "stream",
     "text": [
      "Found 624 images belonging to 2 classes.\n",
      "Found 5232 images belonging to 2 classes.\n"
     ]
    }
   ],
   "source": [
    "train_data_dir = 'ZhangLabData/CellData/chest_xray/train'\n",
    "test_data_dir = 'ZhangLabData/CellData/chest_xray/test'\n",
    "\n",
    "#Get all the data in the directory data/validation (132 images), and reshape them\n",
    "test_generator = ImageDataGenerator().flow_from_directory(\n",
    "       test_data_dir, \n",
    "       target_size=(64, 64), batch_size=132, color_mode='grayscale', class_mode='binary')\n",
    "\n",
    "#Get all the data in the directory data/train (790 images), and reshape them\n",
    "train_generator = ImageDataGenerator().flow_from_directory(\n",
    "       train_data_dir, \n",
    "       target_size=(64, 64), batch_size=790, color_mode='grayscale', class_mode='binary')\n",
    "\n",
    "#Create the datasets\n",
    "train_images, train_labels = next(train_generator)\n",
    "test_images, test_labels = next(test_generator)"
   ]
  },
  {
   "cell_type": "code",
   "execution_count": 3,
   "metadata": {
    "scrolled": true
   },
   "outputs": [
    {
     "name": "stdout",
     "output_type": "stream",
     "text": [
      "[0. 1. 1. 1. 1. 1. 1. 1. 0. 1.]\n"
     ]
    }
   ],
   "source": [
    "print(train_labels[:10])"
   ]
  },
  {
   "cell_type": "markdown",
   "metadata": {},
   "source": [
    "## PREPROCESSING\n",
    "#### We will create a validation set from the training set in order to initially evaluate the model. If the model works well, we will fit it against the entire training set and validate against the testing set."
   ]
  },
  {
   "cell_type": "code",
   "execution_count": 4,
   "metadata": {},
   "outputs": [],
   "source": [
    "# Create validation set from training set\n",
    "\n",
    "X = train_images\n",
    "y = train_labels\n",
    "\n",
    "X_train, X_val, y_train, y_val = train_test_split(X, y, test_size=0.2, random_state=42)\n",
    "\n"
   ]
  },
  {
   "cell_type": "code",
   "execution_count": 5,
   "metadata": {},
   "outputs": [
    {
     "data": {
      "text/plain": [
       "(790, 64, 64, 1)"
      ]
     },
     "execution_count": 5,
     "metadata": {},
     "output_type": "execute_result"
    }
   ],
   "source": [
    "train_images.shape"
   ]
  },
  {
   "cell_type": "markdown",
   "metadata": {},
   "source": [
    "#### Preview images (Normal)"
   ]
  },
  {
   "cell_type": "code",
   "execution_count": 6,
   "metadata": {},
   "outputs": [
    {
     "name": "stdout",
     "output_type": "stream",
     "text": [
      "X_train shape:  (632, 64, 64, 1)\n",
      "y_train shape:  (632,)\n",
      "X_val shape:  (158, 64, 64, 1)\n",
      "y_val shape:  (158,)\n"
     ]
    }
   ],
   "source": [
    "print('X_train shape: ',np.shape(X_train))\n",
    "print('y_train shape: ',np.shape(y_train))\n",
    "print('X_val shape: ',np.shape(X_val))\n",
    "print('y_val shape: ',np.shape(y_val))"
   ]
  },
  {
   "cell_type": "code",
   "execution_count": 7,
   "metadata": {},
   "outputs": [
    {
     "data": {
      "text/plain": [
       "(132, 64, 64, 1)"
      ]
     },
     "execution_count": 7,
     "metadata": {},
     "output_type": "execute_result"
    }
   ],
   "source": [
    "test_images.shape"
   ]
  },
  {
   "cell_type": "markdown",
   "metadata": {},
   "source": [
    "#### Reshape  images"
   ]
  },
  {
   "cell_type": "code",
   "execution_count": 8,
   "metadata": {},
   "outputs": [
    {
     "data": {
      "text/plain": [
       "(632, 4096)"
      ]
     },
     "execution_count": 8,
     "metadata": {},
     "output_type": "execute_result"
    }
   ],
   "source": [
    "#train set\n",
    "X_train_unrow = X_train.reshape(632, -1)\n",
    "X_train_unrow.shape"
   ]
  },
  {
   "cell_type": "code",
   "execution_count": 9,
   "metadata": {},
   "outputs": [
    {
     "data": {
      "text/plain": [
       "(158, 4096)"
      ]
     },
     "execution_count": 9,
     "metadata": {},
     "output_type": "execute_result"
    }
   ],
   "source": [
    "#test set\n",
    "X_val_unrow = X_val.reshape(158, -1)\n",
    "X_val_unrow.shape"
   ]
  },
  {
   "cell_type": "markdown",
   "metadata": {},
   "source": [
    "#### Labels for images"
   ]
  },
  {
   "cell_type": "code",
   "execution_count": 10,
   "metadata": {},
   "outputs": [
    {
     "data": {
      "text/plain": [
       "array([1., 1., 0., 1., 1., 0., 1., 1., 1., 0.], dtype=float32)"
      ]
     },
     "execution_count": 10,
     "metadata": {},
     "output_type": "execute_result"
    }
   ],
   "source": [
    "y_train[:10]"
   ]
  },
  {
   "cell_type": "code",
   "execution_count": 11,
   "metadata": {},
   "outputs": [
    {
     "data": {
      "text/plain": [
       "{'NORMAL': 0, 'PNEUMONIA': 1}"
      ]
     },
     "execution_count": 11,
     "metadata": {},
     "output_type": "execute_result"
    }
   ],
   "source": [
    "train_generator.class_indices"
   ]
  },
  {
   "cell_type": "markdown",
   "metadata": {},
   "source": [
    "#### Scaling the data for analysis and modeling "
   ]
  },
  {
   "cell_type": "code",
   "execution_count": 12,
   "metadata": {},
   "outputs": [
    {
     "data": {
      "text/plain": [
       "numpy.ndarray"
      ]
     },
     "execution_count": 12,
     "metadata": {},
     "output_type": "execute_result"
    }
   ],
   "source": [
    "#scaling the data\n",
    "X_train_img_final = X_train_unrow/255\n",
    "X_val_img_final = X_val_unrow/255\n",
    "\n",
    "type(X_val_img_final)"
   ]
  },
  {
   "cell_type": "code",
   "execution_count": 13,
   "metadata": {},
   "outputs": [
    {
     "name": "stdout",
     "output_type": "stream",
     "text": [
      "(632, 4096)\n",
      "(158, 4096)\n"
     ]
    }
   ],
   "source": [
    "print(X_train_img_final.shape)\n",
    "print(X_val_img_final.shape)"
   ]
  },
  {
   "cell_type": "markdown",
   "metadata": {},
   "source": [
    "## Model creation\n",
    "#### We will use recall as our metric, as we're more concerned about false negatives than false positives."
   ]
  },
  {
   "cell_type": "markdown",
   "metadata": {},
   "source": [
    "#### Baseline Model with DummyClassifier"
   ]
  },
  {
   "cell_type": "code",
   "execution_count": 14,
   "metadata": {},
   "outputs": [
    {
     "data": {
      "text/plain": [
       "DummyClassifier(strategy='most_frequent')"
      ]
     },
     "execution_count": 14,
     "metadata": {},
     "output_type": "execute_result"
    }
   ],
   "source": [
    "#dummy classifer/regressor for baseline\n",
    "from sklearn.dummy import DummyClassifier\n",
    "\n",
    "dummy = DummyClassifier(strategy='most_frequent')\n",
    "dummy.fit(X_train_img_final, y_train)"
   ]
  },
  {
   "cell_type": "code",
   "execution_count": 15,
   "metadata": {},
   "outputs": [
    {
     "data": {
      "text/plain": [
       "array([1., 1., 1., 1., 1., 1., 1., 1., 1., 1., 1., 1., 1., 1., 1., 1., 1.,\n",
       "       1., 1., 1., 1., 1., 1., 1., 1., 1., 1., 1., 1., 1., 1., 1., 1., 1.,\n",
       "       1., 1., 1., 1., 1., 1., 1., 1., 1., 1., 1., 1., 1., 1., 1., 1., 1.,\n",
       "       1., 1., 1., 1., 1., 1., 1., 1., 1., 1., 1., 1., 1., 1., 1., 1., 1.,\n",
       "       1., 1., 1., 1., 1., 1., 1., 1., 1., 1., 1., 1., 1., 1., 1., 1., 1.,\n",
       "       1., 1., 1., 1., 1., 1., 1., 1., 1., 1., 1., 1., 1., 1., 1., 1., 1.,\n",
       "       1., 1., 1., 1., 1., 1., 1., 1., 1., 1., 1., 1., 1., 1., 1., 1., 1.,\n",
       "       1., 1., 1., 1., 1., 1., 1., 1., 1., 1., 1., 1., 1., 1., 1., 1., 1.,\n",
       "       1., 1., 1., 1., 1., 1., 1., 1., 1., 1., 1., 1., 1., 1., 1., 1., 1.,\n",
       "       1., 1., 1., 1., 1.], dtype=float32)"
      ]
     },
     "execution_count": 15,
     "metadata": {},
     "output_type": "execute_result"
    }
   ],
   "source": [
    "dummy.predict(X_val_img_final)"
   ]
  },
  {
   "cell_type": "code",
   "execution_count": 16,
   "metadata": {},
   "outputs": [
    {
     "data": {
      "text/plain": [
       "0.7468354430379747"
      ]
     },
     "execution_count": 16,
     "metadata": {},
     "output_type": "execute_result"
    }
   ],
   "source": [
    "dummy.score(X_val_img_final, y_val)"
   ]
  },
  {
   "cell_type": "markdown",
   "metadata": {},
   "source": [
    "#### Initial Neural Network Model Creation using softmax activation function"
   ]
  },
  {
   "cell_type": "code",
   "execution_count": 17,
   "metadata": {},
   "outputs": [],
   "source": [
    "np.random.seed(42)\n",
    "model = models.Sequential()\n",
    "model.add(layers.Dense(63, activation='softmax', input_shape=(4096,)))\n",
    "model.add(layers.Dense(42, activation='softmax'))\n",
    "model.add(layers.Dense(21, activation='softmax'))\n",
    "model.add(layers.Dense(1, activation='sigmoid')) #output layer, binary classification"
   ]
  },
  {
   "cell_type": "code",
   "execution_count": 18,
   "metadata": {},
   "outputs": [
    {
     "name": "stdout",
     "output_type": "stream",
     "text": [
      "Epoch 1/50\n",
      "20/20 [==============================] - 1s 67ms/step - loss: 0.6641 - recall: 1.0000 - acc: 0.7500 - val_loss: 0.6593 - val_recall: 1.0000 - val_acc: 0.7468\n",
      "Epoch 2/50\n",
      "20/20 [==============================] - 0s 5ms/step - loss: 0.6545 - recall: 1.0000 - acc: 0.7500 - val_loss: 0.6503 - val_recall: 1.0000 - val_acc: 0.7468\n",
      "Epoch 3/50\n",
      "20/20 [==============================] - 0s 4ms/step - loss: 0.6459 - recall: 1.0000 - acc: 0.7500 - val_loss: 0.6424 - val_recall: 1.0000 - val_acc: 0.7468\n",
      "Epoch 4/50\n",
      "20/20 [==============================] - 0s 3ms/step - loss: 0.6382 - recall: 1.0000 - acc: 0.7500 - val_loss: 0.6351 - val_recall: 1.0000 - val_acc: 0.7468\n",
      "Epoch 5/50\n",
      "20/20 [==============================] - 0s 6ms/step - loss: 0.6311 - recall: 1.0000 - acc: 0.7500 - val_loss: 0.6285 - val_recall: 1.0000 - val_acc: 0.7468\n",
      "Epoch 6/50\n",
      "20/20 [==============================] - 0s 5ms/step - loss: 0.6247 - recall: 1.0000 - acc: 0.7500 - val_loss: 0.6226 - val_recall: 1.0000 - val_acc: 0.7468\n",
      "Epoch 7/50\n",
      "20/20 [==============================] - 0s 5ms/step - loss: 0.6190 - recall: 1.0000 - acc: 0.7500 - val_loss: 0.6173 - val_recall: 1.0000 - val_acc: 0.7468\n",
      "Epoch 8/50\n",
      "20/20 [==============================] - 0s 2ms/step - loss: 0.6138 - recall: 1.0000 - acc: 0.7500 - val_loss: 0.6125 - val_recall: 1.0000 - val_acc: 0.7468\n",
      "Epoch 9/50\n",
      "20/20 [==============================] - 0s 5ms/step - loss: 0.6091 - recall: 1.0000 - acc: 0.7500 - val_loss: 0.6082 - val_recall: 1.0000 - val_acc: 0.7468\n",
      "Epoch 10/50\n",
      "20/20 [==============================] - 0s 3ms/step - loss: 0.6049 - recall: 1.0000 - acc: 0.7500 - val_loss: 0.6043 - val_recall: 1.0000 - val_acc: 0.7468\n",
      "Epoch 11/50\n",
      "20/20 [==============================] - 0s 2ms/step - loss: 0.6011 - recall: 1.0000 - acc: 0.7500 - val_loss: 0.6007 - val_recall: 1.0000 - val_acc: 0.7468\n",
      "Epoch 12/50\n",
      "20/20 [==============================] - 0s 3ms/step - loss: 0.5976 - recall: 1.0000 - acc: 0.7500 - val_loss: 0.5975 - val_recall: 1.0000 - val_acc: 0.7468\n",
      "Epoch 13/50\n",
      "20/20 [==============================] - 0s 2ms/step - loss: 0.5945 - recall: 1.0000 - acc: 0.7500 - val_loss: 0.5947 - val_recall: 1.0000 - val_acc: 0.7468\n",
      "Epoch 14/50\n",
      "20/20 [==============================] - 0s 3ms/step - loss: 0.5917 - recall: 1.0000 - acc: 0.7500 - val_loss: 0.5921 - val_recall: 1.0000 - val_acc: 0.7468\n",
      "Epoch 15/50\n",
      "20/20 [==============================] - 0s 2ms/step - loss: 0.5892 - recall: 1.0000 - acc: 0.7500 - val_loss: 0.5898 - val_recall: 1.0000 - val_acc: 0.7468\n",
      "Epoch 16/50\n",
      "20/20 [==============================] - 0s 5ms/step - loss: 0.5869 - recall: 1.0000 - acc: 0.7500 - val_loss: 0.5876 - val_recall: 1.0000 - val_acc: 0.7468\n",
      "Epoch 17/50\n",
      "20/20 [==============================] - 0s 3ms/step - loss: 0.5848 - recall: 1.0000 - acc: 0.7500 - val_loss: 0.5857 - val_recall: 1.0000 - val_acc: 0.7468\n",
      "Epoch 18/50\n",
      "20/20 [==============================] - 0s 3ms/step - loss: 0.5828 - recall: 1.0000 - acc: 0.7500 - val_loss: 0.5839 - val_recall: 1.0000 - val_acc: 0.7468\n",
      "Epoch 19/50\n",
      "20/20 [==============================] - 0s 2ms/step - loss: 0.5811 - recall: 1.0000 - acc: 0.7500 - val_loss: 0.5823 - val_recall: 1.0000 - val_acc: 0.7468\n",
      "Epoch 20/50\n",
      "20/20 [==============================] - 0s 3ms/step - loss: 0.5794 - recall: 1.0000 - acc: 0.7500 - val_loss: 0.5808 - val_recall: 1.0000 - val_acc: 0.7468\n",
      "Epoch 21/50\n",
      "20/20 [==============================] - 0s 2ms/step - loss: 0.5780 - recall: 1.0000 - acc: 0.7500 - val_loss: 0.5795 - val_recall: 1.0000 - val_acc: 0.7468\n",
      "Epoch 22/50\n",
      "20/20 [==============================] - 0s 2ms/step - loss: 0.5767 - recall: 1.0000 - acc: 0.7500 - val_loss: 0.5783 - val_recall: 1.0000 - val_acc: 0.7468\n",
      "Epoch 23/50\n",
      "20/20 [==============================] - 0s 2ms/step - loss: 0.5754 - recall: 1.0000 - acc: 0.7500 - val_loss: 0.5772 - val_recall: 1.0000 - val_acc: 0.7468\n",
      "Epoch 24/50\n",
      "20/20 [==============================] - 0s 2ms/step - loss: 0.5743 - recall: 1.0000 - acc: 0.7500 - val_loss: 0.5762 - val_recall: 1.0000 - val_acc: 0.7468\n",
      "Epoch 25/50\n",
      "20/20 [==============================] - 0s 2ms/step - loss: 0.5733 - recall: 1.0000 - acc: 0.7500 - val_loss: 0.5753 - val_recall: 1.0000 - val_acc: 0.7468\n",
      "Epoch 26/50\n",
      "20/20 [==============================] - 0s 3ms/step - loss: 0.5724 - recall: 1.0000 - acc: 0.7500 - val_loss: 0.5744 - val_recall: 1.0000 - val_acc: 0.7468\n",
      "Epoch 27/50\n",
      "20/20 [==============================] - 0s 2ms/step - loss: 0.5716 - recall: 1.0000 - acc: 0.7500 - val_loss: 0.5737 - val_recall: 1.0000 - val_acc: 0.7468\n",
      "Epoch 28/50\n",
      "20/20 [==============================] - 0s 2ms/step - loss: 0.5708 - recall: 1.0000 - acc: 0.7500 - val_loss: 0.5730 - val_recall: 1.0000 - val_acc: 0.7468\n",
      "Epoch 29/50\n",
      "20/20 [==============================] - 0s 2ms/step - loss: 0.5701 - recall: 1.0000 - acc: 0.7500 - val_loss: 0.5724 - val_recall: 1.0000 - val_acc: 0.7468\n",
      "Epoch 30/50\n",
      "20/20 [==============================] - 0s 2ms/step - loss: 0.5695 - recall: 1.0000 - acc: 0.7500 - val_loss: 0.5718 - val_recall: 1.0000 - val_acc: 0.7468\n",
      "Epoch 31/50\n",
      "20/20 [==============================] - 0s 2ms/step - loss: 0.5689 - recall: 1.0000 - acc: 0.7500 - val_loss: 0.5713 - val_recall: 1.0000 - val_acc: 0.7468\n",
      "Epoch 32/50\n",
      "20/20 [==============================] - 0s 3ms/step - loss: 0.5684 - recall: 1.0000 - acc: 0.7500 - val_loss: 0.5708 - val_recall: 1.0000 - val_acc: 0.7468\n",
      "Epoch 33/50\n",
      "20/20 [==============================] - 0s 2ms/step - loss: 0.5679 - recall: 1.0000 - acc: 0.7500 - val_loss: 0.5704 - val_recall: 1.0000 - val_acc: 0.7468\n",
      "Epoch 34/50\n",
      "20/20 [==============================] - 0s 2ms/step - loss: 0.5675 - recall: 1.0000 - acc: 0.7500 - val_loss: 0.5700 - val_recall: 1.0000 - val_acc: 0.7468\n",
      "Epoch 35/50\n",
      "20/20 [==============================] - 0s 2ms/step - loss: 0.5670 - recall: 1.0000 - acc: 0.7500 - val_loss: 0.5696 - val_recall: 1.0000 - val_acc: 0.7468\n",
      "Epoch 36/50\n",
      "20/20 [==============================] - 0s 3ms/step - loss: 0.5667 - recall: 1.0000 - acc: 0.7500 - val_loss: 0.5693 - val_recall: 1.0000 - val_acc: 0.7468\n",
      "Epoch 37/50\n",
      "20/20 [==============================] - 0s 2ms/step - loss: 0.5663 - recall: 1.0000 - acc: 0.7500 - val_loss: 0.5689 - val_recall: 1.0000 - val_acc: 0.7468\n",
      "Epoch 38/50\n",
      "20/20 [==============================] - 0s 2ms/step - loss: 0.5660 - recall: 1.0000 - acc: 0.7500 - val_loss: 0.5687 - val_recall: 1.0000 - val_acc: 0.7468\n",
      "Epoch 39/50\n",
      "20/20 [==============================] - 0s 2ms/step - loss: 0.5657 - recall: 1.0000 - acc: 0.7500 - val_loss: 0.5684 - val_recall: 1.0000 - val_acc: 0.7468\n",
      "Epoch 40/50\n",
      "20/20 [==============================] - 0s 2ms/step - loss: 0.5654 - recall: 1.0000 - acc: 0.7500 - val_loss: 0.5682 - val_recall: 1.0000 - val_acc: 0.7468\n",
      "Epoch 41/50\n",
      "20/20 [==============================] - 0s 2ms/step - loss: 0.5652 - recall: 1.0000 - acc: 0.7500 - val_loss: 0.5680 - val_recall: 1.0000 - val_acc: 0.7468\n",
      "Epoch 42/50\n",
      "20/20 [==============================] - 0s 2ms/step - loss: 0.5650 - recall: 1.0000 - acc: 0.7500 - val_loss: 0.5678 - val_recall: 1.0000 - val_acc: 0.7468\n",
      "Epoch 43/50\n",
      "20/20 [==============================] - 0s 2ms/step - loss: 0.5648 - recall: 1.0000 - acc: 0.7500 - val_loss: 0.5676 - val_recall: 1.0000 - val_acc: 0.7468\n",
      "Epoch 44/50\n",
      "20/20 [==============================] - 0s 2ms/step - loss: 0.5646 - recall: 1.0000 - acc: 0.7500 - val_loss: 0.5675 - val_recall: 1.0000 - val_acc: 0.7468\n",
      "Epoch 45/50\n",
      "20/20 [==============================] - 0s 3ms/step - loss: 0.5644 - recall: 1.0000 - acc: 0.7500 - val_loss: 0.5673 - val_recall: 1.0000 - val_acc: 0.7468\n",
      "Epoch 46/50\n",
      "20/20 [==============================] - 0s 2ms/step - loss: 0.5643 - recall: 1.0000 - acc: 0.7500 - val_loss: 0.5672 - val_recall: 1.0000 - val_acc: 0.7468\n",
      "Epoch 47/50\n",
      "20/20 [==============================] - 0s 4ms/step - loss: 0.5641 - recall: 1.0000 - acc: 0.7500 - val_loss: 0.5671 - val_recall: 1.0000 - val_acc: 0.7468\n",
      "Epoch 48/50\n",
      "20/20 [==============================] - 0s 6ms/step - loss: 0.5640 - recall: 1.0000 - acc: 0.7500 - val_loss: 0.5670 - val_recall: 1.0000 - val_acc: 0.7468\n",
      "Epoch 49/50\n"
     ]
    },
    {
     "name": "stdout",
     "output_type": "stream",
     "text": [
      "20/20 [==============================] - 0s 8ms/step - loss: 0.5639 - recall: 1.0000 - acc: 0.7500 - val_loss: 0.5669 - val_recall: 1.0000 - val_acc: 0.7468\n",
      "Epoch 50/50\n",
      "20/20 [==============================] - 0s 6ms/step - loss: 0.5637 - recall: 1.0000 - acc: 0.7500 - val_loss: 0.5668 - val_recall: 1.0000 - val_acc: 0.7468\n"
     ]
    }
   ],
   "source": [
    "# import tensorflow as tf\n",
    "\n",
    "model.compile(optimizer='sgd',\n",
    "              loss='binary_crossentropy',\n",
    "              metrics=[tf.keras.metrics.Recall(), 'acc'])\n",
    "\n",
    "results = model.fit(X_train_img_final,\n",
    "                    y_train,\n",
    "                    epochs=50,\n",
    "                    batch_size=32,\n",
    "                    validation_data=(X_val_img_final, y_val))"
   ]
  },
  {
   "cell_type": "code",
   "execution_count": 19,
   "metadata": {},
   "outputs": [
    {
     "name": "stdout",
     "output_type": "stream",
     "text": [
      "20/20 [==============================] - 0s 4ms/step - loss: 0.5637 - recall: 1.0000 - acc: 0.7500\n"
     ]
    }
   ],
   "source": [
    "results_train = model.evaluate(X_train_img_final, y_train)"
   ]
  },
  {
   "cell_type": "code",
   "execution_count": 20,
   "metadata": {},
   "outputs": [
    {
     "name": "stdout",
     "output_type": "stream",
     "text": [
      "5/5 [==============================] - 0s 2ms/step - loss: 0.5668 - recall: 1.0000 - acc: 0.7468\n"
     ]
    }
   ],
   "source": [
    "results_val = model.evaluate(X_val_img_final, y_val)"
   ]
  },
  {
   "cell_type": "code",
   "execution_count": 21,
   "metadata": {},
   "outputs": [],
   "source": [
    "#plot epochs vs loss for train and test set\n",
    "def visualize_results(results):\n",
    "    history = results.history\n",
    "    plt.figure()\n",
    "    plt.plot(history['val_loss'])\n",
    "    plt.plot(history['loss'])\n",
    "    plt.legend(['val_loss', 'loss'])\n",
    "    plt.title('Loss')\n",
    "    plt.xlabel('Epochs')\n",
    "    plt.ylabel('Loss')\n",
    "    plt.show()\n",
    "    \n",
    "    "
   ]
  },
  {
   "cell_type": "code",
   "execution_count": 22,
   "metadata": {},
   "outputs": [
    {
     "data": {
      "image/png": "[encoded data removed]",
      "text/plain": [
       "<Figure size 432x288 with 1 Axes>"
      ]
     },
     "metadata": {
      "needs_background": "light"
     },
     "output_type": "display_data"
    }
   ],
   "source": [
    "visualize_results(results)"
   ]
  },
  {
   "cell_type": "markdown",
   "metadata": {},
   "source": [
    "#### Evaluate model with confusion matrix"
   ]
  },
  {
   "cell_type": "code",
   "execution_count": 23,
   "metadata": {},
   "outputs": [],
   "source": [
    "label_pred = (model.predict(X_val_img_final) > 0.5).astype(int)\n",
    "\n",
    "cf_matrix = confusion_matrix(y_val, label_pred)"
   ]
  },
  {
   "cell_type": "code",
   "execution_count": 24,
   "metadata": {},
   "outputs": [
    {
     "data": {
      "text/plain": [
       "<AxesSubplot:>"
      ]
     },
     "execution_count": 24,
     "metadata": {},
     "output_type": "execute_result"
    },
    {
     "data": {
      "image/png": "[encoded data removed]",
      "text/plain": [
       "<Figure size 432x288 with 2 Axes>"
      ]
     },
     "metadata": {
      "needs_background": "light"
     },
     "output_type": "display_data"
    }
   ],
   "source": [
    "sns.heatmap(cf_matrix, annot=True)"
   ]
  },
  {
   "cell_type": "markdown",
   "metadata": {},
   "source": [
    "#### Insight: according to the Loss plot, there is significant overfitting of the model due to the high variation of the validation curve. Any subsequent models must reduce the variance and overfitting of the baseline model.\n"
   ]
  },
  {
   "cell_type": "markdown",
   "metadata": {},
   "source": [
    "#### Will adding EarlyStopping improve the model?"
   ]
  },
  {
   "cell_type": "code",
   "execution_count": 25,
   "metadata": {},
   "outputs": [],
   "source": [
    "#create new model with similar parameters\n",
    "np.random.seed(42)\n",
    "model2 = models.Sequential()\n",
    "model2.add(layers.Dense(63, activation='softmax', input_shape=(4096,)))\n",
    "model2.add(layers.Dense(42, activation='softmax'))\n",
    "model2.add(layers.Dense(21, activation='softmax'))\n",
    "model2.add(layers.Dense(1, activation='sigmoid')) #output layer, binary classification"
   ]
  },
  {
   "cell_type": "code",
   "execution_count": 26,
   "metadata": {},
   "outputs": [],
   "source": [
    "# from keras.callbacks import EarlyStopping, ModelCheckpoint\n",
    "\n",
    "early_stopping = [EarlyStopping(monitor='val_loss', patience=10), ModelCheckpoint(filepath='best_model.h5',\n",
    "                                                                                 monitor='val_loss', save_best_only=True)]"
   ]
  },
  {
   "cell_type": "code",
   "execution_count": 27,
   "metadata": {},
   "outputs": [
    {
     "name": "stdout",
     "output_type": "stream",
     "text": [
      "Epoch 1/50\n",
      "20/20 [==============================] - 1s 64ms/step - loss: 0.6902 - recall_1: 0.7046 - acc: 0.6108 - val_loss: 0.6836 - val_recall_1: 1.0000 - val_acc: 0.7468\n",
      "Epoch 2/50\n",
      "20/20 [==============================] - 0s 7ms/step - loss: 0.6780 - recall_1: 1.0000 - acc: 0.7500 - val_loss: 0.6722 - val_recall_1: 1.0000 - val_acc: 0.7468\n",
      "Epoch 3/50\n",
      "20/20 [==============================] - 0s 13ms/step - loss: 0.6670 - recall_1: 1.0000 - acc: 0.7500 - val_loss: 0.6621 - val_recall_1: 1.0000 - val_acc: 0.7468\n",
      "Epoch 4/50\n",
      "20/20 [==============================] - ETA: 0s - loss: 0.6571 - recall_1: 1.0000 - acc: 0.75 - 0s 9ms/step - loss: 0.6572 - recall_1: 1.0000 - acc: 0.7500 - val_loss: 0.6529 - val_recall_1: 1.0000 - val_acc: 0.7468\n",
      "Epoch 5/50\n",
      "20/20 [==============================] - 0s 12ms/step - loss: 0.6483 - recall_1: 1.0000 - acc: 0.7500 - val_loss: 0.6446 - val_recall_1: 1.0000 - val_acc: 0.7468\n",
      "Epoch 6/50\n",
      "20/20 [==============================] - 0s 10ms/step - loss: 0.6403 - recall_1: 1.0000 - acc: 0.7500 - val_loss: 0.6371 - val_recall_1: 1.0000 - val_acc: 0.7468\n",
      "Epoch 7/50\n",
      "20/20 [==============================] - 0s 7ms/step - loss: 0.6330 - recall_1: 1.0000 - acc: 0.7500 - val_loss: 0.6304 - val_recall_1: 1.0000 - val_acc: 0.7468\n",
      "Epoch 8/50\n",
      "20/20 [==============================] - 0s 11ms/step - loss: 0.6266 - recall_1: 1.0000 - acc: 0.7500 - val_loss: 0.6244 - val_recall_1: 1.0000 - val_acc: 0.7468\n",
      "Epoch 9/50\n",
      "20/20 [==============================] - 0s 15ms/step - loss: 0.6207 - recall_1: 1.0000 - acc: 0.7500 - val_loss: 0.6189 - val_recall_1: 1.0000 - val_acc: 0.7468\n",
      "Epoch 10/50\n",
      "20/20 [==============================] - 0s 9ms/step - loss: 0.6154 - recall_1: 1.0000 - acc: 0.7500 - val_loss: 0.6140 - val_recall_1: 1.0000 - val_acc: 0.7468\n",
      "Epoch 11/50\n",
      "20/20 [==============================] - 0s 9ms/step - loss: 0.6106 - recall_1: 1.0000 - acc: 0.7500 - val_loss: 0.6096 - val_recall_1: 1.0000 - val_acc: 0.7468\n",
      "Epoch 12/50\n",
      "20/20 [==============================] - 0s 7ms/step - loss: 0.6063 - recall_1: 1.0000 - acc: 0.7500 - val_loss: 0.6056 - val_recall_1: 1.0000 - val_acc: 0.7468\n",
      "Epoch 13/50\n",
      "20/20 [==============================] - 0s 6ms/step - loss: 0.6024 - recall_1: 1.0000 - acc: 0.7500 - val_loss: 0.6019 - val_recall_1: 1.0000 - val_acc: 0.7468\n",
      "Epoch 14/50\n",
      "20/20 [==============================] - 0s 11ms/step - loss: 0.5988 - recall_1: 1.0000 - acc: 0.7500 - val_loss: 0.5987 - val_recall_1: 1.0000 - val_acc: 0.7468\n",
      "Epoch 15/50\n",
      "20/20 [==============================] - 0s 10ms/step - loss: 0.5956 - recall_1: 1.0000 - acc: 0.7500 - val_loss: 0.5957 - val_recall_1: 1.0000 - val_acc: 0.7468\n",
      "Epoch 16/50\n",
      "20/20 [==============================] - 0s 9ms/step - loss: 0.5927 - recall_1: 1.0000 - acc: 0.7500 - val_loss: 0.5931 - val_recall_1: 1.0000 - val_acc: 0.7468\n",
      "Epoch 17/50\n",
      "20/20 [==============================] - 0s 9ms/step - loss: 0.5901 - recall_1: 1.0000 - acc: 0.7500 - val_loss: 0.5906 - val_recall_1: 1.0000 - val_acc: 0.7468\n",
      "Epoch 18/50\n",
      "20/20 [==============================] - 0s 9ms/step - loss: 0.5877 - recall_1: 1.0000 - acc: 0.7500 - val_loss: 0.5884 - val_recall_1: 1.0000 - val_acc: 0.7468\n",
      "Epoch 19/50\n",
      "20/20 [==============================] - 0s 8ms/step - loss: 0.5855 - recall_1: 1.0000 - acc: 0.7500 - val_loss: 0.5864 - val_recall_1: 1.0000 - val_acc: 0.7468\n",
      "Epoch 20/50\n",
      "20/20 [==============================] - 0s 10ms/step - loss: 0.5835 - recall_1: 1.0000 - acc: 0.7500 - val_loss: 0.5845 - val_recall_1: 1.0000 - val_acc: 0.7468\n",
      "Epoch 21/50\n",
      "20/20 [==============================] - 0s 11ms/step - loss: 0.5817 - recall_1: 1.0000 - acc: 0.7500 - val_loss: 0.5828 - val_recall_1: 1.0000 - val_acc: 0.7468\n",
      "Epoch 22/50\n",
      "20/20 [==============================] - 0s 10ms/step - loss: 0.5800 - recall_1: 1.0000 - acc: 0.7500 - val_loss: 0.5813 - val_recall_1: 1.0000 - val_acc: 0.7468\n",
      "Epoch 23/50\n",
      "20/20 [==============================] - 0s 18ms/step - loss: 0.5785 - recall_1: 1.0000 - acc: 0.7500 - val_loss: 0.5799 - val_recall_1: 1.0000 - val_acc: 0.7468\n",
      "Epoch 24/50\n",
      "20/20 [==============================] - 0s 23ms/step - loss: 0.5771 - recall_1: 1.0000 - acc: 0.7500 - val_loss: 0.5787 - val_recall_1: 1.0000 - val_acc: 0.7468\n",
      "Epoch 25/50\n",
      "20/20 [==============================] - 0s 18ms/step - loss: 0.5759 - recall_1: 1.0000 - acc: 0.7500 - val_loss: 0.5776 - val_recall_1: 1.0000 - val_acc: 0.7468\n",
      "Epoch 26/50\n",
      "20/20 [==============================] - 0s 8ms/step - loss: 0.5748 - recall_1: 1.0000 - acc: 0.7500 - val_loss: 0.5765 - val_recall_1: 1.0000 - val_acc: 0.7468\n",
      "Epoch 27/50\n",
      "20/20 [==============================] - 0s 6ms/step - loss: 0.5737 - recall_1: 1.0000 - acc: 0.7500 - val_loss: 0.5756 - val_recall_1: 1.0000 - val_acc: 0.7468\n",
      "Epoch 28/50\n",
      "20/20 [==============================] - 0s 7ms/step - loss: 0.5728 - recall_1: 1.0000 - acc: 0.7500 - val_loss: 0.5748 - val_recall_1: 1.0000 - val_acc: 0.7468\n",
      "Epoch 29/50\n",
      "20/20 [==============================] - 0s 7ms/step - loss: 0.5719 - recall_1: 1.0000 - acc: 0.7500 - val_loss: 0.5740 - val_recall_1: 1.0000 - val_acc: 0.7468\n",
      "Epoch 30/50\n",
      "20/20 [==============================] - 0s 5ms/step - loss: 0.5711 - recall_1: 1.0000 - acc: 0.7500 - val_loss: 0.5732 - val_recall_1: 1.0000 - val_acc: 0.7468\n",
      "Epoch 31/50\n",
      "20/20 [==============================] - 0s 6ms/step - loss: 0.5704 - recall_1: 1.0000 - acc: 0.7500 - val_loss: 0.5726 - val_recall_1: 1.0000 - val_acc: 0.7468\n",
      "Epoch 32/50\n",
      "20/20 [==============================] - 0s 7ms/step - loss: 0.5697 - recall_1: 1.0000 - acc: 0.7500 - val_loss: 0.5720 - val_recall_1: 1.0000 - val_acc: 0.7468\n",
      "Epoch 33/50\n",
      "20/20 [==============================] - 0s 8ms/step - loss: 0.5691 - recall_1: 1.0000 - acc: 0.7500 - val_loss: 0.5714 - val_recall_1: 1.0000 - val_acc: 0.7468\n",
      "Epoch 34/50\n",
      "20/20 [==============================] - 0s 4ms/step - loss: 0.5685 - recall_1: 1.0000 - acc: 0.7500 - val_loss: 0.5709 - val_recall_1: 1.0000 - val_acc: 0.7468\n",
      "Epoch 35/50\n",
      "20/20 [==============================] - 0s 6ms/step - loss: 0.5680 - recall_1: 1.0000 - acc: 0.7500 - val_loss: 0.5705 - val_recall_1: 1.0000 - val_acc: 0.7468\n",
      "Epoch 36/50\n",
      "20/20 [==============================] - 0s 7ms/step - loss: 0.5676 - recall_1: 1.0000 - acc: 0.7500 - val_loss: 0.5701 - val_recall_1: 1.0000 - val_acc: 0.7468\n",
      "Epoch 37/50\n",
      "20/20 [==============================] - 0s 6ms/step - loss: 0.5671 - recall_1: 1.0000 - acc: 0.7500 - val_loss: 0.5697 - val_recall_1: 1.0000 - val_acc: 0.7468\n",
      "Epoch 38/50\n",
      "20/20 [==============================] - 0s 5ms/step - loss: 0.5667 - recall_1: 1.0000 - acc: 0.7500 - val_loss: 0.5693 - val_recall_1: 1.0000 - val_acc: 0.7468\n",
      "Epoch 39/50\n",
      "20/20 [==============================] - 0s 9ms/step - loss: 0.5664 - recall_1: 1.0000 - acc: 0.7500 - val_loss: 0.5690 - val_recall_1: 1.0000 - val_acc: 0.7468\n",
      "Epoch 40/50\n",
      "20/20 [==============================] - 0s 14ms/step - loss: 0.5661 - recall_1: 1.0000 - acc: 0.7500 - val_loss: 0.5687 - val_recall_1: 1.0000 - val_acc: 0.7468\n",
      "Epoch 41/50\n",
      "20/20 [==============================] - 0s 8ms/step - loss: 0.5657 - recall_1: 1.0000 - acc: 0.7500 - val_loss: 0.5685 - val_recall_1: 1.0000 - val_acc: 0.7468\n",
      "Epoch 42/50\n",
      "20/20 [==============================] - 0s 8ms/step - loss: 0.5655 - recall_1: 1.0000 - acc: 0.7500 - val_loss: 0.5682 - val_recall_1: 1.0000 - val_acc: 0.7468\n",
      "Epoch 43/50\n",
      "20/20 [==============================] - 0s 6ms/step - loss: 0.5652 - recall_1: 1.0000 - acc: 0.7500 - val_loss: 0.5680 - val_recall_1: 1.0000 - val_acc: 0.7468\n",
      "Epoch 44/50\n",
      "20/20 [==============================] - 0s 6ms/step - loss: 0.5650 - recall_1: 1.0000 - acc: 0.7500 - val_loss: 0.5678 - val_recall_1: 1.0000 - val_acc: 0.7468\n",
      "Epoch 45/50\n",
      "20/20 [==============================] - 0s 7ms/step - loss: 0.5648 - recall_1: 1.0000 - acc: 0.7500 - val_loss: 0.5677 - val_recall_1: 1.0000 - val_acc: 0.7468\n",
      "Epoch 46/50\n",
      "20/20 [==============================] - 0s 8ms/step - loss: 0.5646 - recall_1: 1.0000 - acc: 0.7500 - val_loss: 0.5675 - val_recall_1: 1.0000 - val_acc: 0.7468\n",
      "Epoch 47/50\n",
      "20/20 [==============================] - 0s 7ms/step - loss: 0.5644 - recall_1: 1.0000 - acc: 0.7500 - val_loss: 0.5673 - val_recall_1: 1.0000 - val_acc: 0.7468\n"
     ]
    },
    {
     "name": "stdout",
     "output_type": "stream",
     "text": [
      "Epoch 48/50\n",
      "20/20 [==============================] - 0s 5ms/step - loss: 0.5643 - recall_1: 1.0000 - acc: 0.7500 - val_loss: 0.5672 - val_recall_1: 1.0000 - val_acc: 0.7468\n",
      "Epoch 49/50\n",
      "20/20 [==============================] - 0s 8ms/step - loss: 0.5641 - recall_1: 1.0000 - acc: 0.7500 - val_loss: 0.5671 - val_recall_1: 1.0000 - val_acc: 0.7468\n",
      "Epoch 50/50\n",
      "20/20 [==============================] - 0s 5ms/step - loss: 0.5640 - recall_1: 1.0000 - acc: 0.7500 - val_loss: 0.5670 - val_recall_1: 1.0000 - val_acc: 0.7468\n"
     ]
    }
   ],
   "source": [
    "model2.compile(optimizer='sgd',\n",
    "              loss='binary_crossentropy',\n",
    "              metrics=[tf.keras.metrics.Recall(), 'acc'])\n",
    "\n",
    "results2 = model2.fit(X_train_img_final,\n",
    "                    y_train,\n",
    "                    callbacks=early_stopping,\n",
    "                    epochs=50,\n",
    "                    batch_size=32,\n",
    "                    validation_data=(X_val_img_final, y_val))"
   ]
  },
  {
   "cell_type": "code",
   "execution_count": 28,
   "metadata": {},
   "outputs": [
    {
     "data": {
      "image/png": "[encoded data removed]",
      "text/plain": [
       "<Figure size 432x288 with 1 Axes>"
      ]
     },
     "metadata": {
      "needs_background": "light"
     },
     "output_type": "display_data"
    }
   ],
   "source": [
    "visualize_results(results2)"
   ]
  },
  {
   "cell_type": "markdown",
   "metadata": {},
   "source": [
    "#### Variation in val_loss is still very high. Additionally, overfitting issue still hasn't been resolved. Will build a CNN, then attempt to control overfitting."
   ]
  },
  {
   "cell_type": "code",
   "execution_count": 29,
   "metadata": {},
   "outputs": [],
   "source": [
    "#CNN model\n",
    "np.random.seed(42)\n",
    "model3 = models.Sequential()\n",
    "model3.add(layers.Conv2D(32, (3,3), activation='softmax',\n",
    "                        input_shape=(64, 64, 1)))\n",
    "\n",
    "model3.add(layers.Flatten())\n",
    "model3.add(layers.Dense(64, activation='softmax'))\n",
    "model3.add(layers.Dense(42, activation='softmax'))\n",
    "model3.add(layers.Dense(21, activation='softmax'))\n",
    "model3.add(layers.Dense(1, activation='sigmoid'))"
   ]
  },
  {
   "cell_type": "code",
   "execution_count": 30,
   "metadata": {},
   "outputs": [
    {
     "name": "stdout",
     "output_type": "stream",
     "text": [
      "Model: \"sequential_2\"\n",
      "_________________________________________________________________\n",
      "Layer (type)                 Output Shape              Param #   \n",
      "=================================================================\n",
      "conv2d (Conv2D)              (None, 62, 62, 32)        320       \n",
      "_________________________________________________________________\n",
      "flatten (Flatten)            (None, 123008)            0         \n",
      "_________________________________________________________________\n",
      "dense_8 (Dense)              (None, 64)                7872576   \n",
      "_________________________________________________________________\n",
      "dense_9 (Dense)              (None, 42)                2730      \n",
      "_________________________________________________________________\n",
      "dense_10 (Dense)             (None, 21)                903       \n",
      "_________________________________________________________________\n",
      "dense_11 (Dense)             (None, 1)                 22        \n",
      "=================================================================\n",
      "Total params: 7,876,551\n",
      "Trainable params: 7,876,551\n",
      "Non-trainable params: 0\n",
      "_________________________________________________________________\n"
     ]
    }
   ],
   "source": [
    "model3.summary()"
   ]
  },
  {
   "cell_type": "code",
   "execution_count": 31,
   "metadata": {
    "scrolled": true
   },
   "outputs": [
    {
     "name": "stdout",
     "output_type": "stream",
     "text": [
      "Epoch 1/50\n",
      "20/20 [==============================] - 2s 98ms/step - loss: 0.6749 - recall_2: 1.0000 - acc: 0.7500 - val_loss: 0.6693 - val_recall_2: 1.0000 - val_acc: 0.7468\n",
      "Epoch 2/50\n",
      "20/20 [==============================] - 2s 87ms/step - loss: 0.6641 - recall_2: 1.0000 - acc: 0.7500 - val_loss: 0.6594 - val_recall_2: 1.0000 - val_acc: 0.7468\n",
      "Epoch 3/50\n",
      "20/20 [==============================] - 2s 84ms/step - loss: 0.6546 - recall_2: 1.0000 - acc: 0.7500 - val_loss: 0.6504 - val_recall_2: 1.0000 - val_acc: 0.7468\n",
      "Epoch 4/50\n",
      "20/20 [==============================] - 2s 85ms/step - loss: 0.6459 - recall_2: 1.0000 - acc: 0.7500 - val_loss: 0.6423 - val_recall_2: 1.0000 - val_acc: 0.7468\n",
      "Epoch 5/50\n",
      "20/20 [==============================] - 2s 84ms/step - loss: 0.6381 - recall_2: 1.0000 - acc: 0.7500 - val_loss: 0.6351 - val_recall_2: 1.0000 - val_acc: 0.7468\n",
      "Epoch 6/50\n",
      "20/20 [==============================] - 2s 83ms/step - loss: 0.6311 - recall_2: 1.0000 - acc: 0.7500 - val_loss: 0.6286 - val_recall_2: 1.0000 - val_acc: 0.7468\n",
      "Epoch 7/50\n",
      "20/20 [==============================] - 2s 83ms/step - loss: 0.6247 - recall_2: 1.0000 - acc: 0.7500 - val_loss: 0.6227 - val_recall_2: 1.0000 - val_acc: 0.7468\n",
      "Epoch 8/50\n",
      "20/20 [==============================] - 2s 82ms/step - loss: 0.6191 - recall_2: 1.0000 - acc: 0.7500 - val_loss: 0.6175 - val_recall_2: 1.0000 - val_acc: 0.7468\n",
      "Epoch 9/50\n",
      "20/20 [==============================] - 2s 84ms/step - loss: 0.6140 - recall_2: 1.0000 - acc: 0.7500 - val_loss: 0.6128 - val_recall_2: 1.0000 - val_acc: 0.7468\n",
      "Epoch 10/50\n",
      "20/20 [==============================] - 2s 83ms/step - loss: 0.6094 - recall_2: 1.0000 - acc: 0.7500 - val_loss: 0.6084 - val_recall_2: 1.0000 - val_acc: 0.7468\n",
      "Epoch 11/50\n",
      "20/20 [==============================] - 2s 84ms/step - loss: 0.6051 - recall_2: 1.0000 - acc: 0.7500 - val_loss: 0.6045 - val_recall_2: 1.0000 - val_acc: 0.7468\n",
      "Epoch 12/50\n",
      "20/20 [==============================] - 2s 83ms/step - loss: 0.6013 - recall_2: 1.0000 - acc: 0.7500 - val_loss: 0.6010 - val_recall_2: 1.0000 - val_acc: 0.7468\n",
      "Epoch 13/50\n",
      "20/20 [==============================] - 2s 82ms/step - loss: 0.5978 - recall_2: 1.0000 - acc: 0.7500 - val_loss: 0.5978 - val_recall_2: 1.0000 - val_acc: 0.7468\n",
      "Epoch 14/50\n",
      "20/20 [==============================] - 2s 82ms/step - loss: 0.5947 - recall_2: 1.0000 - acc: 0.7500 - val_loss: 0.5948 - val_recall_2: 1.0000 - val_acc: 0.7468\n",
      "Epoch 15/50\n",
      "20/20 [==============================] - 2s 84ms/step - loss: 0.5918 - recall_2: 1.0000 - acc: 0.7500 - val_loss: 0.5922 - val_recall_2: 1.0000 - val_acc: 0.7468\n",
      "Epoch 16/50\n",
      "20/20 [==============================] - 2s 83ms/step - loss: 0.5892 - recall_2: 1.0000 - acc: 0.7500 - val_loss: 0.5898 - val_recall_2: 1.0000 - val_acc: 0.7468\n",
      "Epoch 17/50\n",
      "20/20 [==============================] - 2s 82ms/step - loss: 0.5869 - recall_2: 1.0000 - acc: 0.7500 - val_loss: 0.5876 - val_recall_2: 1.0000 - val_acc: 0.7468\n",
      "Epoch 18/50\n",
      "20/20 [==============================] - 2s 83ms/step - loss: 0.5847 - recall_2: 1.0000 - acc: 0.7500 - val_loss: 0.5857 - val_recall_2: 1.0000 - val_acc: 0.7468\n",
      "Epoch 19/50\n",
      "20/20 [==============================] - 2s 83ms/step - loss: 0.5828 - recall_2: 1.0000 - acc: 0.7500 - val_loss: 0.5839 - val_recall_2: 1.0000 - val_acc: 0.7468\n",
      "Epoch 20/50\n",
      "20/20 [==============================] - 2s 83ms/step - loss: 0.5810 - recall_2: 1.0000 - acc: 0.7500 - val_loss: 0.5823 - val_recall_2: 1.0000 - val_acc: 0.7468\n",
      "Epoch 21/50\n",
      "20/20 [==============================] - 2s 82ms/step - loss: 0.5794 - recall_2: 1.0000 - acc: 0.7500 - val_loss: 0.5808 - val_recall_2: 1.0000 - val_acc: 0.7468\n",
      "Epoch 22/50\n",
      "20/20 [==============================] - 2s 83ms/step - loss: 0.5780 - recall_2: 1.0000 - acc: 0.7500 - val_loss: 0.5795 - val_recall_2: 1.0000 - val_acc: 0.7468\n",
      "Epoch 23/50\n",
      "20/20 [==============================] - 2s 81ms/step - loss: 0.5767 - recall_2: 1.0000 - acc: 0.7500 - val_loss: 0.5783 - val_recall_2: 1.0000 - val_acc: 0.7468\n",
      "Epoch 24/50\n",
      "20/20 [==============================] - 2s 83ms/step - loss: 0.5754 - recall_2: 1.0000 - acc: 0.7500 - val_loss: 0.5771 - val_recall_2: 1.0000 - val_acc: 0.7468\n",
      "Epoch 25/50\n",
      "20/20 [==============================] - 2s 82ms/step - loss: 0.5743 - recall_2: 1.0000 - acc: 0.7500 - val_loss: 0.5761 - val_recall_2: 1.0000 - val_acc: 0.7468\n",
      "Epoch 26/50\n",
      "20/20 [==============================] - 2s 81ms/step - loss: 0.5733 - recall_2: 1.0000 - acc: 0.7500 - val_loss: 0.5752 - val_recall_2: 1.0000 - val_acc: 0.7468\n",
      "Epoch 27/50\n",
      "20/20 [==============================] - 2s 82ms/step - loss: 0.5723 - recall_2: 1.0000 - acc: 0.7500 - val_loss: 0.5744 - val_recall_2: 1.0000 - val_acc: 0.7468\n",
      "Epoch 28/50\n",
      "20/20 [==============================] - 2s 82ms/step - loss: 0.5715 - recall_2: 1.0000 - acc: 0.7500 - val_loss: 0.5736 - val_recall_2: 1.0000 - val_acc: 0.7468\n",
      "Epoch 29/50\n",
      "20/20 [==============================] - 2s 81ms/step - loss: 0.5708 - recall_2: 1.0000 - acc: 0.7500 - val_loss: 0.5729 - val_recall_2: 1.0000 - val_acc: 0.7468\n",
      "Epoch 30/50\n",
      "20/20 [==============================] - 2s 83ms/step - loss: 0.5701 - recall_2: 1.0000 - acc: 0.7500 - val_loss: 0.5723 - val_recall_2: 1.0000 - val_acc: 0.7468\n",
      "Epoch 31/50\n",
      "20/20 [==============================] - 2s 85ms/step - loss: 0.5695 - recall_2: 1.0000 - acc: 0.7500 - val_loss: 0.5718 - val_recall_2: 1.0000 - val_acc: 0.7468\n",
      "Epoch 32/50\n",
      "20/20 [==============================] - 2s 83ms/step - loss: 0.5689 - recall_2: 1.0000 - acc: 0.7500 - val_loss: 0.5712 - val_recall_2: 1.0000 - val_acc: 0.7468\n",
      "Epoch 33/50\n",
      "20/20 [==============================] - 2s 85ms/step - loss: 0.5684 - recall_2: 1.0000 - acc: 0.7500 - val_loss: 0.5708 - val_recall_2: 1.0000 - val_acc: 0.7468\n",
      "Epoch 34/50\n",
      "20/20 [==============================] - 2s 85ms/step - loss: 0.5678 - recall_2: 1.0000 - acc: 0.7500 - val_loss: 0.5703 - val_recall_2: 1.0000 - val_acc: 0.7468\n",
      "Epoch 35/50\n",
      "20/20 [==============================] - 2s 91ms/step - loss: 0.5674 - recall_2: 1.0000 - acc: 0.7500 - val_loss: 0.5699 - val_recall_2: 1.0000 - val_acc: 0.7468\n",
      "Epoch 36/50\n",
      "20/20 [==============================] - 2s 85ms/step - loss: 0.5670 - recall_2: 1.0000 - acc: 0.7500 - val_loss: 0.5696 - val_recall_2: 1.0000 - val_acc: 0.7468\n",
      "Epoch 37/50\n",
      "20/20 [==============================] - 2s 83ms/step - loss: 0.5666 - recall_2: 1.0000 - acc: 0.7500 - val_loss: 0.5692 - val_recall_2: 1.0000 - val_acc: 0.7468\n",
      "Epoch 38/50\n",
      "20/20 [==============================] - 2s 83ms/step - loss: 0.5663 - recall_2: 1.0000 - acc: 0.7500 - val_loss: 0.5689 - val_recall_2: 1.0000 - val_acc: 0.7468\n",
      "Epoch 39/50\n",
      "20/20 [==============================] - 2s 86ms/step - loss: 0.5660 - recall_2: 1.0000 - acc: 0.7500 - val_loss: 0.5687 - val_recall_2: 1.0000 - val_acc: 0.7468\n",
      "Epoch 40/50\n",
      "20/20 [==============================] - 2s 83ms/step - loss: 0.5657 - recall_2: 1.0000 - acc: 0.7500 - val_loss: 0.5684 - val_recall_2: 1.0000 - val_acc: 0.7468\n",
      "Epoch 41/50\n",
      "20/20 [==============================] - 2s 84ms/step - loss: 0.5654 - recall_2: 1.0000 - acc: 0.7500 - val_loss: 0.5682 - val_recall_2: 1.0000 - val_acc: 0.7468\n",
      "Epoch 42/50\n",
      "20/20 [==============================] - 2s 83ms/step - loss: 0.5652 - recall_2: 1.0000 - acc: 0.7500 - val_loss: 0.5680 - val_recall_2: 1.0000 - val_acc: 0.7468\n",
      "Epoch 43/50\n",
      "20/20 [==============================] - 2s 84ms/step - loss: 0.5650 - recall_2: 1.0000 - acc: 0.7500 - val_loss: 0.5678 - val_recall_2: 1.0000 - val_acc: 0.7468\n",
      "Epoch 44/50\n",
      "20/20 [==============================] - 2s 83ms/step - loss: 0.5648 - recall_2: 1.0000 - acc: 0.7500 - val_loss: 0.5676 - val_recall_2: 1.0000 - val_acc: 0.7468\n",
      "Epoch 45/50\n",
      "20/20 [==============================] - 2s 83ms/step - loss: 0.5646 - recall_2: 1.0000 - acc: 0.7500 - val_loss: 0.5675 - val_recall_2: 1.0000 - val_acc: 0.7468\n",
      "Epoch 46/50\n",
      "20/20 [==============================] - 2s 84ms/step - loss: 0.5644 - recall_2: 1.0000 - acc: 0.7500 - val_loss: 0.5673 - val_recall_2: 1.0000 - val_acc: 0.7468\n",
      "Epoch 47/50\n",
      "20/20 [==============================] - 2s 83ms/step - loss: 0.5643 - recall_2: 1.0000 - acc: 0.7500 - val_loss: 0.5672 - val_recall_2: 1.0000 - val_acc: 0.7468\n",
      "Epoch 48/50\n"
     ]
    },
    {
     "name": "stdout",
     "output_type": "stream",
     "text": [
      "20/20 [==============================] - 2s 83ms/step - loss: 0.5641 - recall_2: 1.0000 - acc: 0.7500 - val_loss: 0.5671 - val_recall_2: 1.0000 - val_acc: 0.7468\n",
      "Epoch 49/50\n",
      "20/20 [==============================] - 2s 81ms/step - loss: 0.5640 - recall_2: 1.0000 - acc: 0.7500 - val_loss: 0.5670 - val_recall_2: 1.0000 - val_acc: 0.7468\n",
      "Epoch 50/50\n",
      "20/20 [==============================] - 2s 94ms/step - loss: 0.5638 - recall_2: 1.0000 - acc: 0.7500 - val_loss: 0.5669 - val_recall_2: 1.0000 - val_acc: 0.7468\n"
     ]
    }
   ],
   "source": [
    "model3.compile(optimizer='sgd',\n",
    "              loss='binary_crossentropy',\n",
    "              metrics=[tf.keras.metrics.Recall(), 'acc'])\n",
    "\n",
    "results3 = model3.fit(X_train,\n",
    "                    y_train,\n",
    "                    callbacks=early_stopping,\n",
    "                    epochs=50,\n",
    "                    batch_size=32,\n",
    "                    validation_data=(X_val, y_val))"
   ]
  },
  {
   "cell_type": "code",
   "execution_count": 32,
   "metadata": {},
   "outputs": [
    {
     "name": "stdout",
     "output_type": "stream",
     "text": [
      "20/20 [==============================] - 0s 18ms/step - loss: 0.5638 - recall_2: 1.0000 - acc: 0.7500\n"
     ]
    }
   ],
   "source": [
    "results_train4 = model3.evaluate(X_train, y_train)"
   ]
  },
  {
   "cell_type": "code",
   "execution_count": 33,
   "metadata": {},
   "outputs": [
    {
     "name": "stdout",
     "output_type": "stream",
     "text": [
      "5/5 [==============================] - 0s 15ms/step - loss: 0.5669 - recall_2: 1.0000 - acc: 0.7468\n"
     ]
    }
   ],
   "source": [
    "results_val4 = model3.evaluate(X_val, y_val)"
   ]
  },
  {
   "cell_type": "code",
   "execution_count": 34,
   "metadata": {
    "scrolled": false
   },
   "outputs": [
    {
     "data": {
      "image/png": "[encoded data removed]",
      "text/plain": [
       "<Figure size 432x288 with 1 Axes>"
      ]
     },
     "metadata": {
      "needs_background": "light"
     },
     "output_type": "display_data"
    }
   ],
   "source": [
    "visualize_results(results3)"
   ]
  },
  {
   "cell_type": "markdown",
   "metadata": {},
   "source": [
    "#### The accuracy of the model still hasn't changed. From here, we will attempt L1 and L2 regularization"
   ]
  },
  {
   "cell_type": "markdown",
   "metadata": {},
   "source": [
    "#### L2 regularization with model3 structure"
   ]
  },
  {
   "cell_type": "code",
   "execution_count": 35,
   "metadata": {},
   "outputs": [],
   "source": [
    "np.random.seed(42)\n",
    "\n",
    "\n",
    "lambda_coeff = 0.005\n",
    "\n",
    "model4 = models.Sequential()\n",
    "model4.add(layers.Conv2D(32, (3,3), activation='softmax',\n",
    "                        input_shape=(64, 64, 1)))\n",
    "\n",
    "model4.add(layers.Flatten())\n",
    "model4.add(layers.Dense(64, activation='softmax', kernel_regularizer=regularizers.l2(lambda_coeff)))\n",
    "model4.add(layers.Dense(42, activation='softmax', kernel_regularizer=regularizers.l2(lambda_coeff)))\n",
    "model4.add(layers.Dense(21, activation='softmax', kernel_regularizer=regularizers.l2(lambda_coeff)))\n",
    "model4.add(layers.Dense(1, activation='sigmoid'))"
   ]
  },
  {
   "cell_type": "code",
   "execution_count": 36,
   "metadata": {
    "scrolled": true
   },
   "outputs": [
    {
     "name": "stdout",
     "output_type": "stream",
     "text": [
      "Epoch 1/50\n",
      "20/20 [==============================] - 2s 120ms/step - loss: 1.7068 - recall_3: 1.0000 - acc: 0.7500 - val_loss: 1.6986 - val_recall_3: 1.0000 - val_acc: 0.7468\n",
      "Epoch 2/50\n",
      "20/20 [==============================] - 2s 106ms/step - loss: 1.6913 - recall_3: 1.0000 - acc: 0.7500 - val_loss: 1.6839 - val_recall_3: 1.0000 - val_acc: 0.7468\n",
      "Epoch 3/50\n",
      "20/20 [==============================] - 2s 107ms/step - loss: 1.6770 - recall_3: 1.0000 - acc: 0.7500 - val_loss: 1.6703 - val_recall_3: 1.0000 - val_acc: 0.7468\n",
      "Epoch 4/50\n",
      "20/20 [==============================] - 2s 104ms/step - loss: 1.6637 - recall_3: 1.0000 - acc: 0.7500 - val_loss: 1.6578 - val_recall_3: 1.0000 - val_acc: 0.7468\n",
      "Epoch 5/50\n",
      "20/20 [==============================] - 2s 105ms/step - loss: 1.6515 - recall_3: 1.0000 - acc: 0.7500 - val_loss: 1.6461 - val_recall_3: 1.0000 - val_acc: 0.7468\n",
      "Epoch 6/50\n",
      "20/20 [==============================] - 2s 105ms/step - loss: 1.6400 - recall_3: 1.0000 - acc: 0.7500 - val_loss: 1.6351 - val_recall_3: 1.0000 - val_acc: 0.7468\n",
      "Epoch 7/50\n",
      "20/20 [==============================] - 2s 106ms/step - loss: 1.6293 - recall_3: 1.0000 - acc: 0.7500 - val_loss: 1.6248 - val_recall_3: 1.0000 - val_acc: 0.7468\n",
      "Epoch 8/50\n",
      "20/20 [==============================] - 2s 105ms/step - loss: 1.6192 - recall_3: 1.0000 - acc: 0.7500 - val_loss: 1.6152 - val_recall_3: 1.0000 - val_acc: 0.7468\n",
      "Epoch 9/50\n",
      "20/20 [==============================] - 2s 105ms/step - loss: 1.6097 - recall_3: 1.0000 - acc: 0.7500 - val_loss: 1.6061 - val_recall_3: 1.0000 - val_acc: 0.7468\n",
      "Epoch 10/50\n",
      "20/20 [==============================] - 2s 105ms/step - loss: 1.6008 - recall_3: 1.0000 - acc: 0.7500 - val_loss: 1.5976 - val_recall_3: 1.0000 - val_acc: 0.7468\n",
      "Epoch 11/50\n",
      "20/20 [==============================] - 2s 104ms/step - loss: 1.5924 - recall_3: 1.0000 - acc: 0.7500 - val_loss: 1.5895 - val_recall_3: 1.0000 - val_acc: 0.7468\n",
      "Epoch 12/50\n",
      "20/20 [==============================] - 2s 105ms/step - loss: 1.5844 - recall_3: 1.0000 - acc: 0.7500 - val_loss: 1.5817 - val_recall_3: 1.0000 - val_acc: 0.7468\n",
      "Epoch 13/50\n",
      "20/20 [==============================] - 2s 106ms/step - loss: 1.5767 - recall_3: 1.0000 - acc: 0.7500 - val_loss: 1.5744 - val_recall_3: 1.0000 - val_acc: 0.7468\n",
      "Epoch 14/50\n",
      "20/20 [==============================] - 2s 105ms/step - loss: 1.5695 - recall_3: 1.0000 - acc: 0.7500 - val_loss: 1.5674 - val_recall_3: 1.0000 - val_acc: 0.7468\n",
      "Epoch 15/50\n",
      "20/20 [==============================] - 2s 106ms/step - loss: 1.5626 - recall_3: 1.0000 - acc: 0.7500 - val_loss: 1.5608 - val_recall_3: 1.0000 - val_acc: 0.7468\n",
      "Epoch 16/50\n",
      "20/20 [==============================] - 2s 106ms/step - loss: 1.5560 - recall_3: 1.0000 - acc: 0.7500 - val_loss: 1.5543 - val_recall_3: 1.0000 - val_acc: 0.7468\n",
      "Epoch 17/50\n",
      "20/20 [==============================] - 2s 106ms/step - loss: 1.5496 - recall_3: 1.0000 - acc: 0.7500 - val_loss: 1.5482 - val_recall_3: 1.0000 - val_acc: 0.7468\n",
      "Epoch 18/50\n",
      "20/20 [==============================] - 2s 109ms/step - loss: 1.5435 - recall_3: 1.0000 - acc: 0.7500 - val_loss: 1.5423 - val_recall_3: 1.0000 - val_acc: 0.7468\n",
      "Epoch 19/50\n",
      "20/20 [==============================] - 2s 105ms/step - loss: 1.5376 - recall_3: 1.0000 - acc: 0.7500 - val_loss: 1.5366 - val_recall_3: 1.0000 - val_acc: 0.7468\n",
      "Epoch 20/50\n",
      "20/20 [==============================] - 2s 106ms/step - loss: 1.5319 - recall_3: 1.0000 - acc: 0.7500 - val_loss: 1.5311 - val_recall_3: 1.0000 - val_acc: 0.7468\n",
      "Epoch 21/50\n",
      "20/20 [==============================] - 2s 105ms/step - loss: 1.5265 - recall_3: 1.0000 - acc: 0.7500 - val_loss: 1.5258 - val_recall_3: 1.0000 - val_acc: 0.7468\n",
      "Epoch 22/50\n",
      "20/20 [==============================] - 2s 105ms/step - loss: 1.5212 - recall_3: 1.0000 - acc: 0.7500 - val_loss: 1.5206 - val_recall_3: 1.0000 - val_acc: 0.7468\n",
      "Epoch 23/50\n",
      "20/20 [==============================] - 2s 112ms/step - loss: 1.5160 - recall_3: 1.0000 - acc: 0.7500 - val_loss: 1.5156 - val_recall_3: 1.0000 - val_acc: 0.7468\n",
      "Epoch 24/50\n",
      "20/20 [==============================] - 2s 120ms/step - loss: 1.5110 - recall_3: 1.0000 - acc: 0.7500 - val_loss: 1.5106 - val_recall_3: 1.0000 - val_acc: 0.7468\n",
      "Epoch 25/50\n",
      "20/20 [==============================] - 2s 120ms/step - loss: 1.5061 - recall_3: 1.0000 - acc: 0.7500 - val_loss: 1.5059 - val_recall_3: 1.0000 - val_acc: 0.7468\n",
      "Epoch 26/50\n",
      "20/20 [==============================] - 2s 102ms/step - loss: 1.5013 - recall_3: 1.0000 - acc: 0.7500 - val_loss: 1.5012 - val_recall_3: 1.0000 - val_acc: 0.7468\n",
      "Epoch 27/50\n",
      "20/20 [==============================] - 2s 109ms/step - loss: 1.4967 - recall_3: 1.0000 - acc: 0.7500 - val_loss: 1.4967 - val_recall_3: 1.0000 - val_acc: 0.7468\n",
      "Epoch 28/50\n",
      "20/20 [==============================] - 2s 122ms/step - loss: 1.4921 - recall_3: 1.0000 - acc: 0.7500 - val_loss: 1.4922 - val_recall_3: 1.0000 - val_acc: 0.7468\n",
      "Epoch 29/50\n",
      "20/20 [==============================] - 2s 112ms/step - loss: 1.4877 - recall_3: 1.0000 - acc: 0.7500 - val_loss: 1.4878 - val_recall_3: 1.0000 - val_acc: 0.7468\n",
      "Epoch 30/50\n",
      "20/20 [==============================] - 2s 124ms/step - loss: 1.4833 - recall_3: 1.0000 - acc: 0.7500 - val_loss: 1.4835 - val_recall_3: 1.0000 - val_acc: 0.7468\n",
      "Epoch 31/50\n",
      "20/20 [==============================] - 2s 107ms/step - loss: 1.4790 - recall_3: 1.0000 - acc: 0.7500 - val_loss: 1.4793 - val_recall_3: 1.0000 - val_acc: 0.7468\n",
      "Epoch 32/50\n",
      "20/20 [==============================] - 2s 115ms/step - loss: 1.4747 - recall_3: 1.0000 - acc: 0.7500 - val_loss: 1.4751 - val_recall_3: 1.0000 - val_acc: 0.7468\n",
      "Epoch 33/50\n",
      "20/20 [==============================] - 2s 110ms/step - loss: 1.4705 - recall_3: 1.0000 - acc: 0.7500 - val_loss: 1.4710 - val_recall_3: 1.0000 - val_acc: 0.7468\n",
      "Epoch 34/50\n",
      "20/20 [==============================] - 2s 109ms/step - loss: 1.4664 - recall_3: 1.0000 - acc: 0.7500 - val_loss: 1.4669 - val_recall_3: 1.0000 - val_acc: 0.7468\n",
      "Epoch 35/50\n",
      "20/20 [==============================] - 2s 113ms/step - loss: 1.4623 - recall_3: 1.0000 - acc: 0.7500 - val_loss: 1.4629 - val_recall_3: 1.0000 - val_acc: 0.7468\n",
      "Epoch 36/50\n",
      "20/20 [==============================] - 2s 111ms/step - loss: 1.4583 - recall_3: 1.0000 - acc: 0.7500 - val_loss: 1.4590 - val_recall_3: 1.0000 - val_acc: 0.7468\n",
      "Epoch 37/50\n",
      "20/20 [==============================] - 2s 113ms/step - loss: 1.4544 - recall_3: 1.0000 - acc: 0.7500 - val_loss: 1.4551 - val_recall_3: 1.0000 - val_acc: 0.7468\n",
      "Epoch 38/50\n",
      "20/20 [==============================] - 2s 111ms/step - loss: 1.4505 - recall_3: 1.0000 - acc: 0.7500 - val_loss: 1.4512 - val_recall_3: 1.0000 - val_acc: 0.7468\n",
      "Epoch 39/50\n",
      "20/20 [==============================] - 2s 108ms/step - loss: 1.4466 - recall_3: 1.0000 - acc: 0.7500 - val_loss: 1.4474 - val_recall_3: 1.0000 - val_acc: 0.7468\n",
      "Epoch 40/50\n",
      "20/20 [==============================] - 2s 110ms/step - loss: 1.4428 - recall_3: 1.0000 - acc: 0.7500 - val_loss: 1.4436 - val_recall_3: 1.0000 - val_acc: 0.7468\n",
      "Epoch 41/50\n",
      "20/20 [==============================] - 2s 107ms/step - loss: 1.4390 - recall_3: 1.0000 - acc: 0.7500 - val_loss: 1.4399 - val_recall_3: 1.0000 - val_acc: 0.7468\n",
      "Epoch 42/50\n",
      "20/20 [==============================] - 2s 107ms/step - loss: 1.4353 - recall_3: 1.0000 - acc: 0.7500 - val_loss: 1.4362 - val_recall_3: 1.0000 - val_acc: 0.7468\n",
      "Epoch 43/50\n",
      "20/20 [==============================] - 2s 106ms/step - loss: 1.4315 - recall_3: 1.0000 - acc: 0.7500 - val_loss: 1.4325 - val_recall_3: 1.0000 - val_acc: 0.7468\n",
      "Epoch 44/50\n",
      "20/20 [==============================] - 2s 108ms/step - loss: 1.4279 - recall_3: 1.0000 - acc: 0.7500 - val_loss: 1.4289 - val_recall_3: 1.0000 - val_acc: 0.7468\n",
      "Epoch 45/50\n",
      "20/20 [==============================] - 2s 108ms/step - loss: 1.4242 - recall_3: 1.0000 - acc: 0.7500 - val_loss: 1.4253 - val_recall_3: 1.0000 - val_acc: 0.7468\n",
      "Epoch 46/50\n",
      "20/20 [==============================] - 2s 106ms/step - loss: 1.4206 - recall_3: 1.0000 - acc: 0.7500 - val_loss: 1.4217 - val_recall_3: 1.0000 - val_acc: 0.7468\n",
      "Epoch 47/50\n",
      "20/20 [==============================] - 2s 110ms/step - loss: 1.4170 - recall_3: 1.0000 - acc: 0.7500 - val_loss: 1.4181 - val_recall_3: 1.0000 - val_acc: 0.7468\n"
     ]
    },
    {
     "name": "stdout",
     "output_type": "stream",
     "text": [
      "Epoch 48/50\n",
      "20/20 [==============================] - 2s 104ms/step - loss: 1.4135 - recall_3: 1.0000 - acc: 0.7500 - val_loss: 1.4146 - val_recall_3: 1.0000 - val_acc: 0.7468\n",
      "Epoch 49/50\n",
      "20/20 [==============================] - 2s 104ms/step - loss: 1.4099 - recall_3: 1.0000 - acc: 0.7500 - val_loss: 1.4111 - val_recall_3: 1.0000 - val_acc: 0.7468\n",
      "Epoch 50/50\n",
      "20/20 [==============================] - 2s 104ms/step - loss: 1.4064 - recall_3: 1.0000 - acc: 0.7500 - val_loss: 1.4076 - val_recall_3: 1.0000 - val_acc: 0.7468\n"
     ]
    }
   ],
   "source": [
    "model4.compile(optimizer='sgd',\n",
    "              loss='binary_crossentropy',\n",
    "              metrics=[tf.keras.metrics.Recall(), 'acc'])\n",
    "\n",
    "results4 = model4.fit(X_train, \n",
    "                    y_train,\n",
    "                    callbacks=early_stopping,\n",
    "                    epochs=50,\n",
    "                    batch_size=32,\n",
    "                    validation_data=(X_val, y_val))"
   ]
  },
  {
   "cell_type": "code",
   "execution_count": 37,
   "metadata": {},
   "outputs": [
    {
     "name": "stdout",
     "output_type": "stream",
     "text": [
      "20/20 [==============================] - 0s 23ms/step - loss: 1.4046 - recall_3: 1.0000 - acc: 0.7500\n"
     ]
    }
   ],
   "source": [
    "results_train4 = model4.evaluate(X_train, y_train)"
   ]
  },
  {
   "cell_type": "code",
   "execution_count": 38,
   "metadata": {},
   "outputs": [
    {
     "name": "stdout",
     "output_type": "stream",
     "text": [
      "5/5 [==============================] - 0s 21ms/step - loss: 1.4076 - recall_3: 1.0000 - acc: 0.7468\n"
     ]
    }
   ],
   "source": [
    "results_val4 = model4.evaluate(X_val, y_val)"
   ]
  },
  {
   "cell_type": "code",
   "execution_count": 39,
   "metadata": {},
   "outputs": [
    {
     "data": {
      "image/png": "[encoded data removed]",
      "text/plain": [
       "<Figure size 432x288 with 1 Axes>"
      ]
     },
     "metadata": {
      "needs_background": "light"
     },
     "output_type": "display_data"
    }
   ],
   "source": [
    "visualize_results(results4)"
   ]
  },
  {
   "cell_type": "markdown",
   "metadata": {},
   "source": [
    "#### Insight: despite the curves converging in an ideal manner, the accuracy and recall values are still incorrect for our purposes. We will attempt to use padding in the convolutional layer, and reduce the complexity of the model to improve these values."
   ]
  },
  {
   "cell_type": "code",
   "execution_count": 40,
   "metadata": {},
   "outputs": [],
   "source": [
    "#reducing layers and nodes within layers\n",
    "np.random.seed(42)\n",
    "\n",
    "lambda_coeff = 0.005\n",
    "\n",
    "model5 = models.Sequential()\n",
    "model5.add(layers.Conv2D(32, (3,3), activation='softmax',\n",
    "                        input_shape=(64, 64, 1), padding='same'))\n",
    "\n",
    "model5.add(layers.Flatten())\n",
    "model5.add(layers.Dense(16, activation='softmax', kernel_regularizer=regularizers.l2(lambda_coeff)))\n",
    "model5.add(layers.Dense(8, activation='softmax', kernel_regularizer=regularizers.l2(lambda_coeff)))\n",
    "\n",
    "model5.add(layers.Dense(1, activation='sigmoid'))"
   ]
  },
  {
   "cell_type": "code",
   "execution_count": 41,
   "metadata": {
    "scrolled": true
   },
   "outputs": [
    {
     "name": "stdout",
     "output_type": "stream",
     "text": [
      "Epoch 1/50\n",
      "20/20 [==============================] - 2s 89ms/step - loss: 0.8884 - recall_4: 1.0000 - acc: 0.7500 - val_loss: 0.8786 - val_recall_4: 1.0000 - val_acc: 0.7468\n",
      "Epoch 2/50\n",
      "20/20 [==============================] - 2s 76ms/step - loss: 0.8683 - recall_4: 1.0000 - acc: 0.7500 - val_loss: 0.8561 - val_recall_4: 1.0000 - val_acc: 0.7468\n",
      "Epoch 3/50\n",
      "20/20 [==============================] - 2s 76ms/step - loss: 0.8484 - recall_4: 1.0000 - acc: 0.7500 - val_loss: 0.8427 - val_recall_4: 1.0000 - val_acc: 0.7468\n",
      "Epoch 4/50\n",
      "20/20 [==============================] - 2s 76ms/step - loss: 0.8377 - recall_4: 1.0000 - acc: 0.7500 - val_loss: 0.8342 - val_recall_4: 1.0000 - val_acc: 0.7468\n",
      "Epoch 5/50\n",
      "20/20 [==============================] - 2s 76ms/step - loss: 0.8297 - recall_4: 1.0000 - acc: 0.7500 - val_loss: 0.8269 - val_recall_4: 1.0000 - val_acc: 0.7468\n",
      "Epoch 6/50\n",
      "20/20 [==============================] - 2s 76ms/step - loss: 0.8226 - recall_4: 1.0000 - acc: 0.7500 - val_loss: 0.8203 - val_recall_4: 1.0000 - val_acc: 0.7468\n",
      "Epoch 7/50\n",
      "20/20 [==============================] - 2s 77ms/step - loss: 0.8162 - recall_4: 1.0000 - acc: 0.7500 - val_loss: 0.8145 - val_recall_4: 1.0000 - val_acc: 0.7468\n",
      "Epoch 8/50\n",
      "20/20 [==============================] - 2s 77ms/step - loss: 0.8106 - recall_4: 1.0000 - acc: 0.7500 - val_loss: 0.8092 - val_recall_4: 1.0000 - val_acc: 0.7468\n",
      "Epoch 9/50\n",
      "20/20 [==============================] - 2s 76ms/step - loss: 0.8055 - recall_4: 1.0000 - acc: 0.7500 - val_loss: 0.8044 - val_recall_4: 1.0000 - val_acc: 0.7468\n",
      "Epoch 10/50\n",
      "20/20 [==============================] - 2s 76ms/step - loss: 0.8008 - recall_4: 1.0000 - acc: 0.7500 - val_loss: 0.8001 - val_recall_4: 1.0000 - val_acc: 0.7468\n",
      "Epoch 11/50\n",
      "20/20 [==============================] - 2s 76ms/step - loss: 0.7965 - recall_4: 1.0000 - acc: 0.7500 - val_loss: 0.7962 - val_recall_4: 1.0000 - val_acc: 0.7468\n",
      "Epoch 12/50\n",
      "20/20 [==============================] - 2s 77ms/step - loss: 0.7927 - recall_4: 1.0000 - acc: 0.7500 - val_loss: 0.7926 - val_recall_4: 1.0000 - val_acc: 0.7468\n",
      "Epoch 13/50\n",
      "20/20 [==============================] - 2s 76ms/step - loss: 0.7892 - recall_4: 1.0000 - acc: 0.7500 - val_loss: 0.7894 - val_recall_4: 1.0000 - val_acc: 0.7468\n",
      "Epoch 14/50\n",
      "20/20 [==============================] - 2s 76ms/step - loss: 0.7860 - recall_4: 1.0000 - acc: 0.7500 - val_loss: 0.7864 - val_recall_4: 1.0000 - val_acc: 0.7468\n",
      "Epoch 15/50\n",
      "20/20 [==============================] - 2s 77ms/step - loss: 0.7831 - recall_4: 1.0000 - acc: 0.7500 - val_loss: 0.7836 - val_recall_4: 1.0000 - val_acc: 0.7468\n",
      "Epoch 16/50\n",
      "20/20 [==============================] - 2s 75ms/step - loss: 0.7803 - recall_4: 1.0000 - acc: 0.7500 - val_loss: 0.7810 - val_recall_4: 1.0000 - val_acc: 0.7468\n",
      "Epoch 17/50\n",
      "20/20 [==============================] - 2s 77ms/step - loss: 0.7778 - recall_4: 1.0000 - acc: 0.7500 - val_loss: 0.7786 - val_recall_4: 1.0000 - val_acc: 0.7468\n",
      "Epoch 18/50\n",
      "20/20 [==============================] - 2s 76ms/step - loss: 0.7754 - recall_4: 1.0000 - acc: 0.7500 - val_loss: 0.7764 - val_recall_4: 1.0000 - val_acc: 0.7468\n",
      "Epoch 19/50\n",
      "20/20 [==============================] - 2s 77ms/step - loss: 0.7732 - recall_4: 1.0000 - acc: 0.7500 - val_loss: 0.7743 - val_recall_4: 1.0000 - val_acc: 0.7468\n",
      "Epoch 20/50\n",
      "20/20 [==============================] - 2s 76ms/step - loss: 0.7711 - recall_4: 1.0000 - acc: 0.7500 - val_loss: 0.7724 - val_recall_4: 1.0000 - val_acc: 0.7468\n",
      "Epoch 21/50\n",
      "20/20 [==============================] - 2s 77ms/step - loss: 0.7692 - recall_4: 1.0000 - acc: 0.7500 - val_loss: 0.7706 - val_recall_4: 1.0000 - val_acc: 0.7468\n",
      "Epoch 22/50\n",
      "20/20 [==============================] - 2s 76ms/step - loss: 0.7674 - recall_4: 1.0000 - acc: 0.7500 - val_loss: 0.7689 - val_recall_4: 1.0000 - val_acc: 0.7468\n",
      "Epoch 23/50\n",
      "20/20 [==============================] - 2s 76ms/step - loss: 0.7657 - recall_4: 1.0000 - acc: 0.7500 - val_loss: 0.7673 - val_recall_4: 1.0000 - val_acc: 0.7468\n",
      "Epoch 24/50\n",
      "20/20 [==============================] - 2s 76ms/step - loss: 0.7641 - recall_4: 1.0000 - acc: 0.7500 - val_loss: 0.7658 - val_recall_4: 1.0000 - val_acc: 0.7468\n",
      "Epoch 25/50\n",
      "20/20 [==============================] - 2s 77ms/step - loss: 0.7626 - recall_4: 1.0000 - acc: 0.7500 - val_loss: 0.7644 - val_recall_4: 1.0000 - val_acc: 0.7468\n",
      "Epoch 26/50\n",
      "20/20 [==============================] - 2s 77ms/step - loss: 0.7612 - recall_4: 1.0000 - acc: 0.7500 - val_loss: 0.7631 - val_recall_4: 1.0000 - val_acc: 0.7468\n",
      "Epoch 27/50\n",
      "20/20 [==============================] - 2s 77ms/step - loss: 0.7598 - recall_4: 1.0000 - acc: 0.7500 - val_loss: 0.7618 - val_recall_4: 1.0000 - val_acc: 0.7468\n",
      "Epoch 28/50\n",
      "20/20 [==============================] - 2s 76ms/step - loss: 0.7585 - recall_4: 1.0000 - acc: 0.7500 - val_loss: 0.7605 - val_recall_4: 1.0000 - val_acc: 0.7468\n",
      "Epoch 29/50\n",
      "20/20 [==============================] - 2s 76ms/step - loss: 0.7573 - recall_4: 1.0000 - acc: 0.7500 - val_loss: 0.7593 - val_recall_4: 1.0000 - val_acc: 0.7468\n",
      "Epoch 30/50\n",
      "20/20 [==============================] - 2s 77ms/step - loss: 0.7561 - recall_4: 1.0000 - acc: 0.7500 - val_loss: 0.7582 - val_recall_4: 1.0000 - val_acc: 0.7468\n",
      "Epoch 31/50\n",
      "20/20 [==============================] - 2s 77ms/step - loss: 0.7549 - recall_4: 1.0000 - acc: 0.7500 - val_loss: 0.7571 - val_recall_4: 1.0000 - val_acc: 0.7468\n",
      "Epoch 32/50\n",
      "20/20 [==============================] - 2s 77ms/step - loss: 0.7538 - recall_4: 1.0000 - acc: 0.7500 - val_loss: 0.7560 - val_recall_4: 1.0000 - val_acc: 0.7468\n",
      "Epoch 33/50\n",
      "20/20 [==============================] - 2s 76ms/step - loss: 0.7527 - recall_4: 1.0000 - acc: 0.7500 - val_loss: 0.7550 - val_recall_4: 1.0000 - val_acc: 0.7468\n",
      "Epoch 34/50\n",
      "20/20 [==============================] - 2s 78ms/step - loss: 0.7517 - recall_4: 1.0000 - acc: 0.7500 - val_loss: 0.7540 - val_recall_4: 1.0000 - val_acc: 0.7468\n",
      "Epoch 35/50\n",
      "20/20 [==============================] - 2s 76ms/step - loss: 0.7507 - recall_4: 1.0000 - acc: 0.7500 - val_loss: 0.7530 - val_recall_4: 1.0000 - val_acc: 0.7468\n",
      "Epoch 36/50\n",
      "20/20 [==============================] - 2s 76ms/step - loss: 0.7497 - recall_4: 1.0000 - acc: 0.7500 - val_loss: 0.7521 - val_recall_4: 1.0000 - val_acc: 0.7468\n",
      "Epoch 37/50\n",
      "20/20 [==============================] - 2s 76ms/step - loss: 0.7487 - recall_4: 1.0000 - acc: 0.7500 - val_loss: 0.7512 - val_recall_4: 1.0000 - val_acc: 0.7468\n",
      "Epoch 38/50\n",
      "20/20 [==============================] - 2s 76ms/step - loss: 0.7478 - recall_4: 1.0000 - acc: 0.7500 - val_loss: 0.7503 - val_recall_4: 1.0000 - val_acc: 0.7468\n",
      "Epoch 39/50\n",
      "20/20 [==============================] - 2s 76ms/step - loss: 0.7469 - recall_4: 1.0000 - acc: 0.7500 - val_loss: 0.7494 - val_recall_4: 1.0000 - val_acc: 0.7468\n",
      "Epoch 40/50\n",
      "20/20 [==============================] - 2s 76ms/step - loss: 0.7460 - recall_4: 1.0000 - acc: 0.7500 - val_loss: 0.7485 - val_recall_4: 1.0000 - val_acc: 0.7468\n",
      "Epoch 41/50\n",
      "20/20 [==============================] - 2s 76ms/step - loss: 0.7451 - recall_4: 1.0000 - acc: 0.7500 - val_loss: 0.7477 - val_recall_4: 1.0000 - val_acc: 0.7468\n",
      "Epoch 42/50\n",
      "20/20 [==============================] - 2s 76ms/step - loss: 0.7443 - recall_4: 1.0000 - acc: 0.7500 - val_loss: 0.7468 - val_recall_4: 1.0000 - val_acc: 0.7468\n",
      "Epoch 43/50\n",
      "20/20 [==============================] - 2s 76ms/step - loss: 0.7434 - recall_4: 1.0000 - acc: 0.7500 - val_loss: 0.7460 - val_recall_4: 1.0000 - val_acc: 0.7468\n",
      "Epoch 44/50\n",
      "20/20 [==============================] - 2s 76ms/step - loss: 0.7426 - recall_4: 1.0000 - acc: 0.7500 - val_loss: 0.7452 - val_recall_4: 1.0000 - val_acc: 0.7468\n",
      "Epoch 45/50\n",
      "20/20 [==============================] - 2s 76ms/step - loss: 0.7418 - recall_4: 1.0000 - acc: 0.7500 - val_loss: 0.7444 - val_recall_4: 1.0000 - val_acc: 0.7468\n",
      "Epoch 46/50\n",
      "20/20 [==============================] - 2s 76ms/step - loss: 0.7410 - recall_4: 1.0000 - acc: 0.7500 - val_loss: 0.7436 - val_recall_4: 1.0000 - val_acc: 0.7468\n",
      "Epoch 47/50\n",
      "20/20 [==============================] - 2s 76ms/step - loss: 0.7402 - recall_4: 1.0000 - acc: 0.7500 - val_loss: 0.7428 - val_recall_4: 1.0000 - val_acc: 0.7468\n",
      "Epoch 48/50\n"
     ]
    },
    {
     "name": "stdout",
     "output_type": "stream",
     "text": [
      "20/20 [==============================] - 2s 75ms/step - loss: 0.7394 - recall_4: 1.0000 - acc: 0.7500 - val_loss: 0.7420 - val_recall_4: 1.0000 - val_acc: 0.7468\n",
      "Epoch 49/50\n",
      "20/20 [==============================] - 2s 76ms/step - loss: 0.7386 - recall_4: 1.0000 - acc: 0.7500 - val_loss: 0.7413 - val_recall_4: 1.0000 - val_acc: 0.7468\n",
      "Epoch 50/50\n",
      "20/20 [==============================] - 2s 75ms/step - loss: 0.7378 - recall_4: 1.0000 - acc: 0.7500 - val_loss: 0.7405 - val_recall_4: 1.0000 - val_acc: 0.7468\n"
     ]
    }
   ],
   "source": [
    "model5.compile(optimizer='sgd',\n",
    "              loss='binary_crossentropy',\n",
    "              metrics=[tf.keras.metrics.Recall(), 'acc'])\n",
    "\n",
    "results5 = model5.fit(X_train, \n",
    "                    y_train,\n",
    "                    callbacks=early_stopping,\n",
    "                    epochs=50,\n",
    "                    batch_size=32,\n",
    "                    validation_data=(X_val, y_val))"
   ]
  },
  {
   "cell_type": "code",
   "execution_count": 42,
   "metadata": {},
   "outputs": [
    {
     "data": {
      "image/png": "[encoded data removed]",
      "text/plain": [
       "<Figure size 432x288 with 1 Axes>"
      ]
     },
     "metadata": {
      "needs_background": "light"
     },
     "output_type": "display_data"
    }
   ],
   "source": [
    "visualize_results(results5)"
   ]
  },
  {
   "cell_type": "code",
   "execution_count": 43,
   "metadata": {},
   "outputs": [
    {
     "name": "stdout",
     "output_type": "stream",
     "text": [
      "Model: \"sequential_4\"\n",
      "_________________________________________________________________\n",
      "Layer (type)                 Output Shape              Param #   \n",
      "=================================================================\n",
      "conv2d_2 (Conv2D)            (None, 64, 64, 32)        320       \n",
      "_________________________________________________________________\n",
      "flatten_2 (Flatten)          (None, 131072)            0         \n",
      "_________________________________________________________________\n",
      "dense_16 (Dense)             (None, 16)                2097168   \n",
      "_________________________________________________________________\n",
      "dense_17 (Dense)             (None, 8)                 136       \n",
      "_________________________________________________________________\n",
      "dense_18 (Dense)             (None, 1)                 9         \n",
      "=================================================================\n",
      "Total params: 2,097,633\n",
      "Trainable params: 2,097,633\n",
      "Non-trainable params: 0\n",
      "_________________________________________________________________\n"
     ]
    }
   ],
   "source": [
    "model5.summary()"
   ]
  },
  {
   "cell_type": "markdown",
   "metadata": {},
   "source": [
    "#### The model fails to improve. Will dropout regularization improve the metrics?"
   ]
  },
  {
   "cell_type": "code",
   "execution_count": 44,
   "metadata": {},
   "outputs": [],
   "source": [
    "np.random.seed(42)\n",
    "\n",
    "model6 = models.Sequential()\n",
    "model6.add(layers.Conv2D(32, (3,3), activation='softmax',\n",
    "                        input_shape=(64, 64, 1)))\n",
    "\n",
    "model6.add(layers.Flatten())\n",
    "model6.add(layers.Dense(16, activation='softmax', kernel_regularizer=regularizers.l2(lambda_coeff)))\n",
    "model6.add(layers.Dropout(0.3))\n",
    "model6.add(layers.Dense(8, activation='softmax', kernel_regularizer=regularizers.l2(lambda_coeff)))\n",
    "model6.add(layers.Dropout(0.3))\n",
    "model6.add(layers.Dense(1, activation='sigmoid'))"
   ]
  },
  {
   "cell_type": "code",
   "execution_count": 45,
   "metadata": {
    "scrolled": true
   },
   "outputs": [
    {
     "name": "stdout",
     "output_type": "stream",
     "text": [
      "Epoch 1/50\n",
      "20/20 [==============================] - 2s 84ms/step - loss: 0.9501 - recall_5: 0.0527 - acc: 0.2816 - val_loss: 0.9383 - val_recall_5: 0.0000e+00 - val_acc: 0.2532\n",
      "Epoch 2/50\n",
      "20/20 [==============================] - 1s 71ms/step - loss: 0.9317 - recall_5: 0.2089 - acc: 0.3386 - val_loss: 0.9157 - val_recall_5: 0.0000e+00 - val_acc: 0.2532\n",
      "Epoch 3/50\n",
      "20/20 [==============================] - 1s 72ms/step - loss: 0.9097 - recall_5: 0.4177 - acc: 0.4446 - val_loss: 0.8963 - val_recall_5: 1.0000 - val_acc: 0.7468\n",
      "Epoch 4/50\n",
      "20/20 [==============================] - 1s 71ms/step - loss: 0.8852 - recall_5: 0.6772 - acc: 0.6171 - val_loss: 0.8806 - val_recall_5: 1.0000 - val_acc: 0.7468\n",
      "Epoch 5/50\n",
      "20/20 [==============================] - 1s 71ms/step - loss: 0.8764 - recall_5: 0.7932 - acc: 0.6519 - val_loss: 0.8674 - val_recall_5: 1.0000 - val_acc: 0.7468\n",
      "Epoch 6/50\n",
      "20/20 [==============================] - 1s 72ms/step - loss: 0.8662 - recall_5: 0.8629 - acc: 0.6820 - val_loss: 0.8559 - val_recall_5: 1.0000 - val_acc: 0.7468\n",
      "Epoch 7/50\n",
      "20/20 [==============================] - 1s 71ms/step - loss: 0.8543 - recall_5: 0.9557 - acc: 0.7278 - val_loss: 0.8459 - val_recall_5: 1.0000 - val_acc: 0.7468\n",
      "Epoch 8/50\n",
      "20/20 [==============================] - 1s 71ms/step - loss: 0.8415 - recall_5: 0.9810 - acc: 0.7437 - val_loss: 0.8369 - val_recall_5: 1.0000 - val_acc: 0.7468\n",
      "Epoch 9/50\n",
      "20/20 [==============================] - 1s 71ms/step - loss: 0.8386 - recall_5: 0.9958 - acc: 0.7468 - val_loss: 0.8288 - val_recall_5: 1.0000 - val_acc: 0.7468\n",
      "Epoch 10/50\n",
      "20/20 [==============================] - 1s 71ms/step - loss: 0.8289 - recall_5: 1.0000 - acc: 0.7500 - val_loss: 0.8215 - val_recall_5: 1.0000 - val_acc: 0.7468\n",
      "Epoch 11/50\n",
      "20/20 [==============================] - 1s 71ms/step - loss: 0.8209 - recall_5: 1.0000 - acc: 0.7500 - val_loss: 0.8150 - val_recall_5: 1.0000 - val_acc: 0.7468\n",
      "Epoch 12/50\n",
      "20/20 [==============================] - 1s 72ms/step - loss: 0.8152 - recall_5: 1.0000 - acc: 0.7500 - val_loss: 0.8091 - val_recall_5: 1.0000 - val_acc: 0.7468\n",
      "Epoch 13/50\n",
      "20/20 [==============================] - 1s 71ms/step - loss: 0.8055 - recall_5: 1.0000 - acc: 0.7500 - val_loss: 0.8038 - val_recall_5: 1.0000 - val_acc: 0.7468\n",
      "Epoch 14/50\n",
      "20/20 [==============================] - 1s 71ms/step - loss: 0.8007 - recall_5: 1.0000 - acc: 0.7500 - val_loss: 0.7989 - val_recall_5: 1.0000 - val_acc: 0.7468\n",
      "Epoch 15/50\n",
      "20/20 [==============================] - 1s 71ms/step - loss: 0.7978 - recall_5: 1.0000 - acc: 0.7500 - val_loss: 0.7945 - val_recall_5: 1.0000 - val_acc: 0.7468\n",
      "Epoch 16/50\n",
      "20/20 [==============================] - 1s 71ms/step - loss: 0.7960 - recall_5: 1.0000 - acc: 0.7500 - val_loss: 0.7905 - val_recall_5: 1.0000 - val_acc: 0.7468\n",
      "Epoch 17/50\n",
      "20/20 [==============================] - 1s 71ms/step - loss: 0.7879 - recall_5: 1.0000 - acc: 0.7500 - val_loss: 0.7868 - val_recall_5: 1.0000 - val_acc: 0.7468\n",
      "Epoch 18/50\n",
      "20/20 [==============================] - 1s 71ms/step - loss: 0.7853 - recall_5: 1.0000 - acc: 0.7500 - val_loss: 0.7835 - val_recall_5: 1.0000 - val_acc: 0.7468\n",
      "Epoch 19/50\n",
      "20/20 [==============================] - 1s 71ms/step - loss: 0.7808 - recall_5: 1.0000 - acc: 0.7500 - val_loss: 0.7804 - val_recall_5: 1.0000 - val_acc: 0.7468\n",
      "Epoch 20/50\n",
      "20/20 [==============================] - 1s 71ms/step - loss: 0.7804 - recall_5: 1.0000 - acc: 0.7500 - val_loss: 0.7776 - val_recall_5: 1.0000 - val_acc: 0.7468\n",
      "Epoch 21/50\n",
      "20/20 [==============================] - 1s 72ms/step - loss: 0.7795 - recall_5: 1.0000 - acc: 0.7500 - val_loss: 0.7750 - val_recall_5: 1.0000 - val_acc: 0.7468\n",
      "Epoch 22/50\n",
      "20/20 [==============================] - 1s 71ms/step - loss: 0.7754 - recall_5: 1.0000 - acc: 0.7500 - val_loss: 0.7726 - val_recall_5: 1.0000 - val_acc: 0.7468\n",
      "Epoch 23/50\n",
      "20/20 [==============================] - 1s 71ms/step - loss: 0.7713 - recall_5: 1.0000 - acc: 0.7500 - val_loss: 0.7703 - val_recall_5: 1.0000 - val_acc: 0.7468\n",
      "Epoch 24/50\n",
      "20/20 [==============================] - 1s 72ms/step - loss: 0.7682 - recall_5: 1.0000 - acc: 0.7500 - val_loss: 0.7682 - val_recall_5: 1.0000 - val_acc: 0.7468\n",
      "Epoch 25/50\n",
      "20/20 [==============================] - 1s 71ms/step - loss: 0.7698 - recall_5: 1.0000 - acc: 0.7500 - val_loss: 0.7662 - val_recall_5: 1.0000 - val_acc: 0.7468\n",
      "Epoch 26/50\n",
      "20/20 [==============================] - 1s 71ms/step - loss: 0.7628 - recall_5: 1.0000 - acc: 0.7500 - val_loss: 0.7644 - val_recall_5: 1.0000 - val_acc: 0.7468\n",
      "Epoch 27/50\n",
      "20/20 [==============================] - 1s 72ms/step - loss: 0.7611 - recall_5: 1.0000 - acc: 0.7500 - val_loss: 0.7627 - val_recall_5: 1.0000 - val_acc: 0.7468\n",
      "Epoch 28/50\n",
      "20/20 [==============================] - 1s 71ms/step - loss: 0.7607 - recall_5: 1.0000 - acc: 0.7500 - val_loss: 0.7611 - val_recall_5: 1.0000 - val_acc: 0.7468\n",
      "Epoch 29/50\n",
      "20/20 [==============================] - 2s 88ms/step - loss: 0.7581 - recall_5: 1.0000 - acc: 0.7500 - val_loss: 0.7596 - val_recall_5: 1.0000 - val_acc: 0.7468\n",
      "Epoch 30/50\n",
      "20/20 [==============================] - 2s 76ms/step - loss: 0.7583 - recall_5: 1.0000 - acc: 0.7500 - val_loss: 0.7582 - val_recall_5: 1.0000 - val_acc: 0.7468\n",
      "Epoch 31/50\n",
      "20/20 [==============================] - 1s 74ms/step - loss: 0.7566 - recall_5: 1.0000 - acc: 0.7500 - val_loss: 0.7568 - val_recall_5: 1.0000 - val_acc: 0.7468\n",
      "Epoch 32/50\n",
      "20/20 [==============================] - 1s 73ms/step - loss: 0.7558 - recall_5: 1.0000 - acc: 0.7500 - val_loss: 0.7555 - val_recall_5: 1.0000 - val_acc: 0.7468\n",
      "Epoch 33/50\n",
      "20/20 [==============================] - 1s 71ms/step - loss: 0.7541 - recall_5: 1.0000 - acc: 0.7500 - val_loss: 0.7542 - val_recall_5: 1.0000 - val_acc: 0.7468\n",
      "Epoch 34/50\n",
      "20/20 [==============================] - 1s 72ms/step - loss: 0.7558 - recall_5: 1.0000 - acc: 0.7500 - val_loss: 0.7530 - val_recall_5: 1.0000 - val_acc: 0.7468\n",
      "Epoch 35/50\n",
      "20/20 [==============================] - 2s 78ms/step - loss: 0.7487 - recall_5: 1.0000 - acc: 0.7500 - val_loss: 0.7518 - val_recall_5: 1.0000 - val_acc: 0.7468\n",
      "Epoch 36/50\n",
      "20/20 [==============================] - 2s 78ms/step - loss: 0.7513 - recall_5: 1.0000 - acc: 0.7500 - val_loss: 0.7508 - val_recall_5: 1.0000 - val_acc: 0.7468\n",
      "Epoch 37/50\n",
      "20/20 [==============================] - 2s 83ms/step - loss: 0.7446 - recall_5: 1.0000 - acc: 0.7500 - val_loss: 0.7497 - val_recall_5: 1.0000 - val_acc: 0.7468\n",
      "Epoch 38/50\n",
      "20/20 [==============================] - 2s 77ms/step - loss: 0.7500 - recall_5: 1.0000 - acc: 0.7500 - val_loss: 0.7487 - val_recall_5: 1.0000 - val_acc: 0.7468\n",
      "Epoch 39/50\n",
      "20/20 [==============================] - 2s 76ms/step - loss: 0.7487 - recall_5: 1.0000 - acc: 0.7500 - val_loss: 0.7477 - val_recall_5: 1.0000 - val_acc: 0.7468\n",
      "Epoch 40/50\n",
      "20/20 [==============================] - 2s 83ms/step - loss: 0.7442 - recall_5: 1.0000 - acc: 0.7500 - val_loss: 0.7467 - val_recall_5: 1.0000 - val_acc: 0.7468\n",
      "Epoch 41/50\n",
      "20/20 [==============================] - 1s 74ms/step - loss: 0.7413 - recall_5: 1.0000 - acc: 0.7500 - val_loss: 0.7457 - val_recall_5: 1.0000 - val_acc: 0.7468\n",
      "Epoch 42/50\n",
      "20/20 [==============================] - 1s 72ms/step - loss: 0.7425 - recall_5: 1.0000 - acc: 0.7500 - val_loss: 0.7448 - val_recall_5: 1.0000 - val_acc: 0.7468\n",
      "Epoch 43/50\n",
      "20/20 [==============================] - 1s 73ms/step - loss: 0.7448 - recall_5: 1.0000 - acc: 0.7500 - val_loss: 0.7438 - val_recall_5: 1.0000 - val_acc: 0.7468\n",
      "Epoch 44/50\n",
      "20/20 [==============================] - 1s 72ms/step - loss: 0.7428 - recall_5: 1.0000 - acc: 0.7500 - val_loss: 0.7429 - val_recall_5: 1.0000 - val_acc: 0.7468\n",
      "Epoch 45/50\n",
      "20/20 [==============================] - 1s 72ms/step - loss: 0.7436 - recall_5: 1.0000 - acc: 0.7500 - val_loss: 0.7420 - val_recall_5: 1.0000 - val_acc: 0.7468\n",
      "Epoch 46/50\n",
      "20/20 [==============================] - 1s 75ms/step - loss: 0.7443 - recall_5: 1.0000 - acc: 0.7500 - val_loss: 0.7409 - val_recall_5: 1.0000 - val_acc: 0.7468\n",
      "Epoch 47/50\n",
      "20/20 [==============================] - 1s 71ms/step - loss: 0.7359 - recall_5: 1.0000 - acc: 0.7500 - val_loss: 0.7400 - val_recall_5: 1.0000 - val_acc: 0.7468\n",
      "Epoch 48/50\n"
     ]
    },
    {
     "name": "stdout",
     "output_type": "stream",
     "text": [
      "20/20 [==============================] - 1s 71ms/step - loss: 0.7434 - recall_5: 1.0000 - acc: 0.7500 - val_loss: 0.7391 - val_recall_5: 1.0000 - val_acc: 0.7468\n",
      "Epoch 49/50\n",
      "20/20 [==============================] - 1s 72ms/step - loss: 0.7356 - recall_5: 1.0000 - acc: 0.7500 - val_loss: 0.7381 - val_recall_5: 1.0000 - val_acc: 0.7468\n",
      "Epoch 50/50\n",
      "20/20 [==============================] - 1s 72ms/step - loss: 0.7367 - recall_5: 1.0000 - acc: 0.7500 - val_loss: 0.7407 - val_recall_5: 1.0000 - val_acc: 0.7468\n"
     ]
    }
   ],
   "source": [
    "model6.compile(optimizer='sgd',\n",
    "              loss='binary_crossentropy',\n",
    "              metrics=[tf.keras.metrics.Recall(), 'acc'])\n",
    "\n",
    "results6 = model6.fit(X_train, \n",
    "                    y_train,\n",
    "                    callbacks=early_stopping,\n",
    "                    epochs=50,\n",
    "                    batch_size=32,\n",
    "                    validation_data=(X_val, y_val))"
   ]
  },
  {
   "cell_type": "code",
   "execution_count": 46,
   "metadata": {},
   "outputs": [
    {
     "name": "stdout",
     "output_type": "stream",
     "text": [
      "20/20 [==============================] - 0s 17ms/step - loss: 0.7377 - recall_5: 1.0000 - acc: 0.7500\n"
     ]
    }
   ],
   "source": [
    "results_train6 = model6.evaluate(X_train, y_train)"
   ]
  },
  {
   "cell_type": "code",
   "execution_count": 47,
   "metadata": {},
   "outputs": [
    {
     "name": "stdout",
     "output_type": "stream",
     "text": [
      "5/5 [==============================] - 0s 13ms/step - loss: 0.7407 - recall_5: 1.0000 - acc: 0.7468\n"
     ]
    }
   ],
   "source": [
    "results_val6 = model6.evaluate(X_val, y_val)"
   ]
  },
  {
   "cell_type": "code",
   "execution_count": 48,
   "metadata": {},
   "outputs": [
    {
     "data": {
      "image/png": "[encoded data removed]",
      "text/plain": [
       "<Figure size 432x288 with 1 Axes>"
      ]
     },
     "metadata": {
      "needs_background": "light"
     },
     "output_type": "display_data"
    }
   ],
   "source": [
    "visualize_results(results6)"
   ]
  },
  {
   "cell_type": "markdown",
   "metadata": {},
   "source": [
    "#### Dropout seems to increase variance in the training set compared to previous models. Will attempt using dropout with an increase in layer complexity, while using padding."
   ]
  },
  {
   "cell_type": "code",
   "execution_count": 49,
   "metadata": {},
   "outputs": [],
   "source": [
    "#introducing padding\n",
    "np.random.seed(42)\n",
    "model7 = models.Sequential()\n",
    "model7.add(layers.Conv2D(32, (3,3), activation='softmax',\n",
    "                        input_shape=(64, 64, 1), padding='same'))\n",
    "\n",
    "model7.add(layers.Flatten())\n",
    "model7.add(layers.Dense(42, activation='softmax'))\n",
    "model7.add(layers.Dropout(0.3))\n",
    "model7.add(layers.Dense(21, activation='softmax'))\n",
    "model7.add(layers.Dropout(0.3))\n",
    "model7.add(layers.Dense(1, activation='sigmoid'))"
   ]
  },
  {
   "cell_type": "code",
   "execution_count": 50,
   "metadata": {},
   "outputs": [
    {
     "name": "stdout",
     "output_type": "stream",
     "text": [
      "Epoch 1/50\n",
      "20/20 [==============================] - 2s 92ms/step - loss: 0.7125 - recall_6: 0.0295 - acc: 0.2627 - val_loss: 0.7041 - val_recall_6: 0.0000e+00 - val_acc: 0.2532\n",
      "Epoch 2/50\n",
      "20/20 [==============================] - 2s 82ms/step - loss: 0.6983 - recall_6: 0.2954 - acc: 0.3892 - val_loss: 0.6905 - val_recall_6: 1.0000 - val_acc: 0.7468\n",
      "Epoch 3/50\n",
      "20/20 [==============================] - 2s 83ms/step - loss: 0.6833 - recall_6: 0.8165 - acc: 0.6630 - val_loss: 0.6784 - val_recall_6: 1.0000 - val_acc: 0.7468\n",
      "Epoch 4/50\n",
      "20/20 [==============================] - 2s 84ms/step - loss: 0.6728 - recall_6: 0.9937 - acc: 0.7468 - val_loss: 0.6675 - val_recall_6: 1.0000 - val_acc: 0.7468\n",
      "Epoch 5/50\n",
      "20/20 [==============================] - 2s 83ms/step - loss: 0.6630 - recall_6: 1.0000 - acc: 0.7500 - val_loss: 0.6577 - val_recall_6: 1.0000 - val_acc: 0.7468\n",
      "Epoch 6/50\n",
      "20/20 [==============================] - 2s 82ms/step - loss: 0.6542 - recall_6: 1.0000 - acc: 0.7500 - val_loss: 0.6488 - val_recall_6: 1.0000 - val_acc: 0.7468\n",
      "Epoch 7/50\n",
      "20/20 [==============================] - 2s 80ms/step - loss: 0.6445 - recall_6: 1.0000 - acc: 0.7500 - val_loss: 0.6408 - val_recall_6: 1.0000 - val_acc: 0.7468\n",
      "Epoch 8/50\n",
      "20/20 [==============================] - 2s 81ms/step - loss: 0.6367 - recall_6: 1.0000 - acc: 0.7500 - val_loss: 0.6336 - val_recall_6: 1.0000 - val_acc: 0.7468\n",
      "Epoch 9/50\n",
      "20/20 [==============================] - 2s 80ms/step - loss: 0.6285 - recall_6: 1.0000 - acc: 0.7500 - val_loss: 0.6270 - val_recall_6: 1.0000 - val_acc: 0.7468\n",
      "Epoch 10/50\n",
      "20/20 [==============================] - 2s 81ms/step - loss: 0.6237 - recall_6: 1.0000 - acc: 0.7500 - val_loss: 0.6211 - val_recall_6: 1.0000 - val_acc: 0.7468\n",
      "Epoch 11/50\n",
      "20/20 [==============================] - 2s 81ms/step - loss: 0.6179 - recall_6: 1.0000 - acc: 0.7500 - val_loss: 0.6157 - val_recall_6: 1.0000 - val_acc: 0.7468\n",
      "Epoch 12/50\n",
      "20/20 [==============================] - 2s 80ms/step - loss: 0.6118 - recall_6: 1.0000 - acc: 0.7500 - val_loss: 0.6110 - val_recall_6: 1.0000 - val_acc: 0.7468\n",
      "Epoch 13/50\n",
      "20/20 [==============================] - 2s 81ms/step - loss: 0.6076 - recall_6: 1.0000 - acc: 0.7500 - val_loss: 0.6065 - val_recall_6: 1.0000 - val_acc: 0.7468\n",
      "Epoch 14/50\n",
      "20/20 [==============================] - 2s 81ms/step - loss: 0.6028 - recall_6: 1.0000 - acc: 0.7500 - val_loss: 0.6024 - val_recall_6: 1.0000 - val_acc: 0.7468\n",
      "Epoch 15/50\n",
      "20/20 [==============================] - 2s 81ms/step - loss: 0.6003 - recall_6: 1.0000 - acc: 0.7500 - val_loss: 0.5989 - val_recall_6: 1.0000 - val_acc: 0.7468\n",
      "Epoch 16/50\n",
      "20/20 [==============================] - 2s 81ms/step - loss: 0.5958 - recall_6: 1.0000 - acc: 0.7500 - val_loss: 0.5957 - val_recall_6: 1.0000 - val_acc: 0.7468\n",
      "Epoch 17/50\n",
      "20/20 [==============================] - 2s 80ms/step - loss: 0.5933 - recall_6: 1.0000 - acc: 0.7500 - val_loss: 0.5929 - val_recall_6: 1.0000 - val_acc: 0.7468\n",
      "Epoch 18/50\n",
      "20/20 [==============================] - 2s 80ms/step - loss: 0.5899 - recall_6: 1.0000 - acc: 0.7500 - val_loss: 0.5904 - val_recall_6: 1.0000 - val_acc: 0.7468\n",
      "Epoch 19/50\n",
      "20/20 [==============================] - 2s 81ms/step - loss: 0.5891 - recall_6: 1.0000 - acc: 0.7500 - val_loss: 0.5881 - val_recall_6: 1.0000 - val_acc: 0.7468\n",
      "Epoch 20/50\n",
      "20/20 [==============================] - 2s 81ms/step - loss: 0.5854 - recall_6: 1.0000 - acc: 0.7500 - val_loss: 0.5861 - val_recall_6: 1.0000 - val_acc: 0.7468\n",
      "Epoch 21/50\n",
      "20/20 [==============================] - 2s 81ms/step - loss: 0.5846 - recall_6: 1.0000 - acc: 0.7500 - val_loss: 0.5843 - val_recall_6: 1.0000 - val_acc: 0.7468\n",
      "Epoch 22/50\n",
      "20/20 [==============================] - 2s 80ms/step - loss: 0.5813 - recall_6: 1.0000 - acc: 0.7500 - val_loss: 0.5826 - val_recall_6: 1.0000 - val_acc: 0.7468\n",
      "Epoch 23/50\n",
      "20/20 [==============================] - 2s 80ms/step - loss: 0.5784 - recall_6: 1.0000 - acc: 0.7500 - val_loss: 0.5810 - val_recall_6: 1.0000 - val_acc: 0.7468\n",
      "Epoch 24/50\n",
      "20/20 [==============================] - 2s 79ms/step - loss: 0.5792 - recall_6: 1.0000 - acc: 0.7500 - val_loss: 0.5796 - val_recall_6: 1.0000 - val_acc: 0.7468\n",
      "Epoch 25/50\n",
      "20/20 [==============================] - 2s 80ms/step - loss: 0.5764 - recall_6: 1.0000 - acc: 0.7500 - val_loss: 0.5784 - val_recall_6: 1.0000 - val_acc: 0.7468\n",
      "Epoch 26/50\n",
      "20/20 [==============================] - 2s 80ms/step - loss: 0.5757 - recall_6: 1.0000 - acc: 0.7500 - val_loss: 0.5773 - val_recall_6: 1.0000 - val_acc: 0.7468\n",
      "Epoch 27/50\n",
      "20/20 [==============================] - 2s 81ms/step - loss: 0.5738 - recall_6: 1.0000 - acc: 0.7500 - val_loss: 0.5762 - val_recall_6: 1.0000 - val_acc: 0.7468\n",
      "Epoch 28/50\n",
      "20/20 [==============================] - 2s 80ms/step - loss: 0.5729 - recall_6: 1.0000 - acc: 0.7500 - val_loss: 0.5753 - val_recall_6: 1.0000 - val_acc: 0.7468\n",
      "Epoch 29/50\n",
      "20/20 [==============================] - 2s 80ms/step - loss: 0.5731 - recall_6: 1.0000 - acc: 0.7500 - val_loss: 0.5745 - val_recall_6: 1.0000 - val_acc: 0.7468\n",
      "Epoch 30/50\n",
      "20/20 [==============================] - 2s 81ms/step - loss: 0.5723 - recall_6: 1.0000 - acc: 0.7500 - val_loss: 0.5737 - val_recall_6: 1.0000 - val_acc: 0.7468\n",
      "Epoch 31/50\n",
      "20/20 [==============================] - 2s 83ms/step - loss: 0.5715 - recall_6: 1.0000 - acc: 0.7500 - val_loss: 0.5730 - val_recall_6: 1.0000 - val_acc: 0.7468\n",
      "Epoch 32/50\n",
      "20/20 [==============================] - 2s 81ms/step - loss: 0.5703 - recall_6: 1.0000 - acc: 0.7500 - val_loss: 0.5723 - val_recall_6: 1.0000 - val_acc: 0.7468\n",
      "Epoch 33/50\n",
      "20/20 [==============================] - 2s 82ms/step - loss: 0.5713 - recall_6: 1.0000 - acc: 0.7500 - val_loss: 0.5718 - val_recall_6: 1.0000 - val_acc: 0.7468\n",
      "Epoch 34/50\n",
      "20/20 [==============================] - 2s 80ms/step - loss: 0.5688 - recall_6: 1.0000 - acc: 0.7500 - val_loss: 0.5712 - val_recall_6: 1.0000 - val_acc: 0.7468\n",
      "Epoch 35/50\n",
      "20/20 [==============================] - 2s 80ms/step - loss: 0.5691 - recall_6: 1.0000 - acc: 0.7500 - val_loss: 0.5707 - val_recall_6: 1.0000 - val_acc: 0.7468\n",
      "Epoch 36/50\n",
      "20/20 [==============================] - 2s 81ms/step - loss: 0.5680 - recall_6: 1.0000 - acc: 0.7500 - val_loss: 0.5703 - val_recall_6: 1.0000 - val_acc: 0.7468\n",
      "Epoch 37/50\n",
      "20/20 [==============================] - 2s 81ms/step - loss: 0.5664 - recall_6: 1.0000 - acc: 0.7500 - val_loss: 0.5698 - val_recall_6: 1.0000 - val_acc: 0.7468\n",
      "Epoch 38/50\n",
      "20/20 [==============================] - 2s 80ms/step - loss: 0.5670 - recall_6: 1.0000 - acc: 0.7500 - val_loss: 0.5695 - val_recall_6: 1.0000 - val_acc: 0.7468\n",
      "Epoch 39/50\n",
      "20/20 [==============================] - 2s 80ms/step - loss: 0.5681 - recall_6: 1.0000 - acc: 0.7500 - val_loss: 0.5692 - val_recall_6: 1.0000 - val_acc: 0.7468\n",
      "Epoch 40/50\n",
      "20/20 [==============================] - 2s 81ms/step - loss: 0.5653 - recall_6: 1.0000 - acc: 0.7500 - val_loss: 0.5689 - val_recall_6: 1.0000 - val_acc: 0.7468\n",
      "Epoch 41/50\n",
      "20/20 [==============================] - 2s 80ms/step - loss: 0.5675 - recall_6: 1.0000 - acc: 0.7500 - val_loss: 0.5686 - val_recall_6: 1.0000 - val_acc: 0.7468\n",
      "Epoch 42/50\n",
      "20/20 [==============================] - 2s 81ms/step - loss: 0.5656 - recall_6: 1.0000 - acc: 0.7500 - val_loss: 0.5683 - val_recall_6: 1.0000 - val_acc: 0.7468\n",
      "Epoch 43/50\n",
      "20/20 [==============================] - 2s 80ms/step - loss: 0.5657 - recall_6: 1.0000 - acc: 0.7500 - val_loss: 0.5681 - val_recall_6: 1.0000 - val_acc: 0.7468\n",
      "Epoch 44/50\n",
      "20/20 [==============================] - 2s 80ms/step - loss: 0.5658 - recall_6: 1.0000 - acc: 0.7500 - val_loss: 0.5679 - val_recall_6: 1.0000 - val_acc: 0.7468\n",
      "Epoch 45/50\n",
      "20/20 [==============================] - 2s 81ms/step - loss: 0.5654 - recall_6: 1.0000 - acc: 0.7500 - val_loss: 0.5677 - val_recall_6: 1.0000 - val_acc: 0.7468\n",
      "Epoch 46/50\n",
      "20/20 [==============================] - 2s 81ms/step - loss: 0.5651 - recall_6: 1.0000 - acc: 0.7500 - val_loss: 0.5675 - val_recall_6: 1.0000 - val_acc: 0.7468\n",
      "Epoch 47/50\n",
      "20/20 [==============================] - 2s 88ms/step - loss: 0.5649 - recall_6: 1.0000 - acc: 0.7500 - val_loss: 0.5673 - val_recall_6: 1.0000 - val_acc: 0.7468\n",
      "Epoch 48/50\n"
     ]
    },
    {
     "name": "stdout",
     "output_type": "stream",
     "text": [
      "20/20 [==============================] - 2s 79ms/step - loss: 0.5655 - recall_6: 1.0000 - acc: 0.7500 - val_loss: 0.5672 - val_recall_6: 1.0000 - val_acc: 0.7468\n",
      "Epoch 49/50\n",
      "20/20 [==============================] - 2s 83ms/step - loss: 0.5631 - recall_6: 1.0000 - acc: 0.7500 - val_loss: 0.5670 - val_recall_6: 1.0000 - val_acc: 0.7468\n",
      "Epoch 50/50\n",
      "20/20 [==============================] - 2s 81ms/step - loss: 0.5654 - recall_6: 1.0000 - acc: 0.7500 - val_loss: 0.5669 - val_recall_6: 1.0000 - val_acc: 0.7468\n"
     ]
    }
   ],
   "source": [
    "model7.compile(optimizer='sgd',\n",
    "              loss='binary_crossentropy',\n",
    "              metrics=[tf.keras.metrics.Recall(), 'acc'])\n",
    "\n",
    "results7 = model7.fit(X_train, \n",
    "                    y_train,\n",
    "                    callbacks=early_stopping,\n",
    "                    epochs=50,\n",
    "                    batch_size=32,\n",
    "                    validation_data=(X_val, y_val))"
   ]
  },
  {
   "cell_type": "code",
   "execution_count": 51,
   "metadata": {},
   "outputs": [
    {
     "data": {
      "image/png": "[encoded data removed]",
      "text/plain": [
       "<Figure size 432x288 with 1 Axes>"
      ]
     },
     "metadata": {
      "needs_background": "light"
     },
     "output_type": "display_data"
    }
   ],
   "source": [
    "visualize_results(results7)"
   ]
  },
  {
   "cell_type": "markdown",
   "metadata": {},
   "source": [
    "## Summary: \n",
    "#### After attempting regularization and dropout, model 3 consistently outperforms subsequent models due to have the lowest variance and loss for both train and validation sets. Despite this, the accuracy of these models are still very low and are no better than the dummy model. Taken together, it doesn't seem like softmax is a good activation function for predictions with this model. "
   ]
  }
 ],
 "metadata": {
  "kernelspec": {
   "display_name": "Python 3",
   "language": "python",
   "name": "python3"
  },
  "language_info": {
   "codemirror_mode": {
    "name": "ipython",
    "version": 3
   },
   "file_extension": ".py",
   "mimetype": "text/x-python",
   "name": "python",
   "nbconvert_exporter": "python",
   "pygments_lexer": "ipython3",
   "version": "3.8.5"
  }
 },
 "nbformat": 4,
 "nbformat_minor": 4
}
